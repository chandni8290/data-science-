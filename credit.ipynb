{
 "cells": [
  {
   "cell_type": "code",
   "execution_count": 13,
   "id": "86571d72",
   "metadata": {},
   "outputs": [],
   "source": [
    "import pandas as pd"
   ]
  },
  {
   "cell_type": "code",
   "execution_count": null,
   "id": "bab2b6ea",
   "metadata": {},
   "outputs": [],
   "source": [
    "df =pd.read_csv( 'Credit(1).csv')"
   ]
  },
  {
   "cell_type": "code",
   "execution_count": 16,
   "id": "1f74f18f",
   "metadata": {},
   "outputs": [],
   "source": [
    "df =pd.read_csv(r'C:\\Users\\chand\\OneDrive\\Desktop\\Data science\\data-science-ai-and-ml\\projects\\credit\\Credit (1).csv')"
   ]
  },
  {
   "cell_type": "code",
   "execution_count": 17,
   "id": "5e8fdf0b",
   "metadata": {},
   "outputs": [
    {
     "name": "stdout",
     "output_type": "stream",
     "text": [
      "<class 'pandas.core.frame.DataFrame'>\n",
      "RangeIndex: 4521 entries, 0 to 4520\n",
      "Data columns (total 9 columns):\n",
      " #   Column     Non-Null Count  Dtype  \n",
      "---  ------     --------------  -----  \n",
      " 0   age        4519 non-null   float64\n",
      " 1   job        4515 non-null   object \n",
      " 2   marital    4518 non-null   object \n",
      " 3   education  4517 non-null   object \n",
      " 4   balance    4521 non-null   int64  \n",
      " 5   housing    4518 non-null   object \n",
      " 6   duration   4519 non-null   float64\n",
      " 7   campaign   4521 non-null   int64  \n",
      " 8   approval   4521 non-null   object \n",
      "dtypes: float64(2), int64(2), object(5)\n",
      "memory usage: 318.0+ KB\n"
     ]
    }
   ],
   "source": [
    "df.info()"
   ]
  },
  {
   "cell_type": "code",
   "execution_count": 18,
   "id": "b9578d7c",
   "metadata": {},
   "outputs": [
    {
     "data": {
      "application/vnd.microsoft.datawrangler.viewer.v0+json": {
       "columns": [
        {
         "name": "index",
         "rawType": "int64",
         "type": "integer"
        },
        {
         "name": "age",
         "rawType": "float64",
         "type": "float"
        },
        {
         "name": "job",
         "rawType": "object",
         "type": "string"
        },
        {
         "name": "marital",
         "rawType": "object",
         "type": "string"
        },
        {
         "name": "education",
         "rawType": "object",
         "type": "string"
        },
        {
         "name": "balance",
         "rawType": "int64",
         "type": "integer"
        },
        {
         "name": "housing",
         "rawType": "object",
         "type": "string"
        },
        {
         "name": "duration",
         "rawType": "float64",
         "type": "float"
        },
        {
         "name": "campaign",
         "rawType": "int64",
         "type": "integer"
        },
        {
         "name": "approval",
         "rawType": "object",
         "type": "string"
        }
       ],
       "ref": "5bd7476f-f89f-4c22-be3c-5ad0e3dafdf9",
       "rows": [
        [
         "0",
         "30.0",
         "unemployed",
         "married",
         "primary",
         "1787",
         "no",
         "79.0",
         "1",
         "no"
        ],
        [
         "1",
         "33.0",
         "services",
         "married",
         "secondary",
         "4789",
         "yes",
         "220.0",
         "1",
         "no"
        ],
        [
         "2",
         "35.0",
         "management",
         "single",
         "tertiary",
         "1350",
         "yes",
         "185.0",
         "1",
         "no"
        ],
        [
         "3",
         "30.0",
         "management",
         "married",
         "tertiary",
         "1476",
         "yes",
         "199.0",
         "4",
         "no"
        ],
        [
         "4",
         "59.0",
         "blue-collar",
         "married",
         "secondary",
         "0",
         "yes",
         "226.0",
         "1",
         "no"
        ],
        [
         "5",
         "35.0",
         "management",
         "single",
         "tertiary",
         "747",
         "no",
         "141.0",
         "2",
         "no"
        ],
        [
         "6",
         "36.0",
         "self-employed",
         "married",
         "tertiary",
         "307",
         "yes",
         "341.0",
         "1",
         "no"
        ],
        [
         "7",
         "39.0",
         "technician",
         "married",
         "secondary",
         "147",
         "yes",
         "151.0",
         "2",
         "no"
        ],
        [
         "8",
         "41.0",
         "entrepreneur",
         "married",
         "tertiary",
         "221",
         "yes",
         "57.0",
         "2",
         "no"
        ],
        [
         "9",
         "43.0",
         "services",
         "married",
         "primary",
         "-88",
         "yes",
         "313.0",
         "1",
         "no"
        ]
       ],
       "shape": {
        "columns": 9,
        "rows": 10
       }
      },
      "text/html": [
       "<div>\n",
       "<style scoped>\n",
       "    .dataframe tbody tr th:only-of-type {\n",
       "        vertical-align: middle;\n",
       "    }\n",
       "\n",
       "    .dataframe tbody tr th {\n",
       "        vertical-align: top;\n",
       "    }\n",
       "\n",
       "    .dataframe thead th {\n",
       "        text-align: right;\n",
       "    }\n",
       "</style>\n",
       "<table border=\"1\" class=\"dataframe\">\n",
       "  <thead>\n",
       "    <tr style=\"text-align: right;\">\n",
       "      <th></th>\n",
       "      <th>age</th>\n",
       "      <th>job</th>\n",
       "      <th>marital</th>\n",
       "      <th>education</th>\n",
       "      <th>balance</th>\n",
       "      <th>housing</th>\n",
       "      <th>duration</th>\n",
       "      <th>campaign</th>\n",
       "      <th>approval</th>\n",
       "    </tr>\n",
       "  </thead>\n",
       "  <tbody>\n",
       "    <tr>\n",
       "      <th>0</th>\n",
       "      <td>30.0</td>\n",
       "      <td>unemployed</td>\n",
       "      <td>married</td>\n",
       "      <td>primary</td>\n",
       "      <td>1787</td>\n",
       "      <td>no</td>\n",
       "      <td>79.0</td>\n",
       "      <td>1</td>\n",
       "      <td>no</td>\n",
       "    </tr>\n",
       "    <tr>\n",
       "      <th>1</th>\n",
       "      <td>33.0</td>\n",
       "      <td>services</td>\n",
       "      <td>married</td>\n",
       "      <td>secondary</td>\n",
       "      <td>4789</td>\n",
       "      <td>yes</td>\n",
       "      <td>220.0</td>\n",
       "      <td>1</td>\n",
       "      <td>no</td>\n",
       "    </tr>\n",
       "    <tr>\n",
       "      <th>2</th>\n",
       "      <td>35.0</td>\n",
       "      <td>management</td>\n",
       "      <td>single</td>\n",
       "      <td>tertiary</td>\n",
       "      <td>1350</td>\n",
       "      <td>yes</td>\n",
       "      <td>185.0</td>\n",
       "      <td>1</td>\n",
       "      <td>no</td>\n",
       "    </tr>\n",
       "    <tr>\n",
       "      <th>3</th>\n",
       "      <td>30.0</td>\n",
       "      <td>management</td>\n",
       "      <td>married</td>\n",
       "      <td>tertiary</td>\n",
       "      <td>1476</td>\n",
       "      <td>yes</td>\n",
       "      <td>199.0</td>\n",
       "      <td>4</td>\n",
       "      <td>no</td>\n",
       "    </tr>\n",
       "    <tr>\n",
       "      <th>4</th>\n",
       "      <td>59.0</td>\n",
       "      <td>blue-collar</td>\n",
       "      <td>married</td>\n",
       "      <td>secondary</td>\n",
       "      <td>0</td>\n",
       "      <td>yes</td>\n",
       "      <td>226.0</td>\n",
       "      <td>1</td>\n",
       "      <td>no</td>\n",
       "    </tr>\n",
       "    <tr>\n",
       "      <th>5</th>\n",
       "      <td>35.0</td>\n",
       "      <td>management</td>\n",
       "      <td>single</td>\n",
       "      <td>tertiary</td>\n",
       "      <td>747</td>\n",
       "      <td>no</td>\n",
       "      <td>141.0</td>\n",
       "      <td>2</td>\n",
       "      <td>no</td>\n",
       "    </tr>\n",
       "    <tr>\n",
       "      <th>6</th>\n",
       "      <td>36.0</td>\n",
       "      <td>self-employed</td>\n",
       "      <td>married</td>\n",
       "      <td>tertiary</td>\n",
       "      <td>307</td>\n",
       "      <td>yes</td>\n",
       "      <td>341.0</td>\n",
       "      <td>1</td>\n",
       "      <td>no</td>\n",
       "    </tr>\n",
       "    <tr>\n",
       "      <th>7</th>\n",
       "      <td>39.0</td>\n",
       "      <td>technician</td>\n",
       "      <td>married</td>\n",
       "      <td>secondary</td>\n",
       "      <td>147</td>\n",
       "      <td>yes</td>\n",
       "      <td>151.0</td>\n",
       "      <td>2</td>\n",
       "      <td>no</td>\n",
       "    </tr>\n",
       "    <tr>\n",
       "      <th>8</th>\n",
       "      <td>41.0</td>\n",
       "      <td>entrepreneur</td>\n",
       "      <td>married</td>\n",
       "      <td>tertiary</td>\n",
       "      <td>221</td>\n",
       "      <td>yes</td>\n",
       "      <td>57.0</td>\n",
       "      <td>2</td>\n",
       "      <td>no</td>\n",
       "    </tr>\n",
       "    <tr>\n",
       "      <th>9</th>\n",
       "      <td>43.0</td>\n",
       "      <td>services</td>\n",
       "      <td>married</td>\n",
       "      <td>primary</td>\n",
       "      <td>-88</td>\n",
       "      <td>yes</td>\n",
       "      <td>313.0</td>\n",
       "      <td>1</td>\n",
       "      <td>no</td>\n",
       "    </tr>\n",
       "  </tbody>\n",
       "</table>\n",
       "</div>"
      ],
      "text/plain": [
       "    age            job  marital  education  balance housing  duration  \\\n",
       "0  30.0     unemployed  married    primary     1787      no      79.0   \n",
       "1  33.0       services  married  secondary     4789     yes     220.0   \n",
       "2  35.0     management   single   tertiary     1350     yes     185.0   \n",
       "3  30.0     management  married   tertiary     1476     yes     199.0   \n",
       "4  59.0    blue-collar  married  secondary        0     yes     226.0   \n",
       "5  35.0     management   single   tertiary      747      no     141.0   \n",
       "6  36.0  self-employed  married   tertiary      307     yes     341.0   \n",
       "7  39.0     technician  married  secondary      147     yes     151.0   \n",
       "8  41.0   entrepreneur  married   tertiary      221     yes      57.0   \n",
       "9  43.0       services  married    primary      -88     yes     313.0   \n",
       "\n",
       "   campaign approval  \n",
       "0         1       no  \n",
       "1         1       no  \n",
       "2         1       no  \n",
       "3         4       no  \n",
       "4         1       no  \n",
       "5         2       no  \n",
       "6         1       no  \n",
       "7         2       no  \n",
       "8         2       no  \n",
       "9         1       no  "
      ]
     },
     "execution_count": 18,
     "metadata": {},
     "output_type": "execute_result"
    }
   ],
   "source": [
    "df.head(10)"
   ]
  },
  {
   "cell_type": "code",
   "execution_count": 19,
   "id": "e38a2fa4",
   "metadata": {},
   "outputs": [
    {
     "data": {
      "application/vnd.microsoft.datawrangler.viewer.v0+json": {
       "columns": [
        {
         "name": "index",
         "rawType": "int64",
         "type": "integer"
        },
        {
         "name": "age",
         "rawType": "float64",
         "type": "float"
        },
        {
         "name": "job",
         "rawType": "object",
         "type": "string"
        },
        {
         "name": "marital",
         "rawType": "object",
         "type": "string"
        },
        {
         "name": "education",
         "rawType": "object",
         "type": "string"
        },
        {
         "name": "balance",
         "rawType": "int64",
         "type": "integer"
        },
        {
         "name": "housing",
         "rawType": "object",
         "type": "string"
        },
        {
         "name": "duration",
         "rawType": "float64",
         "type": "float"
        },
        {
         "name": "campaign",
         "rawType": "int64",
         "type": "integer"
        },
        {
         "name": "approval",
         "rawType": "object",
         "type": "string"
        }
       ],
       "ref": "50dfe44a-7b2e-49e7-8039-89d63402082d",
       "rows": [
        [
         "4511",
         "46.0",
         "blue-collar",
         "married",
         "secondary",
         "668",
         "yes",
         "1263.0",
         "2",
         "yes"
        ],
        [
         "4512",
         "40.0",
         "blue-collar",
         "married",
         "secondary",
         "1100",
         "yes",
         "660.0",
         "2",
         "no"
        ],
        [
         "4513",
         "49.0",
         "blue-collar",
         "married",
         "secondary",
         "322",
         "no",
         "356.0",
         "2",
         "no"
        ],
        [
         "4514",
         "38.0",
         "blue-collar",
         "married",
         "secondary",
         "1205",
         "yes",
         "45.0",
         "4",
         "no"
        ],
        [
         "4515",
         "32.0",
         "services",
         "single",
         "secondary",
         "473",
         "yes",
         "624.0",
         "5",
         "no"
        ],
        [
         "4516",
         "99.0",
         "services",
         "married",
         "secondary",
         "-333",
         "yes",
         "329.0",
         "5",
         "no"
        ],
        [
         "4517",
         "57.0",
         "self-employed",
         "married",
         "tertiary",
         "-3313",
         "yes",
         "-153.0",
         "1",
         "no"
        ],
        [
         "4518",
         "57.0",
         "technician",
         "married",
         "secondary",
         "295",
         "no",
         "151.0",
         "11",
         "no"
        ],
        [
         "4519",
         "28.0",
         "blue-collar",
         "married",
         "secondary",
         "1137",
         "no",
         "129.0",
         "4",
         "no"
        ],
        [
         "4520",
         "44.0",
         "entrepreneur",
         "single",
         "tertiary",
         "1136",
         "yes",
         "345.0",
         "2",
         "no"
        ]
       ],
       "shape": {
        "columns": 9,
        "rows": 10
       }
      },
      "text/html": [
       "<div>\n",
       "<style scoped>\n",
       "    .dataframe tbody tr th:only-of-type {\n",
       "        vertical-align: middle;\n",
       "    }\n",
       "\n",
       "    .dataframe tbody tr th {\n",
       "        vertical-align: top;\n",
       "    }\n",
       "\n",
       "    .dataframe thead th {\n",
       "        text-align: right;\n",
       "    }\n",
       "</style>\n",
       "<table border=\"1\" class=\"dataframe\">\n",
       "  <thead>\n",
       "    <tr style=\"text-align: right;\">\n",
       "      <th></th>\n",
       "      <th>age</th>\n",
       "      <th>job</th>\n",
       "      <th>marital</th>\n",
       "      <th>education</th>\n",
       "      <th>balance</th>\n",
       "      <th>housing</th>\n",
       "      <th>duration</th>\n",
       "      <th>campaign</th>\n",
       "      <th>approval</th>\n",
       "    </tr>\n",
       "  </thead>\n",
       "  <tbody>\n",
       "    <tr>\n",
       "      <th>4511</th>\n",
       "      <td>46.0</td>\n",
       "      <td>blue-collar</td>\n",
       "      <td>married</td>\n",
       "      <td>secondary</td>\n",
       "      <td>668</td>\n",
       "      <td>yes</td>\n",
       "      <td>1263.0</td>\n",
       "      <td>2</td>\n",
       "      <td>yes</td>\n",
       "    </tr>\n",
       "    <tr>\n",
       "      <th>4512</th>\n",
       "      <td>40.0</td>\n",
       "      <td>blue-collar</td>\n",
       "      <td>married</td>\n",
       "      <td>secondary</td>\n",
       "      <td>1100</td>\n",
       "      <td>yes</td>\n",
       "      <td>660.0</td>\n",
       "      <td>2</td>\n",
       "      <td>no</td>\n",
       "    </tr>\n",
       "    <tr>\n",
       "      <th>4513</th>\n",
       "      <td>49.0</td>\n",
       "      <td>blue-collar</td>\n",
       "      <td>married</td>\n",
       "      <td>secondary</td>\n",
       "      <td>322</td>\n",
       "      <td>no</td>\n",
       "      <td>356.0</td>\n",
       "      <td>2</td>\n",
       "      <td>no</td>\n",
       "    </tr>\n",
       "    <tr>\n",
       "      <th>4514</th>\n",
       "      <td>38.0</td>\n",
       "      <td>blue-collar</td>\n",
       "      <td>married</td>\n",
       "      <td>secondary</td>\n",
       "      <td>1205</td>\n",
       "      <td>yes</td>\n",
       "      <td>45.0</td>\n",
       "      <td>4</td>\n",
       "      <td>no</td>\n",
       "    </tr>\n",
       "    <tr>\n",
       "      <th>4515</th>\n",
       "      <td>32.0</td>\n",
       "      <td>services</td>\n",
       "      <td>single</td>\n",
       "      <td>secondary</td>\n",
       "      <td>473</td>\n",
       "      <td>yes</td>\n",
       "      <td>624.0</td>\n",
       "      <td>5</td>\n",
       "      <td>no</td>\n",
       "    </tr>\n",
       "    <tr>\n",
       "      <th>4516</th>\n",
       "      <td>99.0</td>\n",
       "      <td>services</td>\n",
       "      <td>married</td>\n",
       "      <td>secondary</td>\n",
       "      <td>-333</td>\n",
       "      <td>yes</td>\n",
       "      <td>329.0</td>\n",
       "      <td>5</td>\n",
       "      <td>no</td>\n",
       "    </tr>\n",
       "    <tr>\n",
       "      <th>4517</th>\n",
       "      <td>57.0</td>\n",
       "      <td>self-employed</td>\n",
       "      <td>married</td>\n",
       "      <td>tertiary</td>\n",
       "      <td>-3313</td>\n",
       "      <td>yes</td>\n",
       "      <td>-153.0</td>\n",
       "      <td>1</td>\n",
       "      <td>no</td>\n",
       "    </tr>\n",
       "    <tr>\n",
       "      <th>4518</th>\n",
       "      <td>57.0</td>\n",
       "      <td>technician</td>\n",
       "      <td>married</td>\n",
       "      <td>secondary</td>\n",
       "      <td>295</td>\n",
       "      <td>no</td>\n",
       "      <td>151.0</td>\n",
       "      <td>11</td>\n",
       "      <td>no</td>\n",
       "    </tr>\n",
       "    <tr>\n",
       "      <th>4519</th>\n",
       "      <td>28.0</td>\n",
       "      <td>blue-collar</td>\n",
       "      <td>married</td>\n",
       "      <td>secondary</td>\n",
       "      <td>1137</td>\n",
       "      <td>no</td>\n",
       "      <td>129.0</td>\n",
       "      <td>4</td>\n",
       "      <td>no</td>\n",
       "    </tr>\n",
       "    <tr>\n",
       "      <th>4520</th>\n",
       "      <td>44.0</td>\n",
       "      <td>entrepreneur</td>\n",
       "      <td>single</td>\n",
       "      <td>tertiary</td>\n",
       "      <td>1136</td>\n",
       "      <td>yes</td>\n",
       "      <td>345.0</td>\n",
       "      <td>2</td>\n",
       "      <td>no</td>\n",
       "    </tr>\n",
       "  </tbody>\n",
       "</table>\n",
       "</div>"
      ],
      "text/plain": [
       "       age            job  marital  education  balance housing  duration  \\\n",
       "4511  46.0    blue-collar  married  secondary      668     yes    1263.0   \n",
       "4512  40.0    blue-collar  married  secondary     1100     yes     660.0   \n",
       "4513  49.0    blue-collar  married  secondary      322      no     356.0   \n",
       "4514  38.0    blue-collar  married  secondary     1205     yes      45.0   \n",
       "4515  32.0       services   single  secondary      473     yes     624.0   \n",
       "4516  99.0       services  married  secondary     -333     yes     329.0   \n",
       "4517  57.0  self-employed  married   tertiary    -3313     yes    -153.0   \n",
       "4518  57.0     technician  married  secondary      295      no     151.0   \n",
       "4519  28.0    blue-collar  married  secondary     1137      no     129.0   \n",
       "4520  44.0   entrepreneur   single   tertiary     1136     yes     345.0   \n",
       "\n",
       "      campaign approval  \n",
       "4511         2      yes  \n",
       "4512         2       no  \n",
       "4513         2       no  \n",
       "4514         4       no  \n",
       "4515         5       no  \n",
       "4516         5       no  \n",
       "4517         1       no  \n",
       "4518        11       no  \n",
       "4519         4       no  \n",
       "4520         2       no  "
      ]
     },
     "execution_count": 19,
     "metadata": {},
     "output_type": "execute_result"
    }
   ],
   "source": [
    "df.tail(10)"
   ]
  },
  {
   "cell_type": "code",
   "execution_count": 20,
   "id": "0558ae10",
   "metadata": {},
   "outputs": [
    {
     "data": {
      "application/vnd.microsoft.datawrangler.viewer.v0+json": {
       "columns": [
        {
         "name": "index",
         "rawType": "int64",
         "type": "integer"
        },
        {
         "name": "0",
         "rawType": "bool",
         "type": "boolean"
        }
       ],
       "ref": "17817c9e-759b-4ad3-bc20-68612331cb03",
       "rows": [
        [
         "0",
         "False"
        ],
        [
         "1",
         "False"
        ],
        [
         "2",
         "False"
        ],
        [
         "3",
         "False"
        ],
        [
         "4",
         "False"
        ],
        [
         "5",
         "False"
        ],
        [
         "6",
         "False"
        ],
        [
         "7",
         "False"
        ],
        [
         "8",
         "False"
        ],
        [
         "9",
         "False"
        ],
        [
         "10",
         "False"
        ],
        [
         "11",
         "False"
        ],
        [
         "12",
         "False"
        ],
        [
         "13",
         "False"
        ],
        [
         "14",
         "False"
        ],
        [
         "15",
         "False"
        ],
        [
         "16",
         "False"
        ],
        [
         "17",
         "False"
        ],
        [
         "18",
         "False"
        ],
        [
         "19",
         "False"
        ],
        [
         "20",
         "False"
        ],
        [
         "21",
         "False"
        ],
        [
         "22",
         "False"
        ],
        [
         "23",
         "False"
        ],
        [
         "24",
         "False"
        ],
        [
         "25",
         "False"
        ],
        [
         "26",
         "False"
        ],
        [
         "27",
         "False"
        ],
        [
         "28",
         "False"
        ],
        [
         "29",
         "False"
        ],
        [
         "30",
         "False"
        ],
        [
         "31",
         "False"
        ],
        [
         "32",
         "False"
        ],
        [
         "33",
         "False"
        ],
        [
         "34",
         "False"
        ],
        [
         "35",
         "False"
        ],
        [
         "36",
         "False"
        ],
        [
         "37",
         "False"
        ],
        [
         "38",
         "False"
        ],
        [
         "39",
         "False"
        ],
        [
         "40",
         "False"
        ],
        [
         "41",
         "False"
        ],
        [
         "42",
         "False"
        ],
        [
         "43",
         "False"
        ],
        [
         "44",
         "False"
        ],
        [
         "45",
         "False"
        ],
        [
         "46",
         "False"
        ],
        [
         "47",
         "False"
        ],
        [
         "48",
         "False"
        ],
        [
         "49",
         "False"
        ]
       ],
       "shape": {
        "columns": 1,
        "rows": 4521
       }
      },
      "text/plain": [
       "0       False\n",
       "1       False\n",
       "2       False\n",
       "3       False\n",
       "4       False\n",
       "        ...  \n",
       "4516    False\n",
       "4517    False\n",
       "4518    False\n",
       "4519    False\n",
       "4520    False\n",
       "Length: 4521, dtype: bool"
      ]
     },
     "execution_count": 20,
     "metadata": {},
     "output_type": "execute_result"
    }
   ],
   "source": [
    "df.duplicated()"
   ]
  },
  {
   "cell_type": "code",
   "execution_count": 21,
   "id": "187ae998",
   "metadata": {},
   "outputs": [
    {
     "data": {
      "text/plain": [
       "np.int64(1)"
      ]
     },
     "execution_count": 21,
     "metadata": {},
     "output_type": "execute_result"
    }
   ],
   "source": [
    "df.duplicated().sum()"
   ]
  },
  {
   "cell_type": "code",
   "execution_count": 22,
   "id": "3c7f96e4",
   "metadata": {},
   "outputs": [
    {
     "data": {
      "application/vnd.microsoft.datawrangler.viewer.v0+json": {
       "columns": [
        {
         "name": "index",
         "rawType": "object",
         "type": "string"
        },
        {
         "name": "age",
         "rawType": "float64",
         "type": "float"
        },
        {
         "name": "balance",
         "rawType": "float64",
         "type": "float"
        },
        {
         "name": "duration",
         "rawType": "float64",
         "type": "float"
        },
        {
         "name": "campaign",
         "rawType": "float64",
         "type": "float"
        }
       ],
       "ref": "cc1e20f0-45d7-4f3a-9a67-5569e8f0fdc4",
       "rows": [
        [
         "count",
         "4519.0",
         "4521.0",
         "4519.0",
         "4521.0"
        ],
        [
         "mean",
         "41.38127904403629",
         "1422.6578190665782",
         "5983.921221509184",
         "2.793629727936297"
        ],
        [
         "std",
         "13.966475197392558",
         "3009.638142467341",
         "357068.33980301674",
         "3.109806660188575"
        ],
        [
         "min",
         "-38.0",
         "-3313.0",
         "-799.0",
         "1.0"
        ],
        [
         "25%",
         "33.0",
         "69.0",
         "104.0",
         "1.0"
        ],
        [
         "50%",
         "39.0",
         "444.0",
         "185.0",
         "2.0"
        ],
        [
         "75%",
         "49.0",
         "1480.0",
         "329.5",
         "3.0"
        ],
        [
         "max",
         "416.0",
         "71188.0",
         "23956498.0",
         "50.0"
        ]
       ],
       "shape": {
        "columns": 4,
        "rows": 8
       }
      },
      "text/html": [
       "<div>\n",
       "<style scoped>\n",
       "    .dataframe tbody tr th:only-of-type {\n",
       "        vertical-align: middle;\n",
       "    }\n",
       "\n",
       "    .dataframe tbody tr th {\n",
       "        vertical-align: top;\n",
       "    }\n",
       "\n",
       "    .dataframe thead th {\n",
       "        text-align: right;\n",
       "    }\n",
       "</style>\n",
       "<table border=\"1\" class=\"dataframe\">\n",
       "  <thead>\n",
       "    <tr style=\"text-align: right;\">\n",
       "      <th></th>\n",
       "      <th>age</th>\n",
       "      <th>balance</th>\n",
       "      <th>duration</th>\n",
       "      <th>campaign</th>\n",
       "    </tr>\n",
       "  </thead>\n",
       "  <tbody>\n",
       "    <tr>\n",
       "      <th>count</th>\n",
       "      <td>4519.000000</td>\n",
       "      <td>4521.000000</td>\n",
       "      <td>4.519000e+03</td>\n",
       "      <td>4521.000000</td>\n",
       "    </tr>\n",
       "    <tr>\n",
       "      <th>mean</th>\n",
       "      <td>41.381279</td>\n",
       "      <td>1422.657819</td>\n",
       "      <td>5.983921e+03</td>\n",
       "      <td>2.793630</td>\n",
       "    </tr>\n",
       "    <tr>\n",
       "      <th>std</th>\n",
       "      <td>13.966475</td>\n",
       "      <td>3009.638142</td>\n",
       "      <td>3.570683e+05</td>\n",
       "      <td>3.109807</td>\n",
       "    </tr>\n",
       "    <tr>\n",
       "      <th>min</th>\n",
       "      <td>-38.000000</td>\n",
       "      <td>-3313.000000</td>\n",
       "      <td>-7.990000e+02</td>\n",
       "      <td>1.000000</td>\n",
       "    </tr>\n",
       "    <tr>\n",
       "      <th>25%</th>\n",
       "      <td>33.000000</td>\n",
       "      <td>69.000000</td>\n",
       "      <td>1.040000e+02</td>\n",
       "      <td>1.000000</td>\n",
       "    </tr>\n",
       "    <tr>\n",
       "      <th>50%</th>\n",
       "      <td>39.000000</td>\n",
       "      <td>444.000000</td>\n",
       "      <td>1.850000e+02</td>\n",
       "      <td>2.000000</td>\n",
       "    </tr>\n",
       "    <tr>\n",
       "      <th>75%</th>\n",
       "      <td>49.000000</td>\n",
       "      <td>1480.000000</td>\n",
       "      <td>3.295000e+02</td>\n",
       "      <td>3.000000</td>\n",
       "    </tr>\n",
       "    <tr>\n",
       "      <th>max</th>\n",
       "      <td>416.000000</td>\n",
       "      <td>71188.000000</td>\n",
       "      <td>2.395650e+07</td>\n",
       "      <td>50.000000</td>\n",
       "    </tr>\n",
       "  </tbody>\n",
       "</table>\n",
       "</div>"
      ],
      "text/plain": [
       "               age       balance      duration     campaign\n",
       "count  4519.000000   4521.000000  4.519000e+03  4521.000000\n",
       "mean     41.381279   1422.657819  5.983921e+03     2.793630\n",
       "std      13.966475   3009.638142  3.570683e+05     3.109807\n",
       "min     -38.000000  -3313.000000 -7.990000e+02     1.000000\n",
       "25%      33.000000     69.000000  1.040000e+02     1.000000\n",
       "50%      39.000000    444.000000  1.850000e+02     2.000000\n",
       "75%      49.000000   1480.000000  3.295000e+02     3.000000\n",
       "max     416.000000  71188.000000  2.395650e+07    50.000000"
      ]
     },
     "execution_count": 22,
     "metadata": {},
     "output_type": "execute_result"
    }
   ],
   "source": [
    "df.describe()"
   ]
  },
  {
   "cell_type": "code",
   "execution_count": 23,
   "id": "baf6f4bf",
   "metadata": {},
   "outputs": [
    {
     "data": {
      "application/vnd.microsoft.datawrangler.viewer.v0+json": {
       "columns": [
        {
         "name": "index",
         "rawType": "int64",
         "type": "integer"
        },
        {
         "name": "age",
         "rawType": "float64",
         "type": "float"
        },
        {
         "name": "job",
         "rawType": "object",
         "type": "unknown"
        },
        {
         "name": "marital",
         "rawType": "object",
         "type": "unknown"
        },
        {
         "name": "education",
         "rawType": "object",
         "type": "unknown"
        },
        {
         "name": "balance",
         "rawType": "int64",
         "type": "integer"
        },
        {
         "name": "housing",
         "rawType": "object",
         "type": "unknown"
        },
        {
         "name": "duration",
         "rawType": "float64",
         "type": "float"
        },
        {
         "name": "campaign",
         "rawType": "int64",
         "type": "integer"
        },
        {
         "name": "approval",
         "rawType": "object",
         "type": "string"
        }
       ],
       "ref": "31e1ab7c-abd7-4d11-a54a-c2683889bd60",
       "rows": [
        [
         "0",
         "30.0",
         "unemployed",
         "married",
         "primary",
         "1787",
         "no",
         "79.0",
         "1",
         "no"
        ],
        [
         "1",
         "33.0",
         "services",
         "married",
         "secondary",
         "4789",
         "yes",
         "220.0",
         "1",
         "no"
        ],
        [
         "2",
         "35.0",
         "management",
         "single",
         "tertiary",
         "1350",
         "yes",
         "185.0",
         "1",
         "no"
        ],
        [
         "3",
         "30.0",
         "management",
         "married",
         "tertiary",
         "1476",
         "yes",
         "199.0",
         "4",
         "no"
        ],
        [
         "4",
         "59.0",
         "blue-collar",
         "married",
         "secondary",
         "0",
         "yes",
         "226.0",
         "1",
         "no"
        ],
        [
         "5",
         "35.0",
         "management",
         "single",
         "tertiary",
         "747",
         "no",
         "141.0",
         "2",
         "no"
        ],
        [
         "6",
         "36.0",
         "self-employed",
         "married",
         "tertiary",
         "307",
         "yes",
         "341.0",
         "1",
         "no"
        ],
        [
         "7",
         "39.0",
         "technician",
         "married",
         "secondary",
         "147",
         "yes",
         "151.0",
         "2",
         "no"
        ],
        [
         "8",
         "41.0",
         "entrepreneur",
         "married",
         "tertiary",
         "221",
         "yes",
         "57.0",
         "2",
         "no"
        ],
        [
         "9",
         "43.0",
         "services",
         "married",
         "primary",
         "-88",
         "yes",
         "313.0",
         "1",
         "no"
        ],
        [
         "10",
         "39.0",
         "services",
         "married",
         "secondary",
         "9374",
         "yes",
         "273.0",
         "1",
         "no"
        ],
        [
         "11",
         "43.0",
         "admin.",
         "married",
         "secondary",
         "264",
         "yes",
         "113.0",
         "2",
         "no"
        ],
        [
         "12",
         "36.0",
         "technician",
         "married",
         "tertiary",
         "1109",
         "no",
         "-328.0",
         "2",
         "no"
        ],
        [
         "13",
         "20.0",
         "student",
         "single",
         "secondary",
         "502",
         "no",
         "261.0",
         "1",
         "yes"
        ],
        [
         "14",
         "31.0",
         "blue-collar",
         "married",
         "secondary",
         "360",
         "yes",
         "89.0",
         "1",
         "no"
        ],
        [
         "15",
         "40.0",
         "management",
         "married",
         "tertiary",
         "194",
         "no",
         "189.0",
         "2",
         "no"
        ],
        [
         "16",
         "56.0",
         "technician",
         "married",
         "secondary",
         "4073",
         "no",
         "239.0",
         "5",
         "no"
        ],
        [
         "17",
         "37.0",
         "admin.",
         "single",
         "tertiary",
         "2317",
         "yes",
         "114.0",
         "1",
         "no"
        ],
        [
         "18",
         "25.0",
         "blue-collar",
         "single",
         "primary",
         "-221",
         null,
         "250.0",
         "1",
         "no"
        ],
        [
         "19",
         "31.0",
         "services",
         "married",
         "secondary",
         "132",
         "no",
         "148.0",
         "1",
         "no"
        ],
        [
         "20",
         "38.0",
         "management",
         "divorced",
         "unknown",
         "0",
         "yes",
         "-96.0",
         "2",
         "no"
        ],
        [
         "21",
         "42.0",
         "management",
         "divorced",
         "tertiary",
         "16",
         "no",
         "140.0",
         "3",
         "no"
        ],
        [
         "22",
         "44.0",
         "services",
         "single",
         "secondary",
         "106",
         "no",
         "109.0",
         "2",
         "no"
        ],
        [
         "23",
         "44.0",
         "entrepreneur",
         "married",
         "secondary",
         "93",
         "no",
         "125.0",
         "2",
         "no"
        ],
        [
         "24",
         "26.0",
         "housemaid",
         "married",
         "tertiary",
         "543",
         "no",
         "169.0",
         "3",
         "no"
        ],
        [
         "25",
         "41.0",
         "management",
         "married",
         "tertiary",
         "5883",
         "no",
         "182.0",
         "2",
         "no"
        ],
        [
         "26",
         "55.0",
         "blue-collar",
         "married",
         "primary",
         "627",
         "yes",
         "247.0",
         "1",
         "no"
        ],
        [
         "27",
         "67.0",
         "retired",
         "married",
         "unknown",
         "696",
         "no",
         "119.0",
         "1",
         "no"
        ],
        [
         "28",
         "56.0",
         "self-employed",
         "married",
         "secondary",
         "784",
         "no",
         "149.0",
         "2",
         "no"
        ],
        [
         "29",
         "53.0",
         "admin.",
         "married",
         "secondary",
         "105",
         "no",
         "74.0",
         "2",
         "no"
        ],
        [
         "30",
         "68.0",
         "retired",
         "divorced",
         "secondary",
         "4189",
         "no",
         "897.0",
         "2",
         "yes"
        ],
        [
         "31",
         "31.0",
         "technician",
         "married",
         "secondary",
         "171",
         "no",
         "81.0",
         "3",
         "no"
        ],
        [
         "32",
         "59.0",
         "management",
         "married",
         "secondary",
         "42",
         "no",
         "40.0",
         "1",
         "no"
        ],
        [
         "33",
         "32.0",
         "management",
         "single",
         "tertiary",
         "2536",
         "yes",
         "958.0",
         "6",
         "yes"
        ],
        [
         "34",
         "49.0",
         "technician",
         "married",
         "tertiary",
         "1235",
         "no",
         "354.0",
         "3",
         "yes"
        ],
        [
         "35",
         "42.0",
         "admin.",
         "divorced",
         "secondary",
         "1811",
         "yes",
         "150.0",
         "1",
         "no"
        ],
        [
         "36",
         "78.0",
         "retired",
         "divorced",
         "primary",
         "229",
         "no",
         "97.0",
         "1",
         "yes"
        ],
        [
         "37",
         "32.0",
         "blue-collar",
         "married",
         "secondary",
         "2089",
         "yes",
         "132.0",
         "1",
         "yes"
        ],
        [
         "38",
         "0.0",
         "management",
         "married",
         "secondary",
         "3935",
         "yes",
         "765.0",
         "1",
         "yes"
        ],
        [
         "39",
         "23.0",
         "services",
         "single",
         "tertiary",
         "363",
         "yes",
         "16.0",
         "18",
         "no"
        ],
        [
         "40",
         "38.0",
         "management",
         "single",
         "tertiary",
         "11971",
         "yes",
         "609.0",
         "2",
         "no"
        ],
        [
         "41",
         "36.0",
         "management",
         "single",
         "tertiary",
         "553",
         "no",
         "106.0",
         "2",
         "no"
        ],
        [
         "42",
         "52.0",
         "blue-collar",
         "married",
         "secondary",
         "1117",
         "yes",
         "365.0",
         "1",
         "no"
        ],
        [
         "43",
         "32.0",
         "technician",
         "married",
         "tertiary",
         "396",
         "yes",
         "205.0",
         "3",
         "no"
        ],
        [
         "44",
         "32.0",
         "technician",
         "single",
         "tertiary",
         "2204",
         "yes",
         "11.0",
         "4",
         "no"
        ],
        [
         "45",
         "34.0",
         "management",
         "single",
         "tertiary",
         "872",
         "yes",
         "105.0",
         "2",
         "no"
        ],
        [
         "46",
         "55.0",
         "blue-collar",
         "married",
         "primary",
         "145",
         "no",
         "59.0",
         "3",
         "no"
        ],
        [
         "47",
         "26.0",
         "blue-collar",
         "married",
         "primary",
         "0",
         "yes",
         "425.0",
         "1",
         "no"
        ],
        [
         "48",
         "32.0",
         "entrepreneur",
         "single",
         "primary",
         "-849",
         "yes",
         "204.0",
         "1",
         "no"
        ],
        [
         "49",
         null,
         "admin.",
         "married",
         "unknown",
         "4629",
         "yes",
         "181.0",
         "1",
         "yes"
        ]
       ],
       "shape": {
        "columns": 9,
        "rows": 4521
       }
      },
      "text/html": [
       "<div>\n",
       "<style scoped>\n",
       "    .dataframe tbody tr th:only-of-type {\n",
       "        vertical-align: middle;\n",
       "    }\n",
       "\n",
       "    .dataframe tbody tr th {\n",
       "        vertical-align: top;\n",
       "    }\n",
       "\n",
       "    .dataframe thead th {\n",
       "        text-align: right;\n",
       "    }\n",
       "</style>\n",
       "<table border=\"1\" class=\"dataframe\">\n",
       "  <thead>\n",
       "    <tr style=\"text-align: right;\">\n",
       "      <th></th>\n",
       "      <th>age</th>\n",
       "      <th>job</th>\n",
       "      <th>marital</th>\n",
       "      <th>education</th>\n",
       "      <th>balance</th>\n",
       "      <th>housing</th>\n",
       "      <th>duration</th>\n",
       "      <th>campaign</th>\n",
       "      <th>approval</th>\n",
       "    </tr>\n",
       "  </thead>\n",
       "  <tbody>\n",
       "    <tr>\n",
       "      <th>0</th>\n",
       "      <td>30.0</td>\n",
       "      <td>unemployed</td>\n",
       "      <td>married</td>\n",
       "      <td>primary</td>\n",
       "      <td>1787</td>\n",
       "      <td>no</td>\n",
       "      <td>79.0</td>\n",
       "      <td>1</td>\n",
       "      <td>no</td>\n",
       "    </tr>\n",
       "    <tr>\n",
       "      <th>1</th>\n",
       "      <td>33.0</td>\n",
       "      <td>services</td>\n",
       "      <td>married</td>\n",
       "      <td>secondary</td>\n",
       "      <td>4789</td>\n",
       "      <td>yes</td>\n",
       "      <td>220.0</td>\n",
       "      <td>1</td>\n",
       "      <td>no</td>\n",
       "    </tr>\n",
       "    <tr>\n",
       "      <th>2</th>\n",
       "      <td>35.0</td>\n",
       "      <td>management</td>\n",
       "      <td>single</td>\n",
       "      <td>tertiary</td>\n",
       "      <td>1350</td>\n",
       "      <td>yes</td>\n",
       "      <td>185.0</td>\n",
       "      <td>1</td>\n",
       "      <td>no</td>\n",
       "    </tr>\n",
       "    <tr>\n",
       "      <th>3</th>\n",
       "      <td>30.0</td>\n",
       "      <td>management</td>\n",
       "      <td>married</td>\n",
       "      <td>tertiary</td>\n",
       "      <td>1476</td>\n",
       "      <td>yes</td>\n",
       "      <td>199.0</td>\n",
       "      <td>4</td>\n",
       "      <td>no</td>\n",
       "    </tr>\n",
       "    <tr>\n",
       "      <th>4</th>\n",
       "      <td>59.0</td>\n",
       "      <td>blue-collar</td>\n",
       "      <td>married</td>\n",
       "      <td>secondary</td>\n",
       "      <td>0</td>\n",
       "      <td>yes</td>\n",
       "      <td>226.0</td>\n",
       "      <td>1</td>\n",
       "      <td>no</td>\n",
       "    </tr>\n",
       "    <tr>\n",
       "      <th>...</th>\n",
       "      <td>...</td>\n",
       "      <td>...</td>\n",
       "      <td>...</td>\n",
       "      <td>...</td>\n",
       "      <td>...</td>\n",
       "      <td>...</td>\n",
       "      <td>...</td>\n",
       "      <td>...</td>\n",
       "      <td>...</td>\n",
       "    </tr>\n",
       "    <tr>\n",
       "      <th>4516</th>\n",
       "      <td>99.0</td>\n",
       "      <td>services</td>\n",
       "      <td>married</td>\n",
       "      <td>secondary</td>\n",
       "      <td>-333</td>\n",
       "      <td>yes</td>\n",
       "      <td>329.0</td>\n",
       "      <td>5</td>\n",
       "      <td>no</td>\n",
       "    </tr>\n",
       "    <tr>\n",
       "      <th>4517</th>\n",
       "      <td>57.0</td>\n",
       "      <td>self-employed</td>\n",
       "      <td>married</td>\n",
       "      <td>tertiary</td>\n",
       "      <td>-3313</td>\n",
       "      <td>yes</td>\n",
       "      <td>-153.0</td>\n",
       "      <td>1</td>\n",
       "      <td>no</td>\n",
       "    </tr>\n",
       "    <tr>\n",
       "      <th>4518</th>\n",
       "      <td>57.0</td>\n",
       "      <td>technician</td>\n",
       "      <td>married</td>\n",
       "      <td>secondary</td>\n",
       "      <td>295</td>\n",
       "      <td>no</td>\n",
       "      <td>151.0</td>\n",
       "      <td>11</td>\n",
       "      <td>no</td>\n",
       "    </tr>\n",
       "    <tr>\n",
       "      <th>4519</th>\n",
       "      <td>28.0</td>\n",
       "      <td>blue-collar</td>\n",
       "      <td>married</td>\n",
       "      <td>secondary</td>\n",
       "      <td>1137</td>\n",
       "      <td>no</td>\n",
       "      <td>129.0</td>\n",
       "      <td>4</td>\n",
       "      <td>no</td>\n",
       "    </tr>\n",
       "    <tr>\n",
       "      <th>4520</th>\n",
       "      <td>44.0</td>\n",
       "      <td>entrepreneur</td>\n",
       "      <td>single</td>\n",
       "      <td>tertiary</td>\n",
       "      <td>1136</td>\n",
       "      <td>yes</td>\n",
       "      <td>345.0</td>\n",
       "      <td>2</td>\n",
       "      <td>no</td>\n",
       "    </tr>\n",
       "  </tbody>\n",
       "</table>\n",
       "<p>4521 rows × 9 columns</p>\n",
       "</div>"
      ],
      "text/plain": [
       "       age            job  marital  education  balance housing  duration  \\\n",
       "0     30.0     unemployed  married    primary     1787      no      79.0   \n",
       "1     33.0       services  married  secondary     4789     yes     220.0   \n",
       "2     35.0     management   single   tertiary     1350     yes     185.0   \n",
       "3     30.0     management  married   tertiary     1476     yes     199.0   \n",
       "4     59.0    blue-collar  married  secondary        0     yes     226.0   \n",
       "...    ...            ...      ...        ...      ...     ...       ...   \n",
       "4516  99.0       services  married  secondary     -333     yes     329.0   \n",
       "4517  57.0  self-employed  married   tertiary    -3313     yes    -153.0   \n",
       "4518  57.0     technician  married  secondary      295      no     151.0   \n",
       "4519  28.0    blue-collar  married  secondary     1137      no     129.0   \n",
       "4520  44.0   entrepreneur   single   tertiary     1136     yes     345.0   \n",
       "\n",
       "      campaign approval  \n",
       "0            1       no  \n",
       "1            1       no  \n",
       "2            1       no  \n",
       "3            4       no  \n",
       "4            1       no  \n",
       "...        ...      ...  \n",
       "4516         5       no  \n",
       "4517         1       no  \n",
       "4518        11       no  \n",
       "4519         4       no  \n",
       "4520         2       no  \n",
       "\n",
       "[4521 rows x 9 columns]"
      ]
     },
     "execution_count": 23,
     "metadata": {},
     "output_type": "execute_result"
    }
   ],
   "source": [
    "df"
   ]
  },
  {
   "cell_type": "code",
   "execution_count": 24,
   "id": "2a5fff79",
   "metadata": {},
   "outputs": [
    {
     "data": {
      "application/vnd.microsoft.datawrangler.viewer.v0+json": {
       "columns": [
        {
         "name": "index",
         "rawType": "int64",
         "type": "integer"
        },
        {
         "name": "age",
         "rawType": "float64",
         "type": "float"
        }
       ],
       "ref": "7bba092c-1c7c-4be7-981f-012bd4323d49",
       "rows": [
        [
         "0",
         "30.0"
        ],
        [
         "1",
         "33.0"
        ],
        [
         "2",
         "35.0"
        ],
        [
         "3",
         "30.0"
        ],
        [
         "4",
         "59.0"
        ],
        [
         "5",
         "35.0"
        ],
        [
         "6",
         "36.0"
        ],
        [
         "7",
         "39.0"
        ],
        [
         "8",
         "41.0"
        ],
        [
         "9",
         "43.0"
        ],
        [
         "10",
         "39.0"
        ],
        [
         "11",
         "43.0"
        ],
        [
         "12",
         "36.0"
        ],
        [
         "13",
         "20.0"
        ],
        [
         "14",
         "31.0"
        ],
        [
         "15",
         "40.0"
        ],
        [
         "16",
         "56.0"
        ],
        [
         "17",
         "37.0"
        ],
        [
         "18",
         "25.0"
        ],
        [
         "19",
         "31.0"
        ],
        [
         "20",
         "38.0"
        ],
        [
         "21",
         "42.0"
        ],
        [
         "22",
         "44.0"
        ],
        [
         "23",
         "44.0"
        ],
        [
         "24",
         "26.0"
        ],
        [
         "25",
         "41.0"
        ],
        [
         "26",
         "55.0"
        ],
        [
         "27",
         "67.0"
        ],
        [
         "28",
         "56.0"
        ],
        [
         "29",
         "53.0"
        ],
        [
         "30",
         "68.0"
        ],
        [
         "31",
         "31.0"
        ],
        [
         "32",
         "59.0"
        ],
        [
         "33",
         "32.0"
        ],
        [
         "34",
         "49.0"
        ],
        [
         "35",
         "42.0"
        ],
        [
         "36",
         "78.0"
        ],
        [
         "37",
         "32.0"
        ],
        [
         "38",
         "0.0"
        ],
        [
         "39",
         "23.0"
        ],
        [
         "40",
         "38.0"
        ],
        [
         "41",
         "36.0"
        ],
        [
         "42",
         "52.0"
        ],
        [
         "43",
         "32.0"
        ],
        [
         "44",
         "32.0"
        ],
        [
         "45",
         "34.0"
        ],
        [
         "46",
         "55.0"
        ],
        [
         "47",
         "26.0"
        ],
        [
         "48",
         "32.0"
        ],
        [
         "49",
         null
        ]
       ],
       "shape": {
        "columns": 1,
        "rows": 4521
       }
      },
      "text/plain": [
       "0       30.0\n",
       "1       33.0\n",
       "2       35.0\n",
       "3       30.0\n",
       "4       59.0\n",
       "        ... \n",
       "4516    99.0\n",
       "4517    57.0\n",
       "4518    57.0\n",
       "4519    28.0\n",
       "4520    44.0\n",
       "Name: age, Length: 4521, dtype: float64"
      ]
     },
     "execution_count": 24,
     "metadata": {},
     "output_type": "execute_result"
    }
   ],
   "source": [
    "df['age']"
   ]
  },
  {
   "cell_type": "code",
   "execution_count": 25,
   "id": "48022fc6",
   "metadata": {},
   "outputs": [
    {
     "data": {
      "application/vnd.microsoft.datawrangler.viewer.v0+json": {
       "columns": [
        {
         "name": "index",
         "rawType": "int64",
         "type": "integer"
        },
        {
         "name": "balance",
         "rawType": "int64",
         "type": "integer"
        }
       ],
       "ref": "0ddde5c3-4827-4fb9-beb1-7a29ffc75376",
       "rows": [
        [
         "0",
         "1787"
        ],
        [
         "1",
         "4789"
        ],
        [
         "2",
         "1350"
        ],
        [
         "3",
         "1476"
        ],
        [
         "4",
         "0"
        ],
        [
         "5",
         "747"
        ],
        [
         "6",
         "307"
        ],
        [
         "7",
         "147"
        ],
        [
         "8",
         "221"
        ],
        [
         "9",
         "-88"
        ],
        [
         "10",
         "9374"
        ],
        [
         "11",
         "264"
        ],
        [
         "12",
         "1109"
        ],
        [
         "13",
         "502"
        ],
        [
         "14",
         "360"
        ],
        [
         "15",
         "194"
        ],
        [
         "16",
         "4073"
        ],
        [
         "17",
         "2317"
        ],
        [
         "18",
         "-221"
        ],
        [
         "19",
         "132"
        ],
        [
         "20",
         "0"
        ],
        [
         "21",
         "16"
        ],
        [
         "22",
         "106"
        ],
        [
         "23",
         "93"
        ],
        [
         "24",
         "543"
        ],
        [
         "25",
         "5883"
        ],
        [
         "26",
         "627"
        ],
        [
         "27",
         "696"
        ],
        [
         "28",
         "784"
        ],
        [
         "29",
         "105"
        ],
        [
         "30",
         "4189"
        ],
        [
         "31",
         "171"
        ],
        [
         "32",
         "42"
        ],
        [
         "33",
         "2536"
        ],
        [
         "34",
         "1235"
        ],
        [
         "35",
         "1811"
        ],
        [
         "36",
         "229"
        ],
        [
         "37",
         "2089"
        ],
        [
         "38",
         "3935"
        ],
        [
         "39",
         "363"
        ],
        [
         "40",
         "11971"
        ],
        [
         "41",
         "553"
        ],
        [
         "42",
         "1117"
        ],
        [
         "43",
         "396"
        ],
        [
         "44",
         "2204"
        ],
        [
         "45",
         "872"
        ],
        [
         "46",
         "145"
        ],
        [
         "47",
         "0"
        ],
        [
         "48",
         "-849"
        ],
        [
         "49",
         "4629"
        ]
       ],
       "shape": {
        "columns": 1,
        "rows": 4521
       }
      },
      "text/plain": [
       "0       1787\n",
       "1       4789\n",
       "2       1350\n",
       "3       1476\n",
       "4          0\n",
       "        ... \n",
       "4516    -333\n",
       "4517   -3313\n",
       "4518     295\n",
       "4519    1137\n",
       "4520    1136\n",
       "Name: balance, Length: 4521, dtype: int64"
      ]
     },
     "execution_count": 25,
     "metadata": {},
     "output_type": "execute_result"
    }
   ],
   "source": [
    "df['balance']"
   ]
  },
  {
   "cell_type": "code",
   "execution_count": 26,
   "id": "78d73d13",
   "metadata": {},
   "outputs": [
    {
     "data": {
      "text/plain": [
       "Index(['age', 'job', 'marital', 'education', 'balance', 'housing', 'duration',\n",
       "       'campaign', 'approval'],\n",
       "      dtype='object')"
      ]
     },
     "execution_count": 26,
     "metadata": {},
     "output_type": "execute_result"
    }
   ],
   "source": [
    "df.columns"
   ]
  },
  {
   "cell_type": "code",
   "execution_count": 27,
   "id": "d80baea6",
   "metadata": {},
   "outputs": [
    {
     "data": {
      "application/vnd.microsoft.datawrangler.viewer.v0+json": {
       "columns": [
        {
         "name": "index",
         "rawType": "int64",
         "type": "integer"
        },
        {
         "name": "education",
         "rawType": "object",
         "type": "unknown"
        }
       ],
       "ref": "1a413a00-e14b-409d-9f61-29f9990ca929",
       "rows": [
        [
         "0",
         "primary"
        ],
        [
         "1",
         "secondary"
        ],
        [
         "2",
         "tertiary"
        ],
        [
         "3",
         "tertiary"
        ],
        [
         "4",
         "secondary"
        ],
        [
         "5",
         "tertiary"
        ],
        [
         "6",
         "tertiary"
        ],
        [
         "7",
         "secondary"
        ],
        [
         "8",
         "tertiary"
        ],
        [
         "9",
         "primary"
        ],
        [
         "10",
         "secondary"
        ],
        [
         "11",
         "secondary"
        ],
        [
         "12",
         "tertiary"
        ],
        [
         "13",
         "secondary"
        ],
        [
         "14",
         "secondary"
        ],
        [
         "15",
         "tertiary"
        ],
        [
         "16",
         "secondary"
        ],
        [
         "17",
         "tertiary"
        ],
        [
         "18",
         "primary"
        ],
        [
         "19",
         "secondary"
        ],
        [
         "20",
         "unknown"
        ],
        [
         "21",
         "tertiary"
        ],
        [
         "22",
         "secondary"
        ],
        [
         "23",
         "secondary"
        ],
        [
         "24",
         "tertiary"
        ],
        [
         "25",
         "tertiary"
        ],
        [
         "26",
         "primary"
        ],
        [
         "27",
         "unknown"
        ],
        [
         "28",
         "secondary"
        ],
        [
         "29",
         "secondary"
        ],
        [
         "30",
         "secondary"
        ],
        [
         "31",
         "secondary"
        ],
        [
         "32",
         "secondary"
        ],
        [
         "33",
         "tertiary"
        ],
        [
         "34",
         "tertiary"
        ],
        [
         "35",
         "secondary"
        ],
        [
         "36",
         "primary"
        ],
        [
         "37",
         "secondary"
        ],
        [
         "38",
         "secondary"
        ],
        [
         "39",
         "tertiary"
        ],
        [
         "40",
         "tertiary"
        ],
        [
         "41",
         "tertiary"
        ],
        [
         "42",
         "secondary"
        ],
        [
         "43",
         "tertiary"
        ],
        [
         "44",
         "tertiary"
        ],
        [
         "45",
         "tertiary"
        ],
        [
         "46",
         "primary"
        ],
        [
         "47",
         "primary"
        ],
        [
         "48",
         "primary"
        ],
        [
         "49",
         "unknown"
        ]
       ],
       "shape": {
        "columns": 1,
        "rows": 4521
       }
      },
      "text/plain": [
       "0         primary\n",
       "1       secondary\n",
       "2        tertiary\n",
       "3        tertiary\n",
       "4       secondary\n",
       "          ...    \n",
       "4516    secondary\n",
       "4517     tertiary\n",
       "4518    secondary\n",
       "4519    secondary\n",
       "4520     tertiary\n",
       "Name: education, Length: 4521, dtype: object"
      ]
     },
     "execution_count": 27,
     "metadata": {},
     "output_type": "execute_result"
    }
   ],
   "source": [
    "df.education"
   ]
  },
  {
   "cell_type": "code",
   "execution_count": 28,
   "id": "ff770091",
   "metadata": {},
   "outputs": [
    {
     "data": {
      "application/vnd.microsoft.datawrangler.viewer.v0+json": {
       "columns": [
        {
         "name": "index",
         "rawType": "int64",
         "type": "integer"
        },
        {
         "name": "housing",
         "rawType": "object",
         "type": "unknown"
        }
       ],
       "ref": "e8f361c7-a96f-4df5-be22-191b896efaa2",
       "rows": [
        [
         "0",
         "no"
        ],
        [
         "1",
         "yes"
        ],
        [
         "2",
         "yes"
        ],
        [
         "3",
         "yes"
        ],
        [
         "4",
         "yes"
        ],
        [
         "5",
         "no"
        ],
        [
         "6",
         "yes"
        ],
        [
         "7",
         "yes"
        ],
        [
         "8",
         "yes"
        ],
        [
         "9",
         "yes"
        ],
        [
         "10",
         "yes"
        ],
        [
         "11",
         "yes"
        ],
        [
         "12",
         "no"
        ],
        [
         "13",
         "no"
        ],
        [
         "14",
         "yes"
        ],
        [
         "15",
         "no"
        ],
        [
         "16",
         "no"
        ],
        [
         "17",
         "yes"
        ],
        [
         "18",
         null
        ],
        [
         "19",
         "no"
        ],
        [
         "20",
         "yes"
        ],
        [
         "21",
         "no"
        ],
        [
         "22",
         "no"
        ],
        [
         "23",
         "no"
        ],
        [
         "24",
         "no"
        ],
        [
         "25",
         "no"
        ],
        [
         "26",
         "yes"
        ],
        [
         "27",
         "no"
        ],
        [
         "28",
         "no"
        ],
        [
         "29",
         "no"
        ],
        [
         "30",
         "no"
        ],
        [
         "31",
         "no"
        ],
        [
         "32",
         "no"
        ],
        [
         "33",
         "yes"
        ],
        [
         "34",
         "no"
        ],
        [
         "35",
         "yes"
        ],
        [
         "36",
         "no"
        ],
        [
         "37",
         "yes"
        ],
        [
         "38",
         "yes"
        ],
        [
         "39",
         "yes"
        ],
        [
         "40",
         "yes"
        ],
        [
         "41",
         "no"
        ],
        [
         "42",
         "yes"
        ],
        [
         "43",
         "yes"
        ],
        [
         "44",
         "yes"
        ],
        [
         "45",
         "yes"
        ],
        [
         "46",
         "no"
        ],
        [
         "47",
         "yes"
        ],
        [
         "48",
         "yes"
        ],
        [
         "49",
         "yes"
        ]
       ],
       "shape": {
        "columns": 1,
        "rows": 4521
       }
      },
      "text/plain": [
       "0        no\n",
       "1       yes\n",
       "2       yes\n",
       "3       yes\n",
       "4       yes\n",
       "       ... \n",
       "4516    yes\n",
       "4517    yes\n",
       "4518     no\n",
       "4519     no\n",
       "4520    yes\n",
       "Name: housing, Length: 4521, dtype: object"
      ]
     },
     "execution_count": 28,
     "metadata": {},
     "output_type": "execute_result"
    }
   ],
   "source": [
    "df.housing"
   ]
  },
  {
   "cell_type": "code",
   "execution_count": 29,
   "id": "16948626",
   "metadata": {},
   "outputs": [
    {
     "data": {
      "application/vnd.microsoft.datawrangler.viewer.v0+json": {
       "columns": [
        {
         "name": "age",
         "rawType": "float64",
         "type": "float"
        },
        {
         "name": "count",
         "rawType": "int64",
         "type": "integer"
        }
       ],
       "ref": "4033ccfa-628d-4253-bfc7-cd2ace5ec275",
       "rows": [
        [
         "34.0",
         "231"
        ],
        [
         "32.0",
         "224"
        ],
        [
         "31.0",
         "199"
        ],
        [
         "36.0",
         "188"
        ],
        [
         "33.0",
         "184"
        ],
        [
         "35.0",
         "180"
        ],
        [
         "37.0",
         "161"
        ],
        [
         "38.0",
         "157"
        ],
        [
         "30.0",
         "150"
        ],
        [
         "40.0",
         "142"
        ],
        [
         "42.0",
         "140"
        ],
        [
         "41.0",
         "134"
        ],
        [
         "39.0",
         "130"
        ],
        [
         "46.0",
         "119"
        ],
        [
         "43.0",
         "115"
        ],
        [
         "48.0",
         "114"
        ],
        [
         "45.0",
         "112"
        ],
        [
         "49.0",
         "112"
        ],
        [
         "47.0",
         "108"
        ],
        [
         "44.0",
         "105"
        ],
        [
         "28.0",
         "102"
        ],
        [
         "50.0",
         "101"
        ],
        [
         "29.0",
         "97"
        ],
        [
         "27.0",
         "94"
        ],
        [
         "53.0",
         "94"
        ],
        [
         "57.0",
         "91"
        ],
        [
         "51.0",
         "91"
        ],
        [
         "55.0",
         "90"
        ],
        [
         "52.0",
         "85"
        ],
        [
         "58.0",
         "85"
        ],
        [
         "26.0",
         "77"
        ],
        [
         "56.0",
         "74"
        ],
        [
         "54.0",
         "71"
        ],
        [
         "59.0",
         "71"
        ],
        [
         "60.0",
         "47"
        ],
        [
         "25.0",
         "44"
        ],
        [
         "24.0",
         "24"
        ],
        [
         "23.0",
         "20"
        ],
        [
         "61.0",
         "15"
        ],
        [
         "22.0",
         "9"
        ],
        [
         "66.0",
         "9"
        ],
        [
         "63.0",
         "8"
        ],
        [
         "21.0",
         "7"
        ],
        [
         "64.0",
         "7"
        ],
        [
         "70.0",
         "7"
        ],
        [
         "62.0",
         "7"
        ],
        [
         "80.0",
         "6"
        ],
        [
         "65.0",
         "6"
        ],
        [
         "77.0",
         "6"
        ],
        [
         "75.0",
         "6"
        ]
       ],
       "shape": {
        "columns": 1,
        "rows": 74
       }
      },
      "text/plain": [
       "age\n",
       "34.0     231\n",
       "32.0     224\n",
       "31.0     199\n",
       "36.0     188\n",
       "33.0     184\n",
       "        ... \n",
       "13.0       1\n",
       "84.0       1\n",
       "416.0      1\n",
       "410.0      1\n",
       "99.0       1\n",
       "Name: count, Length: 74, dtype: int64"
      ]
     },
     "execution_count": 29,
     "metadata": {},
     "output_type": "execute_result"
    }
   ],
   "source": [
    "df['age'].value_counts()"
   ]
  },
  {
   "cell_type": "code",
   "execution_count": 30,
   "id": "6932001b",
   "metadata": {},
   "outputs": [
    {
     "data": {
      "application/vnd.microsoft.datawrangler.viewer.v0+json": {
       "columns": [
        {
         "name": "balance",
         "rawType": "int64",
         "type": "integer"
        },
        {
         "name": "count",
         "rawType": "int64",
         "type": "integer"
        }
       ],
       "ref": "8b9c43a8-c940-4c63-af29-81661f021a8a",
       "rows": [
        [
         "0",
         "357"
        ],
        [
         "2",
         "24"
        ],
        [
         "1",
         "15"
        ],
        [
         "4",
         "13"
        ],
        [
         "23",
         "11"
        ],
        [
         "5",
         "11"
        ],
        [
         "179",
         "10"
        ],
        [
         "14",
         "10"
        ],
        [
         "35",
         "10"
        ],
        [
         "6",
         "10"
        ],
        [
         "8",
         "9"
        ],
        [
         "25",
         "9"
        ],
        [
         "174",
         "9"
        ],
        [
         "50",
         "9"
        ],
        [
         "92",
         "9"
        ],
        [
         "61",
         "9"
        ],
        [
         "60",
         "9"
        ],
        [
         "137",
         "9"
        ],
        [
         "168",
         "8"
        ],
        [
         "260",
         "8"
        ],
        [
         "171",
         "8"
        ],
        [
         "16",
         "8"
        ],
        [
         "3",
         "8"
        ],
        [
         "79",
         "7"
        ],
        [
         "225",
         "7"
        ],
        [
         "64",
         "7"
        ],
        [
         "15",
         "7"
        ],
        [
         "428",
         "7"
        ],
        [
         "13",
         "7"
        ],
        [
         "47",
         "7"
        ],
        [
         "33",
         "7"
        ],
        [
         "209",
         "7"
        ],
        [
         "9",
         "7"
        ],
        [
         "20",
         "7"
        ],
        [
         "37",
         "7"
        ],
        [
         "473",
         "7"
        ],
        [
         "10",
         "7"
        ],
        [
         "189",
         "6"
        ],
        [
         "96",
         "6"
        ],
        [
         "197",
         "6"
        ],
        [
         "100",
         "6"
        ],
        [
         "55",
         "6"
        ],
        [
         "102",
         "6"
        ],
        [
         "238",
         "6"
        ],
        [
         "340",
         "6"
        ],
        [
         "109",
         "6"
        ],
        [
         "133",
         "6"
        ],
        [
         "228",
         "6"
        ],
        [
         "22",
         "6"
        ],
        [
         "415",
         "6"
        ]
       ],
       "shape": {
        "columns": 1,
        "rows": 2353
       }
      },
      "text/plain": [
       "balance\n",
       "0       357\n",
       "2        24\n",
       "1        15\n",
       "4        13\n",
       "23       11\n",
       "       ... \n",
       "5304      1\n",
       "6969      1\n",
       "572       1\n",
       "164       1\n",
       "4554      1\n",
       "Name: count, Length: 2353, dtype: int64"
      ]
     },
     "execution_count": 30,
     "metadata": {},
     "output_type": "execute_result"
    }
   ],
   "source": [
    "df['balance'].value_counts()"
   ]
  },
  {
   "cell_type": "code",
   "execution_count": 31,
   "id": "cda5d928",
   "metadata": {},
   "outputs": [
    {
     "data": {
      "text/plain": [
       "array([ 30.,  33.,  35.,  59.,  36.,  39.,  41.,  43.,  20.,  31.,  40.,\n",
       "        56.,  37.,  25.,  38.,  42.,  44.,  26.,  55.,  67.,  53.,  68.,\n",
       "        32.,  49.,  78.,   0.,  23.,  52.,  34.,  nan,  45.,  48.,  57.,\n",
       "        54.,  63.,  51.,  29.,  50.,  27.,  60.,  28.,  21.,  58.,  22.,\n",
       "        46.,  24.,  77.,  75.,  47.,  70.,  65.,  64.,  62.,  66.,  61.,\n",
       "        19.,  81.,  83.,  80.,  71.,  72.,  69.,  79.,  73., -38.,  86.,\n",
       "        74., 338.,  76.,  87.,  13.,  84., 416., 410.,  99.])"
      ]
     },
     "execution_count": 31,
     "metadata": {},
     "output_type": "execute_result"
    }
   ],
   "source": [
    "df['age'].unique()"
   ]
  },
  {
   "cell_type": "code",
   "execution_count": 32,
   "id": "0d1a9bed",
   "metadata": {},
   "outputs": [
    {
     "data": {
      "text/plain": [
       "74"
      ]
     },
     "execution_count": 32,
     "metadata": {},
     "output_type": "execute_result"
    }
   ],
   "source": [
    "df['age'].nunique()"
   ]
  },
  {
   "cell_type": "code",
   "execution_count": 33,
   "id": "0f46f7d3",
   "metadata": {},
   "outputs": [
    {
     "data": {
      "text/plain": [
       "(4521, 9)"
      ]
     },
     "execution_count": 33,
     "metadata": {},
     "output_type": "execute_result"
    }
   ],
   "source": [
    "df.shape"
   ]
  },
  {
   "cell_type": "code",
   "execution_count": 34,
   "id": "40e4c25d",
   "metadata": {},
   "outputs": [
    {
     "data": {
      "application/vnd.microsoft.datawrangler.viewer.v0+json": {
       "columns": [
        {
         "name": "index",
         "rawType": "object",
         "type": "string"
        },
        {
         "name": "0",
         "rawType": "object",
         "type": "unknown"
        }
       ],
       "ref": "18e4cab1-8a54-48e1-9353-3fdaa70e1128",
       "rows": [
        [
         "age",
         "float64"
        ],
        [
         "job",
         "object"
        ],
        [
         "marital",
         "object"
        ],
        [
         "education",
         "object"
        ],
        [
         "balance",
         "int64"
        ],
        [
         "housing",
         "object"
        ],
        [
         "duration",
         "float64"
        ],
        [
         "campaign",
         "int64"
        ],
        [
         "approval",
         "object"
        ]
       ],
       "shape": {
        "columns": 1,
        "rows": 9
       }
      },
      "text/plain": [
       "age          float64\n",
       "job           object\n",
       "marital       object\n",
       "education     object\n",
       "balance        int64\n",
       "housing       object\n",
       "duration     float64\n",
       "campaign       int64\n",
       "approval      object\n",
       "dtype: object"
      ]
     },
     "execution_count": 34,
     "metadata": {},
     "output_type": "execute_result"
    }
   ],
   "source": [
    "df.dtypes"
   ]
  },
  {
   "cell_type": "code",
   "execution_count": 35,
   "id": "036e7a60",
   "metadata": {},
   "outputs": [],
   "source": [
    "marital_df =df[df['balance'] == 'marital']"
   ]
  },
  {
   "cell_type": "code",
   "execution_count": 36,
   "id": "dc81cc96",
   "metadata": {},
   "outputs": [],
   "source": [
    "marital_df =df[df['education'] == 'secondary']"
   ]
  },
  {
   "cell_type": "code",
   "execution_count": 37,
   "id": "5587df49",
   "metadata": {},
   "outputs": [
    {
     "data": {
      "application/vnd.microsoft.datawrangler.viewer.v0+json": {
       "columns": [
        {
         "name": "index",
         "rawType": "int64",
         "type": "integer"
        },
        {
         "name": "age",
         "rawType": "float64",
         "type": "float"
        },
        {
         "name": "job",
         "rawType": "object",
         "type": "unknown"
        },
        {
         "name": "marital",
         "rawType": "object",
         "type": "unknown"
        },
        {
         "name": "education",
         "rawType": "object",
         "type": "string"
        },
        {
         "name": "balance",
         "rawType": "int64",
         "type": "integer"
        },
        {
         "name": "housing",
         "rawType": "object",
         "type": "unknown"
        },
        {
         "name": "duration",
         "rawType": "float64",
         "type": "float"
        },
        {
         "name": "campaign",
         "rawType": "int64",
         "type": "integer"
        },
        {
         "name": "approval",
         "rawType": "object",
         "type": "string"
        }
       ],
       "ref": "f97a2357-a445-4caa-8ce0-974443f0d4b9",
       "rows": [
        [
         "1",
         "33.0",
         "services",
         "married",
         "secondary",
         "4789",
         "yes",
         "220.0",
         "1",
         "no"
        ],
        [
         "4",
         "59.0",
         "blue-collar",
         "married",
         "secondary",
         "0",
         "yes",
         "226.0",
         "1",
         "no"
        ],
        [
         "7",
         "39.0",
         "technician",
         "married",
         "secondary",
         "147",
         "yes",
         "151.0",
         "2",
         "no"
        ],
        [
         "10",
         "39.0",
         "services",
         "married",
         "secondary",
         "9374",
         "yes",
         "273.0",
         "1",
         "no"
        ],
        [
         "11",
         "43.0",
         "admin.",
         "married",
         "secondary",
         "264",
         "yes",
         "113.0",
         "2",
         "no"
        ],
        [
         "13",
         "20.0",
         "student",
         "single",
         "secondary",
         "502",
         "no",
         "261.0",
         "1",
         "yes"
        ],
        [
         "14",
         "31.0",
         "blue-collar",
         "married",
         "secondary",
         "360",
         "yes",
         "89.0",
         "1",
         "no"
        ],
        [
         "16",
         "56.0",
         "technician",
         "married",
         "secondary",
         "4073",
         "no",
         "239.0",
         "5",
         "no"
        ],
        [
         "19",
         "31.0",
         "services",
         "married",
         "secondary",
         "132",
         "no",
         "148.0",
         "1",
         "no"
        ],
        [
         "22",
         "44.0",
         "services",
         "single",
         "secondary",
         "106",
         "no",
         "109.0",
         "2",
         "no"
        ],
        [
         "23",
         "44.0",
         "entrepreneur",
         "married",
         "secondary",
         "93",
         "no",
         "125.0",
         "2",
         "no"
        ],
        [
         "28",
         "56.0",
         "self-employed",
         "married",
         "secondary",
         "784",
         "no",
         "149.0",
         "2",
         "no"
        ],
        [
         "29",
         "53.0",
         "admin.",
         "married",
         "secondary",
         "105",
         "no",
         "74.0",
         "2",
         "no"
        ],
        [
         "30",
         "68.0",
         "retired",
         "divorced",
         "secondary",
         "4189",
         "no",
         "897.0",
         "2",
         "yes"
        ],
        [
         "31",
         "31.0",
         "technician",
         "married",
         "secondary",
         "171",
         "no",
         "81.0",
         "3",
         "no"
        ],
        [
         "32",
         "59.0",
         "management",
         "married",
         "secondary",
         "42",
         "no",
         "40.0",
         "1",
         "no"
        ],
        [
         "35",
         "42.0",
         "admin.",
         "divorced",
         "secondary",
         "1811",
         "yes",
         "150.0",
         "1",
         "no"
        ],
        [
         "37",
         "32.0",
         "blue-collar",
         "married",
         "secondary",
         "2089",
         "yes",
         "132.0",
         "1",
         "yes"
        ],
        [
         "38",
         "0.0",
         "management",
         "married",
         "secondary",
         "3935",
         "yes",
         "765.0",
         "1",
         "yes"
        ],
        [
         "42",
         "52.0",
         "blue-collar",
         "married",
         "secondary",
         "1117",
         "yes",
         "365.0",
         "1",
         "no"
        ],
        [
         "51",
         "37.0",
         "technician",
         "single",
         "secondary",
         "228",
         "yes",
         "1740.0",
         "2",
         "no"
        ],
        [
         "52",
         "38.0",
         "technician",
         "single",
         "secondary",
         "50",
         "no",
         "98.0",
         "2",
         "no"
        ],
        [
         "54",
         "53.0",
         "blue-collar",
         "married",
         "secondary",
         "2231",
         "yes",
         "272.0",
         "3",
         "no"
        ],
        [
         "55",
         "48.0",
         "admin.",
         "married",
         "secondary",
         "3064",
         "yes",
         "159.0",
         "2",
         "no"
        ],
        [
         "56",
         "57.0",
         "management",
         "married",
         "secondary",
         "82",
         "no",
         "140.0",
         "1",
         "no"
        ],
        [
         "58",
         "36.0",
         "retired",
         "single",
         "secondary",
         "101",
         "yes",
         "314.0",
         "1",
         "no"
        ],
        [
         "59",
         "54.0",
         "technician",
         "divorced",
         "secondary",
         "784",
         null,
         "579.0",
         "1",
         "no"
        ],
        [
         "61",
         "63.0",
         "retired",
         "married",
         "secondary",
         "415",
         "yes",
         "323.0",
         "1",
         "no"
        ],
        [
         "63",
         "48.0",
         "services",
         "married",
         "secondary",
         "1355",
         "no",
         "134.0",
         "2",
         "no"
        ],
        [
         "64",
         "56.0",
         "admin.",
         "married",
         "secondary",
         "16873",
         "no",
         "223.0",
         "1",
         "no"
        ],
        [
         "65",
         "51.0",
         "blue-collar",
         "divorced",
         "secondary",
         "203",
         "yes",
         "134.0",
         "1",
         "no"
        ],
        [
         "66",
         "31.0",
         "services",
         "married",
         "secondary",
         "338",
         "yes",
         "155.0",
         "1",
         "no"
        ],
        [
         "67",
         "29.0",
         "technician",
         "married",
         "secondary",
         "444",
         "yes",
         "130.0",
         "4",
         "no"
        ],
        [
         "68",
         "41.0",
         "management",
         "married",
         "secondary",
         "0",
         "no",
         "630.0",
         "3",
         "no"
        ],
        [
         "74",
         "56.0",
         "retired",
         "married",
         "secondary",
         "344",
         "yes",
         "221.0",
         "1",
         "no"
        ],
        [
         "76",
         "41.0",
         "blue-collar",
         "divorced",
         "secondary",
         "174",
         "yes",
         "367.0",
         "2",
         "no"
        ],
        [
         "77",
         "40.0",
         "technician",
         "single",
         "secondary",
         "591",
         "no",
         "87.0",
         "6",
         "no"
        ],
        [
         "79",
         "40.0",
         "unemployed",
         "married",
         "secondary",
         "219",
         "yes",
         "204.0",
         "2",
         "no"
        ],
        [
         "80",
         "27.0",
         "admin.",
         "divorced",
         "secondary",
         "451",
         "yes",
         "652.0",
         "1",
         "yes"
        ],
        [
         "82",
         "28.0",
         "admin.",
         "single",
         "secondary",
         "177",
         "yes",
         "150.0",
         "1",
         "no"
        ],
        [
         "83",
         "52.0",
         "services",
         "married",
         "secondary",
         "657",
         "no",
         "398.0",
         "2",
         "yes"
        ],
        [
         "86",
         "41.0",
         "technician",
         "single",
         "secondary",
         "879",
         "no",
         "60.0",
         "4",
         "no"
        ],
        [
         "88",
         "38.0",
         "admin.",
         "married",
         "secondary",
         "424",
         "yes",
         "279.0",
         "1",
         "no"
        ],
        [
         "89",
         "34.0",
         "blue-collar",
         "married",
         "secondary",
         "1831",
         "yes",
         "203.0",
         "2",
         "no"
        ],
        [
         "92",
         "27.0",
         "services",
         "single",
         "secondary",
         "-195",
         "yes",
         "391.0",
         "1",
         "yes"
        ],
        [
         "94",
         "57.0",
         "blue-collar",
         "married",
         "secondary",
         "14093",
         "no",
         "231.0",
         "5",
         "no"
        ],
        [
         "98",
         "36.0",
         "blue-collar",
         "divorced",
         "secondary",
         "2843",
         "no",
         "473.0",
         "1",
         "no"
        ],
        [
         "100",
         "36.0",
         "blue-collar",
         "married",
         "secondary",
         "0",
         "yes",
         "337.0",
         "1",
         "no"
        ],
        [
         "102",
         "49.0",
         "technician",
         "married",
         "secondary",
         "5996",
         "no",
         "345.0",
         "2",
         "no"
        ],
        [
         "104",
         "34.0",
         "management",
         "single",
         "secondary",
         "524",
         "no",
         "9.0",
         "1",
         "no"
        ]
       ],
       "shape": {
        "columns": 9,
        "rows": 2305
       }
      },
      "text/html": [
       "<div>\n",
       "<style scoped>\n",
       "    .dataframe tbody tr th:only-of-type {\n",
       "        vertical-align: middle;\n",
       "    }\n",
       "\n",
       "    .dataframe tbody tr th {\n",
       "        vertical-align: top;\n",
       "    }\n",
       "\n",
       "    .dataframe thead th {\n",
       "        text-align: right;\n",
       "    }\n",
       "</style>\n",
       "<table border=\"1\" class=\"dataframe\">\n",
       "  <thead>\n",
       "    <tr style=\"text-align: right;\">\n",
       "      <th></th>\n",
       "      <th>age</th>\n",
       "      <th>job</th>\n",
       "      <th>marital</th>\n",
       "      <th>education</th>\n",
       "      <th>balance</th>\n",
       "      <th>housing</th>\n",
       "      <th>duration</th>\n",
       "      <th>campaign</th>\n",
       "      <th>approval</th>\n",
       "    </tr>\n",
       "  </thead>\n",
       "  <tbody>\n",
       "    <tr>\n",
       "      <th>1</th>\n",
       "      <td>33.0</td>\n",
       "      <td>services</td>\n",
       "      <td>married</td>\n",
       "      <td>secondary</td>\n",
       "      <td>4789</td>\n",
       "      <td>yes</td>\n",
       "      <td>220.0</td>\n",
       "      <td>1</td>\n",
       "      <td>no</td>\n",
       "    </tr>\n",
       "    <tr>\n",
       "      <th>4</th>\n",
       "      <td>59.0</td>\n",
       "      <td>blue-collar</td>\n",
       "      <td>married</td>\n",
       "      <td>secondary</td>\n",
       "      <td>0</td>\n",
       "      <td>yes</td>\n",
       "      <td>226.0</td>\n",
       "      <td>1</td>\n",
       "      <td>no</td>\n",
       "    </tr>\n",
       "    <tr>\n",
       "      <th>7</th>\n",
       "      <td>39.0</td>\n",
       "      <td>technician</td>\n",
       "      <td>married</td>\n",
       "      <td>secondary</td>\n",
       "      <td>147</td>\n",
       "      <td>yes</td>\n",
       "      <td>151.0</td>\n",
       "      <td>2</td>\n",
       "      <td>no</td>\n",
       "    </tr>\n",
       "    <tr>\n",
       "      <th>10</th>\n",
       "      <td>39.0</td>\n",
       "      <td>services</td>\n",
       "      <td>married</td>\n",
       "      <td>secondary</td>\n",
       "      <td>9374</td>\n",
       "      <td>yes</td>\n",
       "      <td>273.0</td>\n",
       "      <td>1</td>\n",
       "      <td>no</td>\n",
       "    </tr>\n",
       "    <tr>\n",
       "      <th>11</th>\n",
       "      <td>43.0</td>\n",
       "      <td>admin.</td>\n",
       "      <td>married</td>\n",
       "      <td>secondary</td>\n",
       "      <td>264</td>\n",
       "      <td>yes</td>\n",
       "      <td>113.0</td>\n",
       "      <td>2</td>\n",
       "      <td>no</td>\n",
       "    </tr>\n",
       "    <tr>\n",
       "      <th>...</th>\n",
       "      <td>...</td>\n",
       "      <td>...</td>\n",
       "      <td>...</td>\n",
       "      <td>...</td>\n",
       "      <td>...</td>\n",
       "      <td>...</td>\n",
       "      <td>...</td>\n",
       "      <td>...</td>\n",
       "      <td>...</td>\n",
       "    </tr>\n",
       "    <tr>\n",
       "      <th>4514</th>\n",
       "      <td>38.0</td>\n",
       "      <td>blue-collar</td>\n",
       "      <td>married</td>\n",
       "      <td>secondary</td>\n",
       "      <td>1205</td>\n",
       "      <td>yes</td>\n",
       "      <td>45.0</td>\n",
       "      <td>4</td>\n",
       "      <td>no</td>\n",
       "    </tr>\n",
       "    <tr>\n",
       "      <th>4515</th>\n",
       "      <td>32.0</td>\n",
       "      <td>services</td>\n",
       "      <td>single</td>\n",
       "      <td>secondary</td>\n",
       "      <td>473</td>\n",
       "      <td>yes</td>\n",
       "      <td>624.0</td>\n",
       "      <td>5</td>\n",
       "      <td>no</td>\n",
       "    </tr>\n",
       "    <tr>\n",
       "      <th>4516</th>\n",
       "      <td>99.0</td>\n",
       "      <td>services</td>\n",
       "      <td>married</td>\n",
       "      <td>secondary</td>\n",
       "      <td>-333</td>\n",
       "      <td>yes</td>\n",
       "      <td>329.0</td>\n",
       "      <td>5</td>\n",
       "      <td>no</td>\n",
       "    </tr>\n",
       "    <tr>\n",
       "      <th>4518</th>\n",
       "      <td>57.0</td>\n",
       "      <td>technician</td>\n",
       "      <td>married</td>\n",
       "      <td>secondary</td>\n",
       "      <td>295</td>\n",
       "      <td>no</td>\n",
       "      <td>151.0</td>\n",
       "      <td>11</td>\n",
       "      <td>no</td>\n",
       "    </tr>\n",
       "    <tr>\n",
       "      <th>4519</th>\n",
       "      <td>28.0</td>\n",
       "      <td>blue-collar</td>\n",
       "      <td>married</td>\n",
       "      <td>secondary</td>\n",
       "      <td>1137</td>\n",
       "      <td>no</td>\n",
       "      <td>129.0</td>\n",
       "      <td>4</td>\n",
       "      <td>no</td>\n",
       "    </tr>\n",
       "  </tbody>\n",
       "</table>\n",
       "<p>2305 rows × 9 columns</p>\n",
       "</div>"
      ],
      "text/plain": [
       "       age          job  marital  education  balance housing  duration  \\\n",
       "1     33.0     services  married  secondary     4789     yes     220.0   \n",
       "4     59.0  blue-collar  married  secondary        0     yes     226.0   \n",
       "7     39.0   technician  married  secondary      147     yes     151.0   \n",
       "10    39.0     services  married  secondary     9374     yes     273.0   \n",
       "11    43.0       admin.  married  secondary      264     yes     113.0   \n",
       "...    ...          ...      ...        ...      ...     ...       ...   \n",
       "4514  38.0  blue-collar  married  secondary     1205     yes      45.0   \n",
       "4515  32.0     services   single  secondary      473     yes     624.0   \n",
       "4516  99.0     services  married  secondary     -333     yes     329.0   \n",
       "4518  57.0   technician  married  secondary      295      no     151.0   \n",
       "4519  28.0  blue-collar  married  secondary     1137      no     129.0   \n",
       "\n",
       "      campaign approval  \n",
       "1            1       no  \n",
       "4            1       no  \n",
       "7            2       no  \n",
       "10           1       no  \n",
       "11           2       no  \n",
       "...        ...      ...  \n",
       "4514         4       no  \n",
       "4515         5       no  \n",
       "4516         5       no  \n",
       "4518        11       no  \n",
       "4519         4       no  \n",
       "\n",
       "[2305 rows x 9 columns]"
      ]
     },
     "execution_count": 37,
     "metadata": {},
     "output_type": "execute_result"
    }
   ],
   "source": [
    "marital_df"
   ]
  },
  {
   "cell_type": "code",
   "execution_count": 38,
   "id": "d3883aa8",
   "metadata": {},
   "outputs": [
    {
     "data": {
      "application/vnd.microsoft.datawrangler.viewer.v0+json": {
       "columns": [
        {
         "name": "index",
         "rawType": "int64",
         "type": "integer"
        },
        {
         "name": "age",
         "rawType": "float64",
         "type": "float"
        },
        {
         "name": "job",
         "rawType": "object",
         "type": "string"
        },
        {
         "name": "marital",
         "rawType": "object",
         "type": "string"
        },
        {
         "name": "education",
         "rawType": "object",
         "type": "string"
        },
        {
         "name": "balance",
         "rawType": "int64",
         "type": "integer"
        },
        {
         "name": "housing",
         "rawType": "object",
         "type": "string"
        },
        {
         "name": "duration",
         "rawType": "float64",
         "type": "float"
        },
        {
         "name": "campaign",
         "rawType": "int64",
         "type": "integer"
        },
        {
         "name": "approval",
         "rawType": "object",
         "type": "string"
        }
       ],
       "ref": "4acd05d1-d7d5-4c8b-855a-a78f2168725a",
       "rows": [
        [
         "38",
         "0.0",
         "management",
         "married",
         "secondary",
         "3935",
         "yes",
         "765.0",
         "1",
         "yes"
        ],
        [
         "3809",
         "13.0",
         "blue-collar",
         "married",
         "secondary",
         "161",
         "yes",
         "274.0",
         "2",
         "no"
        ]
       ],
       "shape": {
        "columns": 9,
        "rows": 2
       }
      },
      "text/html": [
       "<div>\n",
       "<style scoped>\n",
       "    .dataframe tbody tr th:only-of-type {\n",
       "        vertical-align: middle;\n",
       "    }\n",
       "\n",
       "    .dataframe tbody tr th {\n",
       "        vertical-align: top;\n",
       "    }\n",
       "\n",
       "    .dataframe thead th {\n",
       "        text-align: right;\n",
       "    }\n",
       "</style>\n",
       "<table border=\"1\" class=\"dataframe\">\n",
       "  <thead>\n",
       "    <tr style=\"text-align: right;\">\n",
       "      <th></th>\n",
       "      <th>age</th>\n",
       "      <th>job</th>\n",
       "      <th>marital</th>\n",
       "      <th>education</th>\n",
       "      <th>balance</th>\n",
       "      <th>housing</th>\n",
       "      <th>duration</th>\n",
       "      <th>campaign</th>\n",
       "      <th>approval</th>\n",
       "    </tr>\n",
       "  </thead>\n",
       "  <tbody>\n",
       "    <tr>\n",
       "      <th>38</th>\n",
       "      <td>0.0</td>\n",
       "      <td>management</td>\n",
       "      <td>married</td>\n",
       "      <td>secondary</td>\n",
       "      <td>3935</td>\n",
       "      <td>yes</td>\n",
       "      <td>765.0</td>\n",
       "      <td>1</td>\n",
       "      <td>yes</td>\n",
       "    </tr>\n",
       "    <tr>\n",
       "      <th>3809</th>\n",
       "      <td>13.0</td>\n",
       "      <td>blue-collar</td>\n",
       "      <td>married</td>\n",
       "      <td>secondary</td>\n",
       "      <td>161</td>\n",
       "      <td>yes</td>\n",
       "      <td>274.0</td>\n",
       "      <td>2</td>\n",
       "      <td>no</td>\n",
       "    </tr>\n",
       "  </tbody>\n",
       "</table>\n",
       "</div>"
      ],
      "text/plain": [
       "       age          job  marital  education  balance housing  duration  \\\n",
       "38     0.0   management  married  secondary     3935     yes     765.0   \n",
       "3809  13.0  blue-collar  married  secondary      161     yes     274.0   \n",
       "\n",
       "      campaign approval  \n",
       "38           1      yes  \n",
       "3809         2       no  "
      ]
     },
     "execution_count": 38,
     "metadata": {},
     "output_type": "execute_result"
    }
   ],
   "source": [
    "marital_df[marital_df['age'] <= 18]"
   ]
  },
  {
   "cell_type": "code",
   "execution_count": 39,
   "id": "ed74f359",
   "metadata": {},
   "outputs": [],
   "source": [
    "marital_df =df[(df['marital']== 'married')&\n",
    "                 (df['age'] <= 18)&\n",
    "                 (df['education'] == 'secondary' )]"
   ]
  },
  {
   "cell_type": "code",
   "execution_count": 41,
   "id": "1c18c79a",
   "metadata": {},
   "outputs": [
    {
     "data": {
      "application/vnd.microsoft.datawrangler.viewer.v0+json": {
       "columns": [
        {
         "name": "index",
         "rawType": "int64",
         "type": "integer"
        },
        {
         "name": "age",
         "rawType": "float64",
         "type": "float"
        },
        {
         "name": "job",
         "rawType": "object",
         "type": "string"
        },
        {
         "name": "marital",
         "rawType": "object",
         "type": "string"
        },
        {
         "name": "education",
         "rawType": "object",
         "type": "string"
        },
        {
         "name": "balance",
         "rawType": "int64",
         "type": "integer"
        },
        {
         "name": "housing",
         "rawType": "object",
         "type": "string"
        },
        {
         "name": "duration",
         "rawType": "float64",
         "type": "float"
        },
        {
         "name": "campaign",
         "rawType": "int64",
         "type": "integer"
        },
        {
         "name": "approval",
         "rawType": "object",
         "type": "string"
        }
       ],
       "ref": "cc5f08b8-0b2c-49fa-b21b-a8ab0dba85c4",
       "rows": [
        [
         "38",
         "0.0",
         "management",
         "married",
         "secondary",
         "3935",
         "yes",
         "765.0",
         "1",
         "yes"
        ],
        [
         "3809",
         "13.0",
         "blue-collar",
         "married",
         "secondary",
         "161",
         "yes",
         "274.0",
         "2",
         "no"
        ]
       ],
       "shape": {
        "columns": 9,
        "rows": 2
       }
      },
      "text/html": [
       "<div>\n",
       "<style scoped>\n",
       "    .dataframe tbody tr th:only-of-type {\n",
       "        vertical-align: middle;\n",
       "    }\n",
       "\n",
       "    .dataframe tbody tr th {\n",
       "        vertical-align: top;\n",
       "    }\n",
       "\n",
       "    .dataframe thead th {\n",
       "        text-align: right;\n",
       "    }\n",
       "</style>\n",
       "<table border=\"1\" class=\"dataframe\">\n",
       "  <thead>\n",
       "    <tr style=\"text-align: right;\">\n",
       "      <th></th>\n",
       "      <th>age</th>\n",
       "      <th>job</th>\n",
       "      <th>marital</th>\n",
       "      <th>education</th>\n",
       "      <th>balance</th>\n",
       "      <th>housing</th>\n",
       "      <th>duration</th>\n",
       "      <th>campaign</th>\n",
       "      <th>approval</th>\n",
       "    </tr>\n",
       "  </thead>\n",
       "  <tbody>\n",
       "    <tr>\n",
       "      <th>38</th>\n",
       "      <td>0.0</td>\n",
       "      <td>management</td>\n",
       "      <td>married</td>\n",
       "      <td>secondary</td>\n",
       "      <td>3935</td>\n",
       "      <td>yes</td>\n",
       "      <td>765.0</td>\n",
       "      <td>1</td>\n",
       "      <td>yes</td>\n",
       "    </tr>\n",
       "    <tr>\n",
       "      <th>3809</th>\n",
       "      <td>13.0</td>\n",
       "      <td>blue-collar</td>\n",
       "      <td>married</td>\n",
       "      <td>secondary</td>\n",
       "      <td>161</td>\n",
       "      <td>yes</td>\n",
       "      <td>274.0</td>\n",
       "      <td>2</td>\n",
       "      <td>no</td>\n",
       "    </tr>\n",
       "  </tbody>\n",
       "</table>\n",
       "</div>"
      ],
      "text/plain": [
       "       age          job  marital  education  balance housing  duration  \\\n",
       "38     0.0   management  married  secondary     3935     yes     765.0   \n",
       "3809  13.0  blue-collar  married  secondary      161     yes     274.0   \n",
       "\n",
       "      campaign approval  \n",
       "38           1      yes  \n",
       "3809         2       no  "
      ]
     },
     "execution_count": 41,
     "metadata": {},
     "output_type": "execute_result"
    }
   ],
   "source": [
    "marital_df"
   ]
  },
  {
   "cell_type": "code",
   "execution_count": 42,
   "id": "7f09cec3",
   "metadata": {},
   "outputs": [],
   "source": [
    "df.rename(columns= {'age': 'a'},inplace= True)"
   ]
  },
  {
   "cell_type": "code",
   "execution_count": 43,
   "id": "7cd4cead",
   "metadata": {},
   "outputs": [
    {
     "data": {
      "application/vnd.microsoft.datawrangler.viewer.v0+json": {
       "columns": [
        {
         "name": "index",
         "rawType": "int64",
         "type": "integer"
        },
        {
         "name": "a",
         "rawType": "float64",
         "type": "float"
        },
        {
         "name": "job",
         "rawType": "object",
         "type": "unknown"
        },
        {
         "name": "marital",
         "rawType": "object",
         "type": "unknown"
        },
        {
         "name": "education",
         "rawType": "object",
         "type": "unknown"
        },
        {
         "name": "balance",
         "rawType": "int64",
         "type": "integer"
        },
        {
         "name": "housing",
         "rawType": "object",
         "type": "unknown"
        },
        {
         "name": "duration",
         "rawType": "float64",
         "type": "float"
        },
        {
         "name": "campaign",
         "rawType": "int64",
         "type": "integer"
        },
        {
         "name": "approval",
         "rawType": "object",
         "type": "string"
        }
       ],
       "ref": "ec819350-80bc-43f6-9e90-379e9bddb9aa",
       "rows": [
        [
         "0",
         "30.0",
         "unemployed",
         "married",
         "primary",
         "1787",
         "no",
         "79.0",
         "1",
         "no"
        ],
        [
         "1",
         "33.0",
         "services",
         "married",
         "secondary",
         "4789",
         "yes",
         "220.0",
         "1",
         "no"
        ],
        [
         "2",
         "35.0",
         "management",
         "single",
         "tertiary",
         "1350",
         "yes",
         "185.0",
         "1",
         "no"
        ],
        [
         "3",
         "30.0",
         "management",
         "married",
         "tertiary",
         "1476",
         "yes",
         "199.0",
         "4",
         "no"
        ],
        [
         "4",
         "59.0",
         "blue-collar",
         "married",
         "secondary",
         "0",
         "yes",
         "226.0",
         "1",
         "no"
        ],
        [
         "5",
         "35.0",
         "management",
         "single",
         "tertiary",
         "747",
         "no",
         "141.0",
         "2",
         "no"
        ],
        [
         "6",
         "36.0",
         "self-employed",
         "married",
         "tertiary",
         "307",
         "yes",
         "341.0",
         "1",
         "no"
        ],
        [
         "7",
         "39.0",
         "technician",
         "married",
         "secondary",
         "147",
         "yes",
         "151.0",
         "2",
         "no"
        ],
        [
         "8",
         "41.0",
         "entrepreneur",
         "married",
         "tertiary",
         "221",
         "yes",
         "57.0",
         "2",
         "no"
        ],
        [
         "9",
         "43.0",
         "services",
         "married",
         "primary",
         "-88",
         "yes",
         "313.0",
         "1",
         "no"
        ],
        [
         "10",
         "39.0",
         "services",
         "married",
         "secondary",
         "9374",
         "yes",
         "273.0",
         "1",
         "no"
        ],
        [
         "11",
         "43.0",
         "admin.",
         "married",
         "secondary",
         "264",
         "yes",
         "113.0",
         "2",
         "no"
        ],
        [
         "12",
         "36.0",
         "technician",
         "married",
         "tertiary",
         "1109",
         "no",
         "-328.0",
         "2",
         "no"
        ],
        [
         "13",
         "20.0",
         "student",
         "single",
         "secondary",
         "502",
         "no",
         "261.0",
         "1",
         "yes"
        ],
        [
         "14",
         "31.0",
         "blue-collar",
         "married",
         "secondary",
         "360",
         "yes",
         "89.0",
         "1",
         "no"
        ],
        [
         "15",
         "40.0",
         "management",
         "married",
         "tertiary",
         "194",
         "no",
         "189.0",
         "2",
         "no"
        ],
        [
         "16",
         "56.0",
         "technician",
         "married",
         "secondary",
         "4073",
         "no",
         "239.0",
         "5",
         "no"
        ],
        [
         "17",
         "37.0",
         "admin.",
         "single",
         "tertiary",
         "2317",
         "yes",
         "114.0",
         "1",
         "no"
        ],
        [
         "18",
         "25.0",
         "blue-collar",
         "single",
         "primary",
         "-221",
         null,
         "250.0",
         "1",
         "no"
        ],
        [
         "19",
         "31.0",
         "services",
         "married",
         "secondary",
         "132",
         "no",
         "148.0",
         "1",
         "no"
        ],
        [
         "20",
         "38.0",
         "management",
         "divorced",
         "unknown",
         "0",
         "yes",
         "-96.0",
         "2",
         "no"
        ],
        [
         "21",
         "42.0",
         "management",
         "divorced",
         "tertiary",
         "16",
         "no",
         "140.0",
         "3",
         "no"
        ],
        [
         "22",
         "44.0",
         "services",
         "single",
         "secondary",
         "106",
         "no",
         "109.0",
         "2",
         "no"
        ],
        [
         "23",
         "44.0",
         "entrepreneur",
         "married",
         "secondary",
         "93",
         "no",
         "125.0",
         "2",
         "no"
        ],
        [
         "24",
         "26.0",
         "housemaid",
         "married",
         "tertiary",
         "543",
         "no",
         "169.0",
         "3",
         "no"
        ],
        [
         "25",
         "41.0",
         "management",
         "married",
         "tertiary",
         "5883",
         "no",
         "182.0",
         "2",
         "no"
        ],
        [
         "26",
         "55.0",
         "blue-collar",
         "married",
         "primary",
         "627",
         "yes",
         "247.0",
         "1",
         "no"
        ],
        [
         "27",
         "67.0",
         "retired",
         "married",
         "unknown",
         "696",
         "no",
         "119.0",
         "1",
         "no"
        ],
        [
         "28",
         "56.0",
         "self-employed",
         "married",
         "secondary",
         "784",
         "no",
         "149.0",
         "2",
         "no"
        ],
        [
         "29",
         "53.0",
         "admin.",
         "married",
         "secondary",
         "105",
         "no",
         "74.0",
         "2",
         "no"
        ],
        [
         "30",
         "68.0",
         "retired",
         "divorced",
         "secondary",
         "4189",
         "no",
         "897.0",
         "2",
         "yes"
        ],
        [
         "31",
         "31.0",
         "technician",
         "married",
         "secondary",
         "171",
         "no",
         "81.0",
         "3",
         "no"
        ],
        [
         "32",
         "59.0",
         "management",
         "married",
         "secondary",
         "42",
         "no",
         "40.0",
         "1",
         "no"
        ],
        [
         "33",
         "32.0",
         "management",
         "single",
         "tertiary",
         "2536",
         "yes",
         "958.0",
         "6",
         "yes"
        ],
        [
         "34",
         "49.0",
         "technician",
         "married",
         "tertiary",
         "1235",
         "no",
         "354.0",
         "3",
         "yes"
        ],
        [
         "35",
         "42.0",
         "admin.",
         "divorced",
         "secondary",
         "1811",
         "yes",
         "150.0",
         "1",
         "no"
        ],
        [
         "36",
         "78.0",
         "retired",
         "divorced",
         "primary",
         "229",
         "no",
         "97.0",
         "1",
         "yes"
        ],
        [
         "37",
         "32.0",
         "blue-collar",
         "married",
         "secondary",
         "2089",
         "yes",
         "132.0",
         "1",
         "yes"
        ],
        [
         "38",
         "0.0",
         "management",
         "married",
         "secondary",
         "3935",
         "yes",
         "765.0",
         "1",
         "yes"
        ],
        [
         "39",
         "23.0",
         "services",
         "single",
         "tertiary",
         "363",
         "yes",
         "16.0",
         "18",
         "no"
        ],
        [
         "40",
         "38.0",
         "management",
         "single",
         "tertiary",
         "11971",
         "yes",
         "609.0",
         "2",
         "no"
        ],
        [
         "41",
         "36.0",
         "management",
         "single",
         "tertiary",
         "553",
         "no",
         "106.0",
         "2",
         "no"
        ],
        [
         "42",
         "52.0",
         "blue-collar",
         "married",
         "secondary",
         "1117",
         "yes",
         "365.0",
         "1",
         "no"
        ],
        [
         "43",
         "32.0",
         "technician",
         "married",
         "tertiary",
         "396",
         "yes",
         "205.0",
         "3",
         "no"
        ],
        [
         "44",
         "32.0",
         "technician",
         "single",
         "tertiary",
         "2204",
         "yes",
         "11.0",
         "4",
         "no"
        ],
        [
         "45",
         "34.0",
         "management",
         "single",
         "tertiary",
         "872",
         "yes",
         "105.0",
         "2",
         "no"
        ],
        [
         "46",
         "55.0",
         "blue-collar",
         "married",
         "primary",
         "145",
         "no",
         "59.0",
         "3",
         "no"
        ],
        [
         "47",
         "26.0",
         "blue-collar",
         "married",
         "primary",
         "0",
         "yes",
         "425.0",
         "1",
         "no"
        ],
        [
         "48",
         "32.0",
         "entrepreneur",
         "single",
         "primary",
         "-849",
         "yes",
         "204.0",
         "1",
         "no"
        ],
        [
         "49",
         null,
         "admin.",
         "married",
         "unknown",
         "4629",
         "yes",
         "181.0",
         "1",
         "yes"
        ]
       ],
       "shape": {
        "columns": 9,
        "rows": 4521
       }
      },
      "text/html": [
       "<div>\n",
       "<style scoped>\n",
       "    .dataframe tbody tr th:only-of-type {\n",
       "        vertical-align: middle;\n",
       "    }\n",
       "\n",
       "    .dataframe tbody tr th {\n",
       "        vertical-align: top;\n",
       "    }\n",
       "\n",
       "    .dataframe thead th {\n",
       "        text-align: right;\n",
       "    }\n",
       "</style>\n",
       "<table border=\"1\" class=\"dataframe\">\n",
       "  <thead>\n",
       "    <tr style=\"text-align: right;\">\n",
       "      <th></th>\n",
       "      <th>a</th>\n",
       "      <th>job</th>\n",
       "      <th>marital</th>\n",
       "      <th>education</th>\n",
       "      <th>balance</th>\n",
       "      <th>housing</th>\n",
       "      <th>duration</th>\n",
       "      <th>campaign</th>\n",
       "      <th>approval</th>\n",
       "    </tr>\n",
       "  </thead>\n",
       "  <tbody>\n",
       "    <tr>\n",
       "      <th>0</th>\n",
       "      <td>30.0</td>\n",
       "      <td>unemployed</td>\n",
       "      <td>married</td>\n",
       "      <td>primary</td>\n",
       "      <td>1787</td>\n",
       "      <td>no</td>\n",
       "      <td>79.0</td>\n",
       "      <td>1</td>\n",
       "      <td>no</td>\n",
       "    </tr>\n",
       "    <tr>\n",
       "      <th>1</th>\n",
       "      <td>33.0</td>\n",
       "      <td>services</td>\n",
       "      <td>married</td>\n",
       "      <td>secondary</td>\n",
       "      <td>4789</td>\n",
       "      <td>yes</td>\n",
       "      <td>220.0</td>\n",
       "      <td>1</td>\n",
       "      <td>no</td>\n",
       "    </tr>\n",
       "    <tr>\n",
       "      <th>2</th>\n",
       "      <td>35.0</td>\n",
       "      <td>management</td>\n",
       "      <td>single</td>\n",
       "      <td>tertiary</td>\n",
       "      <td>1350</td>\n",
       "      <td>yes</td>\n",
       "      <td>185.0</td>\n",
       "      <td>1</td>\n",
       "      <td>no</td>\n",
       "    </tr>\n",
       "    <tr>\n",
       "      <th>3</th>\n",
       "      <td>30.0</td>\n",
       "      <td>management</td>\n",
       "      <td>married</td>\n",
       "      <td>tertiary</td>\n",
       "      <td>1476</td>\n",
       "      <td>yes</td>\n",
       "      <td>199.0</td>\n",
       "      <td>4</td>\n",
       "      <td>no</td>\n",
       "    </tr>\n",
       "    <tr>\n",
       "      <th>4</th>\n",
       "      <td>59.0</td>\n",
       "      <td>blue-collar</td>\n",
       "      <td>married</td>\n",
       "      <td>secondary</td>\n",
       "      <td>0</td>\n",
       "      <td>yes</td>\n",
       "      <td>226.0</td>\n",
       "      <td>1</td>\n",
       "      <td>no</td>\n",
       "    </tr>\n",
       "    <tr>\n",
       "      <th>...</th>\n",
       "      <td>...</td>\n",
       "      <td>...</td>\n",
       "      <td>...</td>\n",
       "      <td>...</td>\n",
       "      <td>...</td>\n",
       "      <td>...</td>\n",
       "      <td>...</td>\n",
       "      <td>...</td>\n",
       "      <td>...</td>\n",
       "    </tr>\n",
       "    <tr>\n",
       "      <th>4516</th>\n",
       "      <td>99.0</td>\n",
       "      <td>services</td>\n",
       "      <td>married</td>\n",
       "      <td>secondary</td>\n",
       "      <td>-333</td>\n",
       "      <td>yes</td>\n",
       "      <td>329.0</td>\n",
       "      <td>5</td>\n",
       "      <td>no</td>\n",
       "    </tr>\n",
       "    <tr>\n",
       "      <th>4517</th>\n",
       "      <td>57.0</td>\n",
       "      <td>self-employed</td>\n",
       "      <td>married</td>\n",
       "      <td>tertiary</td>\n",
       "      <td>-3313</td>\n",
       "      <td>yes</td>\n",
       "      <td>-153.0</td>\n",
       "      <td>1</td>\n",
       "      <td>no</td>\n",
       "    </tr>\n",
       "    <tr>\n",
       "      <th>4518</th>\n",
       "      <td>57.0</td>\n",
       "      <td>technician</td>\n",
       "      <td>married</td>\n",
       "      <td>secondary</td>\n",
       "      <td>295</td>\n",
       "      <td>no</td>\n",
       "      <td>151.0</td>\n",
       "      <td>11</td>\n",
       "      <td>no</td>\n",
       "    </tr>\n",
       "    <tr>\n",
       "      <th>4519</th>\n",
       "      <td>28.0</td>\n",
       "      <td>blue-collar</td>\n",
       "      <td>married</td>\n",
       "      <td>secondary</td>\n",
       "      <td>1137</td>\n",
       "      <td>no</td>\n",
       "      <td>129.0</td>\n",
       "      <td>4</td>\n",
       "      <td>no</td>\n",
       "    </tr>\n",
       "    <tr>\n",
       "      <th>4520</th>\n",
       "      <td>44.0</td>\n",
       "      <td>entrepreneur</td>\n",
       "      <td>single</td>\n",
       "      <td>tertiary</td>\n",
       "      <td>1136</td>\n",
       "      <td>yes</td>\n",
       "      <td>345.0</td>\n",
       "      <td>2</td>\n",
       "      <td>no</td>\n",
       "    </tr>\n",
       "  </tbody>\n",
       "</table>\n",
       "<p>4521 rows × 9 columns</p>\n",
       "</div>"
      ],
      "text/plain": [
       "         a            job  marital  education  balance housing  duration  \\\n",
       "0     30.0     unemployed  married    primary     1787      no      79.0   \n",
       "1     33.0       services  married  secondary     4789     yes     220.0   \n",
       "2     35.0     management   single   tertiary     1350     yes     185.0   \n",
       "3     30.0     management  married   tertiary     1476     yes     199.0   \n",
       "4     59.0    blue-collar  married  secondary        0     yes     226.0   \n",
       "...    ...            ...      ...        ...      ...     ...       ...   \n",
       "4516  99.0       services  married  secondary     -333     yes     329.0   \n",
       "4517  57.0  self-employed  married   tertiary    -3313     yes    -153.0   \n",
       "4518  57.0     technician  married  secondary      295      no     151.0   \n",
       "4519  28.0    blue-collar  married  secondary     1137      no     129.0   \n",
       "4520  44.0   entrepreneur   single   tertiary     1136     yes     345.0   \n",
       "\n",
       "      campaign approval  \n",
       "0            1       no  \n",
       "1            1       no  \n",
       "2            1       no  \n",
       "3            4       no  \n",
       "4            1       no  \n",
       "...        ...      ...  \n",
       "4516         5       no  \n",
       "4517         1       no  \n",
       "4518        11       no  \n",
       "4519         4       no  \n",
       "4520         2       no  \n",
       "\n",
       "[4521 rows x 9 columns]"
      ]
     },
     "execution_count": 43,
     "metadata": {},
     "output_type": "execute_result"
    }
   ],
   "source": [
    "df"
   ]
  },
  {
   "cell_type": "code",
   "execution_count": 46,
   "id": "cbf8a3b0",
   "metadata": {},
   "outputs": [
    {
     "data": {
      "application/vnd.microsoft.datawrangler.viewer.v0+json": {
       "columns": [
        {
         "name": "index",
         "rawType": "int64",
         "type": "integer"
        },
        {
         "name": "job",
         "rawType": "object",
         "type": "unknown"
        },
        {
         "name": "marital",
         "rawType": "object",
         "type": "unknown"
        },
        {
         "name": "education",
         "rawType": "object",
         "type": "unknown"
        },
        {
         "name": "housing",
         "rawType": "object",
         "type": "unknown"
        },
        {
         "name": "approval",
         "rawType": "object",
         "type": "string"
        }
       ],
       "ref": "c859fba5-1bd2-4c99-95db-2d396ac496e5",
       "rows": [
        [
         "0",
         "unemployed",
         "married",
         "primary",
         "no",
         "no"
        ],
        [
         "1",
         "services",
         "married",
         "secondary",
         "yes",
         "no"
        ],
        [
         "2",
         "management",
         "single",
         "tertiary",
         "yes",
         "no"
        ],
        [
         "3",
         "management",
         "married",
         "tertiary",
         "yes",
         "no"
        ],
        [
         "4",
         "blue-collar",
         "married",
         "secondary",
         "yes",
         "no"
        ],
        [
         "5",
         "management",
         "single",
         "tertiary",
         "no",
         "no"
        ],
        [
         "6",
         "self-employed",
         "married",
         "tertiary",
         "yes",
         "no"
        ],
        [
         "7",
         "technician",
         "married",
         "secondary",
         "yes",
         "no"
        ],
        [
         "8",
         "entrepreneur",
         "married",
         "tertiary",
         "yes",
         "no"
        ],
        [
         "9",
         "services",
         "married",
         "primary",
         "yes",
         "no"
        ],
        [
         "10",
         "services",
         "married",
         "secondary",
         "yes",
         "no"
        ],
        [
         "11",
         "admin.",
         "married",
         "secondary",
         "yes",
         "no"
        ],
        [
         "12",
         "technician",
         "married",
         "tertiary",
         "no",
         "no"
        ],
        [
         "13",
         "student",
         "single",
         "secondary",
         "no",
         "yes"
        ],
        [
         "14",
         "blue-collar",
         "married",
         "secondary",
         "yes",
         "no"
        ],
        [
         "15",
         "management",
         "married",
         "tertiary",
         "no",
         "no"
        ],
        [
         "16",
         "technician",
         "married",
         "secondary",
         "no",
         "no"
        ],
        [
         "17",
         "admin.",
         "single",
         "tertiary",
         "yes",
         "no"
        ],
        [
         "18",
         "blue-collar",
         "single",
         "primary",
         null,
         "no"
        ],
        [
         "19",
         "services",
         "married",
         "secondary",
         "no",
         "no"
        ],
        [
         "20",
         "management",
         "divorced",
         "unknown",
         "yes",
         "no"
        ],
        [
         "21",
         "management",
         "divorced",
         "tertiary",
         "no",
         "no"
        ],
        [
         "22",
         "services",
         "single",
         "secondary",
         "no",
         "no"
        ],
        [
         "23",
         "entrepreneur",
         "married",
         "secondary",
         "no",
         "no"
        ],
        [
         "24",
         "housemaid",
         "married",
         "tertiary",
         "no",
         "no"
        ],
        [
         "25",
         "management",
         "married",
         "tertiary",
         "no",
         "no"
        ],
        [
         "26",
         "blue-collar",
         "married",
         "primary",
         "yes",
         "no"
        ],
        [
         "27",
         "retired",
         "married",
         "unknown",
         "no",
         "no"
        ],
        [
         "28",
         "self-employed",
         "married",
         "secondary",
         "no",
         "no"
        ],
        [
         "29",
         "admin.",
         "married",
         "secondary",
         "no",
         "no"
        ],
        [
         "30",
         "retired",
         "divorced",
         "secondary",
         "no",
         "yes"
        ],
        [
         "31",
         "technician",
         "married",
         "secondary",
         "no",
         "no"
        ],
        [
         "32",
         "management",
         "married",
         "secondary",
         "no",
         "no"
        ],
        [
         "33",
         "management",
         "single",
         "tertiary",
         "yes",
         "yes"
        ],
        [
         "34",
         "technician",
         "married",
         "tertiary",
         "no",
         "yes"
        ],
        [
         "35",
         "admin.",
         "divorced",
         "secondary",
         "yes",
         "no"
        ],
        [
         "36",
         "retired",
         "divorced",
         "primary",
         "no",
         "yes"
        ],
        [
         "37",
         "blue-collar",
         "married",
         "secondary",
         "yes",
         "yes"
        ],
        [
         "38",
         "management",
         "married",
         "secondary",
         "yes",
         "yes"
        ],
        [
         "39",
         "services",
         "single",
         "tertiary",
         "yes",
         "no"
        ],
        [
         "40",
         "management",
         "single",
         "tertiary",
         "yes",
         "no"
        ],
        [
         "41",
         "management",
         "single",
         "tertiary",
         "no",
         "no"
        ],
        [
         "42",
         "blue-collar",
         "married",
         "secondary",
         "yes",
         "no"
        ],
        [
         "43",
         "technician",
         "married",
         "tertiary",
         "yes",
         "no"
        ],
        [
         "44",
         "technician",
         "single",
         "tertiary",
         "yes",
         "no"
        ],
        [
         "45",
         "management",
         "single",
         "tertiary",
         "yes",
         "no"
        ],
        [
         "46",
         "blue-collar",
         "married",
         "primary",
         "no",
         "no"
        ],
        [
         "47",
         "blue-collar",
         "married",
         "primary",
         "yes",
         "no"
        ],
        [
         "48",
         "entrepreneur",
         "single",
         "primary",
         "yes",
         "no"
        ],
        [
         "49",
         "admin.",
         "married",
         "unknown",
         "yes",
         "yes"
        ]
       ],
       "shape": {
        "columns": 5,
        "rows": 4521
       }
      },
      "text/html": [
       "<div>\n",
       "<style scoped>\n",
       "    .dataframe tbody tr th:only-of-type {\n",
       "        vertical-align: middle;\n",
       "    }\n",
       "\n",
       "    .dataframe tbody tr th {\n",
       "        vertical-align: top;\n",
       "    }\n",
       "\n",
       "    .dataframe thead th {\n",
       "        text-align: right;\n",
       "    }\n",
       "</style>\n",
       "<table border=\"1\" class=\"dataframe\">\n",
       "  <thead>\n",
       "    <tr style=\"text-align: right;\">\n",
       "      <th></th>\n",
       "      <th>job</th>\n",
       "      <th>marital</th>\n",
       "      <th>education</th>\n",
       "      <th>housing</th>\n",
       "      <th>approval</th>\n",
       "    </tr>\n",
       "  </thead>\n",
       "  <tbody>\n",
       "    <tr>\n",
       "      <th>0</th>\n",
       "      <td>unemployed</td>\n",
       "      <td>married</td>\n",
       "      <td>primary</td>\n",
       "      <td>no</td>\n",
       "      <td>no</td>\n",
       "    </tr>\n",
       "    <tr>\n",
       "      <th>1</th>\n",
       "      <td>services</td>\n",
       "      <td>married</td>\n",
       "      <td>secondary</td>\n",
       "      <td>yes</td>\n",
       "      <td>no</td>\n",
       "    </tr>\n",
       "    <tr>\n",
       "      <th>2</th>\n",
       "      <td>management</td>\n",
       "      <td>single</td>\n",
       "      <td>tertiary</td>\n",
       "      <td>yes</td>\n",
       "      <td>no</td>\n",
       "    </tr>\n",
       "    <tr>\n",
       "      <th>3</th>\n",
       "      <td>management</td>\n",
       "      <td>married</td>\n",
       "      <td>tertiary</td>\n",
       "      <td>yes</td>\n",
       "      <td>no</td>\n",
       "    </tr>\n",
       "    <tr>\n",
       "      <th>4</th>\n",
       "      <td>blue-collar</td>\n",
       "      <td>married</td>\n",
       "      <td>secondary</td>\n",
       "      <td>yes</td>\n",
       "      <td>no</td>\n",
       "    </tr>\n",
       "    <tr>\n",
       "      <th>...</th>\n",
       "      <td>...</td>\n",
       "      <td>...</td>\n",
       "      <td>...</td>\n",
       "      <td>...</td>\n",
       "      <td>...</td>\n",
       "    </tr>\n",
       "    <tr>\n",
       "      <th>4516</th>\n",
       "      <td>services</td>\n",
       "      <td>married</td>\n",
       "      <td>secondary</td>\n",
       "      <td>yes</td>\n",
       "      <td>no</td>\n",
       "    </tr>\n",
       "    <tr>\n",
       "      <th>4517</th>\n",
       "      <td>self-employed</td>\n",
       "      <td>married</td>\n",
       "      <td>tertiary</td>\n",
       "      <td>yes</td>\n",
       "      <td>no</td>\n",
       "    </tr>\n",
       "    <tr>\n",
       "      <th>4518</th>\n",
       "      <td>technician</td>\n",
       "      <td>married</td>\n",
       "      <td>secondary</td>\n",
       "      <td>no</td>\n",
       "      <td>no</td>\n",
       "    </tr>\n",
       "    <tr>\n",
       "      <th>4519</th>\n",
       "      <td>blue-collar</td>\n",
       "      <td>married</td>\n",
       "      <td>secondary</td>\n",
       "      <td>no</td>\n",
       "      <td>no</td>\n",
       "    </tr>\n",
       "    <tr>\n",
       "      <th>4520</th>\n",
       "      <td>entrepreneur</td>\n",
       "      <td>single</td>\n",
       "      <td>tertiary</td>\n",
       "      <td>yes</td>\n",
       "      <td>no</td>\n",
       "    </tr>\n",
       "  </tbody>\n",
       "</table>\n",
       "<p>4521 rows × 5 columns</p>\n",
       "</div>"
      ],
      "text/plain": [
       "                job  marital  education housing approval\n",
       "0        unemployed  married    primary      no       no\n",
       "1          services  married  secondary     yes       no\n",
       "2        management   single   tertiary     yes       no\n",
       "3        management  married   tertiary     yes       no\n",
       "4       blue-collar  married  secondary     yes       no\n",
       "...             ...      ...        ...     ...      ...\n",
       "4516       services  married  secondary     yes       no\n",
       "4517  self-employed  married   tertiary     yes       no\n",
       "4518     technician  married  secondary      no       no\n",
       "4519    blue-collar  married  secondary      no       no\n",
       "4520   entrepreneur   single   tertiary     yes       no\n",
       "\n",
       "[4521 rows x 5 columns]"
      ]
     },
     "execution_count": 46,
     "metadata": {},
     "output_type": "execute_result"
    }
   ],
   "source": [
    "df.select_dtypes(include='object')"
   ]
  },
  {
   "cell_type": "code",
   "execution_count": 44,
   "id": "a202fce4",
   "metadata": {},
   "outputs": [],
   "source": [
    "num=df.select_dtypes(exclude='object')"
   ]
  },
  {
   "cell_type": "code",
   "execution_count": 45,
   "id": "427d322b",
   "metadata": {},
   "outputs": [
    {
     "data": {
      "application/vnd.microsoft.datawrangler.viewer.v0+json": {
       "columns": [
        {
         "name": "index",
         "rawType": "int64",
         "type": "integer"
        },
        {
         "name": "a",
         "rawType": "float64",
         "type": "float"
        },
        {
         "name": "balance",
         "rawType": "int64",
         "type": "integer"
        },
        {
         "name": "duration",
         "rawType": "float64",
         "type": "float"
        },
        {
         "name": "campaign",
         "rawType": "int64",
         "type": "integer"
        }
       ],
       "ref": "9e08700c-9dfc-4af1-a116-8659518c366c",
       "rows": [
        [
         "0",
         "30.0",
         "1787",
         "79.0",
         "1"
        ],
        [
         "1",
         "33.0",
         "4789",
         "220.0",
         "1"
        ],
        [
         "2",
         "35.0",
         "1350",
         "185.0",
         "1"
        ],
        [
         "3",
         "30.0",
         "1476",
         "199.0",
         "4"
        ],
        [
         "4",
         "59.0",
         "0",
         "226.0",
         "1"
        ],
        [
         "5",
         "35.0",
         "747",
         "141.0",
         "2"
        ],
        [
         "6",
         "36.0",
         "307",
         "341.0",
         "1"
        ],
        [
         "7",
         "39.0",
         "147",
         "151.0",
         "2"
        ],
        [
         "8",
         "41.0",
         "221",
         "57.0",
         "2"
        ],
        [
         "9",
         "43.0",
         "-88",
         "313.0",
         "1"
        ],
        [
         "10",
         "39.0",
         "9374",
         "273.0",
         "1"
        ],
        [
         "11",
         "43.0",
         "264",
         "113.0",
         "2"
        ],
        [
         "12",
         "36.0",
         "1109",
         "-328.0",
         "2"
        ],
        [
         "13",
         "20.0",
         "502",
         "261.0",
         "1"
        ],
        [
         "14",
         "31.0",
         "360",
         "89.0",
         "1"
        ],
        [
         "15",
         "40.0",
         "194",
         "189.0",
         "2"
        ],
        [
         "16",
         "56.0",
         "4073",
         "239.0",
         "5"
        ],
        [
         "17",
         "37.0",
         "2317",
         "114.0",
         "1"
        ],
        [
         "18",
         "25.0",
         "-221",
         "250.0",
         "1"
        ],
        [
         "19",
         "31.0",
         "132",
         "148.0",
         "1"
        ],
        [
         "20",
         "38.0",
         "0",
         "-96.0",
         "2"
        ],
        [
         "21",
         "42.0",
         "16",
         "140.0",
         "3"
        ],
        [
         "22",
         "44.0",
         "106",
         "109.0",
         "2"
        ],
        [
         "23",
         "44.0",
         "93",
         "125.0",
         "2"
        ],
        [
         "24",
         "26.0",
         "543",
         "169.0",
         "3"
        ],
        [
         "25",
         "41.0",
         "5883",
         "182.0",
         "2"
        ],
        [
         "26",
         "55.0",
         "627",
         "247.0",
         "1"
        ],
        [
         "27",
         "67.0",
         "696",
         "119.0",
         "1"
        ],
        [
         "28",
         "56.0",
         "784",
         "149.0",
         "2"
        ],
        [
         "29",
         "53.0",
         "105",
         "74.0",
         "2"
        ],
        [
         "30",
         "68.0",
         "4189",
         "897.0",
         "2"
        ],
        [
         "31",
         "31.0",
         "171",
         "81.0",
         "3"
        ],
        [
         "32",
         "59.0",
         "42",
         "40.0",
         "1"
        ],
        [
         "33",
         "32.0",
         "2536",
         "958.0",
         "6"
        ],
        [
         "34",
         "49.0",
         "1235",
         "354.0",
         "3"
        ],
        [
         "35",
         "42.0",
         "1811",
         "150.0",
         "1"
        ],
        [
         "36",
         "78.0",
         "229",
         "97.0",
         "1"
        ],
        [
         "37",
         "32.0",
         "2089",
         "132.0",
         "1"
        ],
        [
         "38",
         "0.0",
         "3935",
         "765.0",
         "1"
        ],
        [
         "39",
         "23.0",
         "363",
         "16.0",
         "18"
        ],
        [
         "40",
         "38.0",
         "11971",
         "609.0",
         "2"
        ],
        [
         "41",
         "36.0",
         "553",
         "106.0",
         "2"
        ],
        [
         "42",
         "52.0",
         "1117",
         "365.0",
         "1"
        ],
        [
         "43",
         "32.0",
         "396",
         "205.0",
         "3"
        ],
        [
         "44",
         "32.0",
         "2204",
         "11.0",
         "4"
        ],
        [
         "45",
         "34.0",
         "872",
         "105.0",
         "2"
        ],
        [
         "46",
         "55.0",
         "145",
         "59.0",
         "3"
        ],
        [
         "47",
         "26.0",
         "0",
         "425.0",
         "1"
        ],
        [
         "48",
         "32.0",
         "-849",
         "204.0",
         "1"
        ],
        [
         "49",
         null,
         "4629",
         "181.0",
         "1"
        ]
       ],
       "shape": {
        "columns": 4,
        "rows": 4521
       }
      },
      "text/html": [
       "<div>\n",
       "<style scoped>\n",
       "    .dataframe tbody tr th:only-of-type {\n",
       "        vertical-align: middle;\n",
       "    }\n",
       "\n",
       "    .dataframe tbody tr th {\n",
       "        vertical-align: top;\n",
       "    }\n",
       "\n",
       "    .dataframe thead th {\n",
       "        text-align: right;\n",
       "    }\n",
       "</style>\n",
       "<table border=\"1\" class=\"dataframe\">\n",
       "  <thead>\n",
       "    <tr style=\"text-align: right;\">\n",
       "      <th></th>\n",
       "      <th>a</th>\n",
       "      <th>balance</th>\n",
       "      <th>duration</th>\n",
       "      <th>campaign</th>\n",
       "    </tr>\n",
       "  </thead>\n",
       "  <tbody>\n",
       "    <tr>\n",
       "      <th>0</th>\n",
       "      <td>30.0</td>\n",
       "      <td>1787</td>\n",
       "      <td>79.0</td>\n",
       "      <td>1</td>\n",
       "    </tr>\n",
       "    <tr>\n",
       "      <th>1</th>\n",
       "      <td>33.0</td>\n",
       "      <td>4789</td>\n",
       "      <td>220.0</td>\n",
       "      <td>1</td>\n",
       "    </tr>\n",
       "    <tr>\n",
       "      <th>2</th>\n",
       "      <td>35.0</td>\n",
       "      <td>1350</td>\n",
       "      <td>185.0</td>\n",
       "      <td>1</td>\n",
       "    </tr>\n",
       "    <tr>\n",
       "      <th>3</th>\n",
       "      <td>30.0</td>\n",
       "      <td>1476</td>\n",
       "      <td>199.0</td>\n",
       "      <td>4</td>\n",
       "    </tr>\n",
       "    <tr>\n",
       "      <th>4</th>\n",
       "      <td>59.0</td>\n",
       "      <td>0</td>\n",
       "      <td>226.0</td>\n",
       "      <td>1</td>\n",
       "    </tr>\n",
       "    <tr>\n",
       "      <th>...</th>\n",
       "      <td>...</td>\n",
       "      <td>...</td>\n",
       "      <td>...</td>\n",
       "      <td>...</td>\n",
       "    </tr>\n",
       "    <tr>\n",
       "      <th>4516</th>\n",
       "      <td>99.0</td>\n",
       "      <td>-333</td>\n",
       "      <td>329.0</td>\n",
       "      <td>5</td>\n",
       "    </tr>\n",
       "    <tr>\n",
       "      <th>4517</th>\n",
       "      <td>57.0</td>\n",
       "      <td>-3313</td>\n",
       "      <td>-153.0</td>\n",
       "      <td>1</td>\n",
       "    </tr>\n",
       "    <tr>\n",
       "      <th>4518</th>\n",
       "      <td>57.0</td>\n",
       "      <td>295</td>\n",
       "      <td>151.0</td>\n",
       "      <td>11</td>\n",
       "    </tr>\n",
       "    <tr>\n",
       "      <th>4519</th>\n",
       "      <td>28.0</td>\n",
       "      <td>1137</td>\n",
       "      <td>129.0</td>\n",
       "      <td>4</td>\n",
       "    </tr>\n",
       "    <tr>\n",
       "      <th>4520</th>\n",
       "      <td>44.0</td>\n",
       "      <td>1136</td>\n",
       "      <td>345.0</td>\n",
       "      <td>2</td>\n",
       "    </tr>\n",
       "  </tbody>\n",
       "</table>\n",
       "<p>4521 rows × 4 columns</p>\n",
       "</div>"
      ],
      "text/plain": [
       "         a  balance  duration  campaign\n",
       "0     30.0     1787      79.0         1\n",
       "1     33.0     4789     220.0         1\n",
       "2     35.0     1350     185.0         1\n",
       "3     30.0     1476     199.0         4\n",
       "4     59.0        0     226.0         1\n",
       "...    ...      ...       ...       ...\n",
       "4516  99.0     -333     329.0         5\n",
       "4517  57.0    -3313    -153.0         1\n",
       "4518  57.0      295     151.0        11\n",
       "4519  28.0     1137     129.0         4\n",
       "4520  44.0     1136     345.0         2\n",
       "\n",
       "[4521 rows x 4 columns]"
      ]
     },
     "execution_count": 45,
     "metadata": {},
     "output_type": "execute_result"
    }
   ],
   "source": [
    "num"
   ]
  },
  {
   "cell_type": "code",
   "execution_count": 47,
   "id": "b7edf92a",
   "metadata": {},
   "outputs": [
    {
     "name": "stdout",
     "output_type": "stream",
     "text": [
      "Index(['a', 'balance', 'duration', 'campaign'], dtype='object')\n"
     ]
    }
   ],
   "source": [
    "print(num.columns)"
   ]
  },
  {
   "cell_type": "code",
   "execution_count": 48,
   "id": "b61ddf36",
   "metadata": {},
   "outputs": [
    {
     "data": {
      "application/vnd.microsoft.datawrangler.viewer.v0+json": {
       "columns": [
        {
         "name": "index",
         "rawType": "int64",
         "type": "integer"
        },
        {
         "name": "a",
         "rawType": "float64",
         "type": "float"
        },
        {
         "name": "balance",
         "rawType": "int64",
         "type": "integer"
        },
        {
         "name": "duration",
         "rawType": "float64",
         "type": "float"
        },
        {
         "name": "campaign",
         "rawType": "int64",
         "type": "integer"
        }
       ],
       "ref": "8313f9f8-fabe-4113-b7a4-4af7f7ed07c9",
       "rows": [
        [
         "0",
         "30.0",
         "1787",
         "79.0",
         "1"
        ],
        [
         "1",
         "33.0",
         "4789",
         "220.0",
         "1"
        ],
        [
         "2",
         "35.0",
         "1350",
         "185.0",
         "1"
        ],
        [
         "3",
         "30.0",
         "1476",
         "199.0",
         "4"
        ],
        [
         "4",
         "59.0",
         "0",
         "226.0",
         "1"
        ]
       ],
       "shape": {
        "columns": 4,
        "rows": 5
       }
      },
      "text/html": [
       "<div>\n",
       "<style scoped>\n",
       "    .dataframe tbody tr th:only-of-type {\n",
       "        vertical-align: middle;\n",
       "    }\n",
       "\n",
       "    .dataframe tbody tr th {\n",
       "        vertical-align: top;\n",
       "    }\n",
       "\n",
       "    .dataframe thead th {\n",
       "        text-align: right;\n",
       "    }\n",
       "</style>\n",
       "<table border=\"1\" class=\"dataframe\">\n",
       "  <thead>\n",
       "    <tr style=\"text-align: right;\">\n",
       "      <th></th>\n",
       "      <th>a</th>\n",
       "      <th>balance</th>\n",
       "      <th>duration</th>\n",
       "      <th>campaign</th>\n",
       "    </tr>\n",
       "  </thead>\n",
       "  <tbody>\n",
       "    <tr>\n",
       "      <th>0</th>\n",
       "      <td>30.0</td>\n",
       "      <td>1787</td>\n",
       "      <td>79.0</td>\n",
       "      <td>1</td>\n",
       "    </tr>\n",
       "    <tr>\n",
       "      <th>1</th>\n",
       "      <td>33.0</td>\n",
       "      <td>4789</td>\n",
       "      <td>220.0</td>\n",
       "      <td>1</td>\n",
       "    </tr>\n",
       "    <tr>\n",
       "      <th>2</th>\n",
       "      <td>35.0</td>\n",
       "      <td>1350</td>\n",
       "      <td>185.0</td>\n",
       "      <td>1</td>\n",
       "    </tr>\n",
       "    <tr>\n",
       "      <th>3</th>\n",
       "      <td>30.0</td>\n",
       "      <td>1476</td>\n",
       "      <td>199.0</td>\n",
       "      <td>4</td>\n",
       "    </tr>\n",
       "    <tr>\n",
       "      <th>4</th>\n",
       "      <td>59.0</td>\n",
       "      <td>0</td>\n",
       "      <td>226.0</td>\n",
       "      <td>1</td>\n",
       "    </tr>\n",
       "  </tbody>\n",
       "</table>\n",
       "</div>"
      ],
      "text/plain": [
       "      a  balance  duration  campaign\n",
       "0  30.0     1787      79.0         1\n",
       "1  33.0     4789     220.0         1\n",
       "2  35.0     1350     185.0         1\n",
       "3  30.0     1476     199.0         4\n",
       "4  59.0        0     226.0         1"
      ]
     },
     "execution_count": 48,
     "metadata": {},
     "output_type": "execute_result"
    }
   ],
   "source": [
    "num.head()"
   ]
  },
  {
   "cell_type": "code",
   "execution_count": 51,
   "id": "9a24c687",
   "metadata": {},
   "outputs": [
    {
     "data": {
      "text/plain": [
       "array([ 30.,  33.,  35.,  59.,  36.,  39.,  41.,  43.,  20.,  31.,  40.,\n",
       "        56.,  37.,  25.,  38.,  42.,  44.,  26.,  55.,  67.,  53.,  68.,\n",
       "        32.,  49.,  78.,   0.,  23.,  52.,  34.,  nan,  45.,  48.,  57.,\n",
       "        54.,  63.,  51.,  29.,  50.,  27.,  60.,  28.,  21.,  58.,  22.,\n",
       "        46.,  24.,  77.,  75.,  47.,  70.,  65.,  64.,  62.,  66.,  61.,\n",
       "        19.,  81.,  83.,  80.,  71.,  72.,  69.,  79.,  73., -38.,  86.,\n",
       "        74., 338.,  76.,  87.,  13.,  84., 416., 410.,  99.])"
      ]
     },
     "execution_count": 51,
     "metadata": {},
     "output_type": "execute_result"
    }
   ],
   "source": [
    "num['a'].unique()"
   ]
  },
  {
   "cell_type": "code",
   "execution_count": null,
   "id": "b3c6e72e",
   "metadata": {},
   "outputs": [],
   "source": [
    "from sklearn.preprocessing import LabelEncoder\n",
    "le =LabelEncoder()\n",
    "\n",
    "df['job'] =le.fit_transform(df['job'])\n",
    "df['balance'] =le.fit_transform(df['balance'])\n",
    "df['housing'] =le.fit_transform(df['housing'])"
   ]
  },
  {
   "cell_type": "code",
   "execution_count": 52,
   "id": "1ea4b6ae",
   "metadata": {},
   "outputs": [
    {
     "data": {
      "application/vnd.microsoft.datawrangler.viewer.v0+json": {
       "columns": [
        {
         "name": "index",
         "rawType": "int64",
         "type": "integer"
        },
        {
         "name": "a",
         "rawType": "float64",
         "type": "float"
        },
        {
         "name": "balance",
         "rawType": "int64",
         "type": "integer"
        },
        {
         "name": "duration",
         "rawType": "float64",
         "type": "float"
        },
        {
         "name": "campaign",
         "rawType": "int64",
         "type": "integer"
        }
       ],
       "ref": "9d8d7ac2-b36c-41f9-82ee-102afd9bf1f9",
       "rows": [
        [
         "0",
         "30.0",
         "1787",
         "79.0",
         "1"
        ],
        [
         "1",
         "33.0",
         "4789",
         "220.0",
         "1"
        ],
        [
         "2",
         "35.0",
         "1350",
         "185.0",
         "1"
        ],
        [
         "3",
         "30.0",
         "1476",
         "199.0",
         "4"
        ],
        [
         "4",
         "59.0",
         "0",
         "226.0",
         "1"
        ],
        [
         "5",
         "35.0",
         "747",
         "141.0",
         "2"
        ],
        [
         "6",
         "36.0",
         "307",
         "341.0",
         "1"
        ],
        [
         "7",
         "39.0",
         "147",
         "151.0",
         "2"
        ],
        [
         "8",
         "41.0",
         "221",
         "57.0",
         "2"
        ],
        [
         "9",
         "43.0",
         "-88",
         "313.0",
         "1"
        ],
        [
         "10",
         "39.0",
         "9374",
         "273.0",
         "1"
        ],
        [
         "11",
         "43.0",
         "264",
         "113.0",
         "2"
        ],
        [
         "12",
         "36.0",
         "1109",
         "-328.0",
         "2"
        ],
        [
         "13",
         "20.0",
         "502",
         "261.0",
         "1"
        ],
        [
         "14",
         "31.0",
         "360",
         "89.0",
         "1"
        ],
        [
         "15",
         "40.0",
         "194",
         "189.0",
         "2"
        ],
        [
         "16",
         "56.0",
         "4073",
         "239.0",
         "5"
        ],
        [
         "17",
         "37.0",
         "2317",
         "114.0",
         "1"
        ],
        [
         "18",
         "25.0",
         "-221",
         "250.0",
         "1"
        ],
        [
         "19",
         "31.0",
         "132",
         "148.0",
         "1"
        ],
        [
         "20",
         "38.0",
         "0",
         "-96.0",
         "2"
        ],
        [
         "21",
         "42.0",
         "16",
         "140.0",
         "3"
        ],
        [
         "22",
         "44.0",
         "106",
         "109.0",
         "2"
        ],
        [
         "23",
         "44.0",
         "93",
         "125.0",
         "2"
        ],
        [
         "24",
         "26.0",
         "543",
         "169.0",
         "3"
        ],
        [
         "25",
         "41.0",
         "5883",
         "182.0",
         "2"
        ],
        [
         "26",
         "55.0",
         "627",
         "247.0",
         "1"
        ],
        [
         "27",
         "67.0",
         "696",
         "119.0",
         "1"
        ],
        [
         "28",
         "56.0",
         "784",
         "149.0",
         "2"
        ],
        [
         "29",
         "53.0",
         "105",
         "74.0",
         "2"
        ],
        [
         "30",
         "68.0",
         "4189",
         "897.0",
         "2"
        ],
        [
         "31",
         "31.0",
         "171",
         "81.0",
         "3"
        ],
        [
         "32",
         "59.0",
         "42",
         "40.0",
         "1"
        ],
        [
         "33",
         "32.0",
         "2536",
         "958.0",
         "6"
        ],
        [
         "34",
         "49.0",
         "1235",
         "354.0",
         "3"
        ],
        [
         "35",
         "42.0",
         "1811",
         "150.0",
         "1"
        ],
        [
         "36",
         "78.0",
         "229",
         "97.0",
         "1"
        ],
        [
         "37",
         "32.0",
         "2089",
         "132.0",
         "1"
        ],
        [
         "38",
         "0.0",
         "3935",
         "765.0",
         "1"
        ],
        [
         "39",
         "23.0",
         "363",
         "16.0",
         "18"
        ],
        [
         "40",
         "38.0",
         "11971",
         "609.0",
         "2"
        ],
        [
         "41",
         "36.0",
         "553",
         "106.0",
         "2"
        ],
        [
         "42",
         "52.0",
         "1117",
         "365.0",
         "1"
        ],
        [
         "43",
         "32.0",
         "396",
         "205.0",
         "3"
        ],
        [
         "44",
         "32.0",
         "2204",
         "11.0",
         "4"
        ],
        [
         "45",
         "34.0",
         "872",
         "105.0",
         "2"
        ],
        [
         "46",
         "55.0",
         "145",
         "59.0",
         "3"
        ],
        [
         "47",
         "26.0",
         "0",
         "425.0",
         "1"
        ],
        [
         "48",
         "32.0",
         "-849",
         "204.0",
         "1"
        ],
        [
         "49",
         null,
         "4629",
         "181.0",
         "1"
        ]
       ],
       "shape": {
        "columns": 4,
        "rows": 4521
       }
      },
      "text/html": [
       "<div>\n",
       "<style scoped>\n",
       "    .dataframe tbody tr th:only-of-type {\n",
       "        vertical-align: middle;\n",
       "    }\n",
       "\n",
       "    .dataframe tbody tr th {\n",
       "        vertical-align: top;\n",
       "    }\n",
       "\n",
       "    .dataframe thead th {\n",
       "        text-align: right;\n",
       "    }\n",
       "</style>\n",
       "<table border=\"1\" class=\"dataframe\">\n",
       "  <thead>\n",
       "    <tr style=\"text-align: right;\">\n",
       "      <th></th>\n",
       "      <th>a</th>\n",
       "      <th>balance</th>\n",
       "      <th>duration</th>\n",
       "      <th>campaign</th>\n",
       "    </tr>\n",
       "  </thead>\n",
       "  <tbody>\n",
       "    <tr>\n",
       "      <th>0</th>\n",
       "      <td>30.0</td>\n",
       "      <td>1787</td>\n",
       "      <td>79.0</td>\n",
       "      <td>1</td>\n",
       "    </tr>\n",
       "    <tr>\n",
       "      <th>1</th>\n",
       "      <td>33.0</td>\n",
       "      <td>4789</td>\n",
       "      <td>220.0</td>\n",
       "      <td>1</td>\n",
       "    </tr>\n",
       "    <tr>\n",
       "      <th>2</th>\n",
       "      <td>35.0</td>\n",
       "      <td>1350</td>\n",
       "      <td>185.0</td>\n",
       "      <td>1</td>\n",
       "    </tr>\n",
       "    <tr>\n",
       "      <th>3</th>\n",
       "      <td>30.0</td>\n",
       "      <td>1476</td>\n",
       "      <td>199.0</td>\n",
       "      <td>4</td>\n",
       "    </tr>\n",
       "    <tr>\n",
       "      <th>4</th>\n",
       "      <td>59.0</td>\n",
       "      <td>0</td>\n",
       "      <td>226.0</td>\n",
       "      <td>1</td>\n",
       "    </tr>\n",
       "    <tr>\n",
       "      <th>...</th>\n",
       "      <td>...</td>\n",
       "      <td>...</td>\n",
       "      <td>...</td>\n",
       "      <td>...</td>\n",
       "    </tr>\n",
       "    <tr>\n",
       "      <th>4516</th>\n",
       "      <td>99.0</td>\n",
       "      <td>-333</td>\n",
       "      <td>329.0</td>\n",
       "      <td>5</td>\n",
       "    </tr>\n",
       "    <tr>\n",
       "      <th>4517</th>\n",
       "      <td>57.0</td>\n",
       "      <td>-3313</td>\n",
       "      <td>-153.0</td>\n",
       "      <td>1</td>\n",
       "    </tr>\n",
       "    <tr>\n",
       "      <th>4518</th>\n",
       "      <td>57.0</td>\n",
       "      <td>295</td>\n",
       "      <td>151.0</td>\n",
       "      <td>11</td>\n",
       "    </tr>\n",
       "    <tr>\n",
       "      <th>4519</th>\n",
       "      <td>28.0</td>\n",
       "      <td>1137</td>\n",
       "      <td>129.0</td>\n",
       "      <td>4</td>\n",
       "    </tr>\n",
       "    <tr>\n",
       "      <th>4520</th>\n",
       "      <td>44.0</td>\n",
       "      <td>1136</td>\n",
       "      <td>345.0</td>\n",
       "      <td>2</td>\n",
       "    </tr>\n",
       "  </tbody>\n",
       "</table>\n",
       "<p>4521 rows × 4 columns</p>\n",
       "</div>"
      ],
      "text/plain": [
       "         a  balance  duration  campaign\n",
       "0     30.0     1787      79.0         1\n",
       "1     33.0     4789     220.0         1\n",
       "2     35.0     1350     185.0         1\n",
       "3     30.0     1476     199.0         4\n",
       "4     59.0        0     226.0         1\n",
       "...    ...      ...       ...       ...\n",
       "4516  99.0     -333     329.0         5\n",
       "4517  57.0    -3313    -153.0         1\n",
       "4518  57.0      295     151.0        11\n",
       "4519  28.0     1137     129.0         4\n",
       "4520  44.0     1136     345.0         2\n",
       "\n",
       "[4521 rows x 4 columns]"
      ]
     },
     "execution_count": 52,
     "metadata": {},
     "output_type": "execute_result"
    }
   ],
   "source": [
    "num"
   ]
  },
  {
   "cell_type": "code",
   "execution_count": null,
   "id": "e8c87779",
   "metadata": {},
   "outputs": [
    {
     "data": {
      "application/vnd.microsoft.datawrangler.viewer.v0+json": {
       "columns": [
        {
         "name": "index",
         "rawType": "int64",
         "type": "integer"
        },
        {
         "name": "age",
         "rawType": "float64",
         "type": "float"
        },
        {
         "name": "job",
         "rawType": "int64",
         "type": "integer"
        },
        {
         "name": "marital",
         "rawType": "object",
         "type": "unknown"
        },
        {
         "name": "education",
         "rawType": "object",
         "type": "unknown"
        },
        {
         "name": "balance",
         "rawType": "int64",
         "type": "integer"
        },
        {
         "name": "housing",
         "rawType": "int64",
         "type": "integer"
        },
        {
         "name": "duration",
         "rawType": "float64",
         "type": "float"
        },
        {
         "name": "campaign",
         "rawType": "int64",
         "type": "integer"
        },
        {
         "name": "approval",
         "rawType": "object",
         "type": "string"
        }
       ],
       "ref": "9346f826-0ee9-442c-9619-6ad2be7fc64b",
       "rows": [
        [
         "0",
         "30.0",
         "10",
         "married",
         "primary",
         "1475",
         "0",
         "79.0",
         "1",
         "no"
        ],
        [
         "1",
         "33.0",
         "7",
         "married",
         "secondary",
         "2030",
         "1",
         "220.0",
         "1",
         "no"
        ],
        [
         "2",
         "35.0",
         "4",
         "single",
         "tertiary",
         "1303",
         "1",
         "185.0",
         "1",
         "no"
        ],
        [
         "3",
         "30.0",
         "4",
         "married",
         "tertiary",
         "1352",
         "1",
         "199.0",
         "4",
         "no"
        ],
        [
         "4",
         "59.0",
         "1",
         "married",
         "secondary",
         "274",
         "1",
         "226.0",
         "1",
         "no"
        ],
        [
         "5",
         "35.0",
         "4",
         "single",
         "tertiary",
         "934",
         "0",
         "141.0",
         "2",
         "no"
        ],
        [
         "6",
         "36.0",
         "6",
         "married",
         "tertiary",
         "569",
         "1",
         "341.0",
         "1",
         "no"
        ],
        [
         "7",
         "39.0",
         "9",
         "married",
         "secondary",
         "420",
         "1",
         "151.0",
         "2",
         "no"
        ],
        [
         "8",
         "41.0",
         "2",
         "married",
         "tertiary",
         "491",
         "1",
         "57.0",
         "2",
         "no"
        ],
        [
         "9",
         "43.0",
         "7",
         "married",
         "primary",
         "218",
         "1",
         "313.0",
         "1",
         "no"
        ],
        [
         "10",
         "39.0",
         "7",
         "married",
         "secondary",
         "2254",
         "1",
         "273.0",
         "1",
         "no"
        ],
        [
         "11",
         "43.0",
         "0",
         "married",
         "secondary",
         "531",
         "1",
         "113.0",
         "2",
         "no"
        ],
        [
         "12",
         "36.0",
         "9",
         "married",
         "tertiary",
         "1173",
         "0",
         "-328.0",
         "2",
         "no"
        ],
        [
         "13",
         "20.0",
         "8",
         "single",
         "secondary",
         "750",
         "0",
         "261.0",
         "1",
         "yes"
        ],
        [
         "14",
         "31.0",
         "1",
         "married",
         "secondary",
         "620",
         "1",
         "89.0",
         "1",
         "no"
        ],
        [
         "15",
         "40.0",
         "4",
         "married",
         "tertiary",
         "464",
         "0",
         "189.0",
         "2",
         "no"
        ],
        [
         "16",
         "56.0",
         "9",
         "married",
         "secondary",
         "1949",
         "0",
         "239.0",
         "5",
         "no"
        ],
        [
         "17",
         "37.0",
         "0",
         "single",
         "tertiary",
         "1629",
         "1",
         "114.0",
         "1",
         "no"
        ],
        [
         "18",
         "25.0",
         "1",
         "single",
         "primary",
         "163",
         "2",
         "250.0",
         "1",
         "no"
        ],
        [
         "19",
         "31.0",
         "7",
         "married",
         "secondary",
         "405",
         "0",
         "148.0",
         "1",
         "no"
        ],
        [
         "20",
         "38.0",
         "4",
         "divorced",
         "unknown",
         "274",
         "1",
         "-96.0",
         "2",
         "no"
        ],
        [
         "21",
         "42.0",
         "4",
         "divorced",
         "tertiary",
         "290",
         "0",
         "140.0",
         "3",
         "no"
        ],
        [
         "22",
         "44.0",
         "7",
         "single",
         "secondary",
         "380",
         "0",
         "109.0",
         "2",
         "no"
        ],
        [
         "23",
         "44.0",
         "2",
         "married",
         "secondary",
         "367",
         "0",
         "125.0",
         "2",
         "no"
        ],
        [
         "24",
         "26.0",
         "3",
         "married",
         "tertiary",
         "778",
         "0",
         "169.0",
         "3",
         "no"
        ],
        [
         "25",
         "41.0",
         "4",
         "married",
         "tertiary",
         "2117",
         "0",
         "182.0",
         "2",
         "no"
        ],
        [
         "26",
         "55.0",
         "1",
         "married",
         "primary",
         "845",
         "1",
         "247.0",
         "1",
         "no"
        ],
        [
         "27",
         "67.0",
         "5",
         "married",
         "unknown",
         "900",
         "0",
         "119.0",
         "1",
         "no"
        ],
        [
         "28",
         "56.0",
         "6",
         "married",
         "secondary",
         "966",
         "0",
         "149.0",
         "2",
         "no"
        ],
        [
         "29",
         "53.0",
         "0",
         "married",
         "secondary",
         "379",
         "0",
         "74.0",
         "2",
         "no"
        ],
        [
         "30",
         "68.0",
         "5",
         "divorced",
         "secondary",
         "1965",
         "0",
         "897.0",
         "2",
         "yes"
        ],
        [
         "31",
         "31.0",
         "9",
         "married",
         "secondary",
         "442",
         "0",
         "81.0",
         "3",
         "no"
        ],
        [
         "32",
         "59.0",
         "4",
         "married",
         "secondary",
         "316",
         "0",
         "40.0",
         "1",
         "no"
        ],
        [
         "33",
         "32.0",
         "4",
         "single",
         "tertiary",
         "1676",
         "1",
         "958.0",
         "6",
         "yes"
        ],
        [
         "34",
         "49.0",
         "9",
         "married",
         "tertiary",
         "1247",
         "0",
         "354.0",
         "3",
         "yes"
        ],
        [
         "35",
         "42.0",
         "0",
         "divorced",
         "secondary",
         "1483",
         "1",
         "150.0",
         "1",
         "no"
        ],
        [
         "36",
         "78.0",
         "5",
         "divorced",
         "primary",
         "499",
         "0",
         "97.0",
         "1",
         "yes"
        ],
        [
         "37",
         "32.0",
         "1",
         "married",
         "secondary",
         "1565",
         "1",
         "132.0",
         "1",
         "yes"
        ],
        [
         "38",
         "0.0",
         "4",
         "married",
         "secondary",
         "1928",
         "1",
         "765.0",
         "1",
         "yes"
        ],
        [
         "39",
         "23.0",
         "7",
         "single",
         "tertiary",
         "623",
         "1",
         "16.0",
         "18",
         "no"
        ],
        [
         "40",
         "38.0",
         "4",
         "single",
         "tertiary",
         "2284",
         "1",
         "609.0",
         "2",
         "no"
        ],
        [
         "41",
         "36.0",
         "4",
         "single",
         "tertiary",
         "786",
         "0",
         "106.0",
         "2",
         "no"
        ],
        [
         "42",
         "52.0",
         "1",
         "married",
         "secondary",
         "1177",
         "1",
         "365.0",
         "1",
         "no"
        ],
        [
         "43",
         "32.0",
         "9",
         "married",
         "tertiary",
         "652",
         "1",
         "205.0",
         "3",
         "no"
        ],
        [
         "44",
         "32.0",
         "9",
         "single",
         "tertiary",
         "1599",
         "1",
         "11.0",
         "4",
         "no"
        ],
        [
         "45",
         "34.0",
         "4",
         "single",
         "tertiary",
         "1029",
         "1",
         "105.0",
         "2",
         "no"
        ],
        [
         "46",
         "55.0",
         "1",
         "married",
         "primary",
         "418",
         "0",
         "59.0",
         "3",
         "no"
        ],
        [
         "47",
         "26.0",
         "1",
         "married",
         "primary",
         "274",
         "1",
         "425.0",
         "1",
         "no"
        ],
        [
         "48",
         "32.0",
         "2",
         "single",
         "primary",
         "27",
         "1",
         "204.0",
         "1",
         "no"
        ],
        [
         "49",
         null,
         "0",
         "married",
         "unknown",
         "2013",
         "1",
         "181.0",
         "1",
         "yes"
        ]
       ],
       "shape": {
        "columns": 9,
        "rows": 4521
       }
      },
      "text/html": [
       "<div>\n",
       "<style scoped>\n",
       "    .dataframe tbody tr th:only-of-type {\n",
       "        vertical-align: middle;\n",
       "    }\n",
       "\n",
       "    .dataframe tbody tr th {\n",
       "        vertical-align: top;\n",
       "    }\n",
       "\n",
       "    .dataframe thead th {\n",
       "        text-align: right;\n",
       "    }\n",
       "</style>\n",
       "<table border=\"1\" class=\"dataframe\">\n",
       "  <thead>\n",
       "    <tr style=\"text-align: right;\">\n",
       "      <th></th>\n",
       "      <th>age</th>\n",
       "      <th>job</th>\n",
       "      <th>marital</th>\n",
       "      <th>education</th>\n",
       "      <th>balance</th>\n",
       "      <th>housing</th>\n",
       "      <th>duration</th>\n",
       "      <th>campaign</th>\n",
       "      <th>approval</th>\n",
       "    </tr>\n",
       "  </thead>\n",
       "  <tbody>\n",
       "    <tr>\n",
       "      <th>0</th>\n",
       "      <td>30.0</td>\n",
       "      <td>10</td>\n",
       "      <td>married</td>\n",
       "      <td>primary</td>\n",
       "      <td>1475</td>\n",
       "      <td>0</td>\n",
       "      <td>79.0</td>\n",
       "      <td>1</td>\n",
       "      <td>no</td>\n",
       "    </tr>\n",
       "    <tr>\n",
       "      <th>1</th>\n",
       "      <td>33.0</td>\n",
       "      <td>7</td>\n",
       "      <td>married</td>\n",
       "      <td>secondary</td>\n",
       "      <td>2030</td>\n",
       "      <td>1</td>\n",
       "      <td>220.0</td>\n",
       "      <td>1</td>\n",
       "      <td>no</td>\n",
       "    </tr>\n",
       "    <tr>\n",
       "      <th>2</th>\n",
       "      <td>35.0</td>\n",
       "      <td>4</td>\n",
       "      <td>single</td>\n",
       "      <td>tertiary</td>\n",
       "      <td>1303</td>\n",
       "      <td>1</td>\n",
       "      <td>185.0</td>\n",
       "      <td>1</td>\n",
       "      <td>no</td>\n",
       "    </tr>\n",
       "    <tr>\n",
       "      <th>3</th>\n",
       "      <td>30.0</td>\n",
       "      <td>4</td>\n",
       "      <td>married</td>\n",
       "      <td>tertiary</td>\n",
       "      <td>1352</td>\n",
       "      <td>1</td>\n",
       "      <td>199.0</td>\n",
       "      <td>4</td>\n",
       "      <td>no</td>\n",
       "    </tr>\n",
       "    <tr>\n",
       "      <th>4</th>\n",
       "      <td>59.0</td>\n",
       "      <td>1</td>\n",
       "      <td>married</td>\n",
       "      <td>secondary</td>\n",
       "      <td>274</td>\n",
       "      <td>1</td>\n",
       "      <td>226.0</td>\n",
       "      <td>1</td>\n",
       "      <td>no</td>\n",
       "    </tr>\n",
       "    <tr>\n",
       "      <th>...</th>\n",
       "      <td>...</td>\n",
       "      <td>...</td>\n",
       "      <td>...</td>\n",
       "      <td>...</td>\n",
       "      <td>...</td>\n",
       "      <td>...</td>\n",
       "      <td>...</td>\n",
       "      <td>...</td>\n",
       "      <td>...</td>\n",
       "    </tr>\n",
       "    <tr>\n",
       "      <th>4516</th>\n",
       "      <td>99.0</td>\n",
       "      <td>7</td>\n",
       "      <td>married</td>\n",
       "      <td>secondary</td>\n",
       "      <td>119</td>\n",
       "      <td>1</td>\n",
       "      <td>329.0</td>\n",
       "      <td>5</td>\n",
       "      <td>no</td>\n",
       "    </tr>\n",
       "    <tr>\n",
       "      <th>4517</th>\n",
       "      <td>57.0</td>\n",
       "      <td>6</td>\n",
       "      <td>married</td>\n",
       "      <td>tertiary</td>\n",
       "      <td>0</td>\n",
       "      <td>1</td>\n",
       "      <td>-153.0</td>\n",
       "      <td>1</td>\n",
       "      <td>no</td>\n",
       "    </tr>\n",
       "    <tr>\n",
       "      <th>4518</th>\n",
       "      <td>57.0</td>\n",
       "      <td>9</td>\n",
       "      <td>married</td>\n",
       "      <td>secondary</td>\n",
       "      <td>558</td>\n",
       "      <td>0</td>\n",
       "      <td>151.0</td>\n",
       "      <td>11</td>\n",
       "      <td>no</td>\n",
       "    </tr>\n",
       "    <tr>\n",
       "      <th>4519</th>\n",
       "      <td>28.0</td>\n",
       "      <td>1</td>\n",
       "      <td>married</td>\n",
       "      <td>secondary</td>\n",
       "      <td>1187</td>\n",
       "      <td>0</td>\n",
       "      <td>129.0</td>\n",
       "      <td>4</td>\n",
       "      <td>no</td>\n",
       "    </tr>\n",
       "    <tr>\n",
       "      <th>4520</th>\n",
       "      <td>44.0</td>\n",
       "      <td>2</td>\n",
       "      <td>single</td>\n",
       "      <td>tertiary</td>\n",
       "      <td>1186</td>\n",
       "      <td>1</td>\n",
       "      <td>345.0</td>\n",
       "      <td>2</td>\n",
       "      <td>no</td>\n",
       "    </tr>\n",
       "  </tbody>\n",
       "</table>\n",
       "<p>4521 rows × 9 columns</p>\n",
       "</div>"
      ],
      "text/plain": [
       "       age  job  marital  education  balance  housing  duration  campaign  \\\n",
       "0     30.0   10  married    primary     1475        0      79.0         1   \n",
       "1     33.0    7  married  secondary     2030        1     220.0         1   \n",
       "2     35.0    4   single   tertiary     1303        1     185.0         1   \n",
       "3     30.0    4  married   tertiary     1352        1     199.0         4   \n",
       "4     59.0    1  married  secondary      274        1     226.0         1   \n",
       "...    ...  ...      ...        ...      ...      ...       ...       ...   \n",
       "4516  99.0    7  married  secondary      119        1     329.0         5   \n",
       "4517  57.0    6  married   tertiary        0        1    -153.0         1   \n",
       "4518  57.0    9  married  secondary      558        0     151.0        11   \n",
       "4519  28.0    1  married  secondary     1187        0     129.0         4   \n",
       "4520  44.0    2   single   tertiary     1186        1     345.0         2   \n",
       "\n",
       "     approval  \n",
       "0          no  \n",
       "1          no  \n",
       "2          no  \n",
       "3          no  \n",
       "4          no  \n",
       "...       ...  \n",
       "4516       no  \n",
       "4517       no  \n",
       "4518       no  \n",
       "4519       no  \n",
       "4520       no  \n",
       "\n",
       "[4521 rows x 9 columns]"
      ]
     },
     "execution_count": 49,
     "metadata": {},
     "output_type": "execute_result"
    }
   ],
   "source": [
    "df"
   ]
  },
  {
   "cell_type": "code",
   "execution_count": null,
   "id": "2d292892",
   "metadata": {},
   "outputs": [],
   "source": [
    "char=df.select_dtypes(exclude='object')"
   ]
  },
  {
   "cell_type": "code",
   "execution_count": null,
   "id": "28d68f53",
   "metadata": {},
   "outputs": [
    {
     "data": {
      "application/vnd.microsoft.datawrangler.viewer.v0+json": {
       "columns": [
        {
         "name": "index",
         "rawType": "int64",
         "type": "integer"
        },
        {
         "name": "age",
         "rawType": "float64",
         "type": "float"
        },
        {
         "name": "job",
         "rawType": "int64",
         "type": "integer"
        },
        {
         "name": "balance",
         "rawType": "int64",
         "type": "integer"
        },
        {
         "name": "duration",
         "rawType": "float64",
         "type": "float"
        },
        {
         "name": "campaign",
         "rawType": "int64",
         "type": "integer"
        }
       ],
       "ref": "5d6520f2-9438-432c-8989-9bd0bc9203cb",
       "rows": [
        [
         "0",
         "30.0",
         "10",
         "1787",
         "79.0",
         "1"
        ],
        [
         "1",
         "33.0",
         "7",
         "4789",
         "220.0",
         "1"
        ],
        [
         "2",
         "35.0",
         "4",
         "1350",
         "185.0",
         "1"
        ],
        [
         "3",
         "30.0",
         "4",
         "1476",
         "199.0",
         "4"
        ],
        [
         "4",
         "59.0",
         "1",
         "0",
         "226.0",
         "1"
        ],
        [
         "5",
         "35.0",
         "4",
         "747",
         "141.0",
         "2"
        ],
        [
         "6",
         "36.0",
         "6",
         "307",
         "341.0",
         "1"
        ],
        [
         "7",
         "39.0",
         "9",
         "147",
         "151.0",
         "2"
        ],
        [
         "8",
         "41.0",
         "2",
         "221",
         "57.0",
         "2"
        ],
        [
         "9",
         "43.0",
         "7",
         "-88",
         "313.0",
         "1"
        ],
        [
         "10",
         "39.0",
         "7",
         "9374",
         "273.0",
         "1"
        ],
        [
         "11",
         "43.0",
         "0",
         "264",
         "113.0",
         "2"
        ],
        [
         "12",
         "36.0",
         "9",
         "1109",
         "-328.0",
         "2"
        ],
        [
         "13",
         "20.0",
         "8",
         "502",
         "261.0",
         "1"
        ],
        [
         "14",
         "31.0",
         "1",
         "360",
         "89.0",
         "1"
        ],
        [
         "15",
         "40.0",
         "4",
         "194",
         "189.0",
         "2"
        ],
        [
         "16",
         "56.0",
         "9",
         "4073",
         "239.0",
         "5"
        ],
        [
         "17",
         "37.0",
         "0",
         "2317",
         "114.0",
         "1"
        ],
        [
         "18",
         "25.0",
         "1",
         "-221",
         "250.0",
         "1"
        ],
        [
         "19",
         "31.0",
         "7",
         "132",
         "148.0",
         "1"
        ],
        [
         "20",
         "38.0",
         "4",
         "0",
         "-96.0",
         "2"
        ],
        [
         "21",
         "42.0",
         "4",
         "16",
         "140.0",
         "3"
        ],
        [
         "22",
         "44.0",
         "7",
         "106",
         "109.0",
         "2"
        ],
        [
         "23",
         "44.0",
         "2",
         "93",
         "125.0",
         "2"
        ],
        [
         "24",
         "26.0",
         "3",
         "543",
         "169.0",
         "3"
        ],
        [
         "25",
         "41.0",
         "4",
         "5883",
         "182.0",
         "2"
        ],
        [
         "26",
         "55.0",
         "1",
         "627",
         "247.0",
         "1"
        ],
        [
         "27",
         "67.0",
         "5",
         "696",
         "119.0",
         "1"
        ],
        [
         "28",
         "56.0",
         "6",
         "784",
         "149.0",
         "2"
        ],
        [
         "29",
         "53.0",
         "0",
         "105",
         "74.0",
         "2"
        ],
        [
         "30",
         "68.0",
         "5",
         "4189",
         "897.0",
         "2"
        ],
        [
         "31",
         "31.0",
         "9",
         "171",
         "81.0",
         "3"
        ],
        [
         "32",
         "59.0",
         "4",
         "42",
         "40.0",
         "1"
        ],
        [
         "33",
         "32.0",
         "4",
         "2536",
         "958.0",
         "6"
        ],
        [
         "34",
         "49.0",
         "9",
         "1235",
         "354.0",
         "3"
        ],
        [
         "35",
         "42.0",
         "0",
         "1811",
         "150.0",
         "1"
        ],
        [
         "36",
         "78.0",
         "5",
         "229",
         "97.0",
         "1"
        ],
        [
         "37",
         "32.0",
         "1",
         "2089",
         "132.0",
         "1"
        ],
        [
         "38",
         "0.0",
         "4",
         "3935",
         "765.0",
         "1"
        ],
        [
         "39",
         "23.0",
         "7",
         "363",
         "16.0",
         "18"
        ],
        [
         "40",
         "38.0",
         "4",
         "11971",
         "609.0",
         "2"
        ],
        [
         "41",
         "36.0",
         "4",
         "553",
         "106.0",
         "2"
        ],
        [
         "42",
         "52.0",
         "1",
         "1117",
         "365.0",
         "1"
        ],
        [
         "43",
         "32.0",
         "9",
         "396",
         "205.0",
         "3"
        ],
        [
         "44",
         "32.0",
         "9",
         "2204",
         "11.0",
         "4"
        ],
        [
         "45",
         "34.0",
         "4",
         "872",
         "105.0",
         "2"
        ],
        [
         "46",
         "55.0",
         "1",
         "145",
         "59.0",
         "3"
        ],
        [
         "47",
         "26.0",
         "1",
         "0",
         "425.0",
         "1"
        ],
        [
         "48",
         "32.0",
         "2",
         "-849",
         "204.0",
         "1"
        ],
        [
         "49",
         null,
         "0",
         "4629",
         "181.0",
         "1"
        ]
       ],
       "shape": {
        "columns": 5,
        "rows": 4521
       }
      },
      "text/html": [
       "<div>\n",
       "<style scoped>\n",
       "    .dataframe tbody tr th:only-of-type {\n",
       "        vertical-align: middle;\n",
       "    }\n",
       "\n",
       "    .dataframe tbody tr th {\n",
       "        vertical-align: top;\n",
       "    }\n",
       "\n",
       "    .dataframe thead th {\n",
       "        text-align: right;\n",
       "    }\n",
       "</style>\n",
       "<table border=\"1\" class=\"dataframe\">\n",
       "  <thead>\n",
       "    <tr style=\"text-align: right;\">\n",
       "      <th></th>\n",
       "      <th>age</th>\n",
       "      <th>job</th>\n",
       "      <th>balance</th>\n",
       "      <th>duration</th>\n",
       "      <th>campaign</th>\n",
       "    </tr>\n",
       "  </thead>\n",
       "  <tbody>\n",
       "    <tr>\n",
       "      <th>0</th>\n",
       "      <td>30.0</td>\n",
       "      <td>10</td>\n",
       "      <td>1787</td>\n",
       "      <td>79.0</td>\n",
       "      <td>1</td>\n",
       "    </tr>\n",
       "    <tr>\n",
       "      <th>1</th>\n",
       "      <td>33.0</td>\n",
       "      <td>7</td>\n",
       "      <td>4789</td>\n",
       "      <td>220.0</td>\n",
       "      <td>1</td>\n",
       "    </tr>\n",
       "    <tr>\n",
       "      <th>2</th>\n",
       "      <td>35.0</td>\n",
       "      <td>4</td>\n",
       "      <td>1350</td>\n",
       "      <td>185.0</td>\n",
       "      <td>1</td>\n",
       "    </tr>\n",
       "    <tr>\n",
       "      <th>3</th>\n",
       "      <td>30.0</td>\n",
       "      <td>4</td>\n",
       "      <td>1476</td>\n",
       "      <td>199.0</td>\n",
       "      <td>4</td>\n",
       "    </tr>\n",
       "    <tr>\n",
       "      <th>4</th>\n",
       "      <td>59.0</td>\n",
       "      <td>1</td>\n",
       "      <td>0</td>\n",
       "      <td>226.0</td>\n",
       "      <td>1</td>\n",
       "    </tr>\n",
       "    <tr>\n",
       "      <th>...</th>\n",
       "      <td>...</td>\n",
       "      <td>...</td>\n",
       "      <td>...</td>\n",
       "      <td>...</td>\n",
       "      <td>...</td>\n",
       "    </tr>\n",
       "    <tr>\n",
       "      <th>4516</th>\n",
       "      <td>99.0</td>\n",
       "      <td>7</td>\n",
       "      <td>-333</td>\n",
       "      <td>329.0</td>\n",
       "      <td>5</td>\n",
       "    </tr>\n",
       "    <tr>\n",
       "      <th>4517</th>\n",
       "      <td>57.0</td>\n",
       "      <td>6</td>\n",
       "      <td>-3313</td>\n",
       "      <td>-153.0</td>\n",
       "      <td>1</td>\n",
       "    </tr>\n",
       "    <tr>\n",
       "      <th>4518</th>\n",
       "      <td>57.0</td>\n",
       "      <td>9</td>\n",
       "      <td>295</td>\n",
       "      <td>151.0</td>\n",
       "      <td>11</td>\n",
       "    </tr>\n",
       "    <tr>\n",
       "      <th>4519</th>\n",
       "      <td>28.0</td>\n",
       "      <td>1</td>\n",
       "      <td>1137</td>\n",
       "      <td>129.0</td>\n",
       "      <td>4</td>\n",
       "    </tr>\n",
       "    <tr>\n",
       "      <th>4520</th>\n",
       "      <td>44.0</td>\n",
       "      <td>2</td>\n",
       "      <td>1136</td>\n",
       "      <td>345.0</td>\n",
       "      <td>2</td>\n",
       "    </tr>\n",
       "  </tbody>\n",
       "</table>\n",
       "<p>4521 rows × 5 columns</p>\n",
       "</div>"
      ],
      "text/plain": [
       "       age  job  balance  duration  campaign\n",
       "0     30.0   10     1787      79.0         1\n",
       "1     33.0    7     4789     220.0         1\n",
       "2     35.0    4     1350     185.0         1\n",
       "3     30.0    4     1476     199.0         4\n",
       "4     59.0    1        0     226.0         1\n",
       "...    ...  ...      ...       ...       ...\n",
       "4516  99.0    7     -333     329.0         5\n",
       "4517  57.0    6    -3313    -153.0         1\n",
       "4518  57.0    9      295     151.0        11\n",
       "4519  28.0    1     1137     129.0         4\n",
       "4520  44.0    2     1136     345.0         2\n",
       "\n",
       "[4521 rows x 5 columns]"
      ]
     },
     "execution_count": 45,
     "metadata": {},
     "output_type": "execute_result"
    }
   ],
   "source": [
    "char"
   ]
  },
  {
   "cell_type": "code",
   "execution_count": null,
   "id": "c82fb1c2",
   "metadata": {},
   "outputs": [],
   "source": [
    "clean_data =pd.concat([char],axis =1)"
   ]
  },
  {
   "cell_type": "code",
   "execution_count": null,
   "id": "cd7d20e7",
   "metadata": {},
   "outputs": [
    {
     "data": {
      "application/vnd.microsoft.datawrangler.viewer.v0+json": {
       "columns": [
        {
         "name": "index",
         "rawType": "int64",
         "type": "integer"
        },
        {
         "name": "age",
         "rawType": "float64",
         "type": "float"
        },
        {
         "name": "job",
         "rawType": "int64",
         "type": "integer"
        },
        {
         "name": "balance",
         "rawType": "int64",
         "type": "integer"
        },
        {
         "name": "duration",
         "rawType": "float64",
         "type": "float"
        },
        {
         "name": "campaign",
         "rawType": "int64",
         "type": "integer"
        }
       ],
       "ref": "6c8f0792-943d-4481-a7fb-c00555134eec",
       "rows": [
        [
         "0",
         "30.0",
         "10",
         "1787",
         "79.0",
         "1"
        ],
        [
         "1",
         "33.0",
         "7",
         "4789",
         "220.0",
         "1"
        ],
        [
         "2",
         "35.0",
         "4",
         "1350",
         "185.0",
         "1"
        ],
        [
         "3",
         "30.0",
         "4",
         "1476",
         "199.0",
         "4"
        ],
        [
         "4",
         "59.0",
         "1",
         "0",
         "226.0",
         "1"
        ],
        [
         "5",
         "35.0",
         "4",
         "747",
         "141.0",
         "2"
        ],
        [
         "6",
         "36.0",
         "6",
         "307",
         "341.0",
         "1"
        ],
        [
         "7",
         "39.0",
         "9",
         "147",
         "151.0",
         "2"
        ],
        [
         "8",
         "41.0",
         "2",
         "221",
         "57.0",
         "2"
        ],
        [
         "9",
         "43.0",
         "7",
         "-88",
         "313.0",
         "1"
        ],
        [
         "10",
         "39.0",
         "7",
         "9374",
         "273.0",
         "1"
        ],
        [
         "11",
         "43.0",
         "0",
         "264",
         "113.0",
         "2"
        ],
        [
         "12",
         "36.0",
         "9",
         "1109",
         "-328.0",
         "2"
        ],
        [
         "13",
         "20.0",
         "8",
         "502",
         "261.0",
         "1"
        ],
        [
         "14",
         "31.0",
         "1",
         "360",
         "89.0",
         "1"
        ],
        [
         "15",
         "40.0",
         "4",
         "194",
         "189.0",
         "2"
        ],
        [
         "16",
         "56.0",
         "9",
         "4073",
         "239.0",
         "5"
        ],
        [
         "17",
         "37.0",
         "0",
         "2317",
         "114.0",
         "1"
        ],
        [
         "18",
         "25.0",
         "1",
         "-221",
         "250.0",
         "1"
        ],
        [
         "19",
         "31.0",
         "7",
         "132",
         "148.0",
         "1"
        ],
        [
         "20",
         "38.0",
         "4",
         "0",
         "-96.0",
         "2"
        ],
        [
         "21",
         "42.0",
         "4",
         "16",
         "140.0",
         "3"
        ],
        [
         "22",
         "44.0",
         "7",
         "106",
         "109.0",
         "2"
        ],
        [
         "23",
         "44.0",
         "2",
         "93",
         "125.0",
         "2"
        ],
        [
         "24",
         "26.0",
         "3",
         "543",
         "169.0",
         "3"
        ],
        [
         "25",
         "41.0",
         "4",
         "5883",
         "182.0",
         "2"
        ],
        [
         "26",
         "55.0",
         "1",
         "627",
         "247.0",
         "1"
        ],
        [
         "27",
         "67.0",
         "5",
         "696",
         "119.0",
         "1"
        ],
        [
         "28",
         "56.0",
         "6",
         "784",
         "149.0",
         "2"
        ],
        [
         "29",
         "53.0",
         "0",
         "105",
         "74.0",
         "2"
        ],
        [
         "30",
         "68.0",
         "5",
         "4189",
         "897.0",
         "2"
        ],
        [
         "31",
         "31.0",
         "9",
         "171",
         "81.0",
         "3"
        ],
        [
         "32",
         "59.0",
         "4",
         "42",
         "40.0",
         "1"
        ],
        [
         "33",
         "32.0",
         "4",
         "2536",
         "958.0",
         "6"
        ],
        [
         "34",
         "49.0",
         "9",
         "1235",
         "354.0",
         "3"
        ],
        [
         "35",
         "42.0",
         "0",
         "1811",
         "150.0",
         "1"
        ],
        [
         "36",
         "78.0",
         "5",
         "229",
         "97.0",
         "1"
        ],
        [
         "37",
         "32.0",
         "1",
         "2089",
         "132.0",
         "1"
        ],
        [
         "38",
         "0.0",
         "4",
         "3935",
         "765.0",
         "1"
        ],
        [
         "39",
         "23.0",
         "7",
         "363",
         "16.0",
         "18"
        ],
        [
         "40",
         "38.0",
         "4",
         "11971",
         "609.0",
         "2"
        ],
        [
         "41",
         "36.0",
         "4",
         "553",
         "106.0",
         "2"
        ],
        [
         "42",
         "52.0",
         "1",
         "1117",
         "365.0",
         "1"
        ],
        [
         "43",
         "32.0",
         "9",
         "396",
         "205.0",
         "3"
        ],
        [
         "44",
         "32.0",
         "9",
         "2204",
         "11.0",
         "4"
        ],
        [
         "45",
         "34.0",
         "4",
         "872",
         "105.0",
         "2"
        ],
        [
         "46",
         "55.0",
         "1",
         "145",
         "59.0",
         "3"
        ],
        [
         "47",
         "26.0",
         "1",
         "0",
         "425.0",
         "1"
        ],
        [
         "48",
         "32.0",
         "2",
         "-849",
         "204.0",
         "1"
        ],
        [
         "49",
         null,
         "0",
         "4629",
         "181.0",
         "1"
        ]
       ],
       "shape": {
        "columns": 5,
        "rows": 4521
       }
      },
      "text/html": [
       "<div>\n",
       "<style scoped>\n",
       "    .dataframe tbody tr th:only-of-type {\n",
       "        vertical-align: middle;\n",
       "    }\n",
       "\n",
       "    .dataframe tbody tr th {\n",
       "        vertical-align: top;\n",
       "    }\n",
       "\n",
       "    .dataframe thead th {\n",
       "        text-align: right;\n",
       "    }\n",
       "</style>\n",
       "<table border=\"1\" class=\"dataframe\">\n",
       "  <thead>\n",
       "    <tr style=\"text-align: right;\">\n",
       "      <th></th>\n",
       "      <th>age</th>\n",
       "      <th>job</th>\n",
       "      <th>balance</th>\n",
       "      <th>duration</th>\n",
       "      <th>campaign</th>\n",
       "    </tr>\n",
       "  </thead>\n",
       "  <tbody>\n",
       "    <tr>\n",
       "      <th>0</th>\n",
       "      <td>30.0</td>\n",
       "      <td>10</td>\n",
       "      <td>1787</td>\n",
       "      <td>79.0</td>\n",
       "      <td>1</td>\n",
       "    </tr>\n",
       "    <tr>\n",
       "      <th>1</th>\n",
       "      <td>33.0</td>\n",
       "      <td>7</td>\n",
       "      <td>4789</td>\n",
       "      <td>220.0</td>\n",
       "      <td>1</td>\n",
       "    </tr>\n",
       "    <tr>\n",
       "      <th>2</th>\n",
       "      <td>35.0</td>\n",
       "      <td>4</td>\n",
       "      <td>1350</td>\n",
       "      <td>185.0</td>\n",
       "      <td>1</td>\n",
       "    </tr>\n",
       "    <tr>\n",
       "      <th>3</th>\n",
       "      <td>30.0</td>\n",
       "      <td>4</td>\n",
       "      <td>1476</td>\n",
       "      <td>199.0</td>\n",
       "      <td>4</td>\n",
       "    </tr>\n",
       "    <tr>\n",
       "      <th>4</th>\n",
       "      <td>59.0</td>\n",
       "      <td>1</td>\n",
       "      <td>0</td>\n",
       "      <td>226.0</td>\n",
       "      <td>1</td>\n",
       "    </tr>\n",
       "    <tr>\n",
       "      <th>...</th>\n",
       "      <td>...</td>\n",
       "      <td>...</td>\n",
       "      <td>...</td>\n",
       "      <td>...</td>\n",
       "      <td>...</td>\n",
       "    </tr>\n",
       "    <tr>\n",
       "      <th>4516</th>\n",
       "      <td>99.0</td>\n",
       "      <td>7</td>\n",
       "      <td>-333</td>\n",
       "      <td>329.0</td>\n",
       "      <td>5</td>\n",
       "    </tr>\n",
       "    <tr>\n",
       "      <th>4517</th>\n",
       "      <td>57.0</td>\n",
       "      <td>6</td>\n",
       "      <td>-3313</td>\n",
       "      <td>-153.0</td>\n",
       "      <td>1</td>\n",
       "    </tr>\n",
       "    <tr>\n",
       "      <th>4518</th>\n",
       "      <td>57.0</td>\n",
       "      <td>9</td>\n",
       "      <td>295</td>\n",
       "      <td>151.0</td>\n",
       "      <td>11</td>\n",
       "    </tr>\n",
       "    <tr>\n",
       "      <th>4519</th>\n",
       "      <td>28.0</td>\n",
       "      <td>1</td>\n",
       "      <td>1137</td>\n",
       "      <td>129.0</td>\n",
       "      <td>4</td>\n",
       "    </tr>\n",
       "    <tr>\n",
       "      <th>4520</th>\n",
       "      <td>44.0</td>\n",
       "      <td>2</td>\n",
       "      <td>1136</td>\n",
       "      <td>345.0</td>\n",
       "      <td>2</td>\n",
       "    </tr>\n",
       "  </tbody>\n",
       "</table>\n",
       "<p>4521 rows × 5 columns</p>\n",
       "</div>"
      ],
      "text/plain": [
       "       age  job  balance  duration  campaign\n",
       "0     30.0   10     1787      79.0         1\n",
       "1     33.0    7     4789     220.0         1\n",
       "2     35.0    4     1350     185.0         1\n",
       "3     30.0    4     1476     199.0         4\n",
       "4     59.0    1        0     226.0         1\n",
       "...    ...  ...      ...       ...       ...\n",
       "4516  99.0    7     -333     329.0         5\n",
       "4517  57.0    6    -3313    -153.0         1\n",
       "4518  57.0    9      295     151.0        11\n",
       "4519  28.0    1     1137     129.0         4\n",
       "4520  44.0    2     1136     345.0         2\n",
       "\n",
       "[4521 rows x 5 columns]"
      ]
     },
     "execution_count": 47,
     "metadata": {},
     "output_type": "execute_result"
    }
   ],
   "source": [
    "clean_data"
   ]
  }
 ],
 "metadata": {
  "kernelspec": {
   "display_name": "Python 3",
   "language": "python",
   "name": "python3"
  },
  "language_info": {
   "codemirror_mode": {
    "name": "ipython",
    "version": 3
   },
   "file_extension": ".py",
   "mimetype": "text/x-python",
   "name": "python",
   "nbconvert_exporter": "python",
   "pygments_lexer": "ipython3",
   "version": "3.11.9"
  }
 },
 "nbformat": 4,
 "nbformat_minor": 5
}
