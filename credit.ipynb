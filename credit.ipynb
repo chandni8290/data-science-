{
 "cells": [
  {
   "cell_type": "code",
   "execution_count": 1,
   "id": "86571d72",
   "metadata": {},
   "outputs": [],
   "source": [
    "import pandas as pd"
   ]
  },
  {
   "cell_type": "code",
   "execution_count": 2,
   "id": "1f74f18f",
   "metadata": {},
   "outputs": [],
   "source": [
    "df =pd.read_csv(r'C:\\Users\\chand\\OneDrive\\Desktop\\Data science\\data-science-ai-and-ml\\projects\\credit\\Credit (1).csv')"
   ]
  },
  {
   "cell_type": "code",
   "execution_count": 3,
   "id": "5e8fdf0b",
   "metadata": {},
   "outputs": [
    {
     "name": "stdout",
     "output_type": "stream",
     "text": [
      "<class 'pandas.core.frame.DataFrame'>\n",
      "RangeIndex: 4521 entries, 0 to 4520\n",
      "Data columns (total 9 columns):\n",
      " #   Column     Non-Null Count  Dtype  \n",
      "---  ------     --------------  -----  \n",
      " 0   age        4519 non-null   float64\n",
      " 1   job        4515 non-null   object \n",
      " 2   marital    4518 non-null   object \n",
      " 3   education  4517 non-null   object \n",
      " 4   balance    4521 non-null   int64  \n",
      " 5   housing    4518 non-null   object \n",
      " 6   duration   4519 non-null   float64\n",
      " 7   campaign   4521 non-null   int64  \n",
      " 8   approval   4521 non-null   object \n",
      "dtypes: float64(2), int64(2), object(5)\n",
      "memory usage: 318.0+ KB\n"
     ]
    }
   ],
   "source": [
    "df.info()"
   ]
  },
  {
   "cell_type": "code",
   "execution_count": 4,
   "id": "b9578d7c",
   "metadata": {},
   "outputs": [
    {
     "data": {
      "application/vnd.microsoft.datawrangler.viewer.v0+json": {
       "columns": [
        {
         "name": "index",
         "rawType": "int64",
         "type": "integer"
        },
        {
         "name": "age",
         "rawType": "float64",
         "type": "float"
        },
        {
         "name": "job",
         "rawType": "object",
         "type": "string"
        },
        {
         "name": "marital",
         "rawType": "object",
         "type": "string"
        },
        {
         "name": "education",
         "rawType": "object",
         "type": "string"
        },
        {
         "name": "balance",
         "rawType": "int64",
         "type": "integer"
        },
        {
         "name": "housing",
         "rawType": "object",
         "type": "string"
        },
        {
         "name": "duration",
         "rawType": "float64",
         "type": "float"
        },
        {
         "name": "campaign",
         "rawType": "int64",
         "type": "integer"
        },
        {
         "name": "approval",
         "rawType": "object",
         "type": "string"
        }
       ],
       "ref": "b05b3135-60d7-4e02-8a15-a555606a09e7",
       "rows": [
        [
         "0",
         "30.0",
         "unemployed",
         "married",
         "primary",
         "1787",
         "no",
         "79.0",
         "1",
         "no"
        ],
        [
         "1",
         "33.0",
         "services",
         "married",
         "secondary",
         "4789",
         "yes",
         "220.0",
         "1",
         "no"
        ],
        [
         "2",
         "35.0",
         "management",
         "single",
         "tertiary",
         "1350",
         "yes",
         "185.0",
         "1",
         "no"
        ],
        [
         "3",
         "30.0",
         "management",
         "married",
         "tertiary",
         "1476",
         "yes",
         "199.0",
         "4",
         "no"
        ],
        [
         "4",
         "59.0",
         "blue-collar",
         "married",
         "secondary",
         "0",
         "yes",
         "226.0",
         "1",
         "no"
        ],
        [
         "5",
         "35.0",
         "management",
         "single",
         "tertiary",
         "747",
         "no",
         "141.0",
         "2",
         "no"
        ],
        [
         "6",
         "36.0",
         "self-employed",
         "married",
         "tertiary",
         "307",
         "yes",
         "341.0",
         "1",
         "no"
        ],
        [
         "7",
         "39.0",
         "technician",
         "married",
         "secondary",
         "147",
         "yes",
         "151.0",
         "2",
         "no"
        ],
        [
         "8",
         "41.0",
         "entrepreneur",
         "married",
         "tertiary",
         "221",
         "yes",
         "57.0",
         "2",
         "no"
        ],
        [
         "9",
         "43.0",
         "services",
         "married",
         "primary",
         "-88",
         "yes",
         "313.0",
         "1",
         "no"
        ]
       ],
       "shape": {
        "columns": 9,
        "rows": 10
       }
      },
      "text/html": [
       "<div>\n",
       "<style scoped>\n",
       "    .dataframe tbody tr th:only-of-type {\n",
       "        vertical-align: middle;\n",
       "    }\n",
       "\n",
       "    .dataframe tbody tr th {\n",
       "        vertical-align: top;\n",
       "    }\n",
       "\n",
       "    .dataframe thead th {\n",
       "        text-align: right;\n",
       "    }\n",
       "</style>\n",
       "<table border=\"1\" class=\"dataframe\">\n",
       "  <thead>\n",
       "    <tr style=\"text-align: right;\">\n",
       "      <th></th>\n",
       "      <th>age</th>\n",
       "      <th>job</th>\n",
       "      <th>marital</th>\n",
       "      <th>education</th>\n",
       "      <th>balance</th>\n",
       "      <th>housing</th>\n",
       "      <th>duration</th>\n",
       "      <th>campaign</th>\n",
       "      <th>approval</th>\n",
       "    </tr>\n",
       "  </thead>\n",
       "  <tbody>\n",
       "    <tr>\n",
       "      <th>0</th>\n",
       "      <td>30.0</td>\n",
       "      <td>unemployed</td>\n",
       "      <td>married</td>\n",
       "      <td>primary</td>\n",
       "      <td>1787</td>\n",
       "      <td>no</td>\n",
       "      <td>79.0</td>\n",
       "      <td>1</td>\n",
       "      <td>no</td>\n",
       "    </tr>\n",
       "    <tr>\n",
       "      <th>1</th>\n",
       "      <td>33.0</td>\n",
       "      <td>services</td>\n",
       "      <td>married</td>\n",
       "      <td>secondary</td>\n",
       "      <td>4789</td>\n",
       "      <td>yes</td>\n",
       "      <td>220.0</td>\n",
       "      <td>1</td>\n",
       "      <td>no</td>\n",
       "    </tr>\n",
       "    <tr>\n",
       "      <th>2</th>\n",
       "      <td>35.0</td>\n",
       "      <td>management</td>\n",
       "      <td>single</td>\n",
       "      <td>tertiary</td>\n",
       "      <td>1350</td>\n",
       "      <td>yes</td>\n",
       "      <td>185.0</td>\n",
       "      <td>1</td>\n",
       "      <td>no</td>\n",
       "    </tr>\n",
       "    <tr>\n",
       "      <th>3</th>\n",
       "      <td>30.0</td>\n",
       "      <td>management</td>\n",
       "      <td>married</td>\n",
       "      <td>tertiary</td>\n",
       "      <td>1476</td>\n",
       "      <td>yes</td>\n",
       "      <td>199.0</td>\n",
       "      <td>4</td>\n",
       "      <td>no</td>\n",
       "    </tr>\n",
       "    <tr>\n",
       "      <th>4</th>\n",
       "      <td>59.0</td>\n",
       "      <td>blue-collar</td>\n",
       "      <td>married</td>\n",
       "      <td>secondary</td>\n",
       "      <td>0</td>\n",
       "      <td>yes</td>\n",
       "      <td>226.0</td>\n",
       "      <td>1</td>\n",
       "      <td>no</td>\n",
       "    </tr>\n",
       "    <tr>\n",
       "      <th>5</th>\n",
       "      <td>35.0</td>\n",
       "      <td>management</td>\n",
       "      <td>single</td>\n",
       "      <td>tertiary</td>\n",
       "      <td>747</td>\n",
       "      <td>no</td>\n",
       "      <td>141.0</td>\n",
       "      <td>2</td>\n",
       "      <td>no</td>\n",
       "    </tr>\n",
       "    <tr>\n",
       "      <th>6</th>\n",
       "      <td>36.0</td>\n",
       "      <td>self-employed</td>\n",
       "      <td>married</td>\n",
       "      <td>tertiary</td>\n",
       "      <td>307</td>\n",
       "      <td>yes</td>\n",
       "      <td>341.0</td>\n",
       "      <td>1</td>\n",
       "      <td>no</td>\n",
       "    </tr>\n",
       "    <tr>\n",
       "      <th>7</th>\n",
       "      <td>39.0</td>\n",
       "      <td>technician</td>\n",
       "      <td>married</td>\n",
       "      <td>secondary</td>\n",
       "      <td>147</td>\n",
       "      <td>yes</td>\n",
       "      <td>151.0</td>\n",
       "      <td>2</td>\n",
       "      <td>no</td>\n",
       "    </tr>\n",
       "    <tr>\n",
       "      <th>8</th>\n",
       "      <td>41.0</td>\n",
       "      <td>entrepreneur</td>\n",
       "      <td>married</td>\n",
       "      <td>tertiary</td>\n",
       "      <td>221</td>\n",
       "      <td>yes</td>\n",
       "      <td>57.0</td>\n",
       "      <td>2</td>\n",
       "      <td>no</td>\n",
       "    </tr>\n",
       "    <tr>\n",
       "      <th>9</th>\n",
       "      <td>43.0</td>\n",
       "      <td>services</td>\n",
       "      <td>married</td>\n",
       "      <td>primary</td>\n",
       "      <td>-88</td>\n",
       "      <td>yes</td>\n",
       "      <td>313.0</td>\n",
       "      <td>1</td>\n",
       "      <td>no</td>\n",
       "    </tr>\n",
       "  </tbody>\n",
       "</table>\n",
       "</div>"
      ],
      "text/plain": [
       "    age            job  marital  education  balance housing  duration  \\\n",
       "0  30.0     unemployed  married    primary     1787      no      79.0   \n",
       "1  33.0       services  married  secondary     4789     yes     220.0   \n",
       "2  35.0     management   single   tertiary     1350     yes     185.0   \n",
       "3  30.0     management  married   tertiary     1476     yes     199.0   \n",
       "4  59.0    blue-collar  married  secondary        0     yes     226.0   \n",
       "5  35.0     management   single   tertiary      747      no     141.0   \n",
       "6  36.0  self-employed  married   tertiary      307     yes     341.0   \n",
       "7  39.0     technician  married  secondary      147     yes     151.0   \n",
       "8  41.0   entrepreneur  married   tertiary      221     yes      57.0   \n",
       "9  43.0       services  married    primary      -88     yes     313.0   \n",
       "\n",
       "   campaign approval  \n",
       "0         1       no  \n",
       "1         1       no  \n",
       "2         1       no  \n",
       "3         4       no  \n",
       "4         1       no  \n",
       "5         2       no  \n",
       "6         1       no  \n",
       "7         2       no  \n",
       "8         2       no  \n",
       "9         1       no  "
      ]
     },
     "execution_count": 4,
     "metadata": {},
     "output_type": "execute_result"
    }
   ],
   "source": [
    "df.head(10)"
   ]
  },
  {
   "cell_type": "code",
   "execution_count": 5,
   "id": "e38a2fa4",
   "metadata": {},
   "outputs": [
    {
     "data": {
      "application/vnd.microsoft.datawrangler.viewer.v0+json": {
       "columns": [
        {
         "name": "index",
         "rawType": "int64",
         "type": "integer"
        },
        {
         "name": "age",
         "rawType": "float64",
         "type": "float"
        },
        {
         "name": "job",
         "rawType": "object",
         "type": "string"
        },
        {
         "name": "marital",
         "rawType": "object",
         "type": "string"
        },
        {
         "name": "education",
         "rawType": "object",
         "type": "string"
        },
        {
         "name": "balance",
         "rawType": "int64",
         "type": "integer"
        },
        {
         "name": "housing",
         "rawType": "object",
         "type": "string"
        },
        {
         "name": "duration",
         "rawType": "float64",
         "type": "float"
        },
        {
         "name": "campaign",
         "rawType": "int64",
         "type": "integer"
        },
        {
         "name": "approval",
         "rawType": "object",
         "type": "string"
        }
       ],
       "ref": "154b223e-be6f-48e0-a96d-2c6080a615b0",
       "rows": [
        [
         "4511",
         "46.0",
         "blue-collar",
         "married",
         "secondary",
         "668",
         "yes",
         "1263.0",
         "2",
         "yes"
        ],
        [
         "4512",
         "40.0",
         "blue-collar",
         "married",
         "secondary",
         "1100",
         "yes",
         "660.0",
         "2",
         "no"
        ],
        [
         "4513",
         "49.0",
         "blue-collar",
         "married",
         "secondary",
         "322",
         "no",
         "356.0",
         "2",
         "no"
        ],
        [
         "4514",
         "38.0",
         "blue-collar",
         "married",
         "secondary",
         "1205",
         "yes",
         "45.0",
         "4",
         "no"
        ],
        [
         "4515",
         "32.0",
         "services",
         "single",
         "secondary",
         "473",
         "yes",
         "624.0",
         "5",
         "no"
        ],
        [
         "4516",
         "99.0",
         "services",
         "married",
         "secondary",
         "-333",
         "yes",
         "329.0",
         "5",
         "no"
        ],
        [
         "4517",
         "57.0",
         "self-employed",
         "married",
         "tertiary",
         "-3313",
         "yes",
         "-153.0",
         "1",
         "no"
        ],
        [
         "4518",
         "57.0",
         "technician",
         "married",
         "secondary",
         "295",
         "no",
         "151.0",
         "11",
         "no"
        ],
        [
         "4519",
         "28.0",
         "blue-collar",
         "married",
         "secondary",
         "1137",
         "no",
         "129.0",
         "4",
         "no"
        ],
        [
         "4520",
         "44.0",
         "entrepreneur",
         "single",
         "tertiary",
         "1136",
         "yes",
         "345.0",
         "2",
         "no"
        ]
       ],
       "shape": {
        "columns": 9,
        "rows": 10
       }
      },
      "text/html": [
       "<div>\n",
       "<style scoped>\n",
       "    .dataframe tbody tr th:only-of-type {\n",
       "        vertical-align: middle;\n",
       "    }\n",
       "\n",
       "    .dataframe tbody tr th {\n",
       "        vertical-align: top;\n",
       "    }\n",
       "\n",
       "    .dataframe thead th {\n",
       "        text-align: right;\n",
       "    }\n",
       "</style>\n",
       "<table border=\"1\" class=\"dataframe\">\n",
       "  <thead>\n",
       "    <tr style=\"text-align: right;\">\n",
       "      <th></th>\n",
       "      <th>age</th>\n",
       "      <th>job</th>\n",
       "      <th>marital</th>\n",
       "      <th>education</th>\n",
       "      <th>balance</th>\n",
       "      <th>housing</th>\n",
       "      <th>duration</th>\n",
       "      <th>campaign</th>\n",
       "      <th>approval</th>\n",
       "    </tr>\n",
       "  </thead>\n",
       "  <tbody>\n",
       "    <tr>\n",
       "      <th>4511</th>\n",
       "      <td>46.0</td>\n",
       "      <td>blue-collar</td>\n",
       "      <td>married</td>\n",
       "      <td>secondary</td>\n",
       "      <td>668</td>\n",
       "      <td>yes</td>\n",
       "      <td>1263.0</td>\n",
       "      <td>2</td>\n",
       "      <td>yes</td>\n",
       "    </tr>\n",
       "    <tr>\n",
       "      <th>4512</th>\n",
       "      <td>40.0</td>\n",
       "      <td>blue-collar</td>\n",
       "      <td>married</td>\n",
       "      <td>secondary</td>\n",
       "      <td>1100</td>\n",
       "      <td>yes</td>\n",
       "      <td>660.0</td>\n",
       "      <td>2</td>\n",
       "      <td>no</td>\n",
       "    </tr>\n",
       "    <tr>\n",
       "      <th>4513</th>\n",
       "      <td>49.0</td>\n",
       "      <td>blue-collar</td>\n",
       "      <td>married</td>\n",
       "      <td>secondary</td>\n",
       "      <td>322</td>\n",
       "      <td>no</td>\n",
       "      <td>356.0</td>\n",
       "      <td>2</td>\n",
       "      <td>no</td>\n",
       "    </tr>\n",
       "    <tr>\n",
       "      <th>4514</th>\n",
       "      <td>38.0</td>\n",
       "      <td>blue-collar</td>\n",
       "      <td>married</td>\n",
       "      <td>secondary</td>\n",
       "      <td>1205</td>\n",
       "      <td>yes</td>\n",
       "      <td>45.0</td>\n",
       "      <td>4</td>\n",
       "      <td>no</td>\n",
       "    </tr>\n",
       "    <tr>\n",
       "      <th>4515</th>\n",
       "      <td>32.0</td>\n",
       "      <td>services</td>\n",
       "      <td>single</td>\n",
       "      <td>secondary</td>\n",
       "      <td>473</td>\n",
       "      <td>yes</td>\n",
       "      <td>624.0</td>\n",
       "      <td>5</td>\n",
       "      <td>no</td>\n",
       "    </tr>\n",
       "    <tr>\n",
       "      <th>4516</th>\n",
       "      <td>99.0</td>\n",
       "      <td>services</td>\n",
       "      <td>married</td>\n",
       "      <td>secondary</td>\n",
       "      <td>-333</td>\n",
       "      <td>yes</td>\n",
       "      <td>329.0</td>\n",
       "      <td>5</td>\n",
       "      <td>no</td>\n",
       "    </tr>\n",
       "    <tr>\n",
       "      <th>4517</th>\n",
       "      <td>57.0</td>\n",
       "      <td>self-employed</td>\n",
       "      <td>married</td>\n",
       "      <td>tertiary</td>\n",
       "      <td>-3313</td>\n",
       "      <td>yes</td>\n",
       "      <td>-153.0</td>\n",
       "      <td>1</td>\n",
       "      <td>no</td>\n",
       "    </tr>\n",
       "    <tr>\n",
       "      <th>4518</th>\n",
       "      <td>57.0</td>\n",
       "      <td>technician</td>\n",
       "      <td>married</td>\n",
       "      <td>secondary</td>\n",
       "      <td>295</td>\n",
       "      <td>no</td>\n",
       "      <td>151.0</td>\n",
       "      <td>11</td>\n",
       "      <td>no</td>\n",
       "    </tr>\n",
       "    <tr>\n",
       "      <th>4519</th>\n",
       "      <td>28.0</td>\n",
       "      <td>blue-collar</td>\n",
       "      <td>married</td>\n",
       "      <td>secondary</td>\n",
       "      <td>1137</td>\n",
       "      <td>no</td>\n",
       "      <td>129.0</td>\n",
       "      <td>4</td>\n",
       "      <td>no</td>\n",
       "    </tr>\n",
       "    <tr>\n",
       "      <th>4520</th>\n",
       "      <td>44.0</td>\n",
       "      <td>entrepreneur</td>\n",
       "      <td>single</td>\n",
       "      <td>tertiary</td>\n",
       "      <td>1136</td>\n",
       "      <td>yes</td>\n",
       "      <td>345.0</td>\n",
       "      <td>2</td>\n",
       "      <td>no</td>\n",
       "    </tr>\n",
       "  </tbody>\n",
       "</table>\n",
       "</div>"
      ],
      "text/plain": [
       "       age            job  marital  education  balance housing  duration  \\\n",
       "4511  46.0    blue-collar  married  secondary      668     yes    1263.0   \n",
       "4512  40.0    blue-collar  married  secondary     1100     yes     660.0   \n",
       "4513  49.0    blue-collar  married  secondary      322      no     356.0   \n",
       "4514  38.0    blue-collar  married  secondary     1205     yes      45.0   \n",
       "4515  32.0       services   single  secondary      473     yes     624.0   \n",
       "4516  99.0       services  married  secondary     -333     yes     329.0   \n",
       "4517  57.0  self-employed  married   tertiary    -3313     yes    -153.0   \n",
       "4518  57.0     technician  married  secondary      295      no     151.0   \n",
       "4519  28.0    blue-collar  married  secondary     1137      no     129.0   \n",
       "4520  44.0   entrepreneur   single   tertiary     1136     yes     345.0   \n",
       "\n",
       "      campaign approval  \n",
       "4511         2      yes  \n",
       "4512         2       no  \n",
       "4513         2       no  \n",
       "4514         4       no  \n",
       "4515         5       no  \n",
       "4516         5       no  \n",
       "4517         1       no  \n",
       "4518        11       no  \n",
       "4519         4       no  \n",
       "4520         2       no  "
      ]
     },
     "execution_count": 5,
     "metadata": {},
     "output_type": "execute_result"
    }
   ],
   "source": [
    "df.tail(10)"
   ]
  },
  {
   "cell_type": "code",
   "execution_count": 6,
   "id": "0558ae10",
   "metadata": {},
   "outputs": [
    {
     "data": {
      "application/vnd.microsoft.datawrangler.viewer.v0+json": {
       "columns": [
        {
         "name": "index",
         "rawType": "int64",
         "type": "integer"
        },
        {
         "name": "0",
         "rawType": "bool",
         "type": "boolean"
        }
       ],
       "ref": "f927231b-5eed-497e-bd12-d5f99a51a5e8",
       "rows": [
        [
         "0",
         "False"
        ],
        [
         "1",
         "False"
        ],
        [
         "2",
         "False"
        ],
        [
         "3",
         "False"
        ],
        [
         "4",
         "False"
        ],
        [
         "5",
         "False"
        ],
        [
         "6",
         "False"
        ],
        [
         "7",
         "False"
        ],
        [
         "8",
         "False"
        ],
        [
         "9",
         "False"
        ],
        [
         "10",
         "False"
        ],
        [
         "11",
         "False"
        ],
        [
         "12",
         "False"
        ],
        [
         "13",
         "False"
        ],
        [
         "14",
         "False"
        ],
        [
         "15",
         "False"
        ],
        [
         "16",
         "False"
        ],
        [
         "17",
         "False"
        ],
        [
         "18",
         "False"
        ],
        [
         "19",
         "False"
        ],
        [
         "20",
         "False"
        ],
        [
         "21",
         "False"
        ],
        [
         "22",
         "False"
        ],
        [
         "23",
         "False"
        ],
        [
         "24",
         "False"
        ],
        [
         "25",
         "False"
        ],
        [
         "26",
         "False"
        ],
        [
         "27",
         "False"
        ],
        [
         "28",
         "False"
        ],
        [
         "29",
         "False"
        ],
        [
         "30",
         "False"
        ],
        [
         "31",
         "False"
        ],
        [
         "32",
         "False"
        ],
        [
         "33",
         "False"
        ],
        [
         "34",
         "False"
        ],
        [
         "35",
         "False"
        ],
        [
         "36",
         "False"
        ],
        [
         "37",
         "False"
        ],
        [
         "38",
         "False"
        ],
        [
         "39",
         "False"
        ],
        [
         "40",
         "False"
        ],
        [
         "41",
         "False"
        ],
        [
         "42",
         "False"
        ],
        [
         "43",
         "False"
        ],
        [
         "44",
         "False"
        ],
        [
         "45",
         "False"
        ],
        [
         "46",
         "False"
        ],
        [
         "47",
         "False"
        ],
        [
         "48",
         "False"
        ],
        [
         "49",
         "False"
        ]
       ],
       "shape": {
        "columns": 1,
        "rows": 4521
       }
      },
      "text/plain": [
       "0       False\n",
       "1       False\n",
       "2       False\n",
       "3       False\n",
       "4       False\n",
       "        ...  \n",
       "4516    False\n",
       "4517    False\n",
       "4518    False\n",
       "4519    False\n",
       "4520    False\n",
       "Length: 4521, dtype: bool"
      ]
     },
     "execution_count": 6,
     "metadata": {},
     "output_type": "execute_result"
    }
   ],
   "source": [
    "df.duplicated()"
   ]
  },
  {
   "cell_type": "code",
   "execution_count": 7,
   "id": "187ae998",
   "metadata": {},
   "outputs": [
    {
     "data": {
      "text/plain": [
       "np.int64(1)"
      ]
     },
     "execution_count": 7,
     "metadata": {},
     "output_type": "execute_result"
    }
   ],
   "source": [
    "df.duplicated().sum()"
   ]
  },
  {
   "cell_type": "code",
   "execution_count": 8,
   "id": "3c7f96e4",
   "metadata": {},
   "outputs": [
    {
     "data": {
      "application/vnd.microsoft.datawrangler.viewer.v0+json": {
       "columns": [
        {
         "name": "index",
         "rawType": "object",
         "type": "string"
        },
        {
         "name": "age",
         "rawType": "float64",
         "type": "float"
        },
        {
         "name": "balance",
         "rawType": "float64",
         "type": "float"
        },
        {
         "name": "duration",
         "rawType": "float64",
         "type": "float"
        },
        {
         "name": "campaign",
         "rawType": "float64",
         "type": "float"
        }
       ],
       "ref": "3513d296-e76d-4d44-8287-6088506867b1",
       "rows": [
        [
         "count",
         "4519.0",
         "4521.0",
         "4519.0",
         "4521.0"
        ],
        [
         "mean",
         "41.38127904403629",
         "1422.6578190665782",
         "5983.921221509184",
         "2.793629727936297"
        ],
        [
         "std",
         "13.966475197392558",
         "3009.638142467341",
         "357068.33980301674",
         "3.109806660188575"
        ],
        [
         "min",
         "-38.0",
         "-3313.0",
         "-799.0",
         "1.0"
        ],
        [
         "25%",
         "33.0",
         "69.0",
         "104.0",
         "1.0"
        ],
        [
         "50%",
         "39.0",
         "444.0",
         "185.0",
         "2.0"
        ],
        [
         "75%",
         "49.0",
         "1480.0",
         "329.5",
         "3.0"
        ],
        [
         "max",
         "416.0",
         "71188.0",
         "23956498.0",
         "50.0"
        ]
       ],
       "shape": {
        "columns": 4,
        "rows": 8
       }
      },
      "text/html": [
       "<div>\n",
       "<style scoped>\n",
       "    .dataframe tbody tr th:only-of-type {\n",
       "        vertical-align: middle;\n",
       "    }\n",
       "\n",
       "    .dataframe tbody tr th {\n",
       "        vertical-align: top;\n",
       "    }\n",
       "\n",
       "    .dataframe thead th {\n",
       "        text-align: right;\n",
       "    }\n",
       "</style>\n",
       "<table border=\"1\" class=\"dataframe\">\n",
       "  <thead>\n",
       "    <tr style=\"text-align: right;\">\n",
       "      <th></th>\n",
       "      <th>age</th>\n",
       "      <th>balance</th>\n",
       "      <th>duration</th>\n",
       "      <th>campaign</th>\n",
       "    </tr>\n",
       "  </thead>\n",
       "  <tbody>\n",
       "    <tr>\n",
       "      <th>count</th>\n",
       "      <td>4519.000000</td>\n",
       "      <td>4521.000000</td>\n",
       "      <td>4.519000e+03</td>\n",
       "      <td>4521.000000</td>\n",
       "    </tr>\n",
       "    <tr>\n",
       "      <th>mean</th>\n",
       "      <td>41.381279</td>\n",
       "      <td>1422.657819</td>\n",
       "      <td>5.983921e+03</td>\n",
       "      <td>2.793630</td>\n",
       "    </tr>\n",
       "    <tr>\n",
       "      <th>std</th>\n",
       "      <td>13.966475</td>\n",
       "      <td>3009.638142</td>\n",
       "      <td>3.570683e+05</td>\n",
       "      <td>3.109807</td>\n",
       "    </tr>\n",
       "    <tr>\n",
       "      <th>min</th>\n",
       "      <td>-38.000000</td>\n",
       "      <td>-3313.000000</td>\n",
       "      <td>-7.990000e+02</td>\n",
       "      <td>1.000000</td>\n",
       "    </tr>\n",
       "    <tr>\n",
       "      <th>25%</th>\n",
       "      <td>33.000000</td>\n",
       "      <td>69.000000</td>\n",
       "      <td>1.040000e+02</td>\n",
       "      <td>1.000000</td>\n",
       "    </tr>\n",
       "    <tr>\n",
       "      <th>50%</th>\n",
       "      <td>39.000000</td>\n",
       "      <td>444.000000</td>\n",
       "      <td>1.850000e+02</td>\n",
       "      <td>2.000000</td>\n",
       "    </tr>\n",
       "    <tr>\n",
       "      <th>75%</th>\n",
       "      <td>49.000000</td>\n",
       "      <td>1480.000000</td>\n",
       "      <td>3.295000e+02</td>\n",
       "      <td>3.000000</td>\n",
       "    </tr>\n",
       "    <tr>\n",
       "      <th>max</th>\n",
       "      <td>416.000000</td>\n",
       "      <td>71188.000000</td>\n",
       "      <td>2.395650e+07</td>\n",
       "      <td>50.000000</td>\n",
       "    </tr>\n",
       "  </tbody>\n",
       "</table>\n",
       "</div>"
      ],
      "text/plain": [
       "               age       balance      duration     campaign\n",
       "count  4519.000000   4521.000000  4.519000e+03  4521.000000\n",
       "mean     41.381279   1422.657819  5.983921e+03     2.793630\n",
       "std      13.966475   3009.638142  3.570683e+05     3.109807\n",
       "min     -38.000000  -3313.000000 -7.990000e+02     1.000000\n",
       "25%      33.000000     69.000000  1.040000e+02     1.000000\n",
       "50%      39.000000    444.000000  1.850000e+02     2.000000\n",
       "75%      49.000000   1480.000000  3.295000e+02     3.000000\n",
       "max     416.000000  71188.000000  2.395650e+07    50.000000"
      ]
     },
     "execution_count": 8,
     "metadata": {},
     "output_type": "execute_result"
    }
   ],
   "source": [
    "df.describe()"
   ]
  },
  {
   "cell_type": "code",
   "execution_count": 9,
   "id": "baf6f4bf",
   "metadata": {},
   "outputs": [
    {
     "data": {
      "application/vnd.microsoft.datawrangler.viewer.v0+json": {
       "columns": [
        {
         "name": "index",
         "rawType": "int64",
         "type": "integer"
        },
        {
         "name": "age",
         "rawType": "float64",
         "type": "float"
        },
        {
         "name": "job",
         "rawType": "object",
         "type": "unknown"
        },
        {
         "name": "marital",
         "rawType": "object",
         "type": "unknown"
        },
        {
         "name": "education",
         "rawType": "object",
         "type": "unknown"
        },
        {
         "name": "balance",
         "rawType": "int64",
         "type": "integer"
        },
        {
         "name": "housing",
         "rawType": "object",
         "type": "unknown"
        },
        {
         "name": "duration",
         "rawType": "float64",
         "type": "float"
        },
        {
         "name": "campaign",
         "rawType": "int64",
         "type": "integer"
        },
        {
         "name": "approval",
         "rawType": "object",
         "type": "string"
        }
       ],
       "ref": "d5c4681e-fe74-4730-9eea-34e4b9001e64",
       "rows": [
        [
         "0",
         "30.0",
         "unemployed",
         "married",
         "primary",
         "1787",
         "no",
         "79.0",
         "1",
         "no"
        ],
        [
         "1",
         "33.0",
         "services",
         "married",
         "secondary",
         "4789",
         "yes",
         "220.0",
         "1",
         "no"
        ],
        [
         "2",
         "35.0",
         "management",
         "single",
         "tertiary",
         "1350",
         "yes",
         "185.0",
         "1",
         "no"
        ],
        [
         "3",
         "30.0",
         "management",
         "married",
         "tertiary",
         "1476",
         "yes",
         "199.0",
         "4",
         "no"
        ],
        [
         "4",
         "59.0",
         "blue-collar",
         "married",
         "secondary",
         "0",
         "yes",
         "226.0",
         "1",
         "no"
        ],
        [
         "5",
         "35.0",
         "management",
         "single",
         "tertiary",
         "747",
         "no",
         "141.0",
         "2",
         "no"
        ],
        [
         "6",
         "36.0",
         "self-employed",
         "married",
         "tertiary",
         "307",
         "yes",
         "341.0",
         "1",
         "no"
        ],
        [
         "7",
         "39.0",
         "technician",
         "married",
         "secondary",
         "147",
         "yes",
         "151.0",
         "2",
         "no"
        ],
        [
         "8",
         "41.0",
         "entrepreneur",
         "married",
         "tertiary",
         "221",
         "yes",
         "57.0",
         "2",
         "no"
        ],
        [
         "9",
         "43.0",
         "services",
         "married",
         "primary",
         "-88",
         "yes",
         "313.0",
         "1",
         "no"
        ],
        [
         "10",
         "39.0",
         "services",
         "married",
         "secondary",
         "9374",
         "yes",
         "273.0",
         "1",
         "no"
        ],
        [
         "11",
         "43.0",
         "admin.",
         "married",
         "secondary",
         "264",
         "yes",
         "113.0",
         "2",
         "no"
        ],
        [
         "12",
         "36.0",
         "technician",
         "married",
         "tertiary",
         "1109",
         "no",
         "-328.0",
         "2",
         "no"
        ],
        [
         "13",
         "20.0",
         "student",
         "single",
         "secondary",
         "502",
         "no",
         "261.0",
         "1",
         "yes"
        ],
        [
         "14",
         "31.0",
         "blue-collar",
         "married",
         "secondary",
         "360",
         "yes",
         "89.0",
         "1",
         "no"
        ],
        [
         "15",
         "40.0",
         "management",
         "married",
         "tertiary",
         "194",
         "no",
         "189.0",
         "2",
         "no"
        ],
        [
         "16",
         "56.0",
         "technician",
         "married",
         "secondary",
         "4073",
         "no",
         "239.0",
         "5",
         "no"
        ],
        [
         "17",
         "37.0",
         "admin.",
         "single",
         "tertiary",
         "2317",
         "yes",
         "114.0",
         "1",
         "no"
        ],
        [
         "18",
         "25.0",
         "blue-collar",
         "single",
         "primary",
         "-221",
         null,
         "250.0",
         "1",
         "no"
        ],
        [
         "19",
         "31.0",
         "services",
         "married",
         "secondary",
         "132",
         "no",
         "148.0",
         "1",
         "no"
        ],
        [
         "20",
         "38.0",
         "management",
         "divorced",
         "unknown",
         "0",
         "yes",
         "-96.0",
         "2",
         "no"
        ],
        [
         "21",
         "42.0",
         "management",
         "divorced",
         "tertiary",
         "16",
         "no",
         "140.0",
         "3",
         "no"
        ],
        [
         "22",
         "44.0",
         "services",
         "single",
         "secondary",
         "106",
         "no",
         "109.0",
         "2",
         "no"
        ],
        [
         "23",
         "44.0",
         "entrepreneur",
         "married",
         "secondary",
         "93",
         "no",
         "125.0",
         "2",
         "no"
        ],
        [
         "24",
         "26.0",
         "housemaid",
         "married",
         "tertiary",
         "543",
         "no",
         "169.0",
         "3",
         "no"
        ],
        [
         "25",
         "41.0",
         "management",
         "married",
         "tertiary",
         "5883",
         "no",
         "182.0",
         "2",
         "no"
        ],
        [
         "26",
         "55.0",
         "blue-collar",
         "married",
         "primary",
         "627",
         "yes",
         "247.0",
         "1",
         "no"
        ],
        [
         "27",
         "67.0",
         "retired",
         "married",
         "unknown",
         "696",
         "no",
         "119.0",
         "1",
         "no"
        ],
        [
         "28",
         "56.0",
         "self-employed",
         "married",
         "secondary",
         "784",
         "no",
         "149.0",
         "2",
         "no"
        ],
        [
         "29",
         "53.0",
         "admin.",
         "married",
         "secondary",
         "105",
         "no",
         "74.0",
         "2",
         "no"
        ],
        [
         "30",
         "68.0",
         "retired",
         "divorced",
         "secondary",
         "4189",
         "no",
         "897.0",
         "2",
         "yes"
        ],
        [
         "31",
         "31.0",
         "technician",
         "married",
         "secondary",
         "171",
         "no",
         "81.0",
         "3",
         "no"
        ],
        [
         "32",
         "59.0",
         "management",
         "married",
         "secondary",
         "42",
         "no",
         "40.0",
         "1",
         "no"
        ],
        [
         "33",
         "32.0",
         "management",
         "single",
         "tertiary",
         "2536",
         "yes",
         "958.0",
         "6",
         "yes"
        ],
        [
         "34",
         "49.0",
         "technician",
         "married",
         "tertiary",
         "1235",
         "no",
         "354.0",
         "3",
         "yes"
        ],
        [
         "35",
         "42.0",
         "admin.",
         "divorced",
         "secondary",
         "1811",
         "yes",
         "150.0",
         "1",
         "no"
        ],
        [
         "36",
         "78.0",
         "retired",
         "divorced",
         "primary",
         "229",
         "no",
         "97.0",
         "1",
         "yes"
        ],
        [
         "37",
         "32.0",
         "blue-collar",
         "married",
         "secondary",
         "2089",
         "yes",
         "132.0",
         "1",
         "yes"
        ],
        [
         "38",
         "0.0",
         "management",
         "married",
         "secondary",
         "3935",
         "yes",
         "765.0",
         "1",
         "yes"
        ],
        [
         "39",
         "23.0",
         "services",
         "single",
         "tertiary",
         "363",
         "yes",
         "16.0",
         "18",
         "no"
        ],
        [
         "40",
         "38.0",
         "management",
         "single",
         "tertiary",
         "11971",
         "yes",
         "609.0",
         "2",
         "no"
        ],
        [
         "41",
         "36.0",
         "management",
         "single",
         "tertiary",
         "553",
         "no",
         "106.0",
         "2",
         "no"
        ],
        [
         "42",
         "52.0",
         "blue-collar",
         "married",
         "secondary",
         "1117",
         "yes",
         "365.0",
         "1",
         "no"
        ],
        [
         "43",
         "32.0",
         "technician",
         "married",
         "tertiary",
         "396",
         "yes",
         "205.0",
         "3",
         "no"
        ],
        [
         "44",
         "32.0",
         "technician",
         "single",
         "tertiary",
         "2204",
         "yes",
         "11.0",
         "4",
         "no"
        ],
        [
         "45",
         "34.0",
         "management",
         "single",
         "tertiary",
         "872",
         "yes",
         "105.0",
         "2",
         "no"
        ],
        [
         "46",
         "55.0",
         "blue-collar",
         "married",
         "primary",
         "145",
         "no",
         "59.0",
         "3",
         "no"
        ],
        [
         "47",
         "26.0",
         "blue-collar",
         "married",
         "primary",
         "0",
         "yes",
         "425.0",
         "1",
         "no"
        ],
        [
         "48",
         "32.0",
         "entrepreneur",
         "single",
         "primary",
         "-849",
         "yes",
         "204.0",
         "1",
         "no"
        ],
        [
         "49",
         null,
         "admin.",
         "married",
         "unknown",
         "4629",
         "yes",
         "181.0",
         "1",
         "yes"
        ]
       ],
       "shape": {
        "columns": 9,
        "rows": 4521
       }
      },
      "text/html": [
       "<div>\n",
       "<style scoped>\n",
       "    .dataframe tbody tr th:only-of-type {\n",
       "        vertical-align: middle;\n",
       "    }\n",
       "\n",
       "    .dataframe tbody tr th {\n",
       "        vertical-align: top;\n",
       "    }\n",
       "\n",
       "    .dataframe thead th {\n",
       "        text-align: right;\n",
       "    }\n",
       "</style>\n",
       "<table border=\"1\" class=\"dataframe\">\n",
       "  <thead>\n",
       "    <tr style=\"text-align: right;\">\n",
       "      <th></th>\n",
       "      <th>age</th>\n",
       "      <th>job</th>\n",
       "      <th>marital</th>\n",
       "      <th>education</th>\n",
       "      <th>balance</th>\n",
       "      <th>housing</th>\n",
       "      <th>duration</th>\n",
       "      <th>campaign</th>\n",
       "      <th>approval</th>\n",
       "    </tr>\n",
       "  </thead>\n",
       "  <tbody>\n",
       "    <tr>\n",
       "      <th>0</th>\n",
       "      <td>30.0</td>\n",
       "      <td>unemployed</td>\n",
       "      <td>married</td>\n",
       "      <td>primary</td>\n",
       "      <td>1787</td>\n",
       "      <td>no</td>\n",
       "      <td>79.0</td>\n",
       "      <td>1</td>\n",
       "      <td>no</td>\n",
       "    </tr>\n",
       "    <tr>\n",
       "      <th>1</th>\n",
       "      <td>33.0</td>\n",
       "      <td>services</td>\n",
       "      <td>married</td>\n",
       "      <td>secondary</td>\n",
       "      <td>4789</td>\n",
       "      <td>yes</td>\n",
       "      <td>220.0</td>\n",
       "      <td>1</td>\n",
       "      <td>no</td>\n",
       "    </tr>\n",
       "    <tr>\n",
       "      <th>2</th>\n",
       "      <td>35.0</td>\n",
       "      <td>management</td>\n",
       "      <td>single</td>\n",
       "      <td>tertiary</td>\n",
       "      <td>1350</td>\n",
       "      <td>yes</td>\n",
       "      <td>185.0</td>\n",
       "      <td>1</td>\n",
       "      <td>no</td>\n",
       "    </tr>\n",
       "    <tr>\n",
       "      <th>3</th>\n",
       "      <td>30.0</td>\n",
       "      <td>management</td>\n",
       "      <td>married</td>\n",
       "      <td>tertiary</td>\n",
       "      <td>1476</td>\n",
       "      <td>yes</td>\n",
       "      <td>199.0</td>\n",
       "      <td>4</td>\n",
       "      <td>no</td>\n",
       "    </tr>\n",
       "    <tr>\n",
       "      <th>4</th>\n",
       "      <td>59.0</td>\n",
       "      <td>blue-collar</td>\n",
       "      <td>married</td>\n",
       "      <td>secondary</td>\n",
       "      <td>0</td>\n",
       "      <td>yes</td>\n",
       "      <td>226.0</td>\n",
       "      <td>1</td>\n",
       "      <td>no</td>\n",
       "    </tr>\n",
       "    <tr>\n",
       "      <th>...</th>\n",
       "      <td>...</td>\n",
       "      <td>...</td>\n",
       "      <td>...</td>\n",
       "      <td>...</td>\n",
       "      <td>...</td>\n",
       "      <td>...</td>\n",
       "      <td>...</td>\n",
       "      <td>...</td>\n",
       "      <td>...</td>\n",
       "    </tr>\n",
       "    <tr>\n",
       "      <th>4516</th>\n",
       "      <td>99.0</td>\n",
       "      <td>services</td>\n",
       "      <td>married</td>\n",
       "      <td>secondary</td>\n",
       "      <td>-333</td>\n",
       "      <td>yes</td>\n",
       "      <td>329.0</td>\n",
       "      <td>5</td>\n",
       "      <td>no</td>\n",
       "    </tr>\n",
       "    <tr>\n",
       "      <th>4517</th>\n",
       "      <td>57.0</td>\n",
       "      <td>self-employed</td>\n",
       "      <td>married</td>\n",
       "      <td>tertiary</td>\n",
       "      <td>-3313</td>\n",
       "      <td>yes</td>\n",
       "      <td>-153.0</td>\n",
       "      <td>1</td>\n",
       "      <td>no</td>\n",
       "    </tr>\n",
       "    <tr>\n",
       "      <th>4518</th>\n",
       "      <td>57.0</td>\n",
       "      <td>technician</td>\n",
       "      <td>married</td>\n",
       "      <td>secondary</td>\n",
       "      <td>295</td>\n",
       "      <td>no</td>\n",
       "      <td>151.0</td>\n",
       "      <td>11</td>\n",
       "      <td>no</td>\n",
       "    </tr>\n",
       "    <tr>\n",
       "      <th>4519</th>\n",
       "      <td>28.0</td>\n",
       "      <td>blue-collar</td>\n",
       "      <td>married</td>\n",
       "      <td>secondary</td>\n",
       "      <td>1137</td>\n",
       "      <td>no</td>\n",
       "      <td>129.0</td>\n",
       "      <td>4</td>\n",
       "      <td>no</td>\n",
       "    </tr>\n",
       "    <tr>\n",
       "      <th>4520</th>\n",
       "      <td>44.0</td>\n",
       "      <td>entrepreneur</td>\n",
       "      <td>single</td>\n",
       "      <td>tertiary</td>\n",
       "      <td>1136</td>\n",
       "      <td>yes</td>\n",
       "      <td>345.0</td>\n",
       "      <td>2</td>\n",
       "      <td>no</td>\n",
       "    </tr>\n",
       "  </tbody>\n",
       "</table>\n",
       "<p>4521 rows × 9 columns</p>\n",
       "</div>"
      ],
      "text/plain": [
       "       age            job  marital  education  balance housing  duration  \\\n",
       "0     30.0     unemployed  married    primary     1787      no      79.0   \n",
       "1     33.0       services  married  secondary     4789     yes     220.0   \n",
       "2     35.0     management   single   tertiary     1350     yes     185.0   \n",
       "3     30.0     management  married   tertiary     1476     yes     199.0   \n",
       "4     59.0    blue-collar  married  secondary        0     yes     226.0   \n",
       "...    ...            ...      ...        ...      ...     ...       ...   \n",
       "4516  99.0       services  married  secondary     -333     yes     329.0   \n",
       "4517  57.0  self-employed  married   tertiary    -3313     yes    -153.0   \n",
       "4518  57.0     technician  married  secondary      295      no     151.0   \n",
       "4519  28.0    blue-collar  married  secondary     1137      no     129.0   \n",
       "4520  44.0   entrepreneur   single   tertiary     1136     yes     345.0   \n",
       "\n",
       "      campaign approval  \n",
       "0            1       no  \n",
       "1            1       no  \n",
       "2            1       no  \n",
       "3            4       no  \n",
       "4            1       no  \n",
       "...        ...      ...  \n",
       "4516         5       no  \n",
       "4517         1       no  \n",
       "4518        11       no  \n",
       "4519         4       no  \n",
       "4520         2       no  \n",
       "\n",
       "[4521 rows x 9 columns]"
      ]
     },
     "execution_count": 9,
     "metadata": {},
     "output_type": "execute_result"
    }
   ],
   "source": [
    "df"
   ]
  },
  {
   "cell_type": "code",
   "execution_count": 10,
   "id": "2a5fff79",
   "metadata": {},
   "outputs": [
    {
     "data": {
      "application/vnd.microsoft.datawrangler.viewer.v0+json": {
       "columns": [
        {
         "name": "index",
         "rawType": "int64",
         "type": "integer"
        },
        {
         "name": "age",
         "rawType": "float64",
         "type": "float"
        }
       ],
       "ref": "abe9ba9a-3c48-4db7-8617-f26ff04907bf",
       "rows": [
        [
         "0",
         "30.0"
        ],
        [
         "1",
         "33.0"
        ],
        [
         "2",
         "35.0"
        ],
        [
         "3",
         "30.0"
        ],
        [
         "4",
         "59.0"
        ],
        [
         "5",
         "35.0"
        ],
        [
         "6",
         "36.0"
        ],
        [
         "7",
         "39.0"
        ],
        [
         "8",
         "41.0"
        ],
        [
         "9",
         "43.0"
        ],
        [
         "10",
         "39.0"
        ],
        [
         "11",
         "43.0"
        ],
        [
         "12",
         "36.0"
        ],
        [
         "13",
         "20.0"
        ],
        [
         "14",
         "31.0"
        ],
        [
         "15",
         "40.0"
        ],
        [
         "16",
         "56.0"
        ],
        [
         "17",
         "37.0"
        ],
        [
         "18",
         "25.0"
        ],
        [
         "19",
         "31.0"
        ],
        [
         "20",
         "38.0"
        ],
        [
         "21",
         "42.0"
        ],
        [
         "22",
         "44.0"
        ],
        [
         "23",
         "44.0"
        ],
        [
         "24",
         "26.0"
        ],
        [
         "25",
         "41.0"
        ],
        [
         "26",
         "55.0"
        ],
        [
         "27",
         "67.0"
        ],
        [
         "28",
         "56.0"
        ],
        [
         "29",
         "53.0"
        ],
        [
         "30",
         "68.0"
        ],
        [
         "31",
         "31.0"
        ],
        [
         "32",
         "59.0"
        ],
        [
         "33",
         "32.0"
        ],
        [
         "34",
         "49.0"
        ],
        [
         "35",
         "42.0"
        ],
        [
         "36",
         "78.0"
        ],
        [
         "37",
         "32.0"
        ],
        [
         "38",
         "0.0"
        ],
        [
         "39",
         "23.0"
        ],
        [
         "40",
         "38.0"
        ],
        [
         "41",
         "36.0"
        ],
        [
         "42",
         "52.0"
        ],
        [
         "43",
         "32.0"
        ],
        [
         "44",
         "32.0"
        ],
        [
         "45",
         "34.0"
        ],
        [
         "46",
         "55.0"
        ],
        [
         "47",
         "26.0"
        ],
        [
         "48",
         "32.0"
        ],
        [
         "49",
         null
        ]
       ],
       "shape": {
        "columns": 1,
        "rows": 4521
       }
      },
      "text/plain": [
       "0       30.0\n",
       "1       33.0\n",
       "2       35.0\n",
       "3       30.0\n",
       "4       59.0\n",
       "        ... \n",
       "4516    99.0\n",
       "4517    57.0\n",
       "4518    57.0\n",
       "4519    28.0\n",
       "4520    44.0\n",
       "Name: age, Length: 4521, dtype: float64"
      ]
     },
     "execution_count": 10,
     "metadata": {},
     "output_type": "execute_result"
    }
   ],
   "source": [
    "df['age']"
   ]
  },
  {
   "cell_type": "code",
   "execution_count": 11,
   "id": "48022fc6",
   "metadata": {},
   "outputs": [
    {
     "data": {
      "application/vnd.microsoft.datawrangler.viewer.v0+json": {
       "columns": [
        {
         "name": "index",
         "rawType": "int64",
         "type": "integer"
        },
        {
         "name": "balance",
         "rawType": "int64",
         "type": "integer"
        }
       ],
       "ref": "e6833743-9277-4816-8e10-2de3a8d29e1d",
       "rows": [
        [
         "0",
         "1787"
        ],
        [
         "1",
         "4789"
        ],
        [
         "2",
         "1350"
        ],
        [
         "3",
         "1476"
        ],
        [
         "4",
         "0"
        ],
        [
         "5",
         "747"
        ],
        [
         "6",
         "307"
        ],
        [
         "7",
         "147"
        ],
        [
         "8",
         "221"
        ],
        [
         "9",
         "-88"
        ],
        [
         "10",
         "9374"
        ],
        [
         "11",
         "264"
        ],
        [
         "12",
         "1109"
        ],
        [
         "13",
         "502"
        ],
        [
         "14",
         "360"
        ],
        [
         "15",
         "194"
        ],
        [
         "16",
         "4073"
        ],
        [
         "17",
         "2317"
        ],
        [
         "18",
         "-221"
        ],
        [
         "19",
         "132"
        ],
        [
         "20",
         "0"
        ],
        [
         "21",
         "16"
        ],
        [
         "22",
         "106"
        ],
        [
         "23",
         "93"
        ],
        [
         "24",
         "543"
        ],
        [
         "25",
         "5883"
        ],
        [
         "26",
         "627"
        ],
        [
         "27",
         "696"
        ],
        [
         "28",
         "784"
        ],
        [
         "29",
         "105"
        ],
        [
         "30",
         "4189"
        ],
        [
         "31",
         "171"
        ],
        [
         "32",
         "42"
        ],
        [
         "33",
         "2536"
        ],
        [
         "34",
         "1235"
        ],
        [
         "35",
         "1811"
        ],
        [
         "36",
         "229"
        ],
        [
         "37",
         "2089"
        ],
        [
         "38",
         "3935"
        ],
        [
         "39",
         "363"
        ],
        [
         "40",
         "11971"
        ],
        [
         "41",
         "553"
        ],
        [
         "42",
         "1117"
        ],
        [
         "43",
         "396"
        ],
        [
         "44",
         "2204"
        ],
        [
         "45",
         "872"
        ],
        [
         "46",
         "145"
        ],
        [
         "47",
         "0"
        ],
        [
         "48",
         "-849"
        ],
        [
         "49",
         "4629"
        ]
       ],
       "shape": {
        "columns": 1,
        "rows": 4521
       }
      },
      "text/plain": [
       "0       1787\n",
       "1       4789\n",
       "2       1350\n",
       "3       1476\n",
       "4          0\n",
       "        ... \n",
       "4516    -333\n",
       "4517   -3313\n",
       "4518     295\n",
       "4519    1137\n",
       "4520    1136\n",
       "Name: balance, Length: 4521, dtype: int64"
      ]
     },
     "execution_count": 11,
     "metadata": {},
     "output_type": "execute_result"
    }
   ],
   "source": [
    "df['balance']"
   ]
  },
  {
   "cell_type": "code",
   "execution_count": 12,
   "id": "78d73d13",
   "metadata": {},
   "outputs": [
    {
     "data": {
      "text/plain": [
       "Index(['age', 'job', 'marital', 'education', 'balance', 'housing', 'duration',\n",
       "       'campaign', 'approval'],\n",
       "      dtype='object')"
      ]
     },
     "execution_count": 12,
     "metadata": {},
     "output_type": "execute_result"
    }
   ],
   "source": [
    "df.columns"
   ]
  },
  {
   "cell_type": "code",
   "execution_count": 13,
   "id": "d80baea6",
   "metadata": {},
   "outputs": [
    {
     "data": {
      "application/vnd.microsoft.datawrangler.viewer.v0+json": {
       "columns": [
        {
         "name": "index",
         "rawType": "int64",
         "type": "integer"
        },
        {
         "name": "education",
         "rawType": "object",
         "type": "unknown"
        }
       ],
       "ref": "d2758ff3-2f7a-48d5-bb67-2628a38fd4a0",
       "rows": [
        [
         "0",
         "primary"
        ],
        [
         "1",
         "secondary"
        ],
        [
         "2",
         "tertiary"
        ],
        [
         "3",
         "tertiary"
        ],
        [
         "4",
         "secondary"
        ],
        [
         "5",
         "tertiary"
        ],
        [
         "6",
         "tertiary"
        ],
        [
         "7",
         "secondary"
        ],
        [
         "8",
         "tertiary"
        ],
        [
         "9",
         "primary"
        ],
        [
         "10",
         "secondary"
        ],
        [
         "11",
         "secondary"
        ],
        [
         "12",
         "tertiary"
        ],
        [
         "13",
         "secondary"
        ],
        [
         "14",
         "secondary"
        ],
        [
         "15",
         "tertiary"
        ],
        [
         "16",
         "secondary"
        ],
        [
         "17",
         "tertiary"
        ],
        [
         "18",
         "primary"
        ],
        [
         "19",
         "secondary"
        ],
        [
         "20",
         "unknown"
        ],
        [
         "21",
         "tertiary"
        ],
        [
         "22",
         "secondary"
        ],
        [
         "23",
         "secondary"
        ],
        [
         "24",
         "tertiary"
        ],
        [
         "25",
         "tertiary"
        ],
        [
         "26",
         "primary"
        ],
        [
         "27",
         "unknown"
        ],
        [
         "28",
         "secondary"
        ],
        [
         "29",
         "secondary"
        ],
        [
         "30",
         "secondary"
        ],
        [
         "31",
         "secondary"
        ],
        [
         "32",
         "secondary"
        ],
        [
         "33",
         "tertiary"
        ],
        [
         "34",
         "tertiary"
        ],
        [
         "35",
         "secondary"
        ],
        [
         "36",
         "primary"
        ],
        [
         "37",
         "secondary"
        ],
        [
         "38",
         "secondary"
        ],
        [
         "39",
         "tertiary"
        ],
        [
         "40",
         "tertiary"
        ],
        [
         "41",
         "tertiary"
        ],
        [
         "42",
         "secondary"
        ],
        [
         "43",
         "tertiary"
        ],
        [
         "44",
         "tertiary"
        ],
        [
         "45",
         "tertiary"
        ],
        [
         "46",
         "primary"
        ],
        [
         "47",
         "primary"
        ],
        [
         "48",
         "primary"
        ],
        [
         "49",
         "unknown"
        ]
       ],
       "shape": {
        "columns": 1,
        "rows": 4521
       }
      },
      "text/plain": [
       "0         primary\n",
       "1       secondary\n",
       "2        tertiary\n",
       "3        tertiary\n",
       "4       secondary\n",
       "          ...    \n",
       "4516    secondary\n",
       "4517     tertiary\n",
       "4518    secondary\n",
       "4519    secondary\n",
       "4520     tertiary\n",
       "Name: education, Length: 4521, dtype: object"
      ]
     },
     "execution_count": 13,
     "metadata": {},
     "output_type": "execute_result"
    }
   ],
   "source": [
    "df.education"
   ]
  },
  {
   "cell_type": "code",
   "execution_count": 14,
   "id": "ff770091",
   "metadata": {},
   "outputs": [
    {
     "data": {
      "application/vnd.microsoft.datawrangler.viewer.v0+json": {
       "columns": [
        {
         "name": "index",
         "rawType": "int64",
         "type": "integer"
        },
        {
         "name": "housing",
         "rawType": "object",
         "type": "unknown"
        }
       ],
       "ref": "be56ba44-ba10-4a72-a792-e849c3ef275a",
       "rows": [
        [
         "0",
         "no"
        ],
        [
         "1",
         "yes"
        ],
        [
         "2",
         "yes"
        ],
        [
         "3",
         "yes"
        ],
        [
         "4",
         "yes"
        ],
        [
         "5",
         "no"
        ],
        [
         "6",
         "yes"
        ],
        [
         "7",
         "yes"
        ],
        [
         "8",
         "yes"
        ],
        [
         "9",
         "yes"
        ],
        [
         "10",
         "yes"
        ],
        [
         "11",
         "yes"
        ],
        [
         "12",
         "no"
        ],
        [
         "13",
         "no"
        ],
        [
         "14",
         "yes"
        ],
        [
         "15",
         "no"
        ],
        [
         "16",
         "no"
        ],
        [
         "17",
         "yes"
        ],
        [
         "18",
         null
        ],
        [
         "19",
         "no"
        ],
        [
         "20",
         "yes"
        ],
        [
         "21",
         "no"
        ],
        [
         "22",
         "no"
        ],
        [
         "23",
         "no"
        ],
        [
         "24",
         "no"
        ],
        [
         "25",
         "no"
        ],
        [
         "26",
         "yes"
        ],
        [
         "27",
         "no"
        ],
        [
         "28",
         "no"
        ],
        [
         "29",
         "no"
        ],
        [
         "30",
         "no"
        ],
        [
         "31",
         "no"
        ],
        [
         "32",
         "no"
        ],
        [
         "33",
         "yes"
        ],
        [
         "34",
         "no"
        ],
        [
         "35",
         "yes"
        ],
        [
         "36",
         "no"
        ],
        [
         "37",
         "yes"
        ],
        [
         "38",
         "yes"
        ],
        [
         "39",
         "yes"
        ],
        [
         "40",
         "yes"
        ],
        [
         "41",
         "no"
        ],
        [
         "42",
         "yes"
        ],
        [
         "43",
         "yes"
        ],
        [
         "44",
         "yes"
        ],
        [
         "45",
         "yes"
        ],
        [
         "46",
         "no"
        ],
        [
         "47",
         "yes"
        ],
        [
         "48",
         "yes"
        ],
        [
         "49",
         "yes"
        ]
       ],
       "shape": {
        "columns": 1,
        "rows": 4521
       }
      },
      "text/plain": [
       "0        no\n",
       "1       yes\n",
       "2       yes\n",
       "3       yes\n",
       "4       yes\n",
       "       ... \n",
       "4516    yes\n",
       "4517    yes\n",
       "4518     no\n",
       "4519     no\n",
       "4520    yes\n",
       "Name: housing, Length: 4521, dtype: object"
      ]
     },
     "execution_count": 14,
     "metadata": {},
     "output_type": "execute_result"
    }
   ],
   "source": [
    "df.housing"
   ]
  },
  {
   "cell_type": "code",
   "execution_count": 15,
   "id": "16948626",
   "metadata": {},
   "outputs": [
    {
     "data": {
      "application/vnd.microsoft.datawrangler.viewer.v0+json": {
       "columns": [
        {
         "name": "age",
         "rawType": "float64",
         "type": "float"
        },
        {
         "name": "count",
         "rawType": "int64",
         "type": "integer"
        }
       ],
       "ref": "c73fd2a6-d988-46ed-b1f6-3592e70ba77c",
       "rows": [
        [
         "34.0",
         "231"
        ],
        [
         "32.0",
         "224"
        ],
        [
         "31.0",
         "199"
        ],
        [
         "36.0",
         "188"
        ],
        [
         "33.0",
         "184"
        ],
        [
         "35.0",
         "180"
        ],
        [
         "37.0",
         "161"
        ],
        [
         "38.0",
         "157"
        ],
        [
         "30.0",
         "150"
        ],
        [
         "40.0",
         "142"
        ],
        [
         "42.0",
         "140"
        ],
        [
         "41.0",
         "134"
        ],
        [
         "39.0",
         "130"
        ],
        [
         "46.0",
         "119"
        ],
        [
         "43.0",
         "115"
        ],
        [
         "48.0",
         "114"
        ],
        [
         "45.0",
         "112"
        ],
        [
         "49.0",
         "112"
        ],
        [
         "47.0",
         "108"
        ],
        [
         "44.0",
         "105"
        ],
        [
         "28.0",
         "102"
        ],
        [
         "50.0",
         "101"
        ],
        [
         "29.0",
         "97"
        ],
        [
         "27.0",
         "94"
        ],
        [
         "53.0",
         "94"
        ],
        [
         "57.0",
         "91"
        ],
        [
         "51.0",
         "91"
        ],
        [
         "55.0",
         "90"
        ],
        [
         "52.0",
         "85"
        ],
        [
         "58.0",
         "85"
        ],
        [
         "26.0",
         "77"
        ],
        [
         "56.0",
         "74"
        ],
        [
         "54.0",
         "71"
        ],
        [
         "59.0",
         "71"
        ],
        [
         "60.0",
         "47"
        ],
        [
         "25.0",
         "44"
        ],
        [
         "24.0",
         "24"
        ],
        [
         "23.0",
         "20"
        ],
        [
         "61.0",
         "15"
        ],
        [
         "22.0",
         "9"
        ],
        [
         "66.0",
         "9"
        ],
        [
         "63.0",
         "8"
        ],
        [
         "21.0",
         "7"
        ],
        [
         "64.0",
         "7"
        ],
        [
         "70.0",
         "7"
        ],
        [
         "62.0",
         "7"
        ],
        [
         "80.0",
         "6"
        ],
        [
         "65.0",
         "6"
        ],
        [
         "77.0",
         "6"
        ],
        [
         "75.0",
         "6"
        ]
       ],
       "shape": {
        "columns": 1,
        "rows": 74
       }
      },
      "text/plain": [
       "age\n",
       "34.0     231\n",
       "32.0     224\n",
       "31.0     199\n",
       "36.0     188\n",
       "33.0     184\n",
       "        ... \n",
       "13.0       1\n",
       "84.0       1\n",
       "416.0      1\n",
       "410.0      1\n",
       "99.0       1\n",
       "Name: count, Length: 74, dtype: int64"
      ]
     },
     "execution_count": 15,
     "metadata": {},
     "output_type": "execute_result"
    }
   ],
   "source": [
    "df['age'].value_counts()"
   ]
  },
  {
   "cell_type": "code",
   "execution_count": 16,
   "id": "6932001b",
   "metadata": {},
   "outputs": [
    {
     "data": {
      "application/vnd.microsoft.datawrangler.viewer.v0+json": {
       "columns": [
        {
         "name": "balance",
         "rawType": "int64",
         "type": "integer"
        },
        {
         "name": "count",
         "rawType": "int64",
         "type": "integer"
        }
       ],
       "ref": "5b4a2209-7fc7-4772-b2ce-ccea947ebcbd",
       "rows": [
        [
         "0",
         "357"
        ],
        [
         "2",
         "24"
        ],
        [
         "1",
         "15"
        ],
        [
         "4",
         "13"
        ],
        [
         "23",
         "11"
        ],
        [
         "5",
         "11"
        ],
        [
         "179",
         "10"
        ],
        [
         "14",
         "10"
        ],
        [
         "35",
         "10"
        ],
        [
         "6",
         "10"
        ],
        [
         "8",
         "9"
        ],
        [
         "25",
         "9"
        ],
        [
         "174",
         "9"
        ],
        [
         "50",
         "9"
        ],
        [
         "92",
         "9"
        ],
        [
         "61",
         "9"
        ],
        [
         "60",
         "9"
        ],
        [
         "137",
         "9"
        ],
        [
         "168",
         "8"
        ],
        [
         "260",
         "8"
        ],
        [
         "171",
         "8"
        ],
        [
         "16",
         "8"
        ],
        [
         "3",
         "8"
        ],
        [
         "79",
         "7"
        ],
        [
         "225",
         "7"
        ],
        [
         "64",
         "7"
        ],
        [
         "15",
         "7"
        ],
        [
         "428",
         "7"
        ],
        [
         "13",
         "7"
        ],
        [
         "47",
         "7"
        ],
        [
         "33",
         "7"
        ],
        [
         "209",
         "7"
        ],
        [
         "9",
         "7"
        ],
        [
         "20",
         "7"
        ],
        [
         "37",
         "7"
        ],
        [
         "473",
         "7"
        ],
        [
         "10",
         "7"
        ],
        [
         "189",
         "6"
        ],
        [
         "96",
         "6"
        ],
        [
         "197",
         "6"
        ],
        [
         "100",
         "6"
        ],
        [
         "55",
         "6"
        ],
        [
         "102",
         "6"
        ],
        [
         "238",
         "6"
        ],
        [
         "340",
         "6"
        ],
        [
         "109",
         "6"
        ],
        [
         "133",
         "6"
        ],
        [
         "228",
         "6"
        ],
        [
         "22",
         "6"
        ],
        [
         "415",
         "6"
        ]
       ],
       "shape": {
        "columns": 1,
        "rows": 2353
       }
      },
      "text/plain": [
       "balance\n",
       "0       357\n",
       "2        24\n",
       "1        15\n",
       "4        13\n",
       "23       11\n",
       "       ... \n",
       "5304      1\n",
       "6969      1\n",
       "572       1\n",
       "164       1\n",
       "4554      1\n",
       "Name: count, Length: 2353, dtype: int64"
      ]
     },
     "execution_count": 16,
     "metadata": {},
     "output_type": "execute_result"
    }
   ],
   "source": [
    "df['balance'].value_counts()"
   ]
  },
  {
   "cell_type": "code",
   "execution_count": 17,
   "id": "cda5d928",
   "metadata": {},
   "outputs": [
    {
     "data": {
      "text/plain": [
       "array([ 30.,  33.,  35.,  59.,  36.,  39.,  41.,  43.,  20.,  31.,  40.,\n",
       "        56.,  37.,  25.,  38.,  42.,  44.,  26.,  55.,  67.,  53.,  68.,\n",
       "        32.,  49.,  78.,   0.,  23.,  52.,  34.,  nan,  45.,  48.,  57.,\n",
       "        54.,  63.,  51.,  29.,  50.,  27.,  60.,  28.,  21.,  58.,  22.,\n",
       "        46.,  24.,  77.,  75.,  47.,  70.,  65.,  64.,  62.,  66.,  61.,\n",
       "        19.,  81.,  83.,  80.,  71.,  72.,  69.,  79.,  73., -38.,  86.,\n",
       "        74., 338.,  76.,  87.,  13.,  84., 416., 410.,  99.])"
      ]
     },
     "execution_count": 17,
     "metadata": {},
     "output_type": "execute_result"
    }
   ],
   "source": [
    "df['age'].unique()"
   ]
  },
  {
   "cell_type": "code",
   "execution_count": 18,
   "id": "0d1a9bed",
   "metadata": {},
   "outputs": [
    {
     "data": {
      "text/plain": [
       "74"
      ]
     },
     "execution_count": 18,
     "metadata": {},
     "output_type": "execute_result"
    }
   ],
   "source": [
    "df['age'].nunique()"
   ]
  },
  {
   "cell_type": "code",
   "execution_count": 19,
   "id": "0f46f7d3",
   "metadata": {},
   "outputs": [
    {
     "data": {
      "text/plain": [
       "(4521, 9)"
      ]
     },
     "execution_count": 19,
     "metadata": {},
     "output_type": "execute_result"
    }
   ],
   "source": [
    "df.shape"
   ]
  },
  {
   "cell_type": "code",
   "execution_count": 20,
   "id": "40e4c25d",
   "metadata": {},
   "outputs": [
    {
     "data": {
      "application/vnd.microsoft.datawrangler.viewer.v0+json": {
       "columns": [
        {
         "name": "index",
         "rawType": "object",
         "type": "string"
        },
        {
         "name": "0",
         "rawType": "object",
         "type": "unknown"
        }
       ],
       "ref": "0e6423fe-0471-4fbf-9a1e-59350b5abe9c",
       "rows": [
        [
         "age",
         "float64"
        ],
        [
         "job",
         "object"
        ],
        [
         "marital",
         "object"
        ],
        [
         "education",
         "object"
        ],
        [
         "balance",
         "int64"
        ],
        [
         "housing",
         "object"
        ],
        [
         "duration",
         "float64"
        ],
        [
         "campaign",
         "int64"
        ],
        [
         "approval",
         "object"
        ]
       ],
       "shape": {
        "columns": 1,
        "rows": 9
       }
      },
      "text/plain": [
       "age          float64\n",
       "job           object\n",
       "marital       object\n",
       "education     object\n",
       "balance        int64\n",
       "housing       object\n",
       "duration     float64\n",
       "campaign       int64\n",
       "approval      object\n",
       "dtype: object"
      ]
     },
     "execution_count": 20,
     "metadata": {},
     "output_type": "execute_result"
    }
   ],
   "source": [
    "df.dtypes"
   ]
  },
  {
   "cell_type": "code",
   "execution_count": 21,
   "id": "036e7a60",
   "metadata": {},
   "outputs": [],
   "source": [
    "marital_df =df[df['balance'] == 'marital']"
   ]
  },
  {
   "cell_type": "code",
   "execution_count": 22,
   "id": "dc81cc96",
   "metadata": {},
   "outputs": [],
   "source": [
    "marital_df =df[df['education'] == 'secondary']"
   ]
  },
  {
   "cell_type": "code",
   "execution_count": 23,
   "id": "5587df49",
   "metadata": {},
   "outputs": [
    {
     "data": {
      "application/vnd.microsoft.datawrangler.viewer.v0+json": {
       "columns": [
        {
         "name": "index",
         "rawType": "int64",
         "type": "integer"
        },
        {
         "name": "age",
         "rawType": "float64",
         "type": "float"
        },
        {
         "name": "job",
         "rawType": "object",
         "type": "unknown"
        },
        {
         "name": "marital",
         "rawType": "object",
         "type": "unknown"
        },
        {
         "name": "education",
         "rawType": "object",
         "type": "string"
        },
        {
         "name": "balance",
         "rawType": "int64",
         "type": "integer"
        },
        {
         "name": "housing",
         "rawType": "object",
         "type": "unknown"
        },
        {
         "name": "duration",
         "rawType": "float64",
         "type": "float"
        },
        {
         "name": "campaign",
         "rawType": "int64",
         "type": "integer"
        },
        {
         "name": "approval",
         "rawType": "object",
         "type": "string"
        }
       ],
       "ref": "7b676368-41d4-4e3e-a0b6-563bf5cbf1b2",
       "rows": [
        [
         "1",
         "33.0",
         "services",
         "married",
         "secondary",
         "4789",
         "yes",
         "220.0",
         "1",
         "no"
        ],
        [
         "4",
         "59.0",
         "blue-collar",
         "married",
         "secondary",
         "0",
         "yes",
         "226.0",
         "1",
         "no"
        ],
        [
         "7",
         "39.0",
         "technician",
         "married",
         "secondary",
         "147",
         "yes",
         "151.0",
         "2",
         "no"
        ],
        [
         "10",
         "39.0",
         "services",
         "married",
         "secondary",
         "9374",
         "yes",
         "273.0",
         "1",
         "no"
        ],
        [
         "11",
         "43.0",
         "admin.",
         "married",
         "secondary",
         "264",
         "yes",
         "113.0",
         "2",
         "no"
        ],
        [
         "13",
         "20.0",
         "student",
         "single",
         "secondary",
         "502",
         "no",
         "261.0",
         "1",
         "yes"
        ],
        [
         "14",
         "31.0",
         "blue-collar",
         "married",
         "secondary",
         "360",
         "yes",
         "89.0",
         "1",
         "no"
        ],
        [
         "16",
         "56.0",
         "technician",
         "married",
         "secondary",
         "4073",
         "no",
         "239.0",
         "5",
         "no"
        ],
        [
         "19",
         "31.0",
         "services",
         "married",
         "secondary",
         "132",
         "no",
         "148.0",
         "1",
         "no"
        ],
        [
         "22",
         "44.0",
         "services",
         "single",
         "secondary",
         "106",
         "no",
         "109.0",
         "2",
         "no"
        ],
        [
         "23",
         "44.0",
         "entrepreneur",
         "married",
         "secondary",
         "93",
         "no",
         "125.0",
         "2",
         "no"
        ],
        [
         "28",
         "56.0",
         "self-employed",
         "married",
         "secondary",
         "784",
         "no",
         "149.0",
         "2",
         "no"
        ],
        [
         "29",
         "53.0",
         "admin.",
         "married",
         "secondary",
         "105",
         "no",
         "74.0",
         "2",
         "no"
        ],
        [
         "30",
         "68.0",
         "retired",
         "divorced",
         "secondary",
         "4189",
         "no",
         "897.0",
         "2",
         "yes"
        ],
        [
         "31",
         "31.0",
         "technician",
         "married",
         "secondary",
         "171",
         "no",
         "81.0",
         "3",
         "no"
        ],
        [
         "32",
         "59.0",
         "management",
         "married",
         "secondary",
         "42",
         "no",
         "40.0",
         "1",
         "no"
        ],
        [
         "35",
         "42.0",
         "admin.",
         "divorced",
         "secondary",
         "1811",
         "yes",
         "150.0",
         "1",
         "no"
        ],
        [
         "37",
         "32.0",
         "blue-collar",
         "married",
         "secondary",
         "2089",
         "yes",
         "132.0",
         "1",
         "yes"
        ],
        [
         "38",
         "0.0",
         "management",
         "married",
         "secondary",
         "3935",
         "yes",
         "765.0",
         "1",
         "yes"
        ],
        [
         "42",
         "52.0",
         "blue-collar",
         "married",
         "secondary",
         "1117",
         "yes",
         "365.0",
         "1",
         "no"
        ],
        [
         "51",
         "37.0",
         "technician",
         "single",
         "secondary",
         "228",
         "yes",
         "1740.0",
         "2",
         "no"
        ],
        [
         "52",
         "38.0",
         "technician",
         "single",
         "secondary",
         "50",
         "no",
         "98.0",
         "2",
         "no"
        ],
        [
         "54",
         "53.0",
         "blue-collar",
         "married",
         "secondary",
         "2231",
         "yes",
         "272.0",
         "3",
         "no"
        ],
        [
         "55",
         "48.0",
         "admin.",
         "married",
         "secondary",
         "3064",
         "yes",
         "159.0",
         "2",
         "no"
        ],
        [
         "56",
         "57.0",
         "management",
         "married",
         "secondary",
         "82",
         "no",
         "140.0",
         "1",
         "no"
        ],
        [
         "58",
         "36.0",
         "retired",
         "single",
         "secondary",
         "101",
         "yes",
         "314.0",
         "1",
         "no"
        ],
        [
         "59",
         "54.0",
         "technician",
         "divorced",
         "secondary",
         "784",
         null,
         "579.0",
         "1",
         "no"
        ],
        [
         "61",
         "63.0",
         "retired",
         "married",
         "secondary",
         "415",
         "yes",
         "323.0",
         "1",
         "no"
        ],
        [
         "63",
         "48.0",
         "services",
         "married",
         "secondary",
         "1355",
         "no",
         "134.0",
         "2",
         "no"
        ],
        [
         "64",
         "56.0",
         "admin.",
         "married",
         "secondary",
         "16873",
         "no",
         "223.0",
         "1",
         "no"
        ],
        [
         "65",
         "51.0",
         "blue-collar",
         "divorced",
         "secondary",
         "203",
         "yes",
         "134.0",
         "1",
         "no"
        ],
        [
         "66",
         "31.0",
         "services",
         "married",
         "secondary",
         "338",
         "yes",
         "155.0",
         "1",
         "no"
        ],
        [
         "67",
         "29.0",
         "technician",
         "married",
         "secondary",
         "444",
         "yes",
         "130.0",
         "4",
         "no"
        ],
        [
         "68",
         "41.0",
         "management",
         "married",
         "secondary",
         "0",
         "no",
         "630.0",
         "3",
         "no"
        ],
        [
         "74",
         "56.0",
         "retired",
         "married",
         "secondary",
         "344",
         "yes",
         "221.0",
         "1",
         "no"
        ],
        [
         "76",
         "41.0",
         "blue-collar",
         "divorced",
         "secondary",
         "174",
         "yes",
         "367.0",
         "2",
         "no"
        ],
        [
         "77",
         "40.0",
         "technician",
         "single",
         "secondary",
         "591",
         "no",
         "87.0",
         "6",
         "no"
        ],
        [
         "79",
         "40.0",
         "unemployed",
         "married",
         "secondary",
         "219",
         "yes",
         "204.0",
         "2",
         "no"
        ],
        [
         "80",
         "27.0",
         "admin.",
         "divorced",
         "secondary",
         "451",
         "yes",
         "652.0",
         "1",
         "yes"
        ],
        [
         "82",
         "28.0",
         "admin.",
         "single",
         "secondary",
         "177",
         "yes",
         "150.0",
         "1",
         "no"
        ],
        [
         "83",
         "52.0",
         "services",
         "married",
         "secondary",
         "657",
         "no",
         "398.0",
         "2",
         "yes"
        ],
        [
         "86",
         "41.0",
         "technician",
         "single",
         "secondary",
         "879",
         "no",
         "60.0",
         "4",
         "no"
        ],
        [
         "88",
         "38.0",
         "admin.",
         "married",
         "secondary",
         "424",
         "yes",
         "279.0",
         "1",
         "no"
        ],
        [
         "89",
         "34.0",
         "blue-collar",
         "married",
         "secondary",
         "1831",
         "yes",
         "203.0",
         "2",
         "no"
        ],
        [
         "92",
         "27.0",
         "services",
         "single",
         "secondary",
         "-195",
         "yes",
         "391.0",
         "1",
         "yes"
        ],
        [
         "94",
         "57.0",
         "blue-collar",
         "married",
         "secondary",
         "14093",
         "no",
         "231.0",
         "5",
         "no"
        ],
        [
         "98",
         "36.0",
         "blue-collar",
         "divorced",
         "secondary",
         "2843",
         "no",
         "473.0",
         "1",
         "no"
        ],
        [
         "100",
         "36.0",
         "blue-collar",
         "married",
         "secondary",
         "0",
         "yes",
         "337.0",
         "1",
         "no"
        ],
        [
         "102",
         "49.0",
         "technician",
         "married",
         "secondary",
         "5996",
         "no",
         "345.0",
         "2",
         "no"
        ],
        [
         "104",
         "34.0",
         "management",
         "single",
         "secondary",
         "524",
         "no",
         "9.0",
         "1",
         "no"
        ]
       ],
       "shape": {
        "columns": 9,
        "rows": 2305
       }
      },
      "text/html": [
       "<div>\n",
       "<style scoped>\n",
       "    .dataframe tbody tr th:only-of-type {\n",
       "        vertical-align: middle;\n",
       "    }\n",
       "\n",
       "    .dataframe tbody tr th {\n",
       "        vertical-align: top;\n",
       "    }\n",
       "\n",
       "    .dataframe thead th {\n",
       "        text-align: right;\n",
       "    }\n",
       "</style>\n",
       "<table border=\"1\" class=\"dataframe\">\n",
       "  <thead>\n",
       "    <tr style=\"text-align: right;\">\n",
       "      <th></th>\n",
       "      <th>age</th>\n",
       "      <th>job</th>\n",
       "      <th>marital</th>\n",
       "      <th>education</th>\n",
       "      <th>balance</th>\n",
       "      <th>housing</th>\n",
       "      <th>duration</th>\n",
       "      <th>campaign</th>\n",
       "      <th>approval</th>\n",
       "    </tr>\n",
       "  </thead>\n",
       "  <tbody>\n",
       "    <tr>\n",
       "      <th>1</th>\n",
       "      <td>33.0</td>\n",
       "      <td>services</td>\n",
       "      <td>married</td>\n",
       "      <td>secondary</td>\n",
       "      <td>4789</td>\n",
       "      <td>yes</td>\n",
       "      <td>220.0</td>\n",
       "      <td>1</td>\n",
       "      <td>no</td>\n",
       "    </tr>\n",
       "    <tr>\n",
       "      <th>4</th>\n",
       "      <td>59.0</td>\n",
       "      <td>blue-collar</td>\n",
       "      <td>married</td>\n",
       "      <td>secondary</td>\n",
       "      <td>0</td>\n",
       "      <td>yes</td>\n",
       "      <td>226.0</td>\n",
       "      <td>1</td>\n",
       "      <td>no</td>\n",
       "    </tr>\n",
       "    <tr>\n",
       "      <th>7</th>\n",
       "      <td>39.0</td>\n",
       "      <td>technician</td>\n",
       "      <td>married</td>\n",
       "      <td>secondary</td>\n",
       "      <td>147</td>\n",
       "      <td>yes</td>\n",
       "      <td>151.0</td>\n",
       "      <td>2</td>\n",
       "      <td>no</td>\n",
       "    </tr>\n",
       "    <tr>\n",
       "      <th>10</th>\n",
       "      <td>39.0</td>\n",
       "      <td>services</td>\n",
       "      <td>married</td>\n",
       "      <td>secondary</td>\n",
       "      <td>9374</td>\n",
       "      <td>yes</td>\n",
       "      <td>273.0</td>\n",
       "      <td>1</td>\n",
       "      <td>no</td>\n",
       "    </tr>\n",
       "    <tr>\n",
       "      <th>11</th>\n",
       "      <td>43.0</td>\n",
       "      <td>admin.</td>\n",
       "      <td>married</td>\n",
       "      <td>secondary</td>\n",
       "      <td>264</td>\n",
       "      <td>yes</td>\n",
       "      <td>113.0</td>\n",
       "      <td>2</td>\n",
       "      <td>no</td>\n",
       "    </tr>\n",
       "    <tr>\n",
       "      <th>...</th>\n",
       "      <td>...</td>\n",
       "      <td>...</td>\n",
       "      <td>...</td>\n",
       "      <td>...</td>\n",
       "      <td>...</td>\n",
       "      <td>...</td>\n",
       "      <td>...</td>\n",
       "      <td>...</td>\n",
       "      <td>...</td>\n",
       "    </tr>\n",
       "    <tr>\n",
       "      <th>4514</th>\n",
       "      <td>38.0</td>\n",
       "      <td>blue-collar</td>\n",
       "      <td>married</td>\n",
       "      <td>secondary</td>\n",
       "      <td>1205</td>\n",
       "      <td>yes</td>\n",
       "      <td>45.0</td>\n",
       "      <td>4</td>\n",
       "      <td>no</td>\n",
       "    </tr>\n",
       "    <tr>\n",
       "      <th>4515</th>\n",
       "      <td>32.0</td>\n",
       "      <td>services</td>\n",
       "      <td>single</td>\n",
       "      <td>secondary</td>\n",
       "      <td>473</td>\n",
       "      <td>yes</td>\n",
       "      <td>624.0</td>\n",
       "      <td>5</td>\n",
       "      <td>no</td>\n",
       "    </tr>\n",
       "    <tr>\n",
       "      <th>4516</th>\n",
       "      <td>99.0</td>\n",
       "      <td>services</td>\n",
       "      <td>married</td>\n",
       "      <td>secondary</td>\n",
       "      <td>-333</td>\n",
       "      <td>yes</td>\n",
       "      <td>329.0</td>\n",
       "      <td>5</td>\n",
       "      <td>no</td>\n",
       "    </tr>\n",
       "    <tr>\n",
       "      <th>4518</th>\n",
       "      <td>57.0</td>\n",
       "      <td>technician</td>\n",
       "      <td>married</td>\n",
       "      <td>secondary</td>\n",
       "      <td>295</td>\n",
       "      <td>no</td>\n",
       "      <td>151.0</td>\n",
       "      <td>11</td>\n",
       "      <td>no</td>\n",
       "    </tr>\n",
       "    <tr>\n",
       "      <th>4519</th>\n",
       "      <td>28.0</td>\n",
       "      <td>blue-collar</td>\n",
       "      <td>married</td>\n",
       "      <td>secondary</td>\n",
       "      <td>1137</td>\n",
       "      <td>no</td>\n",
       "      <td>129.0</td>\n",
       "      <td>4</td>\n",
       "      <td>no</td>\n",
       "    </tr>\n",
       "  </tbody>\n",
       "</table>\n",
       "<p>2305 rows × 9 columns</p>\n",
       "</div>"
      ],
      "text/plain": [
       "       age          job  marital  education  balance housing  duration  \\\n",
       "1     33.0     services  married  secondary     4789     yes     220.0   \n",
       "4     59.0  blue-collar  married  secondary        0     yes     226.0   \n",
       "7     39.0   technician  married  secondary      147     yes     151.0   \n",
       "10    39.0     services  married  secondary     9374     yes     273.0   \n",
       "11    43.0       admin.  married  secondary      264     yes     113.0   \n",
       "...    ...          ...      ...        ...      ...     ...       ...   \n",
       "4514  38.0  blue-collar  married  secondary     1205     yes      45.0   \n",
       "4515  32.0     services   single  secondary      473     yes     624.0   \n",
       "4516  99.0     services  married  secondary     -333     yes     329.0   \n",
       "4518  57.0   technician  married  secondary      295      no     151.0   \n",
       "4519  28.0  blue-collar  married  secondary     1137      no     129.0   \n",
       "\n",
       "      campaign approval  \n",
       "1            1       no  \n",
       "4            1       no  \n",
       "7            2       no  \n",
       "10           1       no  \n",
       "11           2       no  \n",
       "...        ...      ...  \n",
       "4514         4       no  \n",
       "4515         5       no  \n",
       "4516         5       no  \n",
       "4518        11       no  \n",
       "4519         4       no  \n",
       "\n",
       "[2305 rows x 9 columns]"
      ]
     },
     "execution_count": 23,
     "metadata": {},
     "output_type": "execute_result"
    }
   ],
   "source": [
    "marital_df"
   ]
  },
  {
   "cell_type": "code",
   "execution_count": 24,
   "id": "d3883aa8",
   "metadata": {},
   "outputs": [
    {
     "data": {
      "application/vnd.microsoft.datawrangler.viewer.v0+json": {
       "columns": [
        {
         "name": "index",
         "rawType": "int64",
         "type": "integer"
        },
        {
         "name": "age",
         "rawType": "float64",
         "type": "float"
        },
        {
         "name": "job",
         "rawType": "object",
         "type": "string"
        },
        {
         "name": "marital",
         "rawType": "object",
         "type": "string"
        },
        {
         "name": "education",
         "rawType": "object",
         "type": "string"
        },
        {
         "name": "balance",
         "rawType": "int64",
         "type": "integer"
        },
        {
         "name": "housing",
         "rawType": "object",
         "type": "string"
        },
        {
         "name": "duration",
         "rawType": "float64",
         "type": "float"
        },
        {
         "name": "campaign",
         "rawType": "int64",
         "type": "integer"
        },
        {
         "name": "approval",
         "rawType": "object",
         "type": "string"
        }
       ],
       "ref": "7c802267-8fe0-43f3-991a-55d2cff0e1ed",
       "rows": [
        [
         "38",
         "0.0",
         "management",
         "married",
         "secondary",
         "3935",
         "yes",
         "765.0",
         "1",
         "yes"
        ],
        [
         "3809",
         "13.0",
         "blue-collar",
         "married",
         "secondary",
         "161",
         "yes",
         "274.0",
         "2",
         "no"
        ]
       ],
       "shape": {
        "columns": 9,
        "rows": 2
       }
      },
      "text/html": [
       "<div>\n",
       "<style scoped>\n",
       "    .dataframe tbody tr th:only-of-type {\n",
       "        vertical-align: middle;\n",
       "    }\n",
       "\n",
       "    .dataframe tbody tr th {\n",
       "        vertical-align: top;\n",
       "    }\n",
       "\n",
       "    .dataframe thead th {\n",
       "        text-align: right;\n",
       "    }\n",
       "</style>\n",
       "<table border=\"1\" class=\"dataframe\">\n",
       "  <thead>\n",
       "    <tr style=\"text-align: right;\">\n",
       "      <th></th>\n",
       "      <th>age</th>\n",
       "      <th>job</th>\n",
       "      <th>marital</th>\n",
       "      <th>education</th>\n",
       "      <th>balance</th>\n",
       "      <th>housing</th>\n",
       "      <th>duration</th>\n",
       "      <th>campaign</th>\n",
       "      <th>approval</th>\n",
       "    </tr>\n",
       "  </thead>\n",
       "  <tbody>\n",
       "    <tr>\n",
       "      <th>38</th>\n",
       "      <td>0.0</td>\n",
       "      <td>management</td>\n",
       "      <td>married</td>\n",
       "      <td>secondary</td>\n",
       "      <td>3935</td>\n",
       "      <td>yes</td>\n",
       "      <td>765.0</td>\n",
       "      <td>1</td>\n",
       "      <td>yes</td>\n",
       "    </tr>\n",
       "    <tr>\n",
       "      <th>3809</th>\n",
       "      <td>13.0</td>\n",
       "      <td>blue-collar</td>\n",
       "      <td>married</td>\n",
       "      <td>secondary</td>\n",
       "      <td>161</td>\n",
       "      <td>yes</td>\n",
       "      <td>274.0</td>\n",
       "      <td>2</td>\n",
       "      <td>no</td>\n",
       "    </tr>\n",
       "  </tbody>\n",
       "</table>\n",
       "</div>"
      ],
      "text/plain": [
       "       age          job  marital  education  balance housing  duration  \\\n",
       "38     0.0   management  married  secondary     3935     yes     765.0   \n",
       "3809  13.0  blue-collar  married  secondary      161     yes     274.0   \n",
       "\n",
       "      campaign approval  \n",
       "38           1      yes  \n",
       "3809         2       no  "
      ]
     },
     "execution_count": 24,
     "metadata": {},
     "output_type": "execute_result"
    }
   ],
   "source": [
    "marital_df[marital_df['age'] <= 18]"
   ]
  },
  {
   "cell_type": "code",
   "execution_count": 25,
   "id": "ed74f359",
   "metadata": {},
   "outputs": [],
   "source": [
    "marital_df =df[(df['marital']== 'married')&\n",
    "                 (df['age'] <= 18)&\n",
    "                 (df['education'] == 'secondary' )]"
   ]
  },
  {
   "cell_type": "code",
   "execution_count": 26,
   "id": "1c18c79a",
   "metadata": {},
   "outputs": [
    {
     "data": {
      "application/vnd.microsoft.datawrangler.viewer.v0+json": {
       "columns": [
        {
         "name": "index",
         "rawType": "int64",
         "type": "integer"
        },
        {
         "name": "age",
         "rawType": "float64",
         "type": "float"
        },
        {
         "name": "job",
         "rawType": "object",
         "type": "string"
        },
        {
         "name": "marital",
         "rawType": "object",
         "type": "string"
        },
        {
         "name": "education",
         "rawType": "object",
         "type": "string"
        },
        {
         "name": "balance",
         "rawType": "int64",
         "type": "integer"
        },
        {
         "name": "housing",
         "rawType": "object",
         "type": "string"
        },
        {
         "name": "duration",
         "rawType": "float64",
         "type": "float"
        },
        {
         "name": "campaign",
         "rawType": "int64",
         "type": "integer"
        },
        {
         "name": "approval",
         "rawType": "object",
         "type": "string"
        }
       ],
       "ref": "53c81291-6d6c-47bb-9a54-738468ab22ea",
       "rows": [
        [
         "38",
         "0.0",
         "management",
         "married",
         "secondary",
         "3935",
         "yes",
         "765.0",
         "1",
         "yes"
        ],
        [
         "3809",
         "13.0",
         "blue-collar",
         "married",
         "secondary",
         "161",
         "yes",
         "274.0",
         "2",
         "no"
        ]
       ],
       "shape": {
        "columns": 9,
        "rows": 2
       }
      },
      "text/html": [
       "<div>\n",
       "<style scoped>\n",
       "    .dataframe tbody tr th:only-of-type {\n",
       "        vertical-align: middle;\n",
       "    }\n",
       "\n",
       "    .dataframe tbody tr th {\n",
       "        vertical-align: top;\n",
       "    }\n",
       "\n",
       "    .dataframe thead th {\n",
       "        text-align: right;\n",
       "    }\n",
       "</style>\n",
       "<table border=\"1\" class=\"dataframe\">\n",
       "  <thead>\n",
       "    <tr style=\"text-align: right;\">\n",
       "      <th></th>\n",
       "      <th>age</th>\n",
       "      <th>job</th>\n",
       "      <th>marital</th>\n",
       "      <th>education</th>\n",
       "      <th>balance</th>\n",
       "      <th>housing</th>\n",
       "      <th>duration</th>\n",
       "      <th>campaign</th>\n",
       "      <th>approval</th>\n",
       "    </tr>\n",
       "  </thead>\n",
       "  <tbody>\n",
       "    <tr>\n",
       "      <th>38</th>\n",
       "      <td>0.0</td>\n",
       "      <td>management</td>\n",
       "      <td>married</td>\n",
       "      <td>secondary</td>\n",
       "      <td>3935</td>\n",
       "      <td>yes</td>\n",
       "      <td>765.0</td>\n",
       "      <td>1</td>\n",
       "      <td>yes</td>\n",
       "    </tr>\n",
       "    <tr>\n",
       "      <th>3809</th>\n",
       "      <td>13.0</td>\n",
       "      <td>blue-collar</td>\n",
       "      <td>married</td>\n",
       "      <td>secondary</td>\n",
       "      <td>161</td>\n",
       "      <td>yes</td>\n",
       "      <td>274.0</td>\n",
       "      <td>2</td>\n",
       "      <td>no</td>\n",
       "    </tr>\n",
       "  </tbody>\n",
       "</table>\n",
       "</div>"
      ],
      "text/plain": [
       "       age          job  marital  education  balance housing  duration  \\\n",
       "38     0.0   management  married  secondary     3935     yes     765.0   \n",
       "3809  13.0  blue-collar  married  secondary      161     yes     274.0   \n",
       "\n",
       "      campaign approval  \n",
       "38           1      yes  \n",
       "3809         2       no  "
      ]
     },
     "execution_count": 26,
     "metadata": {},
     "output_type": "execute_result"
    }
   ],
   "source": [
    "marital_df"
   ]
  },
  {
   "cell_type": "code",
   "execution_count": 27,
   "id": "7f09cec3",
   "metadata": {},
   "outputs": [],
   "source": [
    "df.rename(columns= {'age': 'a'},inplace= True)"
   ]
  },
  {
   "cell_type": "code",
   "execution_count": 28,
   "id": "7cd4cead",
   "metadata": {},
   "outputs": [
    {
     "data": {
      "application/vnd.microsoft.datawrangler.viewer.v0+json": {
       "columns": [
        {
         "name": "index",
         "rawType": "int64",
         "type": "integer"
        },
        {
         "name": "a",
         "rawType": "float64",
         "type": "float"
        },
        {
         "name": "job",
         "rawType": "object",
         "type": "unknown"
        },
        {
         "name": "marital",
         "rawType": "object",
         "type": "unknown"
        },
        {
         "name": "education",
         "rawType": "object",
         "type": "unknown"
        },
        {
         "name": "balance",
         "rawType": "int64",
         "type": "integer"
        },
        {
         "name": "housing",
         "rawType": "object",
         "type": "unknown"
        },
        {
         "name": "duration",
         "rawType": "float64",
         "type": "float"
        },
        {
         "name": "campaign",
         "rawType": "int64",
         "type": "integer"
        },
        {
         "name": "approval",
         "rawType": "object",
         "type": "string"
        }
       ],
       "ref": "2beb75dd-5bfb-4bb5-890d-7169448ccb67",
       "rows": [
        [
         "0",
         "30.0",
         "unemployed",
         "married",
         "primary",
         "1787",
         "no",
         "79.0",
         "1",
         "no"
        ],
        [
         "1",
         "33.0",
         "services",
         "married",
         "secondary",
         "4789",
         "yes",
         "220.0",
         "1",
         "no"
        ],
        [
         "2",
         "35.0",
         "management",
         "single",
         "tertiary",
         "1350",
         "yes",
         "185.0",
         "1",
         "no"
        ],
        [
         "3",
         "30.0",
         "management",
         "married",
         "tertiary",
         "1476",
         "yes",
         "199.0",
         "4",
         "no"
        ],
        [
         "4",
         "59.0",
         "blue-collar",
         "married",
         "secondary",
         "0",
         "yes",
         "226.0",
         "1",
         "no"
        ],
        [
         "5",
         "35.0",
         "management",
         "single",
         "tertiary",
         "747",
         "no",
         "141.0",
         "2",
         "no"
        ],
        [
         "6",
         "36.0",
         "self-employed",
         "married",
         "tertiary",
         "307",
         "yes",
         "341.0",
         "1",
         "no"
        ],
        [
         "7",
         "39.0",
         "technician",
         "married",
         "secondary",
         "147",
         "yes",
         "151.0",
         "2",
         "no"
        ],
        [
         "8",
         "41.0",
         "entrepreneur",
         "married",
         "tertiary",
         "221",
         "yes",
         "57.0",
         "2",
         "no"
        ],
        [
         "9",
         "43.0",
         "services",
         "married",
         "primary",
         "-88",
         "yes",
         "313.0",
         "1",
         "no"
        ],
        [
         "10",
         "39.0",
         "services",
         "married",
         "secondary",
         "9374",
         "yes",
         "273.0",
         "1",
         "no"
        ],
        [
         "11",
         "43.0",
         "admin.",
         "married",
         "secondary",
         "264",
         "yes",
         "113.0",
         "2",
         "no"
        ],
        [
         "12",
         "36.0",
         "technician",
         "married",
         "tertiary",
         "1109",
         "no",
         "-328.0",
         "2",
         "no"
        ],
        [
         "13",
         "20.0",
         "student",
         "single",
         "secondary",
         "502",
         "no",
         "261.0",
         "1",
         "yes"
        ],
        [
         "14",
         "31.0",
         "blue-collar",
         "married",
         "secondary",
         "360",
         "yes",
         "89.0",
         "1",
         "no"
        ],
        [
         "15",
         "40.0",
         "management",
         "married",
         "tertiary",
         "194",
         "no",
         "189.0",
         "2",
         "no"
        ],
        [
         "16",
         "56.0",
         "technician",
         "married",
         "secondary",
         "4073",
         "no",
         "239.0",
         "5",
         "no"
        ],
        [
         "17",
         "37.0",
         "admin.",
         "single",
         "tertiary",
         "2317",
         "yes",
         "114.0",
         "1",
         "no"
        ],
        [
         "18",
         "25.0",
         "blue-collar",
         "single",
         "primary",
         "-221",
         null,
         "250.0",
         "1",
         "no"
        ],
        [
         "19",
         "31.0",
         "services",
         "married",
         "secondary",
         "132",
         "no",
         "148.0",
         "1",
         "no"
        ],
        [
         "20",
         "38.0",
         "management",
         "divorced",
         "unknown",
         "0",
         "yes",
         "-96.0",
         "2",
         "no"
        ],
        [
         "21",
         "42.0",
         "management",
         "divorced",
         "tertiary",
         "16",
         "no",
         "140.0",
         "3",
         "no"
        ],
        [
         "22",
         "44.0",
         "services",
         "single",
         "secondary",
         "106",
         "no",
         "109.0",
         "2",
         "no"
        ],
        [
         "23",
         "44.0",
         "entrepreneur",
         "married",
         "secondary",
         "93",
         "no",
         "125.0",
         "2",
         "no"
        ],
        [
         "24",
         "26.0",
         "housemaid",
         "married",
         "tertiary",
         "543",
         "no",
         "169.0",
         "3",
         "no"
        ],
        [
         "25",
         "41.0",
         "management",
         "married",
         "tertiary",
         "5883",
         "no",
         "182.0",
         "2",
         "no"
        ],
        [
         "26",
         "55.0",
         "blue-collar",
         "married",
         "primary",
         "627",
         "yes",
         "247.0",
         "1",
         "no"
        ],
        [
         "27",
         "67.0",
         "retired",
         "married",
         "unknown",
         "696",
         "no",
         "119.0",
         "1",
         "no"
        ],
        [
         "28",
         "56.0",
         "self-employed",
         "married",
         "secondary",
         "784",
         "no",
         "149.0",
         "2",
         "no"
        ],
        [
         "29",
         "53.0",
         "admin.",
         "married",
         "secondary",
         "105",
         "no",
         "74.0",
         "2",
         "no"
        ],
        [
         "30",
         "68.0",
         "retired",
         "divorced",
         "secondary",
         "4189",
         "no",
         "897.0",
         "2",
         "yes"
        ],
        [
         "31",
         "31.0",
         "technician",
         "married",
         "secondary",
         "171",
         "no",
         "81.0",
         "3",
         "no"
        ],
        [
         "32",
         "59.0",
         "management",
         "married",
         "secondary",
         "42",
         "no",
         "40.0",
         "1",
         "no"
        ],
        [
         "33",
         "32.0",
         "management",
         "single",
         "tertiary",
         "2536",
         "yes",
         "958.0",
         "6",
         "yes"
        ],
        [
         "34",
         "49.0",
         "technician",
         "married",
         "tertiary",
         "1235",
         "no",
         "354.0",
         "3",
         "yes"
        ],
        [
         "35",
         "42.0",
         "admin.",
         "divorced",
         "secondary",
         "1811",
         "yes",
         "150.0",
         "1",
         "no"
        ],
        [
         "36",
         "78.0",
         "retired",
         "divorced",
         "primary",
         "229",
         "no",
         "97.0",
         "1",
         "yes"
        ],
        [
         "37",
         "32.0",
         "blue-collar",
         "married",
         "secondary",
         "2089",
         "yes",
         "132.0",
         "1",
         "yes"
        ],
        [
         "38",
         "0.0",
         "management",
         "married",
         "secondary",
         "3935",
         "yes",
         "765.0",
         "1",
         "yes"
        ],
        [
         "39",
         "23.0",
         "services",
         "single",
         "tertiary",
         "363",
         "yes",
         "16.0",
         "18",
         "no"
        ],
        [
         "40",
         "38.0",
         "management",
         "single",
         "tertiary",
         "11971",
         "yes",
         "609.0",
         "2",
         "no"
        ],
        [
         "41",
         "36.0",
         "management",
         "single",
         "tertiary",
         "553",
         "no",
         "106.0",
         "2",
         "no"
        ],
        [
         "42",
         "52.0",
         "blue-collar",
         "married",
         "secondary",
         "1117",
         "yes",
         "365.0",
         "1",
         "no"
        ],
        [
         "43",
         "32.0",
         "technician",
         "married",
         "tertiary",
         "396",
         "yes",
         "205.0",
         "3",
         "no"
        ],
        [
         "44",
         "32.0",
         "technician",
         "single",
         "tertiary",
         "2204",
         "yes",
         "11.0",
         "4",
         "no"
        ],
        [
         "45",
         "34.0",
         "management",
         "single",
         "tertiary",
         "872",
         "yes",
         "105.0",
         "2",
         "no"
        ],
        [
         "46",
         "55.0",
         "blue-collar",
         "married",
         "primary",
         "145",
         "no",
         "59.0",
         "3",
         "no"
        ],
        [
         "47",
         "26.0",
         "blue-collar",
         "married",
         "primary",
         "0",
         "yes",
         "425.0",
         "1",
         "no"
        ],
        [
         "48",
         "32.0",
         "entrepreneur",
         "single",
         "primary",
         "-849",
         "yes",
         "204.0",
         "1",
         "no"
        ],
        [
         "49",
         null,
         "admin.",
         "married",
         "unknown",
         "4629",
         "yes",
         "181.0",
         "1",
         "yes"
        ]
       ],
       "shape": {
        "columns": 9,
        "rows": 4521
       }
      },
      "text/html": [
       "<div>\n",
       "<style scoped>\n",
       "    .dataframe tbody tr th:only-of-type {\n",
       "        vertical-align: middle;\n",
       "    }\n",
       "\n",
       "    .dataframe tbody tr th {\n",
       "        vertical-align: top;\n",
       "    }\n",
       "\n",
       "    .dataframe thead th {\n",
       "        text-align: right;\n",
       "    }\n",
       "</style>\n",
       "<table border=\"1\" class=\"dataframe\">\n",
       "  <thead>\n",
       "    <tr style=\"text-align: right;\">\n",
       "      <th></th>\n",
       "      <th>a</th>\n",
       "      <th>job</th>\n",
       "      <th>marital</th>\n",
       "      <th>education</th>\n",
       "      <th>balance</th>\n",
       "      <th>housing</th>\n",
       "      <th>duration</th>\n",
       "      <th>campaign</th>\n",
       "      <th>approval</th>\n",
       "    </tr>\n",
       "  </thead>\n",
       "  <tbody>\n",
       "    <tr>\n",
       "      <th>0</th>\n",
       "      <td>30.0</td>\n",
       "      <td>unemployed</td>\n",
       "      <td>married</td>\n",
       "      <td>primary</td>\n",
       "      <td>1787</td>\n",
       "      <td>no</td>\n",
       "      <td>79.0</td>\n",
       "      <td>1</td>\n",
       "      <td>no</td>\n",
       "    </tr>\n",
       "    <tr>\n",
       "      <th>1</th>\n",
       "      <td>33.0</td>\n",
       "      <td>services</td>\n",
       "      <td>married</td>\n",
       "      <td>secondary</td>\n",
       "      <td>4789</td>\n",
       "      <td>yes</td>\n",
       "      <td>220.0</td>\n",
       "      <td>1</td>\n",
       "      <td>no</td>\n",
       "    </tr>\n",
       "    <tr>\n",
       "      <th>2</th>\n",
       "      <td>35.0</td>\n",
       "      <td>management</td>\n",
       "      <td>single</td>\n",
       "      <td>tertiary</td>\n",
       "      <td>1350</td>\n",
       "      <td>yes</td>\n",
       "      <td>185.0</td>\n",
       "      <td>1</td>\n",
       "      <td>no</td>\n",
       "    </tr>\n",
       "    <tr>\n",
       "      <th>3</th>\n",
       "      <td>30.0</td>\n",
       "      <td>management</td>\n",
       "      <td>married</td>\n",
       "      <td>tertiary</td>\n",
       "      <td>1476</td>\n",
       "      <td>yes</td>\n",
       "      <td>199.0</td>\n",
       "      <td>4</td>\n",
       "      <td>no</td>\n",
       "    </tr>\n",
       "    <tr>\n",
       "      <th>4</th>\n",
       "      <td>59.0</td>\n",
       "      <td>blue-collar</td>\n",
       "      <td>married</td>\n",
       "      <td>secondary</td>\n",
       "      <td>0</td>\n",
       "      <td>yes</td>\n",
       "      <td>226.0</td>\n",
       "      <td>1</td>\n",
       "      <td>no</td>\n",
       "    </tr>\n",
       "    <tr>\n",
       "      <th>...</th>\n",
       "      <td>...</td>\n",
       "      <td>...</td>\n",
       "      <td>...</td>\n",
       "      <td>...</td>\n",
       "      <td>...</td>\n",
       "      <td>...</td>\n",
       "      <td>...</td>\n",
       "      <td>...</td>\n",
       "      <td>...</td>\n",
       "    </tr>\n",
       "    <tr>\n",
       "      <th>4516</th>\n",
       "      <td>99.0</td>\n",
       "      <td>services</td>\n",
       "      <td>married</td>\n",
       "      <td>secondary</td>\n",
       "      <td>-333</td>\n",
       "      <td>yes</td>\n",
       "      <td>329.0</td>\n",
       "      <td>5</td>\n",
       "      <td>no</td>\n",
       "    </tr>\n",
       "    <tr>\n",
       "      <th>4517</th>\n",
       "      <td>57.0</td>\n",
       "      <td>self-employed</td>\n",
       "      <td>married</td>\n",
       "      <td>tertiary</td>\n",
       "      <td>-3313</td>\n",
       "      <td>yes</td>\n",
       "      <td>-153.0</td>\n",
       "      <td>1</td>\n",
       "      <td>no</td>\n",
       "    </tr>\n",
       "    <tr>\n",
       "      <th>4518</th>\n",
       "      <td>57.0</td>\n",
       "      <td>technician</td>\n",
       "      <td>married</td>\n",
       "      <td>secondary</td>\n",
       "      <td>295</td>\n",
       "      <td>no</td>\n",
       "      <td>151.0</td>\n",
       "      <td>11</td>\n",
       "      <td>no</td>\n",
       "    </tr>\n",
       "    <tr>\n",
       "      <th>4519</th>\n",
       "      <td>28.0</td>\n",
       "      <td>blue-collar</td>\n",
       "      <td>married</td>\n",
       "      <td>secondary</td>\n",
       "      <td>1137</td>\n",
       "      <td>no</td>\n",
       "      <td>129.0</td>\n",
       "      <td>4</td>\n",
       "      <td>no</td>\n",
       "    </tr>\n",
       "    <tr>\n",
       "      <th>4520</th>\n",
       "      <td>44.0</td>\n",
       "      <td>entrepreneur</td>\n",
       "      <td>single</td>\n",
       "      <td>tertiary</td>\n",
       "      <td>1136</td>\n",
       "      <td>yes</td>\n",
       "      <td>345.0</td>\n",
       "      <td>2</td>\n",
       "      <td>no</td>\n",
       "    </tr>\n",
       "  </tbody>\n",
       "</table>\n",
       "<p>4521 rows × 9 columns</p>\n",
       "</div>"
      ],
      "text/plain": [
       "         a            job  marital  education  balance housing  duration  \\\n",
       "0     30.0     unemployed  married    primary     1787      no      79.0   \n",
       "1     33.0       services  married  secondary     4789     yes     220.0   \n",
       "2     35.0     management   single   tertiary     1350     yes     185.0   \n",
       "3     30.0     management  married   tertiary     1476     yes     199.0   \n",
       "4     59.0    blue-collar  married  secondary        0     yes     226.0   \n",
       "...    ...            ...      ...        ...      ...     ...       ...   \n",
       "4516  99.0       services  married  secondary     -333     yes     329.0   \n",
       "4517  57.0  self-employed  married   tertiary    -3313     yes    -153.0   \n",
       "4518  57.0     technician  married  secondary      295      no     151.0   \n",
       "4519  28.0    blue-collar  married  secondary     1137      no     129.0   \n",
       "4520  44.0   entrepreneur   single   tertiary     1136     yes     345.0   \n",
       "\n",
       "      campaign approval  \n",
       "0            1       no  \n",
       "1            1       no  \n",
       "2            1       no  \n",
       "3            4       no  \n",
       "4            1       no  \n",
       "...        ...      ...  \n",
       "4516         5       no  \n",
       "4517         1       no  \n",
       "4518        11       no  \n",
       "4519         4       no  \n",
       "4520         2       no  \n",
       "\n",
       "[4521 rows x 9 columns]"
      ]
     },
     "execution_count": 28,
     "metadata": {},
     "output_type": "execute_result"
    }
   ],
   "source": [
    "df"
   ]
  },
  {
   "cell_type": "code",
   "execution_count": 29,
   "id": "cbf8a3b0",
   "metadata": {},
   "outputs": [
    {
     "data": {
      "application/vnd.microsoft.datawrangler.viewer.v0+json": {
       "columns": [
        {
         "name": "index",
         "rawType": "int64",
         "type": "integer"
        },
        {
         "name": "job",
         "rawType": "object",
         "type": "unknown"
        },
        {
         "name": "marital",
         "rawType": "object",
         "type": "unknown"
        },
        {
         "name": "education",
         "rawType": "object",
         "type": "unknown"
        },
        {
         "name": "housing",
         "rawType": "object",
         "type": "unknown"
        },
        {
         "name": "approval",
         "rawType": "object",
         "type": "string"
        }
       ],
       "ref": "513ae404-2d68-4e07-85de-63fad2548721",
       "rows": [
        [
         "0",
         "unemployed",
         "married",
         "primary",
         "no",
         "no"
        ],
        [
         "1",
         "services",
         "married",
         "secondary",
         "yes",
         "no"
        ],
        [
         "2",
         "management",
         "single",
         "tertiary",
         "yes",
         "no"
        ],
        [
         "3",
         "management",
         "married",
         "tertiary",
         "yes",
         "no"
        ],
        [
         "4",
         "blue-collar",
         "married",
         "secondary",
         "yes",
         "no"
        ],
        [
         "5",
         "management",
         "single",
         "tertiary",
         "no",
         "no"
        ],
        [
         "6",
         "self-employed",
         "married",
         "tertiary",
         "yes",
         "no"
        ],
        [
         "7",
         "technician",
         "married",
         "secondary",
         "yes",
         "no"
        ],
        [
         "8",
         "entrepreneur",
         "married",
         "tertiary",
         "yes",
         "no"
        ],
        [
         "9",
         "services",
         "married",
         "primary",
         "yes",
         "no"
        ],
        [
         "10",
         "services",
         "married",
         "secondary",
         "yes",
         "no"
        ],
        [
         "11",
         "admin.",
         "married",
         "secondary",
         "yes",
         "no"
        ],
        [
         "12",
         "technician",
         "married",
         "tertiary",
         "no",
         "no"
        ],
        [
         "13",
         "student",
         "single",
         "secondary",
         "no",
         "yes"
        ],
        [
         "14",
         "blue-collar",
         "married",
         "secondary",
         "yes",
         "no"
        ],
        [
         "15",
         "management",
         "married",
         "tertiary",
         "no",
         "no"
        ],
        [
         "16",
         "technician",
         "married",
         "secondary",
         "no",
         "no"
        ],
        [
         "17",
         "admin.",
         "single",
         "tertiary",
         "yes",
         "no"
        ],
        [
         "18",
         "blue-collar",
         "single",
         "primary",
         null,
         "no"
        ],
        [
         "19",
         "services",
         "married",
         "secondary",
         "no",
         "no"
        ],
        [
         "20",
         "management",
         "divorced",
         "unknown",
         "yes",
         "no"
        ],
        [
         "21",
         "management",
         "divorced",
         "tertiary",
         "no",
         "no"
        ],
        [
         "22",
         "services",
         "single",
         "secondary",
         "no",
         "no"
        ],
        [
         "23",
         "entrepreneur",
         "married",
         "secondary",
         "no",
         "no"
        ],
        [
         "24",
         "housemaid",
         "married",
         "tertiary",
         "no",
         "no"
        ],
        [
         "25",
         "management",
         "married",
         "tertiary",
         "no",
         "no"
        ],
        [
         "26",
         "blue-collar",
         "married",
         "primary",
         "yes",
         "no"
        ],
        [
         "27",
         "retired",
         "married",
         "unknown",
         "no",
         "no"
        ],
        [
         "28",
         "self-employed",
         "married",
         "secondary",
         "no",
         "no"
        ],
        [
         "29",
         "admin.",
         "married",
         "secondary",
         "no",
         "no"
        ],
        [
         "30",
         "retired",
         "divorced",
         "secondary",
         "no",
         "yes"
        ],
        [
         "31",
         "technician",
         "married",
         "secondary",
         "no",
         "no"
        ],
        [
         "32",
         "management",
         "married",
         "secondary",
         "no",
         "no"
        ],
        [
         "33",
         "management",
         "single",
         "tertiary",
         "yes",
         "yes"
        ],
        [
         "34",
         "technician",
         "married",
         "tertiary",
         "no",
         "yes"
        ],
        [
         "35",
         "admin.",
         "divorced",
         "secondary",
         "yes",
         "no"
        ],
        [
         "36",
         "retired",
         "divorced",
         "primary",
         "no",
         "yes"
        ],
        [
         "37",
         "blue-collar",
         "married",
         "secondary",
         "yes",
         "yes"
        ],
        [
         "38",
         "management",
         "married",
         "secondary",
         "yes",
         "yes"
        ],
        [
         "39",
         "services",
         "single",
         "tertiary",
         "yes",
         "no"
        ],
        [
         "40",
         "management",
         "single",
         "tertiary",
         "yes",
         "no"
        ],
        [
         "41",
         "management",
         "single",
         "tertiary",
         "no",
         "no"
        ],
        [
         "42",
         "blue-collar",
         "married",
         "secondary",
         "yes",
         "no"
        ],
        [
         "43",
         "technician",
         "married",
         "tertiary",
         "yes",
         "no"
        ],
        [
         "44",
         "technician",
         "single",
         "tertiary",
         "yes",
         "no"
        ],
        [
         "45",
         "management",
         "single",
         "tertiary",
         "yes",
         "no"
        ],
        [
         "46",
         "blue-collar",
         "married",
         "primary",
         "no",
         "no"
        ],
        [
         "47",
         "blue-collar",
         "married",
         "primary",
         "yes",
         "no"
        ],
        [
         "48",
         "entrepreneur",
         "single",
         "primary",
         "yes",
         "no"
        ],
        [
         "49",
         "admin.",
         "married",
         "unknown",
         "yes",
         "yes"
        ]
       ],
       "shape": {
        "columns": 5,
        "rows": 4521
       }
      },
      "text/html": [
       "<div>\n",
       "<style scoped>\n",
       "    .dataframe tbody tr th:only-of-type {\n",
       "        vertical-align: middle;\n",
       "    }\n",
       "\n",
       "    .dataframe tbody tr th {\n",
       "        vertical-align: top;\n",
       "    }\n",
       "\n",
       "    .dataframe thead th {\n",
       "        text-align: right;\n",
       "    }\n",
       "</style>\n",
       "<table border=\"1\" class=\"dataframe\">\n",
       "  <thead>\n",
       "    <tr style=\"text-align: right;\">\n",
       "      <th></th>\n",
       "      <th>job</th>\n",
       "      <th>marital</th>\n",
       "      <th>education</th>\n",
       "      <th>housing</th>\n",
       "      <th>approval</th>\n",
       "    </tr>\n",
       "  </thead>\n",
       "  <tbody>\n",
       "    <tr>\n",
       "      <th>0</th>\n",
       "      <td>unemployed</td>\n",
       "      <td>married</td>\n",
       "      <td>primary</td>\n",
       "      <td>no</td>\n",
       "      <td>no</td>\n",
       "    </tr>\n",
       "    <tr>\n",
       "      <th>1</th>\n",
       "      <td>services</td>\n",
       "      <td>married</td>\n",
       "      <td>secondary</td>\n",
       "      <td>yes</td>\n",
       "      <td>no</td>\n",
       "    </tr>\n",
       "    <tr>\n",
       "      <th>2</th>\n",
       "      <td>management</td>\n",
       "      <td>single</td>\n",
       "      <td>tertiary</td>\n",
       "      <td>yes</td>\n",
       "      <td>no</td>\n",
       "    </tr>\n",
       "    <tr>\n",
       "      <th>3</th>\n",
       "      <td>management</td>\n",
       "      <td>married</td>\n",
       "      <td>tertiary</td>\n",
       "      <td>yes</td>\n",
       "      <td>no</td>\n",
       "    </tr>\n",
       "    <tr>\n",
       "      <th>4</th>\n",
       "      <td>blue-collar</td>\n",
       "      <td>married</td>\n",
       "      <td>secondary</td>\n",
       "      <td>yes</td>\n",
       "      <td>no</td>\n",
       "    </tr>\n",
       "    <tr>\n",
       "      <th>...</th>\n",
       "      <td>...</td>\n",
       "      <td>...</td>\n",
       "      <td>...</td>\n",
       "      <td>...</td>\n",
       "      <td>...</td>\n",
       "    </tr>\n",
       "    <tr>\n",
       "      <th>4516</th>\n",
       "      <td>services</td>\n",
       "      <td>married</td>\n",
       "      <td>secondary</td>\n",
       "      <td>yes</td>\n",
       "      <td>no</td>\n",
       "    </tr>\n",
       "    <tr>\n",
       "      <th>4517</th>\n",
       "      <td>self-employed</td>\n",
       "      <td>married</td>\n",
       "      <td>tertiary</td>\n",
       "      <td>yes</td>\n",
       "      <td>no</td>\n",
       "    </tr>\n",
       "    <tr>\n",
       "      <th>4518</th>\n",
       "      <td>technician</td>\n",
       "      <td>married</td>\n",
       "      <td>secondary</td>\n",
       "      <td>no</td>\n",
       "      <td>no</td>\n",
       "    </tr>\n",
       "    <tr>\n",
       "      <th>4519</th>\n",
       "      <td>blue-collar</td>\n",
       "      <td>married</td>\n",
       "      <td>secondary</td>\n",
       "      <td>no</td>\n",
       "      <td>no</td>\n",
       "    </tr>\n",
       "    <tr>\n",
       "      <th>4520</th>\n",
       "      <td>entrepreneur</td>\n",
       "      <td>single</td>\n",
       "      <td>tertiary</td>\n",
       "      <td>yes</td>\n",
       "      <td>no</td>\n",
       "    </tr>\n",
       "  </tbody>\n",
       "</table>\n",
       "<p>4521 rows × 5 columns</p>\n",
       "</div>"
      ],
      "text/plain": [
       "                job  marital  education housing approval\n",
       "0        unemployed  married    primary      no       no\n",
       "1          services  married  secondary     yes       no\n",
       "2        management   single   tertiary     yes       no\n",
       "3        management  married   tertiary     yes       no\n",
       "4       blue-collar  married  secondary     yes       no\n",
       "...             ...      ...        ...     ...      ...\n",
       "4516       services  married  secondary     yes       no\n",
       "4517  self-employed  married   tertiary     yes       no\n",
       "4518     technician  married  secondary      no       no\n",
       "4519    blue-collar  married  secondary      no       no\n",
       "4520   entrepreneur   single   tertiary     yes       no\n",
       "\n",
       "[4521 rows x 5 columns]"
      ]
     },
     "execution_count": 29,
     "metadata": {},
     "output_type": "execute_result"
    }
   ],
   "source": [
    "df.select_dtypes(include='object')"
   ]
  },
  {
   "cell_type": "code",
   "execution_count": 30,
   "id": "a202fce4",
   "metadata": {},
   "outputs": [],
   "source": [
    "num=df.select_dtypes(exclude='object')"
   ]
  },
  {
   "cell_type": "code",
   "execution_count": 31,
   "id": "427d322b",
   "metadata": {},
   "outputs": [
    {
     "data": {
      "application/vnd.microsoft.datawrangler.viewer.v0+json": {
       "columns": [
        {
         "name": "index",
         "rawType": "int64",
         "type": "integer"
        },
        {
         "name": "a",
         "rawType": "float64",
         "type": "float"
        },
        {
         "name": "balance",
         "rawType": "int64",
         "type": "integer"
        },
        {
         "name": "duration",
         "rawType": "float64",
         "type": "float"
        },
        {
         "name": "campaign",
         "rawType": "int64",
         "type": "integer"
        }
       ],
       "ref": "07e82cb3-ddd1-46d9-af2b-071c04bbfea3",
       "rows": [
        [
         "0",
         "30.0",
         "1787",
         "79.0",
         "1"
        ],
        [
         "1",
         "33.0",
         "4789",
         "220.0",
         "1"
        ],
        [
         "2",
         "35.0",
         "1350",
         "185.0",
         "1"
        ],
        [
         "3",
         "30.0",
         "1476",
         "199.0",
         "4"
        ],
        [
         "4",
         "59.0",
         "0",
         "226.0",
         "1"
        ],
        [
         "5",
         "35.0",
         "747",
         "141.0",
         "2"
        ],
        [
         "6",
         "36.0",
         "307",
         "341.0",
         "1"
        ],
        [
         "7",
         "39.0",
         "147",
         "151.0",
         "2"
        ],
        [
         "8",
         "41.0",
         "221",
         "57.0",
         "2"
        ],
        [
         "9",
         "43.0",
         "-88",
         "313.0",
         "1"
        ],
        [
         "10",
         "39.0",
         "9374",
         "273.0",
         "1"
        ],
        [
         "11",
         "43.0",
         "264",
         "113.0",
         "2"
        ],
        [
         "12",
         "36.0",
         "1109",
         "-328.0",
         "2"
        ],
        [
         "13",
         "20.0",
         "502",
         "261.0",
         "1"
        ],
        [
         "14",
         "31.0",
         "360",
         "89.0",
         "1"
        ],
        [
         "15",
         "40.0",
         "194",
         "189.0",
         "2"
        ],
        [
         "16",
         "56.0",
         "4073",
         "239.0",
         "5"
        ],
        [
         "17",
         "37.0",
         "2317",
         "114.0",
         "1"
        ],
        [
         "18",
         "25.0",
         "-221",
         "250.0",
         "1"
        ],
        [
         "19",
         "31.0",
         "132",
         "148.0",
         "1"
        ],
        [
         "20",
         "38.0",
         "0",
         "-96.0",
         "2"
        ],
        [
         "21",
         "42.0",
         "16",
         "140.0",
         "3"
        ],
        [
         "22",
         "44.0",
         "106",
         "109.0",
         "2"
        ],
        [
         "23",
         "44.0",
         "93",
         "125.0",
         "2"
        ],
        [
         "24",
         "26.0",
         "543",
         "169.0",
         "3"
        ],
        [
         "25",
         "41.0",
         "5883",
         "182.0",
         "2"
        ],
        [
         "26",
         "55.0",
         "627",
         "247.0",
         "1"
        ],
        [
         "27",
         "67.0",
         "696",
         "119.0",
         "1"
        ],
        [
         "28",
         "56.0",
         "784",
         "149.0",
         "2"
        ],
        [
         "29",
         "53.0",
         "105",
         "74.0",
         "2"
        ],
        [
         "30",
         "68.0",
         "4189",
         "897.0",
         "2"
        ],
        [
         "31",
         "31.0",
         "171",
         "81.0",
         "3"
        ],
        [
         "32",
         "59.0",
         "42",
         "40.0",
         "1"
        ],
        [
         "33",
         "32.0",
         "2536",
         "958.0",
         "6"
        ],
        [
         "34",
         "49.0",
         "1235",
         "354.0",
         "3"
        ],
        [
         "35",
         "42.0",
         "1811",
         "150.0",
         "1"
        ],
        [
         "36",
         "78.0",
         "229",
         "97.0",
         "1"
        ],
        [
         "37",
         "32.0",
         "2089",
         "132.0",
         "1"
        ],
        [
         "38",
         "0.0",
         "3935",
         "765.0",
         "1"
        ],
        [
         "39",
         "23.0",
         "363",
         "16.0",
         "18"
        ],
        [
         "40",
         "38.0",
         "11971",
         "609.0",
         "2"
        ],
        [
         "41",
         "36.0",
         "553",
         "106.0",
         "2"
        ],
        [
         "42",
         "52.0",
         "1117",
         "365.0",
         "1"
        ],
        [
         "43",
         "32.0",
         "396",
         "205.0",
         "3"
        ],
        [
         "44",
         "32.0",
         "2204",
         "11.0",
         "4"
        ],
        [
         "45",
         "34.0",
         "872",
         "105.0",
         "2"
        ],
        [
         "46",
         "55.0",
         "145",
         "59.0",
         "3"
        ],
        [
         "47",
         "26.0",
         "0",
         "425.0",
         "1"
        ],
        [
         "48",
         "32.0",
         "-849",
         "204.0",
         "1"
        ],
        [
         "49",
         null,
         "4629",
         "181.0",
         "1"
        ]
       ],
       "shape": {
        "columns": 4,
        "rows": 4521
       }
      },
      "text/html": [
       "<div>\n",
       "<style scoped>\n",
       "    .dataframe tbody tr th:only-of-type {\n",
       "        vertical-align: middle;\n",
       "    }\n",
       "\n",
       "    .dataframe tbody tr th {\n",
       "        vertical-align: top;\n",
       "    }\n",
       "\n",
       "    .dataframe thead th {\n",
       "        text-align: right;\n",
       "    }\n",
       "</style>\n",
       "<table border=\"1\" class=\"dataframe\">\n",
       "  <thead>\n",
       "    <tr style=\"text-align: right;\">\n",
       "      <th></th>\n",
       "      <th>a</th>\n",
       "      <th>balance</th>\n",
       "      <th>duration</th>\n",
       "      <th>campaign</th>\n",
       "    </tr>\n",
       "  </thead>\n",
       "  <tbody>\n",
       "    <tr>\n",
       "      <th>0</th>\n",
       "      <td>30.0</td>\n",
       "      <td>1787</td>\n",
       "      <td>79.0</td>\n",
       "      <td>1</td>\n",
       "    </tr>\n",
       "    <tr>\n",
       "      <th>1</th>\n",
       "      <td>33.0</td>\n",
       "      <td>4789</td>\n",
       "      <td>220.0</td>\n",
       "      <td>1</td>\n",
       "    </tr>\n",
       "    <tr>\n",
       "      <th>2</th>\n",
       "      <td>35.0</td>\n",
       "      <td>1350</td>\n",
       "      <td>185.0</td>\n",
       "      <td>1</td>\n",
       "    </tr>\n",
       "    <tr>\n",
       "      <th>3</th>\n",
       "      <td>30.0</td>\n",
       "      <td>1476</td>\n",
       "      <td>199.0</td>\n",
       "      <td>4</td>\n",
       "    </tr>\n",
       "    <tr>\n",
       "      <th>4</th>\n",
       "      <td>59.0</td>\n",
       "      <td>0</td>\n",
       "      <td>226.0</td>\n",
       "      <td>1</td>\n",
       "    </tr>\n",
       "    <tr>\n",
       "      <th>...</th>\n",
       "      <td>...</td>\n",
       "      <td>...</td>\n",
       "      <td>...</td>\n",
       "      <td>...</td>\n",
       "    </tr>\n",
       "    <tr>\n",
       "      <th>4516</th>\n",
       "      <td>99.0</td>\n",
       "      <td>-333</td>\n",
       "      <td>329.0</td>\n",
       "      <td>5</td>\n",
       "    </tr>\n",
       "    <tr>\n",
       "      <th>4517</th>\n",
       "      <td>57.0</td>\n",
       "      <td>-3313</td>\n",
       "      <td>-153.0</td>\n",
       "      <td>1</td>\n",
       "    </tr>\n",
       "    <tr>\n",
       "      <th>4518</th>\n",
       "      <td>57.0</td>\n",
       "      <td>295</td>\n",
       "      <td>151.0</td>\n",
       "      <td>11</td>\n",
       "    </tr>\n",
       "    <tr>\n",
       "      <th>4519</th>\n",
       "      <td>28.0</td>\n",
       "      <td>1137</td>\n",
       "      <td>129.0</td>\n",
       "      <td>4</td>\n",
       "    </tr>\n",
       "    <tr>\n",
       "      <th>4520</th>\n",
       "      <td>44.0</td>\n",
       "      <td>1136</td>\n",
       "      <td>345.0</td>\n",
       "      <td>2</td>\n",
       "    </tr>\n",
       "  </tbody>\n",
       "</table>\n",
       "<p>4521 rows × 4 columns</p>\n",
       "</div>"
      ],
      "text/plain": [
       "         a  balance  duration  campaign\n",
       "0     30.0     1787      79.0         1\n",
       "1     33.0     4789     220.0         1\n",
       "2     35.0     1350     185.0         1\n",
       "3     30.0     1476     199.0         4\n",
       "4     59.0        0     226.0         1\n",
       "...    ...      ...       ...       ...\n",
       "4516  99.0     -333     329.0         5\n",
       "4517  57.0    -3313    -153.0         1\n",
       "4518  57.0      295     151.0        11\n",
       "4519  28.0     1137     129.0         4\n",
       "4520  44.0     1136     345.0         2\n",
       "\n",
       "[4521 rows x 4 columns]"
      ]
     },
     "execution_count": 31,
     "metadata": {},
     "output_type": "execute_result"
    }
   ],
   "source": [
    "num"
   ]
  },
  {
   "cell_type": "code",
   "execution_count": 32,
   "id": "b7edf92a",
   "metadata": {},
   "outputs": [
    {
     "name": "stdout",
     "output_type": "stream",
     "text": [
      "Index(['a', 'balance', 'duration', 'campaign'], dtype='object')\n"
     ]
    }
   ],
   "source": [
    "print(num.columns)"
   ]
  },
  {
   "cell_type": "code",
   "execution_count": 33,
   "id": "b61ddf36",
   "metadata": {},
   "outputs": [
    {
     "data": {
      "application/vnd.microsoft.datawrangler.viewer.v0+json": {
       "columns": [
        {
         "name": "index",
         "rawType": "int64",
         "type": "integer"
        },
        {
         "name": "a",
         "rawType": "float64",
         "type": "float"
        },
        {
         "name": "balance",
         "rawType": "int64",
         "type": "integer"
        },
        {
         "name": "duration",
         "rawType": "float64",
         "type": "float"
        },
        {
         "name": "campaign",
         "rawType": "int64",
         "type": "integer"
        }
       ],
       "ref": "1026a586-08cc-4426-9fc2-980a8494f21d",
       "rows": [
        [
         "0",
         "30.0",
         "1787",
         "79.0",
         "1"
        ],
        [
         "1",
         "33.0",
         "4789",
         "220.0",
         "1"
        ],
        [
         "2",
         "35.0",
         "1350",
         "185.0",
         "1"
        ],
        [
         "3",
         "30.0",
         "1476",
         "199.0",
         "4"
        ],
        [
         "4",
         "59.0",
         "0",
         "226.0",
         "1"
        ]
       ],
       "shape": {
        "columns": 4,
        "rows": 5
       }
      },
      "text/html": [
       "<div>\n",
       "<style scoped>\n",
       "    .dataframe tbody tr th:only-of-type {\n",
       "        vertical-align: middle;\n",
       "    }\n",
       "\n",
       "    .dataframe tbody tr th {\n",
       "        vertical-align: top;\n",
       "    }\n",
       "\n",
       "    .dataframe thead th {\n",
       "        text-align: right;\n",
       "    }\n",
       "</style>\n",
       "<table border=\"1\" class=\"dataframe\">\n",
       "  <thead>\n",
       "    <tr style=\"text-align: right;\">\n",
       "      <th></th>\n",
       "      <th>a</th>\n",
       "      <th>balance</th>\n",
       "      <th>duration</th>\n",
       "      <th>campaign</th>\n",
       "    </tr>\n",
       "  </thead>\n",
       "  <tbody>\n",
       "    <tr>\n",
       "      <th>0</th>\n",
       "      <td>30.0</td>\n",
       "      <td>1787</td>\n",
       "      <td>79.0</td>\n",
       "      <td>1</td>\n",
       "    </tr>\n",
       "    <tr>\n",
       "      <th>1</th>\n",
       "      <td>33.0</td>\n",
       "      <td>4789</td>\n",
       "      <td>220.0</td>\n",
       "      <td>1</td>\n",
       "    </tr>\n",
       "    <tr>\n",
       "      <th>2</th>\n",
       "      <td>35.0</td>\n",
       "      <td>1350</td>\n",
       "      <td>185.0</td>\n",
       "      <td>1</td>\n",
       "    </tr>\n",
       "    <tr>\n",
       "      <th>3</th>\n",
       "      <td>30.0</td>\n",
       "      <td>1476</td>\n",
       "      <td>199.0</td>\n",
       "      <td>4</td>\n",
       "    </tr>\n",
       "    <tr>\n",
       "      <th>4</th>\n",
       "      <td>59.0</td>\n",
       "      <td>0</td>\n",
       "      <td>226.0</td>\n",
       "      <td>1</td>\n",
       "    </tr>\n",
       "  </tbody>\n",
       "</table>\n",
       "</div>"
      ],
      "text/plain": [
       "      a  balance  duration  campaign\n",
       "0  30.0     1787      79.0         1\n",
       "1  33.0     4789     220.0         1\n",
       "2  35.0     1350     185.0         1\n",
       "3  30.0     1476     199.0         4\n",
       "4  59.0        0     226.0         1"
      ]
     },
     "execution_count": 33,
     "metadata": {},
     "output_type": "execute_result"
    }
   ],
   "source": [
    "num.head()"
   ]
  },
  {
   "cell_type": "code",
   "execution_count": 34,
   "id": "9a24c687",
   "metadata": {},
   "outputs": [
    {
     "data": {
      "text/plain": [
       "array([ 30.,  33.,  35.,  59.,  36.,  39.,  41.,  43.,  20.,  31.,  40.,\n",
       "        56.,  37.,  25.,  38.,  42.,  44.,  26.,  55.,  67.,  53.,  68.,\n",
       "        32.,  49.,  78.,   0.,  23.,  52.,  34.,  nan,  45.,  48.,  57.,\n",
       "        54.,  63.,  51.,  29.,  50.,  27.,  60.,  28.,  21.,  58.,  22.,\n",
       "        46.,  24.,  77.,  75.,  47.,  70.,  65.,  64.,  62.,  66.,  61.,\n",
       "        19.,  81.,  83.,  80.,  71.,  72.,  69.,  79.,  73., -38.,  86.,\n",
       "        74., 338.,  76.,  87.,  13.,  84., 416., 410.,  99.])"
      ]
     },
     "execution_count": 34,
     "metadata": {},
     "output_type": "execute_result"
    }
   ],
   "source": [
    "num['a'].unique()"
   ]
  },
  {
   "cell_type": "code",
   "execution_count": 35,
   "id": "b3c6e72e",
   "metadata": {},
   "outputs": [],
   "source": [
    "from sklearn.preprocessing import LabelEncoder\n",
    "le =LabelEncoder()\n",
    "\n",
    "df['job'] =le.fit_transform(df['job'])\n",
    "df['balance'] =le.fit_transform(df['balance'])\n",
    "df['housing'] =le.fit_transform(df['housing'])"
   ]
  },
  {
   "cell_type": "code",
   "execution_count": 36,
   "id": "1ea4b6ae",
   "metadata": {},
   "outputs": [
    {
     "data": {
      "application/vnd.microsoft.datawrangler.viewer.v0+json": {
       "columns": [
        {
         "name": "index",
         "rawType": "int64",
         "type": "integer"
        },
        {
         "name": "a",
         "rawType": "float64",
         "type": "float"
        },
        {
         "name": "balance",
         "rawType": "int64",
         "type": "integer"
        },
        {
         "name": "duration",
         "rawType": "float64",
         "type": "float"
        },
        {
         "name": "campaign",
         "rawType": "int64",
         "type": "integer"
        }
       ],
       "ref": "2826c8d3-e74d-41e6-849e-3193f1f33c94",
       "rows": [
        [
         "0",
         "30.0",
         "1787",
         "79.0",
         "1"
        ],
        [
         "1",
         "33.0",
         "4789",
         "220.0",
         "1"
        ],
        [
         "2",
         "35.0",
         "1350",
         "185.0",
         "1"
        ],
        [
         "3",
         "30.0",
         "1476",
         "199.0",
         "4"
        ],
        [
         "4",
         "59.0",
         "0",
         "226.0",
         "1"
        ],
        [
         "5",
         "35.0",
         "747",
         "141.0",
         "2"
        ],
        [
         "6",
         "36.0",
         "307",
         "341.0",
         "1"
        ],
        [
         "7",
         "39.0",
         "147",
         "151.0",
         "2"
        ],
        [
         "8",
         "41.0",
         "221",
         "57.0",
         "2"
        ],
        [
         "9",
         "43.0",
         "-88",
         "313.0",
         "1"
        ],
        [
         "10",
         "39.0",
         "9374",
         "273.0",
         "1"
        ],
        [
         "11",
         "43.0",
         "264",
         "113.0",
         "2"
        ],
        [
         "12",
         "36.0",
         "1109",
         "-328.0",
         "2"
        ],
        [
         "13",
         "20.0",
         "502",
         "261.0",
         "1"
        ],
        [
         "14",
         "31.0",
         "360",
         "89.0",
         "1"
        ],
        [
         "15",
         "40.0",
         "194",
         "189.0",
         "2"
        ],
        [
         "16",
         "56.0",
         "4073",
         "239.0",
         "5"
        ],
        [
         "17",
         "37.0",
         "2317",
         "114.0",
         "1"
        ],
        [
         "18",
         "25.0",
         "-221",
         "250.0",
         "1"
        ],
        [
         "19",
         "31.0",
         "132",
         "148.0",
         "1"
        ],
        [
         "20",
         "38.0",
         "0",
         "-96.0",
         "2"
        ],
        [
         "21",
         "42.0",
         "16",
         "140.0",
         "3"
        ],
        [
         "22",
         "44.0",
         "106",
         "109.0",
         "2"
        ],
        [
         "23",
         "44.0",
         "93",
         "125.0",
         "2"
        ],
        [
         "24",
         "26.0",
         "543",
         "169.0",
         "3"
        ],
        [
         "25",
         "41.0",
         "5883",
         "182.0",
         "2"
        ],
        [
         "26",
         "55.0",
         "627",
         "247.0",
         "1"
        ],
        [
         "27",
         "67.0",
         "696",
         "119.0",
         "1"
        ],
        [
         "28",
         "56.0",
         "784",
         "149.0",
         "2"
        ],
        [
         "29",
         "53.0",
         "105",
         "74.0",
         "2"
        ],
        [
         "30",
         "68.0",
         "4189",
         "897.0",
         "2"
        ],
        [
         "31",
         "31.0",
         "171",
         "81.0",
         "3"
        ],
        [
         "32",
         "59.0",
         "42",
         "40.0",
         "1"
        ],
        [
         "33",
         "32.0",
         "2536",
         "958.0",
         "6"
        ],
        [
         "34",
         "49.0",
         "1235",
         "354.0",
         "3"
        ],
        [
         "35",
         "42.0",
         "1811",
         "150.0",
         "1"
        ],
        [
         "36",
         "78.0",
         "229",
         "97.0",
         "1"
        ],
        [
         "37",
         "32.0",
         "2089",
         "132.0",
         "1"
        ],
        [
         "38",
         "0.0",
         "3935",
         "765.0",
         "1"
        ],
        [
         "39",
         "23.0",
         "363",
         "16.0",
         "18"
        ],
        [
         "40",
         "38.0",
         "11971",
         "609.0",
         "2"
        ],
        [
         "41",
         "36.0",
         "553",
         "106.0",
         "2"
        ],
        [
         "42",
         "52.0",
         "1117",
         "365.0",
         "1"
        ],
        [
         "43",
         "32.0",
         "396",
         "205.0",
         "3"
        ],
        [
         "44",
         "32.0",
         "2204",
         "11.0",
         "4"
        ],
        [
         "45",
         "34.0",
         "872",
         "105.0",
         "2"
        ],
        [
         "46",
         "55.0",
         "145",
         "59.0",
         "3"
        ],
        [
         "47",
         "26.0",
         "0",
         "425.0",
         "1"
        ],
        [
         "48",
         "32.0",
         "-849",
         "204.0",
         "1"
        ],
        [
         "49",
         null,
         "4629",
         "181.0",
         "1"
        ]
       ],
       "shape": {
        "columns": 4,
        "rows": 4521
       }
      },
      "text/html": [
       "<div>\n",
       "<style scoped>\n",
       "    .dataframe tbody tr th:only-of-type {\n",
       "        vertical-align: middle;\n",
       "    }\n",
       "\n",
       "    .dataframe tbody tr th {\n",
       "        vertical-align: top;\n",
       "    }\n",
       "\n",
       "    .dataframe thead th {\n",
       "        text-align: right;\n",
       "    }\n",
       "</style>\n",
       "<table border=\"1\" class=\"dataframe\">\n",
       "  <thead>\n",
       "    <tr style=\"text-align: right;\">\n",
       "      <th></th>\n",
       "      <th>a</th>\n",
       "      <th>balance</th>\n",
       "      <th>duration</th>\n",
       "      <th>campaign</th>\n",
       "    </tr>\n",
       "  </thead>\n",
       "  <tbody>\n",
       "    <tr>\n",
       "      <th>0</th>\n",
       "      <td>30.0</td>\n",
       "      <td>1787</td>\n",
       "      <td>79.0</td>\n",
       "      <td>1</td>\n",
       "    </tr>\n",
       "    <tr>\n",
       "      <th>1</th>\n",
       "      <td>33.0</td>\n",
       "      <td>4789</td>\n",
       "      <td>220.0</td>\n",
       "      <td>1</td>\n",
       "    </tr>\n",
       "    <tr>\n",
       "      <th>2</th>\n",
       "      <td>35.0</td>\n",
       "      <td>1350</td>\n",
       "      <td>185.0</td>\n",
       "      <td>1</td>\n",
       "    </tr>\n",
       "    <tr>\n",
       "      <th>3</th>\n",
       "      <td>30.0</td>\n",
       "      <td>1476</td>\n",
       "      <td>199.0</td>\n",
       "      <td>4</td>\n",
       "    </tr>\n",
       "    <tr>\n",
       "      <th>4</th>\n",
       "      <td>59.0</td>\n",
       "      <td>0</td>\n",
       "      <td>226.0</td>\n",
       "      <td>1</td>\n",
       "    </tr>\n",
       "    <tr>\n",
       "      <th>...</th>\n",
       "      <td>...</td>\n",
       "      <td>...</td>\n",
       "      <td>...</td>\n",
       "      <td>...</td>\n",
       "    </tr>\n",
       "    <tr>\n",
       "      <th>4516</th>\n",
       "      <td>99.0</td>\n",
       "      <td>-333</td>\n",
       "      <td>329.0</td>\n",
       "      <td>5</td>\n",
       "    </tr>\n",
       "    <tr>\n",
       "      <th>4517</th>\n",
       "      <td>57.0</td>\n",
       "      <td>-3313</td>\n",
       "      <td>-153.0</td>\n",
       "      <td>1</td>\n",
       "    </tr>\n",
       "    <tr>\n",
       "      <th>4518</th>\n",
       "      <td>57.0</td>\n",
       "      <td>295</td>\n",
       "      <td>151.0</td>\n",
       "      <td>11</td>\n",
       "    </tr>\n",
       "    <tr>\n",
       "      <th>4519</th>\n",
       "      <td>28.0</td>\n",
       "      <td>1137</td>\n",
       "      <td>129.0</td>\n",
       "      <td>4</td>\n",
       "    </tr>\n",
       "    <tr>\n",
       "      <th>4520</th>\n",
       "      <td>44.0</td>\n",
       "      <td>1136</td>\n",
       "      <td>345.0</td>\n",
       "      <td>2</td>\n",
       "    </tr>\n",
       "  </tbody>\n",
       "</table>\n",
       "<p>4521 rows × 4 columns</p>\n",
       "</div>"
      ],
      "text/plain": [
       "         a  balance  duration  campaign\n",
       "0     30.0     1787      79.0         1\n",
       "1     33.0     4789     220.0         1\n",
       "2     35.0     1350     185.0         1\n",
       "3     30.0     1476     199.0         4\n",
       "4     59.0        0     226.0         1\n",
       "...    ...      ...       ...       ...\n",
       "4516  99.0     -333     329.0         5\n",
       "4517  57.0    -3313    -153.0         1\n",
       "4518  57.0      295     151.0        11\n",
       "4519  28.0     1137     129.0         4\n",
       "4520  44.0     1136     345.0         2\n",
       "\n",
       "[4521 rows x 4 columns]"
      ]
     },
     "execution_count": 36,
     "metadata": {},
     "output_type": "execute_result"
    }
   ],
   "source": [
    "num"
   ]
  },
  {
   "cell_type": "code",
   "execution_count": 37,
   "id": "e8c87779",
   "metadata": {},
   "outputs": [
    {
     "data": {
      "application/vnd.microsoft.datawrangler.viewer.v0+json": {
       "columns": [
        {
         "name": "index",
         "rawType": "int64",
         "type": "integer"
        },
        {
         "name": "a",
         "rawType": "float64",
         "type": "float"
        },
        {
         "name": "job",
         "rawType": "int64",
         "type": "integer"
        },
        {
         "name": "marital",
         "rawType": "object",
         "type": "unknown"
        },
        {
         "name": "education",
         "rawType": "object",
         "type": "unknown"
        },
        {
         "name": "balance",
         "rawType": "int64",
         "type": "integer"
        },
        {
         "name": "housing",
         "rawType": "int64",
         "type": "integer"
        },
        {
         "name": "duration",
         "rawType": "float64",
         "type": "float"
        },
        {
         "name": "campaign",
         "rawType": "int64",
         "type": "integer"
        },
        {
         "name": "approval",
         "rawType": "object",
         "type": "string"
        }
       ],
       "ref": "50a156f0-8df5-4b65-8a16-e83eed65bbdd",
       "rows": [
        [
         "0",
         "30.0",
         "10",
         "married",
         "primary",
         "1475",
         "0",
         "79.0",
         "1",
         "no"
        ],
        [
         "1",
         "33.0",
         "7",
         "married",
         "secondary",
         "2030",
         "1",
         "220.0",
         "1",
         "no"
        ],
        [
         "2",
         "35.0",
         "4",
         "single",
         "tertiary",
         "1303",
         "1",
         "185.0",
         "1",
         "no"
        ],
        [
         "3",
         "30.0",
         "4",
         "married",
         "tertiary",
         "1352",
         "1",
         "199.0",
         "4",
         "no"
        ],
        [
         "4",
         "59.0",
         "1",
         "married",
         "secondary",
         "274",
         "1",
         "226.0",
         "1",
         "no"
        ],
        [
         "5",
         "35.0",
         "4",
         "single",
         "tertiary",
         "934",
         "0",
         "141.0",
         "2",
         "no"
        ],
        [
         "6",
         "36.0",
         "6",
         "married",
         "tertiary",
         "569",
         "1",
         "341.0",
         "1",
         "no"
        ],
        [
         "7",
         "39.0",
         "9",
         "married",
         "secondary",
         "420",
         "1",
         "151.0",
         "2",
         "no"
        ],
        [
         "8",
         "41.0",
         "2",
         "married",
         "tertiary",
         "491",
         "1",
         "57.0",
         "2",
         "no"
        ],
        [
         "9",
         "43.0",
         "7",
         "married",
         "primary",
         "218",
         "1",
         "313.0",
         "1",
         "no"
        ],
        [
         "10",
         "39.0",
         "7",
         "married",
         "secondary",
         "2254",
         "1",
         "273.0",
         "1",
         "no"
        ],
        [
         "11",
         "43.0",
         "0",
         "married",
         "secondary",
         "531",
         "1",
         "113.0",
         "2",
         "no"
        ],
        [
         "12",
         "36.0",
         "9",
         "married",
         "tertiary",
         "1173",
         "0",
         "-328.0",
         "2",
         "no"
        ],
        [
         "13",
         "20.0",
         "8",
         "single",
         "secondary",
         "750",
         "0",
         "261.0",
         "1",
         "yes"
        ],
        [
         "14",
         "31.0",
         "1",
         "married",
         "secondary",
         "620",
         "1",
         "89.0",
         "1",
         "no"
        ],
        [
         "15",
         "40.0",
         "4",
         "married",
         "tertiary",
         "464",
         "0",
         "189.0",
         "2",
         "no"
        ],
        [
         "16",
         "56.0",
         "9",
         "married",
         "secondary",
         "1949",
         "0",
         "239.0",
         "5",
         "no"
        ],
        [
         "17",
         "37.0",
         "0",
         "single",
         "tertiary",
         "1629",
         "1",
         "114.0",
         "1",
         "no"
        ],
        [
         "18",
         "25.0",
         "1",
         "single",
         "primary",
         "163",
         "2",
         "250.0",
         "1",
         "no"
        ],
        [
         "19",
         "31.0",
         "7",
         "married",
         "secondary",
         "405",
         "0",
         "148.0",
         "1",
         "no"
        ],
        [
         "20",
         "38.0",
         "4",
         "divorced",
         "unknown",
         "274",
         "1",
         "-96.0",
         "2",
         "no"
        ],
        [
         "21",
         "42.0",
         "4",
         "divorced",
         "tertiary",
         "290",
         "0",
         "140.0",
         "3",
         "no"
        ],
        [
         "22",
         "44.0",
         "7",
         "single",
         "secondary",
         "380",
         "0",
         "109.0",
         "2",
         "no"
        ],
        [
         "23",
         "44.0",
         "2",
         "married",
         "secondary",
         "367",
         "0",
         "125.0",
         "2",
         "no"
        ],
        [
         "24",
         "26.0",
         "3",
         "married",
         "tertiary",
         "778",
         "0",
         "169.0",
         "3",
         "no"
        ],
        [
         "25",
         "41.0",
         "4",
         "married",
         "tertiary",
         "2117",
         "0",
         "182.0",
         "2",
         "no"
        ],
        [
         "26",
         "55.0",
         "1",
         "married",
         "primary",
         "845",
         "1",
         "247.0",
         "1",
         "no"
        ],
        [
         "27",
         "67.0",
         "5",
         "married",
         "unknown",
         "900",
         "0",
         "119.0",
         "1",
         "no"
        ],
        [
         "28",
         "56.0",
         "6",
         "married",
         "secondary",
         "966",
         "0",
         "149.0",
         "2",
         "no"
        ],
        [
         "29",
         "53.0",
         "0",
         "married",
         "secondary",
         "379",
         "0",
         "74.0",
         "2",
         "no"
        ],
        [
         "30",
         "68.0",
         "5",
         "divorced",
         "secondary",
         "1965",
         "0",
         "897.0",
         "2",
         "yes"
        ],
        [
         "31",
         "31.0",
         "9",
         "married",
         "secondary",
         "442",
         "0",
         "81.0",
         "3",
         "no"
        ],
        [
         "32",
         "59.0",
         "4",
         "married",
         "secondary",
         "316",
         "0",
         "40.0",
         "1",
         "no"
        ],
        [
         "33",
         "32.0",
         "4",
         "single",
         "tertiary",
         "1676",
         "1",
         "958.0",
         "6",
         "yes"
        ],
        [
         "34",
         "49.0",
         "9",
         "married",
         "tertiary",
         "1247",
         "0",
         "354.0",
         "3",
         "yes"
        ],
        [
         "35",
         "42.0",
         "0",
         "divorced",
         "secondary",
         "1483",
         "1",
         "150.0",
         "1",
         "no"
        ],
        [
         "36",
         "78.0",
         "5",
         "divorced",
         "primary",
         "499",
         "0",
         "97.0",
         "1",
         "yes"
        ],
        [
         "37",
         "32.0",
         "1",
         "married",
         "secondary",
         "1565",
         "1",
         "132.0",
         "1",
         "yes"
        ],
        [
         "38",
         "0.0",
         "4",
         "married",
         "secondary",
         "1928",
         "1",
         "765.0",
         "1",
         "yes"
        ],
        [
         "39",
         "23.0",
         "7",
         "single",
         "tertiary",
         "623",
         "1",
         "16.0",
         "18",
         "no"
        ],
        [
         "40",
         "38.0",
         "4",
         "single",
         "tertiary",
         "2284",
         "1",
         "609.0",
         "2",
         "no"
        ],
        [
         "41",
         "36.0",
         "4",
         "single",
         "tertiary",
         "786",
         "0",
         "106.0",
         "2",
         "no"
        ],
        [
         "42",
         "52.0",
         "1",
         "married",
         "secondary",
         "1177",
         "1",
         "365.0",
         "1",
         "no"
        ],
        [
         "43",
         "32.0",
         "9",
         "married",
         "tertiary",
         "652",
         "1",
         "205.0",
         "3",
         "no"
        ],
        [
         "44",
         "32.0",
         "9",
         "single",
         "tertiary",
         "1599",
         "1",
         "11.0",
         "4",
         "no"
        ],
        [
         "45",
         "34.0",
         "4",
         "single",
         "tertiary",
         "1029",
         "1",
         "105.0",
         "2",
         "no"
        ],
        [
         "46",
         "55.0",
         "1",
         "married",
         "primary",
         "418",
         "0",
         "59.0",
         "3",
         "no"
        ],
        [
         "47",
         "26.0",
         "1",
         "married",
         "primary",
         "274",
         "1",
         "425.0",
         "1",
         "no"
        ],
        [
         "48",
         "32.0",
         "2",
         "single",
         "primary",
         "27",
         "1",
         "204.0",
         "1",
         "no"
        ],
        [
         "49",
         null,
         "0",
         "married",
         "unknown",
         "2013",
         "1",
         "181.0",
         "1",
         "yes"
        ]
       ],
       "shape": {
        "columns": 9,
        "rows": 4521
       }
      },
      "text/html": [
       "<div>\n",
       "<style scoped>\n",
       "    .dataframe tbody tr th:only-of-type {\n",
       "        vertical-align: middle;\n",
       "    }\n",
       "\n",
       "    .dataframe tbody tr th {\n",
       "        vertical-align: top;\n",
       "    }\n",
       "\n",
       "    .dataframe thead th {\n",
       "        text-align: right;\n",
       "    }\n",
       "</style>\n",
       "<table border=\"1\" class=\"dataframe\">\n",
       "  <thead>\n",
       "    <tr style=\"text-align: right;\">\n",
       "      <th></th>\n",
       "      <th>a</th>\n",
       "      <th>job</th>\n",
       "      <th>marital</th>\n",
       "      <th>education</th>\n",
       "      <th>balance</th>\n",
       "      <th>housing</th>\n",
       "      <th>duration</th>\n",
       "      <th>campaign</th>\n",
       "      <th>approval</th>\n",
       "    </tr>\n",
       "  </thead>\n",
       "  <tbody>\n",
       "    <tr>\n",
       "      <th>0</th>\n",
       "      <td>30.0</td>\n",
       "      <td>10</td>\n",
       "      <td>married</td>\n",
       "      <td>primary</td>\n",
       "      <td>1475</td>\n",
       "      <td>0</td>\n",
       "      <td>79.0</td>\n",
       "      <td>1</td>\n",
       "      <td>no</td>\n",
       "    </tr>\n",
       "    <tr>\n",
       "      <th>1</th>\n",
       "      <td>33.0</td>\n",
       "      <td>7</td>\n",
       "      <td>married</td>\n",
       "      <td>secondary</td>\n",
       "      <td>2030</td>\n",
       "      <td>1</td>\n",
       "      <td>220.0</td>\n",
       "      <td>1</td>\n",
       "      <td>no</td>\n",
       "    </tr>\n",
       "    <tr>\n",
       "      <th>2</th>\n",
       "      <td>35.0</td>\n",
       "      <td>4</td>\n",
       "      <td>single</td>\n",
       "      <td>tertiary</td>\n",
       "      <td>1303</td>\n",
       "      <td>1</td>\n",
       "      <td>185.0</td>\n",
       "      <td>1</td>\n",
       "      <td>no</td>\n",
       "    </tr>\n",
       "    <tr>\n",
       "      <th>3</th>\n",
       "      <td>30.0</td>\n",
       "      <td>4</td>\n",
       "      <td>married</td>\n",
       "      <td>tertiary</td>\n",
       "      <td>1352</td>\n",
       "      <td>1</td>\n",
       "      <td>199.0</td>\n",
       "      <td>4</td>\n",
       "      <td>no</td>\n",
       "    </tr>\n",
       "    <tr>\n",
       "      <th>4</th>\n",
       "      <td>59.0</td>\n",
       "      <td>1</td>\n",
       "      <td>married</td>\n",
       "      <td>secondary</td>\n",
       "      <td>274</td>\n",
       "      <td>1</td>\n",
       "      <td>226.0</td>\n",
       "      <td>1</td>\n",
       "      <td>no</td>\n",
       "    </tr>\n",
       "    <tr>\n",
       "      <th>...</th>\n",
       "      <td>...</td>\n",
       "      <td>...</td>\n",
       "      <td>...</td>\n",
       "      <td>...</td>\n",
       "      <td>...</td>\n",
       "      <td>...</td>\n",
       "      <td>...</td>\n",
       "      <td>...</td>\n",
       "      <td>...</td>\n",
       "    </tr>\n",
       "    <tr>\n",
       "      <th>4516</th>\n",
       "      <td>99.0</td>\n",
       "      <td>7</td>\n",
       "      <td>married</td>\n",
       "      <td>secondary</td>\n",
       "      <td>119</td>\n",
       "      <td>1</td>\n",
       "      <td>329.0</td>\n",
       "      <td>5</td>\n",
       "      <td>no</td>\n",
       "    </tr>\n",
       "    <tr>\n",
       "      <th>4517</th>\n",
       "      <td>57.0</td>\n",
       "      <td>6</td>\n",
       "      <td>married</td>\n",
       "      <td>tertiary</td>\n",
       "      <td>0</td>\n",
       "      <td>1</td>\n",
       "      <td>-153.0</td>\n",
       "      <td>1</td>\n",
       "      <td>no</td>\n",
       "    </tr>\n",
       "    <tr>\n",
       "      <th>4518</th>\n",
       "      <td>57.0</td>\n",
       "      <td>9</td>\n",
       "      <td>married</td>\n",
       "      <td>secondary</td>\n",
       "      <td>558</td>\n",
       "      <td>0</td>\n",
       "      <td>151.0</td>\n",
       "      <td>11</td>\n",
       "      <td>no</td>\n",
       "    </tr>\n",
       "    <tr>\n",
       "      <th>4519</th>\n",
       "      <td>28.0</td>\n",
       "      <td>1</td>\n",
       "      <td>married</td>\n",
       "      <td>secondary</td>\n",
       "      <td>1187</td>\n",
       "      <td>0</td>\n",
       "      <td>129.0</td>\n",
       "      <td>4</td>\n",
       "      <td>no</td>\n",
       "    </tr>\n",
       "    <tr>\n",
       "      <th>4520</th>\n",
       "      <td>44.0</td>\n",
       "      <td>2</td>\n",
       "      <td>single</td>\n",
       "      <td>tertiary</td>\n",
       "      <td>1186</td>\n",
       "      <td>1</td>\n",
       "      <td>345.0</td>\n",
       "      <td>2</td>\n",
       "      <td>no</td>\n",
       "    </tr>\n",
       "  </tbody>\n",
       "</table>\n",
       "<p>4521 rows × 9 columns</p>\n",
       "</div>"
      ],
      "text/plain": [
       "         a  job  marital  education  balance  housing  duration  campaign  \\\n",
       "0     30.0   10  married    primary     1475        0      79.0         1   \n",
       "1     33.0    7  married  secondary     2030        1     220.0         1   \n",
       "2     35.0    4   single   tertiary     1303        1     185.0         1   \n",
       "3     30.0    4  married   tertiary     1352        1     199.0         4   \n",
       "4     59.0    1  married  secondary      274        1     226.0         1   \n",
       "...    ...  ...      ...        ...      ...      ...       ...       ...   \n",
       "4516  99.0    7  married  secondary      119        1     329.0         5   \n",
       "4517  57.0    6  married   tertiary        0        1    -153.0         1   \n",
       "4518  57.0    9  married  secondary      558        0     151.0        11   \n",
       "4519  28.0    1  married  secondary     1187        0     129.0         4   \n",
       "4520  44.0    2   single   tertiary     1186        1     345.0         2   \n",
       "\n",
       "     approval  \n",
       "0          no  \n",
       "1          no  \n",
       "2          no  \n",
       "3          no  \n",
       "4          no  \n",
       "...       ...  \n",
       "4516       no  \n",
       "4517       no  \n",
       "4518       no  \n",
       "4519       no  \n",
       "4520       no  \n",
       "\n",
       "[4521 rows x 9 columns]"
      ]
     },
     "execution_count": 37,
     "metadata": {},
     "output_type": "execute_result"
    }
   ],
   "source": [
    "df"
   ]
  },
  {
   "cell_type": "code",
   "execution_count": 38,
   "id": "2d292892",
   "metadata": {},
   "outputs": [],
   "source": [
    "char=df.select_dtypes(exclude='object')"
   ]
  },
  {
   "cell_type": "code",
   "execution_count": 39,
   "id": "28d68f53",
   "metadata": {},
   "outputs": [
    {
     "data": {
      "application/vnd.microsoft.datawrangler.viewer.v0+json": {
       "columns": [
        {
         "name": "index",
         "rawType": "int64",
         "type": "integer"
        },
        {
         "name": "a",
         "rawType": "float64",
         "type": "float"
        },
        {
         "name": "job",
         "rawType": "int64",
         "type": "integer"
        },
        {
         "name": "balance",
         "rawType": "int64",
         "type": "integer"
        },
        {
         "name": "housing",
         "rawType": "int64",
         "type": "integer"
        },
        {
         "name": "duration",
         "rawType": "float64",
         "type": "float"
        },
        {
         "name": "campaign",
         "rawType": "int64",
         "type": "integer"
        }
       ],
       "ref": "ad9f1627-7e1a-4170-888a-5c58a9475ede",
       "rows": [
        [
         "0",
         "30.0",
         "10",
         "1475",
         "0",
         "79.0",
         "1"
        ],
        [
         "1",
         "33.0",
         "7",
         "2030",
         "1",
         "220.0",
         "1"
        ],
        [
         "2",
         "35.0",
         "4",
         "1303",
         "1",
         "185.0",
         "1"
        ],
        [
         "3",
         "30.0",
         "4",
         "1352",
         "1",
         "199.0",
         "4"
        ],
        [
         "4",
         "59.0",
         "1",
         "274",
         "1",
         "226.0",
         "1"
        ],
        [
         "5",
         "35.0",
         "4",
         "934",
         "0",
         "141.0",
         "2"
        ],
        [
         "6",
         "36.0",
         "6",
         "569",
         "1",
         "341.0",
         "1"
        ],
        [
         "7",
         "39.0",
         "9",
         "420",
         "1",
         "151.0",
         "2"
        ],
        [
         "8",
         "41.0",
         "2",
         "491",
         "1",
         "57.0",
         "2"
        ],
        [
         "9",
         "43.0",
         "7",
         "218",
         "1",
         "313.0",
         "1"
        ],
        [
         "10",
         "39.0",
         "7",
         "2254",
         "1",
         "273.0",
         "1"
        ],
        [
         "11",
         "43.0",
         "0",
         "531",
         "1",
         "113.0",
         "2"
        ],
        [
         "12",
         "36.0",
         "9",
         "1173",
         "0",
         "-328.0",
         "2"
        ],
        [
         "13",
         "20.0",
         "8",
         "750",
         "0",
         "261.0",
         "1"
        ],
        [
         "14",
         "31.0",
         "1",
         "620",
         "1",
         "89.0",
         "1"
        ],
        [
         "15",
         "40.0",
         "4",
         "464",
         "0",
         "189.0",
         "2"
        ],
        [
         "16",
         "56.0",
         "9",
         "1949",
         "0",
         "239.0",
         "5"
        ],
        [
         "17",
         "37.0",
         "0",
         "1629",
         "1",
         "114.0",
         "1"
        ],
        [
         "18",
         "25.0",
         "1",
         "163",
         "2",
         "250.0",
         "1"
        ],
        [
         "19",
         "31.0",
         "7",
         "405",
         "0",
         "148.0",
         "1"
        ],
        [
         "20",
         "38.0",
         "4",
         "274",
         "1",
         "-96.0",
         "2"
        ],
        [
         "21",
         "42.0",
         "4",
         "290",
         "0",
         "140.0",
         "3"
        ],
        [
         "22",
         "44.0",
         "7",
         "380",
         "0",
         "109.0",
         "2"
        ],
        [
         "23",
         "44.0",
         "2",
         "367",
         "0",
         "125.0",
         "2"
        ],
        [
         "24",
         "26.0",
         "3",
         "778",
         "0",
         "169.0",
         "3"
        ],
        [
         "25",
         "41.0",
         "4",
         "2117",
         "0",
         "182.0",
         "2"
        ],
        [
         "26",
         "55.0",
         "1",
         "845",
         "1",
         "247.0",
         "1"
        ],
        [
         "27",
         "67.0",
         "5",
         "900",
         "0",
         "119.0",
         "1"
        ],
        [
         "28",
         "56.0",
         "6",
         "966",
         "0",
         "149.0",
         "2"
        ],
        [
         "29",
         "53.0",
         "0",
         "379",
         "0",
         "74.0",
         "2"
        ],
        [
         "30",
         "68.0",
         "5",
         "1965",
         "0",
         "897.0",
         "2"
        ],
        [
         "31",
         "31.0",
         "9",
         "442",
         "0",
         "81.0",
         "3"
        ],
        [
         "32",
         "59.0",
         "4",
         "316",
         "0",
         "40.0",
         "1"
        ],
        [
         "33",
         "32.0",
         "4",
         "1676",
         "1",
         "958.0",
         "6"
        ],
        [
         "34",
         "49.0",
         "9",
         "1247",
         "0",
         "354.0",
         "3"
        ],
        [
         "35",
         "42.0",
         "0",
         "1483",
         "1",
         "150.0",
         "1"
        ],
        [
         "36",
         "78.0",
         "5",
         "499",
         "0",
         "97.0",
         "1"
        ],
        [
         "37",
         "32.0",
         "1",
         "1565",
         "1",
         "132.0",
         "1"
        ],
        [
         "38",
         "0.0",
         "4",
         "1928",
         "1",
         "765.0",
         "1"
        ],
        [
         "39",
         "23.0",
         "7",
         "623",
         "1",
         "16.0",
         "18"
        ],
        [
         "40",
         "38.0",
         "4",
         "2284",
         "1",
         "609.0",
         "2"
        ],
        [
         "41",
         "36.0",
         "4",
         "786",
         "0",
         "106.0",
         "2"
        ],
        [
         "42",
         "52.0",
         "1",
         "1177",
         "1",
         "365.0",
         "1"
        ],
        [
         "43",
         "32.0",
         "9",
         "652",
         "1",
         "205.0",
         "3"
        ],
        [
         "44",
         "32.0",
         "9",
         "1599",
         "1",
         "11.0",
         "4"
        ],
        [
         "45",
         "34.0",
         "4",
         "1029",
         "1",
         "105.0",
         "2"
        ],
        [
         "46",
         "55.0",
         "1",
         "418",
         "0",
         "59.0",
         "3"
        ],
        [
         "47",
         "26.0",
         "1",
         "274",
         "1",
         "425.0",
         "1"
        ],
        [
         "48",
         "32.0",
         "2",
         "27",
         "1",
         "204.0",
         "1"
        ],
        [
         "49",
         null,
         "0",
         "2013",
         "1",
         "181.0",
         "1"
        ]
       ],
       "shape": {
        "columns": 6,
        "rows": 4521
       }
      },
      "text/html": [
       "<div>\n",
       "<style scoped>\n",
       "    .dataframe tbody tr th:only-of-type {\n",
       "        vertical-align: middle;\n",
       "    }\n",
       "\n",
       "    .dataframe tbody tr th {\n",
       "        vertical-align: top;\n",
       "    }\n",
       "\n",
       "    .dataframe thead th {\n",
       "        text-align: right;\n",
       "    }\n",
       "</style>\n",
       "<table border=\"1\" class=\"dataframe\">\n",
       "  <thead>\n",
       "    <tr style=\"text-align: right;\">\n",
       "      <th></th>\n",
       "      <th>a</th>\n",
       "      <th>job</th>\n",
       "      <th>balance</th>\n",
       "      <th>housing</th>\n",
       "      <th>duration</th>\n",
       "      <th>campaign</th>\n",
       "    </tr>\n",
       "  </thead>\n",
       "  <tbody>\n",
       "    <tr>\n",
       "      <th>0</th>\n",
       "      <td>30.0</td>\n",
       "      <td>10</td>\n",
       "      <td>1475</td>\n",
       "      <td>0</td>\n",
       "      <td>79.0</td>\n",
       "      <td>1</td>\n",
       "    </tr>\n",
       "    <tr>\n",
       "      <th>1</th>\n",
       "      <td>33.0</td>\n",
       "      <td>7</td>\n",
       "      <td>2030</td>\n",
       "      <td>1</td>\n",
       "      <td>220.0</td>\n",
       "      <td>1</td>\n",
       "    </tr>\n",
       "    <tr>\n",
       "      <th>2</th>\n",
       "      <td>35.0</td>\n",
       "      <td>4</td>\n",
       "      <td>1303</td>\n",
       "      <td>1</td>\n",
       "      <td>185.0</td>\n",
       "      <td>1</td>\n",
       "    </tr>\n",
       "    <tr>\n",
       "      <th>3</th>\n",
       "      <td>30.0</td>\n",
       "      <td>4</td>\n",
       "      <td>1352</td>\n",
       "      <td>1</td>\n",
       "      <td>199.0</td>\n",
       "      <td>4</td>\n",
       "    </tr>\n",
       "    <tr>\n",
       "      <th>4</th>\n",
       "      <td>59.0</td>\n",
       "      <td>1</td>\n",
       "      <td>274</td>\n",
       "      <td>1</td>\n",
       "      <td>226.0</td>\n",
       "      <td>1</td>\n",
       "    </tr>\n",
       "    <tr>\n",
       "      <th>...</th>\n",
       "      <td>...</td>\n",
       "      <td>...</td>\n",
       "      <td>...</td>\n",
       "      <td>...</td>\n",
       "      <td>...</td>\n",
       "      <td>...</td>\n",
       "    </tr>\n",
       "    <tr>\n",
       "      <th>4516</th>\n",
       "      <td>99.0</td>\n",
       "      <td>7</td>\n",
       "      <td>119</td>\n",
       "      <td>1</td>\n",
       "      <td>329.0</td>\n",
       "      <td>5</td>\n",
       "    </tr>\n",
       "    <tr>\n",
       "      <th>4517</th>\n",
       "      <td>57.0</td>\n",
       "      <td>6</td>\n",
       "      <td>0</td>\n",
       "      <td>1</td>\n",
       "      <td>-153.0</td>\n",
       "      <td>1</td>\n",
       "    </tr>\n",
       "    <tr>\n",
       "      <th>4518</th>\n",
       "      <td>57.0</td>\n",
       "      <td>9</td>\n",
       "      <td>558</td>\n",
       "      <td>0</td>\n",
       "      <td>151.0</td>\n",
       "      <td>11</td>\n",
       "    </tr>\n",
       "    <tr>\n",
       "      <th>4519</th>\n",
       "      <td>28.0</td>\n",
       "      <td>1</td>\n",
       "      <td>1187</td>\n",
       "      <td>0</td>\n",
       "      <td>129.0</td>\n",
       "      <td>4</td>\n",
       "    </tr>\n",
       "    <tr>\n",
       "      <th>4520</th>\n",
       "      <td>44.0</td>\n",
       "      <td>2</td>\n",
       "      <td>1186</td>\n",
       "      <td>1</td>\n",
       "      <td>345.0</td>\n",
       "      <td>2</td>\n",
       "    </tr>\n",
       "  </tbody>\n",
       "</table>\n",
       "<p>4521 rows × 6 columns</p>\n",
       "</div>"
      ],
      "text/plain": [
       "         a  job  balance  housing  duration  campaign\n",
       "0     30.0   10     1475        0      79.0         1\n",
       "1     33.0    7     2030        1     220.0         1\n",
       "2     35.0    4     1303        1     185.0         1\n",
       "3     30.0    4     1352        1     199.0         4\n",
       "4     59.0    1      274        1     226.0         1\n",
       "...    ...  ...      ...      ...       ...       ...\n",
       "4516  99.0    7      119        1     329.0         5\n",
       "4517  57.0    6        0        1    -153.0         1\n",
       "4518  57.0    9      558        0     151.0        11\n",
       "4519  28.0    1     1187        0     129.0         4\n",
       "4520  44.0    2     1186        1     345.0         2\n",
       "\n",
       "[4521 rows x 6 columns]"
      ]
     },
     "execution_count": 39,
     "metadata": {},
     "output_type": "execute_result"
    }
   ],
   "source": [
    "char"
   ]
  },
  {
   "cell_type": "code",
   "execution_count": 40,
   "id": "c82fb1c2",
   "metadata": {},
   "outputs": [],
   "source": [
    "clean_data =pd.concat([char],axis =1)"
   ]
  },
  {
   "cell_type": "code",
   "execution_count": 41,
   "id": "cd7d20e7",
   "metadata": {},
   "outputs": [],
   "source": [
    "clean_data.to_csv('cr.csv',index= False)"
   ]
  },
  {
   "cell_type": "code",
   "execution_count": 42,
   "id": "45b56ec6",
   "metadata": {},
   "outputs": [],
   "source": [
    "clean_data.dropna(inplace=True)"
   ]
  },
  {
   "cell_type": "code",
   "execution_count": 43,
   "id": "b366b61b",
   "metadata": {},
   "outputs": [],
   "source": [
    "x =clean_data.drop('balance',axis=1)\n",
    "y =clean_data[['balance']]"
   ]
  },
  {
   "cell_type": "code",
   "execution_count": 44,
   "id": "9c3c3154",
   "metadata": {},
   "outputs": [
    {
     "data": {
      "application/vnd.microsoft.datawrangler.viewer.v0+json": {
       "columns": [
        {
         "name": "index",
         "rawType": "int64",
         "type": "integer"
        },
        {
         "name": "a",
         "rawType": "float64",
         "type": "float"
        },
        {
         "name": "job",
         "rawType": "int64",
         "type": "integer"
        },
        {
         "name": "housing",
         "rawType": "int64",
         "type": "integer"
        },
        {
         "name": "duration",
         "rawType": "float64",
         "type": "float"
        },
        {
         "name": "campaign",
         "rawType": "int64",
         "type": "integer"
        }
       ],
       "ref": "7d5aa87e-6f75-4a9e-97f8-8fa0d9d2457b",
       "rows": [
        [
         "0",
         "30.0",
         "10",
         "0",
         "79.0",
         "1"
        ],
        [
         "1",
         "33.0",
         "7",
         "1",
         "220.0",
         "1"
        ],
        [
         "2",
         "35.0",
         "4",
         "1",
         "185.0",
         "1"
        ],
        [
         "3",
         "30.0",
         "4",
         "1",
         "199.0",
         "4"
        ],
        [
         "4",
         "59.0",
         "1",
         "1",
         "226.0",
         "1"
        ],
        [
         "5",
         "35.0",
         "4",
         "0",
         "141.0",
         "2"
        ],
        [
         "6",
         "36.0",
         "6",
         "1",
         "341.0",
         "1"
        ],
        [
         "7",
         "39.0",
         "9",
         "1",
         "151.0",
         "2"
        ],
        [
         "8",
         "41.0",
         "2",
         "1",
         "57.0",
         "2"
        ],
        [
         "9",
         "43.0",
         "7",
         "1",
         "313.0",
         "1"
        ],
        [
         "10",
         "39.0",
         "7",
         "1",
         "273.0",
         "1"
        ],
        [
         "11",
         "43.0",
         "0",
         "1",
         "113.0",
         "2"
        ],
        [
         "12",
         "36.0",
         "9",
         "0",
         "-328.0",
         "2"
        ],
        [
         "13",
         "20.0",
         "8",
         "0",
         "261.0",
         "1"
        ],
        [
         "14",
         "31.0",
         "1",
         "1",
         "89.0",
         "1"
        ],
        [
         "15",
         "40.0",
         "4",
         "0",
         "189.0",
         "2"
        ],
        [
         "16",
         "56.0",
         "9",
         "0",
         "239.0",
         "5"
        ],
        [
         "17",
         "37.0",
         "0",
         "1",
         "114.0",
         "1"
        ],
        [
         "18",
         "25.0",
         "1",
         "2",
         "250.0",
         "1"
        ],
        [
         "19",
         "31.0",
         "7",
         "0",
         "148.0",
         "1"
        ],
        [
         "20",
         "38.0",
         "4",
         "1",
         "-96.0",
         "2"
        ],
        [
         "21",
         "42.0",
         "4",
         "0",
         "140.0",
         "3"
        ],
        [
         "22",
         "44.0",
         "7",
         "0",
         "109.0",
         "2"
        ],
        [
         "23",
         "44.0",
         "2",
         "0",
         "125.0",
         "2"
        ],
        [
         "24",
         "26.0",
         "3",
         "0",
         "169.0",
         "3"
        ],
        [
         "25",
         "41.0",
         "4",
         "0",
         "182.0",
         "2"
        ],
        [
         "26",
         "55.0",
         "1",
         "1",
         "247.0",
         "1"
        ],
        [
         "27",
         "67.0",
         "5",
         "0",
         "119.0",
         "1"
        ],
        [
         "28",
         "56.0",
         "6",
         "0",
         "149.0",
         "2"
        ],
        [
         "29",
         "53.0",
         "0",
         "0",
         "74.0",
         "2"
        ],
        [
         "30",
         "68.0",
         "5",
         "0",
         "897.0",
         "2"
        ],
        [
         "31",
         "31.0",
         "9",
         "0",
         "81.0",
         "3"
        ],
        [
         "32",
         "59.0",
         "4",
         "0",
         "40.0",
         "1"
        ],
        [
         "33",
         "32.0",
         "4",
         "1",
         "958.0",
         "6"
        ],
        [
         "34",
         "49.0",
         "9",
         "0",
         "354.0",
         "3"
        ],
        [
         "35",
         "42.0",
         "0",
         "1",
         "150.0",
         "1"
        ],
        [
         "36",
         "78.0",
         "5",
         "0",
         "97.0",
         "1"
        ],
        [
         "37",
         "32.0",
         "1",
         "1",
         "132.0",
         "1"
        ],
        [
         "38",
         "0.0",
         "4",
         "1",
         "765.0",
         "1"
        ],
        [
         "39",
         "23.0",
         "7",
         "1",
         "16.0",
         "18"
        ],
        [
         "40",
         "38.0",
         "4",
         "1",
         "609.0",
         "2"
        ],
        [
         "41",
         "36.0",
         "4",
         "0",
         "106.0",
         "2"
        ],
        [
         "42",
         "52.0",
         "1",
         "1",
         "365.0",
         "1"
        ],
        [
         "43",
         "32.0",
         "9",
         "1",
         "205.0",
         "3"
        ],
        [
         "44",
         "32.0",
         "9",
         "1",
         "11.0",
         "4"
        ],
        [
         "45",
         "34.0",
         "4",
         "1",
         "105.0",
         "2"
        ],
        [
         "46",
         "55.0",
         "1",
         "0",
         "59.0",
         "3"
        ],
        [
         "47",
         "26.0",
         "1",
         "1",
         "425.0",
         "1"
        ],
        [
         "48",
         "32.0",
         "2",
         "1",
         "204.0",
         "1"
        ],
        [
         "50",
         "45.0",
         "1",
         "0",
         "1018.0",
         "3"
        ]
       ],
       "shape": {
        "columns": 5,
        "rows": 4517
       }
      },
      "text/html": [
       "<div>\n",
       "<style scoped>\n",
       "    .dataframe tbody tr th:only-of-type {\n",
       "        vertical-align: middle;\n",
       "    }\n",
       "\n",
       "    .dataframe tbody tr th {\n",
       "        vertical-align: top;\n",
       "    }\n",
       "\n",
       "    .dataframe thead th {\n",
       "        text-align: right;\n",
       "    }\n",
       "</style>\n",
       "<table border=\"1\" class=\"dataframe\">\n",
       "  <thead>\n",
       "    <tr style=\"text-align: right;\">\n",
       "      <th></th>\n",
       "      <th>a</th>\n",
       "      <th>job</th>\n",
       "      <th>housing</th>\n",
       "      <th>duration</th>\n",
       "      <th>campaign</th>\n",
       "    </tr>\n",
       "  </thead>\n",
       "  <tbody>\n",
       "    <tr>\n",
       "      <th>0</th>\n",
       "      <td>30.0</td>\n",
       "      <td>10</td>\n",
       "      <td>0</td>\n",
       "      <td>79.0</td>\n",
       "      <td>1</td>\n",
       "    </tr>\n",
       "    <tr>\n",
       "      <th>1</th>\n",
       "      <td>33.0</td>\n",
       "      <td>7</td>\n",
       "      <td>1</td>\n",
       "      <td>220.0</td>\n",
       "      <td>1</td>\n",
       "    </tr>\n",
       "    <tr>\n",
       "      <th>2</th>\n",
       "      <td>35.0</td>\n",
       "      <td>4</td>\n",
       "      <td>1</td>\n",
       "      <td>185.0</td>\n",
       "      <td>1</td>\n",
       "    </tr>\n",
       "    <tr>\n",
       "      <th>3</th>\n",
       "      <td>30.0</td>\n",
       "      <td>4</td>\n",
       "      <td>1</td>\n",
       "      <td>199.0</td>\n",
       "      <td>4</td>\n",
       "    </tr>\n",
       "    <tr>\n",
       "      <th>4</th>\n",
       "      <td>59.0</td>\n",
       "      <td>1</td>\n",
       "      <td>1</td>\n",
       "      <td>226.0</td>\n",
       "      <td>1</td>\n",
       "    </tr>\n",
       "    <tr>\n",
       "      <th>...</th>\n",
       "      <td>...</td>\n",
       "      <td>...</td>\n",
       "      <td>...</td>\n",
       "      <td>...</td>\n",
       "      <td>...</td>\n",
       "    </tr>\n",
       "    <tr>\n",
       "      <th>4516</th>\n",
       "      <td>99.0</td>\n",
       "      <td>7</td>\n",
       "      <td>1</td>\n",
       "      <td>329.0</td>\n",
       "      <td>5</td>\n",
       "    </tr>\n",
       "    <tr>\n",
       "      <th>4517</th>\n",
       "      <td>57.0</td>\n",
       "      <td>6</td>\n",
       "      <td>1</td>\n",
       "      <td>-153.0</td>\n",
       "      <td>1</td>\n",
       "    </tr>\n",
       "    <tr>\n",
       "      <th>4518</th>\n",
       "      <td>57.0</td>\n",
       "      <td>9</td>\n",
       "      <td>0</td>\n",
       "      <td>151.0</td>\n",
       "      <td>11</td>\n",
       "    </tr>\n",
       "    <tr>\n",
       "      <th>4519</th>\n",
       "      <td>28.0</td>\n",
       "      <td>1</td>\n",
       "      <td>0</td>\n",
       "      <td>129.0</td>\n",
       "      <td>4</td>\n",
       "    </tr>\n",
       "    <tr>\n",
       "      <th>4520</th>\n",
       "      <td>44.0</td>\n",
       "      <td>2</td>\n",
       "      <td>1</td>\n",
       "      <td>345.0</td>\n",
       "      <td>2</td>\n",
       "    </tr>\n",
       "  </tbody>\n",
       "</table>\n",
       "<p>4517 rows × 5 columns</p>\n",
       "</div>"
      ],
      "text/plain": [
       "         a  job  housing  duration  campaign\n",
       "0     30.0   10        0      79.0         1\n",
       "1     33.0    7        1     220.0         1\n",
       "2     35.0    4        1     185.0         1\n",
       "3     30.0    4        1     199.0         4\n",
       "4     59.0    1        1     226.0         1\n",
       "...    ...  ...      ...       ...       ...\n",
       "4516  99.0    7        1     329.0         5\n",
       "4517  57.0    6        1    -153.0         1\n",
       "4518  57.0    9        0     151.0        11\n",
       "4519  28.0    1        0     129.0         4\n",
       "4520  44.0    2        1     345.0         2\n",
       "\n",
       "[4517 rows x 5 columns]"
      ]
     },
     "execution_count": 44,
     "metadata": {},
     "output_type": "execute_result"
    }
   ],
   "source": [
    "x"
   ]
  },
  {
   "cell_type": "code",
   "execution_count": 45,
   "id": "55470f86",
   "metadata": {},
   "outputs": [
    {
     "data": {
      "application/vnd.microsoft.datawrangler.viewer.v0+json": {
       "columns": [
        {
         "name": "index",
         "rawType": "int64",
         "type": "integer"
        },
        {
         "name": "balance",
         "rawType": "int64",
         "type": "integer"
        }
       ],
       "ref": "81072c53-d655-4106-a763-1eeea845a82c",
       "rows": [
        [
         "0",
         "1475"
        ],
        [
         "1",
         "2030"
        ],
        [
         "2",
         "1303"
        ],
        [
         "3",
         "1352"
        ],
        [
         "4",
         "274"
        ],
        [
         "5",
         "934"
        ],
        [
         "6",
         "569"
        ],
        [
         "7",
         "420"
        ],
        [
         "8",
         "491"
        ],
        [
         "9",
         "218"
        ],
        [
         "10",
         "2254"
        ],
        [
         "11",
         "531"
        ],
        [
         "12",
         "1173"
        ],
        [
         "13",
         "750"
        ],
        [
         "14",
         "620"
        ],
        [
         "15",
         "464"
        ],
        [
         "16",
         "1949"
        ],
        [
         "17",
         "1629"
        ],
        [
         "18",
         "163"
        ],
        [
         "19",
         "405"
        ],
        [
         "20",
         "274"
        ],
        [
         "21",
         "290"
        ],
        [
         "22",
         "380"
        ],
        [
         "23",
         "367"
        ],
        [
         "24",
         "778"
        ],
        [
         "25",
         "2117"
        ],
        [
         "26",
         "845"
        ],
        [
         "27",
         "900"
        ],
        [
         "28",
         "966"
        ],
        [
         "29",
         "379"
        ],
        [
         "30",
         "1965"
        ],
        [
         "31",
         "442"
        ],
        [
         "32",
         "316"
        ],
        [
         "33",
         "1676"
        ],
        [
         "34",
         "1247"
        ],
        [
         "35",
         "1483"
        ],
        [
         "36",
         "499"
        ],
        [
         "37",
         "1565"
        ],
        [
         "38",
         "1928"
        ],
        [
         "39",
         "623"
        ],
        [
         "40",
         "2284"
        ],
        [
         "41",
         "786"
        ],
        [
         "42",
         "1177"
        ],
        [
         "43",
         "652"
        ],
        [
         "44",
         "1599"
        ],
        [
         "45",
         "1029"
        ],
        [
         "46",
         "418"
        ],
        [
         "47",
         "274"
        ],
        [
         "48",
         "27"
        ],
        [
         "50",
         "1012"
        ]
       ],
       "shape": {
        "columns": 1,
        "rows": 4517
       }
      },
      "text/html": [
       "<div>\n",
       "<style scoped>\n",
       "    .dataframe tbody tr th:only-of-type {\n",
       "        vertical-align: middle;\n",
       "    }\n",
       "\n",
       "    .dataframe tbody tr th {\n",
       "        vertical-align: top;\n",
       "    }\n",
       "\n",
       "    .dataframe thead th {\n",
       "        text-align: right;\n",
       "    }\n",
       "</style>\n",
       "<table border=\"1\" class=\"dataframe\">\n",
       "  <thead>\n",
       "    <tr style=\"text-align: right;\">\n",
       "      <th></th>\n",
       "      <th>balance</th>\n",
       "    </tr>\n",
       "  </thead>\n",
       "  <tbody>\n",
       "    <tr>\n",
       "      <th>0</th>\n",
       "      <td>1475</td>\n",
       "    </tr>\n",
       "    <tr>\n",
       "      <th>1</th>\n",
       "      <td>2030</td>\n",
       "    </tr>\n",
       "    <tr>\n",
       "      <th>2</th>\n",
       "      <td>1303</td>\n",
       "    </tr>\n",
       "    <tr>\n",
       "      <th>3</th>\n",
       "      <td>1352</td>\n",
       "    </tr>\n",
       "    <tr>\n",
       "      <th>4</th>\n",
       "      <td>274</td>\n",
       "    </tr>\n",
       "    <tr>\n",
       "      <th>...</th>\n",
       "      <td>...</td>\n",
       "    </tr>\n",
       "    <tr>\n",
       "      <th>4516</th>\n",
       "      <td>119</td>\n",
       "    </tr>\n",
       "    <tr>\n",
       "      <th>4517</th>\n",
       "      <td>0</td>\n",
       "    </tr>\n",
       "    <tr>\n",
       "      <th>4518</th>\n",
       "      <td>558</td>\n",
       "    </tr>\n",
       "    <tr>\n",
       "      <th>4519</th>\n",
       "      <td>1187</td>\n",
       "    </tr>\n",
       "    <tr>\n",
       "      <th>4520</th>\n",
       "      <td>1186</td>\n",
       "    </tr>\n",
       "  </tbody>\n",
       "</table>\n",
       "<p>4517 rows × 1 columns</p>\n",
       "</div>"
      ],
      "text/plain": [
       "      balance\n",
       "0        1475\n",
       "1        2030\n",
       "2        1303\n",
       "3        1352\n",
       "4         274\n",
       "...       ...\n",
       "4516      119\n",
       "4517        0\n",
       "4518      558\n",
       "4519     1187\n",
       "4520     1186\n",
       "\n",
       "[4517 rows x 1 columns]"
      ]
     },
     "execution_count": 45,
     "metadata": {},
     "output_type": "execute_result"
    }
   ],
   "source": [
    "y"
   ]
  },
  {
   "cell_type": "code",
   "execution_count": 46,
   "id": "3725ee1b",
   "metadata": {},
   "outputs": [],
   "source": [
    "from sklearn.model_selection import train_test_split\n",
    "x_train, x_test, y_train, y_test = train_test_split(x, y, test_size=0.2, random_state=42)\n"
   ]
  },
  {
   "cell_type": "code",
   "execution_count": 47,
   "id": "da1180e3",
   "metadata": {},
   "outputs": [
    {
     "data": {
      "text/plain": [
       "((3613, 5), (904, 5), (3613, 1), (904, 1))"
      ]
     },
     "execution_count": 47,
     "metadata": {},
     "output_type": "execute_result"
    }
   ],
   "source": [
    "x_train.shape, x_test.shape, y_train.shape, y_test.shape"
   ]
  },
  {
   "cell_type": "code",
   "execution_count": 48,
   "id": "8e4ccfe9",
   "metadata": {},
   "outputs": [
    {
     "data": {
      "text/html": [
       "<style>#sk-container-id-1 {\n",
       "  /* Definition of color scheme common for light and dark mode */\n",
       "  --sklearn-color-text: #000;\n",
       "  --sklearn-color-text-muted: #666;\n",
       "  --sklearn-color-line: gray;\n",
       "  /* Definition of color scheme for unfitted estimators */\n",
       "  --sklearn-color-unfitted-level-0: #fff5e6;\n",
       "  --sklearn-color-unfitted-level-1: #f6e4d2;\n",
       "  --sklearn-color-unfitted-level-2: #ffe0b3;\n",
       "  --sklearn-color-unfitted-level-3: chocolate;\n",
       "  /* Definition of color scheme for fitted estimators */\n",
       "  --sklearn-color-fitted-level-0: #f0f8ff;\n",
       "  --sklearn-color-fitted-level-1: #d4ebff;\n",
       "  --sklearn-color-fitted-level-2: #b3dbfd;\n",
       "  --sklearn-color-fitted-level-3: cornflowerblue;\n",
       "\n",
       "  /* Specific color for light theme */\n",
       "  --sklearn-color-text-on-default-background: var(--sg-text-color, var(--theme-code-foreground, var(--jp-content-font-color1, black)));\n",
       "  --sklearn-color-background: var(--sg-background-color, var(--theme-background, var(--jp-layout-color0, white)));\n",
       "  --sklearn-color-border-box: var(--sg-text-color, var(--theme-code-foreground, var(--jp-content-font-color1, black)));\n",
       "  --sklearn-color-icon: #696969;\n",
       "\n",
       "  @media (prefers-color-scheme: dark) {\n",
       "    /* Redefinition of color scheme for dark theme */\n",
       "    --sklearn-color-text-on-default-background: var(--sg-text-color, var(--theme-code-foreground, var(--jp-content-font-color1, white)));\n",
       "    --sklearn-color-background: var(--sg-background-color, var(--theme-background, var(--jp-layout-color0, #111)));\n",
       "    --sklearn-color-border-box: var(--sg-text-color, var(--theme-code-foreground, var(--jp-content-font-color1, white)));\n",
       "    --sklearn-color-icon: #878787;\n",
       "  }\n",
       "}\n",
       "\n",
       "#sk-container-id-1 {\n",
       "  color: var(--sklearn-color-text);\n",
       "}\n",
       "\n",
       "#sk-container-id-1 pre {\n",
       "  padding: 0;\n",
       "}\n",
       "\n",
       "#sk-container-id-1 input.sk-hidden--visually {\n",
       "  border: 0;\n",
       "  clip: rect(1px 1px 1px 1px);\n",
       "  clip: rect(1px, 1px, 1px, 1px);\n",
       "  height: 1px;\n",
       "  margin: -1px;\n",
       "  overflow: hidden;\n",
       "  padding: 0;\n",
       "  position: absolute;\n",
       "  width: 1px;\n",
       "}\n",
       "\n",
       "#sk-container-id-1 div.sk-dashed-wrapped {\n",
       "  border: 1px dashed var(--sklearn-color-line);\n",
       "  margin: 0 0.4em 0.5em 0.4em;\n",
       "  box-sizing: border-box;\n",
       "  padding-bottom: 0.4em;\n",
       "  background-color: var(--sklearn-color-background);\n",
       "}\n",
       "\n",
       "#sk-container-id-1 div.sk-container {\n",
       "  /* jupyter's `normalize.less` sets `[hidden] { display: none; }`\n",
       "     but bootstrap.min.css set `[hidden] { display: none !important; }`\n",
       "     so we also need the `!important` here to be able to override the\n",
       "     default hidden behavior on the sphinx rendered scikit-learn.org.\n",
       "     See: https://github.com/scikit-learn/scikit-learn/issues/21755 */\n",
       "  display: inline-block !important;\n",
       "  position: relative;\n",
       "}\n",
       "\n",
       "#sk-container-id-1 div.sk-text-repr-fallback {\n",
       "  display: none;\n",
       "}\n",
       "\n",
       "div.sk-parallel-item,\n",
       "div.sk-serial,\n",
       "div.sk-item {\n",
       "  /* draw centered vertical line to link estimators */\n",
       "  background-image: linear-gradient(var(--sklearn-color-text-on-default-background), var(--sklearn-color-text-on-default-background));\n",
       "  background-size: 2px 100%;\n",
       "  background-repeat: no-repeat;\n",
       "  background-position: center center;\n",
       "}\n",
       "\n",
       "/* Parallel-specific style estimator block */\n",
       "\n",
       "#sk-container-id-1 div.sk-parallel-item::after {\n",
       "  content: \"\";\n",
       "  width: 100%;\n",
       "  border-bottom: 2px solid var(--sklearn-color-text-on-default-background);\n",
       "  flex-grow: 1;\n",
       "}\n",
       "\n",
       "#sk-container-id-1 div.sk-parallel {\n",
       "  display: flex;\n",
       "  align-items: stretch;\n",
       "  justify-content: center;\n",
       "  background-color: var(--sklearn-color-background);\n",
       "  position: relative;\n",
       "}\n",
       "\n",
       "#sk-container-id-1 div.sk-parallel-item {\n",
       "  display: flex;\n",
       "  flex-direction: column;\n",
       "}\n",
       "\n",
       "#sk-container-id-1 div.sk-parallel-item:first-child::after {\n",
       "  align-self: flex-end;\n",
       "  width: 50%;\n",
       "}\n",
       "\n",
       "#sk-container-id-1 div.sk-parallel-item:last-child::after {\n",
       "  align-self: flex-start;\n",
       "  width: 50%;\n",
       "}\n",
       "\n",
       "#sk-container-id-1 div.sk-parallel-item:only-child::after {\n",
       "  width: 0;\n",
       "}\n",
       "\n",
       "/* Serial-specific style estimator block */\n",
       "\n",
       "#sk-container-id-1 div.sk-serial {\n",
       "  display: flex;\n",
       "  flex-direction: column;\n",
       "  align-items: center;\n",
       "  background-color: var(--sklearn-color-background);\n",
       "  padding-right: 1em;\n",
       "  padding-left: 1em;\n",
       "}\n",
       "\n",
       "\n",
       "/* Toggleable style: style used for estimator/Pipeline/ColumnTransformer box that is\n",
       "clickable and can be expanded/collapsed.\n",
       "- Pipeline and ColumnTransformer use this feature and define the default style\n",
       "- Estimators will overwrite some part of the style using the `sk-estimator` class\n",
       "*/\n",
       "\n",
       "/* Pipeline and ColumnTransformer style (default) */\n",
       "\n",
       "#sk-container-id-1 div.sk-toggleable {\n",
       "  /* Default theme specific background. It is overwritten whether we have a\n",
       "  specific estimator or a Pipeline/ColumnTransformer */\n",
       "  background-color: var(--sklearn-color-background);\n",
       "}\n",
       "\n",
       "/* Toggleable label */\n",
       "#sk-container-id-1 label.sk-toggleable__label {\n",
       "  cursor: pointer;\n",
       "  display: flex;\n",
       "  width: 100%;\n",
       "  margin-bottom: 0;\n",
       "  padding: 0.5em;\n",
       "  box-sizing: border-box;\n",
       "  text-align: center;\n",
       "  align-items: start;\n",
       "  justify-content: space-between;\n",
       "  gap: 0.5em;\n",
       "}\n",
       "\n",
       "#sk-container-id-1 label.sk-toggleable__label .caption {\n",
       "  font-size: 0.6rem;\n",
       "  font-weight: lighter;\n",
       "  color: var(--sklearn-color-text-muted);\n",
       "}\n",
       "\n",
       "#sk-container-id-1 label.sk-toggleable__label-arrow:before {\n",
       "  /* Arrow on the left of the label */\n",
       "  content: \"▸\";\n",
       "  float: left;\n",
       "  margin-right: 0.25em;\n",
       "  color: var(--sklearn-color-icon);\n",
       "}\n",
       "\n",
       "#sk-container-id-1 label.sk-toggleable__label-arrow:hover:before {\n",
       "  color: var(--sklearn-color-text);\n",
       "}\n",
       "\n",
       "/* Toggleable content - dropdown */\n",
       "\n",
       "#sk-container-id-1 div.sk-toggleable__content {\n",
       "  display: none;\n",
       "  text-align: left;\n",
       "  /* unfitted */\n",
       "  background-color: var(--sklearn-color-unfitted-level-0);\n",
       "}\n",
       "\n",
       "#sk-container-id-1 div.sk-toggleable__content.fitted {\n",
       "  /* fitted */\n",
       "  background-color: var(--sklearn-color-fitted-level-0);\n",
       "}\n",
       "\n",
       "#sk-container-id-1 div.sk-toggleable__content pre {\n",
       "  margin: 0.2em;\n",
       "  border-radius: 0.25em;\n",
       "  color: var(--sklearn-color-text);\n",
       "  /* unfitted */\n",
       "  background-color: var(--sklearn-color-unfitted-level-0);\n",
       "}\n",
       "\n",
       "#sk-container-id-1 div.sk-toggleable__content.fitted pre {\n",
       "  /* unfitted */\n",
       "  background-color: var(--sklearn-color-fitted-level-0);\n",
       "}\n",
       "\n",
       "#sk-container-id-1 input.sk-toggleable__control:checked~div.sk-toggleable__content {\n",
       "  /* Expand drop-down */\n",
       "  display: block;\n",
       "  width: 100%;\n",
       "  overflow: visible;\n",
       "}\n",
       "\n",
       "#sk-container-id-1 input.sk-toggleable__control:checked~label.sk-toggleable__label-arrow:before {\n",
       "  content: \"▾\";\n",
       "}\n",
       "\n",
       "/* Pipeline/ColumnTransformer-specific style */\n",
       "\n",
       "#sk-container-id-1 div.sk-label input.sk-toggleable__control:checked~label.sk-toggleable__label {\n",
       "  color: var(--sklearn-color-text);\n",
       "  background-color: var(--sklearn-color-unfitted-level-2);\n",
       "}\n",
       "\n",
       "#sk-container-id-1 div.sk-label.fitted input.sk-toggleable__control:checked~label.sk-toggleable__label {\n",
       "  background-color: var(--sklearn-color-fitted-level-2);\n",
       "}\n",
       "\n",
       "/* Estimator-specific style */\n",
       "\n",
       "/* Colorize estimator box */\n",
       "#sk-container-id-1 div.sk-estimator input.sk-toggleable__control:checked~label.sk-toggleable__label {\n",
       "  /* unfitted */\n",
       "  background-color: var(--sklearn-color-unfitted-level-2);\n",
       "}\n",
       "\n",
       "#sk-container-id-1 div.sk-estimator.fitted input.sk-toggleable__control:checked~label.sk-toggleable__label {\n",
       "  /* fitted */\n",
       "  background-color: var(--sklearn-color-fitted-level-2);\n",
       "}\n",
       "\n",
       "#sk-container-id-1 div.sk-label label.sk-toggleable__label,\n",
       "#sk-container-id-1 div.sk-label label {\n",
       "  /* The background is the default theme color */\n",
       "  color: var(--sklearn-color-text-on-default-background);\n",
       "}\n",
       "\n",
       "/* On hover, darken the color of the background */\n",
       "#sk-container-id-1 div.sk-label:hover label.sk-toggleable__label {\n",
       "  color: var(--sklearn-color-text);\n",
       "  background-color: var(--sklearn-color-unfitted-level-2);\n",
       "}\n",
       "\n",
       "/* Label box, darken color on hover, fitted */\n",
       "#sk-container-id-1 div.sk-label.fitted:hover label.sk-toggleable__label.fitted {\n",
       "  color: var(--sklearn-color-text);\n",
       "  background-color: var(--sklearn-color-fitted-level-2);\n",
       "}\n",
       "\n",
       "/* Estimator label */\n",
       "\n",
       "#sk-container-id-1 div.sk-label label {\n",
       "  font-family: monospace;\n",
       "  font-weight: bold;\n",
       "  display: inline-block;\n",
       "  line-height: 1.2em;\n",
       "}\n",
       "\n",
       "#sk-container-id-1 div.sk-label-container {\n",
       "  text-align: center;\n",
       "}\n",
       "\n",
       "/* Estimator-specific */\n",
       "#sk-container-id-1 div.sk-estimator {\n",
       "  font-family: monospace;\n",
       "  border: 1px dotted var(--sklearn-color-border-box);\n",
       "  border-radius: 0.25em;\n",
       "  box-sizing: border-box;\n",
       "  margin-bottom: 0.5em;\n",
       "  /* unfitted */\n",
       "  background-color: var(--sklearn-color-unfitted-level-0);\n",
       "}\n",
       "\n",
       "#sk-container-id-1 div.sk-estimator.fitted {\n",
       "  /* fitted */\n",
       "  background-color: var(--sklearn-color-fitted-level-0);\n",
       "}\n",
       "\n",
       "/* on hover */\n",
       "#sk-container-id-1 div.sk-estimator:hover {\n",
       "  /* unfitted */\n",
       "  background-color: var(--sklearn-color-unfitted-level-2);\n",
       "}\n",
       "\n",
       "#sk-container-id-1 div.sk-estimator.fitted:hover {\n",
       "  /* fitted */\n",
       "  background-color: var(--sklearn-color-fitted-level-2);\n",
       "}\n",
       "\n",
       "/* Specification for estimator info (e.g. \"i\" and \"?\") */\n",
       "\n",
       "/* Common style for \"i\" and \"?\" */\n",
       "\n",
       ".sk-estimator-doc-link,\n",
       "a:link.sk-estimator-doc-link,\n",
       "a:visited.sk-estimator-doc-link {\n",
       "  float: right;\n",
       "  font-size: smaller;\n",
       "  line-height: 1em;\n",
       "  font-family: monospace;\n",
       "  background-color: var(--sklearn-color-background);\n",
       "  border-radius: 1em;\n",
       "  height: 1em;\n",
       "  width: 1em;\n",
       "  text-decoration: none !important;\n",
       "  margin-left: 0.5em;\n",
       "  text-align: center;\n",
       "  /* unfitted */\n",
       "  border: var(--sklearn-color-unfitted-level-1) 1pt solid;\n",
       "  color: var(--sklearn-color-unfitted-level-1);\n",
       "}\n",
       "\n",
       ".sk-estimator-doc-link.fitted,\n",
       "a:link.sk-estimator-doc-link.fitted,\n",
       "a:visited.sk-estimator-doc-link.fitted {\n",
       "  /* fitted */\n",
       "  border: var(--sklearn-color-fitted-level-1) 1pt solid;\n",
       "  color: var(--sklearn-color-fitted-level-1);\n",
       "}\n",
       "\n",
       "/* On hover */\n",
       "div.sk-estimator:hover .sk-estimator-doc-link:hover,\n",
       ".sk-estimator-doc-link:hover,\n",
       "div.sk-label-container:hover .sk-estimator-doc-link:hover,\n",
       ".sk-estimator-doc-link:hover {\n",
       "  /* unfitted */\n",
       "  background-color: var(--sklearn-color-unfitted-level-3);\n",
       "  color: var(--sklearn-color-background);\n",
       "  text-decoration: none;\n",
       "}\n",
       "\n",
       "div.sk-estimator.fitted:hover .sk-estimator-doc-link.fitted:hover,\n",
       ".sk-estimator-doc-link.fitted:hover,\n",
       "div.sk-label-container:hover .sk-estimator-doc-link.fitted:hover,\n",
       ".sk-estimator-doc-link.fitted:hover {\n",
       "  /* fitted */\n",
       "  background-color: var(--sklearn-color-fitted-level-3);\n",
       "  color: var(--sklearn-color-background);\n",
       "  text-decoration: none;\n",
       "}\n",
       "\n",
       "/* Span, style for the box shown on hovering the info icon */\n",
       ".sk-estimator-doc-link span {\n",
       "  display: none;\n",
       "  z-index: 9999;\n",
       "  position: relative;\n",
       "  font-weight: normal;\n",
       "  right: .2ex;\n",
       "  padding: .5ex;\n",
       "  margin: .5ex;\n",
       "  width: min-content;\n",
       "  min-width: 20ex;\n",
       "  max-width: 50ex;\n",
       "  color: var(--sklearn-color-text);\n",
       "  box-shadow: 2pt 2pt 4pt #999;\n",
       "  /* unfitted */\n",
       "  background: var(--sklearn-color-unfitted-level-0);\n",
       "  border: .5pt solid var(--sklearn-color-unfitted-level-3);\n",
       "}\n",
       "\n",
       ".sk-estimator-doc-link.fitted span {\n",
       "  /* fitted */\n",
       "  background: var(--sklearn-color-fitted-level-0);\n",
       "  border: var(--sklearn-color-fitted-level-3);\n",
       "}\n",
       "\n",
       ".sk-estimator-doc-link:hover span {\n",
       "  display: block;\n",
       "}\n",
       "\n",
       "/* \"?\"-specific style due to the `<a>` HTML tag */\n",
       "\n",
       "#sk-container-id-1 a.estimator_doc_link {\n",
       "  float: right;\n",
       "  font-size: 1rem;\n",
       "  line-height: 1em;\n",
       "  font-family: monospace;\n",
       "  background-color: var(--sklearn-color-background);\n",
       "  border-radius: 1rem;\n",
       "  height: 1rem;\n",
       "  width: 1rem;\n",
       "  text-decoration: none;\n",
       "  /* unfitted */\n",
       "  color: var(--sklearn-color-unfitted-level-1);\n",
       "  border: var(--sklearn-color-unfitted-level-1) 1pt solid;\n",
       "}\n",
       "\n",
       "#sk-container-id-1 a.estimator_doc_link.fitted {\n",
       "  /* fitted */\n",
       "  border: var(--sklearn-color-fitted-level-1) 1pt solid;\n",
       "  color: var(--sklearn-color-fitted-level-1);\n",
       "}\n",
       "\n",
       "/* On hover */\n",
       "#sk-container-id-1 a.estimator_doc_link:hover {\n",
       "  /* unfitted */\n",
       "  background-color: var(--sklearn-color-unfitted-level-3);\n",
       "  color: var(--sklearn-color-background);\n",
       "  text-decoration: none;\n",
       "}\n",
       "\n",
       "#sk-container-id-1 a.estimator_doc_link.fitted:hover {\n",
       "  /* fitted */\n",
       "  background-color: var(--sklearn-color-fitted-level-3);\n",
       "}\n",
       "\n",
       ".estimator-table summary {\n",
       "    padding: .5rem;\n",
       "    font-family: monospace;\n",
       "    cursor: pointer;\n",
       "}\n",
       "\n",
       ".estimator-table details[open] {\n",
       "    padding-left: 0.1rem;\n",
       "    padding-right: 0.1rem;\n",
       "    padding-bottom: 0.3rem;\n",
       "}\n",
       "\n",
       ".estimator-table .parameters-table {\n",
       "    margin-left: auto !important;\n",
       "    margin-right: auto !important;\n",
       "}\n",
       "\n",
       ".estimator-table .parameters-table tr:nth-child(odd) {\n",
       "    background-color: #fff;\n",
       "}\n",
       "\n",
       ".estimator-table .parameters-table tr:nth-child(even) {\n",
       "    background-color: #f6f6f6;\n",
       "}\n",
       "\n",
       ".estimator-table .parameters-table tr:hover {\n",
       "    background-color: #e0e0e0;\n",
       "}\n",
       "\n",
       ".estimator-table table td {\n",
       "    border: 1px solid rgba(106, 105, 104, 0.232);\n",
       "}\n",
       "\n",
       ".user-set td {\n",
       "    color:rgb(255, 94, 0);\n",
       "    text-align: left;\n",
       "}\n",
       "\n",
       ".user-set td.value pre {\n",
       "    color:rgb(255, 94, 0) !important;\n",
       "    background-color: transparent !important;\n",
       "}\n",
       "\n",
       ".default td {\n",
       "    color: black;\n",
       "    text-align: left;\n",
       "}\n",
       "\n",
       ".user-set td i,\n",
       ".default td i {\n",
       "    color: black;\n",
       "}\n",
       "\n",
       ".copy-paste-icon {\n",
       "    background-image: url(data:image/svg+xml;base64,PHN2ZyB4bWxucz0iaHR0cDovL3d3dy53My5vcmcvMjAwMC9zdmciIHZpZXdCb3g9IjAgMCA0NDggNTEyIj48IS0tIUZvbnQgQXdlc29tZSBGcmVlIDYuNy4yIGJ5IEBmb250YXdlc29tZSAtIGh0dHBzOi8vZm9udGF3ZXNvbWUuY29tIExpY2Vuc2UgLSBodHRwczovL2ZvbnRhd2Vzb21lLmNvbS9saWNlbnNlL2ZyZWUgQ29weXJpZ2h0IDIwMjUgRm9udGljb25zLCBJbmMuLS0+PHBhdGggZD0iTTIwOCAwTDMzMi4xIDBjMTIuNyAwIDI0LjkgNS4xIDMzLjkgMTQuMWw2Ny45IDY3LjljOSA5IDE0LjEgMjEuMiAxNC4xIDMzLjlMNDQ4IDMzNmMwIDI2LjUtMjEuNSA0OC00OCA0OGwtMTkyIDBjLTI2LjUgMC00OC0yMS41LTQ4LTQ4bDAtMjg4YzAtMjYuNSAyMS41LTQ4IDQ4LTQ4ek00OCAxMjhsODAgMCAwIDY0LTY0IDAgMCAyNTYgMTkyIDAgMC0zMiA2NCAwIDAgNDhjMCAyNi41LTIxLjUgNDgtNDggNDhMNDggNTEyYy0yNi41IDAtNDgtMjEuNS00OC00OEwwIDE3NmMwLTI2LjUgMjEuNS00OCA0OC00OHoiLz48L3N2Zz4=);\n",
       "    background-repeat: no-repeat;\n",
       "    background-size: 14px 14px;\n",
       "    background-position: 0;\n",
       "    display: inline-block;\n",
       "    width: 14px;\n",
       "    height: 14px;\n",
       "    cursor: pointer;\n",
       "}\n",
       "</style><body><div id=\"sk-container-id-1\" class=\"sk-top-container\"><div class=\"sk-text-repr-fallback\"><pre>LinearRegression()</pre><b>In a Jupyter environment, please rerun this cell to show the HTML representation or trust the notebook. <br />On GitHub, the HTML representation is unable to render, please try loading this page with nbviewer.org.</b></div><div class=\"sk-container\" hidden><div class=\"sk-item\"><div class=\"sk-estimator fitted sk-toggleable\"><input class=\"sk-toggleable__control sk-hidden--visually\" id=\"sk-estimator-id-1\" type=\"checkbox\" checked><label for=\"sk-estimator-id-1\" class=\"sk-toggleable__label fitted sk-toggleable__label-arrow\"><div><div>LinearRegression</div></div><div><a class=\"sk-estimator-doc-link fitted\" rel=\"noreferrer\" target=\"_blank\" href=\"https://scikit-learn.org/1.7/modules/generated/sklearn.linear_model.LinearRegression.html\">?<span>Documentation for LinearRegression</span></a><span class=\"sk-estimator-doc-link fitted\">i<span>Fitted</span></span></div></label><div class=\"sk-toggleable__content fitted\" data-param-prefix=\"\">\n",
       "        <div class=\"estimator-table\">\n",
       "            <details>\n",
       "                <summary>Parameters</summary>\n",
       "                <table class=\"parameters-table\">\n",
       "                  <tbody>\n",
       "                    \n",
       "        <tr class=\"default\">\n",
       "            <td><i class=\"copy-paste-icon\"\n",
       "                 onclick=\"copyToClipboard('fit_intercept',\n",
       "                          this.parentElement.nextElementSibling)\"\n",
       "            ></i></td>\n",
       "            <td class=\"param\">fit_intercept&nbsp;</td>\n",
       "            <td class=\"value\">True</td>\n",
       "        </tr>\n",
       "    \n",
       "\n",
       "        <tr class=\"default\">\n",
       "            <td><i class=\"copy-paste-icon\"\n",
       "                 onclick=\"copyToClipboard('copy_X',\n",
       "                          this.parentElement.nextElementSibling)\"\n",
       "            ></i></td>\n",
       "            <td class=\"param\">copy_X&nbsp;</td>\n",
       "            <td class=\"value\">True</td>\n",
       "        </tr>\n",
       "    \n",
       "\n",
       "        <tr class=\"default\">\n",
       "            <td><i class=\"copy-paste-icon\"\n",
       "                 onclick=\"copyToClipboard('tol',\n",
       "                          this.parentElement.nextElementSibling)\"\n",
       "            ></i></td>\n",
       "            <td class=\"param\">tol&nbsp;</td>\n",
       "            <td class=\"value\">1e-06</td>\n",
       "        </tr>\n",
       "    \n",
       "\n",
       "        <tr class=\"default\">\n",
       "            <td><i class=\"copy-paste-icon\"\n",
       "                 onclick=\"copyToClipboard('n_jobs',\n",
       "                          this.parentElement.nextElementSibling)\"\n",
       "            ></i></td>\n",
       "            <td class=\"param\">n_jobs&nbsp;</td>\n",
       "            <td class=\"value\">None</td>\n",
       "        </tr>\n",
       "    \n",
       "\n",
       "        <tr class=\"default\">\n",
       "            <td><i class=\"copy-paste-icon\"\n",
       "                 onclick=\"copyToClipboard('positive',\n",
       "                          this.parentElement.nextElementSibling)\"\n",
       "            ></i></td>\n",
       "            <td class=\"param\">positive&nbsp;</td>\n",
       "            <td class=\"value\">False</td>\n",
       "        </tr>\n",
       "    \n",
       "                  </tbody>\n",
       "                </table>\n",
       "            </details>\n",
       "        </div>\n",
       "    </div></div></div></div></div><script>function copyToClipboard(text, element) {\n",
       "    // Get the parameter prefix from the closest toggleable content\n",
       "    const toggleableContent = element.closest('.sk-toggleable__content');\n",
       "    const paramPrefix = toggleableContent ? toggleableContent.dataset.paramPrefix : '';\n",
       "    const fullParamName = paramPrefix ? `${paramPrefix}${text}` : text;\n",
       "\n",
       "    const originalStyle = element.style;\n",
       "    const computedStyle = window.getComputedStyle(element);\n",
       "    const originalWidth = computedStyle.width;\n",
       "    const originalHTML = element.innerHTML.replace('Copied!', '');\n",
       "\n",
       "    navigator.clipboard.writeText(fullParamName)\n",
       "        .then(() => {\n",
       "            element.style.width = originalWidth;\n",
       "            element.style.color = 'green';\n",
       "            element.innerHTML = \"Copied!\";\n",
       "\n",
       "            setTimeout(() => {\n",
       "                element.innerHTML = originalHTML;\n",
       "                element.style = originalStyle;\n",
       "            }, 2000);\n",
       "        })\n",
       "        .catch(err => {\n",
       "            console.error('Failed to copy:', err);\n",
       "            element.style.color = 'red';\n",
       "            element.innerHTML = \"Failed!\";\n",
       "            setTimeout(() => {\n",
       "                element.innerHTML = originalHTML;\n",
       "                element.style = originalStyle;\n",
       "            }, 2000);\n",
       "        });\n",
       "    return false;\n",
       "}\n",
       "\n",
       "document.querySelectorAll('.fa-regular.fa-copy').forEach(function(element) {\n",
       "    const toggleableContent = element.closest('.sk-toggleable__content');\n",
       "    const paramPrefix = toggleableContent ? toggleableContent.dataset.paramPrefix : '';\n",
       "    const paramName = element.parentElement.nextElementSibling.textContent.trim();\n",
       "    const fullParamName = paramPrefix ? `${paramPrefix}${paramName}` : paramName;\n",
       "\n",
       "    element.setAttribute('title', fullParamName);\n",
       "});\n",
       "</script></body>"
      ],
      "text/plain": [
       "LinearRegression()"
      ]
     },
     "execution_count": 48,
     "metadata": {},
     "output_type": "execute_result"
    }
   ],
   "source": [
    "\n",
    "from sklearn.linear_model import LinearRegression\n",
    "lr = LinearRegression()\n",
    "lr.fit(x_train, y_train)"
   ]
  },
  {
   "cell_type": "code",
   "execution_count": 49,
   "id": "3b7efe03",
   "metadata": {},
   "outputs": [
    {
     "data": {
      "text/plain": [
       "0.007617109614654449"
      ]
     },
     "execution_count": 49,
     "metadata": {},
     "output_type": "execute_result"
    }
   ],
   "source": [
    "lr.score(x_train, y_train)"
   ]
  },
  {
   "cell_type": "code",
   "execution_count": 50,
   "id": "22b95c66",
   "metadata": {},
   "outputs": [
    {
     "data": {
      "text/plain": [
       "0.007940831478222776"
      ]
     },
     "execution_count": 50,
     "metadata": {},
     "output_type": "execute_result"
    }
   ],
   "source": [
    "lr.score(x_test, y_test)"
   ]
  },
  {
   "cell_type": "code",
   "execution_count": 51,
   "id": "7e0fbdb0",
   "metadata": {},
   "outputs": [],
   "source": [
    "pred = lr.predict(x_test)"
   ]
  },
  {
   "cell_type": "code",
   "execution_count": 52,
   "id": "cd94e0f9",
   "metadata": {},
   "outputs": [
    {
     "data": {
      "text/plain": [
       "array([[ 899.3902161 ],\n",
       "       [ 849.99710681],\n",
       "       [ 886.72657879],\n",
       "       [ 732.16060902],\n",
       "       [ 886.8114963 ],\n",
       "       [ 908.65117559],\n",
       "       [ 948.50264186],\n",
       "       [ 849.99194699],\n",
       "       [ 880.09572191],\n",
       "       [ 852.86414093],\n",
       "       [ 868.32437717],\n",
       "       [ 839.0378067 ],\n",
       "       [ 901.97269377],\n",
       "       [ 886.83678453],\n",
       "       [ 924.19137764],\n",
       "       [1040.75888401],\n",
       "       [ 939.4052444 ],\n",
       "       [ 874.65637747],\n",
       "       [ 889.92868197],\n",
       "       [ 849.98838104],\n",
       "       [ 896.41030178],\n",
       "       [ 862.08570807],\n",
       "       [ 911.8633595 ],\n",
       "       [ 926.63435396],\n",
       "       [ 865.38792509],\n",
       "       [ 862.29184036],\n",
       "       [ 933.44951039],\n",
       "       [ 883.76952695],\n",
       "       [ 899.45029435],\n",
       "       [ 939.43420663],\n",
       "       [ 924.15419312],\n",
       "       [ 873.83067189],\n",
       "       [ 874.46487239],\n",
       "       [ 924.00372827],\n",
       "       [ 890.20308269],\n",
       "       [ 893.0973501 ],\n",
       "       [ 917.91688967],\n",
       "       [ 849.99548592],\n",
       "       [ 927.05137812],\n",
       "       [ 871.4705666 ],\n",
       "       [ 865.43349642],\n",
       "       [ 856.13781815],\n",
       "       [ 819.33914495],\n",
       "       [ 908.76861569],\n",
       "       [ 933.19279694],\n",
       "       [ 845.52710851],\n",
       "       [ 896.29358127],\n",
       "       [ 849.52054229],\n",
       "       [ 847.94906992],\n",
       "       [ 859.22431264],\n",
       "       [ 905.32011662],\n",
       "       [ 865.40193836],\n",
       "       [ 939.47469676],\n",
       "       [ 859.91505115],\n",
       "       [ 927.23912076],\n",
       "       [ 899.48883432],\n",
       "       [ 859.19878129],\n",
       "       [ 848.90065221],\n",
       "       [ 892.90815847],\n",
       "       [ 884.85962439],\n",
       "       [ 877.40088472],\n",
       "       [ 846.86985203],\n",
       "       [ 874.43695393],\n",
       "       [ 927.27827736],\n",
       "       [ 833.6550235 ],\n",
       "       [ 873.46478907],\n",
       "       [ 849.52659359],\n",
       "       [ 976.70792282],\n",
       "       [ 967.00930731],\n",
       "       [ 855.96732314],\n",
       "       [ 874.47783947],\n",
       "       [ 840.45255649],\n",
       "       [ 899.29710331],\n",
       "       [ 838.8152028 ],\n",
       "       [ 948.68642073],\n",
       "       [ 871.07458452],\n",
       "       [ 871.58652648],\n",
       "       [ 868.4724205 ],\n",
       "       [ 936.28193887],\n",
       "       [ 871.60003627],\n",
       "       [ 905.25270225],\n",
       "       [ 865.22919132],\n",
       "       [ 880.54275689],\n",
       "       [ 898.83125154],\n",
       "       [ 893.26067638],\n",
       "       [ 945.61656974],\n",
       "       [ 936.3860681 ],\n",
       "       [ 871.41761044],\n",
       "       [ 936.49168133],\n",
       "       [ 979.4096856 ],\n",
       "       [ 830.77535387],\n",
       "       [ 880.64348784],\n",
       "       [ 939.58144461],\n",
       "       [ 923.96994519],\n",
       "       [ 982.68490266],\n",
       "       [ 982.90952285],\n",
       "       [ 908.53416953],\n",
       "       [ 852.59966175],\n",
       "       [ 865.44276248],\n",
       "       [ 840.7236567 ],\n",
       "       [ 862.40601169],\n",
       "       [ 930.18125332],\n",
       "       [ 936.53189622],\n",
       "       [ 827.27342909],\n",
       "       [ 899.45069957],\n",
       "       [ 964.12766318],\n",
       "       [ 886.11291192],\n",
       "       [ 837.36028084],\n",
       "       [ 942.70557778],\n",
       "       [ 945.74086978],\n",
       "       [ 846.4049431 ],\n",
       "       [ 951.77033901],\n",
       "       [ 913.25019704],\n",
       "       [ 877.75711855],\n",
       "       [ 834.13345204],\n",
       "       [ 939.57262799],\n",
       "       [ 887.0260572 ],\n",
       "       [ 849.54696513],\n",
       "       [ 908.36464706],\n",
       "       [ 973.68483919],\n",
       "       [ 890.22680406],\n",
       "       [ 920.93804495],\n",
       "       [ 979.81349214],\n",
       "       [ 862.31156355],\n",
       "       [ 890.1136765 ],\n",
       "       [ 899.16986424],\n",
       "       [ 902.4739723 ],\n",
       "       [ 856.15670387],\n",
       "       [ 896.22156941],\n",
       "       [ 896.29710299],\n",
       "       [ 886.59961968],\n",
       "       [ 951.83650538],\n",
       "       [ 846.62309695],\n",
       "       [ 887.08609352],\n",
       "       [ 927.19702223],\n",
       "       [ 865.39787633],\n",
       "       [ 899.44428726],\n",
       "       [ 911.65788537],\n",
       "       [ 890.11146129],\n",
       "       [ 948.91553518],\n",
       "       [ 855.75291453],\n",
       "       [ 879.84996905],\n",
       "       [ 874.67726229],\n",
       "       [ 896.16757929],\n",
       "       [ 899.42336294],\n",
       "       [ 902.47564721],\n",
       "       [ 970.4960498 ],\n",
       "       [ 855.15023017],\n",
       "       [ 939.62449847],\n",
       "       [ 900.26775174],\n",
       "       [ 827.38435622],\n",
       "       [ 964.1619031 ],\n",
       "       [ 840.51634557],\n",
       "       [ 923.1747785 ],\n",
       "       [ 877.84786567],\n",
       "       [ 830.78921485],\n",
       "       [ 926.27622196],\n",
       "       [ 874.69677407],\n",
       "       [ 954.48259332],\n",
       "       [ 908.08079117],\n",
       "       [ 905.48030387],\n",
       "       [ 948.91496787],\n",
       "       [ 877.5329306 ],\n",
       "       [ 893.11679332],\n",
       "       [ 902.58224459],\n",
       "       [ 880.83771402],\n",
       "       [ 867.94492544],\n",
       "       [ 837.62515784],\n",
       "       [ 930.28370583],\n",
       "       [ 859.20529184],\n",
       "       [ 876.72149861],\n",
       "       [ 871.35356613],\n",
       "       [ 924.16722913],\n",
       "       [ 862.29981213],\n",
       "       [ 927.25747868],\n",
       "       [ 874.38688786],\n",
       "       [ 886.19993658],\n",
       "       [ 874.49488819],\n",
       "       [ 865.17937129],\n",
       "       [ 908.6475458 ],\n",
       "       [ 936.51135049],\n",
       "       [ 979.16734131],\n",
       "       [ 933.39945971],\n",
       "       [ 833.473757  ],\n",
       "       [ 927.19440421],\n",
       "       [ 914.27989094],\n",
       "       [ 865.20584816],\n",
       "       [ 904.195306  ],\n",
       "       [ 814.96934601],\n",
       "       [ 868.05435755],\n",
       "       [ 905.60434829],\n",
       "       [ 852.64633827],\n",
       "       [ 902.34726794],\n",
       "       [ 836.54579619],\n",
       "       [ 914.48253361],\n",
       "       [ 838.90267133],\n",
       "       [ 924.09347162],\n",
       "       [ 892.98606935],\n",
       "       [ 870.5619924 ],\n",
       "       [ 905.62407887],\n",
       "       [ 890.23280133],\n",
       "       [ 967.01238457],\n",
       "       [ 889.570368  ],\n",
       "       [ 874.65193724],\n",
       "       [ 902.59109804],\n",
       "       [ 908.77281279],\n",
       "       [ 804.19541864],\n",
       "       [ 871.68273058],\n",
       "       [ 883.82633132],\n",
       "       [ 933.42050662],\n",
       "       [ 998.35696149],\n",
       "       [ 855.97223983],\n",
       "       [ 899.22130248],\n",
       "       [ 896.29025845],\n",
       "       [ 895.87847516],\n",
       "       [ 852.88117984],\n",
       "       [ 789.18094769],\n",
       "       [ 908.66317255],\n",
       "       [ 883.71392576],\n",
       "       [ 892.66389614],\n",
       "       [ 926.8159375 ],\n",
       "       [ 730.82675867],\n",
       "       [ 840.70831971],\n",
       "       [ 637.12020956],\n",
       "       [ 886.78445454],\n",
       "       [ 827.71079777],\n",
       "       [ 899.38507349],\n",
       "       [ 883.94682228],\n",
       "       [ 970.54229407],\n",
       "       [ 821.08813616],\n",
       "       [ 905.41831268],\n",
       "       [ 929.87337891],\n",
       "       [ 865.39046448],\n",
       "       [ 880.86764139],\n",
       "       [ 896.10926211],\n",
       "       [ 840.48058543],\n",
       "       [ 880.22194   ],\n",
       "       [ 920.89403308],\n",
       "       [ 868.16758336],\n",
       "       [ 918.04163356],\n",
       "       [ 864.5823209 ],\n",
       "       [ 973.60766061],\n",
       "       [ 883.29775385],\n",
       "       [ 899.43612881],\n",
       "       [ 989.08930235],\n",
       "       [ 995.26480371],\n",
       "       [ 811.65055914],\n",
       "       [ 933.22879752],\n",
       "       [ 899.3581668 ],\n",
       "       [ 855.96745822],\n",
       "       [ 864.55926509],\n",
       "       [ 894.12717547],\n",
       "       [ 936.51271843],\n",
       "       [ 877.5455563 ],\n",
       "       [ 933.25735453],\n",
       "       [ 899.44174787],\n",
       "       [ 944.97529137],\n",
       "       [ 929.77436709],\n",
       "       [ 849.36958137],\n",
       "       [ 973.634722  ],\n",
       "       [ 849.93762289],\n",
       "       [ 877.78322703],\n",
       "       [ 927.25157456],\n",
       "       [ 905.43994881],\n",
       "       [ 936.31936144],\n",
       "       [ 886.81541344],\n",
       "       [ 960.50462878],\n",
       "       [ 849.91776705],\n",
       "       [ 890.16743329],\n",
       "       [ 890.20937713],\n",
       "       [ 862.37121312],\n",
       "       [ 877.39588699],\n",
       "       [ 886.91212343],\n",
       "       [ 945.41012308],\n",
       "       [ 945.38264666],\n",
       "       [ 889.6150012 ],\n",
       "       [ 880.44954162],\n",
       "       [ 858.84016785],\n",
       "       [ 989.08176523],\n",
       "       [ 862.18062527],\n",
       "       [ 877.74335823],\n",
       "       [ 858.17243721],\n",
       "       [ 908.7924181 ],\n",
       "       [ 889.8141981 ],\n",
       "       [ 979.87091313],\n",
       "       [ 896.15842129],\n",
       "       [ 902.24433717],\n",
       "       [ 857.9675476 ],\n",
       "       [ 908.24490088],\n",
       "       [ 861.49150405],\n",
       "       [ 883.72251645],\n",
       "       [ 859.02405236],\n",
       "       [ 892.70554791],\n",
       "       [ 899.17622252],\n",
       "       [ 970.58188291],\n",
       "       [ 976.70414076],\n",
       "       [ 883.99737171],\n",
       "       [ 908.488004  ],\n",
       "       [ 789.63349368],\n",
       "       [ 908.50977789],\n",
       "       [ 828.12509826],\n",
       "       [ 871.69285372],\n",
       "       [ 871.56025592],\n",
       "       [ 893.05485616],\n",
       "       [ 887.12821435],\n",
       "       [ 933.05777943],\n",
       "       [ 880.63603177],\n",
       "       [ 849.5117797 ],\n",
       "       [ 877.80282725],\n",
       "       [ 889.92411648],\n",
       "       [ 859.30790085],\n",
       "       [ 836.79013956],\n",
       "       [ 846.62625768],\n",
       "       [ 955.06457687],\n",
       "       [ 814.09174765],\n",
       "       [ 846.68587667],\n",
       "       [ 893.22400042],\n",
       "       [ 870.39495019],\n",
       "       [ 862.08516778],\n",
       "       [ 989.08706012],\n",
       "       [ 853.05021605],\n",
       "       [ 929.79676474],\n",
       "       [ 911.82748888],\n",
       "       [ 883.5411419 ],\n",
       "       [ 905.41178722],\n",
       "       [ 890.09318951],\n",
       "       [ 877.6007989 ],\n",
       "       [ 936.25423653],\n",
       "       [ 856.16931237],\n",
       "       [ 936.49474381],\n",
       "       [ 890.21762644],\n",
       "       [ 862.29029071],\n",
       "       [ 958.17873689],\n",
       "       [ 868.4991405 ],\n",
       "       [ 899.17827564],\n",
       "       [ 880.9099266 ],\n",
       "       [ 921.06744338],\n",
       "       [ 862.14817343],\n",
       "       [ 907.64988641],\n",
       "       [ 911.54057053],\n",
       "       [ 853.08862605],\n",
       "       [ 911.80488022],\n",
       "       [ 837.187885  ],\n",
       "       [ 899.17449357],\n",
       "       [ 840.65979639],\n",
       "       [ 856.15843282],\n",
       "       [ 868.47303203],\n",
       "       [ 890.11187632],\n",
       "       [ 979.62285893],\n",
       "       [ 936.46110803],\n",
       "       [ 923.76311293],\n",
       "       [ 858.83700471],\n",
       "       [ 892.66905596],\n",
       "       [ 864.68050688],\n",
       "       [ 936.29378115],\n",
       "       [ 853.02352306],\n",
       "       [ 818.06308046],\n",
       "       [1029.27124518],\n",
       "       [ 895.68811948],\n",
       "       [ 830.55982044],\n",
       "       [ 958.18606769],\n",
       "       [ 936.34387604],\n",
       "       [ 820.69675881],\n",
       "       [ 861.88734864],\n",
       "       [ 865.44808438],\n",
       "       [ 970.59280668],\n",
       "       [ 874.78877636],\n",
       "       [ 826.92274577],\n",
       "       [ 905.62205786],\n",
       "       [ 816.86631975],\n",
       "       [ 864.6404932 ],\n",
       "       [ 862.28823759],\n",
       "       [ 865.40828924],\n",
       "       [ 846.68642436],\n",
       "       [ 862.35675425],\n",
       "       [ 883.73273045],\n",
       "       [ 862.28394225],\n",
       "       [ 892.62277995],\n",
       "       [ 880.5129646 ],\n",
       "       [ 877.60401366],\n",
       "       [ 979.40670416],\n",
       "       [ 905.46709366],\n",
       "       [ 911.57789993],\n",
       "       [ 858.83070046],\n",
       "       [ 905.46391331],\n",
       "       [ 939.59345878],\n",
       "       [ 834.12385199],\n",
       "       [ 896.34987744],\n",
       "       [ 855.94936573],\n",
       "       [ 914.89879867],\n",
       "       [ 924.10052247],\n",
       "       [ 970.52490397],\n",
       "       [ 901.15564271],\n",
       "       [ 961.05809954],\n",
       "       [ 926.87132729],\n",
       "       [ 835.91789254],\n",
       "       [ 870.56164121],\n",
       "       [ 955.1037703 ],\n",
       "       [ 887.07263036],\n",
       "       [ 798.28771429],\n",
       "       [ 831.37626978],\n",
       "       [ 886.89747901],\n",
       "       [ 856.11682527],\n",
       "       [ 914.27457413],\n",
       "       [ 930.00052712],\n",
       "       [ 862.33833758],\n",
       "       [ 924.17274486],\n",
       "       [ 859.02343102],\n",
       "       [ 862.27457794],\n",
       "       [ 890.01274663],\n",
       "       [ 815.16018554],\n",
       "       [ 924.02407038],\n",
       "       [ 970.54992943],\n",
       "       [ 871.21336689],\n",
       "       [ 874.72012972],\n",
       "       [ 865.4064056 ],\n",
       "       [ 892.46606719],\n",
       "       [ 887.01031499],\n",
       "       [ 886.86623774],\n",
       "       [ 970.3243097 ],\n",
       "       [ 917.78690672],\n",
       "       [ 886.73241398],\n",
       "       [ 920.42260646],\n",
       "       [ 877.62627113],\n",
       "       [ 973.22736671],\n",
       "       [ 858.8183351 ],\n",
       "       [ 899.43635703],\n",
       "       [ 871.42432501],\n",
       "       [ 914.94499873],\n",
       "       [ 852.86608599],\n",
       "       [ 893.05342438],\n",
       "       [ 846.14333198],\n",
       "       [ 883.98506509],\n",
       "       [ 852.84252671],\n",
       "       [ 979.7919712 ],\n",
       "       [ 827.05059926],\n",
       "       [ 905.16636835],\n",
       "       [ 967.05279366],\n",
       "       [ 883.9613218 ],\n",
       "       [ 865.20344385],\n",
       "       [ 954.68476184],\n",
       "       [ 862.08419525],\n",
       "       [ 862.33736505],\n",
       "       [ 865.38873554],\n",
       "       [ 861.89621189],\n",
       "       [ 880.7185738 ],\n",
       "       [ 933.42837262],\n",
       "       [ 911.80012053],\n",
       "       [ 914.62663278],\n",
       "       [ 853.05050582],\n",
       "       [ 893.26145981],\n",
       "       [ 879.88152443],\n",
       "       [ 881.72895594],\n",
       "       [ 964.37054037],\n",
       "       [ 883.65347622],\n",
       "       [ 890.17002671],\n",
       "       [ 812.6219836 ],\n",
       "       [ 862.31191474],\n",
       "       [ 920.3912031 ],\n",
       "       [ 899.06902523],\n",
       "       [ 951.39493719],\n",
       "       [ 874.56515571],\n",
       "       [ 843.58138794],\n",
       "       [ 849.59231903],\n",
       "       [ 853.04846009],\n",
       "       [ 908.15982128],\n",
       "       [ 849.7241524 ],\n",
       "       [ 896.08756926],\n",
       "       [ 905.62135038],\n",
       "       [ 840.10392132],\n",
       "       [ 852.8415812 ],\n",
       "       [ 899.50419832],\n",
       "       [ 843.54578747],\n",
       "       [ 880.71562919],\n",
       "       [ 910.79738976],\n",
       "       [ 867.70309214],\n",
       "       [ 868.27905879],\n",
       "       [ 861.28881244],\n",
       "       [ 954.51588772],\n",
       "       [ 846.66178449],\n",
       "       [ 865.26270655],\n",
       "       [ 821.08529961],\n",
       "       [ 853.08438473],\n",
       "       [ 913.90752458],\n",
       "       [ 942.66896567],\n",
       "       [ 964.35001655],\n",
       "       [ 907.63995238],\n",
       "       [ 902.34794331],\n",
       "       [ 834.47415469],\n",
       "       [ 874.16970653],\n",
       "       [ 939.67606465],\n",
       "       [ 868.32767297],\n",
       "       [ 951.59825014],\n",
       "       [ 805.23192026],\n",
       "       [ 893.30744375],\n",
       "       [ 877.38012286],\n",
       "       [ 907.72756579],\n",
       "       [ 892.98448529],\n",
       "       [ 899.23548522],\n",
       "       [ 893.28718027],\n",
       "       [ 948.33665832],\n",
       "       [ 932.82217163],\n",
       "       [ 883.5991005 ],\n",
       "       [ 955.06866591],\n",
       "       [ 868.49819499],\n",
       "       [ 917.74266663],\n",
       "       [ 794.09787762],\n",
       "       [ 917.80508025],\n",
       "       [ 917.37097794],\n",
       "       [ 988.275024  ],\n",
       "       [ 961.27989299],\n",
       "       [ 957.95827697],\n",
       "       [ 973.44103611],\n",
       "       [ 945.59781908],\n",
       "       [ 805.0238257 ],\n",
       "       [ 957.96239302],\n",
       "       [ 861.74200169],\n",
       "       [ 896.1441872 ],\n",
       "       [ 902.16102092],\n",
       "       [ 858.40687357],\n",
       "       [ 883.3364512 ],\n",
       "       [ 889.92784451],\n",
       "       [ 899.23166633],\n",
       "       [ 961.07144725],\n",
       "       [ 874.65840358],\n",
       "       [ 868.47720211],\n",
       "       [ 874.65194706],\n",
       "       [ 877.32864512],\n",
       "       [ 873.42231705],\n",
       "       [ 850.79575722],\n",
       "       [ 967.41568765],\n",
       "       [ 862.10884493],\n",
       "       [ 865.40624351],\n",
       "       [ 874.65834955],\n",
       "       [ 914.07044564],\n",
       "       [ 890.1136593 ],\n",
       "       [ 899.11384546],\n",
       "       [ 859.04017277],\n",
       "       [ 890.16910821],\n",
       "       [ 899.43890623],\n",
       "       [ 883.57922772],\n",
       "       [ 868.49889737],\n",
       "       [ 843.77041747],\n",
       "       [ 911.73435708],\n",
       "       [ 880.90038058],\n",
       "       [ 859.19915949],\n",
       "       [ 896.28861055],\n",
       "       [ 927.0440301 ],\n",
       "       [1019.99339166],\n",
       "       [ 855.08850912],\n",
       "       [ 939.21144065],\n",
       "       [ 905.62984282],\n",
       "       [ 871.42570276],\n",
       "       [ 870.13511284],\n",
       "       [ 911.53098029],\n",
       "       [ 880.95905406],\n",
       "       [ 862.29994479],\n",
       "       [ 955.13942479],\n",
       "       [ 874.49774436],\n",
       "       [ 856.16931237],\n",
       "       [ 856.14781602],\n",
       "       [ 865.44978631],\n",
       "       [ 868.49938363],\n",
       "       [ 886.91639176],\n",
       "       [ 874.27112267],\n",
       "       [ 927.2578788 ],\n",
       "       [ 908.43729987],\n",
       "       [ 927.25504225],\n",
       "       [ 831.38875059],\n",
       "       [ 967.48925606],\n",
       "       [ 902.32900355],\n",
       "       [ 927.01368541],\n",
       "       [ 839.90073363],\n",
       "       [ 911.32836973],\n",
       "       [ 970.35803633],\n",
       "       [ 859.2260686 ],\n",
       "       [ 865.24136758],\n",
       "       [ 834.4736242 ],\n",
       "       [ 874.69816432],\n",
       "       [ 936.51802784],\n",
       "       [ 886.20031479],\n",
       "       [ 973.21868516],\n",
       "       [ 945.19332977],\n",
       "       [ 853.97573471],\n",
       "       [ 979.8505514 ],\n",
       "       [ 831.03731328],\n",
       "       [ 849.17069884],\n",
       "       [ 880.48946444],\n",
       "       [ 888.90147343],\n",
       "       [ 883.77586293],\n",
       "       [ 917.98606449],\n",
       "       [ 933.46523297],\n",
       "       [ 865.38170189],\n",
       "       [ 989.09767692],\n",
       "       [ 865.38145876],\n",
       "       [ 899.34622628],\n",
       "       [ 861.94267228],\n",
       "       [ 864.62559355],\n",
       "       [ 911.80525333],\n",
       "       [ 942.73990855],\n",
       "       [ 871.6723471 ],\n",
       "       [ 890.15990829],\n",
       "       [ 877.58954114],\n",
       "       [ 957.55797494],\n",
       "       [ 886.87122336],\n",
       "       [ 920.9028153 ],\n",
       "       [ 846.93611777],\n",
       "       [ 930.34729599],\n",
       "       [ 899.28584555],\n",
       "       [ 951.8339586 ],\n",
       "       [ 849.51551754],\n",
       "       [ 846.63206585],\n",
       "       [ 865.36859974],\n",
       "       [ 865.22808371],\n",
       "       [ 859.00523047],\n",
       "       [ 905.55573921],\n",
       "       [ 852.52183931],\n",
       "       [ 887.0280833 ],\n",
       "       [ 782.17304108],\n",
       "       [ 862.31850634],\n",
       "       [1007.64265909],\n",
       "       [ 883.97008439],\n",
       "       [ 911.65907402],\n",
       "       [ 895.73728606],\n",
       "       [ 914.2615111 ],\n",
       "       [ 874.65489166],\n",
       "       [ 923.94309521],\n",
       "       [ 852.85807981],\n",
       "       [ 856.16289025],\n",
       "       [ 890.19120359],\n",
       "       [ 924.11410349],\n",
       "       [ 910.00102461],\n",
       "       [ 967.43706613],\n",
       "       [ 914.69957476],\n",
       "       [ 865.23990878],\n",
       "       [ 945.00928815],\n",
       "       [ 859.2428914 ],\n",
       "       [ 871.40001913],\n",
       "       [ 865.38625018],\n",
       "       [ 923.16354776],\n",
       "       [ 868.47289695],\n",
       "       [ 854.64821304],\n",
       "       [ 861.3560445 ],\n",
       "       [ 939.63252185],\n",
       "       [ 893.30244602],\n",
       "       [ 976.6934331 ],\n",
       "       [ 887.01988802],\n",
       "       [ 936.49447366],\n",
       "       [ 911.65458957],\n",
       "       [ 837.56089231],\n",
       "       [ 911.12370604],\n",
       "       [ 880.85179112],\n",
       "       [ 921.07284633],\n",
       "       [ 858.58503337],\n",
       "       [ 843.78865485],\n",
       "       [ 933.40471038],\n",
       "       [ 914.85790841],\n",
       "       [ 927.28151913],\n",
       "       [ 886.80757917],\n",
       "       [ 917.94367351],\n",
       "       [ 927.23938619],\n",
       "       [ 926.80407803],\n",
       "       [ 945.58921858],\n",
       "       [ 902.26852518],\n",
       "       [ 967.43433764],\n",
       "       [ 919.84180647],\n",
       "       [ 840.72449416],\n",
       "       [ 859.17584576],\n",
       "       [ 908.67054758],\n",
       "       [ 902.14776407],\n",
       "       [ 880.90089386],\n",
       "       [ 871.4199216 ],\n",
       "       [ 893.01261006],\n",
       "       [ 948.47902855],\n",
       "       [ 908.77275876],\n",
       "       [ 893.30139244],\n",
       "       [ 886.89985631],\n",
       "       [ 877.75097639],\n",
       "       [ 859.05408779],\n",
       "       [ 856.13752098],\n",
       "       [ 930.39286221],\n",
       "       [ 829.03346754],\n",
       "       [ 814.55972148],\n",
       "       [ 884.03712735],\n",
       "       [ 877.77153704],\n",
       "       [ 976.7468215 ],\n",
       "       [ 899.37347435],\n",
       "       [ 840.44974696],\n",
       "       [ 855.93107433],\n",
       "       [ 892.49748037],\n",
       "       [ 871.55901324],\n",
       "       [ 871.45052664],\n",
       "       [ 849.38736688],\n",
       "       [ 858.99352328],\n",
       "       [ 846.49453126],\n",
       "       [ 877.75802966],\n",
       "       [ 893.12696068],\n",
       "       [ 868.31568581],\n",
       "       [ 827.47881975],\n",
       "       [ 973.63599169],\n",
       "       [1041.61978955],\n",
       "       [ 883.84566648],\n",
       "       [ 871.24051403],\n",
       "       [ 840.66953151],\n",
       "       [ 905.47348635],\n",
       "       [ 846.84324009],\n",
       "       [ 865.22392344],\n",
       "       [ 827.29423286],\n",
       "       [ 954.4778019 ],\n",
       "       [ 933.38138684],\n",
       "       [ 905.14684408],\n",
       "       [ 830.81430416],\n",
       "       [ 871.56453406],\n",
       "       [ 871.35349489],\n",
       "       [ 880.40608967],\n",
       "       [ 887.06182446],\n",
       "       [ 935.31709973],\n",
       "       [ 853.01770508],\n",
       "       [ 846.64057549],\n",
       "       [ 840.04434654],\n",
       "       [ 834.48434906],\n",
       "       [ 927.09127393],\n",
       "       [ 976.72090213],\n",
       "       [ 856.17290533],\n",
       "       [ 871.34854138],\n",
       "       [ 907.62585807],\n",
       "       [ 874.25938845],\n",
       "       [ 874.65724195],\n",
       "       [ 852.81494223],\n",
       "       [ 892.1671813 ],\n",
       "       [ 883.33596494],\n",
       "       [ 904.20017847],\n",
       "       [ 738.93275195],\n",
       "       [ 856.11744661],\n",
       "       [ 855.72751825],\n",
       "       [ 877.76975406],\n",
       "       [ 853.05951154],\n",
       "       [ 902.38648838],\n",
       "       [ 896.07583263],\n",
       "       [ 883.72235437],\n",
       "       [ 886.81160436],\n",
       "       [ 846.68436384],\n",
       "       [ 917.7931029 ],\n",
       "       [ 926.98167791],\n",
       "       [ 917.75865197],\n",
       "       [1032.15226554],\n",
       "       [ 854.94035773],\n",
       "       [ 804.31542515],\n",
       "       [ 868.36595502],\n",
       "       [ 849.72717805],\n",
       "       [ 895.53251432],\n",
       "       [ 859.26574829],\n",
       "       [ 862.34982127],\n",
       "       [ 874.47689395],\n",
       "       [ 833.90210517],\n",
       "       [ 862.34152532],\n",
       "       [ 871.20483762],\n",
       "       [ 899.05575857],\n",
       "       [ 902.33156995],\n",
       "       [ 924.16117783],\n",
       "       [ 896.05563541],\n",
       "       [ 856.11558259],\n",
       "       [ 883.31335117],\n",
       "       [ 865.37846993],\n",
       "       [ 858.59167899],\n",
       "       [ 864.60233144],\n",
       "       [ 855.90508372],\n",
       "       [ 890.11065085],\n",
       "       [ 889.92703407],\n",
       "       [ 849.92807687],\n",
       "       [1013.86341499],\n",
       "       [ 919.84264392],\n",
       "       [ 830.15000681],\n",
       "       [ 877.76970003],\n",
       "       [ 957.57227556],\n",
       "       [ 831.38720094],\n",
       "       [ 917.83797924],\n",
       "       [ 927.03485758],\n",
       "       [ 945.8226652 ],\n",
       "       [ 936.17800056],\n",
       "       [ 933.47879679],\n",
       "       [ 961.07024879],\n",
       "       [ 886.61478477],\n",
       "       [ 960.86550406],\n",
       "       [ 883.22710994],\n",
       "       [ 830.99746169],\n",
       "       [ 840.7104735 ],\n",
       "       [ 942.56806281],\n",
       "       [ 846.54794897],\n",
       "       [ 815.16539938],\n",
       "       [ 899.44558868],\n",
       "       [ 856.11877033],\n",
       "       [ 889.54836347],\n",
       "       [ 936.52930281],\n",
       "       [ 955.08841611],\n",
       "       [ 908.72417159],\n",
       "       [ 883.78272468],\n",
       "       [ 924.18783871],\n",
       "       [ 699.17195174],\n",
       "       [ 889.20661935],\n",
       "       [ 833.69409166],\n",
       "       [ 801.73694566],\n",
       "       [ 858.99462107],\n",
       "       [ 880.63019658],\n",
       "       [ 914.75045818],\n",
       "       [ 911.83059558],\n",
       "       [ 877.56336143],\n",
       "       [ 936.39778511],\n",
       "       [ 856.11425887],\n",
       "       [ 880.74067428],\n",
       "       [ 837.21954131],\n",
       "       [ 831.41552463],\n",
       "       [ 973.61553911],\n",
       "       [ 936.49184342],\n",
       "       [ 927.22780426],\n",
       "       [ 871.57180103],\n",
       "       [ 951.7655402 ],\n",
       "       [ 874.49508201],\n",
       "       [ 917.5156225 ],\n",
       "       [ 896.33936361],\n",
       "       [1007.63714808],\n",
       "       [ 893.0624078 ],\n",
       "       [ 883.35069039],\n",
       "       [ 893.11425394],\n",
       "       [ 873.68720616],\n",
       "       [ 908.67257368],\n",
       "       [ 982.91077533],\n",
       "       [ 871.56049905],\n",
       "       [ 976.73042852],\n",
       "       [ 895.98789928],\n",
       "       [ 976.7576274 ],\n",
       "       [ 905.42102868],\n",
       "       [ 862.35888841],\n",
       "       [ 936.32355853],\n",
       "       [ 862.29729734],\n",
       "       [ 930.3286632 ],\n",
       "       [ 958.18506815],\n",
       "       [ 840.44826115],\n",
       "       [ 808.14693001],\n",
       "       [ 871.03379723],\n",
       "       [ 851.38164809],\n",
       "       [ 837.36996193],\n",
       "       [ 865.08379034],\n",
       "       [ 833.88675838],\n",
       "       [ 961.03980075],\n",
       "       [ 979.81809446],\n",
       "       [ 859.26358711],\n",
       "       [ 886.46365195],\n",
       "       [ 896.34437854],\n",
       "       [ 830.97920711],\n",
       "       [ 945.84187511],\n",
       "       [ 859.22571741],\n",
       "       [ 914.82936861],\n",
       "       [ 877.31563382],\n",
       "       [ 923.2142961 ],\n",
       "       [ 877.14862372],\n",
       "       [ 769.17886896],\n",
       "       [ 865.29702751],\n",
       "       [ 961.24510297],\n",
       "       [ 902.34834853],\n",
       "       [ 927.32103673],\n",
       "       [ 887.01172957],\n",
       "       [ 852.81245688],\n",
       "       [ 905.60293881],\n",
       "       [ 911.86641216],\n",
       "       [ 930.31172495],\n",
       "       [ 880.88159081],\n",
       "       [ 862.33968832],\n",
       "       [ 877.74844682],\n",
       "       [ 939.57655494],\n",
       "       [ 852.80605438],\n",
       "       [ 887.08090669],\n",
       "       [ 846.90067088],\n",
       "       [ 930.37301135],\n",
       "       [ 979.82682023],\n",
       "       [ 890.18720541],\n",
       "       [ 948.68407044],\n",
       "       [ 892.4386448 ],\n",
       "       [ 893.22308192],\n",
       "       [ 877.74962566],\n",
       "       [ 917.80518831],\n",
       "       [ 865.14969928],\n",
       "       [ 846.4911274 ],\n",
       "       [ 883.98828494],\n",
       "       [1041.21705379],\n",
       "       [ 874.49604983],\n",
       "       [ 788.33216909],\n",
       "       [ 899.48112772],\n",
       "       [ 877.53760415],\n",
       "       [ 890.01722369],\n",
       "       [ 853.01552669],\n",
       "       [ 889.98205546],\n",
       "       [ 957.95471102],\n",
       "       [ 871.16612307],\n",
       "       [ 871.20086645],\n",
       "       [ 874.53588651],\n",
       "       [ 880.86467957],\n",
       "       [ 913.89063794],\n",
       "       [ 899.46605847],\n",
       "       [ 880.83195007],\n",
       "       [ 818.87069355],\n",
       "       [ 952.04841883],\n",
       "       [ 979.79503865],\n",
       "       [ 904.8088034 ]])"
      ]
     },
     "execution_count": 52,
     "metadata": {},
     "output_type": "execute_result"
    }
   ],
   "source": [
    "pred"
   ]
  },
  {
   "cell_type": "code",
   "execution_count": 53,
   "id": "f0d7bc01",
   "metadata": {},
   "outputs": [
    {
     "data": {
      "text/plain": [
       "['model.lb']"
      ]
     },
     "execution_count": 53,
     "metadata": {},
     "output_type": "execute_result"
    }
   ],
   "source": [
    "import joblib\n",
    "joblib.dump(lr, 'model.lb')"
   ]
  },
  {
   "cell_type": "code",
   "execution_count": 54,
   "id": "a6fb7990",
   "metadata": {},
   "outputs": [
    {
     "data": {
      "text/plain": [
       "<function joblib.numpy_pickle.dump(value, filename, compress=0, protocol=None)>"
      ]
     },
     "execution_count": 54,
     "metadata": {},
     "output_type": "execute_result"
    }
   ],
   "source": [
    "joblib.dump"
   ]
  },
  {
   "cell_type": "code",
   "execution_count": 55,
   "id": "a49e1603",
   "metadata": {},
   "outputs": [],
   "source": [
    "from sklearn.model_selection import train_test_split\n",
    "x_train, x_test, y_train, y_test = train_test_split(x, y, test_size=0.2)\n"
   ]
  },
  {
   "cell_type": "code",
   "execution_count": 56,
   "id": "f8ed0524",
   "metadata": {},
   "outputs": [
    {
     "data": {
      "text/plain": [
       "((3613, 5), (904, 5), (3613, 1), (904, 1))"
      ]
     },
     "execution_count": 56,
     "metadata": {},
     "output_type": "execute_result"
    }
   ],
   "source": [
    "x_train.shape, x_test.shape, y_train.shape, y_test.shape"
   ]
  },
  {
   "cell_type": "code",
   "execution_count": 57,
   "id": "e4dc92f5",
   "metadata": {},
   "outputs": [
    {
     "name": "stderr",
     "output_type": "stream",
     "text": [
      "C:\\Users\\chand\\AppData\\Local\\Packages\\PythonSoftwareFoundation.Python.3.11_qbz5n2kfra8p0\\LocalCache\\local-packages\\Python311\\site-packages\\sklearn\\utils\\validation.py:1406: DataConversionWarning: A column-vector y was passed when a 1d array was expected. Please change the shape of y to (n_samples, ), for example using ravel().\n",
      "  y = column_or_1d(y, warn=True)\n"
     ]
    },
    {
     "data": {
      "text/html": [
       "<style>#sk-container-id-2 {\n",
       "  /* Definition of color scheme common for light and dark mode */\n",
       "  --sklearn-color-text: #000;\n",
       "  --sklearn-color-text-muted: #666;\n",
       "  --sklearn-color-line: gray;\n",
       "  /* Definition of color scheme for unfitted estimators */\n",
       "  --sklearn-color-unfitted-level-0: #fff5e6;\n",
       "  --sklearn-color-unfitted-level-1: #f6e4d2;\n",
       "  --sklearn-color-unfitted-level-2: #ffe0b3;\n",
       "  --sklearn-color-unfitted-level-3: chocolate;\n",
       "  /* Definition of color scheme for fitted estimators */\n",
       "  --sklearn-color-fitted-level-0: #f0f8ff;\n",
       "  --sklearn-color-fitted-level-1: #d4ebff;\n",
       "  --sklearn-color-fitted-level-2: #b3dbfd;\n",
       "  --sklearn-color-fitted-level-3: cornflowerblue;\n",
       "\n",
       "  /* Specific color for light theme */\n",
       "  --sklearn-color-text-on-default-background: var(--sg-text-color, var(--theme-code-foreground, var(--jp-content-font-color1, black)));\n",
       "  --sklearn-color-background: var(--sg-background-color, var(--theme-background, var(--jp-layout-color0, white)));\n",
       "  --sklearn-color-border-box: var(--sg-text-color, var(--theme-code-foreground, var(--jp-content-font-color1, black)));\n",
       "  --sklearn-color-icon: #696969;\n",
       "\n",
       "  @media (prefers-color-scheme: dark) {\n",
       "    /* Redefinition of color scheme for dark theme */\n",
       "    --sklearn-color-text-on-default-background: var(--sg-text-color, var(--theme-code-foreground, var(--jp-content-font-color1, white)));\n",
       "    --sklearn-color-background: var(--sg-background-color, var(--theme-background, var(--jp-layout-color0, #111)));\n",
       "    --sklearn-color-border-box: var(--sg-text-color, var(--theme-code-foreground, var(--jp-content-font-color1, white)));\n",
       "    --sklearn-color-icon: #878787;\n",
       "  }\n",
       "}\n",
       "\n",
       "#sk-container-id-2 {\n",
       "  color: var(--sklearn-color-text);\n",
       "}\n",
       "\n",
       "#sk-container-id-2 pre {\n",
       "  padding: 0;\n",
       "}\n",
       "\n",
       "#sk-container-id-2 input.sk-hidden--visually {\n",
       "  border: 0;\n",
       "  clip: rect(1px 1px 1px 1px);\n",
       "  clip: rect(1px, 1px, 1px, 1px);\n",
       "  height: 1px;\n",
       "  margin: -1px;\n",
       "  overflow: hidden;\n",
       "  padding: 0;\n",
       "  position: absolute;\n",
       "  width: 1px;\n",
       "}\n",
       "\n",
       "#sk-container-id-2 div.sk-dashed-wrapped {\n",
       "  border: 1px dashed var(--sklearn-color-line);\n",
       "  margin: 0 0.4em 0.5em 0.4em;\n",
       "  box-sizing: border-box;\n",
       "  padding-bottom: 0.4em;\n",
       "  background-color: var(--sklearn-color-background);\n",
       "}\n",
       "\n",
       "#sk-container-id-2 div.sk-container {\n",
       "  /* jupyter's `normalize.less` sets `[hidden] { display: none; }`\n",
       "     but bootstrap.min.css set `[hidden] { display: none !important; }`\n",
       "     so we also need the `!important` here to be able to override the\n",
       "     default hidden behavior on the sphinx rendered scikit-learn.org.\n",
       "     See: https://github.com/scikit-learn/scikit-learn/issues/21755 */\n",
       "  display: inline-block !important;\n",
       "  position: relative;\n",
       "}\n",
       "\n",
       "#sk-container-id-2 div.sk-text-repr-fallback {\n",
       "  display: none;\n",
       "}\n",
       "\n",
       "div.sk-parallel-item,\n",
       "div.sk-serial,\n",
       "div.sk-item {\n",
       "  /* draw centered vertical line to link estimators */\n",
       "  background-image: linear-gradient(var(--sklearn-color-text-on-default-background), var(--sklearn-color-text-on-default-background));\n",
       "  background-size: 2px 100%;\n",
       "  background-repeat: no-repeat;\n",
       "  background-position: center center;\n",
       "}\n",
       "\n",
       "/* Parallel-specific style estimator block */\n",
       "\n",
       "#sk-container-id-2 div.sk-parallel-item::after {\n",
       "  content: \"\";\n",
       "  width: 100%;\n",
       "  border-bottom: 2px solid var(--sklearn-color-text-on-default-background);\n",
       "  flex-grow: 1;\n",
       "}\n",
       "\n",
       "#sk-container-id-2 div.sk-parallel {\n",
       "  display: flex;\n",
       "  align-items: stretch;\n",
       "  justify-content: center;\n",
       "  background-color: var(--sklearn-color-background);\n",
       "  position: relative;\n",
       "}\n",
       "\n",
       "#sk-container-id-2 div.sk-parallel-item {\n",
       "  display: flex;\n",
       "  flex-direction: column;\n",
       "}\n",
       "\n",
       "#sk-container-id-2 div.sk-parallel-item:first-child::after {\n",
       "  align-self: flex-end;\n",
       "  width: 50%;\n",
       "}\n",
       "\n",
       "#sk-container-id-2 div.sk-parallel-item:last-child::after {\n",
       "  align-self: flex-start;\n",
       "  width: 50%;\n",
       "}\n",
       "\n",
       "#sk-container-id-2 div.sk-parallel-item:only-child::after {\n",
       "  width: 0;\n",
       "}\n",
       "\n",
       "/* Serial-specific style estimator block */\n",
       "\n",
       "#sk-container-id-2 div.sk-serial {\n",
       "  display: flex;\n",
       "  flex-direction: column;\n",
       "  align-items: center;\n",
       "  background-color: var(--sklearn-color-background);\n",
       "  padding-right: 1em;\n",
       "  padding-left: 1em;\n",
       "}\n",
       "\n",
       "\n",
       "/* Toggleable style: style used for estimator/Pipeline/ColumnTransformer box that is\n",
       "clickable and can be expanded/collapsed.\n",
       "- Pipeline and ColumnTransformer use this feature and define the default style\n",
       "- Estimators will overwrite some part of the style using the `sk-estimator` class\n",
       "*/\n",
       "\n",
       "/* Pipeline and ColumnTransformer style (default) */\n",
       "\n",
       "#sk-container-id-2 div.sk-toggleable {\n",
       "  /* Default theme specific background. It is overwritten whether we have a\n",
       "  specific estimator or a Pipeline/ColumnTransformer */\n",
       "  background-color: var(--sklearn-color-background);\n",
       "}\n",
       "\n",
       "/* Toggleable label */\n",
       "#sk-container-id-2 label.sk-toggleable__label {\n",
       "  cursor: pointer;\n",
       "  display: flex;\n",
       "  width: 100%;\n",
       "  margin-bottom: 0;\n",
       "  padding: 0.5em;\n",
       "  box-sizing: border-box;\n",
       "  text-align: center;\n",
       "  align-items: start;\n",
       "  justify-content: space-between;\n",
       "  gap: 0.5em;\n",
       "}\n",
       "\n",
       "#sk-container-id-2 label.sk-toggleable__label .caption {\n",
       "  font-size: 0.6rem;\n",
       "  font-weight: lighter;\n",
       "  color: var(--sklearn-color-text-muted);\n",
       "}\n",
       "\n",
       "#sk-container-id-2 label.sk-toggleable__label-arrow:before {\n",
       "  /* Arrow on the left of the label */\n",
       "  content: \"▸\";\n",
       "  float: left;\n",
       "  margin-right: 0.25em;\n",
       "  color: var(--sklearn-color-icon);\n",
       "}\n",
       "\n",
       "#sk-container-id-2 label.sk-toggleable__label-arrow:hover:before {\n",
       "  color: var(--sklearn-color-text);\n",
       "}\n",
       "\n",
       "/* Toggleable content - dropdown */\n",
       "\n",
       "#sk-container-id-2 div.sk-toggleable__content {\n",
       "  display: none;\n",
       "  text-align: left;\n",
       "  /* unfitted */\n",
       "  background-color: var(--sklearn-color-unfitted-level-0);\n",
       "}\n",
       "\n",
       "#sk-container-id-2 div.sk-toggleable__content.fitted {\n",
       "  /* fitted */\n",
       "  background-color: var(--sklearn-color-fitted-level-0);\n",
       "}\n",
       "\n",
       "#sk-container-id-2 div.sk-toggleable__content pre {\n",
       "  margin: 0.2em;\n",
       "  border-radius: 0.25em;\n",
       "  color: var(--sklearn-color-text);\n",
       "  /* unfitted */\n",
       "  background-color: var(--sklearn-color-unfitted-level-0);\n",
       "}\n",
       "\n",
       "#sk-container-id-2 div.sk-toggleable__content.fitted pre {\n",
       "  /* unfitted */\n",
       "  background-color: var(--sklearn-color-fitted-level-0);\n",
       "}\n",
       "\n",
       "#sk-container-id-2 input.sk-toggleable__control:checked~div.sk-toggleable__content {\n",
       "  /* Expand drop-down */\n",
       "  display: block;\n",
       "  width: 100%;\n",
       "  overflow: visible;\n",
       "}\n",
       "\n",
       "#sk-container-id-2 input.sk-toggleable__control:checked~label.sk-toggleable__label-arrow:before {\n",
       "  content: \"▾\";\n",
       "}\n",
       "\n",
       "/* Pipeline/ColumnTransformer-specific style */\n",
       "\n",
       "#sk-container-id-2 div.sk-label input.sk-toggleable__control:checked~label.sk-toggleable__label {\n",
       "  color: var(--sklearn-color-text);\n",
       "  background-color: var(--sklearn-color-unfitted-level-2);\n",
       "}\n",
       "\n",
       "#sk-container-id-2 div.sk-label.fitted input.sk-toggleable__control:checked~label.sk-toggleable__label {\n",
       "  background-color: var(--sklearn-color-fitted-level-2);\n",
       "}\n",
       "\n",
       "/* Estimator-specific style */\n",
       "\n",
       "/* Colorize estimator box */\n",
       "#sk-container-id-2 div.sk-estimator input.sk-toggleable__control:checked~label.sk-toggleable__label {\n",
       "  /* unfitted */\n",
       "  background-color: var(--sklearn-color-unfitted-level-2);\n",
       "}\n",
       "\n",
       "#sk-container-id-2 div.sk-estimator.fitted input.sk-toggleable__control:checked~label.sk-toggleable__label {\n",
       "  /* fitted */\n",
       "  background-color: var(--sklearn-color-fitted-level-2);\n",
       "}\n",
       "\n",
       "#sk-container-id-2 div.sk-label label.sk-toggleable__label,\n",
       "#sk-container-id-2 div.sk-label label {\n",
       "  /* The background is the default theme color */\n",
       "  color: var(--sklearn-color-text-on-default-background);\n",
       "}\n",
       "\n",
       "/* On hover, darken the color of the background */\n",
       "#sk-container-id-2 div.sk-label:hover label.sk-toggleable__label {\n",
       "  color: var(--sklearn-color-text);\n",
       "  background-color: var(--sklearn-color-unfitted-level-2);\n",
       "}\n",
       "\n",
       "/* Label box, darken color on hover, fitted */\n",
       "#sk-container-id-2 div.sk-label.fitted:hover label.sk-toggleable__label.fitted {\n",
       "  color: var(--sklearn-color-text);\n",
       "  background-color: var(--sklearn-color-fitted-level-2);\n",
       "}\n",
       "\n",
       "/* Estimator label */\n",
       "\n",
       "#sk-container-id-2 div.sk-label label {\n",
       "  font-family: monospace;\n",
       "  font-weight: bold;\n",
       "  display: inline-block;\n",
       "  line-height: 1.2em;\n",
       "}\n",
       "\n",
       "#sk-container-id-2 div.sk-label-container {\n",
       "  text-align: center;\n",
       "}\n",
       "\n",
       "/* Estimator-specific */\n",
       "#sk-container-id-2 div.sk-estimator {\n",
       "  font-family: monospace;\n",
       "  border: 1px dotted var(--sklearn-color-border-box);\n",
       "  border-radius: 0.25em;\n",
       "  box-sizing: border-box;\n",
       "  margin-bottom: 0.5em;\n",
       "  /* unfitted */\n",
       "  background-color: var(--sklearn-color-unfitted-level-0);\n",
       "}\n",
       "\n",
       "#sk-container-id-2 div.sk-estimator.fitted {\n",
       "  /* fitted */\n",
       "  background-color: var(--sklearn-color-fitted-level-0);\n",
       "}\n",
       "\n",
       "/* on hover */\n",
       "#sk-container-id-2 div.sk-estimator:hover {\n",
       "  /* unfitted */\n",
       "  background-color: var(--sklearn-color-unfitted-level-2);\n",
       "}\n",
       "\n",
       "#sk-container-id-2 div.sk-estimator.fitted:hover {\n",
       "  /* fitted */\n",
       "  background-color: var(--sklearn-color-fitted-level-2);\n",
       "}\n",
       "\n",
       "/* Specification for estimator info (e.g. \"i\" and \"?\") */\n",
       "\n",
       "/* Common style for \"i\" and \"?\" */\n",
       "\n",
       ".sk-estimator-doc-link,\n",
       "a:link.sk-estimator-doc-link,\n",
       "a:visited.sk-estimator-doc-link {\n",
       "  float: right;\n",
       "  font-size: smaller;\n",
       "  line-height: 1em;\n",
       "  font-family: monospace;\n",
       "  background-color: var(--sklearn-color-background);\n",
       "  border-radius: 1em;\n",
       "  height: 1em;\n",
       "  width: 1em;\n",
       "  text-decoration: none !important;\n",
       "  margin-left: 0.5em;\n",
       "  text-align: center;\n",
       "  /* unfitted */\n",
       "  border: var(--sklearn-color-unfitted-level-1) 1pt solid;\n",
       "  color: var(--sklearn-color-unfitted-level-1);\n",
       "}\n",
       "\n",
       ".sk-estimator-doc-link.fitted,\n",
       "a:link.sk-estimator-doc-link.fitted,\n",
       "a:visited.sk-estimator-doc-link.fitted {\n",
       "  /* fitted */\n",
       "  border: var(--sklearn-color-fitted-level-1) 1pt solid;\n",
       "  color: var(--sklearn-color-fitted-level-1);\n",
       "}\n",
       "\n",
       "/* On hover */\n",
       "div.sk-estimator:hover .sk-estimator-doc-link:hover,\n",
       ".sk-estimator-doc-link:hover,\n",
       "div.sk-label-container:hover .sk-estimator-doc-link:hover,\n",
       ".sk-estimator-doc-link:hover {\n",
       "  /* unfitted */\n",
       "  background-color: var(--sklearn-color-unfitted-level-3);\n",
       "  color: var(--sklearn-color-background);\n",
       "  text-decoration: none;\n",
       "}\n",
       "\n",
       "div.sk-estimator.fitted:hover .sk-estimator-doc-link.fitted:hover,\n",
       ".sk-estimator-doc-link.fitted:hover,\n",
       "div.sk-label-container:hover .sk-estimator-doc-link.fitted:hover,\n",
       ".sk-estimator-doc-link.fitted:hover {\n",
       "  /* fitted */\n",
       "  background-color: var(--sklearn-color-fitted-level-3);\n",
       "  color: var(--sklearn-color-background);\n",
       "  text-decoration: none;\n",
       "}\n",
       "\n",
       "/* Span, style for the box shown on hovering the info icon */\n",
       ".sk-estimator-doc-link span {\n",
       "  display: none;\n",
       "  z-index: 9999;\n",
       "  position: relative;\n",
       "  font-weight: normal;\n",
       "  right: .2ex;\n",
       "  padding: .5ex;\n",
       "  margin: .5ex;\n",
       "  width: min-content;\n",
       "  min-width: 20ex;\n",
       "  max-width: 50ex;\n",
       "  color: var(--sklearn-color-text);\n",
       "  box-shadow: 2pt 2pt 4pt #999;\n",
       "  /* unfitted */\n",
       "  background: var(--sklearn-color-unfitted-level-0);\n",
       "  border: .5pt solid var(--sklearn-color-unfitted-level-3);\n",
       "}\n",
       "\n",
       ".sk-estimator-doc-link.fitted span {\n",
       "  /* fitted */\n",
       "  background: var(--sklearn-color-fitted-level-0);\n",
       "  border: var(--sklearn-color-fitted-level-3);\n",
       "}\n",
       "\n",
       ".sk-estimator-doc-link:hover span {\n",
       "  display: block;\n",
       "}\n",
       "\n",
       "/* \"?\"-specific style due to the `<a>` HTML tag */\n",
       "\n",
       "#sk-container-id-2 a.estimator_doc_link {\n",
       "  float: right;\n",
       "  font-size: 1rem;\n",
       "  line-height: 1em;\n",
       "  font-family: monospace;\n",
       "  background-color: var(--sklearn-color-background);\n",
       "  border-radius: 1rem;\n",
       "  height: 1rem;\n",
       "  width: 1rem;\n",
       "  text-decoration: none;\n",
       "  /* unfitted */\n",
       "  color: var(--sklearn-color-unfitted-level-1);\n",
       "  border: var(--sklearn-color-unfitted-level-1) 1pt solid;\n",
       "}\n",
       "\n",
       "#sk-container-id-2 a.estimator_doc_link.fitted {\n",
       "  /* fitted */\n",
       "  border: var(--sklearn-color-fitted-level-1) 1pt solid;\n",
       "  color: var(--sklearn-color-fitted-level-1);\n",
       "}\n",
       "\n",
       "/* On hover */\n",
       "#sk-container-id-2 a.estimator_doc_link:hover {\n",
       "  /* unfitted */\n",
       "  background-color: var(--sklearn-color-unfitted-level-3);\n",
       "  color: var(--sklearn-color-background);\n",
       "  text-decoration: none;\n",
       "}\n",
       "\n",
       "#sk-container-id-2 a.estimator_doc_link.fitted:hover {\n",
       "  /* fitted */\n",
       "  background-color: var(--sklearn-color-fitted-level-3);\n",
       "}\n",
       "\n",
       ".estimator-table summary {\n",
       "    padding: .5rem;\n",
       "    font-family: monospace;\n",
       "    cursor: pointer;\n",
       "}\n",
       "\n",
       ".estimator-table details[open] {\n",
       "    padding-left: 0.1rem;\n",
       "    padding-right: 0.1rem;\n",
       "    padding-bottom: 0.3rem;\n",
       "}\n",
       "\n",
       ".estimator-table .parameters-table {\n",
       "    margin-left: auto !important;\n",
       "    margin-right: auto !important;\n",
       "}\n",
       "\n",
       ".estimator-table .parameters-table tr:nth-child(odd) {\n",
       "    background-color: #fff;\n",
       "}\n",
       "\n",
       ".estimator-table .parameters-table tr:nth-child(even) {\n",
       "    background-color: #f6f6f6;\n",
       "}\n",
       "\n",
       ".estimator-table .parameters-table tr:hover {\n",
       "    background-color: #e0e0e0;\n",
       "}\n",
       "\n",
       ".estimator-table table td {\n",
       "    border: 1px solid rgba(106, 105, 104, 0.232);\n",
       "}\n",
       "\n",
       ".user-set td {\n",
       "    color:rgb(255, 94, 0);\n",
       "    text-align: left;\n",
       "}\n",
       "\n",
       ".user-set td.value pre {\n",
       "    color:rgb(255, 94, 0) !important;\n",
       "    background-color: transparent !important;\n",
       "}\n",
       "\n",
       ".default td {\n",
       "    color: black;\n",
       "    text-align: left;\n",
       "}\n",
       "\n",
       ".user-set td i,\n",
       ".default td i {\n",
       "    color: black;\n",
       "}\n",
       "\n",
       ".copy-paste-icon {\n",
       "    background-image: url(data:image/svg+xml;base64,PHN2ZyB4bWxucz0iaHR0cDovL3d3dy53My5vcmcvMjAwMC9zdmciIHZpZXdCb3g9IjAgMCA0NDggNTEyIj48IS0tIUZvbnQgQXdlc29tZSBGcmVlIDYuNy4yIGJ5IEBmb250YXdlc29tZSAtIGh0dHBzOi8vZm9udGF3ZXNvbWUuY29tIExpY2Vuc2UgLSBodHRwczovL2ZvbnRhd2Vzb21lLmNvbS9saWNlbnNlL2ZyZWUgQ29weXJpZ2h0IDIwMjUgRm9udGljb25zLCBJbmMuLS0+PHBhdGggZD0iTTIwOCAwTDMzMi4xIDBjMTIuNyAwIDI0LjkgNS4xIDMzLjkgMTQuMWw2Ny45IDY3LjljOSA5IDE0LjEgMjEuMiAxNC4xIDMzLjlMNDQ4IDMzNmMwIDI2LjUtMjEuNSA0OC00OCA0OGwtMTkyIDBjLTI2LjUgMC00OC0yMS41LTQ4LTQ4bDAtMjg4YzAtMjYuNSAyMS41LTQ4IDQ4LTQ4ek00OCAxMjhsODAgMCAwIDY0LTY0IDAgMCAyNTYgMTkyIDAgMC0zMiA2NCAwIDAgNDhjMCAyNi41LTIxLjUgNDgtNDggNDhMNDggNTEyYy0yNi41IDAtNDgtMjEuNS00OC00OEwwIDE3NmMwLTI2LjUgMjEuNS00OCA0OC00OHoiLz48L3N2Zz4=);\n",
       "    background-repeat: no-repeat;\n",
       "    background-size: 14px 14px;\n",
       "    background-position: 0;\n",
       "    display: inline-block;\n",
       "    width: 14px;\n",
       "    height: 14px;\n",
       "    cursor: pointer;\n",
       "}\n",
       "</style><body><div id=\"sk-container-id-2\" class=\"sk-top-container\"><div class=\"sk-text-repr-fallback\"><pre>SVR()</pre><b>In a Jupyter environment, please rerun this cell to show the HTML representation or trust the notebook. <br />On GitHub, the HTML representation is unable to render, please try loading this page with nbviewer.org.</b></div><div class=\"sk-container\" hidden><div class=\"sk-item\"><div class=\"sk-estimator fitted sk-toggleable\"><input class=\"sk-toggleable__control sk-hidden--visually\" id=\"sk-estimator-id-2\" type=\"checkbox\" checked><label for=\"sk-estimator-id-2\" class=\"sk-toggleable__label fitted sk-toggleable__label-arrow\"><div><div>SVR</div></div><div><a class=\"sk-estimator-doc-link fitted\" rel=\"noreferrer\" target=\"_blank\" href=\"https://scikit-learn.org/1.7/modules/generated/sklearn.svm.SVR.html\">?<span>Documentation for SVR</span></a><span class=\"sk-estimator-doc-link fitted\">i<span>Fitted</span></span></div></label><div class=\"sk-toggleable__content fitted\" data-param-prefix=\"\">\n",
       "        <div class=\"estimator-table\">\n",
       "            <details>\n",
       "                <summary>Parameters</summary>\n",
       "                <table class=\"parameters-table\">\n",
       "                  <tbody>\n",
       "                    \n",
       "        <tr class=\"default\">\n",
       "            <td><i class=\"copy-paste-icon\"\n",
       "                 onclick=\"copyToClipboard('kernel',\n",
       "                          this.parentElement.nextElementSibling)\"\n",
       "            ></i></td>\n",
       "            <td class=\"param\">kernel&nbsp;</td>\n",
       "            <td class=\"value\">&#x27;rbf&#x27;</td>\n",
       "        </tr>\n",
       "    \n",
       "\n",
       "        <tr class=\"default\">\n",
       "            <td><i class=\"copy-paste-icon\"\n",
       "                 onclick=\"copyToClipboard('degree',\n",
       "                          this.parentElement.nextElementSibling)\"\n",
       "            ></i></td>\n",
       "            <td class=\"param\">degree&nbsp;</td>\n",
       "            <td class=\"value\">3</td>\n",
       "        </tr>\n",
       "    \n",
       "\n",
       "        <tr class=\"default\">\n",
       "            <td><i class=\"copy-paste-icon\"\n",
       "                 onclick=\"copyToClipboard('gamma',\n",
       "                          this.parentElement.nextElementSibling)\"\n",
       "            ></i></td>\n",
       "            <td class=\"param\">gamma&nbsp;</td>\n",
       "            <td class=\"value\">&#x27;scale&#x27;</td>\n",
       "        </tr>\n",
       "    \n",
       "\n",
       "        <tr class=\"default\">\n",
       "            <td><i class=\"copy-paste-icon\"\n",
       "                 onclick=\"copyToClipboard('coef0',\n",
       "                          this.parentElement.nextElementSibling)\"\n",
       "            ></i></td>\n",
       "            <td class=\"param\">coef0&nbsp;</td>\n",
       "            <td class=\"value\">0.0</td>\n",
       "        </tr>\n",
       "    \n",
       "\n",
       "        <tr class=\"default\">\n",
       "            <td><i class=\"copy-paste-icon\"\n",
       "                 onclick=\"copyToClipboard('tol',\n",
       "                          this.parentElement.nextElementSibling)\"\n",
       "            ></i></td>\n",
       "            <td class=\"param\">tol&nbsp;</td>\n",
       "            <td class=\"value\">0.001</td>\n",
       "        </tr>\n",
       "    \n",
       "\n",
       "        <tr class=\"default\">\n",
       "            <td><i class=\"copy-paste-icon\"\n",
       "                 onclick=\"copyToClipboard('C',\n",
       "                          this.parentElement.nextElementSibling)\"\n",
       "            ></i></td>\n",
       "            <td class=\"param\">C&nbsp;</td>\n",
       "            <td class=\"value\">1.0</td>\n",
       "        </tr>\n",
       "    \n",
       "\n",
       "        <tr class=\"default\">\n",
       "            <td><i class=\"copy-paste-icon\"\n",
       "                 onclick=\"copyToClipboard('epsilon',\n",
       "                          this.parentElement.nextElementSibling)\"\n",
       "            ></i></td>\n",
       "            <td class=\"param\">epsilon&nbsp;</td>\n",
       "            <td class=\"value\">0.1</td>\n",
       "        </tr>\n",
       "    \n",
       "\n",
       "        <tr class=\"default\">\n",
       "            <td><i class=\"copy-paste-icon\"\n",
       "                 onclick=\"copyToClipboard('shrinking',\n",
       "                          this.parentElement.nextElementSibling)\"\n",
       "            ></i></td>\n",
       "            <td class=\"param\">shrinking&nbsp;</td>\n",
       "            <td class=\"value\">True</td>\n",
       "        </tr>\n",
       "    \n",
       "\n",
       "        <tr class=\"default\">\n",
       "            <td><i class=\"copy-paste-icon\"\n",
       "                 onclick=\"copyToClipboard('cache_size',\n",
       "                          this.parentElement.nextElementSibling)\"\n",
       "            ></i></td>\n",
       "            <td class=\"param\">cache_size&nbsp;</td>\n",
       "            <td class=\"value\">200</td>\n",
       "        </tr>\n",
       "    \n",
       "\n",
       "        <tr class=\"default\">\n",
       "            <td><i class=\"copy-paste-icon\"\n",
       "                 onclick=\"copyToClipboard('verbose',\n",
       "                          this.parentElement.nextElementSibling)\"\n",
       "            ></i></td>\n",
       "            <td class=\"param\">verbose&nbsp;</td>\n",
       "            <td class=\"value\">False</td>\n",
       "        </tr>\n",
       "    \n",
       "\n",
       "        <tr class=\"default\">\n",
       "            <td><i class=\"copy-paste-icon\"\n",
       "                 onclick=\"copyToClipboard('max_iter',\n",
       "                          this.parentElement.nextElementSibling)\"\n",
       "            ></i></td>\n",
       "            <td class=\"param\">max_iter&nbsp;</td>\n",
       "            <td class=\"value\">-1</td>\n",
       "        </tr>\n",
       "    \n",
       "                  </tbody>\n",
       "                </table>\n",
       "            </details>\n",
       "        </div>\n",
       "    </div></div></div></div></div><script>function copyToClipboard(text, element) {\n",
       "    // Get the parameter prefix from the closest toggleable content\n",
       "    const toggleableContent = element.closest('.sk-toggleable__content');\n",
       "    const paramPrefix = toggleableContent ? toggleableContent.dataset.paramPrefix : '';\n",
       "    const fullParamName = paramPrefix ? `${paramPrefix}${text}` : text;\n",
       "\n",
       "    const originalStyle = element.style;\n",
       "    const computedStyle = window.getComputedStyle(element);\n",
       "    const originalWidth = computedStyle.width;\n",
       "    const originalHTML = element.innerHTML.replace('Copied!', '');\n",
       "\n",
       "    navigator.clipboard.writeText(fullParamName)\n",
       "        .then(() => {\n",
       "            element.style.width = originalWidth;\n",
       "            element.style.color = 'green';\n",
       "            element.innerHTML = \"Copied!\";\n",
       "\n",
       "            setTimeout(() => {\n",
       "                element.innerHTML = originalHTML;\n",
       "                element.style = originalStyle;\n",
       "            }, 2000);\n",
       "        })\n",
       "        .catch(err => {\n",
       "            console.error('Failed to copy:', err);\n",
       "            element.style.color = 'red';\n",
       "            element.innerHTML = \"Failed!\";\n",
       "            setTimeout(() => {\n",
       "                element.innerHTML = originalHTML;\n",
       "                element.style = originalStyle;\n",
       "            }, 2000);\n",
       "        });\n",
       "    return false;\n",
       "}\n",
       "\n",
       "document.querySelectorAll('.fa-regular.fa-copy').forEach(function(element) {\n",
       "    const toggleableContent = element.closest('.sk-toggleable__content');\n",
       "    const paramPrefix = toggleableContent ? toggleableContent.dataset.paramPrefix : '';\n",
       "    const paramName = element.parentElement.nextElementSibling.textContent.trim();\n",
       "    const fullParamName = paramPrefix ? `${paramPrefix}${paramName}` : paramName;\n",
       "\n",
       "    element.setAttribute('title', fullParamName);\n",
       "});\n",
       "</script></body>"
      ],
      "text/plain": [
       "SVR()"
      ]
     },
     "execution_count": 57,
     "metadata": {},
     "output_type": "execute_result"
    }
   ],
   "source": [
    "from sklearn.svm import SVR\n",
    "svr =SVR()\n",
    "svr.fit(x_train, y_train)"
   ]
  },
  {
   "cell_type": "code",
   "execution_count": 58,
   "id": "32d22243",
   "metadata": {},
   "outputs": [
    {
     "data": {
      "text/plain": [
       "-0.09586602183485948"
      ]
     },
     "execution_count": 58,
     "metadata": {},
     "output_type": "execute_result"
    }
   ],
   "source": [
    "svr.score(x_train, y_train)"
   ]
  },
  {
   "cell_type": "code",
   "execution_count": 59,
   "id": "1419ed2f",
   "metadata": {},
   "outputs": [
    {
     "data": {
      "text/plain": [
       "-0.07504915680662716"
      ]
     },
     "execution_count": 59,
     "metadata": {},
     "output_type": "execute_result"
    }
   ],
   "source": [
    "svr.score(x_test, y_test)"
   ]
  },
  {
   "cell_type": "code",
   "execution_count": 60,
   "id": "a57f18f9",
   "metadata": {},
   "outputs": [],
   "source": [
    "from sklearn.model_selection import train_test_split\n",
    "x_train, x_test, y_train, y_test = train_test_split(x, y, test_size=0.2)\n"
   ]
  },
  {
   "cell_type": "code",
   "execution_count": 61,
   "id": "71a1fe7b",
   "metadata": {},
   "outputs": [
    {
     "data": {
      "text/plain": [
       "((3613, 5), (904, 5), (3613, 1), (904, 1))"
      ]
     },
     "execution_count": 61,
     "metadata": {},
     "output_type": "execute_result"
    }
   ],
   "source": [
    "x_train.shape, x_test.shape, y_train.shape, y_test.shape"
   ]
  },
  {
   "cell_type": "code",
   "execution_count": 62,
   "id": "ed63b614",
   "metadata": {},
   "outputs": [
    {
     "name": "stderr",
     "output_type": "stream",
     "text": [
      "C:\\Users\\chand\\AppData\\Local\\Packages\\PythonSoftwareFoundation.Python.3.11_qbz5n2kfra8p0\\LocalCache\\local-packages\\Python311\\site-packages\\sklearn\\utils\\validation.py:1406: DataConversionWarning: A column-vector y was passed when a 1d array was expected. Please change the shape of y to (n_samples, ), for example using ravel().\n",
      "  y = column_or_1d(y, warn=True)\n",
      "C:\\Users\\chand\\AppData\\Local\\Packages\\PythonSoftwareFoundation.Python.3.11_qbz5n2kfra8p0\\LocalCache\\local-packages\\Python311\\site-packages\\sklearn\\utils\\multiclass.py:213: UserWarning: The number of unique classes is greater than 50% of the number of samples.\n",
      "  y_type = type_of_target(y, input_name=\"y\")\n"
     ]
    },
    {
     "data": {
      "text/html": [
       "<style>#sk-container-id-3 {\n",
       "  /* Definition of color scheme common for light and dark mode */\n",
       "  --sklearn-color-text: #000;\n",
       "  --sklearn-color-text-muted: #666;\n",
       "  --sklearn-color-line: gray;\n",
       "  /* Definition of color scheme for unfitted estimators */\n",
       "  --sklearn-color-unfitted-level-0: #fff5e6;\n",
       "  --sklearn-color-unfitted-level-1: #f6e4d2;\n",
       "  --sklearn-color-unfitted-level-2: #ffe0b3;\n",
       "  --sklearn-color-unfitted-level-3: chocolate;\n",
       "  /* Definition of color scheme for fitted estimators */\n",
       "  --sklearn-color-fitted-level-0: #f0f8ff;\n",
       "  --sklearn-color-fitted-level-1: #d4ebff;\n",
       "  --sklearn-color-fitted-level-2: #b3dbfd;\n",
       "  --sklearn-color-fitted-level-3: cornflowerblue;\n",
       "\n",
       "  /* Specific color for light theme */\n",
       "  --sklearn-color-text-on-default-background: var(--sg-text-color, var(--theme-code-foreground, var(--jp-content-font-color1, black)));\n",
       "  --sklearn-color-background: var(--sg-background-color, var(--theme-background, var(--jp-layout-color0, white)));\n",
       "  --sklearn-color-border-box: var(--sg-text-color, var(--theme-code-foreground, var(--jp-content-font-color1, black)));\n",
       "  --sklearn-color-icon: #696969;\n",
       "\n",
       "  @media (prefers-color-scheme: dark) {\n",
       "    /* Redefinition of color scheme for dark theme */\n",
       "    --sklearn-color-text-on-default-background: var(--sg-text-color, var(--theme-code-foreground, var(--jp-content-font-color1, white)));\n",
       "    --sklearn-color-background: var(--sg-background-color, var(--theme-background, var(--jp-layout-color0, #111)));\n",
       "    --sklearn-color-border-box: var(--sg-text-color, var(--theme-code-foreground, var(--jp-content-font-color1, white)));\n",
       "    --sklearn-color-icon: #878787;\n",
       "  }\n",
       "}\n",
       "\n",
       "#sk-container-id-3 {\n",
       "  color: var(--sklearn-color-text);\n",
       "}\n",
       "\n",
       "#sk-container-id-3 pre {\n",
       "  padding: 0;\n",
       "}\n",
       "\n",
       "#sk-container-id-3 input.sk-hidden--visually {\n",
       "  border: 0;\n",
       "  clip: rect(1px 1px 1px 1px);\n",
       "  clip: rect(1px, 1px, 1px, 1px);\n",
       "  height: 1px;\n",
       "  margin: -1px;\n",
       "  overflow: hidden;\n",
       "  padding: 0;\n",
       "  position: absolute;\n",
       "  width: 1px;\n",
       "}\n",
       "\n",
       "#sk-container-id-3 div.sk-dashed-wrapped {\n",
       "  border: 1px dashed var(--sklearn-color-line);\n",
       "  margin: 0 0.4em 0.5em 0.4em;\n",
       "  box-sizing: border-box;\n",
       "  padding-bottom: 0.4em;\n",
       "  background-color: var(--sklearn-color-background);\n",
       "}\n",
       "\n",
       "#sk-container-id-3 div.sk-container {\n",
       "  /* jupyter's `normalize.less` sets `[hidden] { display: none; }`\n",
       "     but bootstrap.min.css set `[hidden] { display: none !important; }`\n",
       "     so we also need the `!important` here to be able to override the\n",
       "     default hidden behavior on the sphinx rendered scikit-learn.org.\n",
       "     See: https://github.com/scikit-learn/scikit-learn/issues/21755 */\n",
       "  display: inline-block !important;\n",
       "  position: relative;\n",
       "}\n",
       "\n",
       "#sk-container-id-3 div.sk-text-repr-fallback {\n",
       "  display: none;\n",
       "}\n",
       "\n",
       "div.sk-parallel-item,\n",
       "div.sk-serial,\n",
       "div.sk-item {\n",
       "  /* draw centered vertical line to link estimators */\n",
       "  background-image: linear-gradient(var(--sklearn-color-text-on-default-background), var(--sklearn-color-text-on-default-background));\n",
       "  background-size: 2px 100%;\n",
       "  background-repeat: no-repeat;\n",
       "  background-position: center center;\n",
       "}\n",
       "\n",
       "/* Parallel-specific style estimator block */\n",
       "\n",
       "#sk-container-id-3 div.sk-parallel-item::after {\n",
       "  content: \"\";\n",
       "  width: 100%;\n",
       "  border-bottom: 2px solid var(--sklearn-color-text-on-default-background);\n",
       "  flex-grow: 1;\n",
       "}\n",
       "\n",
       "#sk-container-id-3 div.sk-parallel {\n",
       "  display: flex;\n",
       "  align-items: stretch;\n",
       "  justify-content: center;\n",
       "  background-color: var(--sklearn-color-background);\n",
       "  position: relative;\n",
       "}\n",
       "\n",
       "#sk-container-id-3 div.sk-parallel-item {\n",
       "  display: flex;\n",
       "  flex-direction: column;\n",
       "}\n",
       "\n",
       "#sk-container-id-3 div.sk-parallel-item:first-child::after {\n",
       "  align-self: flex-end;\n",
       "  width: 50%;\n",
       "}\n",
       "\n",
       "#sk-container-id-3 div.sk-parallel-item:last-child::after {\n",
       "  align-self: flex-start;\n",
       "  width: 50%;\n",
       "}\n",
       "\n",
       "#sk-container-id-3 div.sk-parallel-item:only-child::after {\n",
       "  width: 0;\n",
       "}\n",
       "\n",
       "/* Serial-specific style estimator block */\n",
       "\n",
       "#sk-container-id-3 div.sk-serial {\n",
       "  display: flex;\n",
       "  flex-direction: column;\n",
       "  align-items: center;\n",
       "  background-color: var(--sklearn-color-background);\n",
       "  padding-right: 1em;\n",
       "  padding-left: 1em;\n",
       "}\n",
       "\n",
       "\n",
       "/* Toggleable style: style used for estimator/Pipeline/ColumnTransformer box that is\n",
       "clickable and can be expanded/collapsed.\n",
       "- Pipeline and ColumnTransformer use this feature and define the default style\n",
       "- Estimators will overwrite some part of the style using the `sk-estimator` class\n",
       "*/\n",
       "\n",
       "/* Pipeline and ColumnTransformer style (default) */\n",
       "\n",
       "#sk-container-id-3 div.sk-toggleable {\n",
       "  /* Default theme specific background. It is overwritten whether we have a\n",
       "  specific estimator or a Pipeline/ColumnTransformer */\n",
       "  background-color: var(--sklearn-color-background);\n",
       "}\n",
       "\n",
       "/* Toggleable label */\n",
       "#sk-container-id-3 label.sk-toggleable__label {\n",
       "  cursor: pointer;\n",
       "  display: flex;\n",
       "  width: 100%;\n",
       "  margin-bottom: 0;\n",
       "  padding: 0.5em;\n",
       "  box-sizing: border-box;\n",
       "  text-align: center;\n",
       "  align-items: start;\n",
       "  justify-content: space-between;\n",
       "  gap: 0.5em;\n",
       "}\n",
       "\n",
       "#sk-container-id-3 label.sk-toggleable__label .caption {\n",
       "  font-size: 0.6rem;\n",
       "  font-weight: lighter;\n",
       "  color: var(--sklearn-color-text-muted);\n",
       "}\n",
       "\n",
       "#sk-container-id-3 label.sk-toggleable__label-arrow:before {\n",
       "  /* Arrow on the left of the label */\n",
       "  content: \"▸\";\n",
       "  float: left;\n",
       "  margin-right: 0.25em;\n",
       "  color: var(--sklearn-color-icon);\n",
       "}\n",
       "\n",
       "#sk-container-id-3 label.sk-toggleable__label-arrow:hover:before {\n",
       "  color: var(--sklearn-color-text);\n",
       "}\n",
       "\n",
       "/* Toggleable content - dropdown */\n",
       "\n",
       "#sk-container-id-3 div.sk-toggleable__content {\n",
       "  display: none;\n",
       "  text-align: left;\n",
       "  /* unfitted */\n",
       "  background-color: var(--sklearn-color-unfitted-level-0);\n",
       "}\n",
       "\n",
       "#sk-container-id-3 div.sk-toggleable__content.fitted {\n",
       "  /* fitted */\n",
       "  background-color: var(--sklearn-color-fitted-level-0);\n",
       "}\n",
       "\n",
       "#sk-container-id-3 div.sk-toggleable__content pre {\n",
       "  margin: 0.2em;\n",
       "  border-radius: 0.25em;\n",
       "  color: var(--sklearn-color-text);\n",
       "  /* unfitted */\n",
       "  background-color: var(--sklearn-color-unfitted-level-0);\n",
       "}\n",
       "\n",
       "#sk-container-id-3 div.sk-toggleable__content.fitted pre {\n",
       "  /* unfitted */\n",
       "  background-color: var(--sklearn-color-fitted-level-0);\n",
       "}\n",
       "\n",
       "#sk-container-id-3 input.sk-toggleable__control:checked~div.sk-toggleable__content {\n",
       "  /* Expand drop-down */\n",
       "  display: block;\n",
       "  width: 100%;\n",
       "  overflow: visible;\n",
       "}\n",
       "\n",
       "#sk-container-id-3 input.sk-toggleable__control:checked~label.sk-toggleable__label-arrow:before {\n",
       "  content: \"▾\";\n",
       "}\n",
       "\n",
       "/* Pipeline/ColumnTransformer-specific style */\n",
       "\n",
       "#sk-container-id-3 div.sk-label input.sk-toggleable__control:checked~label.sk-toggleable__label {\n",
       "  color: var(--sklearn-color-text);\n",
       "  background-color: var(--sklearn-color-unfitted-level-2);\n",
       "}\n",
       "\n",
       "#sk-container-id-3 div.sk-label.fitted input.sk-toggleable__control:checked~label.sk-toggleable__label {\n",
       "  background-color: var(--sklearn-color-fitted-level-2);\n",
       "}\n",
       "\n",
       "/* Estimator-specific style */\n",
       "\n",
       "/* Colorize estimator box */\n",
       "#sk-container-id-3 div.sk-estimator input.sk-toggleable__control:checked~label.sk-toggleable__label {\n",
       "  /* unfitted */\n",
       "  background-color: var(--sklearn-color-unfitted-level-2);\n",
       "}\n",
       "\n",
       "#sk-container-id-3 div.sk-estimator.fitted input.sk-toggleable__control:checked~label.sk-toggleable__label {\n",
       "  /* fitted */\n",
       "  background-color: var(--sklearn-color-fitted-level-2);\n",
       "}\n",
       "\n",
       "#sk-container-id-3 div.sk-label label.sk-toggleable__label,\n",
       "#sk-container-id-3 div.sk-label label {\n",
       "  /* The background is the default theme color */\n",
       "  color: var(--sklearn-color-text-on-default-background);\n",
       "}\n",
       "\n",
       "/* On hover, darken the color of the background */\n",
       "#sk-container-id-3 div.sk-label:hover label.sk-toggleable__label {\n",
       "  color: var(--sklearn-color-text);\n",
       "  background-color: var(--sklearn-color-unfitted-level-2);\n",
       "}\n",
       "\n",
       "/* Label box, darken color on hover, fitted */\n",
       "#sk-container-id-3 div.sk-label.fitted:hover label.sk-toggleable__label.fitted {\n",
       "  color: var(--sklearn-color-text);\n",
       "  background-color: var(--sklearn-color-fitted-level-2);\n",
       "}\n",
       "\n",
       "/* Estimator label */\n",
       "\n",
       "#sk-container-id-3 div.sk-label label {\n",
       "  font-family: monospace;\n",
       "  font-weight: bold;\n",
       "  display: inline-block;\n",
       "  line-height: 1.2em;\n",
       "}\n",
       "\n",
       "#sk-container-id-3 div.sk-label-container {\n",
       "  text-align: center;\n",
       "}\n",
       "\n",
       "/* Estimator-specific */\n",
       "#sk-container-id-3 div.sk-estimator {\n",
       "  font-family: monospace;\n",
       "  border: 1px dotted var(--sklearn-color-border-box);\n",
       "  border-radius: 0.25em;\n",
       "  box-sizing: border-box;\n",
       "  margin-bottom: 0.5em;\n",
       "  /* unfitted */\n",
       "  background-color: var(--sklearn-color-unfitted-level-0);\n",
       "}\n",
       "\n",
       "#sk-container-id-3 div.sk-estimator.fitted {\n",
       "  /* fitted */\n",
       "  background-color: var(--sklearn-color-fitted-level-0);\n",
       "}\n",
       "\n",
       "/* on hover */\n",
       "#sk-container-id-3 div.sk-estimator:hover {\n",
       "  /* unfitted */\n",
       "  background-color: var(--sklearn-color-unfitted-level-2);\n",
       "}\n",
       "\n",
       "#sk-container-id-3 div.sk-estimator.fitted:hover {\n",
       "  /* fitted */\n",
       "  background-color: var(--sklearn-color-fitted-level-2);\n",
       "}\n",
       "\n",
       "/* Specification for estimator info (e.g. \"i\" and \"?\") */\n",
       "\n",
       "/* Common style for \"i\" and \"?\" */\n",
       "\n",
       ".sk-estimator-doc-link,\n",
       "a:link.sk-estimator-doc-link,\n",
       "a:visited.sk-estimator-doc-link {\n",
       "  float: right;\n",
       "  font-size: smaller;\n",
       "  line-height: 1em;\n",
       "  font-family: monospace;\n",
       "  background-color: var(--sklearn-color-background);\n",
       "  border-radius: 1em;\n",
       "  height: 1em;\n",
       "  width: 1em;\n",
       "  text-decoration: none !important;\n",
       "  margin-left: 0.5em;\n",
       "  text-align: center;\n",
       "  /* unfitted */\n",
       "  border: var(--sklearn-color-unfitted-level-1) 1pt solid;\n",
       "  color: var(--sklearn-color-unfitted-level-1);\n",
       "}\n",
       "\n",
       ".sk-estimator-doc-link.fitted,\n",
       "a:link.sk-estimator-doc-link.fitted,\n",
       "a:visited.sk-estimator-doc-link.fitted {\n",
       "  /* fitted */\n",
       "  border: var(--sklearn-color-fitted-level-1) 1pt solid;\n",
       "  color: var(--sklearn-color-fitted-level-1);\n",
       "}\n",
       "\n",
       "/* On hover */\n",
       "div.sk-estimator:hover .sk-estimator-doc-link:hover,\n",
       ".sk-estimator-doc-link:hover,\n",
       "div.sk-label-container:hover .sk-estimator-doc-link:hover,\n",
       ".sk-estimator-doc-link:hover {\n",
       "  /* unfitted */\n",
       "  background-color: var(--sklearn-color-unfitted-level-3);\n",
       "  color: var(--sklearn-color-background);\n",
       "  text-decoration: none;\n",
       "}\n",
       "\n",
       "div.sk-estimator.fitted:hover .sk-estimator-doc-link.fitted:hover,\n",
       ".sk-estimator-doc-link.fitted:hover,\n",
       "div.sk-label-container:hover .sk-estimator-doc-link.fitted:hover,\n",
       ".sk-estimator-doc-link.fitted:hover {\n",
       "  /* fitted */\n",
       "  background-color: var(--sklearn-color-fitted-level-3);\n",
       "  color: var(--sklearn-color-background);\n",
       "  text-decoration: none;\n",
       "}\n",
       "\n",
       "/* Span, style for the box shown on hovering the info icon */\n",
       ".sk-estimator-doc-link span {\n",
       "  display: none;\n",
       "  z-index: 9999;\n",
       "  position: relative;\n",
       "  font-weight: normal;\n",
       "  right: .2ex;\n",
       "  padding: .5ex;\n",
       "  margin: .5ex;\n",
       "  width: min-content;\n",
       "  min-width: 20ex;\n",
       "  max-width: 50ex;\n",
       "  color: var(--sklearn-color-text);\n",
       "  box-shadow: 2pt 2pt 4pt #999;\n",
       "  /* unfitted */\n",
       "  background: var(--sklearn-color-unfitted-level-0);\n",
       "  border: .5pt solid var(--sklearn-color-unfitted-level-3);\n",
       "}\n",
       "\n",
       ".sk-estimator-doc-link.fitted span {\n",
       "  /* fitted */\n",
       "  background: var(--sklearn-color-fitted-level-0);\n",
       "  border: var(--sklearn-color-fitted-level-3);\n",
       "}\n",
       "\n",
       ".sk-estimator-doc-link:hover span {\n",
       "  display: block;\n",
       "}\n",
       "\n",
       "/* \"?\"-specific style due to the `<a>` HTML tag */\n",
       "\n",
       "#sk-container-id-3 a.estimator_doc_link {\n",
       "  float: right;\n",
       "  font-size: 1rem;\n",
       "  line-height: 1em;\n",
       "  font-family: monospace;\n",
       "  background-color: var(--sklearn-color-background);\n",
       "  border-radius: 1rem;\n",
       "  height: 1rem;\n",
       "  width: 1rem;\n",
       "  text-decoration: none;\n",
       "  /* unfitted */\n",
       "  color: var(--sklearn-color-unfitted-level-1);\n",
       "  border: var(--sklearn-color-unfitted-level-1) 1pt solid;\n",
       "}\n",
       "\n",
       "#sk-container-id-3 a.estimator_doc_link.fitted {\n",
       "  /* fitted */\n",
       "  border: var(--sklearn-color-fitted-level-1) 1pt solid;\n",
       "  color: var(--sklearn-color-fitted-level-1);\n",
       "}\n",
       "\n",
       "/* On hover */\n",
       "#sk-container-id-3 a.estimator_doc_link:hover {\n",
       "  /* unfitted */\n",
       "  background-color: var(--sklearn-color-unfitted-level-3);\n",
       "  color: var(--sklearn-color-background);\n",
       "  text-decoration: none;\n",
       "}\n",
       "\n",
       "#sk-container-id-3 a.estimator_doc_link.fitted:hover {\n",
       "  /* fitted */\n",
       "  background-color: var(--sklearn-color-fitted-level-3);\n",
       "}\n",
       "\n",
       ".estimator-table summary {\n",
       "    padding: .5rem;\n",
       "    font-family: monospace;\n",
       "    cursor: pointer;\n",
       "}\n",
       "\n",
       ".estimator-table details[open] {\n",
       "    padding-left: 0.1rem;\n",
       "    padding-right: 0.1rem;\n",
       "    padding-bottom: 0.3rem;\n",
       "}\n",
       "\n",
       ".estimator-table .parameters-table {\n",
       "    margin-left: auto !important;\n",
       "    margin-right: auto !important;\n",
       "}\n",
       "\n",
       ".estimator-table .parameters-table tr:nth-child(odd) {\n",
       "    background-color: #fff;\n",
       "}\n",
       "\n",
       ".estimator-table .parameters-table tr:nth-child(even) {\n",
       "    background-color: #f6f6f6;\n",
       "}\n",
       "\n",
       ".estimator-table .parameters-table tr:hover {\n",
       "    background-color: #e0e0e0;\n",
       "}\n",
       "\n",
       ".estimator-table table td {\n",
       "    border: 1px solid rgba(106, 105, 104, 0.232);\n",
       "}\n",
       "\n",
       ".user-set td {\n",
       "    color:rgb(255, 94, 0);\n",
       "    text-align: left;\n",
       "}\n",
       "\n",
       ".user-set td.value pre {\n",
       "    color:rgb(255, 94, 0) !important;\n",
       "    background-color: transparent !important;\n",
       "}\n",
       "\n",
       ".default td {\n",
       "    color: black;\n",
       "    text-align: left;\n",
       "}\n",
       "\n",
       ".user-set td i,\n",
       ".default td i {\n",
       "    color: black;\n",
       "}\n",
       "\n",
       ".copy-paste-icon {\n",
       "    background-image: url(data:image/svg+xml;base64,PHN2ZyB4bWxucz0iaHR0cDovL3d3dy53My5vcmcvMjAwMC9zdmciIHZpZXdCb3g9IjAgMCA0NDggNTEyIj48IS0tIUZvbnQgQXdlc29tZSBGcmVlIDYuNy4yIGJ5IEBmb250YXdlc29tZSAtIGh0dHBzOi8vZm9udGF3ZXNvbWUuY29tIExpY2Vuc2UgLSBodHRwczovL2ZvbnRhd2Vzb21lLmNvbS9saWNlbnNlL2ZyZWUgQ29weXJpZ2h0IDIwMjUgRm9udGljb25zLCBJbmMuLS0+PHBhdGggZD0iTTIwOCAwTDMzMi4xIDBjMTIuNyAwIDI0LjkgNS4xIDMzLjkgMTQuMWw2Ny45IDY3LjljOSA5IDE0LjEgMjEuMiAxNC4xIDMzLjlMNDQ4IDMzNmMwIDI2LjUtMjEuNSA0OC00OCA0OGwtMTkyIDBjLTI2LjUgMC00OC0yMS41LTQ4LTQ4bDAtMjg4YzAtMjYuNSAyMS41LTQ4IDQ4LTQ4ek00OCAxMjhsODAgMCAwIDY0LTY0IDAgMCAyNTYgMTkyIDAgMC0zMiA2NCAwIDAgNDhjMCAyNi41LTIxLjUgNDgtNDggNDhMNDggNTEyYy0yNi41IDAtNDgtMjEuNS00OC00OEwwIDE3NmMwLTI2LjUgMjEuNS00OCA0OC00OHoiLz48L3N2Zz4=);\n",
       "    background-repeat: no-repeat;\n",
       "    background-size: 14px 14px;\n",
       "    background-position: 0;\n",
       "    display: inline-block;\n",
       "    width: 14px;\n",
       "    height: 14px;\n",
       "    cursor: pointer;\n",
       "}\n",
       "</style><body><div id=\"sk-container-id-3\" class=\"sk-top-container\"><div class=\"sk-text-repr-fallback\"><pre>SVC()</pre><b>In a Jupyter environment, please rerun this cell to show the HTML representation or trust the notebook. <br />On GitHub, the HTML representation is unable to render, please try loading this page with nbviewer.org.</b></div><div class=\"sk-container\" hidden><div class=\"sk-item\"><div class=\"sk-estimator fitted sk-toggleable\"><input class=\"sk-toggleable__control sk-hidden--visually\" id=\"sk-estimator-id-3\" type=\"checkbox\" checked><label for=\"sk-estimator-id-3\" class=\"sk-toggleable__label fitted sk-toggleable__label-arrow\"><div><div>SVC</div></div><div><a class=\"sk-estimator-doc-link fitted\" rel=\"noreferrer\" target=\"_blank\" href=\"https://scikit-learn.org/1.7/modules/generated/sklearn.svm.SVC.html\">?<span>Documentation for SVC</span></a><span class=\"sk-estimator-doc-link fitted\">i<span>Fitted</span></span></div></label><div class=\"sk-toggleable__content fitted\" data-param-prefix=\"\">\n",
       "        <div class=\"estimator-table\">\n",
       "            <details>\n",
       "                <summary>Parameters</summary>\n",
       "                <table class=\"parameters-table\">\n",
       "                  <tbody>\n",
       "                    \n",
       "        <tr class=\"default\">\n",
       "            <td><i class=\"copy-paste-icon\"\n",
       "                 onclick=\"copyToClipboard('C',\n",
       "                          this.parentElement.nextElementSibling)\"\n",
       "            ></i></td>\n",
       "            <td class=\"param\">C&nbsp;</td>\n",
       "            <td class=\"value\">1.0</td>\n",
       "        </tr>\n",
       "    \n",
       "\n",
       "        <tr class=\"default\">\n",
       "            <td><i class=\"copy-paste-icon\"\n",
       "                 onclick=\"copyToClipboard('kernel',\n",
       "                          this.parentElement.nextElementSibling)\"\n",
       "            ></i></td>\n",
       "            <td class=\"param\">kernel&nbsp;</td>\n",
       "            <td class=\"value\">&#x27;rbf&#x27;</td>\n",
       "        </tr>\n",
       "    \n",
       "\n",
       "        <tr class=\"default\">\n",
       "            <td><i class=\"copy-paste-icon\"\n",
       "                 onclick=\"copyToClipboard('degree',\n",
       "                          this.parentElement.nextElementSibling)\"\n",
       "            ></i></td>\n",
       "            <td class=\"param\">degree&nbsp;</td>\n",
       "            <td class=\"value\">3</td>\n",
       "        </tr>\n",
       "    \n",
       "\n",
       "        <tr class=\"default\">\n",
       "            <td><i class=\"copy-paste-icon\"\n",
       "                 onclick=\"copyToClipboard('gamma',\n",
       "                          this.parentElement.nextElementSibling)\"\n",
       "            ></i></td>\n",
       "            <td class=\"param\">gamma&nbsp;</td>\n",
       "            <td class=\"value\">&#x27;scale&#x27;</td>\n",
       "        </tr>\n",
       "    \n",
       "\n",
       "        <tr class=\"default\">\n",
       "            <td><i class=\"copy-paste-icon\"\n",
       "                 onclick=\"copyToClipboard('coef0',\n",
       "                          this.parentElement.nextElementSibling)\"\n",
       "            ></i></td>\n",
       "            <td class=\"param\">coef0&nbsp;</td>\n",
       "            <td class=\"value\">0.0</td>\n",
       "        </tr>\n",
       "    \n",
       "\n",
       "        <tr class=\"default\">\n",
       "            <td><i class=\"copy-paste-icon\"\n",
       "                 onclick=\"copyToClipboard('shrinking',\n",
       "                          this.parentElement.nextElementSibling)\"\n",
       "            ></i></td>\n",
       "            <td class=\"param\">shrinking&nbsp;</td>\n",
       "            <td class=\"value\">True</td>\n",
       "        </tr>\n",
       "    \n",
       "\n",
       "        <tr class=\"default\">\n",
       "            <td><i class=\"copy-paste-icon\"\n",
       "                 onclick=\"copyToClipboard('probability',\n",
       "                          this.parentElement.nextElementSibling)\"\n",
       "            ></i></td>\n",
       "            <td class=\"param\">probability&nbsp;</td>\n",
       "            <td class=\"value\">False</td>\n",
       "        </tr>\n",
       "    \n",
       "\n",
       "        <tr class=\"default\">\n",
       "            <td><i class=\"copy-paste-icon\"\n",
       "                 onclick=\"copyToClipboard('tol',\n",
       "                          this.parentElement.nextElementSibling)\"\n",
       "            ></i></td>\n",
       "            <td class=\"param\">tol&nbsp;</td>\n",
       "            <td class=\"value\">0.001</td>\n",
       "        </tr>\n",
       "    \n",
       "\n",
       "        <tr class=\"default\">\n",
       "            <td><i class=\"copy-paste-icon\"\n",
       "                 onclick=\"copyToClipboard('cache_size',\n",
       "                          this.parentElement.nextElementSibling)\"\n",
       "            ></i></td>\n",
       "            <td class=\"param\">cache_size&nbsp;</td>\n",
       "            <td class=\"value\">200</td>\n",
       "        </tr>\n",
       "    \n",
       "\n",
       "        <tr class=\"default\">\n",
       "            <td><i class=\"copy-paste-icon\"\n",
       "                 onclick=\"copyToClipboard('class_weight',\n",
       "                          this.parentElement.nextElementSibling)\"\n",
       "            ></i></td>\n",
       "            <td class=\"param\">class_weight&nbsp;</td>\n",
       "            <td class=\"value\">None</td>\n",
       "        </tr>\n",
       "    \n",
       "\n",
       "        <tr class=\"default\">\n",
       "            <td><i class=\"copy-paste-icon\"\n",
       "                 onclick=\"copyToClipboard('verbose',\n",
       "                          this.parentElement.nextElementSibling)\"\n",
       "            ></i></td>\n",
       "            <td class=\"param\">verbose&nbsp;</td>\n",
       "            <td class=\"value\">False</td>\n",
       "        </tr>\n",
       "    \n",
       "\n",
       "        <tr class=\"default\">\n",
       "            <td><i class=\"copy-paste-icon\"\n",
       "                 onclick=\"copyToClipboard('max_iter',\n",
       "                          this.parentElement.nextElementSibling)\"\n",
       "            ></i></td>\n",
       "            <td class=\"param\">max_iter&nbsp;</td>\n",
       "            <td class=\"value\">-1</td>\n",
       "        </tr>\n",
       "    \n",
       "\n",
       "        <tr class=\"default\">\n",
       "            <td><i class=\"copy-paste-icon\"\n",
       "                 onclick=\"copyToClipboard('decision_function_shape',\n",
       "                          this.parentElement.nextElementSibling)\"\n",
       "            ></i></td>\n",
       "            <td class=\"param\">decision_function_shape&nbsp;</td>\n",
       "            <td class=\"value\">&#x27;ovr&#x27;</td>\n",
       "        </tr>\n",
       "    \n",
       "\n",
       "        <tr class=\"default\">\n",
       "            <td><i class=\"copy-paste-icon\"\n",
       "                 onclick=\"copyToClipboard('break_ties',\n",
       "                          this.parentElement.nextElementSibling)\"\n",
       "            ></i></td>\n",
       "            <td class=\"param\">break_ties&nbsp;</td>\n",
       "            <td class=\"value\">False</td>\n",
       "        </tr>\n",
       "    \n",
       "\n",
       "        <tr class=\"default\">\n",
       "            <td><i class=\"copy-paste-icon\"\n",
       "                 onclick=\"copyToClipboard('random_state',\n",
       "                          this.parentElement.nextElementSibling)\"\n",
       "            ></i></td>\n",
       "            <td class=\"param\">random_state&nbsp;</td>\n",
       "            <td class=\"value\">None</td>\n",
       "        </tr>\n",
       "    \n",
       "                  </tbody>\n",
       "                </table>\n",
       "            </details>\n",
       "        </div>\n",
       "    </div></div></div></div></div><script>function copyToClipboard(text, element) {\n",
       "    // Get the parameter prefix from the closest toggleable content\n",
       "    const toggleableContent = element.closest('.sk-toggleable__content');\n",
       "    const paramPrefix = toggleableContent ? toggleableContent.dataset.paramPrefix : '';\n",
       "    const fullParamName = paramPrefix ? `${paramPrefix}${text}` : text;\n",
       "\n",
       "    const originalStyle = element.style;\n",
       "    const computedStyle = window.getComputedStyle(element);\n",
       "    const originalWidth = computedStyle.width;\n",
       "    const originalHTML = element.innerHTML.replace('Copied!', '');\n",
       "\n",
       "    navigator.clipboard.writeText(fullParamName)\n",
       "        .then(() => {\n",
       "            element.style.width = originalWidth;\n",
       "            element.style.color = 'green';\n",
       "            element.innerHTML = \"Copied!\";\n",
       "\n",
       "            setTimeout(() => {\n",
       "                element.innerHTML = originalHTML;\n",
       "                element.style = originalStyle;\n",
       "            }, 2000);\n",
       "        })\n",
       "        .catch(err => {\n",
       "            console.error('Failed to copy:', err);\n",
       "            element.style.color = 'red';\n",
       "            element.innerHTML = \"Failed!\";\n",
       "            setTimeout(() => {\n",
       "                element.innerHTML = originalHTML;\n",
       "                element.style = originalStyle;\n",
       "            }, 2000);\n",
       "        });\n",
       "    return false;\n",
       "}\n",
       "\n",
       "document.querySelectorAll('.fa-regular.fa-copy').forEach(function(element) {\n",
       "    const toggleableContent = element.closest('.sk-toggleable__content');\n",
       "    const paramPrefix = toggleableContent ? toggleableContent.dataset.paramPrefix : '';\n",
       "    const paramName = element.parentElement.nextElementSibling.textContent.trim();\n",
       "    const fullParamName = paramPrefix ? `${paramPrefix}${paramName}` : paramName;\n",
       "\n",
       "    element.setAttribute('title', fullParamName);\n",
       "});\n",
       "</script></body>"
      ],
      "text/plain": [
       "SVC()"
      ]
     },
     "execution_count": 62,
     "metadata": {},
     "output_type": "execute_result"
    }
   ],
   "source": [
    "from sklearn.svm import SVC\n",
    "svc = SVC()\n",
    "svc.fit(x_train, y_train)"
   ]
  },
  {
   "cell_type": "code",
   "execution_count": 63,
   "id": "db1a11dd",
   "metadata": {},
   "outputs": [
    {
     "name": "stderr",
     "output_type": "stream",
     "text": [
      "C:\\Users\\chand\\AppData\\Local\\Packages\\PythonSoftwareFoundation.Python.3.11_qbz5n2kfra8p0\\LocalCache\\local-packages\\Python311\\site-packages\\sklearn\\metrics\\_classification.py:98: UserWarning: The number of unique classes is greater than 50% of the number of samples.\n",
      "  type_true = type_of_target(y_true, input_name=\"y_true\")\n"
     ]
    },
    {
     "data": {
      "text/plain": [
       "0.08185840707964602"
      ]
     },
     "execution_count": 63,
     "metadata": {},
     "output_type": "execute_result"
    }
   ],
   "source": [
    "svc.score(x_test, y_test)"
   ]
  },
  {
   "cell_type": "code",
   "execution_count": 64,
   "id": "7599d574",
   "metadata": {},
   "outputs": [
    {
     "data": {
      "text/plain": [
       "array([[5.1, 3.5, 1.4, 0.2],\n",
       "       [4.9, 3. , 1.4, 0.2],\n",
       "       [4.7, 3.2, 1.3, 0.2],\n",
       "       [4.6, 3.1, 1.5, 0.2],\n",
       "       [5. , 3.6, 1.4, 0.2],\n",
       "       [5.4, 3.9, 1.7, 0.4],\n",
       "       [4.6, 3.4, 1.4, 0.3],\n",
       "       [5. , 3.4, 1.5, 0.2],\n",
       "       [4.4, 2.9, 1.4, 0.2],\n",
       "       [4.9, 3.1, 1.5, 0.1],\n",
       "       [5.4, 3.7, 1.5, 0.2],\n",
       "       [4.8, 3.4, 1.6, 0.2],\n",
       "       [4.8, 3. , 1.4, 0.1],\n",
       "       [4.3, 3. , 1.1, 0.1],\n",
       "       [5.8, 4. , 1.2, 0.2],\n",
       "       [5.7, 4.4, 1.5, 0.4],\n",
       "       [5.4, 3.9, 1.3, 0.4],\n",
       "       [5.1, 3.5, 1.4, 0.3],\n",
       "       [5.7, 3.8, 1.7, 0.3],\n",
       "       [5.1, 3.8, 1.5, 0.3],\n",
       "       [5.4, 3.4, 1.7, 0.2],\n",
       "       [5.1, 3.7, 1.5, 0.4],\n",
       "       [4.6, 3.6, 1. , 0.2],\n",
       "       [5.1, 3.3, 1.7, 0.5],\n",
       "       [4.8, 3.4, 1.9, 0.2],\n",
       "       [5. , 3. , 1.6, 0.2],\n",
       "       [5. , 3.4, 1.6, 0.4],\n",
       "       [5.2, 3.5, 1.5, 0.2],\n",
       "       [5.2, 3.4, 1.4, 0.2],\n",
       "       [4.7, 3.2, 1.6, 0.2],\n",
       "       [4.8, 3.1, 1.6, 0.2],\n",
       "       [5.4, 3.4, 1.5, 0.4],\n",
       "       [5.2, 4.1, 1.5, 0.1],\n",
       "       [5.5, 4.2, 1.4, 0.2],\n",
       "       [4.9, 3.1, 1.5, 0.2],\n",
       "       [5. , 3.2, 1.2, 0.2],\n",
       "       [5.5, 3.5, 1.3, 0.2],\n",
       "       [4.9, 3.6, 1.4, 0.1],\n",
       "       [4.4, 3. , 1.3, 0.2],\n",
       "       [5.1, 3.4, 1.5, 0.2],\n",
       "       [5. , 3.5, 1.3, 0.3],\n",
       "       [4.5, 2.3, 1.3, 0.3],\n",
       "       [4.4, 3.2, 1.3, 0.2],\n",
       "       [5. , 3.5, 1.6, 0.6],\n",
       "       [5.1, 3.8, 1.9, 0.4],\n",
       "       [4.8, 3. , 1.4, 0.3],\n",
       "       [5.1, 3.8, 1.6, 0.2],\n",
       "       [4.6, 3.2, 1.4, 0.2],\n",
       "       [5.3, 3.7, 1.5, 0.2],\n",
       "       [5. , 3.3, 1.4, 0.2],\n",
       "       [7. , 3.2, 4.7, 1.4],\n",
       "       [6.4, 3.2, 4.5, 1.5],\n",
       "       [6.9, 3.1, 4.9, 1.5],\n",
       "       [5.5, 2.3, 4. , 1.3],\n",
       "       [6.5, 2.8, 4.6, 1.5],\n",
       "       [5.7, 2.8, 4.5, 1.3],\n",
       "       [6.3, 3.3, 4.7, 1.6],\n",
       "       [4.9, 2.4, 3.3, 1. ],\n",
       "       [6.6, 2.9, 4.6, 1.3],\n",
       "       [5.2, 2.7, 3.9, 1.4],\n",
       "       [5. , 2. , 3.5, 1. ],\n",
       "       [5.9, 3. , 4.2, 1.5],\n",
       "       [6. , 2.2, 4. , 1. ],\n",
       "       [6.1, 2.9, 4.7, 1.4],\n",
       "       [5.6, 2.9, 3.6, 1.3],\n",
       "       [6.7, 3.1, 4.4, 1.4],\n",
       "       [5.6, 3. , 4.5, 1.5],\n",
       "       [5.8, 2.7, 4.1, 1. ],\n",
       "       [6.2, 2.2, 4.5, 1.5],\n",
       "       [5.6, 2.5, 3.9, 1.1],\n",
       "       [5.9, 3.2, 4.8, 1.8],\n",
       "       [6.1, 2.8, 4. , 1.3],\n",
       "       [6.3, 2.5, 4.9, 1.5],\n",
       "       [6.1, 2.8, 4.7, 1.2],\n",
       "       [6.4, 2.9, 4.3, 1.3],\n",
       "       [6.6, 3. , 4.4, 1.4],\n",
       "       [6.8, 2.8, 4.8, 1.4],\n",
       "       [6.7, 3. , 5. , 1.7],\n",
       "       [6. , 2.9, 4.5, 1.5],\n",
       "       [5.7, 2.6, 3.5, 1. ],\n",
       "       [5.5, 2.4, 3.8, 1.1],\n",
       "       [5.5, 2.4, 3.7, 1. ],\n",
       "       [5.8, 2.7, 3.9, 1.2],\n",
       "       [6. , 2.7, 5.1, 1.6],\n",
       "       [5.4, 3. , 4.5, 1.5],\n",
       "       [6. , 3.4, 4.5, 1.6],\n",
       "       [6.7, 3.1, 4.7, 1.5],\n",
       "       [6.3, 2.3, 4.4, 1.3],\n",
       "       [5.6, 3. , 4.1, 1.3],\n",
       "       [5.5, 2.5, 4. , 1.3],\n",
       "       [5.5, 2.6, 4.4, 1.2],\n",
       "       [6.1, 3. , 4.6, 1.4],\n",
       "       [5.8, 2.6, 4. , 1.2],\n",
       "       [5. , 2.3, 3.3, 1. ],\n",
       "       [5.6, 2.7, 4.2, 1.3],\n",
       "       [5.7, 3. , 4.2, 1.2],\n",
       "       [5.7, 2.9, 4.2, 1.3],\n",
       "       [6.2, 2.9, 4.3, 1.3],\n",
       "       [5.1, 2.5, 3. , 1.1],\n",
       "       [5.7, 2.8, 4.1, 1.3],\n",
       "       [6.3, 3.3, 6. , 2.5],\n",
       "       [5.8, 2.7, 5.1, 1.9],\n",
       "       [7.1, 3. , 5.9, 2.1],\n",
       "       [6.3, 2.9, 5.6, 1.8],\n",
       "       [6.5, 3. , 5.8, 2.2],\n",
       "       [7.6, 3. , 6.6, 2.1],\n",
       "       [4.9, 2.5, 4.5, 1.7],\n",
       "       [7.3, 2.9, 6.3, 1.8],\n",
       "       [6.7, 2.5, 5.8, 1.8],\n",
       "       [7.2, 3.6, 6.1, 2.5],\n",
       "       [6.5, 3.2, 5.1, 2. ],\n",
       "       [6.4, 2.7, 5.3, 1.9],\n",
       "       [6.8, 3. , 5.5, 2.1],\n",
       "       [5.7, 2.5, 5. , 2. ],\n",
       "       [5.8, 2.8, 5.1, 2.4],\n",
       "       [6.4, 3.2, 5.3, 2.3],\n",
       "       [6.5, 3. , 5.5, 1.8],\n",
       "       [7.7, 3.8, 6.7, 2.2],\n",
       "       [7.7, 2.6, 6.9, 2.3],\n",
       "       [6. , 2.2, 5. , 1.5],\n",
       "       [6.9, 3.2, 5.7, 2.3],\n",
       "       [5.6, 2.8, 4.9, 2. ],\n",
       "       [7.7, 2.8, 6.7, 2. ],\n",
       "       [6.3, 2.7, 4.9, 1.8],\n",
       "       [6.7, 3.3, 5.7, 2.1],\n",
       "       [7.2, 3.2, 6. , 1.8],\n",
       "       [6.2, 2.8, 4.8, 1.8],\n",
       "       [6.1, 3. , 4.9, 1.8],\n",
       "       [6.4, 2.8, 5.6, 2.1],\n",
       "       [7.2, 3. , 5.8, 1.6],\n",
       "       [7.4, 2.8, 6.1, 1.9],\n",
       "       [7.9, 3.8, 6.4, 2. ],\n",
       "       [6.4, 2.8, 5.6, 2.2],\n",
       "       [6.3, 2.8, 5.1, 1.5],\n",
       "       [6.1, 2.6, 5.6, 1.4],\n",
       "       [7.7, 3. , 6.1, 2.3],\n",
       "       [6.3, 3.4, 5.6, 2.4],\n",
       "       [6.4, 3.1, 5.5, 1.8],\n",
       "       [6. , 3. , 4.8, 1.8],\n",
       "       [6.9, 3.1, 5.4, 2.1],\n",
       "       [6.7, 3.1, 5.6, 2.4],\n",
       "       [6.9, 3.1, 5.1, 2.3],\n",
       "       [5.8, 2.7, 5.1, 1.9],\n",
       "       [6.8, 3.2, 5.9, 2.3],\n",
       "       [6.7, 3.3, 5.7, 2.5],\n",
       "       [6.7, 3. , 5.2, 2.3],\n",
       "       [6.3, 2.5, 5. , 1.9],\n",
       "       [6.5, 3. , 5.2, 2. ],\n",
       "       [6.2, 3.4, 5.4, 2.3],\n",
       "       [5.9, 3. , 5.1, 1.8]])"
      ]
     },
     "execution_count": 64,
     "metadata": {},
     "output_type": "execute_result"
    }
   ],
   "source": [
    "from sklearn.datasets import load_iris\n",
    "x,y = load_iris(return_X_y=True)\n",
    "x"
   ]
  },
  {
   "cell_type": "code",
   "execution_count": 65,
   "id": "08113ec7",
   "metadata": {},
   "outputs": [
    {
     "data": {
      "text/plain": [
       "array([[5.1, 3.5, 1.4, 0.2],\n",
       "       [4.9, 3. , 1.4, 0.2],\n",
       "       [4.7, 3.2, 1.3, 0.2],\n",
       "       [4.6, 3.1, 1.5, 0.2],\n",
       "       [5. , 3.6, 1.4, 0.2],\n",
       "       [5.4, 3.9, 1.7, 0.4],\n",
       "       [4.6, 3.4, 1.4, 0.3],\n",
       "       [5. , 3.4, 1.5, 0.2],\n",
       "       [4.4, 2.9, 1.4, 0.2],\n",
       "       [4.9, 3.1, 1.5, 0.1],\n",
       "       [5.4, 3.7, 1.5, 0.2],\n",
       "       [4.8, 3.4, 1.6, 0.2],\n",
       "       [4.8, 3. , 1.4, 0.1],\n",
       "       [4.3, 3. , 1.1, 0.1],\n",
       "       [5.8, 4. , 1.2, 0.2],\n",
       "       [5.7, 4.4, 1.5, 0.4],\n",
       "       [5.4, 3.9, 1.3, 0.4],\n",
       "       [5.1, 3.5, 1.4, 0.3],\n",
       "       [5.7, 3.8, 1.7, 0.3],\n",
       "       [5.1, 3.8, 1.5, 0.3],\n",
       "       [5.4, 3.4, 1.7, 0.2],\n",
       "       [5.1, 3.7, 1.5, 0.4],\n",
       "       [4.6, 3.6, 1. , 0.2],\n",
       "       [5.1, 3.3, 1.7, 0.5],\n",
       "       [4.8, 3.4, 1.9, 0.2],\n",
       "       [5. , 3. , 1.6, 0.2],\n",
       "       [5. , 3.4, 1.6, 0.4],\n",
       "       [5.2, 3.5, 1.5, 0.2],\n",
       "       [5.2, 3.4, 1.4, 0.2],\n",
       "       [4.7, 3.2, 1.6, 0.2],\n",
       "       [4.8, 3.1, 1.6, 0.2],\n",
       "       [5.4, 3.4, 1.5, 0.4],\n",
       "       [5.2, 4.1, 1.5, 0.1],\n",
       "       [5.5, 4.2, 1.4, 0.2],\n",
       "       [4.9, 3.1, 1.5, 0.2],\n",
       "       [5. , 3.2, 1.2, 0.2],\n",
       "       [5.5, 3.5, 1.3, 0.2],\n",
       "       [4.9, 3.6, 1.4, 0.1],\n",
       "       [4.4, 3. , 1.3, 0.2],\n",
       "       [5.1, 3.4, 1.5, 0.2],\n",
       "       [5. , 3.5, 1.3, 0.3],\n",
       "       [4.5, 2.3, 1.3, 0.3],\n",
       "       [4.4, 3.2, 1.3, 0.2],\n",
       "       [5. , 3.5, 1.6, 0.6],\n",
       "       [5.1, 3.8, 1.9, 0.4],\n",
       "       [4.8, 3. , 1.4, 0.3],\n",
       "       [5.1, 3.8, 1.6, 0.2],\n",
       "       [4.6, 3.2, 1.4, 0.2],\n",
       "       [5.3, 3.7, 1.5, 0.2],\n",
       "       [5. , 3.3, 1.4, 0.2],\n",
       "       [7. , 3.2, 4.7, 1.4],\n",
       "       [6.4, 3.2, 4.5, 1.5],\n",
       "       [6.9, 3.1, 4.9, 1.5],\n",
       "       [5.5, 2.3, 4. , 1.3],\n",
       "       [6.5, 2.8, 4.6, 1.5],\n",
       "       [5.7, 2.8, 4.5, 1.3],\n",
       "       [6.3, 3.3, 4.7, 1.6],\n",
       "       [4.9, 2.4, 3.3, 1. ],\n",
       "       [6.6, 2.9, 4.6, 1.3],\n",
       "       [5.2, 2.7, 3.9, 1.4],\n",
       "       [5. , 2. , 3.5, 1. ],\n",
       "       [5.9, 3. , 4.2, 1.5],\n",
       "       [6. , 2.2, 4. , 1. ],\n",
       "       [6.1, 2.9, 4.7, 1.4],\n",
       "       [5.6, 2.9, 3.6, 1.3],\n",
       "       [6.7, 3.1, 4.4, 1.4],\n",
       "       [5.6, 3. , 4.5, 1.5],\n",
       "       [5.8, 2.7, 4.1, 1. ],\n",
       "       [6.2, 2.2, 4.5, 1.5],\n",
       "       [5.6, 2.5, 3.9, 1.1],\n",
       "       [5.9, 3.2, 4.8, 1.8],\n",
       "       [6.1, 2.8, 4. , 1.3],\n",
       "       [6.3, 2.5, 4.9, 1.5],\n",
       "       [6.1, 2.8, 4.7, 1.2],\n",
       "       [6.4, 2.9, 4.3, 1.3],\n",
       "       [6.6, 3. , 4.4, 1.4],\n",
       "       [6.8, 2.8, 4.8, 1.4],\n",
       "       [6.7, 3. , 5. , 1.7],\n",
       "       [6. , 2.9, 4.5, 1.5],\n",
       "       [5.7, 2.6, 3.5, 1. ],\n",
       "       [5.5, 2.4, 3.8, 1.1],\n",
       "       [5.5, 2.4, 3.7, 1. ],\n",
       "       [5.8, 2.7, 3.9, 1.2],\n",
       "       [6. , 2.7, 5.1, 1.6],\n",
       "       [5.4, 3. , 4.5, 1.5],\n",
       "       [6. , 3.4, 4.5, 1.6],\n",
       "       [6.7, 3.1, 4.7, 1.5],\n",
       "       [6.3, 2.3, 4.4, 1.3],\n",
       "       [5.6, 3. , 4.1, 1.3],\n",
       "       [5.5, 2.5, 4. , 1.3],\n",
       "       [5.5, 2.6, 4.4, 1.2],\n",
       "       [6.1, 3. , 4.6, 1.4],\n",
       "       [5.8, 2.6, 4. , 1.2],\n",
       "       [5. , 2.3, 3.3, 1. ],\n",
       "       [5.6, 2.7, 4.2, 1.3],\n",
       "       [5.7, 3. , 4.2, 1.2],\n",
       "       [5.7, 2.9, 4.2, 1.3],\n",
       "       [6.2, 2.9, 4.3, 1.3],\n",
       "       [5.1, 2.5, 3. , 1.1],\n",
       "       [5.7, 2.8, 4.1, 1.3],\n",
       "       [6.3, 3.3, 6. , 2.5],\n",
       "       [5.8, 2.7, 5.1, 1.9],\n",
       "       [7.1, 3. , 5.9, 2.1],\n",
       "       [6.3, 2.9, 5.6, 1.8],\n",
       "       [6.5, 3. , 5.8, 2.2],\n",
       "       [7.6, 3. , 6.6, 2.1],\n",
       "       [4.9, 2.5, 4.5, 1.7],\n",
       "       [7.3, 2.9, 6.3, 1.8],\n",
       "       [6.7, 2.5, 5.8, 1.8],\n",
       "       [7.2, 3.6, 6.1, 2.5],\n",
       "       [6.5, 3.2, 5.1, 2. ],\n",
       "       [6.4, 2.7, 5.3, 1.9],\n",
       "       [6.8, 3. , 5.5, 2.1],\n",
       "       [5.7, 2.5, 5. , 2. ],\n",
       "       [5.8, 2.8, 5.1, 2.4],\n",
       "       [6.4, 3.2, 5.3, 2.3],\n",
       "       [6.5, 3. , 5.5, 1.8],\n",
       "       [7.7, 3.8, 6.7, 2.2],\n",
       "       [7.7, 2.6, 6.9, 2.3],\n",
       "       [6. , 2.2, 5. , 1.5],\n",
       "       [6.9, 3.2, 5.7, 2.3],\n",
       "       [5.6, 2.8, 4.9, 2. ],\n",
       "       [7.7, 2.8, 6.7, 2. ],\n",
       "       [6.3, 2.7, 4.9, 1.8],\n",
       "       [6.7, 3.3, 5.7, 2.1],\n",
       "       [7.2, 3.2, 6. , 1.8],\n",
       "       [6.2, 2.8, 4.8, 1.8],\n",
       "       [6.1, 3. , 4.9, 1.8],\n",
       "       [6.4, 2.8, 5.6, 2.1],\n",
       "       [7.2, 3. , 5.8, 1.6],\n",
       "       [7.4, 2.8, 6.1, 1.9],\n",
       "       [7.9, 3.8, 6.4, 2. ],\n",
       "       [6.4, 2.8, 5.6, 2.2],\n",
       "       [6.3, 2.8, 5.1, 1.5],\n",
       "       [6.1, 2.6, 5.6, 1.4],\n",
       "       [7.7, 3. , 6.1, 2.3],\n",
       "       [6.3, 3.4, 5.6, 2.4],\n",
       "       [6.4, 3.1, 5.5, 1.8],\n",
       "       [6. , 3. , 4.8, 1.8],\n",
       "       [6.9, 3.1, 5.4, 2.1],\n",
       "       [6.7, 3.1, 5.6, 2.4],\n",
       "       [6.9, 3.1, 5.1, 2.3],\n",
       "       [5.8, 2.7, 5.1, 1.9],\n",
       "       [6.8, 3.2, 5.9, 2.3],\n",
       "       [6.7, 3.3, 5.7, 2.5],\n",
       "       [6.7, 3. , 5.2, 2.3],\n",
       "       [6.3, 2.5, 5. , 1.9],\n",
       "       [6.5, 3. , 5.2, 2. ],\n",
       "       [6.2, 3.4, 5.4, 2.3],\n",
       "       [5.9, 3. , 5.1, 1.8]])"
      ]
     },
     "execution_count": 65,
     "metadata": {},
     "output_type": "execute_result"
    }
   ],
   "source": [
    "x"
   ]
  },
  {
   "cell_type": "code",
   "execution_count": 66,
   "id": "eb37aaa9",
   "metadata": {},
   "outputs": [
    {
     "data": {
      "text/plain": [
       "array([0, 0, 0, 0, 0, 0, 0, 0, 0, 0, 0, 0, 0, 0, 0, 0, 0, 0, 0, 0, 0, 0,\n",
       "       0, 0, 0, 0, 0, 0, 0, 0, 0, 0, 0, 0, 0, 0, 0, 0, 0, 0, 0, 0, 0, 0,\n",
       "       0, 0, 0, 0, 0, 0, 1, 1, 1, 1, 1, 1, 1, 1, 1, 1, 1, 1, 1, 1, 1, 1,\n",
       "       1, 1, 1, 1, 1, 1, 1, 1, 1, 1, 1, 1, 1, 1, 1, 1, 1, 1, 1, 1, 1, 1,\n",
       "       1, 1, 1, 1, 1, 1, 1, 1, 1, 1, 1, 1, 2, 2, 2, 2, 2, 2, 2, 2, 2, 2,\n",
       "       2, 2, 2, 2, 2, 2, 2, 2, 2, 2, 2, 2, 2, 2, 2, 2, 2, 2, 2, 2, 2, 2,\n",
       "       2, 2, 2, 2, 2, 2, 2, 2, 2, 2, 2, 2, 2, 2, 2, 2, 2, 2])"
      ]
     },
     "execution_count": 66,
     "metadata": {},
     "output_type": "execute_result"
    }
   ],
   "source": [
    "y"
   ]
  },
  {
   "cell_type": "code",
   "execution_count": 67,
   "id": "6d642a6b",
   "metadata": {},
   "outputs": [],
   "source": [
    "from sklearn.model_selection import train_test_split\n",
    "x_train, x_test, y_train, y_test = train_test_split(x, y, test_size=0.2)\n"
   ]
  },
  {
   "cell_type": "code",
   "execution_count": 68,
   "id": "4961e0c0",
   "metadata": {},
   "outputs": [
    {
     "data": {
      "text/html": [
       "<style>#sk-container-id-4 {\n",
       "  /* Definition of color scheme common for light and dark mode */\n",
       "  --sklearn-color-text: #000;\n",
       "  --sklearn-color-text-muted: #666;\n",
       "  --sklearn-color-line: gray;\n",
       "  /* Definition of color scheme for unfitted estimators */\n",
       "  --sklearn-color-unfitted-level-0: #fff5e6;\n",
       "  --sklearn-color-unfitted-level-1: #f6e4d2;\n",
       "  --sklearn-color-unfitted-level-2: #ffe0b3;\n",
       "  --sklearn-color-unfitted-level-3: chocolate;\n",
       "  /* Definition of color scheme for fitted estimators */\n",
       "  --sklearn-color-fitted-level-0: #f0f8ff;\n",
       "  --sklearn-color-fitted-level-1: #d4ebff;\n",
       "  --sklearn-color-fitted-level-2: #b3dbfd;\n",
       "  --sklearn-color-fitted-level-3: cornflowerblue;\n",
       "\n",
       "  /* Specific color for light theme */\n",
       "  --sklearn-color-text-on-default-background: var(--sg-text-color, var(--theme-code-foreground, var(--jp-content-font-color1, black)));\n",
       "  --sklearn-color-background: var(--sg-background-color, var(--theme-background, var(--jp-layout-color0, white)));\n",
       "  --sklearn-color-border-box: var(--sg-text-color, var(--theme-code-foreground, var(--jp-content-font-color1, black)));\n",
       "  --sklearn-color-icon: #696969;\n",
       "\n",
       "  @media (prefers-color-scheme: dark) {\n",
       "    /* Redefinition of color scheme for dark theme */\n",
       "    --sklearn-color-text-on-default-background: var(--sg-text-color, var(--theme-code-foreground, var(--jp-content-font-color1, white)));\n",
       "    --sklearn-color-background: var(--sg-background-color, var(--theme-background, var(--jp-layout-color0, #111)));\n",
       "    --sklearn-color-border-box: var(--sg-text-color, var(--theme-code-foreground, var(--jp-content-font-color1, white)));\n",
       "    --sklearn-color-icon: #878787;\n",
       "  }\n",
       "}\n",
       "\n",
       "#sk-container-id-4 {\n",
       "  color: var(--sklearn-color-text);\n",
       "}\n",
       "\n",
       "#sk-container-id-4 pre {\n",
       "  padding: 0;\n",
       "}\n",
       "\n",
       "#sk-container-id-4 input.sk-hidden--visually {\n",
       "  border: 0;\n",
       "  clip: rect(1px 1px 1px 1px);\n",
       "  clip: rect(1px, 1px, 1px, 1px);\n",
       "  height: 1px;\n",
       "  margin: -1px;\n",
       "  overflow: hidden;\n",
       "  padding: 0;\n",
       "  position: absolute;\n",
       "  width: 1px;\n",
       "}\n",
       "\n",
       "#sk-container-id-4 div.sk-dashed-wrapped {\n",
       "  border: 1px dashed var(--sklearn-color-line);\n",
       "  margin: 0 0.4em 0.5em 0.4em;\n",
       "  box-sizing: border-box;\n",
       "  padding-bottom: 0.4em;\n",
       "  background-color: var(--sklearn-color-background);\n",
       "}\n",
       "\n",
       "#sk-container-id-4 div.sk-container {\n",
       "  /* jupyter's `normalize.less` sets `[hidden] { display: none; }`\n",
       "     but bootstrap.min.css set `[hidden] { display: none !important; }`\n",
       "     so we also need the `!important` here to be able to override the\n",
       "     default hidden behavior on the sphinx rendered scikit-learn.org.\n",
       "     See: https://github.com/scikit-learn/scikit-learn/issues/21755 */\n",
       "  display: inline-block !important;\n",
       "  position: relative;\n",
       "}\n",
       "\n",
       "#sk-container-id-4 div.sk-text-repr-fallback {\n",
       "  display: none;\n",
       "}\n",
       "\n",
       "div.sk-parallel-item,\n",
       "div.sk-serial,\n",
       "div.sk-item {\n",
       "  /* draw centered vertical line to link estimators */\n",
       "  background-image: linear-gradient(var(--sklearn-color-text-on-default-background), var(--sklearn-color-text-on-default-background));\n",
       "  background-size: 2px 100%;\n",
       "  background-repeat: no-repeat;\n",
       "  background-position: center center;\n",
       "}\n",
       "\n",
       "/* Parallel-specific style estimator block */\n",
       "\n",
       "#sk-container-id-4 div.sk-parallel-item::after {\n",
       "  content: \"\";\n",
       "  width: 100%;\n",
       "  border-bottom: 2px solid var(--sklearn-color-text-on-default-background);\n",
       "  flex-grow: 1;\n",
       "}\n",
       "\n",
       "#sk-container-id-4 div.sk-parallel {\n",
       "  display: flex;\n",
       "  align-items: stretch;\n",
       "  justify-content: center;\n",
       "  background-color: var(--sklearn-color-background);\n",
       "  position: relative;\n",
       "}\n",
       "\n",
       "#sk-container-id-4 div.sk-parallel-item {\n",
       "  display: flex;\n",
       "  flex-direction: column;\n",
       "}\n",
       "\n",
       "#sk-container-id-4 div.sk-parallel-item:first-child::after {\n",
       "  align-self: flex-end;\n",
       "  width: 50%;\n",
       "}\n",
       "\n",
       "#sk-container-id-4 div.sk-parallel-item:last-child::after {\n",
       "  align-self: flex-start;\n",
       "  width: 50%;\n",
       "}\n",
       "\n",
       "#sk-container-id-4 div.sk-parallel-item:only-child::after {\n",
       "  width: 0;\n",
       "}\n",
       "\n",
       "/* Serial-specific style estimator block */\n",
       "\n",
       "#sk-container-id-4 div.sk-serial {\n",
       "  display: flex;\n",
       "  flex-direction: column;\n",
       "  align-items: center;\n",
       "  background-color: var(--sklearn-color-background);\n",
       "  padding-right: 1em;\n",
       "  padding-left: 1em;\n",
       "}\n",
       "\n",
       "\n",
       "/* Toggleable style: style used for estimator/Pipeline/ColumnTransformer box that is\n",
       "clickable and can be expanded/collapsed.\n",
       "- Pipeline and ColumnTransformer use this feature and define the default style\n",
       "- Estimators will overwrite some part of the style using the `sk-estimator` class\n",
       "*/\n",
       "\n",
       "/* Pipeline and ColumnTransformer style (default) */\n",
       "\n",
       "#sk-container-id-4 div.sk-toggleable {\n",
       "  /* Default theme specific background. It is overwritten whether we have a\n",
       "  specific estimator or a Pipeline/ColumnTransformer */\n",
       "  background-color: var(--sklearn-color-background);\n",
       "}\n",
       "\n",
       "/* Toggleable label */\n",
       "#sk-container-id-4 label.sk-toggleable__label {\n",
       "  cursor: pointer;\n",
       "  display: flex;\n",
       "  width: 100%;\n",
       "  margin-bottom: 0;\n",
       "  padding: 0.5em;\n",
       "  box-sizing: border-box;\n",
       "  text-align: center;\n",
       "  align-items: start;\n",
       "  justify-content: space-between;\n",
       "  gap: 0.5em;\n",
       "}\n",
       "\n",
       "#sk-container-id-4 label.sk-toggleable__label .caption {\n",
       "  font-size: 0.6rem;\n",
       "  font-weight: lighter;\n",
       "  color: var(--sklearn-color-text-muted);\n",
       "}\n",
       "\n",
       "#sk-container-id-4 label.sk-toggleable__label-arrow:before {\n",
       "  /* Arrow on the left of the label */\n",
       "  content: \"▸\";\n",
       "  float: left;\n",
       "  margin-right: 0.25em;\n",
       "  color: var(--sklearn-color-icon);\n",
       "}\n",
       "\n",
       "#sk-container-id-4 label.sk-toggleable__label-arrow:hover:before {\n",
       "  color: var(--sklearn-color-text);\n",
       "}\n",
       "\n",
       "/* Toggleable content - dropdown */\n",
       "\n",
       "#sk-container-id-4 div.sk-toggleable__content {\n",
       "  display: none;\n",
       "  text-align: left;\n",
       "  /* unfitted */\n",
       "  background-color: var(--sklearn-color-unfitted-level-0);\n",
       "}\n",
       "\n",
       "#sk-container-id-4 div.sk-toggleable__content.fitted {\n",
       "  /* fitted */\n",
       "  background-color: var(--sklearn-color-fitted-level-0);\n",
       "}\n",
       "\n",
       "#sk-container-id-4 div.sk-toggleable__content pre {\n",
       "  margin: 0.2em;\n",
       "  border-radius: 0.25em;\n",
       "  color: var(--sklearn-color-text);\n",
       "  /* unfitted */\n",
       "  background-color: var(--sklearn-color-unfitted-level-0);\n",
       "}\n",
       "\n",
       "#sk-container-id-4 div.sk-toggleable__content.fitted pre {\n",
       "  /* unfitted */\n",
       "  background-color: var(--sklearn-color-fitted-level-0);\n",
       "}\n",
       "\n",
       "#sk-container-id-4 input.sk-toggleable__control:checked~div.sk-toggleable__content {\n",
       "  /* Expand drop-down */\n",
       "  display: block;\n",
       "  width: 100%;\n",
       "  overflow: visible;\n",
       "}\n",
       "\n",
       "#sk-container-id-4 input.sk-toggleable__control:checked~label.sk-toggleable__label-arrow:before {\n",
       "  content: \"▾\";\n",
       "}\n",
       "\n",
       "/* Pipeline/ColumnTransformer-specific style */\n",
       "\n",
       "#sk-container-id-4 div.sk-label input.sk-toggleable__control:checked~label.sk-toggleable__label {\n",
       "  color: var(--sklearn-color-text);\n",
       "  background-color: var(--sklearn-color-unfitted-level-2);\n",
       "}\n",
       "\n",
       "#sk-container-id-4 div.sk-label.fitted input.sk-toggleable__control:checked~label.sk-toggleable__label {\n",
       "  background-color: var(--sklearn-color-fitted-level-2);\n",
       "}\n",
       "\n",
       "/* Estimator-specific style */\n",
       "\n",
       "/* Colorize estimator box */\n",
       "#sk-container-id-4 div.sk-estimator input.sk-toggleable__control:checked~label.sk-toggleable__label {\n",
       "  /* unfitted */\n",
       "  background-color: var(--sklearn-color-unfitted-level-2);\n",
       "}\n",
       "\n",
       "#sk-container-id-4 div.sk-estimator.fitted input.sk-toggleable__control:checked~label.sk-toggleable__label {\n",
       "  /* fitted */\n",
       "  background-color: var(--sklearn-color-fitted-level-2);\n",
       "}\n",
       "\n",
       "#sk-container-id-4 div.sk-label label.sk-toggleable__label,\n",
       "#sk-container-id-4 div.sk-label label {\n",
       "  /* The background is the default theme color */\n",
       "  color: var(--sklearn-color-text-on-default-background);\n",
       "}\n",
       "\n",
       "/* On hover, darken the color of the background */\n",
       "#sk-container-id-4 div.sk-label:hover label.sk-toggleable__label {\n",
       "  color: var(--sklearn-color-text);\n",
       "  background-color: var(--sklearn-color-unfitted-level-2);\n",
       "}\n",
       "\n",
       "/* Label box, darken color on hover, fitted */\n",
       "#sk-container-id-4 div.sk-label.fitted:hover label.sk-toggleable__label.fitted {\n",
       "  color: var(--sklearn-color-text);\n",
       "  background-color: var(--sklearn-color-fitted-level-2);\n",
       "}\n",
       "\n",
       "/* Estimator label */\n",
       "\n",
       "#sk-container-id-4 div.sk-label label {\n",
       "  font-family: monospace;\n",
       "  font-weight: bold;\n",
       "  display: inline-block;\n",
       "  line-height: 1.2em;\n",
       "}\n",
       "\n",
       "#sk-container-id-4 div.sk-label-container {\n",
       "  text-align: center;\n",
       "}\n",
       "\n",
       "/* Estimator-specific */\n",
       "#sk-container-id-4 div.sk-estimator {\n",
       "  font-family: monospace;\n",
       "  border: 1px dotted var(--sklearn-color-border-box);\n",
       "  border-radius: 0.25em;\n",
       "  box-sizing: border-box;\n",
       "  margin-bottom: 0.5em;\n",
       "  /* unfitted */\n",
       "  background-color: var(--sklearn-color-unfitted-level-0);\n",
       "}\n",
       "\n",
       "#sk-container-id-4 div.sk-estimator.fitted {\n",
       "  /* fitted */\n",
       "  background-color: var(--sklearn-color-fitted-level-0);\n",
       "}\n",
       "\n",
       "/* on hover */\n",
       "#sk-container-id-4 div.sk-estimator:hover {\n",
       "  /* unfitted */\n",
       "  background-color: var(--sklearn-color-unfitted-level-2);\n",
       "}\n",
       "\n",
       "#sk-container-id-4 div.sk-estimator.fitted:hover {\n",
       "  /* fitted */\n",
       "  background-color: var(--sklearn-color-fitted-level-2);\n",
       "}\n",
       "\n",
       "/* Specification for estimator info (e.g. \"i\" and \"?\") */\n",
       "\n",
       "/* Common style for \"i\" and \"?\" */\n",
       "\n",
       ".sk-estimator-doc-link,\n",
       "a:link.sk-estimator-doc-link,\n",
       "a:visited.sk-estimator-doc-link {\n",
       "  float: right;\n",
       "  font-size: smaller;\n",
       "  line-height: 1em;\n",
       "  font-family: monospace;\n",
       "  background-color: var(--sklearn-color-background);\n",
       "  border-radius: 1em;\n",
       "  height: 1em;\n",
       "  width: 1em;\n",
       "  text-decoration: none !important;\n",
       "  margin-left: 0.5em;\n",
       "  text-align: center;\n",
       "  /* unfitted */\n",
       "  border: var(--sklearn-color-unfitted-level-1) 1pt solid;\n",
       "  color: var(--sklearn-color-unfitted-level-1);\n",
       "}\n",
       "\n",
       ".sk-estimator-doc-link.fitted,\n",
       "a:link.sk-estimator-doc-link.fitted,\n",
       "a:visited.sk-estimator-doc-link.fitted {\n",
       "  /* fitted */\n",
       "  border: var(--sklearn-color-fitted-level-1) 1pt solid;\n",
       "  color: var(--sklearn-color-fitted-level-1);\n",
       "}\n",
       "\n",
       "/* On hover */\n",
       "div.sk-estimator:hover .sk-estimator-doc-link:hover,\n",
       ".sk-estimator-doc-link:hover,\n",
       "div.sk-label-container:hover .sk-estimator-doc-link:hover,\n",
       ".sk-estimator-doc-link:hover {\n",
       "  /* unfitted */\n",
       "  background-color: var(--sklearn-color-unfitted-level-3);\n",
       "  color: var(--sklearn-color-background);\n",
       "  text-decoration: none;\n",
       "}\n",
       "\n",
       "div.sk-estimator.fitted:hover .sk-estimator-doc-link.fitted:hover,\n",
       ".sk-estimator-doc-link.fitted:hover,\n",
       "div.sk-label-container:hover .sk-estimator-doc-link.fitted:hover,\n",
       ".sk-estimator-doc-link.fitted:hover {\n",
       "  /* fitted */\n",
       "  background-color: var(--sklearn-color-fitted-level-3);\n",
       "  color: var(--sklearn-color-background);\n",
       "  text-decoration: none;\n",
       "}\n",
       "\n",
       "/* Span, style for the box shown on hovering the info icon */\n",
       ".sk-estimator-doc-link span {\n",
       "  display: none;\n",
       "  z-index: 9999;\n",
       "  position: relative;\n",
       "  font-weight: normal;\n",
       "  right: .2ex;\n",
       "  padding: .5ex;\n",
       "  margin: .5ex;\n",
       "  width: min-content;\n",
       "  min-width: 20ex;\n",
       "  max-width: 50ex;\n",
       "  color: var(--sklearn-color-text);\n",
       "  box-shadow: 2pt 2pt 4pt #999;\n",
       "  /* unfitted */\n",
       "  background: var(--sklearn-color-unfitted-level-0);\n",
       "  border: .5pt solid var(--sklearn-color-unfitted-level-3);\n",
       "}\n",
       "\n",
       ".sk-estimator-doc-link.fitted span {\n",
       "  /* fitted */\n",
       "  background: var(--sklearn-color-fitted-level-0);\n",
       "  border: var(--sklearn-color-fitted-level-3);\n",
       "}\n",
       "\n",
       ".sk-estimator-doc-link:hover span {\n",
       "  display: block;\n",
       "}\n",
       "\n",
       "/* \"?\"-specific style due to the `<a>` HTML tag */\n",
       "\n",
       "#sk-container-id-4 a.estimator_doc_link {\n",
       "  float: right;\n",
       "  font-size: 1rem;\n",
       "  line-height: 1em;\n",
       "  font-family: monospace;\n",
       "  background-color: var(--sklearn-color-background);\n",
       "  border-radius: 1rem;\n",
       "  height: 1rem;\n",
       "  width: 1rem;\n",
       "  text-decoration: none;\n",
       "  /* unfitted */\n",
       "  color: var(--sklearn-color-unfitted-level-1);\n",
       "  border: var(--sklearn-color-unfitted-level-1) 1pt solid;\n",
       "}\n",
       "\n",
       "#sk-container-id-4 a.estimator_doc_link.fitted {\n",
       "  /* fitted */\n",
       "  border: var(--sklearn-color-fitted-level-1) 1pt solid;\n",
       "  color: var(--sklearn-color-fitted-level-1);\n",
       "}\n",
       "\n",
       "/* On hover */\n",
       "#sk-container-id-4 a.estimator_doc_link:hover {\n",
       "  /* unfitted */\n",
       "  background-color: var(--sklearn-color-unfitted-level-3);\n",
       "  color: var(--sklearn-color-background);\n",
       "  text-decoration: none;\n",
       "}\n",
       "\n",
       "#sk-container-id-4 a.estimator_doc_link.fitted:hover {\n",
       "  /* fitted */\n",
       "  background-color: var(--sklearn-color-fitted-level-3);\n",
       "}\n",
       "\n",
       ".estimator-table summary {\n",
       "    padding: .5rem;\n",
       "    font-family: monospace;\n",
       "    cursor: pointer;\n",
       "}\n",
       "\n",
       ".estimator-table details[open] {\n",
       "    padding-left: 0.1rem;\n",
       "    padding-right: 0.1rem;\n",
       "    padding-bottom: 0.3rem;\n",
       "}\n",
       "\n",
       ".estimator-table .parameters-table {\n",
       "    margin-left: auto !important;\n",
       "    margin-right: auto !important;\n",
       "}\n",
       "\n",
       ".estimator-table .parameters-table tr:nth-child(odd) {\n",
       "    background-color: #fff;\n",
       "}\n",
       "\n",
       ".estimator-table .parameters-table tr:nth-child(even) {\n",
       "    background-color: #f6f6f6;\n",
       "}\n",
       "\n",
       ".estimator-table .parameters-table tr:hover {\n",
       "    background-color: #e0e0e0;\n",
       "}\n",
       "\n",
       ".estimator-table table td {\n",
       "    border: 1px solid rgba(106, 105, 104, 0.232);\n",
       "}\n",
       "\n",
       ".user-set td {\n",
       "    color:rgb(255, 94, 0);\n",
       "    text-align: left;\n",
       "}\n",
       "\n",
       ".user-set td.value pre {\n",
       "    color:rgb(255, 94, 0) !important;\n",
       "    background-color: transparent !important;\n",
       "}\n",
       "\n",
       ".default td {\n",
       "    color: black;\n",
       "    text-align: left;\n",
       "}\n",
       "\n",
       ".user-set td i,\n",
       ".default td i {\n",
       "    color: black;\n",
       "}\n",
       "\n",
       ".copy-paste-icon {\n",
       "    background-image: url(data:image/svg+xml;base64,PHN2ZyB4bWxucz0iaHR0cDovL3d3dy53My5vcmcvMjAwMC9zdmciIHZpZXdCb3g9IjAgMCA0NDggNTEyIj48IS0tIUZvbnQgQXdlc29tZSBGcmVlIDYuNy4yIGJ5IEBmb250YXdlc29tZSAtIGh0dHBzOi8vZm9udGF3ZXNvbWUuY29tIExpY2Vuc2UgLSBodHRwczovL2ZvbnRhd2Vzb21lLmNvbS9saWNlbnNlL2ZyZWUgQ29weXJpZ2h0IDIwMjUgRm9udGljb25zLCBJbmMuLS0+PHBhdGggZD0iTTIwOCAwTDMzMi4xIDBjMTIuNyAwIDI0LjkgNS4xIDMzLjkgMTQuMWw2Ny45IDY3LjljOSA5IDE0LjEgMjEuMiAxNC4xIDMzLjlMNDQ4IDMzNmMwIDI2LjUtMjEuNSA0OC00OCA0OGwtMTkyIDBjLTI2LjUgMC00OC0yMS41LTQ4LTQ4bDAtMjg4YzAtMjYuNSAyMS41LTQ4IDQ4LTQ4ek00OCAxMjhsODAgMCAwIDY0LTY0IDAgMCAyNTYgMTkyIDAgMC0zMiA2NCAwIDAgNDhjMCAyNi41LTIxLjUgNDgtNDggNDhMNDggNTEyYy0yNi41IDAtNDgtMjEuNS00OC00OEwwIDE3NmMwLTI2LjUgMjEuNS00OCA0OC00OHoiLz48L3N2Zz4=);\n",
       "    background-repeat: no-repeat;\n",
       "    background-size: 14px 14px;\n",
       "    background-position: 0;\n",
       "    display: inline-block;\n",
       "    width: 14px;\n",
       "    height: 14px;\n",
       "    cursor: pointer;\n",
       "}\n",
       "</style><body><div id=\"sk-container-id-4\" class=\"sk-top-container\"><div class=\"sk-text-repr-fallback\"><pre>KNeighborsClassifier()</pre><b>In a Jupyter environment, please rerun this cell to show the HTML representation or trust the notebook. <br />On GitHub, the HTML representation is unable to render, please try loading this page with nbviewer.org.</b></div><div class=\"sk-container\" hidden><div class=\"sk-item\"><div class=\"sk-estimator fitted sk-toggleable\"><input class=\"sk-toggleable__control sk-hidden--visually\" id=\"sk-estimator-id-4\" type=\"checkbox\" checked><label for=\"sk-estimator-id-4\" class=\"sk-toggleable__label fitted sk-toggleable__label-arrow\"><div><div>KNeighborsClassifier</div></div><div><a class=\"sk-estimator-doc-link fitted\" rel=\"noreferrer\" target=\"_blank\" href=\"https://scikit-learn.org/1.7/modules/generated/sklearn.neighbors.KNeighborsClassifier.html\">?<span>Documentation for KNeighborsClassifier</span></a><span class=\"sk-estimator-doc-link fitted\">i<span>Fitted</span></span></div></label><div class=\"sk-toggleable__content fitted\" data-param-prefix=\"\">\n",
       "        <div class=\"estimator-table\">\n",
       "            <details>\n",
       "                <summary>Parameters</summary>\n",
       "                <table class=\"parameters-table\">\n",
       "                  <tbody>\n",
       "                    \n",
       "        <tr class=\"default\">\n",
       "            <td><i class=\"copy-paste-icon\"\n",
       "                 onclick=\"copyToClipboard('n_neighbors',\n",
       "                          this.parentElement.nextElementSibling)\"\n",
       "            ></i></td>\n",
       "            <td class=\"param\">n_neighbors&nbsp;</td>\n",
       "            <td class=\"value\">5</td>\n",
       "        </tr>\n",
       "    \n",
       "\n",
       "        <tr class=\"default\">\n",
       "            <td><i class=\"copy-paste-icon\"\n",
       "                 onclick=\"copyToClipboard('weights',\n",
       "                          this.parentElement.nextElementSibling)\"\n",
       "            ></i></td>\n",
       "            <td class=\"param\">weights&nbsp;</td>\n",
       "            <td class=\"value\">&#x27;uniform&#x27;</td>\n",
       "        </tr>\n",
       "    \n",
       "\n",
       "        <tr class=\"default\">\n",
       "            <td><i class=\"copy-paste-icon\"\n",
       "                 onclick=\"copyToClipboard('algorithm',\n",
       "                          this.parentElement.nextElementSibling)\"\n",
       "            ></i></td>\n",
       "            <td class=\"param\">algorithm&nbsp;</td>\n",
       "            <td class=\"value\">&#x27;auto&#x27;</td>\n",
       "        </tr>\n",
       "    \n",
       "\n",
       "        <tr class=\"default\">\n",
       "            <td><i class=\"copy-paste-icon\"\n",
       "                 onclick=\"copyToClipboard('leaf_size',\n",
       "                          this.parentElement.nextElementSibling)\"\n",
       "            ></i></td>\n",
       "            <td class=\"param\">leaf_size&nbsp;</td>\n",
       "            <td class=\"value\">30</td>\n",
       "        </tr>\n",
       "    \n",
       "\n",
       "        <tr class=\"default\">\n",
       "            <td><i class=\"copy-paste-icon\"\n",
       "                 onclick=\"copyToClipboard('p',\n",
       "                          this.parentElement.nextElementSibling)\"\n",
       "            ></i></td>\n",
       "            <td class=\"param\">p&nbsp;</td>\n",
       "            <td class=\"value\">2</td>\n",
       "        </tr>\n",
       "    \n",
       "\n",
       "        <tr class=\"default\">\n",
       "            <td><i class=\"copy-paste-icon\"\n",
       "                 onclick=\"copyToClipboard('metric',\n",
       "                          this.parentElement.nextElementSibling)\"\n",
       "            ></i></td>\n",
       "            <td class=\"param\">metric&nbsp;</td>\n",
       "            <td class=\"value\">&#x27;minkowski&#x27;</td>\n",
       "        </tr>\n",
       "    \n",
       "\n",
       "        <tr class=\"default\">\n",
       "            <td><i class=\"copy-paste-icon\"\n",
       "                 onclick=\"copyToClipboard('metric_params',\n",
       "                          this.parentElement.nextElementSibling)\"\n",
       "            ></i></td>\n",
       "            <td class=\"param\">metric_params&nbsp;</td>\n",
       "            <td class=\"value\">None</td>\n",
       "        </tr>\n",
       "    \n",
       "\n",
       "        <tr class=\"default\">\n",
       "            <td><i class=\"copy-paste-icon\"\n",
       "                 onclick=\"copyToClipboard('n_jobs',\n",
       "                          this.parentElement.nextElementSibling)\"\n",
       "            ></i></td>\n",
       "            <td class=\"param\">n_jobs&nbsp;</td>\n",
       "            <td class=\"value\">None</td>\n",
       "        </tr>\n",
       "    \n",
       "                  </tbody>\n",
       "                </table>\n",
       "            </details>\n",
       "        </div>\n",
       "    </div></div></div></div></div><script>function copyToClipboard(text, element) {\n",
       "    // Get the parameter prefix from the closest toggleable content\n",
       "    const toggleableContent = element.closest('.sk-toggleable__content');\n",
       "    const paramPrefix = toggleableContent ? toggleableContent.dataset.paramPrefix : '';\n",
       "    const fullParamName = paramPrefix ? `${paramPrefix}${text}` : text;\n",
       "\n",
       "    const originalStyle = element.style;\n",
       "    const computedStyle = window.getComputedStyle(element);\n",
       "    const originalWidth = computedStyle.width;\n",
       "    const originalHTML = element.innerHTML.replace('Copied!', '');\n",
       "\n",
       "    navigator.clipboard.writeText(fullParamName)\n",
       "        .then(() => {\n",
       "            element.style.width = originalWidth;\n",
       "            element.style.color = 'green';\n",
       "            element.innerHTML = \"Copied!\";\n",
       "\n",
       "            setTimeout(() => {\n",
       "                element.innerHTML = originalHTML;\n",
       "                element.style = originalStyle;\n",
       "            }, 2000);\n",
       "        })\n",
       "        .catch(err => {\n",
       "            console.error('Failed to copy:', err);\n",
       "            element.style.color = 'red';\n",
       "            element.innerHTML = \"Failed!\";\n",
       "            setTimeout(() => {\n",
       "                element.innerHTML = originalHTML;\n",
       "                element.style = originalStyle;\n",
       "            }, 2000);\n",
       "        });\n",
       "    return false;\n",
       "}\n",
       "\n",
       "document.querySelectorAll('.fa-regular.fa-copy').forEach(function(element) {\n",
       "    const toggleableContent = element.closest('.sk-toggleable__content');\n",
       "    const paramPrefix = toggleableContent ? toggleableContent.dataset.paramPrefix : '';\n",
       "    const paramName = element.parentElement.nextElementSibling.textContent.trim();\n",
       "    const fullParamName = paramPrefix ? `${paramPrefix}${paramName}` : paramName;\n",
       "\n",
       "    element.setAttribute('title', fullParamName);\n",
       "});\n",
       "</script></body>"
      ],
      "text/plain": [
       "KNeighborsClassifier()"
      ]
     },
     "execution_count": 68,
     "metadata": {},
     "output_type": "execute_result"
    }
   ],
   "source": [
    "from sklearn.neighbors import KNeighborsClassifier\n",
    "knn = KNeighborsClassifier()\n",
    "knn.fit(x_train, y_train)"
   ]
  },
  {
   "cell_type": "code",
   "execution_count": 69,
   "id": "40d9b8a1",
   "metadata": {},
   "outputs": [
    {
     "data": {
      "text/plain": [
       "{'algorithm': 'auto',\n",
       " 'leaf_size': 30,\n",
       " 'metric': 'minkowski',\n",
       " 'metric_params': None,\n",
       " 'n_jobs': None,\n",
       " 'n_neighbors': 5,\n",
       " 'p': 2,\n",
       " 'weights': 'uniform'}"
      ]
     },
     "execution_count": 69,
     "metadata": {},
     "output_type": "execute_result"
    }
   ],
   "source": [
    "knn.get_params()"
   ]
  },
  {
   "cell_type": "code",
   "execution_count": 70,
   "id": "13011259",
   "metadata": {},
   "outputs": [
    {
     "data": {
      "text/plain": [
       "0.975"
      ]
     },
     "execution_count": 70,
     "metadata": {},
     "output_type": "execute_result"
    }
   ],
   "source": [
    "knn.score(x_train,y_train)"
   ]
  },
  {
   "cell_type": "code",
   "execution_count": 71,
   "id": "3cf1d21d",
   "metadata": {},
   "outputs": [
    {
     "data": {
      "text/plain": [
       "array([0, 0, 0, 0, 2, 0, 0, 2, 0, 2, 2, 2, 0, 0, 1, 0, 1, 0, 0, 0, 1, 1,\n",
       "       0, 0, 2, 1, 2, 2, 1, 1])"
      ]
     },
     "execution_count": 71,
     "metadata": {},
     "output_type": "execute_result"
    }
   ],
   "source": [
    "knn.predict(x_test)"
   ]
  }
 ],
 "metadata": {
  "kernelspec": {
   "display_name": "Python 3",
   "language": "python",
   "name": "python3"
  },
  "language_info": {
   "codemirror_mode": {
    "name": "ipython",
    "version": 3
   },
   "file_extension": ".py",
   "mimetype": "text/x-python",
   "name": "python",
   "nbconvert_exporter": "python",
   "pygments_lexer": "ipython3",
   "version": "3.11.9"
  }
 },
 "nbformat": 4,
 "nbformat_minor": 5
}
