{
 "cells": [
  {
   "cell_type": "code",
   "execution_count": null,
   "id": "4e9e4acf",
   "metadata": {},
   "outputs": [],
   "source": [
    "#####oops concept in python\n"
   ]
  },
  {
   "cell_type": "markdown",
   "id": "9e1df1da",
   "metadata": {},
   "source": [
    "\n",
    "# global\n",
    "# local variable\n",
    "\n",
    "\n",
    "# ploymorphism\n",
    "# inheritence\n",
    "# encapsulation\n",
    "# abstraction\n",
    "\n",
    "\n",
    "<!-- class Class_name:\n",
    "    pass\n",
    " class is keyword\n",
    " class Student:\n",
    "     name = \"chandni\"\n",
    " age = 19\n",
    "   print(f\"my name is{name} and my age \") -->\n",
    "\n",
    "\n",
    "\n"
   ]
  },
  {
   "cell_type": "code",
   "execution_count": null,
   "id": "bb9f0bfd",
   "metadata": {},
   "outputs": [],
   "source": []
  },
  {
   "cell_type": "markdown",
   "id": "aa487479",
   "metadata": {},
   "source": [
    "#### Encapsulation\n"
   ]
  },
  {
   "cell_type": "code",
   "execution_count": null,
   "id": "1f74de42",
   "metadata": {},
   "outputs": [],
   "source": [
    "class Student:\n",
    "    __name = \"chandni\"\n",
    "    age = 20\n",
    "    _id = \"123\"\n",
    "st_obj=Student()"
   ]
  },
  {
   "cell_type": "code",
   "execution_count": 2,
   "id": "2b43d399",
   "metadata": {},
   "outputs": [
    {
     "data": {
      "text/plain": [
       "20"
      ]
     },
     "execution_count": 2,
     "metadata": {},
     "output_type": "execute_result"
    }
   ],
   "source": [
    "st_obj.age"
   ]
  },
  {
   "cell_type": "code",
   "execution_count": null,
   "id": "d5d4bf96",
   "metadata": {},
   "outputs": [],
   "source": []
  },
  {
   "cell_type": "code",
   "execution_count": 5,
   "id": "088433ff",
   "metadata": {},
   "outputs": [
    {
     "data": {
      "text/plain": [
       "'chandni'"
      ]
     },
     "execution_count": 5,
     "metadata": {},
     "output_type": "execute_result"
    }
   ],
   "source": [
    "st_obj._Student__name"
   ]
  },
  {
   "cell_type": "code",
   "execution_count": 6,
   "id": "fb0bf7a5",
   "metadata": {},
   "outputs": [
    {
     "ename": "AttributeError",
     "evalue": "'Student' object has no attribute 'id'",
     "output_type": "error",
     "traceback": [
      "\u001b[31m---------------------------------------------------------------------------\u001b[39m",
      "\u001b[31mAttributeError\u001b[39m                            Traceback (most recent call last)",
      "\u001b[36mCell\u001b[39m\u001b[36m \u001b[39m\u001b[32mIn[6]\u001b[39m\u001b[32m, line 1\u001b[39m\n\u001b[32m----> \u001b[39m\u001b[32m1\u001b[39m \u001b[43mst_obj\u001b[49m\u001b[43m.\u001b[49m\u001b[43mid\u001b[49m\n",
      "\u001b[31mAttributeError\u001b[39m: 'Student' object has no attribute 'id'"
     ]
    }
   ],
   "source": [
    "st_obj.id"
   ]
  },
  {
   "cell_type": "markdown",
   "id": "54246523",
   "metadata": {},
   "source": [
    "class Bank:\n",
    "  __account_number = \"0123456\""
   ]
  },
  {
   "cell_type": "code",
   "execution_count": null,
   "id": "706afad9",
   "metadata": {},
   "outputs": [],
   "source": [
    "class Bank:\n",
    "    def__init__(self,account_holder,balance = 0)\n",
    "    self.account_holder = account_holder\n",
    "    self.balance = balance\n",
    "def deposit(self,ammount):\n",
    "    if ammount >0:\n",
    "        self.balance += ammount\n",
    "        print(f\"\")\n"
   ]
  },
  {
   "cell_type": "markdown",
   "id": "08a5856e",
   "metadata": {},
   "source": [
    "task 1 >>>>>>>>>>>super function\n",
    "task 2 >>>>>>>>>>>Bmi calculator\n",
    "class se work karn h"
   ]
  },
  {
   "cell_type": "code",
   "execution_count": 5,
   "id": "4eca37f1",
   "metadata": {},
   "outputs": [
    {
     "name": "stdout",
     "output_type": "stream",
     "text": [
      "\n",
      "Your BMI is:0.36\n",
      "Category: Underweight\n"
     ]
    }
   ],
   "source": [
    "class BMICalculator:\n",
    "    def __init__(self, weight, height):\n",
    "        self.weight = weight\n",
    "        self.height = height\n",
    "    def calculate_bmi(self):\n",
    "        bmi = self.weight / (self.height ** 2)\n",
    "        return  bmi\n",
    "    def get_category(self):\n",
    "        bmi = self.calculate_bmi()\n",
    "        if bmi < 18.5:\n",
    "            return \"Underweight\"\n",
    "        elif 18.5 <= bmi < 24.9:\n",
    "            return \"Normal weight\"\n",
    "        elif 25 <= bmi < 29.9:\n",
    "            return \"Overweight\"\n",
    "        else:\n",
    "            return \"Obese\"\n",
    "weight = float(input(\"Enter weight (in kg):\"))\n",
    "height = float(input(\"Enter height (in meter):\"))\n",
    "person = BMICalculator(weight,height)\n",
    "bmi = person.calculate_bmi()\n",
    "category = person.get_category()\n",
    "print(f\"\\nYour BMI is:{bmi:.2f}\")\n",
    "print(f\"Category: {category}\")"
   ]
  },
  {
   "cell_type": "code",
   "execution_count": 6,
   "id": "81c991c9",
   "metadata": {},
   "outputs": [
    {
     "ename": "TypeError",
     "evalue": "ATM() takes no arguments",
     "output_type": "error",
     "traceback": [
      "\u001b[31m---------------------------------------------------------------------------\u001b[39m",
      "\u001b[31mTypeError\u001b[39m                                 Traceback (most recent call last)",
      "\u001b[36mCell\u001b[39m\u001b[36m \u001b[39m\u001b[32mIn[6]\u001b[39m\u001b[32m, line 21\u001b[39m\n\u001b[32m     19\u001b[39m         \u001b[38;5;28;01melse\u001b[39;00m:\n\u001b[32m     20\u001b[39m             \u001b[38;5;28mprint\u001b[39m(\u001b[33m\"\u001b[39m\u001b[33mInsufficient balance.\u001b[39m\u001b[33m\"\u001b[39m)\n\u001b[32m---> \u001b[39m\u001b[32m21\u001b[39m atm = \u001b[43mATM\u001b[49m\u001b[43m(\u001b[49m\u001b[32;43m1000\u001b[39;49m\u001b[43m)\u001b[49m  \n\u001b[32m     23\u001b[39m \u001b[38;5;28;01mwhile\u001b[39;00m \u001b[38;5;28;01mTrue\u001b[39;00m:\n\u001b[32m     24\u001b[39m     \u001b[38;5;28mprint\u001b[39m(\u001b[33m\"\u001b[39m\u001b[38;5;130;01m\\n\u001b[39;00m\u001b[33m==== ATM Menu ====\u001b[39m\u001b[33m\"\u001b[39m)\n",
      "\u001b[31mTypeError\u001b[39m: ATM() takes no arguments"
     ]
    }
   ],
   "source": [
    "class ATM:\n",
    "    def _init_(self, balance=0):\n",
    "        self.balance = balance\n",
    "\n",
    "    def check_balance(self):\n",
    "        print(f\"Current Balance: ₹{self.balance}\")\n",
    "\n",
    "    def deposit(self, amount):\n",
    "        if amount > 0:\n",
    "            self.balance += amount\n",
    "            print(f\"₹{amount} deposited successfully.\")\n",
    "        else:\n",
    "            print(\"Invalid deposit amount.\")\n",
    "\n",
    "    def withdraw(self, amount):\n",
    "        if amount <= self.balance:\n",
    "            self.balance -= amount\n",
    "            print(f\"₹{amount} withdrawn successfully.\")\n",
    "        else:\n",
    "            print(\"Insufficient balance.\")\n",
    "atm = ATM(1000)  \n",
    "\n",
    "while True:\n",
    "    print(\"\\n==== ATM Menu ====\")\n",
    "    print(\"1. Check Balance\")\n",
    "    print(\"2. Deposit Money\")\n",
    "    print(\"3. Withdraw Money\")\n",
    "    print(\"4. Exit\")\n",
    "\n",
    "    choice = input(\"Enter your choice (1-4): \")\n",
    "\n",
    "    if choice == '1':\n",
    "        atm.check_balance()\n",
    "    elif choice == '2':\n",
    "        amt = float(input(\"Enter amount to deposit: ₹\"))\n",
    "        atm.deposit(amt)\n",
    "    elif choice == '3':\n",
    "        amt = float(input(\"Enter amount to withdraw: ₹\"))\n",
    "        atm.withdraw(amt)\n",
    "    elif choice == '4':\n",
    "        print(\"Thank you for using the ATM!\")\n",
    "        break\n",
    "    else:\n",
    "        print(\"Invalid choice. Please try again.\")\n"
   ]
  },
  {
   "cell_type": "code",
   "execution_count": null,
   "id": "66c86aea",
   "metadata": {},
   "outputs": [],
   "source": [
    "class Bank:\n",
    "    def __init__(self,name,age,account_number,phone_number,address):\n",
    "        self.name = name\n",
    "        self.age = age\n",
    "        self.__account_number = account_number\n",
    "        self.phone_number = phone_number\n",
    "        self.address = address\n",
    "    def deposit(self,ammount):\n",
    "        print(f\"deposit ammount:{self.ammount}\")\n",
    "    def withdraw(self,ammount):\n",
    "        print(f\"withdraw ammount:{self.ammount}\")\n",
    "    def total_balance(self):\n",
    "        print(f\"total balance:{self.total_balance}\")\n",
    "    def info(self):\n",
    "        print(f\"name{self.name} and age {self.age}, and account_number{self.__account_number}, and phone_number {self.phone_number}, and address{self.address}\")\n",
    "bn_obj = Bank(name = \" chandni\",age = 19,account_number=\" 12345678\",phone_number= 123466790,address=\" Beawar\")\n"
   ]
  },
  {
   "cell_type": "code",
   "execution_count": null,
   "id": "75534806",
   "metadata": {},
   "outputs": [],
   "source": [
    "class StudentAccount:\n",
    "    def __init__(student, name, account_number,phone_number,roll_number,year):\n",
    "        student.name = name\n",
    "        student.__account_number = account_number\n",
    "        student.phone_number = phone_number\n",
    "        student.roll_number = roll_number\n",
    "        student.year = year\n",
    "    def student \n",
    "\n",
    "\n"
   ]
  },
  {
   "cell_type": "code",
   "execution_count": null,
   "id": "eae8bd39",
   "metadata": {},
   "outputs": [
    {
     "name": "stdout",
     "output_type": "stream",
     "text": [
      "chandni\n",
      "19\n"
     ]
    }
   ],
   "source": [
    "class Student:\n",
    "    def __init__(self , name,age):\n",
    "        self.name = name\n",
    "        self.age = age  ### intance variable\n",
    "obj_st = Student(name = \"chandni\",age = 19)\n",
    "print(obj_st.name)\n",
    "print(obj_st.age)"
   ]
  },
  {
   "cell_type": "code",
   "execution_count": null,
   "id": "c9abef37",
   "metadata": {},
   "outputs": [],
   "source": [
    "class Student:\n",
    "    def __init__(self,name,age,address):\n",
    "        self.name = name\n",
    "        self.age = age\n",
    "        self.address = address\n",
    "    def display(self):\n",
    "        print(f\"my name is {self .name}and my age is {self.age}and my address is {self.address}\")\n",
    "obj_st = Student(name = \"chandni\",age = 19,address=\"beawar\")"
   ]
  },
  {
   "cell_type": "code",
   "execution_count": null,
   "id": "12b3db27",
   "metadata": {},
   "outputs": [
    {
     "name": "stdout",
     "output_type": "stream",
     "text": [
      "my name is chandniand my age is 19and my address is beawar\n"
     ]
    }
   ],
   "source": [
    "obj_st.display()"
   ]
  },
  {
   "cell_type": "markdown",
   "id": "b4bd653a",
   "metadata": {},
   "source": [
    "class Bank:\n",
    "constructore\n",
    "init method\n",
    "__init__\n",
    "account number private\n",
    "name\n",
    "address\n",
    "phone number\n",
    "method\n",
    "deposite\n",
    "withdraw\n",
    "totla balance"
   ]
  },
  {
   "cell_type": "code",
   "execution_count": null,
   "id": "2386a711",
   "metadata": {},
   "outputs": [],
   "source": [
    "class Bank:\n",
    "    def __init__(self,name,age,account_number,phone_number,address):\n",
    "        self.name = name\n",
    "        self.age = age\n",
    "        self.__account_number = account_number\n",
    "        self.phone_number = phone_number\n",
    "        self.address = address\n",
    "\n",
    "    # def deposit(self,ammount):\n",
    "    #     self.ammount = ammount\n",
    "    # def withdraw(self,ammount):\n",
    "    #     self.ammount = ammount\n",
    "    # def total_balance(self):\n",
    "    #     return self.ammount \n",
    "    def info(self): \n",
    "        print(f\"name{self.name} and age {self.age}, and account_number{self.__account_number}, and phone_number {self.phone_number}, and address{self.address}\")\n",
    "bn_obj = Bank(name = \" chandni\",age = 19,account_number=\" 12345678\",phone_number= 123466790,address=\" Beawar\")"
   ]
  },
  {
   "cell_type": "code",
   "execution_count": null,
   "id": "228df43e",
   "metadata": {},
   "outputs": [
    {
     "name": "stdout",
     "output_type": "stream",
     "text": [
      "name chandni and age 19, and account_number 12345678, and phone_number 123466790, and address Beawar\n"
     ]
    }
   ],
   "source": [
    "bn_obj.info()"
   ]
  },
  {
   "cell_type": "markdown",
   "id": "d2d6024c",
   "metadata": {},
   "source": [
    "## constructor\n"
   ]
  },
  {
   "cell_type": "code",
   "execution_count": null,
   "id": "1ce92c45",
   "metadata": {},
   "outputs": [
    {
     "data": {
      "text/plain": [
       "' 12345678'"
      ]
     },
     "execution_count": 7,
     "metadata": {},
     "output_type": "execute_result"
    }
   ],
   "source": [
    "bn_obj._Bank__account_number\n"
   ]
  },
  {
   "cell_type": "markdown",
   "id": "2a012f7b",
   "metadata": {},
   "source": [
    "<!-- class\n",
    "method\n",
    "inheritance -->"
   ]
  },
  {
   "cell_type": "code",
   "execution_count": null,
   "id": "063f3e28",
   "metadata": {},
   "outputs": [],
   "source": []
  }
 ],
 "metadata": {
  "kernelspec": {
   "display_name": "Python 3",
   "language": "python",
   "name": "python3"
  },
  "language_info": {
   "codemirror_mode": {
    "name": "ipython",
    "version": 3
   },
   "file_extension": ".py",
   "mimetype": "text/x-python",
   "name": "python",
   "nbconvert_exporter": "python",
   "pygments_lexer": "ipython3",
   "version": "3.11.5"
  }
 },
 "nbformat": 4,
 "nbformat_minor": 5
}
