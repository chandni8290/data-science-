{
 "cells": [
  {
   "cell_type": "code",
   "execution_count": null,
   "id": "ac08df7f",
   "metadata": {},
   "outputs": [],
   "source": [
    "x = 0\n",
    "if x<10:\n",
    "    print(\"x hai vo chota hai 10\")"
   ]
  },
  {
   "cell_type": "code",
   "execution_count": 1,
   "id": "b8d36f34",
   "metadata": {},
   "outputs": [
    {
     "ename": "IndentationError",
     "evalue": "expected an indented block after 'if' statement on line 2 (910069642.py, line 5)",
     "output_type": "error",
     "traceback": [
      "  \u001b[36mCell\u001b[39m\u001b[36m \u001b[39m\u001b[32mIn[1]\u001b[39m\u001b[32m, line 5\u001b[39m\n\u001b[31m    \u001b[39m\u001b[31mprint(\"x hai vo chota hai 10\")\u001b[39m\n    ^\n\u001b[31mIndentationError\u001b[39m\u001b[31m:\u001b[39m expected an indented block after 'if' statement on line 2\n"
     ]
    }
   ],
   "source": [
    "x = 0\n",
    "if x<10:\n",
    "\n",
    "\n",
    "print(\"x hai vo chota hai 10\")\n",
    "elif x==20:\n",
    "print\n"
   ]
  },
  {
   "cell_type": "code",
   "execution_count": 3,
   "id": "f4ea6f11",
   "metadata": {},
   "outputs": [],
   "source": [
    "x = 18\n",
    "if x<18:\n",
    "    print(\"x vote kar sakta hai\")\n",
    "\n",
    "\n"
   ]
  },
  {
   "cell_type": "markdown",
   "id": "7b0eed4e",
   "metadata": {},
   "source": [
    "find the largest number\n",
    "check even and odd\n",
    "leap year check\n",
    "grading system\n",
    "90 and above:grade a\n",
    "75 to 85:grad b\n",
    "below 60 grad d\n",
    "75 to 60 grad c\n",
    "traffic system"
   ]
  },
  {
   "cell_type": "markdown",
   "id": "da0d15bf",
   "metadata": {},
   "source": [
    "conditional statement\n"
   ]
  },
  {
   "cell_type": "code",
   "execution_count": 2,
   "id": "512516dd",
   "metadata": {},
   "outputs": [
    {
     "name": "stdout",
     "output_type": "stream",
     "text": [
      "stop\n"
     ]
    }
   ],
   "source": [
    "color = input(\"enter the traffic light color (red,yellow,green):\").lower()\n",
    "if color == \"red\":\n",
    "    print(\"stop\")\n",
    "elif color == \"yellow\":\n",
    "    print(\"wait\")\n",
    "elif color == \"green\":\n",
    "    print(\"go\")\n",
    "else:\n",
    "    print(\"invalid color entered.\")"
   ]
  }
 ],
 "metadata": {
  "kernelspec": {
   "display_name": "Python 3",
   "language": "python",
   "name": "python3"
  },
  "language_info": {
   "codemirror_mode": {
    "name": "ipython",
    "version": 3
   },
   "file_extension": ".py",
   "mimetype": "text/x-python",
   "name": "python",
   "nbconvert_exporter": "python",
   "pygments_lexer": "ipython3",
   "version": "3.11.9"
  }
 },
 "nbformat": 4,
 "nbformat_minor": 5
}
