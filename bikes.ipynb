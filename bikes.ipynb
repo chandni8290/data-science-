{
 "cells": [
  {
   "cell_type": "code",
   "execution_count": 1,
   "id": "4e6c8f55",
   "metadata": {},
   "outputs": [],
   "source": [
    "import pandas as pd"
   ]
  },
  {
   "cell_type": "code",
   "execution_count": 2,
   "id": "aa600636",
   "metadata": {},
   "outputs": [],
   "source": [
    "df =pd.read_csv( 'Used_Bikes.csv')"
   ]
  },
  {
   "cell_type": "code",
   "execution_count": 3,
   "id": "a4b2a3c5",
   "metadata": {},
   "outputs": [
    {
     "ename": "FileNotFoundError",
     "evalue": "[Errno 2] No such file or directory: 'C:\\\\Users\\\\chand\\\\OneDrive\\\\Desktop\\\\Data science\\\\data-science-ai-and-ml\\\\projects\\\\Used_Bikes.csv'",
     "output_type": "error",
     "traceback": [
      "\u001b[31m---------------------------------------------------------------------------\u001b[39m",
      "\u001b[31mFileNotFoundError\u001b[39m                         Traceback (most recent call last)",
      "\u001b[36mCell\u001b[39m\u001b[36m \u001b[39m\u001b[32mIn[3]\u001b[39m\u001b[32m, line 1\u001b[39m\n\u001b[32m----> \u001b[39m\u001b[32m1\u001b[39m df =\u001b[43mpd\u001b[49m\u001b[43m.\u001b[49m\u001b[43mread_csv\u001b[49m\u001b[43m(\u001b[49m\u001b[33;43mr\u001b[39;49m\u001b[33;43m\"\u001b[39;49m\u001b[33;43mC:\u001b[39;49m\u001b[33;43m\\\u001b[39;49m\u001b[33;43mUsers\u001b[39;49m\u001b[33;43m\\\u001b[39;49m\u001b[33;43mchand\u001b[39;49m\u001b[33;43m\\\u001b[39;49m\u001b[33;43mOneDrive\u001b[39;49m\u001b[33;43m\\\u001b[39;49m\u001b[33;43mDesktop\u001b[39;49m\u001b[33;43m\\\u001b[39;49m\u001b[33;43mData science\u001b[39;49m\u001b[33;43m\\\u001b[39;49m\u001b[33;43mdata-science-ai-and-ml\u001b[39;49m\u001b[33;43m\\\u001b[39;49m\u001b[33;43mprojects\u001b[39;49m\u001b[33;43m\\\u001b[39;49m\u001b[33;43mUsed_Bikes.csv\u001b[39;49m\u001b[33;43m\"\u001b[39;49m\u001b[43m)\u001b[49m\n",
      "\u001b[36mFile \u001b[39m\u001b[32m~\\AppData\\Local\\Packages\\PythonSoftwareFoundation.Python.3.11_qbz5n2kfra8p0\\LocalCache\\local-packages\\Python311\\site-packages\\pandas\\io\\parsers\\readers.py:1026\u001b[39m, in \u001b[36mread_csv\u001b[39m\u001b[34m(filepath_or_buffer, sep, delimiter, header, names, index_col, usecols, dtype, engine, converters, true_values, false_values, skipinitialspace, skiprows, skipfooter, nrows, na_values, keep_default_na, na_filter, verbose, skip_blank_lines, parse_dates, infer_datetime_format, keep_date_col, date_parser, date_format, dayfirst, cache_dates, iterator, chunksize, compression, thousands, decimal, lineterminator, quotechar, quoting, doublequote, escapechar, comment, encoding, encoding_errors, dialect, on_bad_lines, delim_whitespace, low_memory, memory_map, float_precision, storage_options, dtype_backend)\u001b[39m\n\u001b[32m   1013\u001b[39m kwds_defaults = _refine_defaults_read(\n\u001b[32m   1014\u001b[39m     dialect,\n\u001b[32m   1015\u001b[39m     delimiter,\n\u001b[32m   (...)\u001b[39m\u001b[32m   1022\u001b[39m     dtype_backend=dtype_backend,\n\u001b[32m   1023\u001b[39m )\n\u001b[32m   1024\u001b[39m kwds.update(kwds_defaults)\n\u001b[32m-> \u001b[39m\u001b[32m1026\u001b[39m \u001b[38;5;28;01mreturn\u001b[39;00m \u001b[43m_read\u001b[49m\u001b[43m(\u001b[49m\u001b[43mfilepath_or_buffer\u001b[49m\u001b[43m,\u001b[49m\u001b[43m \u001b[49m\u001b[43mkwds\u001b[49m\u001b[43m)\u001b[49m\n",
      "\u001b[36mFile \u001b[39m\u001b[32m~\\AppData\\Local\\Packages\\PythonSoftwareFoundation.Python.3.11_qbz5n2kfra8p0\\LocalCache\\local-packages\\Python311\\site-packages\\pandas\\io\\parsers\\readers.py:620\u001b[39m, in \u001b[36m_read\u001b[39m\u001b[34m(filepath_or_buffer, kwds)\u001b[39m\n\u001b[32m    617\u001b[39m _validate_names(kwds.get(\u001b[33m\"\u001b[39m\u001b[33mnames\u001b[39m\u001b[33m\"\u001b[39m, \u001b[38;5;28;01mNone\u001b[39;00m))\n\u001b[32m    619\u001b[39m \u001b[38;5;66;03m# Create the parser.\u001b[39;00m\n\u001b[32m--> \u001b[39m\u001b[32m620\u001b[39m parser = \u001b[43mTextFileReader\u001b[49m\u001b[43m(\u001b[49m\u001b[43mfilepath_or_buffer\u001b[49m\u001b[43m,\u001b[49m\u001b[43m \u001b[49m\u001b[43m*\u001b[49m\u001b[43m*\u001b[49m\u001b[43mkwds\u001b[49m\u001b[43m)\u001b[49m\n\u001b[32m    622\u001b[39m \u001b[38;5;28;01mif\u001b[39;00m chunksize \u001b[38;5;129;01mor\u001b[39;00m iterator:\n\u001b[32m    623\u001b[39m     \u001b[38;5;28;01mreturn\u001b[39;00m parser\n",
      "\u001b[36mFile \u001b[39m\u001b[32m~\\AppData\\Local\\Packages\\PythonSoftwareFoundation.Python.3.11_qbz5n2kfra8p0\\LocalCache\\local-packages\\Python311\\site-packages\\pandas\\io\\parsers\\readers.py:1620\u001b[39m, in \u001b[36mTextFileReader.__init__\u001b[39m\u001b[34m(self, f, engine, **kwds)\u001b[39m\n\u001b[32m   1617\u001b[39m     \u001b[38;5;28mself\u001b[39m.options[\u001b[33m\"\u001b[39m\u001b[33mhas_index_names\u001b[39m\u001b[33m\"\u001b[39m] = kwds[\u001b[33m\"\u001b[39m\u001b[33mhas_index_names\u001b[39m\u001b[33m\"\u001b[39m]\n\u001b[32m   1619\u001b[39m \u001b[38;5;28mself\u001b[39m.handles: IOHandles | \u001b[38;5;28;01mNone\u001b[39;00m = \u001b[38;5;28;01mNone\u001b[39;00m\n\u001b[32m-> \u001b[39m\u001b[32m1620\u001b[39m \u001b[38;5;28mself\u001b[39m._engine = \u001b[38;5;28;43mself\u001b[39;49m\u001b[43m.\u001b[49m\u001b[43m_make_engine\u001b[49m\u001b[43m(\u001b[49m\u001b[43mf\u001b[49m\u001b[43m,\u001b[49m\u001b[43m \u001b[49m\u001b[38;5;28;43mself\u001b[39;49m\u001b[43m.\u001b[49m\u001b[43mengine\u001b[49m\u001b[43m)\u001b[49m\n",
      "\u001b[36mFile \u001b[39m\u001b[32m~\\AppData\\Local\\Packages\\PythonSoftwareFoundation.Python.3.11_qbz5n2kfra8p0\\LocalCache\\local-packages\\Python311\\site-packages\\pandas\\io\\parsers\\readers.py:1880\u001b[39m, in \u001b[36mTextFileReader._make_engine\u001b[39m\u001b[34m(self, f, engine)\u001b[39m\n\u001b[32m   1878\u001b[39m     \u001b[38;5;28;01mif\u001b[39;00m \u001b[33m\"\u001b[39m\u001b[33mb\u001b[39m\u001b[33m\"\u001b[39m \u001b[38;5;129;01mnot\u001b[39;00m \u001b[38;5;129;01min\u001b[39;00m mode:\n\u001b[32m   1879\u001b[39m         mode += \u001b[33m\"\u001b[39m\u001b[33mb\u001b[39m\u001b[33m\"\u001b[39m\n\u001b[32m-> \u001b[39m\u001b[32m1880\u001b[39m \u001b[38;5;28mself\u001b[39m.handles = \u001b[43mget_handle\u001b[49m\u001b[43m(\u001b[49m\n\u001b[32m   1881\u001b[39m \u001b[43m    \u001b[49m\u001b[43mf\u001b[49m\u001b[43m,\u001b[49m\n\u001b[32m   1882\u001b[39m \u001b[43m    \u001b[49m\u001b[43mmode\u001b[49m\u001b[43m,\u001b[49m\n\u001b[32m   1883\u001b[39m \u001b[43m    \u001b[49m\u001b[43mencoding\u001b[49m\u001b[43m=\u001b[49m\u001b[38;5;28;43mself\u001b[39;49m\u001b[43m.\u001b[49m\u001b[43moptions\u001b[49m\u001b[43m.\u001b[49m\u001b[43mget\u001b[49m\u001b[43m(\u001b[49m\u001b[33;43m\"\u001b[39;49m\u001b[33;43mencoding\u001b[39;49m\u001b[33;43m\"\u001b[39;49m\u001b[43m,\u001b[49m\u001b[43m \u001b[49m\u001b[38;5;28;43;01mNone\u001b[39;49;00m\u001b[43m)\u001b[49m\u001b[43m,\u001b[49m\n\u001b[32m   1884\u001b[39m \u001b[43m    \u001b[49m\u001b[43mcompression\u001b[49m\u001b[43m=\u001b[49m\u001b[38;5;28;43mself\u001b[39;49m\u001b[43m.\u001b[49m\u001b[43moptions\u001b[49m\u001b[43m.\u001b[49m\u001b[43mget\u001b[49m\u001b[43m(\u001b[49m\u001b[33;43m\"\u001b[39;49m\u001b[33;43mcompression\u001b[39;49m\u001b[33;43m\"\u001b[39;49m\u001b[43m,\u001b[49m\u001b[43m \u001b[49m\u001b[38;5;28;43;01mNone\u001b[39;49;00m\u001b[43m)\u001b[49m\u001b[43m,\u001b[49m\n\u001b[32m   1885\u001b[39m \u001b[43m    \u001b[49m\u001b[43mmemory_map\u001b[49m\u001b[43m=\u001b[49m\u001b[38;5;28;43mself\u001b[39;49m\u001b[43m.\u001b[49m\u001b[43moptions\u001b[49m\u001b[43m.\u001b[49m\u001b[43mget\u001b[49m\u001b[43m(\u001b[49m\u001b[33;43m\"\u001b[39;49m\u001b[33;43mmemory_map\u001b[39;49m\u001b[33;43m\"\u001b[39;49m\u001b[43m,\u001b[49m\u001b[43m \u001b[49m\u001b[38;5;28;43;01mFalse\u001b[39;49;00m\u001b[43m)\u001b[49m\u001b[43m,\u001b[49m\n\u001b[32m   1886\u001b[39m \u001b[43m    \u001b[49m\u001b[43mis_text\u001b[49m\u001b[43m=\u001b[49m\u001b[43mis_text\u001b[49m\u001b[43m,\u001b[49m\n\u001b[32m   1887\u001b[39m \u001b[43m    \u001b[49m\u001b[43merrors\u001b[49m\u001b[43m=\u001b[49m\u001b[38;5;28;43mself\u001b[39;49m\u001b[43m.\u001b[49m\u001b[43moptions\u001b[49m\u001b[43m.\u001b[49m\u001b[43mget\u001b[49m\u001b[43m(\u001b[49m\u001b[33;43m\"\u001b[39;49m\u001b[33;43mencoding_errors\u001b[39;49m\u001b[33;43m\"\u001b[39;49m\u001b[43m,\u001b[49m\u001b[43m \u001b[49m\u001b[33;43m\"\u001b[39;49m\u001b[33;43mstrict\u001b[39;49m\u001b[33;43m\"\u001b[39;49m\u001b[43m)\u001b[49m\u001b[43m,\u001b[49m\n\u001b[32m   1888\u001b[39m \u001b[43m    \u001b[49m\u001b[43mstorage_options\u001b[49m\u001b[43m=\u001b[49m\u001b[38;5;28;43mself\u001b[39;49m\u001b[43m.\u001b[49m\u001b[43moptions\u001b[49m\u001b[43m.\u001b[49m\u001b[43mget\u001b[49m\u001b[43m(\u001b[49m\u001b[33;43m\"\u001b[39;49m\u001b[33;43mstorage_options\u001b[39;49m\u001b[33;43m\"\u001b[39;49m\u001b[43m,\u001b[49m\u001b[43m \u001b[49m\u001b[38;5;28;43;01mNone\u001b[39;49;00m\u001b[43m)\u001b[49m\u001b[43m,\u001b[49m\n\u001b[32m   1889\u001b[39m \u001b[43m\u001b[49m\u001b[43m)\u001b[49m\n\u001b[32m   1890\u001b[39m \u001b[38;5;28;01massert\u001b[39;00m \u001b[38;5;28mself\u001b[39m.handles \u001b[38;5;129;01mis\u001b[39;00m \u001b[38;5;129;01mnot\u001b[39;00m \u001b[38;5;28;01mNone\u001b[39;00m\n\u001b[32m   1891\u001b[39m f = \u001b[38;5;28mself\u001b[39m.handles.handle\n",
      "\u001b[36mFile \u001b[39m\u001b[32m~\\AppData\\Local\\Packages\\PythonSoftwareFoundation.Python.3.11_qbz5n2kfra8p0\\LocalCache\\local-packages\\Python311\\site-packages\\pandas\\io\\common.py:873\u001b[39m, in \u001b[36mget_handle\u001b[39m\u001b[34m(path_or_buf, mode, encoding, compression, memory_map, is_text, errors, storage_options)\u001b[39m\n\u001b[32m    868\u001b[39m \u001b[38;5;28;01melif\u001b[39;00m \u001b[38;5;28misinstance\u001b[39m(handle, \u001b[38;5;28mstr\u001b[39m):\n\u001b[32m    869\u001b[39m     \u001b[38;5;66;03m# Check whether the filename is to be opened in binary mode.\u001b[39;00m\n\u001b[32m    870\u001b[39m     \u001b[38;5;66;03m# Binary mode does not support 'encoding' and 'newline'.\u001b[39;00m\n\u001b[32m    871\u001b[39m     \u001b[38;5;28;01mif\u001b[39;00m ioargs.encoding \u001b[38;5;129;01mand\u001b[39;00m \u001b[33m\"\u001b[39m\u001b[33mb\u001b[39m\u001b[33m\"\u001b[39m \u001b[38;5;129;01mnot\u001b[39;00m \u001b[38;5;129;01min\u001b[39;00m ioargs.mode:\n\u001b[32m    872\u001b[39m         \u001b[38;5;66;03m# Encoding\u001b[39;00m\n\u001b[32m--> \u001b[39m\u001b[32m873\u001b[39m         handle = \u001b[38;5;28;43mopen\u001b[39;49m\u001b[43m(\u001b[49m\n\u001b[32m    874\u001b[39m \u001b[43m            \u001b[49m\u001b[43mhandle\u001b[49m\u001b[43m,\u001b[49m\n\u001b[32m    875\u001b[39m \u001b[43m            \u001b[49m\u001b[43mioargs\u001b[49m\u001b[43m.\u001b[49m\u001b[43mmode\u001b[49m\u001b[43m,\u001b[49m\n\u001b[32m    876\u001b[39m \u001b[43m            \u001b[49m\u001b[43mencoding\u001b[49m\u001b[43m=\u001b[49m\u001b[43mioargs\u001b[49m\u001b[43m.\u001b[49m\u001b[43mencoding\u001b[49m\u001b[43m,\u001b[49m\n\u001b[32m    877\u001b[39m \u001b[43m            \u001b[49m\u001b[43merrors\u001b[49m\u001b[43m=\u001b[49m\u001b[43merrors\u001b[49m\u001b[43m,\u001b[49m\n\u001b[32m    878\u001b[39m \u001b[43m            \u001b[49m\u001b[43mnewline\u001b[49m\u001b[43m=\u001b[49m\u001b[33;43m\"\u001b[39;49m\u001b[33;43m\"\u001b[39;49m\u001b[43m,\u001b[49m\n\u001b[32m    879\u001b[39m \u001b[43m        \u001b[49m\u001b[43m)\u001b[49m\n\u001b[32m    880\u001b[39m     \u001b[38;5;28;01melse\u001b[39;00m:\n\u001b[32m    881\u001b[39m         \u001b[38;5;66;03m# Binary mode\u001b[39;00m\n\u001b[32m    882\u001b[39m         handle = \u001b[38;5;28mopen\u001b[39m(handle, ioargs.mode)\n",
      "\u001b[31mFileNotFoundError\u001b[39m: [Errno 2] No such file or directory: 'C:\\\\Users\\\\chand\\\\OneDrive\\\\Desktop\\\\Data science\\\\data-science-ai-and-ml\\\\projects\\\\Used_Bikes.csv'"
     ]
    }
   ],
   "source": [
    "df =pd.read_csv(r\"C:\\Users\\chand\\OneDrive\\Desktop\\Data science\\data-science-ai-and-ml\\projects\\Used_Bikes.csv\")"
   ]
  },
  {
   "cell_type": "code",
   "execution_count": null,
   "id": "caf61d44",
   "metadata": {},
   "outputs": [
    {
     "name": "stdout",
     "output_type": "stream",
     "text": [
      "<class 'pandas.core.frame.DataFrame'>\n",
      "RangeIndex: 32648 entries, 0 to 32647\n",
      "Data columns (total 8 columns):\n",
      " #   Column      Non-Null Count  Dtype  \n",
      "---  ------      --------------  -----  \n",
      " 0   bike_name   32648 non-null  object \n",
      " 1   price       32648 non-null  float64\n",
      " 2   city        32648 non-null  object \n",
      " 3   kms_driven  32648 non-null  float64\n",
      " 4   owner       32648 non-null  object \n",
      " 5   age         32648 non-null  float64\n",
      " 6   power       32648 non-null  float64\n",
      " 7   brand       32648 non-null  object \n",
      "dtypes: float64(4), object(4)\n",
      "memory usage: 2.0+ MB\n"
     ]
    }
   ],
   "source": [
    "df.info()"
   ]
  },
  {
   "cell_type": "code",
   "execution_count": null,
   "id": "5415327a",
   "metadata": {},
   "outputs": [
    {
     "data": {
      "application/vnd.microsoft.datawrangler.viewer.v0+json": {
       "columns": [
        {
         "name": "index",
         "rawType": "int64",
         "type": "integer"
        },
        {
         "name": "0",
         "rawType": "bool",
         "type": "boolean"
        }
       ],
       "ref": "aa5a40a3-b9a7-4b1c-810b-e8879200a4e5",
       "rows": [
        [
         "0",
         "False"
        ],
        [
         "1",
         "False"
        ],
        [
         "2",
         "False"
        ],
        [
         "3",
         "False"
        ],
        [
         "4",
         "False"
        ],
        [
         "5",
         "False"
        ],
        [
         "6",
         "False"
        ],
        [
         "7",
         "False"
        ],
        [
         "8",
         "False"
        ],
        [
         "9",
         "False"
        ],
        [
         "10",
         "False"
        ],
        [
         "11",
         "False"
        ],
        [
         "12",
         "False"
        ],
        [
         "13",
         "False"
        ],
        [
         "14",
         "False"
        ],
        [
         "15",
         "False"
        ],
        [
         "16",
         "False"
        ],
        [
         "17",
         "False"
        ],
        [
         "18",
         "False"
        ],
        [
         "19",
         "True"
        ],
        [
         "20",
         "True"
        ],
        [
         "21",
         "True"
        ],
        [
         "22",
         "False"
        ],
        [
         "23",
         "False"
        ],
        [
         "24",
         "False"
        ],
        [
         "25",
         "True"
        ],
        [
         "26",
         "False"
        ],
        [
         "27",
         "False"
        ],
        [
         "28",
         "False"
        ],
        [
         "29",
         "False"
        ],
        [
         "30",
         "False"
        ],
        [
         "31",
         "False"
        ],
        [
         "32",
         "False"
        ],
        [
         "33",
         "False"
        ],
        [
         "34",
         "False"
        ],
        [
         "35",
         "False"
        ],
        [
         "36",
         "False"
        ],
        [
         "37",
         "False"
        ],
        [
         "38",
         "False"
        ],
        [
         "39",
         "False"
        ],
        [
         "40",
         "False"
        ],
        [
         "41",
         "False"
        ],
        [
         "42",
         "False"
        ],
        [
         "43",
         "False"
        ],
        [
         "44",
         "False"
        ],
        [
         "45",
         "False"
        ],
        [
         "46",
         "False"
        ],
        [
         "47",
         "False"
        ],
        [
         "48",
         "False"
        ],
        [
         "49",
         "False"
        ]
       ],
       "shape": {
        "columns": 1,
        "rows": 32648
       }
      },
      "text/plain": [
       "0        False\n",
       "1        False\n",
       "2        False\n",
       "3        False\n",
       "4        False\n",
       "         ...  \n",
       "32643     True\n",
       "32644     True\n",
       "32645     True\n",
       "32646     True\n",
       "32647     True\n",
       "Length: 32648, dtype: bool"
      ]
     },
     "execution_count": 30,
     "metadata": {},
     "output_type": "execute_result"
    }
   ],
   "source": [
    "df.duplicated()"
   ]
  },
  {
   "cell_type": "code",
   "execution_count": null,
   "id": "484fc1e5",
   "metadata": {},
   "outputs": [
    {
     "data": {
      "text/plain": [
       "np.int64(25324)"
      ]
     },
     "execution_count": 31,
     "metadata": {},
     "output_type": "execute_result"
    }
   ],
   "source": [
    "df.duplicated().sum()"
   ]
  },
  {
   "cell_type": "code",
   "execution_count": null,
   "id": "32365c98",
   "metadata": {},
   "outputs": [],
   "source": [
    "df.drop_duplicates(inplace=True)"
   ]
  },
  {
   "cell_type": "code",
   "execution_count": null,
   "id": "a8b7cd12",
   "metadata": {},
   "outputs": [],
   "source": [
    "df.drop_duplicates(inplace=True)df.duplicated().sum()"
   ]
  },
  {
   "cell_type": "code",
   "execution_count": null,
   "id": "623b82de",
   "metadata": {},
   "outputs": [
    {
     "data": {
      "application/vnd.microsoft.datawrangler.viewer.v0+json": {
       "columns": [
        {
         "name": "index",
         "rawType": "object",
         "type": "string"
        },
        {
         "name": "price",
         "rawType": "float64",
         "type": "float"
        },
        {
         "name": "kms_driven",
         "rawType": "float64",
         "type": "float"
        },
        {
         "name": "age",
         "rawType": "float64",
         "type": "float"
        },
        {
         "name": "power",
         "rawType": "float64",
         "type": "float"
        }
       ],
       "ref": "c3b58ab8-eca1-4ddf-bab5-fa5787bfb811",
       "rows": [
        [
         "count",
         "7324.0",
         "7324.0",
         "7324.0",
         "7324.0"
        ],
        [
         "mean",
         "84883.90005461496",
         "23910.496586564717",
         "6.656471873293282",
         "228.13339705079193"
        ],
        [
         "std",
         "120966.19438675368",
         "27317.59463148138",
         "3.6052990881263165",
         "158.32421903422807"
        ],
        [
         "min",
         "4400.0",
         "1.0",
         "1.0",
         "100.0"
        ],
        [
         "25%",
         "30000.0",
         "10155.75",
         "4.0",
         "125.0"
        ],
        [
         "50%",
         "55000.0",
         "19000.0",
         "6.0",
         "160.0"
        ],
        [
         "75%",
         "100000.0",
         "30112.0",
         "8.0",
         "350.0"
        ],
        [
         "max",
         "1900000.0",
         "750000.0",
         "63.0",
         "1800.0"
        ]
       ],
       "shape": {
        "columns": 4,
        "rows": 8
       }
      },
      "text/html": [
       "<div>\n",
       "<style scoped>\n",
       "    .dataframe tbody tr th:only-of-type {\n",
       "        vertical-align: middle;\n",
       "    }\n",
       "\n",
       "    .dataframe tbody tr th {\n",
       "        vertical-align: top;\n",
       "    }\n",
       "\n",
       "    .dataframe thead th {\n",
       "        text-align: right;\n",
       "    }\n",
       "</style>\n",
       "<table border=\"1\" class=\"dataframe\">\n",
       "  <thead>\n",
       "    <tr style=\"text-align: right;\">\n",
       "      <th></th>\n",
       "      <th>price</th>\n",
       "      <th>kms_driven</th>\n",
       "      <th>age</th>\n",
       "      <th>power</th>\n",
       "    </tr>\n",
       "  </thead>\n",
       "  <tbody>\n",
       "    <tr>\n",
       "      <th>count</th>\n",
       "      <td>7.324000e+03</td>\n",
       "      <td>7324.000000</td>\n",
       "      <td>7324.000000</td>\n",
       "      <td>7324.000000</td>\n",
       "    </tr>\n",
       "    <tr>\n",
       "      <th>mean</th>\n",
       "      <td>8.488390e+04</td>\n",
       "      <td>23910.496587</td>\n",
       "      <td>6.656472</td>\n",
       "      <td>228.133397</td>\n",
       "    </tr>\n",
       "    <tr>\n",
       "      <th>std</th>\n",
       "      <td>1.209662e+05</td>\n",
       "      <td>27317.594631</td>\n",
       "      <td>3.605299</td>\n",
       "      <td>158.324219</td>\n",
       "    </tr>\n",
       "    <tr>\n",
       "      <th>min</th>\n",
       "      <td>4.400000e+03</td>\n",
       "      <td>1.000000</td>\n",
       "      <td>1.000000</td>\n",
       "      <td>100.000000</td>\n",
       "    </tr>\n",
       "    <tr>\n",
       "      <th>25%</th>\n",
       "      <td>3.000000e+04</td>\n",
       "      <td>10155.750000</td>\n",
       "      <td>4.000000</td>\n",
       "      <td>125.000000</td>\n",
       "    </tr>\n",
       "    <tr>\n",
       "      <th>50%</th>\n",
       "      <td>5.500000e+04</td>\n",
       "      <td>19000.000000</td>\n",
       "      <td>6.000000</td>\n",
       "      <td>160.000000</td>\n",
       "    </tr>\n",
       "    <tr>\n",
       "      <th>75%</th>\n",
       "      <td>1.000000e+05</td>\n",
       "      <td>30112.000000</td>\n",
       "      <td>8.000000</td>\n",
       "      <td>350.000000</td>\n",
       "    </tr>\n",
       "    <tr>\n",
       "      <th>max</th>\n",
       "      <td>1.900000e+06</td>\n",
       "      <td>750000.000000</td>\n",
       "      <td>63.000000</td>\n",
       "      <td>1800.000000</td>\n",
       "    </tr>\n",
       "  </tbody>\n",
       "</table>\n",
       "</div>"
      ],
      "text/plain": [
       "              price     kms_driven          age        power\n",
       "count  7.324000e+03    7324.000000  7324.000000  7324.000000\n",
       "mean   8.488390e+04   23910.496587     6.656472   228.133397\n",
       "std    1.209662e+05   27317.594631     3.605299   158.324219\n",
       "min    4.400000e+03       1.000000     1.000000   100.000000\n",
       "25%    3.000000e+04   10155.750000     4.000000   125.000000\n",
       "50%    5.500000e+04   19000.000000     6.000000   160.000000\n",
       "75%    1.000000e+05   30112.000000     8.000000   350.000000\n",
       "max    1.900000e+06  750000.000000    63.000000  1800.000000"
      ]
     },
     "execution_count": 12,
     "metadata": {},
     "output_type": "execute_result"
    }
   ],
   "source": [
    "df.describe()"
   ]
  },
  {
   "cell_type": "code",
   "execution_count": null,
   "id": "304afdc7",
   "metadata": {},
   "outputs": [
    {
     "data": {
      "application/vnd.microsoft.datawrangler.viewer.v0+json": {
       "columns": [
        {
         "name": "index",
         "rawType": "int64",
         "type": "integer"
        },
        {
         "name": "bike_name",
         "rawType": "object",
         "type": "string"
        },
        {
         "name": "price",
         "rawType": "float64",
         "type": "float"
        },
        {
         "name": "city",
         "rawType": "object",
         "type": "string"
        },
        {
         "name": "kms_driven",
         "rawType": "float64",
         "type": "float"
        },
        {
         "name": "owner",
         "rawType": "object",
         "type": "string"
        },
        {
         "name": "age",
         "rawType": "float64",
         "type": "float"
        },
        {
         "name": "power",
         "rawType": "float64",
         "type": "float"
        },
        {
         "name": "brand",
         "rawType": "object",
         "type": "string"
        }
       ],
       "ref": "2eeee101-a56a-4dca-86e5-227853206bd4",
       "rows": [
        [
         "0",
         "TVS Star City Plus Dual Tone 110cc",
         "35000.0",
         "Ahmedabad",
         "17654.0",
         "First Owner",
         "3.0",
         "110.0",
         "TVS"
        ],
        [
         "1",
         "Royal Enfield Classic 350cc",
         "119900.0",
         "Delhi",
         "11000.0",
         "First Owner",
         "4.0",
         "350.0",
         "Royal Enfield"
        ],
        [
         "2",
         "Triumph Daytona 675R",
         "600000.0",
         "Delhi",
         "110.0",
         "First Owner",
         "8.0",
         "675.0",
         "Triumph"
        ],
        [
         "3",
         "TVS Apache RTR 180cc",
         "65000.0",
         "Bangalore",
         "16329.0",
         "First Owner",
         "4.0",
         "180.0",
         "TVS"
        ],
        [
         "4",
         "Yamaha FZ S V 2.0 150cc-Ltd. Edition",
         "80000.0",
         "Bangalore",
         "10000.0",
         "First Owner",
         "3.0",
         "150.0",
         "Yamaha"
        ],
        [
         "5",
         "Yamaha FZs 150cc",
         "53499.0",
         "Delhi",
         "25000.0",
         "First Owner",
         "6.0",
         "150.0",
         "Yamaha"
        ],
        [
         "6",
         "Honda CB Hornet 160R  ABS DLX",
         "85000.0",
         "Delhi",
         "8200.0",
         "First Owner",
         "3.0",
         "160.0",
         "Honda"
        ],
        [
         "7",
         "Hero Splendor Plus Self Alloy 100cc",
         "45000.0",
         "Delhi",
         "12645.0",
         "First Owner",
         "3.0",
         "100.0",
         "Hero"
        ],
        [
         "8",
         "Royal Enfield Thunderbird X 350cc",
         "145000.0",
         "Bangalore",
         "9190.0",
         "First Owner",
         "3.0",
         "350.0",
         "Royal Enfield"
        ],
        [
         "9",
         "Royal Enfield Classic Desert Storm 500cc",
         "88000.0",
         "Delhi",
         "19000.0",
         "Second Owner",
         "7.0",
         "500.0",
         "Royal Enfield"
        ],
        [
         "10",
         "Yamaha YZF-R15 2.0 150cc",
         "72000.0",
         "Bangalore",
         "20000.0",
         "First Owner",
         "7.0",
         "150.0",
         "Yamaha"
        ],
        [
         "11",
         "Yamaha FZ25 250cc",
         "95000.0",
         "Bangalore",
         "9665.0",
         "First Owner",
         "4.0",
         "250.0",
         "Yamaha"
        ],
        [
         "12",
         "Bajaj Pulsar NS200",
         "78000.0",
         "Bangalore",
         "9900.0",
         "First Owner",
         "4.0",
         "200.0",
         "Bajaj"
        ],
        [
         "13",
         "Bajaj Discover 100M",
         "29499.0",
         "Delhi",
         "20000.0",
         "First Owner",
         "8.0",
         "100.0",
         "Bajaj"
        ],
        [
         "14",
         "Bajaj Discover 125M",
         "29900.0",
         "Delhi",
         "20000.0",
         "First Owner",
         "7.0",
         "125.0",
         "Bajaj"
        ],
        [
         "15",
         "Bajaj Pulsar NS200 ABS",
         "90000.0",
         "Bangalore",
         "11574.0",
         "First Owner",
         "3.0",
         "200.0",
         "Bajaj"
        ],
        [
         "16",
         "Bajaj Pulsar RS200 ABS",
         "120000.0",
         "Bangalore",
         "23000.0",
         "First Owner",
         "3.0",
         "200.0",
         "Bajaj"
        ],
        [
         "17",
         "Suzuki Gixxer SF 150cc",
         "48000.0",
         "Mumbai",
         "24725.0",
         "First Owner",
         "5.0",
         "150.0",
         "Suzuki"
        ],
        [
         "18",
         "Benelli 302R 300CC",
         "240000.0",
         "Mumbai",
         "15025.0",
         "Second Owner",
         "3.0",
         "302.0",
         "Benelli"
        ],
        [
         "22",
         "Hero Splendor iSmart Plus IBS 110cc",
         "46500.0",
         "Delhi",
         "3500.0",
         "First Owner",
         "2.0",
         "110.0",
         "Hero"
        ],
        [
         "23",
         "Royal Enfield Classic Chrome 500cc",
         "121700.0",
         "Kalyan",
         "24520.0",
         "First Owner",
         "5.0",
         "500.0",
         "Royal Enfield"
        ],
        [
         "24",
         "Yamaha FZ V 2.0 150cc",
         "45000.0",
         "Delhi",
         "23000.0",
         "First Owner",
         "6.0",
         "150.0",
         "Yamaha"
        ],
        [
         "26",
         "Hero Super Splendor 125cc",
         "20000.0",
         "Ahmedabad",
         "29305.0",
         "First Owner",
         "16.0",
         "125.0",
         "Hero"
        ],
        [
         "27",
         "Honda CBF Stunner 125cc",
         "20800.0",
         "Faridabad",
         "30500.0",
         "Second Owner",
         "7.0",
         "125.0",
         "Honda"
        ],
        [
         "28",
         "Bajaj Pulsar 150cc",
         "50000.0",
         "Bangalore",
         "19000.0",
         "First Owner",
         "8.0",
         "150.0",
         "Bajaj"
        ],
        [
         "29",
         "Honda X-Blade 160CC ABS",
         "81200.0",
         "Mettur",
         "9100.0",
         "First Owner",
         "2.0",
         "160.0",
         "Honda"
        ],
        [
         "30",
         "Bajaj Pulsar NS200",
         "88000.0",
         "Hyderabad",
         "21914.0",
         "First Owner",
         "3.0",
         "200.0",
         "Bajaj"
        ],
        [
         "31",
         "Yamaha YZF-R15 2.0 150cc",
         "80000.0",
         "Kaithal",
         "20000.0",
         "Second Owner",
         "4.0",
         "150.0",
         "Yamaha"
        ],
        [
         "32",
         "Bajaj Avenger 220cc",
         "40900.0",
         "Gurgaon",
         "15000.0",
         "First Owner",
         "6.0",
         "220.0",
         "Bajaj"
        ],
        [
         "33",
         "KTM RC 390cc",
         "180000.0",
         "Pune",
         "17700.0",
         "First Owner",
         "4.0",
         "390.0",
         "KTM"
        ],
        [
         "34",
         "Honda CB Unicorn 150cc",
         "40000.0",
         "Noida",
         "30000.0",
         "First Owner",
         "8.0",
         "150.0",
         "Honda"
        ],
        [
         "35",
         "KTM Duke 200cc",
         "70000.0",
         "Nashik",
         "100000.0",
         "Second Owner",
         "8.0",
         "200.0",
         "KTM"
        ],
        [
         "36",
         "Royal Enfield Classic 350cc",
         "98800.0",
         "Kochi",
         "39000.0",
         "First Owner",
         "5.0",
         "350.0",
         "Royal Enfield"
        ],
        [
         "37",
         "Honda CBR 150R 150cc",
         "65000.0",
         "Allahabad",
         "43000.0",
         "First Owner",
         "6.0",
         "150.0",
         "Honda"
        ],
        [
         "38",
         "Royal Enfield Thunderbird X 500cc",
         "190500.0",
         "Samastipur",
         "4550.0",
         "First Owner",
         "2.0",
         "500.0",
         "Royal Enfield"
        ],
        [
         "39",
         "KTM RC 200cc ABS",
         "179000.0",
         "Bangalore",
         "3400.0",
         "First Owner",
         "2.0",
         "200.0",
         "KTM"
        ],
        [
         "40",
         "Royal Enfield Thunderbird 350cc",
         "70000.0",
         "Nadiad",
         "45000.0",
         "First Owner",
         "8.0",
         "350.0",
         "Royal Enfield"
        ],
        [
         "41",
         "Bajaj Avenger 220cc",
         "45000.0",
         "Hyderabad",
         "36100.0",
         "First Owner",
         "6.0",
         "220.0",
         "Bajaj"
        ],
        [
         "42",
         "Royal Enfield Bullet Electra 350cc",
         "78000.0",
         "Lucknow",
         "8500.0",
         "First Owner",
         "13.0",
         "350.0",
         "Royal Enfield"
        ],
        [
         "43",
         "Bajaj Avenger Street 220 ABS",
         "110000.0",
         "Bangalore",
         "2550.0",
         "First Owner",
         "2.0",
         "220.0",
         "Bajaj"
        ],
        [
         "44",
         "Royal Enfield Classic 350cc",
         "85000.0",
         "Delhi",
         "18000.0",
         "First Owner",
         "6.0",
         "350.0",
         "Royal Enfield"
        ],
        [
         "45",
         "Bajaj Pulsar NS200",
         "38000.0",
         "Delhi",
         "35000.0",
         "First Owner",
         "9.0",
         "200.0",
         "Bajaj"
        ],
        [
         "46",
         "Royal Enfield Thunderbird 350cc",
         "55346.0",
         "Noida",
         "38000.0",
         "First Owner",
         "10.0",
         "350.0",
         "Royal Enfield"
        ],
        [
         "47",
         "Mahindra Centuro NXT 110cc",
         "28000.0",
         "Jaipur",
         "45000.0",
         "First Owner",
         "2.0",
         "110.0",
         "Mahindra"
        ],
        [
         "48",
         "Hero Hunk 150cc",
         "37000.0",
         "Mumbai",
         "10800.0",
         "First Owner",
         "8.0",
         "150.0",
         "Hero"
        ],
        [
         "49",
         "Suzuki Gixxer SF Fi 150cc SP ABS",
         "97000.0",
         "Delhi",
         "4400.0",
         "First Owner",
         "3.0",
         "150.0",
         "Suzuki"
        ],
        [
         "50",
         "Yamaha FZ 150cc",
         "40000.0",
         "Karnal",
         "357000.0",
         "First Owner",
         "8.0",
         "150.0",
         "Yamaha"
        ],
        [
         "51",
         "Royal Enfield‎ Bullet 350cc",
         "90000.0",
         "Delhi",
         "15300.0",
         "First Owner",
         "7.0",
         "350.0",
         "Royal Enfield"
        ],
        [
         "52",
         "TVS Apache RTR 160cc",
         "60000.0",
         "Mumbai",
         "30000.0",
         "First Owner",
         "5.0",
         "160.0",
         "TVS"
        ],
        [
         "53",
         "Honda CB Shine 125cc",
         "21900.0",
         "Gorakhpur",
         "30000.0",
         "Second Owner",
         "7.0",
         "125.0",
         "Honda"
        ]
       ],
       "shape": {
        "columns": 8,
        "rows": 7324
       }
      },
      "text/html": [
       "<div>\n",
       "<style scoped>\n",
       "    .dataframe tbody tr th:only-of-type {\n",
       "        vertical-align: middle;\n",
       "    }\n",
       "\n",
       "    .dataframe tbody tr th {\n",
       "        vertical-align: top;\n",
       "    }\n",
       "\n",
       "    .dataframe thead th {\n",
       "        text-align: right;\n",
       "    }\n",
       "</style>\n",
       "<table border=\"1\" class=\"dataframe\">\n",
       "  <thead>\n",
       "    <tr style=\"text-align: right;\">\n",
       "      <th></th>\n",
       "      <th>bike_name</th>\n",
       "      <th>price</th>\n",
       "      <th>city</th>\n",
       "      <th>kms_driven</th>\n",
       "      <th>owner</th>\n",
       "      <th>age</th>\n",
       "      <th>power</th>\n",
       "      <th>brand</th>\n",
       "    </tr>\n",
       "  </thead>\n",
       "  <tbody>\n",
       "    <tr>\n",
       "      <th>0</th>\n",
       "      <td>TVS Star City Plus Dual Tone 110cc</td>\n",
       "      <td>35000.0</td>\n",
       "      <td>Ahmedabad</td>\n",
       "      <td>17654.0</td>\n",
       "      <td>First Owner</td>\n",
       "      <td>3.0</td>\n",
       "      <td>110.0</td>\n",
       "      <td>TVS</td>\n",
       "    </tr>\n",
       "    <tr>\n",
       "      <th>1</th>\n",
       "      <td>Royal Enfield Classic 350cc</td>\n",
       "      <td>119900.0</td>\n",
       "      <td>Delhi</td>\n",
       "      <td>11000.0</td>\n",
       "      <td>First Owner</td>\n",
       "      <td>4.0</td>\n",
       "      <td>350.0</td>\n",
       "      <td>Royal Enfield</td>\n",
       "    </tr>\n",
       "    <tr>\n",
       "      <th>2</th>\n",
       "      <td>Triumph Daytona 675R</td>\n",
       "      <td>600000.0</td>\n",
       "      <td>Delhi</td>\n",
       "      <td>110.0</td>\n",
       "      <td>First Owner</td>\n",
       "      <td>8.0</td>\n",
       "      <td>675.0</td>\n",
       "      <td>Triumph</td>\n",
       "    </tr>\n",
       "    <tr>\n",
       "      <th>3</th>\n",
       "      <td>TVS Apache RTR 180cc</td>\n",
       "      <td>65000.0</td>\n",
       "      <td>Bangalore</td>\n",
       "      <td>16329.0</td>\n",
       "      <td>First Owner</td>\n",
       "      <td>4.0</td>\n",
       "      <td>180.0</td>\n",
       "      <td>TVS</td>\n",
       "    </tr>\n",
       "    <tr>\n",
       "      <th>4</th>\n",
       "      <td>Yamaha FZ S V 2.0 150cc-Ltd. Edition</td>\n",
       "      <td>80000.0</td>\n",
       "      <td>Bangalore</td>\n",
       "      <td>10000.0</td>\n",
       "      <td>First Owner</td>\n",
       "      <td>3.0</td>\n",
       "      <td>150.0</td>\n",
       "      <td>Yamaha</td>\n",
       "    </tr>\n",
       "    <tr>\n",
       "      <th>...</th>\n",
       "      <td>...</td>\n",
       "      <td>...</td>\n",
       "      <td>...</td>\n",
       "      <td>...</td>\n",
       "      <td>...</td>\n",
       "      <td>...</td>\n",
       "      <td>...</td>\n",
       "      <td>...</td>\n",
       "    </tr>\n",
       "    <tr>\n",
       "      <th>9362</th>\n",
       "      <td>Hero Hunk Rear Disc 150cc</td>\n",
       "      <td>25000.0</td>\n",
       "      <td>Delhi</td>\n",
       "      <td>48587.0</td>\n",
       "      <td>First Owner</td>\n",
       "      <td>8.0</td>\n",
       "      <td>150.0</td>\n",
       "      <td>Hero</td>\n",
       "    </tr>\n",
       "    <tr>\n",
       "      <th>9369</th>\n",
       "      <td>Bajaj Avenger 220cc</td>\n",
       "      <td>35000.0</td>\n",
       "      <td>Bangalore</td>\n",
       "      <td>60000.0</td>\n",
       "      <td>First Owner</td>\n",
       "      <td>9.0</td>\n",
       "      <td>220.0</td>\n",
       "      <td>Bajaj</td>\n",
       "    </tr>\n",
       "    <tr>\n",
       "      <th>9370</th>\n",
       "      <td>Harley-Davidson Street 750 ABS</td>\n",
       "      <td>450000.0</td>\n",
       "      <td>Jodhpur</td>\n",
       "      <td>3430.0</td>\n",
       "      <td>First Owner</td>\n",
       "      <td>4.0</td>\n",
       "      <td>750.0</td>\n",
       "      <td>Harley-Davidson</td>\n",
       "    </tr>\n",
       "    <tr>\n",
       "      <th>9371</th>\n",
       "      <td>Bajaj Dominar 400 ABS</td>\n",
       "      <td>139000.0</td>\n",
       "      <td>Hyderabad</td>\n",
       "      <td>21300.0</td>\n",
       "      <td>First Owner</td>\n",
       "      <td>4.0</td>\n",
       "      <td>400.0</td>\n",
       "      <td>Bajaj</td>\n",
       "    </tr>\n",
       "    <tr>\n",
       "      <th>9372</th>\n",
       "      <td>Bajaj Avenger Street 220</td>\n",
       "      <td>80000.0</td>\n",
       "      <td>Hyderabad</td>\n",
       "      <td>7127.0</td>\n",
       "      <td>First Owner</td>\n",
       "      <td>5.0</td>\n",
       "      <td>220.0</td>\n",
       "      <td>Bajaj</td>\n",
       "    </tr>\n",
       "  </tbody>\n",
       "</table>\n",
       "<p>7324 rows × 8 columns</p>\n",
       "</div>"
      ],
      "text/plain": [
       "                                 bike_name     price       city  kms_driven  \\\n",
       "0       TVS Star City Plus Dual Tone 110cc   35000.0  Ahmedabad     17654.0   \n",
       "1              Royal Enfield Classic 350cc  119900.0      Delhi     11000.0   \n",
       "2                     Triumph Daytona 675R  600000.0      Delhi       110.0   \n",
       "3                     TVS Apache RTR 180cc   65000.0  Bangalore     16329.0   \n",
       "4     Yamaha FZ S V 2.0 150cc-Ltd. Edition   80000.0  Bangalore     10000.0   \n",
       "...                                    ...       ...        ...         ...   \n",
       "9362             Hero Hunk Rear Disc 150cc   25000.0      Delhi     48587.0   \n",
       "9369                   Bajaj Avenger 220cc   35000.0  Bangalore     60000.0   \n",
       "9370        Harley-Davidson Street 750 ABS  450000.0    Jodhpur      3430.0   \n",
       "9371                 Bajaj Dominar 400 ABS  139000.0  Hyderabad     21300.0   \n",
       "9372              Bajaj Avenger Street 220   80000.0  Hyderabad      7127.0   \n",
       "\n",
       "            owner  age  power            brand  \n",
       "0     First Owner  3.0  110.0              TVS  \n",
       "1     First Owner  4.0  350.0    Royal Enfield  \n",
       "2     First Owner  8.0  675.0          Triumph  \n",
       "3     First Owner  4.0  180.0              TVS  \n",
       "4     First Owner  3.0  150.0           Yamaha  \n",
       "...           ...  ...    ...              ...  \n",
       "9362  First Owner  8.0  150.0             Hero  \n",
       "9369  First Owner  9.0  220.0            Bajaj  \n",
       "9370  First Owner  4.0  750.0  Harley-Davidson  \n",
       "9371  First Owner  4.0  400.0            Bajaj  \n",
       "9372  First Owner  5.0  220.0            Bajaj  \n",
       "\n",
       "[7324 rows x 8 columns]"
      ]
     },
     "execution_count": 13,
     "metadata": {},
     "output_type": "execute_result"
    }
   ],
   "source": [
    "df"
   ]
  },
  {
   "cell_type": "code",
   "execution_count": null,
   "id": "dfa51e8e",
   "metadata": {},
   "outputs": [
    {
     "data": {
      "application/vnd.microsoft.datawrangler.viewer.v0+json": {
       "columns": [
        {
         "name": "index",
         "rawType": "int64",
         "type": "integer"
        },
        {
         "name": "bike_name",
         "rawType": "object",
         "type": "string"
        },
        {
         "name": "price",
         "rawType": "float64",
         "type": "float"
        },
        {
         "name": "city",
         "rawType": "object",
         "type": "string"
        },
        {
         "name": "kms_driven",
         "rawType": "float64",
         "type": "float"
        },
        {
         "name": "owner",
         "rawType": "object",
         "type": "string"
        },
        {
         "name": "age",
         "rawType": "float64",
         "type": "float"
        },
        {
         "name": "power",
         "rawType": "float64",
         "type": "float"
        },
        {
         "name": "brand",
         "rawType": "object",
         "type": "string"
        }
       ],
       "ref": "aa47eed6-ec05-4a9d-9714-0f9f45c1c2c9",
       "rows": [
        [
         "0",
         "TVS Star City Plus Dual Tone 110cc",
         "35000.0",
         "Ahmedabad",
         "17654.0",
         "First Owner",
         "3.0",
         "110.0",
         "TVS"
        ],
        [
         "1",
         "Royal Enfield Classic 350cc",
         "119900.0",
         "Delhi",
         "11000.0",
         "First Owner",
         "4.0",
         "350.0",
         "Royal Enfield"
        ],
        [
         "2",
         "Triumph Daytona 675R",
         "600000.0",
         "Delhi",
         "110.0",
         "First Owner",
         "8.0",
         "675.0",
         "Triumph"
        ],
        [
         "3",
         "TVS Apache RTR 180cc",
         "65000.0",
         "Bangalore",
         "16329.0",
         "First Owner",
         "4.0",
         "180.0",
         "TVS"
        ],
        [
         "4",
         "Yamaha FZ S V 2.0 150cc-Ltd. Edition",
         "80000.0",
         "Bangalore",
         "10000.0",
         "First Owner",
         "3.0",
         "150.0",
         "Yamaha"
        ],
        [
         "5",
         "Yamaha FZs 150cc",
         "53499.0",
         "Delhi",
         "25000.0",
         "First Owner",
         "6.0",
         "150.0",
         "Yamaha"
        ],
        [
         "6",
         "Honda CB Hornet 160R  ABS DLX",
         "85000.0",
         "Delhi",
         "8200.0",
         "First Owner",
         "3.0",
         "160.0",
         "Honda"
        ],
        [
         "7",
         "Hero Splendor Plus Self Alloy 100cc",
         "45000.0",
         "Delhi",
         "12645.0",
         "First Owner",
         "3.0",
         "100.0",
         "Hero"
        ],
        [
         "8",
         "Royal Enfield Thunderbird X 350cc",
         "145000.0",
         "Bangalore",
         "9190.0",
         "First Owner",
         "3.0",
         "350.0",
         "Royal Enfield"
        ],
        [
         "9",
         "Royal Enfield Classic Desert Storm 500cc",
         "88000.0",
         "Delhi",
         "19000.0",
         "Second Owner",
         "7.0",
         "500.0",
         "Royal Enfield"
        ]
       ],
       "shape": {
        "columns": 8,
        "rows": 10
       }
      },
      "text/html": [
       "<div>\n",
       "<style scoped>\n",
       "    .dataframe tbody tr th:only-of-type {\n",
       "        vertical-align: middle;\n",
       "    }\n",
       "\n",
       "    .dataframe tbody tr th {\n",
       "        vertical-align: top;\n",
       "    }\n",
       "\n",
       "    .dataframe thead th {\n",
       "        text-align: right;\n",
       "    }\n",
       "</style>\n",
       "<table border=\"1\" class=\"dataframe\">\n",
       "  <thead>\n",
       "    <tr style=\"text-align: right;\">\n",
       "      <th></th>\n",
       "      <th>bike_name</th>\n",
       "      <th>price</th>\n",
       "      <th>city</th>\n",
       "      <th>kms_driven</th>\n",
       "      <th>owner</th>\n",
       "      <th>age</th>\n",
       "      <th>power</th>\n",
       "      <th>brand</th>\n",
       "    </tr>\n",
       "  </thead>\n",
       "  <tbody>\n",
       "    <tr>\n",
       "      <th>0</th>\n",
       "      <td>TVS Star City Plus Dual Tone 110cc</td>\n",
       "      <td>35000.0</td>\n",
       "      <td>Ahmedabad</td>\n",
       "      <td>17654.0</td>\n",
       "      <td>First Owner</td>\n",
       "      <td>3.0</td>\n",
       "      <td>110.0</td>\n",
       "      <td>TVS</td>\n",
       "    </tr>\n",
       "    <tr>\n",
       "      <th>1</th>\n",
       "      <td>Royal Enfield Classic 350cc</td>\n",
       "      <td>119900.0</td>\n",
       "      <td>Delhi</td>\n",
       "      <td>11000.0</td>\n",
       "      <td>First Owner</td>\n",
       "      <td>4.0</td>\n",
       "      <td>350.0</td>\n",
       "      <td>Royal Enfield</td>\n",
       "    </tr>\n",
       "    <tr>\n",
       "      <th>2</th>\n",
       "      <td>Triumph Daytona 675R</td>\n",
       "      <td>600000.0</td>\n",
       "      <td>Delhi</td>\n",
       "      <td>110.0</td>\n",
       "      <td>First Owner</td>\n",
       "      <td>8.0</td>\n",
       "      <td>675.0</td>\n",
       "      <td>Triumph</td>\n",
       "    </tr>\n",
       "    <tr>\n",
       "      <th>3</th>\n",
       "      <td>TVS Apache RTR 180cc</td>\n",
       "      <td>65000.0</td>\n",
       "      <td>Bangalore</td>\n",
       "      <td>16329.0</td>\n",
       "      <td>First Owner</td>\n",
       "      <td>4.0</td>\n",
       "      <td>180.0</td>\n",
       "      <td>TVS</td>\n",
       "    </tr>\n",
       "    <tr>\n",
       "      <th>4</th>\n",
       "      <td>Yamaha FZ S V 2.0 150cc-Ltd. Edition</td>\n",
       "      <td>80000.0</td>\n",
       "      <td>Bangalore</td>\n",
       "      <td>10000.0</td>\n",
       "      <td>First Owner</td>\n",
       "      <td>3.0</td>\n",
       "      <td>150.0</td>\n",
       "      <td>Yamaha</td>\n",
       "    </tr>\n",
       "    <tr>\n",
       "      <th>5</th>\n",
       "      <td>Yamaha FZs 150cc</td>\n",
       "      <td>53499.0</td>\n",
       "      <td>Delhi</td>\n",
       "      <td>25000.0</td>\n",
       "      <td>First Owner</td>\n",
       "      <td>6.0</td>\n",
       "      <td>150.0</td>\n",
       "      <td>Yamaha</td>\n",
       "    </tr>\n",
       "    <tr>\n",
       "      <th>6</th>\n",
       "      <td>Honda CB Hornet 160R  ABS DLX</td>\n",
       "      <td>85000.0</td>\n",
       "      <td>Delhi</td>\n",
       "      <td>8200.0</td>\n",
       "      <td>First Owner</td>\n",
       "      <td>3.0</td>\n",
       "      <td>160.0</td>\n",
       "      <td>Honda</td>\n",
       "    </tr>\n",
       "    <tr>\n",
       "      <th>7</th>\n",
       "      <td>Hero Splendor Plus Self Alloy 100cc</td>\n",
       "      <td>45000.0</td>\n",
       "      <td>Delhi</td>\n",
       "      <td>12645.0</td>\n",
       "      <td>First Owner</td>\n",
       "      <td>3.0</td>\n",
       "      <td>100.0</td>\n",
       "      <td>Hero</td>\n",
       "    </tr>\n",
       "    <tr>\n",
       "      <th>8</th>\n",
       "      <td>Royal Enfield Thunderbird X 350cc</td>\n",
       "      <td>145000.0</td>\n",
       "      <td>Bangalore</td>\n",
       "      <td>9190.0</td>\n",
       "      <td>First Owner</td>\n",
       "      <td>3.0</td>\n",
       "      <td>350.0</td>\n",
       "      <td>Royal Enfield</td>\n",
       "    </tr>\n",
       "    <tr>\n",
       "      <th>9</th>\n",
       "      <td>Royal Enfield Classic Desert Storm 500cc</td>\n",
       "      <td>88000.0</td>\n",
       "      <td>Delhi</td>\n",
       "      <td>19000.0</td>\n",
       "      <td>Second Owner</td>\n",
       "      <td>7.0</td>\n",
       "      <td>500.0</td>\n",
       "      <td>Royal Enfield</td>\n",
       "    </tr>\n",
       "  </tbody>\n",
       "</table>\n",
       "</div>"
      ],
      "text/plain": [
       "                                  bike_name     price       city  kms_driven  \\\n",
       "0        TVS Star City Plus Dual Tone 110cc   35000.0  Ahmedabad     17654.0   \n",
       "1               Royal Enfield Classic 350cc  119900.0      Delhi     11000.0   \n",
       "2                      Triumph Daytona 675R  600000.0      Delhi       110.0   \n",
       "3                      TVS Apache RTR 180cc   65000.0  Bangalore     16329.0   \n",
       "4      Yamaha FZ S V 2.0 150cc-Ltd. Edition   80000.0  Bangalore     10000.0   \n",
       "5                          Yamaha FZs 150cc   53499.0      Delhi     25000.0   \n",
       "6             Honda CB Hornet 160R  ABS DLX   85000.0      Delhi      8200.0   \n",
       "7       Hero Splendor Plus Self Alloy 100cc   45000.0      Delhi     12645.0   \n",
       "8         Royal Enfield Thunderbird X 350cc  145000.0  Bangalore      9190.0   \n",
       "9  Royal Enfield Classic Desert Storm 500cc   88000.0      Delhi     19000.0   \n",
       "\n",
       "          owner  age  power          brand  \n",
       "0   First Owner  3.0  110.0            TVS  \n",
       "1   First Owner  4.0  350.0  Royal Enfield  \n",
       "2   First Owner  8.0  675.0        Triumph  \n",
       "3   First Owner  4.0  180.0            TVS  \n",
       "4   First Owner  3.0  150.0         Yamaha  \n",
       "5   First Owner  6.0  150.0         Yamaha  \n",
       "6   First Owner  3.0  160.0          Honda  \n",
       "7   First Owner  3.0  100.0           Hero  \n",
       "8   First Owner  3.0  350.0  Royal Enfield  \n",
       "9  Second Owner  7.0  500.0  Royal Enfield  "
      ]
     },
     "execution_count": 14,
     "metadata": {},
     "output_type": "execute_result"
    }
   ],
   "source": [
    "df.head(10)"
   ]
  },
  {
   "cell_type": "code",
   "execution_count": null,
   "id": "536f42ae",
   "metadata": {},
   "outputs": [
    {
     "data": {
      "application/vnd.microsoft.datawrangler.viewer.v0+json": {
       "columns": [
        {
         "name": "index",
         "rawType": "int64",
         "type": "integer"
        },
        {
         "name": "bike_name",
         "rawType": "object",
         "type": "string"
        },
        {
         "name": "price",
         "rawType": "float64",
         "type": "float"
        },
        {
         "name": "city",
         "rawType": "object",
         "type": "string"
        },
        {
         "name": "kms_driven",
         "rawType": "float64",
         "type": "float"
        },
        {
         "name": "owner",
         "rawType": "object",
         "type": "string"
        },
        {
         "name": "age",
         "rawType": "float64",
         "type": "float"
        },
        {
         "name": "power",
         "rawType": "float64",
         "type": "float"
        },
        {
         "name": "brand",
         "rawType": "object",
         "type": "string"
        }
       ],
       "ref": "879e82bf-5926-4c84-a7f0-1df33f99da27",
       "rows": [
        [
         "9348",
         "KTM Duke 390cc",
         "195000.0",
         "Mumbai",
         "4568.0",
         "First Owner",
         "4.0",
         "390.0",
         "KTM"
        ],
        [
         "9349",
         "Bajaj Pulsar  180cc",
         "55000.0",
         "Pune",
         "10000.0",
         "First Owner",
         "6.0",
         "180.0",
         "Bajaj"
        ],
        [
         "9350",
         "Bajaj Pulsar NS200",
         "46000.0",
         "Bangalore",
         "27687.0",
         "Third Owner",
         "9.0",
         "200.0",
         "Bajaj"
        ],
        [
         "9360",
         "Bajaj Pulsar NS200",
         "48000.0",
         "Allahabad",
         "41939.0",
         "First Owner",
         "8.0",
         "200.0",
         "Bajaj"
        ],
        [
         "9361",
         "Bajaj Avenger 220cc",
         "50000.0",
         "Bangalore",
         "29134.0",
         "First Owner",
         "7.0",
         "220.0",
         "Bajaj"
        ],
        [
         "9362",
         "Hero Hunk Rear Disc 150cc",
         "25000.0",
         "Delhi",
         "48587.0",
         "First Owner",
         "8.0",
         "150.0",
         "Hero"
        ],
        [
         "9369",
         "Bajaj Avenger 220cc",
         "35000.0",
         "Bangalore",
         "60000.0",
         "First Owner",
         "9.0",
         "220.0",
         "Bajaj"
        ],
        [
         "9370",
         "Harley-Davidson Street 750 ABS",
         "450000.0",
         "Jodhpur",
         "3430.0",
         "First Owner",
         "4.0",
         "750.0",
         "Harley-Davidson"
        ],
        [
         "9371",
         "Bajaj Dominar 400 ABS",
         "139000.0",
         "Hyderabad",
         "21300.0",
         "First Owner",
         "4.0",
         "400.0",
         "Bajaj"
        ],
        [
         "9372",
         "Bajaj Avenger Street 220",
         "80000.0",
         "Hyderabad",
         "7127.0",
         "First Owner",
         "5.0",
         "220.0",
         "Bajaj"
        ]
       ],
       "shape": {
        "columns": 8,
        "rows": 10
       }
      },
      "text/html": [
       "<div>\n",
       "<style scoped>\n",
       "    .dataframe tbody tr th:only-of-type {\n",
       "        vertical-align: middle;\n",
       "    }\n",
       "\n",
       "    .dataframe tbody tr th {\n",
       "        vertical-align: top;\n",
       "    }\n",
       "\n",
       "    .dataframe thead th {\n",
       "        text-align: right;\n",
       "    }\n",
       "</style>\n",
       "<table border=\"1\" class=\"dataframe\">\n",
       "  <thead>\n",
       "    <tr style=\"text-align: right;\">\n",
       "      <th></th>\n",
       "      <th>bike_name</th>\n",
       "      <th>price</th>\n",
       "      <th>city</th>\n",
       "      <th>kms_driven</th>\n",
       "      <th>owner</th>\n",
       "      <th>age</th>\n",
       "      <th>power</th>\n",
       "      <th>brand</th>\n",
       "    </tr>\n",
       "  </thead>\n",
       "  <tbody>\n",
       "    <tr>\n",
       "      <th>9348</th>\n",
       "      <td>KTM Duke 390cc</td>\n",
       "      <td>195000.0</td>\n",
       "      <td>Mumbai</td>\n",
       "      <td>4568.0</td>\n",
       "      <td>First Owner</td>\n",
       "      <td>4.0</td>\n",
       "      <td>390.0</td>\n",
       "      <td>KTM</td>\n",
       "    </tr>\n",
       "    <tr>\n",
       "      <th>9349</th>\n",
       "      <td>Bajaj Pulsar  180cc</td>\n",
       "      <td>55000.0</td>\n",
       "      <td>Pune</td>\n",
       "      <td>10000.0</td>\n",
       "      <td>First Owner</td>\n",
       "      <td>6.0</td>\n",
       "      <td>180.0</td>\n",
       "      <td>Bajaj</td>\n",
       "    </tr>\n",
       "    <tr>\n",
       "      <th>9350</th>\n",
       "      <td>Bajaj Pulsar NS200</td>\n",
       "      <td>46000.0</td>\n",
       "      <td>Bangalore</td>\n",
       "      <td>27687.0</td>\n",
       "      <td>Third Owner</td>\n",
       "      <td>9.0</td>\n",
       "      <td>200.0</td>\n",
       "      <td>Bajaj</td>\n",
       "    </tr>\n",
       "    <tr>\n",
       "      <th>9360</th>\n",
       "      <td>Bajaj Pulsar NS200</td>\n",
       "      <td>48000.0</td>\n",
       "      <td>Allahabad</td>\n",
       "      <td>41939.0</td>\n",
       "      <td>First Owner</td>\n",
       "      <td>8.0</td>\n",
       "      <td>200.0</td>\n",
       "      <td>Bajaj</td>\n",
       "    </tr>\n",
       "    <tr>\n",
       "      <th>9361</th>\n",
       "      <td>Bajaj Avenger 220cc</td>\n",
       "      <td>50000.0</td>\n",
       "      <td>Bangalore</td>\n",
       "      <td>29134.0</td>\n",
       "      <td>First Owner</td>\n",
       "      <td>7.0</td>\n",
       "      <td>220.0</td>\n",
       "      <td>Bajaj</td>\n",
       "    </tr>\n",
       "    <tr>\n",
       "      <th>9362</th>\n",
       "      <td>Hero Hunk Rear Disc 150cc</td>\n",
       "      <td>25000.0</td>\n",
       "      <td>Delhi</td>\n",
       "      <td>48587.0</td>\n",
       "      <td>First Owner</td>\n",
       "      <td>8.0</td>\n",
       "      <td>150.0</td>\n",
       "      <td>Hero</td>\n",
       "    </tr>\n",
       "    <tr>\n",
       "      <th>9369</th>\n",
       "      <td>Bajaj Avenger 220cc</td>\n",
       "      <td>35000.0</td>\n",
       "      <td>Bangalore</td>\n",
       "      <td>60000.0</td>\n",
       "      <td>First Owner</td>\n",
       "      <td>9.0</td>\n",
       "      <td>220.0</td>\n",
       "      <td>Bajaj</td>\n",
       "    </tr>\n",
       "    <tr>\n",
       "      <th>9370</th>\n",
       "      <td>Harley-Davidson Street 750 ABS</td>\n",
       "      <td>450000.0</td>\n",
       "      <td>Jodhpur</td>\n",
       "      <td>3430.0</td>\n",
       "      <td>First Owner</td>\n",
       "      <td>4.0</td>\n",
       "      <td>750.0</td>\n",
       "      <td>Harley-Davidson</td>\n",
       "    </tr>\n",
       "    <tr>\n",
       "      <th>9371</th>\n",
       "      <td>Bajaj Dominar 400 ABS</td>\n",
       "      <td>139000.0</td>\n",
       "      <td>Hyderabad</td>\n",
       "      <td>21300.0</td>\n",
       "      <td>First Owner</td>\n",
       "      <td>4.0</td>\n",
       "      <td>400.0</td>\n",
       "      <td>Bajaj</td>\n",
       "    </tr>\n",
       "    <tr>\n",
       "      <th>9372</th>\n",
       "      <td>Bajaj Avenger Street 220</td>\n",
       "      <td>80000.0</td>\n",
       "      <td>Hyderabad</td>\n",
       "      <td>7127.0</td>\n",
       "      <td>First Owner</td>\n",
       "      <td>5.0</td>\n",
       "      <td>220.0</td>\n",
       "      <td>Bajaj</td>\n",
       "    </tr>\n",
       "  </tbody>\n",
       "</table>\n",
       "</div>"
      ],
      "text/plain": [
       "                           bike_name     price       city  kms_driven  \\\n",
       "9348                  KTM Duke 390cc  195000.0     Mumbai      4568.0   \n",
       "9349             Bajaj Pulsar  180cc   55000.0       Pune     10000.0   \n",
       "9350              Bajaj Pulsar NS200   46000.0  Bangalore     27687.0   \n",
       "9360              Bajaj Pulsar NS200   48000.0  Allahabad     41939.0   \n",
       "9361             Bajaj Avenger 220cc   50000.0  Bangalore     29134.0   \n",
       "9362       Hero Hunk Rear Disc 150cc   25000.0      Delhi     48587.0   \n",
       "9369             Bajaj Avenger 220cc   35000.0  Bangalore     60000.0   \n",
       "9370  Harley-Davidson Street 750 ABS  450000.0    Jodhpur      3430.0   \n",
       "9371           Bajaj Dominar 400 ABS  139000.0  Hyderabad     21300.0   \n",
       "9372        Bajaj Avenger Street 220   80000.0  Hyderabad      7127.0   \n",
       "\n",
       "            owner  age  power            brand  \n",
       "9348  First Owner  4.0  390.0              KTM  \n",
       "9349  First Owner  6.0  180.0            Bajaj  \n",
       "9350  Third Owner  9.0  200.0            Bajaj  \n",
       "9360  First Owner  8.0  200.0            Bajaj  \n",
       "9361  First Owner  7.0  220.0            Bajaj  \n",
       "9362  First Owner  8.0  150.0             Hero  \n",
       "9369  First Owner  9.0  220.0            Bajaj  \n",
       "9370  First Owner  4.0  750.0  Harley-Davidson  \n",
       "9371  First Owner  4.0  400.0            Bajaj  \n",
       "9372  First Owner  5.0  220.0            Bajaj  "
      ]
     },
     "execution_count": 15,
     "metadata": {},
     "output_type": "execute_result"
    }
   ],
   "source": [
    "df.tail(10)"
   ]
  },
  {
   "cell_type": "code",
   "execution_count": null,
   "id": "35bb9094",
   "metadata": {},
   "outputs": [
    {
     "data": {
      "text/plain": [
       "Index(['bike_name', 'price', 'city', 'kms_driven', 'owner', 'age', 'power',\n",
       "       'brand'],\n",
       "      dtype='object')"
      ]
     },
     "execution_count": 16,
     "metadata": {},
     "output_type": "execute_result"
    }
   ],
   "source": [
    "df.columns"
   ]
  },
  {
   "cell_type": "code",
   "execution_count": null,
   "id": "d48748de",
   "metadata": {},
   "outputs": [
    {
     "data": {
      "application/vnd.microsoft.datawrangler.viewer.v0+json": {
       "columns": [
        {
         "name": "index",
         "rawType": "int64",
         "type": "integer"
        },
        {
         "name": "brand",
         "rawType": "object",
         "type": "string"
        }
       ],
       "ref": "8b8a7ffa-a794-438c-8779-b8ae852fa905",
       "rows": [
        [
         "0",
         "TVS"
        ],
        [
         "1",
         "Royal Enfield"
        ],
        [
         "2",
         "Triumph"
        ],
        [
         "3",
         "TVS"
        ],
        [
         "4",
         "Yamaha"
        ],
        [
         "5",
         "Yamaha"
        ],
        [
         "6",
         "Honda"
        ],
        [
         "7",
         "Hero"
        ],
        [
         "8",
         "Royal Enfield"
        ],
        [
         "9",
         "Royal Enfield"
        ],
        [
         "10",
         "Yamaha"
        ],
        [
         "11",
         "Yamaha"
        ],
        [
         "12",
         "Bajaj"
        ],
        [
         "13",
         "Bajaj"
        ],
        [
         "14",
         "Bajaj"
        ],
        [
         "15",
         "Bajaj"
        ],
        [
         "16",
         "Bajaj"
        ],
        [
         "17",
         "Suzuki"
        ],
        [
         "18",
         "Benelli"
        ],
        [
         "22",
         "Hero"
        ],
        [
         "23",
         "Royal Enfield"
        ],
        [
         "24",
         "Yamaha"
        ],
        [
         "26",
         "Hero"
        ],
        [
         "27",
         "Honda"
        ],
        [
         "28",
         "Bajaj"
        ],
        [
         "29",
         "Honda"
        ],
        [
         "30",
         "Bajaj"
        ],
        [
         "31",
         "Yamaha"
        ],
        [
         "32",
         "Bajaj"
        ],
        [
         "33",
         "KTM"
        ],
        [
         "34",
         "Honda"
        ],
        [
         "35",
         "KTM"
        ],
        [
         "36",
         "Royal Enfield"
        ],
        [
         "37",
         "Honda"
        ],
        [
         "38",
         "Royal Enfield"
        ],
        [
         "39",
         "KTM"
        ],
        [
         "40",
         "Royal Enfield"
        ],
        [
         "41",
         "Bajaj"
        ],
        [
         "42",
         "Royal Enfield"
        ],
        [
         "43",
         "Bajaj"
        ],
        [
         "44",
         "Royal Enfield"
        ],
        [
         "45",
         "Bajaj"
        ],
        [
         "46",
         "Royal Enfield"
        ],
        [
         "47",
         "Mahindra"
        ],
        [
         "48",
         "Hero"
        ],
        [
         "49",
         "Suzuki"
        ],
        [
         "50",
         "Yamaha"
        ],
        [
         "51",
         "Royal Enfield"
        ],
        [
         "52",
         "TVS"
        ],
        [
         "53",
         "Honda"
        ]
       ],
       "shape": {
        "columns": 1,
        "rows": 7324
       }
      },
      "text/plain": [
       "0                   TVS\n",
       "1         Royal Enfield\n",
       "2               Triumph\n",
       "3                   TVS\n",
       "4                Yamaha\n",
       "             ...       \n",
       "9362               Hero\n",
       "9369              Bajaj\n",
       "9370    Harley-Davidson\n",
       "9371              Bajaj\n",
       "9372              Bajaj\n",
       "Name: brand, Length: 7324, dtype: object"
      ]
     },
     "execution_count": 17,
     "metadata": {},
     "output_type": "execute_result"
    }
   ],
   "source": [
    "df.brand"
   ]
  },
  {
   "cell_type": "code",
   "execution_count": null,
   "id": "9b385ce1",
   "metadata": {},
   "outputs": [
    {
     "data": {
      "application/vnd.microsoft.datawrangler.viewer.v0+json": {
       "columns": [
        {
         "name": "index",
         "rawType": "int64",
         "type": "integer"
        },
        {
         "name": "price",
         "rawType": "float64",
         "type": "float"
        }
       ],
       "ref": "04818b2f-fcfb-49e3-86a2-6d7a90fd760e",
       "rows": [
        [
         "0",
         "35000.0"
        ],
        [
         "1",
         "119900.0"
        ],
        [
         "2",
         "600000.0"
        ],
        [
         "3",
         "65000.0"
        ],
        [
         "4",
         "80000.0"
        ],
        [
         "5",
         "53499.0"
        ],
        [
         "6",
         "85000.0"
        ],
        [
         "7",
         "45000.0"
        ],
        [
         "8",
         "145000.0"
        ],
        [
         "9",
         "88000.0"
        ],
        [
         "10",
         "72000.0"
        ],
        [
         "11",
         "95000.0"
        ],
        [
         "12",
         "78000.0"
        ],
        [
         "13",
         "29499.0"
        ],
        [
         "14",
         "29900.0"
        ],
        [
         "15",
         "90000.0"
        ],
        [
         "16",
         "120000.0"
        ],
        [
         "17",
         "48000.0"
        ],
        [
         "18",
         "240000.0"
        ],
        [
         "22",
         "46500.0"
        ],
        [
         "23",
         "121700.0"
        ],
        [
         "24",
         "45000.0"
        ],
        [
         "26",
         "20000.0"
        ],
        [
         "27",
         "20800.0"
        ],
        [
         "28",
         "50000.0"
        ],
        [
         "29",
         "81200.0"
        ],
        [
         "30",
         "88000.0"
        ],
        [
         "31",
         "80000.0"
        ],
        [
         "32",
         "40900.0"
        ],
        [
         "33",
         "180000.0"
        ],
        [
         "34",
         "40000.0"
        ],
        [
         "35",
         "70000.0"
        ],
        [
         "36",
         "98800.0"
        ],
        [
         "37",
         "65000.0"
        ],
        [
         "38",
         "190500.0"
        ],
        [
         "39",
         "179000.0"
        ],
        [
         "40",
         "70000.0"
        ],
        [
         "41",
         "45000.0"
        ],
        [
         "42",
         "78000.0"
        ],
        [
         "43",
         "110000.0"
        ],
        [
         "44",
         "85000.0"
        ],
        [
         "45",
         "38000.0"
        ],
        [
         "46",
         "55346.0"
        ],
        [
         "47",
         "28000.0"
        ],
        [
         "48",
         "37000.0"
        ],
        [
         "49",
         "97000.0"
        ],
        [
         "50",
         "40000.0"
        ],
        [
         "51",
         "90000.0"
        ],
        [
         "52",
         "60000.0"
        ],
        [
         "53",
         "21900.0"
        ]
       ],
       "shape": {
        "columns": 1,
        "rows": 7324
       }
      },
      "text/plain": [
       "0        35000.0\n",
       "1       119900.0\n",
       "2       600000.0\n",
       "3        65000.0\n",
       "4        80000.0\n",
       "          ...   \n",
       "9362     25000.0\n",
       "9369     35000.0\n",
       "9370    450000.0\n",
       "9371    139000.0\n",
       "9372     80000.0\n",
       "Name: price, Length: 7324, dtype: float64"
      ]
     },
     "execution_count": 18,
     "metadata": {},
     "output_type": "execute_result"
    }
   ],
   "source": [
    "df.price"
   ]
  },
  {
   "cell_type": "code",
   "execution_count": null,
   "id": "835d5308",
   "metadata": {},
   "outputs": [
    {
     "data": {
      "application/vnd.microsoft.datawrangler.viewer.v0+json": {
       "columns": [
        {
         "name": "index",
         "rawType": "int64",
         "type": "integer"
        },
        {
         "name": "brand",
         "rawType": "object",
         "type": "string"
        }
       ],
       "ref": "6cbf72db-1b27-46d9-869c-14fdf6e99ca1",
       "rows": [
        [
         "0",
         "TVS"
        ],
        [
         "1",
         "Royal Enfield"
        ],
        [
         "2",
         "Triumph"
        ],
        [
         "3",
         "TVS"
        ],
        [
         "4",
         "Yamaha"
        ],
        [
         "5",
         "Yamaha"
        ],
        [
         "6",
         "Honda"
        ],
        [
         "7",
         "Hero"
        ],
        [
         "8",
         "Royal Enfield"
        ],
        [
         "9",
         "Royal Enfield"
        ],
        [
         "10",
         "Yamaha"
        ],
        [
         "11",
         "Yamaha"
        ],
        [
         "12",
         "Bajaj"
        ],
        [
         "13",
         "Bajaj"
        ],
        [
         "14",
         "Bajaj"
        ],
        [
         "15",
         "Bajaj"
        ],
        [
         "16",
         "Bajaj"
        ],
        [
         "17",
         "Suzuki"
        ],
        [
         "18",
         "Benelli"
        ],
        [
         "22",
         "Hero"
        ],
        [
         "23",
         "Royal Enfield"
        ],
        [
         "24",
         "Yamaha"
        ],
        [
         "26",
         "Hero"
        ],
        [
         "27",
         "Honda"
        ],
        [
         "28",
         "Bajaj"
        ],
        [
         "29",
         "Honda"
        ],
        [
         "30",
         "Bajaj"
        ],
        [
         "31",
         "Yamaha"
        ],
        [
         "32",
         "Bajaj"
        ],
        [
         "33",
         "KTM"
        ],
        [
         "34",
         "Honda"
        ],
        [
         "35",
         "KTM"
        ],
        [
         "36",
         "Royal Enfield"
        ],
        [
         "37",
         "Honda"
        ],
        [
         "38",
         "Royal Enfield"
        ],
        [
         "39",
         "KTM"
        ],
        [
         "40",
         "Royal Enfield"
        ],
        [
         "41",
         "Bajaj"
        ],
        [
         "42",
         "Royal Enfield"
        ],
        [
         "43",
         "Bajaj"
        ],
        [
         "44",
         "Royal Enfield"
        ],
        [
         "45",
         "Bajaj"
        ],
        [
         "46",
         "Royal Enfield"
        ],
        [
         "47",
         "Mahindra"
        ],
        [
         "48",
         "Hero"
        ],
        [
         "49",
         "Suzuki"
        ],
        [
         "50",
         "Yamaha"
        ],
        [
         "51",
         "Royal Enfield"
        ],
        [
         "52",
         "TVS"
        ],
        [
         "53",
         "Honda"
        ]
       ],
       "shape": {
        "columns": 1,
        "rows": 7324
       }
      },
      "text/plain": [
       "0                   TVS\n",
       "1         Royal Enfield\n",
       "2               Triumph\n",
       "3                   TVS\n",
       "4                Yamaha\n",
       "             ...       \n",
       "9362               Hero\n",
       "9369              Bajaj\n",
       "9370    Harley-Davidson\n",
       "9371              Bajaj\n",
       "9372              Bajaj\n",
       "Name: brand, Length: 7324, dtype: object"
      ]
     },
     "execution_count": 19,
     "metadata": {},
     "output_type": "execute_result"
    }
   ],
   "source": [
    "df['brand']"
   ]
  },
  {
   "cell_type": "code",
   "execution_count": null,
   "id": "f2d4cdb2",
   "metadata": {},
   "outputs": [
    {
     "data": {
      "application/vnd.microsoft.datawrangler.viewer.v0+json": {
       "columns": [
        {
         "name": "index",
         "rawType": "int64",
         "type": "integer"
        },
        {
         "name": "age",
         "rawType": "float64",
         "type": "float"
        }
       ],
       "ref": "87c534f4-c909-4966-a102-897cc9693372",
       "rows": [
        [
         "0",
         "3.0"
        ],
        [
         "1",
         "4.0"
        ],
        [
         "2",
         "8.0"
        ],
        [
         "3",
         "4.0"
        ],
        [
         "4",
         "3.0"
        ],
        [
         "5",
         "6.0"
        ],
        [
         "6",
         "3.0"
        ],
        [
         "7",
         "3.0"
        ],
        [
         "8",
         "3.0"
        ],
        [
         "9",
         "7.0"
        ],
        [
         "10",
         "7.0"
        ],
        [
         "11",
         "4.0"
        ],
        [
         "12",
         "4.0"
        ],
        [
         "13",
         "8.0"
        ],
        [
         "14",
         "7.0"
        ],
        [
         "15",
         "3.0"
        ],
        [
         "16",
         "3.0"
        ],
        [
         "17",
         "5.0"
        ],
        [
         "18",
         "3.0"
        ],
        [
         "22",
         "2.0"
        ],
        [
         "23",
         "5.0"
        ],
        [
         "24",
         "6.0"
        ],
        [
         "26",
         "16.0"
        ],
        [
         "27",
         "7.0"
        ],
        [
         "28",
         "8.0"
        ],
        [
         "29",
         "2.0"
        ],
        [
         "30",
         "3.0"
        ],
        [
         "31",
         "4.0"
        ],
        [
         "32",
         "6.0"
        ],
        [
         "33",
         "4.0"
        ],
        [
         "34",
         "8.0"
        ],
        [
         "35",
         "8.0"
        ],
        [
         "36",
         "5.0"
        ],
        [
         "37",
         "6.0"
        ],
        [
         "38",
         "2.0"
        ],
        [
         "39",
         "2.0"
        ],
        [
         "40",
         "8.0"
        ],
        [
         "41",
         "6.0"
        ],
        [
         "42",
         "13.0"
        ],
        [
         "43",
         "2.0"
        ],
        [
         "44",
         "6.0"
        ],
        [
         "45",
         "9.0"
        ],
        [
         "46",
         "10.0"
        ],
        [
         "47",
         "2.0"
        ],
        [
         "48",
         "8.0"
        ],
        [
         "49",
         "3.0"
        ],
        [
         "50",
         "8.0"
        ],
        [
         "51",
         "7.0"
        ],
        [
         "52",
         "5.0"
        ],
        [
         "53",
         "7.0"
        ]
       ],
       "shape": {
        "columns": 1,
        "rows": 7324
       }
      },
      "text/plain": [
       "0       3.0\n",
       "1       4.0\n",
       "2       8.0\n",
       "3       4.0\n",
       "4       3.0\n",
       "       ... \n",
       "9362    8.0\n",
       "9369    9.0\n",
       "9370    4.0\n",
       "9371    4.0\n",
       "9372    5.0\n",
       "Name: age, Length: 7324, dtype: float64"
      ]
     },
     "execution_count": 20,
     "metadata": {},
     "output_type": "execute_result"
    }
   ],
   "source": [
    "df['age']"
   ]
  },
  {
   "cell_type": "code",
   "execution_count": null,
   "id": "3c7b8d6f",
   "metadata": {},
   "outputs": [
    {
     "data": {
      "application/vnd.microsoft.datawrangler.viewer.v0+json": {
       "columns": [
        {
         "name": "index",
         "rawType": "int64",
         "type": "integer"
        },
        {
         "name": "owner",
         "rawType": "object",
         "type": "string"
        }
       ],
       "ref": "766a1ab6-aacf-4972-80e9-fdce9db0fb17",
       "rows": [
        [
         "0",
         "First Owner"
        ],
        [
         "1",
         "First Owner"
        ],
        [
         "2",
         "First Owner"
        ],
        [
         "3",
         "First Owner"
        ],
        [
         "4",
         "First Owner"
        ],
        [
         "5",
         "First Owner"
        ],
        [
         "6",
         "First Owner"
        ],
        [
         "7",
         "First Owner"
        ],
        [
         "8",
         "First Owner"
        ],
        [
         "9",
         "Second Owner"
        ],
        [
         "10",
         "First Owner"
        ],
        [
         "11",
         "First Owner"
        ],
        [
         "12",
         "First Owner"
        ],
        [
         "13",
         "First Owner"
        ],
        [
         "14",
         "First Owner"
        ],
        [
         "15",
         "First Owner"
        ],
        [
         "16",
         "First Owner"
        ],
        [
         "17",
         "First Owner"
        ],
        [
         "18",
         "Second Owner"
        ],
        [
         "22",
         "First Owner"
        ],
        [
         "23",
         "First Owner"
        ],
        [
         "24",
         "First Owner"
        ],
        [
         "26",
         "First Owner"
        ],
        [
         "27",
         "Second Owner"
        ],
        [
         "28",
         "First Owner"
        ],
        [
         "29",
         "First Owner"
        ],
        [
         "30",
         "First Owner"
        ],
        [
         "31",
         "Second Owner"
        ],
        [
         "32",
         "First Owner"
        ],
        [
         "33",
         "First Owner"
        ],
        [
         "34",
         "First Owner"
        ],
        [
         "35",
         "Second Owner"
        ],
        [
         "36",
         "First Owner"
        ],
        [
         "37",
         "First Owner"
        ],
        [
         "38",
         "First Owner"
        ],
        [
         "39",
         "First Owner"
        ],
        [
         "40",
         "First Owner"
        ],
        [
         "41",
         "First Owner"
        ],
        [
         "42",
         "First Owner"
        ],
        [
         "43",
         "First Owner"
        ],
        [
         "44",
         "First Owner"
        ],
        [
         "45",
         "First Owner"
        ],
        [
         "46",
         "First Owner"
        ],
        [
         "47",
         "First Owner"
        ],
        [
         "48",
         "First Owner"
        ],
        [
         "49",
         "First Owner"
        ],
        [
         "50",
         "First Owner"
        ],
        [
         "51",
         "First Owner"
        ],
        [
         "52",
         "First Owner"
        ],
        [
         "53",
         "Second Owner"
        ]
       ],
       "shape": {
        "columns": 1,
        "rows": 7324
       }
      },
      "text/plain": [
       "0       First Owner\n",
       "1       First Owner\n",
       "2       First Owner\n",
       "3       First Owner\n",
       "4       First Owner\n",
       "           ...     \n",
       "9362    First Owner\n",
       "9369    First Owner\n",
       "9370    First Owner\n",
       "9371    First Owner\n",
       "9372    First Owner\n",
       "Name: owner, Length: 7324, dtype: object"
      ]
     },
     "execution_count": 21,
     "metadata": {},
     "output_type": "execute_result"
    }
   ],
   "source": [
    "df['owner']"
   ]
  },
  {
   "cell_type": "code",
   "execution_count": null,
   "id": "8eff82fc",
   "metadata": {},
   "outputs": [
    {
     "data": {
      "application/vnd.microsoft.datawrangler.viewer.v0+json": {
       "columns": [
        {
         "name": "brand",
         "rawType": "object",
         "type": "string"
        },
        {
         "name": "count",
         "rawType": "int64",
         "type": "integer"
        }
       ],
       "ref": "efa9a792-6ac8-46e6-af51-09653f74b617",
       "rows": [
        [
         "Bajaj",
         "2081"
        ],
        [
         "Royal Enfield",
         "1346"
        ],
        [
         "Hero",
         "1142"
        ],
        [
         "Honda",
         "676"
        ],
        [
         "Yamaha",
         "651"
        ],
        [
         "TVS",
         "481"
        ],
        [
         "KTM",
         "375"
        ],
        [
         "Suzuki",
         "203"
        ],
        [
         "Harley-Davidson",
         "91"
        ],
        [
         "Kawasaki",
         "61"
        ],
        [
         "Hyosung",
         "53"
        ],
        [
         "Mahindra",
         "50"
        ],
        [
         "Benelli",
         "46"
        ],
        [
         "Triumph",
         "21"
        ],
        [
         "Ducati",
         "20"
        ],
        [
         "BMW",
         "10"
        ],
        [
         "Jawa",
         "7"
        ],
        [
         "Indian",
         "3"
        ],
        [
         "MV",
         "3"
        ],
        [
         "Rajdoot",
         "1"
        ],
        [
         "LML",
         "1"
        ],
        [
         "Yezdi",
         "1"
        ],
        [
         "Ideal",
         "1"
        ]
       ],
       "shape": {
        "columns": 1,
        "rows": 23
       }
      },
      "text/plain": [
       "brand\n",
       "Bajaj              2081\n",
       "Royal Enfield      1346\n",
       "Hero               1142\n",
       "Honda               676\n",
       "Yamaha              651\n",
       "TVS                 481\n",
       "KTM                 375\n",
       "Suzuki              203\n",
       "Harley-Davidson      91\n",
       "Kawasaki             61\n",
       "Hyosung              53\n",
       "Mahindra             50\n",
       "Benelli              46\n",
       "Triumph              21\n",
       "Ducati               20\n",
       "BMW                  10\n",
       "Jawa                  7\n",
       "Indian                3\n",
       "MV                    3\n",
       "Rajdoot               1\n",
       "LML                   1\n",
       "Yezdi                 1\n",
       "Ideal                 1\n",
       "Name: count, dtype: int64"
      ]
     },
     "execution_count": 22,
     "metadata": {},
     "output_type": "execute_result"
    }
   ],
   "source": [
    "df['brand'].value_counts()"
   ]
  },
  {
   "cell_type": "code",
   "execution_count": null,
   "id": "2f4d2f34",
   "metadata": {},
   "outputs": [
    {
     "data": {
      "text/plain": [
       "array(['TVS', 'Royal Enfield', 'Triumph', 'Yamaha', 'Honda', 'Hero',\n",
       "       'Bajaj', 'Suzuki', 'Benelli', 'KTM', 'Mahindra', 'Kawasaki',\n",
       "       'Ducati', 'Hyosung', 'Harley-Davidson', 'Jawa', 'BMW', 'Indian',\n",
       "       'Rajdoot', 'LML', 'Yezdi', 'MV', 'Ideal'], dtype=object)"
      ]
     },
     "execution_count": 23,
     "metadata": {},
     "output_type": "execute_result"
    }
   ],
   "source": [
    "df['brand'].unique()"
   ]
  },
  {
   "cell_type": "code",
   "execution_count": null,
   "id": "eac98ce6",
   "metadata": {},
   "outputs": [
    {
     "data": {
      "text/plain": [
       "23"
      ]
     },
     "execution_count": 24,
     "metadata": {},
     "output_type": "execute_result"
    }
   ],
   "source": [
    "df['brand'].nunique()"
   ]
  },
  {
   "cell_type": "code",
   "execution_count": null,
   "id": "01e5f0e5",
   "metadata": {},
   "outputs": [
    {
     "data": {
      "text/plain": [
       "(7324, 8)"
      ]
     },
     "execution_count": 25,
     "metadata": {},
     "output_type": "execute_result"
    }
   ],
   "source": [
    "df.shape"
   ]
  },
  {
   "cell_type": "code",
   "execution_count": null,
   "id": "a40aa29e",
   "metadata": {},
   "outputs": [
    {
     "data": {
      "application/vnd.microsoft.datawrangler.viewer.v0+json": {
       "columns": [
        {
         "name": "index",
         "rawType": "object",
         "type": "string"
        },
        {
         "name": "0",
         "rawType": "object",
         "type": "unknown"
        }
       ],
       "ref": "082cd814-5ef4-4762-921b-569884f5573a",
       "rows": [
        [
         "bike_name",
         "object"
        ],
        [
         "price",
         "float64"
        ],
        [
         "city",
         "object"
        ],
        [
         "kms_driven",
         "float64"
        ],
        [
         "owner",
         "object"
        ],
        [
         "age",
         "float64"
        ],
        [
         "power",
         "float64"
        ],
        [
         "brand",
         "object"
        ]
       ],
       "shape": {
        "columns": 1,
        "rows": 8
       }
      },
      "text/plain": [
       "bike_name      object\n",
       "price         float64\n",
       "city           object\n",
       "kms_driven    float64\n",
       "owner          object\n",
       "age           float64\n",
       "power         float64\n",
       "brand          object\n",
       "dtype: object"
      ]
     },
     "execution_count": 26,
     "metadata": {},
     "output_type": "execute_result"
    }
   ],
   "source": [
    "df.dtypes"
   ]
  },
  {
   "cell_type": "code",
   "execution_count": null,
   "id": "d68f40e5",
   "metadata": {},
   "outputs": [],
   "source": [
    "royal_df =df[df['brand'] =='Royal Enfield']"
   ]
  },
  {
   "cell_type": "code",
   "execution_count": null,
   "id": "575c41ba",
   "metadata": {},
   "outputs": [
    {
     "data": {
      "application/vnd.microsoft.datawrangler.viewer.v0+json": {
       "columns": [
        {
         "name": "index",
         "rawType": "int64",
         "type": "integer"
        },
        {
         "name": "bike_name",
         "rawType": "object",
         "type": "string"
        },
        {
         "name": "price",
         "rawType": "float64",
         "type": "float"
        },
        {
         "name": "city",
         "rawType": "object",
         "type": "string"
        },
        {
         "name": "kms_driven",
         "rawType": "float64",
         "type": "float"
        },
        {
         "name": "owner",
         "rawType": "object",
         "type": "string"
        },
        {
         "name": "age",
         "rawType": "float64",
         "type": "float"
        },
        {
         "name": "power",
         "rawType": "float64",
         "type": "float"
        },
        {
         "name": "brand",
         "rawType": "object",
         "type": "string"
        }
       ],
       "ref": "0724456c-5372-434f-a8e2-9c00a51bddfa",
       "rows": [
        [
         "1",
         "Royal Enfield Classic 350cc",
         "119900.0",
         "Delhi",
         "11000.0",
         "First Owner",
         "4.0",
         "350.0",
         "Royal Enfield"
        ],
        [
         "8",
         "Royal Enfield Thunderbird X 350cc",
         "145000.0",
         "Bangalore",
         "9190.0",
         "First Owner",
         "3.0",
         "350.0",
         "Royal Enfield"
        ],
        [
         "9",
         "Royal Enfield Classic Desert Storm 500cc",
         "88000.0",
         "Delhi",
         "19000.0",
         "Second Owner",
         "7.0",
         "500.0",
         "Royal Enfield"
        ],
        [
         "23",
         "Royal Enfield Classic Chrome 500cc",
         "121700.0",
         "Kalyan",
         "24520.0",
         "First Owner",
         "5.0",
         "500.0",
         "Royal Enfield"
        ],
        [
         "36",
         "Royal Enfield Classic 350cc",
         "98800.0",
         "Kochi",
         "39000.0",
         "First Owner",
         "5.0",
         "350.0",
         "Royal Enfield"
        ]
       ],
       "shape": {
        "columns": 8,
        "rows": 5
       }
      },
      "text/html": [
       "<div>\n",
       "<style scoped>\n",
       "    .dataframe tbody tr th:only-of-type {\n",
       "        vertical-align: middle;\n",
       "    }\n",
       "\n",
       "    .dataframe tbody tr th {\n",
       "        vertical-align: top;\n",
       "    }\n",
       "\n",
       "    .dataframe thead th {\n",
       "        text-align: right;\n",
       "    }\n",
       "</style>\n",
       "<table border=\"1\" class=\"dataframe\">\n",
       "  <thead>\n",
       "    <tr style=\"text-align: right;\">\n",
       "      <th></th>\n",
       "      <th>bike_name</th>\n",
       "      <th>price</th>\n",
       "      <th>city</th>\n",
       "      <th>kms_driven</th>\n",
       "      <th>owner</th>\n",
       "      <th>age</th>\n",
       "      <th>power</th>\n",
       "      <th>brand</th>\n",
       "    </tr>\n",
       "  </thead>\n",
       "  <tbody>\n",
       "    <tr>\n",
       "      <th>1</th>\n",
       "      <td>Royal Enfield Classic 350cc</td>\n",
       "      <td>119900.0</td>\n",
       "      <td>Delhi</td>\n",
       "      <td>11000.0</td>\n",
       "      <td>First Owner</td>\n",
       "      <td>4.0</td>\n",
       "      <td>350.0</td>\n",
       "      <td>Royal Enfield</td>\n",
       "    </tr>\n",
       "    <tr>\n",
       "      <th>8</th>\n",
       "      <td>Royal Enfield Thunderbird X 350cc</td>\n",
       "      <td>145000.0</td>\n",
       "      <td>Bangalore</td>\n",
       "      <td>9190.0</td>\n",
       "      <td>First Owner</td>\n",
       "      <td>3.0</td>\n",
       "      <td>350.0</td>\n",
       "      <td>Royal Enfield</td>\n",
       "    </tr>\n",
       "    <tr>\n",
       "      <th>9</th>\n",
       "      <td>Royal Enfield Classic Desert Storm 500cc</td>\n",
       "      <td>88000.0</td>\n",
       "      <td>Delhi</td>\n",
       "      <td>19000.0</td>\n",
       "      <td>Second Owner</td>\n",
       "      <td>7.0</td>\n",
       "      <td>500.0</td>\n",
       "      <td>Royal Enfield</td>\n",
       "    </tr>\n",
       "    <tr>\n",
       "      <th>23</th>\n",
       "      <td>Royal Enfield Classic Chrome 500cc</td>\n",
       "      <td>121700.0</td>\n",
       "      <td>Kalyan</td>\n",
       "      <td>24520.0</td>\n",
       "      <td>First Owner</td>\n",
       "      <td>5.0</td>\n",
       "      <td>500.0</td>\n",
       "      <td>Royal Enfield</td>\n",
       "    </tr>\n",
       "    <tr>\n",
       "      <th>36</th>\n",
       "      <td>Royal Enfield Classic 350cc</td>\n",
       "      <td>98800.0</td>\n",
       "      <td>Kochi</td>\n",
       "      <td>39000.0</td>\n",
       "      <td>First Owner</td>\n",
       "      <td>5.0</td>\n",
       "      <td>350.0</td>\n",
       "      <td>Royal Enfield</td>\n",
       "    </tr>\n",
       "  </tbody>\n",
       "</table>\n",
       "</div>"
      ],
      "text/plain": [
       "                                   bike_name     price       city  kms_driven  \\\n",
       "1                Royal Enfield Classic 350cc  119900.0      Delhi     11000.0   \n",
       "8          Royal Enfield Thunderbird X 350cc  145000.0  Bangalore      9190.0   \n",
       "9   Royal Enfield Classic Desert Storm 500cc   88000.0      Delhi     19000.0   \n",
       "23        Royal Enfield Classic Chrome 500cc  121700.0     Kalyan     24520.0   \n",
       "36               Royal Enfield Classic 350cc   98800.0      Kochi     39000.0   \n",
       "\n",
       "           owner  age  power          brand  \n",
       "1    First Owner  4.0  350.0  Royal Enfield  \n",
       "8    First Owner  3.0  350.0  Royal Enfield  \n",
       "9   Second Owner  7.0  500.0  Royal Enfield  \n",
       "23   First Owner  5.0  500.0  Royal Enfield  \n",
       "36   First Owner  5.0  350.0  Royal Enfield  "
      ]
     },
     "execution_count": 28,
     "metadata": {},
     "output_type": "execute_result"
    }
   ],
   "source": [
    "royal_df.head()"
   ]
  },
  {
   "cell_type": "code",
   "execution_count": null,
   "id": "36a94386",
   "metadata": {},
   "outputs": [
    {
     "data": {
      "application/vnd.microsoft.datawrangler.viewer.v0+json": {
       "columns": [
        {
         "name": "index",
         "rawType": "int64",
         "type": "integer"
        },
        {
         "name": "bike_name",
         "rawType": "object",
         "type": "string"
        },
        {
         "name": "price",
         "rawType": "float64",
         "type": "float"
        },
        {
         "name": "city",
         "rawType": "object",
         "type": "string"
        },
        {
         "name": "kms_driven",
         "rawType": "float64",
         "type": "float"
        },
        {
         "name": "owner",
         "rawType": "object",
         "type": "string"
        },
        {
         "name": "age",
         "rawType": "float64",
         "type": "float"
        },
        {
         "name": "power",
         "rawType": "float64",
         "type": "float"
        },
        {
         "name": "brand",
         "rawType": "object",
         "type": "string"
        }
       ],
       "ref": "ad96a74f-e7a6-4670-b0f9-5c30c8635ff0",
       "rows": [
        [
         "1",
         "Royal Enfield Classic 350cc",
         "119900.0",
         "Delhi",
         "11000.0",
         "First Owner",
         "4.0",
         "350.0",
         "Royal Enfield"
        ],
        [
         "8",
         "Royal Enfield Thunderbird X 350cc",
         "145000.0",
         "Bangalore",
         "9190.0",
         "First Owner",
         "3.0",
         "350.0",
         "Royal Enfield"
        ],
        [
         "9",
         "Royal Enfield Classic Desert Storm 500cc",
         "88000.0",
         "Delhi",
         "19000.0",
         "Second Owner",
         "7.0",
         "500.0",
         "Royal Enfield"
        ],
        [
         "23",
         "Royal Enfield Classic Chrome 500cc",
         "121700.0",
         "Kalyan",
         "24520.0",
         "First Owner",
         "5.0",
         "500.0",
         "Royal Enfield"
        ],
        [
         "36",
         "Royal Enfield Classic 350cc",
         "98800.0",
         "Kochi",
         "39000.0",
         "First Owner",
         "5.0",
         "350.0",
         "Royal Enfield"
        ],
        [
         "38",
         "Royal Enfield Thunderbird X 500cc",
         "190500.0",
         "Samastipur",
         "4550.0",
         "First Owner",
         "2.0",
         "500.0",
         "Royal Enfield"
        ],
        [
         "40",
         "Royal Enfield Thunderbird 350cc",
         "70000.0",
         "Nadiad",
         "45000.0",
         "First Owner",
         "8.0",
         "350.0",
         "Royal Enfield"
        ],
        [
         "42",
         "Royal Enfield Bullet Electra 350cc",
         "78000.0",
         "Lucknow",
         "8500.0",
         "First Owner",
         "13.0",
         "350.0",
         "Royal Enfield"
        ],
        [
         "44",
         "Royal Enfield Classic 350cc",
         "85000.0",
         "Delhi",
         "18000.0",
         "First Owner",
         "6.0",
         "350.0",
         "Royal Enfield"
        ],
        [
         "46",
         "Royal Enfield Thunderbird 350cc",
         "55346.0",
         "Noida",
         "38000.0",
         "First Owner",
         "10.0",
         "350.0",
         "Royal Enfield"
        ],
        [
         "51",
         "Royal Enfield‎ Bullet 350cc",
         "90000.0",
         "Delhi",
         "15300.0",
         "First Owner",
         "7.0",
         "350.0",
         "Royal Enfield"
        ],
        [
         "62",
         "Royal Enfield Bullet Electra 350cc",
         "107100.0",
         "Delhi",
         "15438.0",
         "Second Owner",
         "3.0",
         "350.0",
         "Royal Enfield"
        ],
        [
         "64",
         "Royal Enfield Thunderbird 350cc",
         "88000.0",
         "Delhi",
         "19000.0",
         "First Owner",
         "5.0",
         "350.0",
         "Royal Enfield"
        ],
        [
         "67",
         "Royal Enfield Classic 350cc",
         "106000.0",
         "Delhi",
         "19000.0",
         "First Owner",
         "6.0",
         "350.0",
         "Royal Enfield"
        ],
        [
         "70",
         "Royal Enfield Thunderbird 350cc",
         "110000.0",
         "Delhi",
         "1600.0",
         "First Owner",
         "6.0",
         "350.0",
         "Royal Enfield"
        ],
        [
         "72",
         "Royal Enfield Thunderbird 350cc",
         "65000.0",
         "Jalandhar",
         "9800.0",
         "First Owner",
         "11.0",
         "350.0",
         "Royal Enfield"
        ],
        [
         "73",
         "Royal Enfield Thunderbird X 350cc",
         "150000.0",
         "Bangalore",
         "15000.0",
         "First Owner",
         "3.0",
         "350.0",
         "Royal Enfield"
        ],
        [
         "77",
         "Royal Enfield Thunderbird 350cc",
         "115000.0",
         "Bangalore",
         "23700.0",
         "First Owner",
         "4.0",
         "350.0",
         "Royal Enfield"
        ],
        [
         "81",
         "Royal Enfield Interceptor 650cc",
         "260000.0",
         "Navi Mumbai",
         "3800.0",
         "First Owner",
         "2.0",
         "650.0",
         "Royal Enfield"
        ],
        [
         "84",
         "Royal Enfield Himalayan 410cc",
         "118000.0",
         "Gurgaon",
         "19000.0",
         "First Owner",
         "4.0",
         "410.0",
         "Royal Enfield"
        ],
        [
         "86",
         "Royal Enfield Thunderbird 350cc",
         "85000.0",
         "Chennai",
         "54000.0",
         "First Owner",
         "6.0",
         "350.0",
         "Royal Enfield"
        ],
        [
         "89",
         "Royal Enfield Thunderbird 350cc",
         "71800.0",
         "Mumbai",
         "43500.0",
         "First Owner",
         "7.0",
         "350.0",
         "Royal Enfield"
        ],
        [
         "102",
         "Royal Enfield Classic 350cc",
         "135000.0",
         "Bangalore",
         "45000.0",
         "First Owner",
         "5.0",
         "350.0",
         "Royal Enfield"
        ],
        [
         "109",
         "Royal Enfield Classic 500cc",
         "95000.0",
         "Bangalore",
         "22000.0",
         "First Owner",
         "11.0",
         "500.0",
         "Royal Enfield"
        ],
        [
         "125",
         "Royal Enfield Himalayan 410cc",
         "110000.0",
         "Bangalore",
         "24676.0",
         "First Owner",
         "5.0",
         "410.0",
         "Royal Enfield"
        ],
        [
         "126",
         "Royal Enfield Classic 350cc",
         "92500.0",
         "Delhi",
         "11000.0",
         "First Owner",
         "6.0",
         "350.0",
         "Royal Enfield"
        ],
        [
         "128",
         "Royal Enfield Electra 350cc",
         "72500.0",
         "Delhi",
         "10000.0",
         "First Owner",
         "10.0",
         "350.0",
         "Royal Enfield"
        ],
        [
         "132",
         "Royal Enfield Classic 350cc",
         "91000.0",
         "Delhi",
         "18000.0",
         "First Owner",
         "5.0",
         "350.0",
         "Royal Enfield"
        ],
        [
         "139",
         "Royal Enfield Himalayan 410cc Fi ABS",
         "173300.0",
         "Vadodara",
         "14000.0",
         "First Owner",
         "2.0",
         "410.0",
         "Royal Enfield"
        ],
        [
         "140",
         "Royal Enfield Bullet Electra 350cc",
         "77000.0",
         "Delhi",
         "13000.0",
         "First Owner",
         "8.0",
         "350.0",
         "Royal Enfield"
        ],
        [
         "144",
         "Royal Enfield Standard 350cc",
         "115000.0",
         "Hyderabad",
         "14900.0",
         "First Owner",
         "3.0",
         "350.0",
         "Royal Enfield"
        ],
        [
         "153",
         "Royal Enfield Classic 350cc",
         "130000.0",
         "Delhi",
         "8419.0",
         "First Owner",
         "3.0",
         "350.0",
         "Royal Enfield"
        ],
        [
         "154",
         "Royal Enfield Classic 350cc",
         "98000.0",
         "Delhi",
         "13459.0",
         "First Owner",
         "5.0",
         "350.0",
         "Royal Enfield"
        ],
        [
         "155",
         "Royal Enfield Classic 350cc",
         "85000.0",
         "Delhi",
         "14704.0",
         "First Owner",
         "6.0",
         "350.0",
         "Royal Enfield"
        ],
        [
         "159",
         "Royal Enfield Thunderbird 350cc",
         "100000.0",
         "Bangalore",
         "30294.0",
         "First Owner",
         "5.0",
         "350.0",
         "Royal Enfield"
        ],
        [
         "160",
         "Royal Enfield Thunderbird 350cc",
         "66000.0",
         "Delhi",
         "19756.0",
         "First Owner",
         "8.0",
         "350.0",
         "Royal Enfield"
        ],
        [
         "166",
         "Royal Enfield Classic 350cc",
         "123600.0",
         "Jaipur",
         "7702.0",
         "First Owner",
         "3.0",
         "350.0",
         "Royal Enfield"
        ],
        [
         "168",
         "Royal Enfield Classic 350cc",
         "107000.0",
         "Ahmedabad",
         "17000.0",
         "First Owner",
         "4.0",
         "350.0",
         "Royal Enfield"
        ],
        [
         "183",
         "Royal Enfield Bullet 500cc",
         "160000.0",
         "Bangalore",
         "3500.0",
         "First Owner",
         "3.0",
         "500.0",
         "Royal Enfield"
        ],
        [
         "192",
         "Royal Enfield Classic Desert Storm 500cc",
         "110800.0",
         "Mumbai",
         "13300.0",
         "First Owner",
         "6.0",
         "500.0",
         "Royal Enfield"
        ],
        [
         "194",
         "Royal Enfield Electra 350cc",
         "145000.0",
         "Bangalore",
         "4000.0",
         "First Owner",
         "2.0",
         "350.0",
         "Royal Enfield"
        ],
        [
         "196",
         "Royal Enfield Classic Gunmetal Grey 350cc",
         "149000.0",
         "Mumbai",
         "7000.0",
         "First Owner",
         "3.0",
         "350.0",
         "Royal Enfield"
        ],
        [
         "198",
         "Royal Enfield Classic 350cc",
         "140000.0",
         "Mumbai",
         "11000.0",
         "First Owner",
         "4.0",
         "350.0",
         "Royal Enfield"
        ],
        [
         "201",
         "Royal Enfield Bullet Electra 350cc",
         "115000.0",
         "Hyderabad",
         "15500.0",
         "First Owner",
         "4.0",
         "350.0",
         "Royal Enfield"
        ],
        [
         "214",
         "Royal Enfield Bullet Twinspark 350cc",
         "102500.0",
         "Delhi",
         "21000.0",
         "First Owner",
         "4.0",
         "350.0",
         "Royal Enfield"
        ],
        [
         "216",
         "Royal Enfield Classic 350cc",
         "130000.0",
         "Delhi",
         "10149.0",
         "First Owner",
         "3.0",
         "350.0",
         "Royal Enfield"
        ],
        [
         "217",
         "Royal Enfield Classic 350cc",
         "130000.0",
         "Delhi",
         "7036.0",
         "First Owner",
         "3.0",
         "350.0",
         "Royal Enfield"
        ],
        [
         "222",
         "Royal Enfield Himalayan 410cc Fi ABS",
         "177982.0",
         "Hamirpur(hp)",
         "7000.0",
         "First Owner",
         "2.0",
         "410.0",
         "Royal Enfield"
        ],
        [
         "223",
         "Royal Enfield Himalayan 410cc Fi ABS",
         "202000.0",
         "Bangalore",
         "11000.0",
         "First Owner",
         "2.0",
         "410.0",
         "Royal Enfield"
        ],
        [
         "227",
         "Royal Enfield Classic 350cc",
         "105000.0",
         "Delhi",
         "16000.0",
         "First Owner",
         "4.0",
         "350.0",
         "Royal Enfield"
        ]
       ],
       "shape": {
        "columns": 8,
        "rows": 1346
       }
      },
      "text/html": [
       "<div>\n",
       "<style scoped>\n",
       "    .dataframe tbody tr th:only-of-type {\n",
       "        vertical-align: middle;\n",
       "    }\n",
       "\n",
       "    .dataframe tbody tr th {\n",
       "        vertical-align: top;\n",
       "    }\n",
       "\n",
       "    .dataframe thead th {\n",
       "        text-align: right;\n",
       "    }\n",
       "</style>\n",
       "<table border=\"1\" class=\"dataframe\">\n",
       "  <thead>\n",
       "    <tr style=\"text-align: right;\">\n",
       "      <th></th>\n",
       "      <th>bike_name</th>\n",
       "      <th>price</th>\n",
       "      <th>city</th>\n",
       "      <th>kms_driven</th>\n",
       "      <th>owner</th>\n",
       "      <th>age</th>\n",
       "      <th>power</th>\n",
       "      <th>brand</th>\n",
       "    </tr>\n",
       "  </thead>\n",
       "  <tbody>\n",
       "    <tr>\n",
       "      <th>1</th>\n",
       "      <td>Royal Enfield Classic 350cc</td>\n",
       "      <td>119900.0</td>\n",
       "      <td>Delhi</td>\n",
       "      <td>11000.0</td>\n",
       "      <td>First Owner</td>\n",
       "      <td>4.0</td>\n",
       "      <td>350.0</td>\n",
       "      <td>Royal Enfield</td>\n",
       "    </tr>\n",
       "    <tr>\n",
       "      <th>8</th>\n",
       "      <td>Royal Enfield Thunderbird X 350cc</td>\n",
       "      <td>145000.0</td>\n",
       "      <td>Bangalore</td>\n",
       "      <td>9190.0</td>\n",
       "      <td>First Owner</td>\n",
       "      <td>3.0</td>\n",
       "      <td>350.0</td>\n",
       "      <td>Royal Enfield</td>\n",
       "    </tr>\n",
       "    <tr>\n",
       "      <th>9</th>\n",
       "      <td>Royal Enfield Classic Desert Storm 500cc</td>\n",
       "      <td>88000.0</td>\n",
       "      <td>Delhi</td>\n",
       "      <td>19000.0</td>\n",
       "      <td>Second Owner</td>\n",
       "      <td>7.0</td>\n",
       "      <td>500.0</td>\n",
       "      <td>Royal Enfield</td>\n",
       "    </tr>\n",
       "    <tr>\n",
       "      <th>23</th>\n",
       "      <td>Royal Enfield Classic Chrome 500cc</td>\n",
       "      <td>121700.0</td>\n",
       "      <td>Kalyan</td>\n",
       "      <td>24520.0</td>\n",
       "      <td>First Owner</td>\n",
       "      <td>5.0</td>\n",
       "      <td>500.0</td>\n",
       "      <td>Royal Enfield</td>\n",
       "    </tr>\n",
       "    <tr>\n",
       "      <th>36</th>\n",
       "      <td>Royal Enfield Classic 350cc</td>\n",
       "      <td>98800.0</td>\n",
       "      <td>Kochi</td>\n",
       "      <td>39000.0</td>\n",
       "      <td>First Owner</td>\n",
       "      <td>5.0</td>\n",
       "      <td>350.0</td>\n",
       "      <td>Royal Enfield</td>\n",
       "    </tr>\n",
       "    <tr>\n",
       "      <th>...</th>\n",
       "      <td>...</td>\n",
       "      <td>...</td>\n",
       "      <td>...</td>\n",
       "      <td>...</td>\n",
       "      <td>...</td>\n",
       "      <td>...</td>\n",
       "      <td>...</td>\n",
       "      <td>...</td>\n",
       "    </tr>\n",
       "    <tr>\n",
       "      <th>9261</th>\n",
       "      <td>Royal Enfield Classic 500cc</td>\n",
       "      <td>146006.0</td>\n",
       "      <td>Guwahati</td>\n",
       "      <td>8575.0</td>\n",
       "      <td>First Owner</td>\n",
       "      <td>4.0</td>\n",
       "      <td>500.0</td>\n",
       "      <td>Royal Enfield</td>\n",
       "    </tr>\n",
       "    <tr>\n",
       "      <th>9319</th>\n",
       "      <td>Royal Enfield Classic 350cc</td>\n",
       "      <td>100000.0</td>\n",
       "      <td>Chennai</td>\n",
       "      <td>25000.0</td>\n",
       "      <td>First Owner</td>\n",
       "      <td>10.0</td>\n",
       "      <td>350.0</td>\n",
       "      <td>Royal Enfield</td>\n",
       "    </tr>\n",
       "    <tr>\n",
       "      <th>9337</th>\n",
       "      <td>Royal Enfield Himalayan 410cc</td>\n",
       "      <td>120000.0</td>\n",
       "      <td>Gurgaon</td>\n",
       "      <td>8492.0</td>\n",
       "      <td>First Owner</td>\n",
       "      <td>5.0</td>\n",
       "      <td>410.0</td>\n",
       "      <td>Royal Enfield</td>\n",
       "    </tr>\n",
       "    <tr>\n",
       "      <th>9338</th>\n",
       "      <td>Royal Enfield Himalayan 410cc</td>\n",
       "      <td>138000.0</td>\n",
       "      <td>Delhi</td>\n",
       "      <td>5000.0</td>\n",
       "      <td>First Owner</td>\n",
       "      <td>5.0</td>\n",
       "      <td>410.0</td>\n",
       "      <td>Royal Enfield</td>\n",
       "    </tr>\n",
       "    <tr>\n",
       "      <th>9344</th>\n",
       "      <td>Royal Enfield Bullet Twinspark 350cc</td>\n",
       "      <td>80000.0</td>\n",
       "      <td>Delhi</td>\n",
       "      <td>56968.0</td>\n",
       "      <td>First Owner</td>\n",
       "      <td>8.0</td>\n",
       "      <td>350.0</td>\n",
       "      <td>Royal Enfield</td>\n",
       "    </tr>\n",
       "  </tbody>\n",
       "</table>\n",
       "<p>1346 rows × 8 columns</p>\n",
       "</div>"
      ],
      "text/plain": [
       "                                     bike_name     price       city  \\\n",
       "1                  Royal Enfield Classic 350cc  119900.0      Delhi   \n",
       "8            Royal Enfield Thunderbird X 350cc  145000.0  Bangalore   \n",
       "9     Royal Enfield Classic Desert Storm 500cc   88000.0      Delhi   \n",
       "23          Royal Enfield Classic Chrome 500cc  121700.0     Kalyan   \n",
       "36                 Royal Enfield Classic 350cc   98800.0      Kochi   \n",
       "...                                        ...       ...        ...   \n",
       "9261               Royal Enfield Classic 500cc  146006.0   Guwahati   \n",
       "9319               Royal Enfield Classic 350cc  100000.0    Chennai   \n",
       "9337             Royal Enfield Himalayan 410cc  120000.0    Gurgaon   \n",
       "9338             Royal Enfield Himalayan 410cc  138000.0      Delhi   \n",
       "9344      Royal Enfield Bullet Twinspark 350cc   80000.0      Delhi   \n",
       "\n",
       "      kms_driven         owner   age  power          brand  \n",
       "1        11000.0   First Owner   4.0  350.0  Royal Enfield  \n",
       "8         9190.0   First Owner   3.0  350.0  Royal Enfield  \n",
       "9        19000.0  Second Owner   7.0  500.0  Royal Enfield  \n",
       "23       24520.0   First Owner   5.0  500.0  Royal Enfield  \n",
       "36       39000.0   First Owner   5.0  350.0  Royal Enfield  \n",
       "...          ...           ...   ...    ...            ...  \n",
       "9261      8575.0   First Owner   4.0  500.0  Royal Enfield  \n",
       "9319     25000.0   First Owner  10.0  350.0  Royal Enfield  \n",
       "9337      8492.0   First Owner   5.0  410.0  Royal Enfield  \n",
       "9338      5000.0   First Owner   5.0  410.0  Royal Enfield  \n",
       "9344     56968.0   First Owner   8.0  350.0  Royal Enfield  \n",
       "\n",
       "[1346 rows x 8 columns]"
      ]
     },
     "execution_count": 29,
     "metadata": {},
     "output_type": "execute_result"
    }
   ],
   "source": [
    "royal_df"
   ]
  },
  {
   "cell_type": "code",
   "execution_count": null,
   "id": "79ef458e",
   "metadata": {},
   "outputs": [
    {
     "data": {
      "application/vnd.microsoft.datawrangler.viewer.v0+json": {
       "columns": [
        {
         "name": "index",
         "rawType": "int64",
         "type": "integer"
        },
        {
         "name": "bike_name",
         "rawType": "object",
         "type": "string"
        },
        {
         "name": "price",
         "rawType": "float64",
         "type": "float"
        },
        {
         "name": "city",
         "rawType": "object",
         "type": "string"
        },
        {
         "name": "kms_driven",
         "rawType": "float64",
         "type": "float"
        },
        {
         "name": "owner",
         "rawType": "object",
         "type": "string"
        },
        {
         "name": "age",
         "rawType": "float64",
         "type": "float"
        },
        {
         "name": "power",
         "rawType": "float64",
         "type": "float"
        },
        {
         "name": "brand",
         "rawType": "object",
         "type": "string"
        }
       ],
       "ref": "ba7b089f-28c3-415c-8008-8c6cf13952bc",
       "rows": [
        [
         "38",
         "Royal Enfield Thunderbird X 500cc",
         "190500.0",
         "Samastipur",
         "4550.0",
         "First Owner",
         "2.0",
         "500.0",
         "Royal Enfield"
        ],
        [
         "81",
         "Royal Enfield Interceptor 650cc",
         "260000.0",
         "Navi Mumbai",
         "3800.0",
         "First Owner",
         "2.0",
         "650.0",
         "Royal Enfield"
        ],
        [
         "139",
         "Royal Enfield Himalayan 410cc Fi ABS",
         "173300.0",
         "Vadodara",
         "14000.0",
         "First Owner",
         "2.0",
         "410.0",
         "Royal Enfield"
        ],
        [
         "194",
         "Royal Enfield Electra 350cc",
         "145000.0",
         "Bangalore",
         "4000.0",
         "First Owner",
         "2.0",
         "350.0",
         "Royal Enfield"
        ],
        [
         "222",
         "Royal Enfield Himalayan 410cc Fi ABS",
         "177982.0",
         "Hamirpur(hp)",
         "7000.0",
         "First Owner",
         "2.0",
         "410.0",
         "Royal Enfield"
        ],
        [
         "223",
         "Royal Enfield Himalayan 410cc Fi ABS",
         "202000.0",
         "Bangalore",
         "11000.0",
         "First Owner",
         "2.0",
         "410.0",
         "Royal Enfield"
        ],
        [
         "277",
         "Royal Enfield Interceptor 650cc",
         "280000.0",
         "Bangalore",
         "1500.0",
         "First Owner",
         "2.0",
         "650.0",
         "Royal Enfield"
        ],
        [
         "394",
         "Royal Enfield Classic Gunmetal Grey 350cc ABS",
         "160000.0",
         "Mumbai",
         "7500.0",
         "First Owner",
         "2.0",
         "350.0",
         "Royal Enfield"
        ],
        [
         "428",
         "Royal Enfield Interceptor 650cc",
         "265000.0",
         "Bangalore",
         "12900.0",
         "First Owner",
         "2.0",
         "650.0",
         "Royal Enfield"
        ],
        [
         "479",
         "Royal Enfield Classic 350cc",
         "150000.0",
         "Delhi",
         "4000.0",
         "First Owner",
         "2.0",
         "350.0",
         "Royal Enfield"
        ],
        [
         "850",
         "Royal Enfield Himalayan 410cc Fi ABS",
         "180000.0",
         "Guwahati",
         "200.0",
         "First Owner",
         "2.0",
         "410.0",
         "Royal Enfield"
        ],
        [
         "871",
         "Royal Enfield Thunderbird 350cc ABS",
         "175000.0",
         "Delhi",
         "2382.0",
         "First Owner",
         "2.0",
         "350.0",
         "Royal Enfield"
        ],
        [
         "962",
         "Royal Enfield Thunderbird X 350cc ABS",
         "155000.0",
         "Vadodara",
         "1650.0",
         "First Owner",
         "2.0",
         "350.0",
         "Royal Enfield"
        ],
        [
         "1006",
         "Royal Enfield Thunderbird 350cc ABS",
         "148000.0",
         "Haldwani",
         "7300.0",
         "First Owner",
         "2.0",
         "350.0",
         "Royal Enfield"
        ],
        [
         "1023",
         "Royal Enfield Thunderbird 350cc ABS",
         "155000.0",
         "Ahmedabad",
         "12000.0",
         "First Owner",
         "2.0",
         "350.0",
         "Royal Enfield"
        ],
        [
         "1203",
         "Royal Enfield Classic Gunmetal Grey 350cc ABS",
         "150000.0",
         "Bardhaman",
         "1800.0",
         "First Owner",
         "2.0",
         "350.0",
         "Royal Enfield"
        ],
        [
         "1251",
         "Royal Enfield Interceptor 650cc",
         "250000.0",
         "Silchar",
         "920.0",
         "First Owner",
         "2.0",
         "650.0",
         "Royal Enfield"
        ],
        [
         "1365",
         "Royal Enfield Bullet 500cc",
         "172000.0",
         "Delhi",
         "8000.0",
         "First Owner",
         "2.0",
         "500.0",
         "Royal Enfield"
        ],
        [
         "1396",
         "Royal Enfield Interceptor 650cc",
         "265000.0",
         "Delhi",
         "11000.0",
         "First Owner",
         "2.0",
         "650.0",
         "Royal Enfield"
        ],
        [
         "1681",
         "Royal Enfield Thunderbird X 350cc ABS",
         "135000.0",
         "Sibsagar",
         "3800.0",
         "First Owner",
         "2.0",
         "350.0",
         "Royal Enfield"
        ],
        [
         "1716",
         "Royal Enfield Thunderbird 350cc ABS",
         "144700.0",
         "Kharar",
         "770.0",
         "First Owner",
         "2.0",
         "350.0",
         "Royal Enfield"
        ],
        [
         "1749",
         "Royal Enfield Bullet Twinspark Kickstart 350cc",
         "145000.0",
         "Delhi",
         "5000.0",
         "First Owner",
         "2.0",
         "350.0",
         "Royal Enfield"
        ],
        [
         "1760",
         "Royal Enfield Thunderbird X 350cc ABS",
         "172000.0",
         "Delhi",
         "3800.0",
         "First Owner",
         "2.0",
         "350.0",
         "Royal Enfield"
        ],
        [
         "1796",
         "Royal Enfield Himalayan 410cc Fi ABS",
         "166000.0",
         "Guwahati",
         "250.0",
         "First Owner",
         "2.0",
         "410.0",
         "Royal Enfield"
        ],
        [
         "1931",
         "Royal Enfield Interceptor 650cc",
         "270000.0",
         "Ahmedabad",
         "6500.0",
         "First Owner",
         "2.0",
         "650.0",
         "Royal Enfield"
        ],
        [
         "1955",
         "Royal Enfield Bullet 500cc",
         "164100.0",
         "Delhi",
         "8000.0",
         "First Owner",
         "2.0",
         "500.0",
         "Royal Enfield"
        ],
        [
         "2074",
         "Royal Enfield Classic 500cc",
         "181200.0",
         "Baripara",
         "5000.0",
         "First Owner",
         "2.0",
         "500.0",
         "Royal Enfield"
        ],
        [
         "2228",
         "Royal Enfield Interceptor 650cc",
         "280000.0",
         "Mumbai",
         "5000.0",
         "First Owner",
         "2.0",
         "650.0",
         "Royal Enfield"
        ],
        [
         "2276",
         "Royal Enfield Thunderbird X 350cc ABS",
         "151300.0",
         "Sonipat",
         "14000.0",
         "First Owner",
         "2.0",
         "350.0",
         "Royal Enfield"
        ],
        [
         "2283",
         "Royal Enfield Classic 350cc Dual Disc",
         "156000.0",
         "Pune",
         "6517.0",
         "First Owner",
         "2.0",
         "350.0",
         "Royal Enfield"
        ],
        [
         "2332",
         "Royal Enfield Interceptor 650cc",
         "265000.0",
         "Delhi",
         "8500.0",
         "First Owner",
         "2.0",
         "650.0",
         "Royal Enfield"
        ],
        [
         "2625",
         "Royal Enfield Classic 350cc Signals Edition",
         "160000.0",
         "Bangalore",
         "10000.0",
         "First Owner",
         "2.0",
         "350.0",
         "Royal Enfield"
        ],
        [
         "2735",
         "Royal Enfield Classic Gunmetal Grey 350cc ABS",
         "167000.0",
         "Farukhabad",
         "2500.0",
         "First Owner",
         "2.0",
         "350.0",
         "Royal Enfield"
        ],
        [
         "2929",
         "Royal Enfield Himalayan 410cc Fi ABS",
         "184000.0",
         "Bardhaman",
         "1380.0",
         "First Owner",
         "2.0",
         "410.0",
         "Royal Enfield"
        ],
        [
         "2982",
         "Royal Enfield Classic 350cc-Redditch Edition",
         "137000.0",
         "Sultanpur",
         "8400.0",
         "First Owner",
         "2.0",
         "350.0",
         "Royal Enfield"
        ],
        [
         "3084",
         "Royal Enfield Bullet 500cc",
         "170000.0",
         "Delhi",
         "8015.0",
         "First Owner",
         "2.0",
         "500.0",
         "Royal Enfield"
        ],
        [
         "3089",
         "Royal Enfield Classic Desert Storm 500cc Dual Disc",
         "239000.0",
         "Mumbai",
         "1264.0",
         "First Owner",
         "2.0",
         "500.0",
         "Royal Enfield"
        ],
        [
         "3166",
         "Royal Enfield Thunderbird X 350cc ABS",
         "160000.0",
         "Delhi",
         "1189.0",
         "First Owner",
         "2.0",
         "350.0",
         "Royal Enfield"
        ],
        [
         "4544",
         "Royal Enfield Thunderbird 350cc ABS",
         "155000.0",
         "Navi Mumbai",
         "2900.0",
         "First Owner",
         "2.0",
         "350.0",
         "Royal Enfield"
        ],
        [
         "4727",
         "Royal Enfield Himalayan 410cc Fi ABS",
         "172000.0",
         "Hyderabad",
         "3165.0",
         "First Owner",
         "2.0",
         "410.0",
         "Royal Enfield"
        ],
        [
         "4912",
         "Royal Enfield Continental GT 650cc",
         "285000.0",
         "Hyderabad",
         "4500.0",
         "First Owner",
         "2.0",
         "650.0",
         "Royal Enfield"
        ],
        [
         "5133",
         "Royal Enfield Thunderbird X 350cc ABS",
         "170000.0",
         "Gurgaon",
         "500.0",
         "First Owner",
         "2.0",
         "350.0",
         "Royal Enfield"
        ],
        [
         "5472",
         "Royal Enfield Classic 350cc Signals Edition",
         "165000.0",
         "Faridabad",
         "2791.0",
         "First Owner",
         "2.0",
         "350.0",
         "Royal Enfield"
        ],
        [
         "5495",
         "Royal Enfield Classic 350cc",
         "150000.0",
         "Kota",
         "1947.0",
         "First Owner",
         "2.0",
         "350.0",
         "Royal Enfield"
        ],
        [
         "5703",
         "Royal Enfield Himalayan 410cc Fi ABS",
         "194000.0",
         "Thane",
         "844.0",
         "First Owner",
         "2.0",
         "410.0",
         "Royal Enfield"
        ],
        [
         "5822",
         "Royal Enfield Classic 350cc Signals Edition",
         "170000.0",
         "Ahmedabad",
         "7000.0",
         "First Owner",
         "2.0",
         "350.0",
         "Royal Enfield"
        ],
        [
         "5912",
         "Royal Enfield Interceptor 650cc",
         "265500.0",
         "Nellore",
         "12000.0",
         "First Owner",
         "2.0",
         "650.0",
         "Royal Enfield"
        ],
        [
         "5939",
         "Royal Enfield Bullet Twinspark Kickstart 350cc",
         "105000.0",
         "Faridabad",
         "7255.0",
         "First Owner",
         "2.0",
         "350.0",
         "Royal Enfield"
        ],
        [
         "6022",
         "Royal Enfield Classic Gunmetal Grey 350cc ABS",
         "161100.0",
         "Guwahati",
         "1753.0",
         "First Owner",
         "2.0",
         "350.0",
         "Royal Enfield"
        ],
        [
         "6090",
         "Royal Enfield Bullet Electra Twinspark 350CC ABS",
         "127000.0",
         "Mumbai",
         "83.0",
         "First Owner",
         "2.0",
         "350.0",
         "Royal Enfield"
        ]
       ],
       "shape": {
        "columns": 8,
        "rows": 61
       }
      },
      "text/html": [
       "<div>\n",
       "<style scoped>\n",
       "    .dataframe tbody tr th:only-of-type {\n",
       "        vertical-align: middle;\n",
       "    }\n",
       "\n",
       "    .dataframe tbody tr th {\n",
       "        vertical-align: top;\n",
       "    }\n",
       "\n",
       "    .dataframe thead th {\n",
       "        text-align: right;\n",
       "    }\n",
       "</style>\n",
       "<table border=\"1\" class=\"dataframe\">\n",
       "  <thead>\n",
       "    <tr style=\"text-align: right;\">\n",
       "      <th></th>\n",
       "      <th>bike_name</th>\n",
       "      <th>price</th>\n",
       "      <th>city</th>\n",
       "      <th>kms_driven</th>\n",
       "      <th>owner</th>\n",
       "      <th>age</th>\n",
       "      <th>power</th>\n",
       "      <th>brand</th>\n",
       "    </tr>\n",
       "  </thead>\n",
       "  <tbody>\n",
       "    <tr>\n",
       "      <th>38</th>\n",
       "      <td>Royal Enfield Thunderbird X 500cc</td>\n",
       "      <td>190500.0</td>\n",
       "      <td>Samastipur</td>\n",
       "      <td>4550.0</td>\n",
       "      <td>First Owner</td>\n",
       "      <td>2.0</td>\n",
       "      <td>500.0</td>\n",
       "      <td>Royal Enfield</td>\n",
       "    </tr>\n",
       "    <tr>\n",
       "      <th>81</th>\n",
       "      <td>Royal Enfield Interceptor 650cc</td>\n",
       "      <td>260000.0</td>\n",
       "      <td>Navi Mumbai</td>\n",
       "      <td>3800.0</td>\n",
       "      <td>First Owner</td>\n",
       "      <td>2.0</td>\n",
       "      <td>650.0</td>\n",
       "      <td>Royal Enfield</td>\n",
       "    </tr>\n",
       "    <tr>\n",
       "      <th>139</th>\n",
       "      <td>Royal Enfield Himalayan 410cc Fi ABS</td>\n",
       "      <td>173300.0</td>\n",
       "      <td>Vadodara</td>\n",
       "      <td>14000.0</td>\n",
       "      <td>First Owner</td>\n",
       "      <td>2.0</td>\n",
       "      <td>410.0</td>\n",
       "      <td>Royal Enfield</td>\n",
       "    </tr>\n",
       "    <tr>\n",
       "      <th>194</th>\n",
       "      <td>Royal Enfield Electra 350cc</td>\n",
       "      <td>145000.0</td>\n",
       "      <td>Bangalore</td>\n",
       "      <td>4000.0</td>\n",
       "      <td>First Owner</td>\n",
       "      <td>2.0</td>\n",
       "      <td>350.0</td>\n",
       "      <td>Royal Enfield</td>\n",
       "    </tr>\n",
       "    <tr>\n",
       "      <th>222</th>\n",
       "      <td>Royal Enfield Himalayan 410cc Fi ABS</td>\n",
       "      <td>177982.0</td>\n",
       "      <td>Hamirpur(hp)</td>\n",
       "      <td>7000.0</td>\n",
       "      <td>First Owner</td>\n",
       "      <td>2.0</td>\n",
       "      <td>410.0</td>\n",
       "      <td>Royal Enfield</td>\n",
       "    </tr>\n",
       "    <tr>\n",
       "      <th>...</th>\n",
       "      <td>...</td>\n",
       "      <td>...</td>\n",
       "      <td>...</td>\n",
       "      <td>...</td>\n",
       "      <td>...</td>\n",
       "      <td>...</td>\n",
       "      <td>...</td>\n",
       "      <td>...</td>\n",
       "    </tr>\n",
       "    <tr>\n",
       "      <th>7294</th>\n",
       "      <td>Royal Enfield Classic 350cc-Redditch Edition</td>\n",
       "      <td>133500.0</td>\n",
       "      <td>Mumbai</td>\n",
       "      <td>1608.0</td>\n",
       "      <td>First Owner</td>\n",
       "      <td>2.0</td>\n",
       "      <td>350.0</td>\n",
       "      <td>Royal Enfield</td>\n",
       "    </tr>\n",
       "    <tr>\n",
       "      <th>7694</th>\n",
       "      <td>Royal Enfield Classic Chrome 500cc ABS</td>\n",
       "      <td>215000.0</td>\n",
       "      <td>Delhi</td>\n",
       "      <td>417.0</td>\n",
       "      <td>First Owner</td>\n",
       "      <td>2.0</td>\n",
       "      <td>500.0</td>\n",
       "      <td>Royal Enfield</td>\n",
       "    </tr>\n",
       "    <tr>\n",
       "      <th>8139</th>\n",
       "      <td>Royal Enfield Thunderbird X 350cc ABS</td>\n",
       "      <td>169000.0</td>\n",
       "      <td>Bangalore</td>\n",
       "      <td>4411.0</td>\n",
       "      <td>First Owner</td>\n",
       "      <td>2.0</td>\n",
       "      <td>350.0</td>\n",
       "      <td>Royal Enfield</td>\n",
       "    </tr>\n",
       "    <tr>\n",
       "      <th>8192</th>\n",
       "      <td>Royal Enfield Thunderbird 350cc ABS</td>\n",
       "      <td>145000.0</td>\n",
       "      <td>Ghaziabad</td>\n",
       "      <td>12400.0</td>\n",
       "      <td>First Owner</td>\n",
       "      <td>2.0</td>\n",
       "      <td>350.0</td>\n",
       "      <td>Royal Enfield</td>\n",
       "    </tr>\n",
       "    <tr>\n",
       "      <th>8836</th>\n",
       "      <td>Royal Enfield Thunderbird X 350cc ABS</td>\n",
       "      <td>170200.0</td>\n",
       "      <td>Mumbai</td>\n",
       "      <td>1000.0</td>\n",
       "      <td>First Owner</td>\n",
       "      <td>2.0</td>\n",
       "      <td>350.0</td>\n",
       "      <td>Royal Enfield</td>\n",
       "    </tr>\n",
       "  </tbody>\n",
       "</table>\n",
       "<p>61 rows × 8 columns</p>\n",
       "</div>"
      ],
      "text/plain": [
       "                                         bike_name     price          city  \\\n",
       "38               Royal Enfield Thunderbird X 500cc  190500.0    Samastipur   \n",
       "81                 Royal Enfield Interceptor 650cc  260000.0   Navi Mumbai   \n",
       "139           Royal Enfield Himalayan 410cc Fi ABS  173300.0      Vadodara   \n",
       "194                    Royal Enfield Electra 350cc  145000.0     Bangalore   \n",
       "222           Royal Enfield Himalayan 410cc Fi ABS  177982.0  Hamirpur(hp)   \n",
       "...                                            ...       ...           ...   \n",
       "7294  Royal Enfield Classic 350cc-Redditch Edition  133500.0        Mumbai   \n",
       "7694        Royal Enfield Classic Chrome 500cc ABS  215000.0         Delhi   \n",
       "8139         Royal Enfield Thunderbird X 350cc ABS  169000.0     Bangalore   \n",
       "8192           Royal Enfield Thunderbird 350cc ABS  145000.0     Ghaziabad   \n",
       "8836         Royal Enfield Thunderbird X 350cc ABS  170200.0        Mumbai   \n",
       "\n",
       "      kms_driven        owner  age  power          brand  \n",
       "38        4550.0  First Owner  2.0  500.0  Royal Enfield  \n",
       "81        3800.0  First Owner  2.0  650.0  Royal Enfield  \n",
       "139      14000.0  First Owner  2.0  410.0  Royal Enfield  \n",
       "194       4000.0  First Owner  2.0  350.0  Royal Enfield  \n",
       "222       7000.0  First Owner  2.0  410.0  Royal Enfield  \n",
       "...          ...          ...  ...    ...            ...  \n",
       "7294      1608.0  First Owner  2.0  350.0  Royal Enfield  \n",
       "7694       417.0  First Owner  2.0  500.0  Royal Enfield  \n",
       "8139      4411.0  First Owner  2.0  350.0  Royal Enfield  \n",
       "8192     12400.0  First Owner  2.0  350.0  Royal Enfield  \n",
       "8836      1000.0  First Owner  2.0  350.0  Royal Enfield  \n",
       "\n",
       "[61 rows x 8 columns]"
      ]
     },
     "execution_count": 30,
     "metadata": {},
     "output_type": "execute_result"
    }
   ],
   "source": [
    "royal_df[royal_df['age']==2]"
   ]
  },
  {
   "cell_type": "code",
   "execution_count": null,
   "id": "0ca1e5cf",
   "metadata": {},
   "outputs": [
    {
     "data": {
      "application/vnd.microsoft.datawrangler.viewer.v0+json": {
       "columns": [
        {
         "name": "index",
         "rawType": "int64",
         "type": "integer"
        },
        {
         "name": "bike_name",
         "rawType": "object",
         "type": "string"
        },
        {
         "name": "price",
         "rawType": "float64",
         "type": "float"
        },
        {
         "name": "city",
         "rawType": "object",
         "type": "string"
        },
        {
         "name": "kms_driven",
         "rawType": "float64",
         "type": "float"
        },
        {
         "name": "owner",
         "rawType": "object",
         "type": "string"
        },
        {
         "name": "age",
         "rawType": "float64",
         "type": "float"
        },
        {
         "name": "power",
         "rawType": "float64",
         "type": "float"
        },
        {
         "name": "brand",
         "rawType": "object",
         "type": "string"
        }
       ],
       "ref": "6797d207-59b3-474d-b6f0-6576fb09dec9",
       "rows": [
        [
         "81",
         "Royal Enfield Interceptor 650cc",
         "260000.0",
         "Navi Mumbai",
         "3800.0",
         "First Owner",
         "2.0",
         "650.0",
         "Royal Enfield"
        ],
        [
         "1681",
         "Royal Enfield Thunderbird X 350cc ABS",
         "135000.0",
         "Sibsagar",
         "3800.0",
         "First Owner",
         "2.0",
         "350.0",
         "Royal Enfield"
        ],
        [
         "1760",
         "Royal Enfield Thunderbird X 350cc ABS",
         "172000.0",
         "Delhi",
         "3800.0",
         "First Owner",
         "2.0",
         "350.0",
         "Royal Enfield"
        ]
       ],
       "shape": {
        "columns": 8,
        "rows": 3
       }
      },
      "text/html": [
       "<div>\n",
       "<style scoped>\n",
       "    .dataframe tbody tr th:only-of-type {\n",
       "        vertical-align: middle;\n",
       "    }\n",
       "\n",
       "    .dataframe tbody tr th {\n",
       "        vertical-align: top;\n",
       "    }\n",
       "\n",
       "    .dataframe thead th {\n",
       "        text-align: right;\n",
       "    }\n",
       "</style>\n",
       "<table border=\"1\" class=\"dataframe\">\n",
       "  <thead>\n",
       "    <tr style=\"text-align: right;\">\n",
       "      <th></th>\n",
       "      <th>bike_name</th>\n",
       "      <th>price</th>\n",
       "      <th>city</th>\n",
       "      <th>kms_driven</th>\n",
       "      <th>owner</th>\n",
       "      <th>age</th>\n",
       "      <th>power</th>\n",
       "      <th>brand</th>\n",
       "    </tr>\n",
       "  </thead>\n",
       "  <tbody>\n",
       "    <tr>\n",
       "      <th>81</th>\n",
       "      <td>Royal Enfield Interceptor 650cc</td>\n",
       "      <td>260000.0</td>\n",
       "      <td>Navi Mumbai</td>\n",
       "      <td>3800.0</td>\n",
       "      <td>First Owner</td>\n",
       "      <td>2.0</td>\n",
       "      <td>650.0</td>\n",
       "      <td>Royal Enfield</td>\n",
       "    </tr>\n",
       "    <tr>\n",
       "      <th>1681</th>\n",
       "      <td>Royal Enfield Thunderbird X 350cc ABS</td>\n",
       "      <td>135000.0</td>\n",
       "      <td>Sibsagar</td>\n",
       "      <td>3800.0</td>\n",
       "      <td>First Owner</td>\n",
       "      <td>2.0</td>\n",
       "      <td>350.0</td>\n",
       "      <td>Royal Enfield</td>\n",
       "    </tr>\n",
       "    <tr>\n",
       "      <th>1760</th>\n",
       "      <td>Royal Enfield Thunderbird X 350cc ABS</td>\n",
       "      <td>172000.0</td>\n",
       "      <td>Delhi</td>\n",
       "      <td>3800.0</td>\n",
       "      <td>First Owner</td>\n",
       "      <td>2.0</td>\n",
       "      <td>350.0</td>\n",
       "      <td>Royal Enfield</td>\n",
       "    </tr>\n",
       "  </tbody>\n",
       "</table>\n",
       "</div>"
      ],
      "text/plain": [
       "                                  bike_name     price         city  \\\n",
       "81          Royal Enfield Interceptor 650cc  260000.0  Navi Mumbai   \n",
       "1681  Royal Enfield Thunderbird X 350cc ABS  135000.0     Sibsagar   \n",
       "1760  Royal Enfield Thunderbird X 350cc ABS  172000.0        Delhi   \n",
       "\n",
       "      kms_driven        owner  age  power          brand  \n",
       "81        3800.0  First Owner  2.0  650.0  Royal Enfield  \n",
       "1681      3800.0  First Owner  2.0  350.0  Royal Enfield  \n",
       "1760      3800.0  First Owner  2.0  350.0  Royal Enfield  "
      ]
     },
     "execution_count": 31,
     "metadata": {},
     "output_type": "execute_result"
    }
   ],
   "source": [
    "royal_df[royal_df['kms_driven']==3800]"
   ]
  },
  {
   "cell_type": "code",
   "execution_count": null,
   "id": "77a97933",
   "metadata": {},
   "outputs": [],
   "source": [
    "dr =royal_df[royal_df['age']<=2]royal_2age_df"
   ]
  },
  {
   "cell_type": "code",
   "execution_count": null,
   "id": "6aa369bd",
   "metadata": {},
   "outputs": [],
   "source": [
    "import pandas as pd\n",
    "df = pd.read_csv(\"Used_Bikes.csv\")\n",
    "\n",
    "royal_df=df[(df['brand'] == 'Royal Enfield')&\n",
    "   (df[\"kms_driven\"] == 38000)&\n",
    "   (df['owner']=='first owner')&\n",
    "   (df['price']<=100000)]\n",
    "   "
   ]
  },
  {
   "cell_type": "code",
   "execution_count": null,
   "id": "122008eb",
   "metadata": {},
   "outputs": [
    {
     "data": {
      "application/vnd.microsoft.datawrangler.viewer.v0+json": {
       "columns": [
        {
         "name": "index",
         "rawType": "int64",
         "type": "integer"
        },
        {
         "name": "bike_name",
         "rawType": "object",
         "type": "string"
        },
        {
         "name": "price",
         "rawType": "float64",
         "type": "float"
        },
        {
         "name": "city",
         "rawType": "object",
         "type": "string"
        },
        {
         "name": "kms_driven",
         "rawType": "float64",
         "type": "float"
        },
        {
         "name": "owner",
         "rawType": "object",
         "type": "string"
        },
        {
         "name": "age",
         "rawType": "float64",
         "type": "float"
        },
        {
         "name": "power",
         "rawType": "float64",
         "type": "float"
        },
        {
         "name": "brand",
         "rawType": "object",
         "type": "string"
        }
       ],
       "ref": "c7fc6126-c1d3-4a5d-a0d7-055e5f21b885",
       "rows": [],
       "shape": {
        "columns": 8,
        "rows": 0
       }
      },
      "text/html": [
       "<div>\n",
       "<style scoped>\n",
       "    .dataframe tbody tr th:only-of-type {\n",
       "        vertical-align: middle;\n",
       "    }\n",
       "\n",
       "    .dataframe tbody tr th {\n",
       "        vertical-align: top;\n",
       "    }\n",
       "\n",
       "    .dataframe thead th {\n",
       "        text-align: right;\n",
       "    }\n",
       "</style>\n",
       "<table border=\"1\" class=\"dataframe\">\n",
       "  <thead>\n",
       "    <tr style=\"text-align: right;\">\n",
       "      <th></th>\n",
       "      <th>bike_name</th>\n",
       "      <th>price</th>\n",
       "      <th>city</th>\n",
       "      <th>kms_driven</th>\n",
       "      <th>owner</th>\n",
       "      <th>age</th>\n",
       "      <th>power</th>\n",
       "      <th>brand</th>\n",
       "    </tr>\n",
       "  </thead>\n",
       "  <tbody>\n",
       "  </tbody>\n",
       "</table>\n",
       "</div>"
      ],
      "text/plain": [
       "Empty DataFrame\n",
       "Columns: [bike_name, price, city, kms_driven, owner, age, power, brand]\n",
       "Index: []"
      ]
     },
     "execution_count": 34,
     "metadata": {},
     "output_type": "execute_result"
    }
   ],
   "source": [
    "royal_df"
   ]
  },
  {
   "cell_type": "code",
   "execution_count": null,
   "id": "5da7e4d1",
   "metadata": {},
   "outputs": [],
   "source": [
    "filter_df =df[(df['brand'] == 'TVS')&\n",
    "   (df['age'] =='1 year')&\n",
    "   (df['owner']=='first owner')&\n",
    "   (df['price']<=40000)\n",
    "   ]"
   ]
  },
  {
   "cell_type": "code",
   "execution_count": null,
   "id": "a15e5581",
   "metadata": {},
   "outputs": [
    {
     "name": "stdout",
     "output_type": "stream",
     "text": [
      "Empty DataFrame\n",
      "Columns: [bike_name, price, city, kms_driven, owner, age, power, brand]\n",
      "Index: []\n"
     ]
    }
   ],
   "source": [
    "print(filter_df)"
   ]
  },
  {
   "cell_type": "code",
   "execution_count": null,
   "id": "5f04226e",
   "metadata": {},
   "outputs": [
    {
     "name": "stdout",
     "output_type": "stream",
     "text": [
      "Index(['bike_name', 'price', 'city', 'kms_driven', 'owner', 'age', 'power',\n",
      "       'brand'],\n",
      "      dtype='object')\n"
     ]
    }
   ],
   "source": [
    "print(df.columns)"
   ]
  },
  {
   "cell_type": "code",
   "execution_count": null,
   "id": "ea124182",
   "metadata": {},
   "outputs": [
    {
     "data": {
      "application/vnd.microsoft.datawrangler.viewer.v0+json": {
       "columns": [
        {
         "name": "index",
         "rawType": "int64",
         "type": "integer"
        },
        {
         "name": "bike_name",
         "rawType": "object",
         "type": "string"
        },
        {
         "name": "price",
         "rawType": "float64",
         "type": "float"
        },
        {
         "name": "city",
         "rawType": "object",
         "type": "string"
        },
        {
         "name": "kms_driven",
         "rawType": "float64",
         "type": "float"
        },
        {
         "name": "owner",
         "rawType": "object",
         "type": "string"
        },
        {
         "name": "age",
         "rawType": "float64",
         "type": "float"
        },
        {
         "name": "power",
         "rawType": "float64",
         "type": "float"
        },
        {
         "name": "brand",
         "rawType": "object",
         "type": "string"
        }
       ],
       "ref": "6037abd8-0e8e-415c-ab9c-bd13cb5f16ed",
       "rows": [
        [
         "0",
         "TVS Star City Plus Dual Tone 110cc",
         "35000.0",
         "Ahmedabad",
         "17654.0",
         "First Owner",
         "3.0",
         "110.0",
         "TVS"
        ],
        [
         "1",
         "Royal Enfield Classic 350cc",
         "119900.0",
         "Delhi",
         "11000.0",
         "First Owner",
         "4.0",
         "350.0",
         "Royal Enfield"
        ],
        [
         "2",
         "Triumph Daytona 675R",
         "600000.0",
         "Delhi",
         "110.0",
         "First Owner",
         "8.0",
         "675.0",
         "Triumph"
        ],
        [
         "3",
         "TVS Apache RTR 180cc",
         "65000.0",
         "Bangalore",
         "16329.0",
         "First Owner",
         "4.0",
         "180.0",
         "TVS"
        ],
        [
         "4",
         "Yamaha FZ S V 2.0 150cc-Ltd. Edition",
         "80000.0",
         "Bangalore",
         "10000.0",
         "First Owner",
         "3.0",
         "150.0",
         "Yamaha"
        ]
       ],
       "shape": {
        "columns": 8,
        "rows": 5
       }
      },
      "text/html": [
       "<div>\n",
       "<style scoped>\n",
       "    .dataframe tbody tr th:only-of-type {\n",
       "        vertical-align: middle;\n",
       "    }\n",
       "\n",
       "    .dataframe tbody tr th {\n",
       "        vertical-align: top;\n",
       "    }\n",
       "\n",
       "    .dataframe thead th {\n",
       "        text-align: right;\n",
       "    }\n",
       "</style>\n",
       "<table border=\"1\" class=\"dataframe\">\n",
       "  <thead>\n",
       "    <tr style=\"text-align: right;\">\n",
       "      <th></th>\n",
       "      <th>bike_name</th>\n",
       "      <th>price</th>\n",
       "      <th>city</th>\n",
       "      <th>kms_driven</th>\n",
       "      <th>owner</th>\n",
       "      <th>age</th>\n",
       "      <th>power</th>\n",
       "      <th>brand</th>\n",
       "    </tr>\n",
       "  </thead>\n",
       "  <tbody>\n",
       "    <tr>\n",
       "      <th>0</th>\n",
       "      <td>TVS Star City Plus Dual Tone 110cc</td>\n",
       "      <td>35000.0</td>\n",
       "      <td>Ahmedabad</td>\n",
       "      <td>17654.0</td>\n",
       "      <td>First Owner</td>\n",
       "      <td>3.0</td>\n",
       "      <td>110.0</td>\n",
       "      <td>TVS</td>\n",
       "    </tr>\n",
       "    <tr>\n",
       "      <th>1</th>\n",
       "      <td>Royal Enfield Classic 350cc</td>\n",
       "      <td>119900.0</td>\n",
       "      <td>Delhi</td>\n",
       "      <td>11000.0</td>\n",
       "      <td>First Owner</td>\n",
       "      <td>4.0</td>\n",
       "      <td>350.0</td>\n",
       "      <td>Royal Enfield</td>\n",
       "    </tr>\n",
       "    <tr>\n",
       "      <th>2</th>\n",
       "      <td>Triumph Daytona 675R</td>\n",
       "      <td>600000.0</td>\n",
       "      <td>Delhi</td>\n",
       "      <td>110.0</td>\n",
       "      <td>First Owner</td>\n",
       "      <td>8.0</td>\n",
       "      <td>675.0</td>\n",
       "      <td>Triumph</td>\n",
       "    </tr>\n",
       "    <tr>\n",
       "      <th>3</th>\n",
       "      <td>TVS Apache RTR 180cc</td>\n",
       "      <td>65000.0</td>\n",
       "      <td>Bangalore</td>\n",
       "      <td>16329.0</td>\n",
       "      <td>First Owner</td>\n",
       "      <td>4.0</td>\n",
       "      <td>180.0</td>\n",
       "      <td>TVS</td>\n",
       "    </tr>\n",
       "    <tr>\n",
       "      <th>4</th>\n",
       "      <td>Yamaha FZ S V 2.0 150cc-Ltd. Edition</td>\n",
       "      <td>80000.0</td>\n",
       "      <td>Bangalore</td>\n",
       "      <td>10000.0</td>\n",
       "      <td>First Owner</td>\n",
       "      <td>3.0</td>\n",
       "      <td>150.0</td>\n",
       "      <td>Yamaha</td>\n",
       "    </tr>\n",
       "  </tbody>\n",
       "</table>\n",
       "</div>"
      ],
      "text/plain": [
       "                              bike_name     price       city  kms_driven  \\\n",
       "0    TVS Star City Plus Dual Tone 110cc   35000.0  Ahmedabad     17654.0   \n",
       "1           Royal Enfield Classic 350cc  119900.0      Delhi     11000.0   \n",
       "2                  Triumph Daytona 675R  600000.0      Delhi       110.0   \n",
       "3                  TVS Apache RTR 180cc   65000.0  Bangalore     16329.0   \n",
       "4  Yamaha FZ S V 2.0 150cc-Ltd. Edition   80000.0  Bangalore     10000.0   \n",
       "\n",
       "         owner  age  power          brand  \n",
       "0  First Owner  3.0  110.0            TVS  \n",
       "1  First Owner  4.0  350.0  Royal Enfield  \n",
       "2  First Owner  8.0  675.0        Triumph  \n",
       "3  First Owner  4.0  180.0            TVS  \n",
       "4  First Owner  3.0  150.0         Yamaha  "
      ]
     },
     "execution_count": 12,
     "metadata": {},
     "output_type": "execute_result"
    }
   ],
   "source": [
    "df.head(5)"
   ]
  },
  {
   "cell_type": "code",
   "execution_count": null,
   "id": "dcfb7257",
   "metadata": {},
   "outputs": [
    {
     "data": {
      "text/plain": [
       "Index(['bike_name', 'price', 'city', 'kms_driven', 'owner', 'age', 'power',\n",
       "       'brand'],\n",
       "      dtype='object')"
      ]
     },
     "execution_count": 13,
     "metadata": {},
     "output_type": "execute_result"
    }
   ],
   "source": [
    "df.columns"
   ]
  },
  {
   "cell_type": "code",
   "execution_count": null,
   "id": "5cf09679",
   "metadata": {},
   "outputs": [],
   "source": [
    "df.rename(columns= {'kms_driven':'kilometer'},inplace=True)"
   ]
  },
  {
   "cell_type": "code",
   "execution_count": null,
   "id": "39a8fe02",
   "metadata": {},
   "outputs": [
    {
     "data": {
      "application/vnd.microsoft.datawrangler.viewer.v0+json": {
       "columns": [
        {
         "name": "index",
         "rawType": "int64",
         "type": "integer"
        },
        {
         "name": "bike_name",
         "rawType": "object",
         "type": "string"
        },
        {
         "name": "price",
         "rawType": "float64",
         "type": "float"
        },
        {
         "name": "city",
         "rawType": "object",
         "type": "string"
        },
        {
         "name": "kilometer",
         "rawType": "float64",
         "type": "float"
        },
        {
         "name": "owner",
         "rawType": "object",
         "type": "string"
        },
        {
         "name": "age",
         "rawType": "float64",
         "type": "float"
        },
        {
         "name": "power",
         "rawType": "float64",
         "type": "float"
        },
        {
         "name": "brand",
         "rawType": "object",
         "type": "string"
        }
       ],
       "ref": "6461d6e0-69c9-4866-a735-1c60b5d273b2",
       "rows": [
        [
         "0",
         "TVS Star City Plus Dual Tone 110cc",
         "35000.0",
         "Ahmedabad",
         "17654.0",
         "First Owner",
         "3.0",
         "110.0",
         "TVS"
        ],
        [
         "1",
         "Royal Enfield Classic 350cc",
         "119900.0",
         "Delhi",
         "11000.0",
         "First Owner",
         "4.0",
         "350.0",
         "Royal Enfield"
        ],
        [
         "2",
         "Triumph Daytona 675R",
         "600000.0",
         "Delhi",
         "110.0",
         "First Owner",
         "8.0",
         "675.0",
         "Triumph"
        ],
        [
         "3",
         "TVS Apache RTR 180cc",
         "65000.0",
         "Bangalore",
         "16329.0",
         "First Owner",
         "4.0",
         "180.0",
         "TVS"
        ],
        [
         "4",
         "Yamaha FZ S V 2.0 150cc-Ltd. Edition",
         "80000.0",
         "Bangalore",
         "10000.0",
         "First Owner",
         "3.0",
         "150.0",
         "Yamaha"
        ],
        [
         "5",
         "Yamaha FZs 150cc",
         "53499.0",
         "Delhi",
         "25000.0",
         "First Owner",
         "6.0",
         "150.0",
         "Yamaha"
        ],
        [
         "6",
         "Honda CB Hornet 160R  ABS DLX",
         "85000.0",
         "Delhi",
         "8200.0",
         "First Owner",
         "3.0",
         "160.0",
         "Honda"
        ],
        [
         "7",
         "Hero Splendor Plus Self Alloy 100cc",
         "45000.0",
         "Delhi",
         "12645.0",
         "First Owner",
         "3.0",
         "100.0",
         "Hero"
        ],
        [
         "8",
         "Royal Enfield Thunderbird X 350cc",
         "145000.0",
         "Bangalore",
         "9190.0",
         "First Owner",
         "3.0",
         "350.0",
         "Royal Enfield"
        ],
        [
         "9",
         "Royal Enfield Classic Desert Storm 500cc",
         "88000.0",
         "Delhi",
         "19000.0",
         "Second Owner",
         "7.0",
         "500.0",
         "Royal Enfield"
        ],
        [
         "10",
         "Yamaha YZF-R15 2.0 150cc",
         "72000.0",
         "Bangalore",
         "20000.0",
         "First Owner",
         "7.0",
         "150.0",
         "Yamaha"
        ],
        [
         "11",
         "Yamaha FZ25 250cc",
         "95000.0",
         "Bangalore",
         "9665.0",
         "First Owner",
         "4.0",
         "250.0",
         "Yamaha"
        ],
        [
         "12",
         "Bajaj Pulsar NS200",
         "78000.0",
         "Bangalore",
         "9900.0",
         "First Owner",
         "4.0",
         "200.0",
         "Bajaj"
        ],
        [
         "13",
         "Bajaj Discover 100M",
         "29499.0",
         "Delhi",
         "20000.0",
         "First Owner",
         "8.0",
         "100.0",
         "Bajaj"
        ],
        [
         "14",
         "Bajaj Discover 125M",
         "29900.0",
         "Delhi",
         "20000.0",
         "First Owner",
         "7.0",
         "125.0",
         "Bajaj"
        ],
        [
         "15",
         "Bajaj Pulsar NS200 ABS",
         "90000.0",
         "Bangalore",
         "11574.0",
         "First Owner",
         "3.0",
         "200.0",
         "Bajaj"
        ],
        [
         "16",
         "Bajaj Pulsar RS200 ABS",
         "120000.0",
         "Bangalore",
         "23000.0",
         "First Owner",
         "3.0",
         "200.0",
         "Bajaj"
        ],
        [
         "17",
         "Suzuki Gixxer SF 150cc",
         "48000.0",
         "Mumbai",
         "24725.0",
         "First Owner",
         "5.0",
         "150.0",
         "Suzuki"
        ],
        [
         "18",
         "Benelli 302R 300CC",
         "240000.0",
         "Mumbai",
         "15025.0",
         "Second Owner",
         "3.0",
         "302.0",
         "Benelli"
        ],
        [
         "22",
         "Hero Splendor iSmart Plus IBS 110cc",
         "46500.0",
         "Delhi",
         "3500.0",
         "First Owner",
         "2.0",
         "110.0",
         "Hero"
        ],
        [
         "23",
         "Royal Enfield Classic Chrome 500cc",
         "121700.0",
         "Kalyan",
         "24520.0",
         "First Owner",
         "5.0",
         "500.0",
         "Royal Enfield"
        ],
        [
         "24",
         "Yamaha FZ V 2.0 150cc",
         "45000.0",
         "Delhi",
         "23000.0",
         "First Owner",
         "6.0",
         "150.0",
         "Yamaha"
        ],
        [
         "26",
         "Hero Super Splendor 125cc",
         "20000.0",
         "Ahmedabad",
         "29305.0",
         "First Owner",
         "16.0",
         "125.0",
         "Hero"
        ],
        [
         "27",
         "Honda CBF Stunner 125cc",
         "20800.0",
         "Faridabad",
         "30500.0",
         "Second Owner",
         "7.0",
         "125.0",
         "Honda"
        ],
        [
         "28",
         "Bajaj Pulsar 150cc",
         "50000.0",
         "Bangalore",
         "19000.0",
         "First Owner",
         "8.0",
         "150.0",
         "Bajaj"
        ],
        [
         "29",
         "Honda X-Blade 160CC ABS",
         "81200.0",
         "Mettur",
         "9100.0",
         "First Owner",
         "2.0",
         "160.0",
         "Honda"
        ],
        [
         "30",
         "Bajaj Pulsar NS200",
         "88000.0",
         "Hyderabad",
         "21914.0",
         "First Owner",
         "3.0",
         "200.0",
         "Bajaj"
        ],
        [
         "31",
         "Yamaha YZF-R15 2.0 150cc",
         "80000.0",
         "Kaithal",
         "20000.0",
         "Second Owner",
         "4.0",
         "150.0",
         "Yamaha"
        ],
        [
         "32",
         "Bajaj Avenger 220cc",
         "40900.0",
         "Gurgaon",
         "15000.0",
         "First Owner",
         "6.0",
         "220.0",
         "Bajaj"
        ],
        [
         "33",
         "KTM RC 390cc",
         "180000.0",
         "Pune",
         "17700.0",
         "First Owner",
         "4.0",
         "390.0",
         "KTM"
        ],
        [
         "34",
         "Honda CB Unicorn 150cc",
         "40000.0",
         "Noida",
         "30000.0",
         "First Owner",
         "8.0",
         "150.0",
         "Honda"
        ],
        [
         "35",
         "KTM Duke 200cc",
         "70000.0",
         "Nashik",
         "100000.0",
         "Second Owner",
         "8.0",
         "200.0",
         "KTM"
        ],
        [
         "36",
         "Royal Enfield Classic 350cc",
         "98800.0",
         "Kochi",
         "39000.0",
         "First Owner",
         "5.0",
         "350.0",
         "Royal Enfield"
        ],
        [
         "37",
         "Honda CBR 150R 150cc",
         "65000.0",
         "Allahabad",
         "43000.0",
         "First Owner",
         "6.0",
         "150.0",
         "Honda"
        ],
        [
         "38",
         "Royal Enfield Thunderbird X 500cc",
         "190500.0",
         "Samastipur",
         "4550.0",
         "First Owner",
         "2.0",
         "500.0",
         "Royal Enfield"
        ],
        [
         "39",
         "KTM RC 200cc ABS",
         "179000.0",
         "Bangalore",
         "3400.0",
         "First Owner",
         "2.0",
         "200.0",
         "KTM"
        ],
        [
         "40",
         "Royal Enfield Thunderbird 350cc",
         "70000.0",
         "Nadiad",
         "45000.0",
         "First Owner",
         "8.0",
         "350.0",
         "Royal Enfield"
        ],
        [
         "41",
         "Bajaj Avenger 220cc",
         "45000.0",
         "Hyderabad",
         "36100.0",
         "First Owner",
         "6.0",
         "220.0",
         "Bajaj"
        ],
        [
         "42",
         "Royal Enfield Bullet Electra 350cc",
         "78000.0",
         "Lucknow",
         "8500.0",
         "First Owner",
         "13.0",
         "350.0",
         "Royal Enfield"
        ],
        [
         "43",
         "Bajaj Avenger Street 220 ABS",
         "110000.0",
         "Bangalore",
         "2550.0",
         "First Owner",
         "2.0",
         "220.0",
         "Bajaj"
        ],
        [
         "44",
         "Royal Enfield Classic 350cc",
         "85000.0",
         "Delhi",
         "18000.0",
         "First Owner",
         "6.0",
         "350.0",
         "Royal Enfield"
        ],
        [
         "45",
         "Bajaj Pulsar NS200",
         "38000.0",
         "Delhi",
         "35000.0",
         "First Owner",
         "9.0",
         "200.0",
         "Bajaj"
        ],
        [
         "46",
         "Royal Enfield Thunderbird 350cc",
         "55346.0",
         "Noida",
         "38000.0",
         "First Owner",
         "10.0",
         "350.0",
         "Royal Enfield"
        ],
        [
         "47",
         "Mahindra Centuro NXT 110cc",
         "28000.0",
         "Jaipur",
         "45000.0",
         "First Owner",
         "2.0",
         "110.0",
         "Mahindra"
        ],
        [
         "48",
         "Hero Hunk 150cc",
         "37000.0",
         "Mumbai",
         "10800.0",
         "First Owner",
         "8.0",
         "150.0",
         "Hero"
        ],
        [
         "49",
         "Suzuki Gixxer SF Fi 150cc SP ABS",
         "97000.0",
         "Delhi",
         "4400.0",
         "First Owner",
         "3.0",
         "150.0",
         "Suzuki"
        ],
        [
         "50",
         "Yamaha FZ 150cc",
         "40000.0",
         "Karnal",
         "357000.0",
         "First Owner",
         "8.0",
         "150.0",
         "Yamaha"
        ],
        [
         "51",
         "Royal Enfield‎ Bullet 350cc",
         "90000.0",
         "Delhi",
         "15300.0",
         "First Owner",
         "7.0",
         "350.0",
         "Royal Enfield"
        ],
        [
         "52",
         "TVS Apache RTR 160cc",
         "60000.0",
         "Mumbai",
         "30000.0",
         "First Owner",
         "5.0",
         "160.0",
         "TVS"
        ],
        [
         "53",
         "Honda CB Shine 125cc",
         "21900.0",
         "Gorakhpur",
         "30000.0",
         "Second Owner",
         "7.0",
         "125.0",
         "Honda"
        ]
       ],
       "shape": {
        "columns": 8,
        "rows": 7324
       }
      },
      "text/html": [
       "<div>\n",
       "<style scoped>\n",
       "    .dataframe tbody tr th:only-of-type {\n",
       "        vertical-align: middle;\n",
       "    }\n",
       "\n",
       "    .dataframe tbody tr th {\n",
       "        vertical-align: top;\n",
       "    }\n",
       "\n",
       "    .dataframe thead th {\n",
       "        text-align: right;\n",
       "    }\n",
       "</style>\n",
       "<table border=\"1\" class=\"dataframe\">\n",
       "  <thead>\n",
       "    <tr style=\"text-align: right;\">\n",
       "      <th></th>\n",
       "      <th>bike_name</th>\n",
       "      <th>price</th>\n",
       "      <th>city</th>\n",
       "      <th>kilometer</th>\n",
       "      <th>owner</th>\n",
       "      <th>age</th>\n",
       "      <th>power</th>\n",
       "      <th>brand</th>\n",
       "    </tr>\n",
       "  </thead>\n",
       "  <tbody>\n",
       "    <tr>\n",
       "      <th>0</th>\n",
       "      <td>TVS Star City Plus Dual Tone 110cc</td>\n",
       "      <td>35000.0</td>\n",
       "      <td>Ahmedabad</td>\n",
       "      <td>17654.0</td>\n",
       "      <td>First Owner</td>\n",
       "      <td>3.0</td>\n",
       "      <td>110.0</td>\n",
       "      <td>TVS</td>\n",
       "    </tr>\n",
       "    <tr>\n",
       "      <th>1</th>\n",
       "      <td>Royal Enfield Classic 350cc</td>\n",
       "      <td>119900.0</td>\n",
       "      <td>Delhi</td>\n",
       "      <td>11000.0</td>\n",
       "      <td>First Owner</td>\n",
       "      <td>4.0</td>\n",
       "      <td>350.0</td>\n",
       "      <td>Royal Enfield</td>\n",
       "    </tr>\n",
       "    <tr>\n",
       "      <th>2</th>\n",
       "      <td>Triumph Daytona 675R</td>\n",
       "      <td>600000.0</td>\n",
       "      <td>Delhi</td>\n",
       "      <td>110.0</td>\n",
       "      <td>First Owner</td>\n",
       "      <td>8.0</td>\n",
       "      <td>675.0</td>\n",
       "      <td>Triumph</td>\n",
       "    </tr>\n",
       "    <tr>\n",
       "      <th>3</th>\n",
       "      <td>TVS Apache RTR 180cc</td>\n",
       "      <td>65000.0</td>\n",
       "      <td>Bangalore</td>\n",
       "      <td>16329.0</td>\n",
       "      <td>First Owner</td>\n",
       "      <td>4.0</td>\n",
       "      <td>180.0</td>\n",
       "      <td>TVS</td>\n",
       "    </tr>\n",
       "    <tr>\n",
       "      <th>4</th>\n",
       "      <td>Yamaha FZ S V 2.0 150cc-Ltd. Edition</td>\n",
       "      <td>80000.0</td>\n",
       "      <td>Bangalore</td>\n",
       "      <td>10000.0</td>\n",
       "      <td>First Owner</td>\n",
       "      <td>3.0</td>\n",
       "      <td>150.0</td>\n",
       "      <td>Yamaha</td>\n",
       "    </tr>\n",
       "    <tr>\n",
       "      <th>...</th>\n",
       "      <td>...</td>\n",
       "      <td>...</td>\n",
       "      <td>...</td>\n",
       "      <td>...</td>\n",
       "      <td>...</td>\n",
       "      <td>...</td>\n",
       "      <td>...</td>\n",
       "      <td>...</td>\n",
       "    </tr>\n",
       "    <tr>\n",
       "      <th>9362</th>\n",
       "      <td>Hero Hunk Rear Disc 150cc</td>\n",
       "      <td>25000.0</td>\n",
       "      <td>Delhi</td>\n",
       "      <td>48587.0</td>\n",
       "      <td>First Owner</td>\n",
       "      <td>8.0</td>\n",
       "      <td>150.0</td>\n",
       "      <td>Hero</td>\n",
       "    </tr>\n",
       "    <tr>\n",
       "      <th>9369</th>\n",
       "      <td>Bajaj Avenger 220cc</td>\n",
       "      <td>35000.0</td>\n",
       "      <td>Bangalore</td>\n",
       "      <td>60000.0</td>\n",
       "      <td>First Owner</td>\n",
       "      <td>9.0</td>\n",
       "      <td>220.0</td>\n",
       "      <td>Bajaj</td>\n",
       "    </tr>\n",
       "    <tr>\n",
       "      <th>9370</th>\n",
       "      <td>Harley-Davidson Street 750 ABS</td>\n",
       "      <td>450000.0</td>\n",
       "      <td>Jodhpur</td>\n",
       "      <td>3430.0</td>\n",
       "      <td>First Owner</td>\n",
       "      <td>4.0</td>\n",
       "      <td>750.0</td>\n",
       "      <td>Harley-Davidson</td>\n",
       "    </tr>\n",
       "    <tr>\n",
       "      <th>9371</th>\n",
       "      <td>Bajaj Dominar 400 ABS</td>\n",
       "      <td>139000.0</td>\n",
       "      <td>Hyderabad</td>\n",
       "      <td>21300.0</td>\n",
       "      <td>First Owner</td>\n",
       "      <td>4.0</td>\n",
       "      <td>400.0</td>\n",
       "      <td>Bajaj</td>\n",
       "    </tr>\n",
       "    <tr>\n",
       "      <th>9372</th>\n",
       "      <td>Bajaj Avenger Street 220</td>\n",
       "      <td>80000.0</td>\n",
       "      <td>Hyderabad</td>\n",
       "      <td>7127.0</td>\n",
       "      <td>First Owner</td>\n",
       "      <td>5.0</td>\n",
       "      <td>220.0</td>\n",
       "      <td>Bajaj</td>\n",
       "    </tr>\n",
       "  </tbody>\n",
       "</table>\n",
       "<p>7324 rows × 8 columns</p>\n",
       "</div>"
      ],
      "text/plain": [
       "                                 bike_name     price       city  kilometer  \\\n",
       "0       TVS Star City Plus Dual Tone 110cc   35000.0  Ahmedabad    17654.0   \n",
       "1              Royal Enfield Classic 350cc  119900.0      Delhi    11000.0   \n",
       "2                     Triumph Daytona 675R  600000.0      Delhi      110.0   \n",
       "3                     TVS Apache RTR 180cc   65000.0  Bangalore    16329.0   \n",
       "4     Yamaha FZ S V 2.0 150cc-Ltd. Edition   80000.0  Bangalore    10000.0   \n",
       "...                                    ...       ...        ...        ...   \n",
       "9362             Hero Hunk Rear Disc 150cc   25000.0      Delhi    48587.0   \n",
       "9369                   Bajaj Avenger 220cc   35000.0  Bangalore    60000.0   \n",
       "9370        Harley-Davidson Street 750 ABS  450000.0    Jodhpur     3430.0   \n",
       "9371                 Bajaj Dominar 400 ABS  139000.0  Hyderabad    21300.0   \n",
       "9372              Bajaj Avenger Street 220   80000.0  Hyderabad     7127.0   \n",
       "\n",
       "            owner  age  power            brand  \n",
       "0     First Owner  3.0  110.0              TVS  \n",
       "1     First Owner  4.0  350.0    Royal Enfield  \n",
       "2     First Owner  8.0  675.0          Triumph  \n",
       "3     First Owner  4.0  180.0              TVS  \n",
       "4     First Owner  3.0  150.0           Yamaha  \n",
       "...           ...  ...    ...              ...  \n",
       "9362  First Owner  8.0  150.0             Hero  \n",
       "9369  First Owner  9.0  220.0            Bajaj  \n",
       "9370  First Owner  4.0  750.0  Harley-Davidson  \n",
       "9371  First Owner  4.0  400.0            Bajaj  \n",
       "9372  First Owner  5.0  220.0            Bajaj  \n",
       "\n",
       "[7324 rows x 8 columns]"
      ]
     },
     "execution_count": 15,
     "metadata": {},
     "output_type": "execute_result"
    }
   ],
   "source": [
    "df"
   ]
  },
  {
   "cell_type": "code",
   "execution_count": null,
   "id": "7005d420",
   "metadata": {},
   "outputs": [
    {
     "data": {
      "application/vnd.microsoft.datawrangler.viewer.v0+json": {
       "columns": [
        {
         "name": "index",
         "rawType": "int64",
         "type": "integer"
        },
        {
         "name": "bike_name",
         "rawType": "object",
         "type": "string"
        },
        {
         "name": "city",
         "rawType": "object",
         "type": "string"
        },
        {
         "name": "owner",
         "rawType": "object",
         "type": "string"
        },
        {
         "name": "brand",
         "rawType": "object",
         "type": "string"
        }
       ],
       "ref": "b7fa65dc-e188-41d9-b1ba-48d535ac9408",
       "rows": [
        [
         "0",
         "TVS Star City Plus Dual Tone 110cc",
         "Ahmedabad",
         "First Owner",
         "TVS"
        ],
        [
         "1",
         "Royal Enfield Classic 350cc",
         "Delhi",
         "First Owner",
         "Royal Enfield"
        ],
        [
         "2",
         "Triumph Daytona 675R",
         "Delhi",
         "First Owner",
         "Triumph"
        ],
        [
         "3",
         "TVS Apache RTR 180cc",
         "Bangalore",
         "First Owner",
         "TVS"
        ],
        [
         "4",
         "Yamaha FZ S V 2.0 150cc-Ltd. Edition",
         "Bangalore",
         "First Owner",
         "Yamaha"
        ],
        [
         "5",
         "Yamaha FZs 150cc",
         "Delhi",
         "First Owner",
         "Yamaha"
        ],
        [
         "6",
         "Honda CB Hornet 160R  ABS DLX",
         "Delhi",
         "First Owner",
         "Honda"
        ],
        [
         "7",
         "Hero Splendor Plus Self Alloy 100cc",
         "Delhi",
         "First Owner",
         "Hero"
        ],
        [
         "8",
         "Royal Enfield Thunderbird X 350cc",
         "Bangalore",
         "First Owner",
         "Royal Enfield"
        ],
        [
         "9",
         "Royal Enfield Classic Desert Storm 500cc",
         "Delhi",
         "Second Owner",
         "Royal Enfield"
        ],
        [
         "10",
         "Yamaha YZF-R15 2.0 150cc",
         "Bangalore",
         "First Owner",
         "Yamaha"
        ],
        [
         "11",
         "Yamaha FZ25 250cc",
         "Bangalore",
         "First Owner",
         "Yamaha"
        ],
        [
         "12",
         "Bajaj Pulsar NS200",
         "Bangalore",
         "First Owner",
         "Bajaj"
        ],
        [
         "13",
         "Bajaj Discover 100M",
         "Delhi",
         "First Owner",
         "Bajaj"
        ],
        [
         "14",
         "Bajaj Discover 125M",
         "Delhi",
         "First Owner",
         "Bajaj"
        ],
        [
         "15",
         "Bajaj Pulsar NS200 ABS",
         "Bangalore",
         "First Owner",
         "Bajaj"
        ],
        [
         "16",
         "Bajaj Pulsar RS200 ABS",
         "Bangalore",
         "First Owner",
         "Bajaj"
        ],
        [
         "17",
         "Suzuki Gixxer SF 150cc",
         "Mumbai",
         "First Owner",
         "Suzuki"
        ],
        [
         "18",
         "Benelli 302R 300CC",
         "Mumbai",
         "Second Owner",
         "Benelli"
        ],
        [
         "22",
         "Hero Splendor iSmart Plus IBS 110cc",
         "Delhi",
         "First Owner",
         "Hero"
        ],
        [
         "23",
         "Royal Enfield Classic Chrome 500cc",
         "Kalyan",
         "First Owner",
         "Royal Enfield"
        ],
        [
         "24",
         "Yamaha FZ V 2.0 150cc",
         "Delhi",
         "First Owner",
         "Yamaha"
        ],
        [
         "26",
         "Hero Super Splendor 125cc",
         "Ahmedabad",
         "First Owner",
         "Hero"
        ],
        [
         "27",
         "Honda CBF Stunner 125cc",
         "Faridabad",
         "Second Owner",
         "Honda"
        ],
        [
         "28",
         "Bajaj Pulsar 150cc",
         "Bangalore",
         "First Owner",
         "Bajaj"
        ],
        [
         "29",
         "Honda X-Blade 160CC ABS",
         "Mettur",
         "First Owner",
         "Honda"
        ],
        [
         "30",
         "Bajaj Pulsar NS200",
         "Hyderabad",
         "First Owner",
         "Bajaj"
        ],
        [
         "31",
         "Yamaha YZF-R15 2.0 150cc",
         "Kaithal",
         "Second Owner",
         "Yamaha"
        ],
        [
         "32",
         "Bajaj Avenger 220cc",
         "Gurgaon",
         "First Owner",
         "Bajaj"
        ],
        [
         "33",
         "KTM RC 390cc",
         "Pune",
         "First Owner",
         "KTM"
        ],
        [
         "34",
         "Honda CB Unicorn 150cc",
         "Noida",
         "First Owner",
         "Honda"
        ],
        [
         "35",
         "KTM Duke 200cc",
         "Nashik",
         "Second Owner",
         "KTM"
        ],
        [
         "36",
         "Royal Enfield Classic 350cc",
         "Kochi",
         "First Owner",
         "Royal Enfield"
        ],
        [
         "37",
         "Honda CBR 150R 150cc",
         "Allahabad",
         "First Owner",
         "Honda"
        ],
        [
         "38",
         "Royal Enfield Thunderbird X 500cc",
         "Samastipur",
         "First Owner",
         "Royal Enfield"
        ],
        [
         "39",
         "KTM RC 200cc ABS",
         "Bangalore",
         "First Owner",
         "KTM"
        ],
        [
         "40",
         "Royal Enfield Thunderbird 350cc",
         "Nadiad",
         "First Owner",
         "Royal Enfield"
        ],
        [
         "41",
         "Bajaj Avenger 220cc",
         "Hyderabad",
         "First Owner",
         "Bajaj"
        ],
        [
         "42",
         "Royal Enfield Bullet Electra 350cc",
         "Lucknow",
         "First Owner",
         "Royal Enfield"
        ],
        [
         "43",
         "Bajaj Avenger Street 220 ABS",
         "Bangalore",
         "First Owner",
         "Bajaj"
        ],
        [
         "44",
         "Royal Enfield Classic 350cc",
         "Delhi",
         "First Owner",
         "Royal Enfield"
        ],
        [
         "45",
         "Bajaj Pulsar NS200",
         "Delhi",
         "First Owner",
         "Bajaj"
        ],
        [
         "46",
         "Royal Enfield Thunderbird 350cc",
         "Noida",
         "First Owner",
         "Royal Enfield"
        ],
        [
         "47",
         "Mahindra Centuro NXT 110cc",
         "Jaipur",
         "First Owner",
         "Mahindra"
        ],
        [
         "48",
         "Hero Hunk 150cc",
         "Mumbai",
         "First Owner",
         "Hero"
        ],
        [
         "49",
         "Suzuki Gixxer SF Fi 150cc SP ABS",
         "Delhi",
         "First Owner",
         "Suzuki"
        ],
        [
         "50",
         "Yamaha FZ 150cc",
         "Karnal",
         "First Owner",
         "Yamaha"
        ],
        [
         "51",
         "Royal Enfield‎ Bullet 350cc",
         "Delhi",
         "First Owner",
         "Royal Enfield"
        ],
        [
         "52",
         "TVS Apache RTR 160cc",
         "Mumbai",
         "First Owner",
         "TVS"
        ],
        [
         "53",
         "Honda CB Shine 125cc",
         "Gorakhpur",
         "Second Owner",
         "Honda"
        ]
       ],
       "shape": {
        "columns": 4,
        "rows": 7324
       }
      },
      "text/html": [
       "<div>\n",
       "<style scoped>\n",
       "    .dataframe tbody tr th:only-of-type {\n",
       "        vertical-align: middle;\n",
       "    }\n",
       "\n",
       "    .dataframe tbody tr th {\n",
       "        vertical-align: top;\n",
       "    }\n",
       "\n",
       "    .dataframe thead th {\n",
       "        text-align: right;\n",
       "    }\n",
       "</style>\n",
       "<table border=\"1\" class=\"dataframe\">\n",
       "  <thead>\n",
       "    <tr style=\"text-align: right;\">\n",
       "      <th></th>\n",
       "      <th>bike_name</th>\n",
       "      <th>city</th>\n",
       "      <th>owner</th>\n",
       "      <th>brand</th>\n",
       "    </tr>\n",
       "  </thead>\n",
       "  <tbody>\n",
       "    <tr>\n",
       "      <th>0</th>\n",
       "      <td>TVS Star City Plus Dual Tone 110cc</td>\n",
       "      <td>Ahmedabad</td>\n",
       "      <td>First Owner</td>\n",
       "      <td>TVS</td>\n",
       "    </tr>\n",
       "    <tr>\n",
       "      <th>1</th>\n",
       "      <td>Royal Enfield Classic 350cc</td>\n",
       "      <td>Delhi</td>\n",
       "      <td>First Owner</td>\n",
       "      <td>Royal Enfield</td>\n",
       "    </tr>\n",
       "    <tr>\n",
       "      <th>2</th>\n",
       "      <td>Triumph Daytona 675R</td>\n",
       "      <td>Delhi</td>\n",
       "      <td>First Owner</td>\n",
       "      <td>Triumph</td>\n",
       "    </tr>\n",
       "    <tr>\n",
       "      <th>3</th>\n",
       "      <td>TVS Apache RTR 180cc</td>\n",
       "      <td>Bangalore</td>\n",
       "      <td>First Owner</td>\n",
       "      <td>TVS</td>\n",
       "    </tr>\n",
       "    <tr>\n",
       "      <th>4</th>\n",
       "      <td>Yamaha FZ S V 2.0 150cc-Ltd. Edition</td>\n",
       "      <td>Bangalore</td>\n",
       "      <td>First Owner</td>\n",
       "      <td>Yamaha</td>\n",
       "    </tr>\n",
       "    <tr>\n",
       "      <th>...</th>\n",
       "      <td>...</td>\n",
       "      <td>...</td>\n",
       "      <td>...</td>\n",
       "      <td>...</td>\n",
       "    </tr>\n",
       "    <tr>\n",
       "      <th>9362</th>\n",
       "      <td>Hero Hunk Rear Disc 150cc</td>\n",
       "      <td>Delhi</td>\n",
       "      <td>First Owner</td>\n",
       "      <td>Hero</td>\n",
       "    </tr>\n",
       "    <tr>\n",
       "      <th>9369</th>\n",
       "      <td>Bajaj Avenger 220cc</td>\n",
       "      <td>Bangalore</td>\n",
       "      <td>First Owner</td>\n",
       "      <td>Bajaj</td>\n",
       "    </tr>\n",
       "    <tr>\n",
       "      <th>9370</th>\n",
       "      <td>Harley-Davidson Street 750 ABS</td>\n",
       "      <td>Jodhpur</td>\n",
       "      <td>First Owner</td>\n",
       "      <td>Harley-Davidson</td>\n",
       "    </tr>\n",
       "    <tr>\n",
       "      <th>9371</th>\n",
       "      <td>Bajaj Dominar 400 ABS</td>\n",
       "      <td>Hyderabad</td>\n",
       "      <td>First Owner</td>\n",
       "      <td>Bajaj</td>\n",
       "    </tr>\n",
       "    <tr>\n",
       "      <th>9372</th>\n",
       "      <td>Bajaj Avenger Street 220</td>\n",
       "      <td>Hyderabad</td>\n",
       "      <td>First Owner</td>\n",
       "      <td>Bajaj</td>\n",
       "    </tr>\n",
       "  </tbody>\n",
       "</table>\n",
       "<p>7324 rows × 4 columns</p>\n",
       "</div>"
      ],
      "text/plain": [
       "                                 bike_name       city        owner  \\\n",
       "0       TVS Star City Plus Dual Tone 110cc  Ahmedabad  First Owner   \n",
       "1              Royal Enfield Classic 350cc      Delhi  First Owner   \n",
       "2                     Triumph Daytona 675R      Delhi  First Owner   \n",
       "3                     TVS Apache RTR 180cc  Bangalore  First Owner   \n",
       "4     Yamaha FZ S V 2.0 150cc-Ltd. Edition  Bangalore  First Owner   \n",
       "...                                    ...        ...          ...   \n",
       "9362             Hero Hunk Rear Disc 150cc      Delhi  First Owner   \n",
       "9369                   Bajaj Avenger 220cc  Bangalore  First Owner   \n",
       "9370        Harley-Davidson Street 750 ABS    Jodhpur  First Owner   \n",
       "9371                 Bajaj Dominar 400 ABS  Hyderabad  First Owner   \n",
       "9372              Bajaj Avenger Street 220  Hyderabad  First Owner   \n",
       "\n",
       "                brand  \n",
       "0                 TVS  \n",
       "1       Royal Enfield  \n",
       "2             Triumph  \n",
       "3                 TVS  \n",
       "4              Yamaha  \n",
       "...               ...  \n",
       "9362             Hero  \n",
       "9369            Bajaj  \n",
       "9370  Harley-Davidson  \n",
       "9371            Bajaj  \n",
       "9372            Bajaj  \n",
       "\n",
       "[7324 rows x 4 columns]"
      ]
     },
     "execution_count": 16,
     "metadata": {},
     "output_type": "execute_result"
    }
   ],
   "source": [
    "df.select_dtypes(include='object')"
   ]
  },
  {
   "cell_type": "code",
   "execution_count": null,
   "id": "5f7c3c19",
   "metadata": {},
   "outputs": [],
   "source": [
    "num = df.select_dtypes(exclude='object')"
   ]
  },
  {
   "cell_type": "code",
   "execution_count": null,
   "id": "52fb1b85",
   "metadata": {},
   "outputs": [
    {
     "data": {
      "text/plain": [
       "array(['First Owner', 'Second Owner', 'Third Owner',\n",
       "       'Fourth Owner Or More'], dtype=object)"
      ]
     },
     "execution_count": 18,
     "metadata": {},
     "output_type": "execute_result"
    }
   ],
   "source": [
    "df['owner'].unique()"
   ]
  },
  {
   "cell_type": "code",
   "execution_count": null,
   "id": "6cbf2de7",
   "metadata": {},
   "outputs": [
    {
     "name": "stdout",
     "output_type": "stream",
     "text": [
      "['bike_name', 'price', 'city', 'kilometer', 'owner', 'age', 'power', 'brand']\n"
     ]
    }
   ],
   "source": [
    "print(df.columns.tolist())"
   ]
  },
  {
   "cell_type": "code",
   "execution_count": null,
   "id": "6bcebcf8",
   "metadata": {},
   "outputs": [],
   "source": [
    "char=df.select_dtypes(exclude='object')"
   ]
  },
  {
   "cell_type": "code",
   "execution_count": null,
   "id": "f8cd3f15",
   "metadata": {},
   "outputs": [
    {
     "data": {
      "application/vnd.microsoft.datawrangler.viewer.v0+json": {
       "columns": [
        {
         "name": "index",
         "rawType": "int64",
         "type": "integer"
        },
        {
         "name": "price",
         "rawType": "float64",
         "type": "float"
        },
        {
         "name": "kilometer",
         "rawType": "float64",
         "type": "float"
        },
        {
         "name": "age",
         "rawType": "float64",
         "type": "float"
        },
        {
         "name": "power",
         "rawType": "float64",
         "type": "float"
        }
       ],
       "ref": "7583faec-c5e6-4969-a445-00f8870bb75a",
       "rows": [
        [
         "0",
         "35000.0",
         "17654.0",
         "3.0",
         "110.0"
        ],
        [
         "1",
         "119900.0",
         "11000.0",
         "4.0",
         "350.0"
        ],
        [
         "2",
         "600000.0",
         "110.0",
         "8.0",
         "675.0"
        ],
        [
         "3",
         "65000.0",
         "16329.0",
         "4.0",
         "180.0"
        ],
        [
         "4",
         "80000.0",
         "10000.0",
         "3.0",
         "150.0"
        ],
        [
         "5",
         "53499.0",
         "25000.0",
         "6.0",
         "150.0"
        ],
        [
         "6",
         "85000.0",
         "8200.0",
         "3.0",
         "160.0"
        ],
        [
         "7",
         "45000.0",
         "12645.0",
         "3.0",
         "100.0"
        ],
        [
         "8",
         "145000.0",
         "9190.0",
         "3.0",
         "350.0"
        ],
        [
         "9",
         "88000.0",
         "19000.0",
         "7.0",
         "500.0"
        ],
        [
         "10",
         "72000.0",
         "20000.0",
         "7.0",
         "150.0"
        ],
        [
         "11",
         "95000.0",
         "9665.0",
         "4.0",
         "250.0"
        ],
        [
         "12",
         "78000.0",
         "9900.0",
         "4.0",
         "200.0"
        ],
        [
         "13",
         "29499.0",
         "20000.0",
         "8.0",
         "100.0"
        ],
        [
         "14",
         "29900.0",
         "20000.0",
         "7.0",
         "125.0"
        ],
        [
         "15",
         "90000.0",
         "11574.0",
         "3.0",
         "200.0"
        ],
        [
         "16",
         "120000.0",
         "23000.0",
         "3.0",
         "200.0"
        ],
        [
         "17",
         "48000.0",
         "24725.0",
         "5.0",
         "150.0"
        ],
        [
         "18",
         "240000.0",
         "15025.0",
         "3.0",
         "302.0"
        ],
        [
         "22",
         "46500.0",
         "3500.0",
         "2.0",
         "110.0"
        ],
        [
         "23",
         "121700.0",
         "24520.0",
         "5.0",
         "500.0"
        ],
        [
         "24",
         "45000.0",
         "23000.0",
         "6.0",
         "150.0"
        ],
        [
         "26",
         "20000.0",
         "29305.0",
         "16.0",
         "125.0"
        ],
        [
         "27",
         "20800.0",
         "30500.0",
         "7.0",
         "125.0"
        ],
        [
         "28",
         "50000.0",
         "19000.0",
         "8.0",
         "150.0"
        ],
        [
         "29",
         "81200.0",
         "9100.0",
         "2.0",
         "160.0"
        ],
        [
         "30",
         "88000.0",
         "21914.0",
         "3.0",
         "200.0"
        ],
        [
         "31",
         "80000.0",
         "20000.0",
         "4.0",
         "150.0"
        ],
        [
         "32",
         "40900.0",
         "15000.0",
         "6.0",
         "220.0"
        ],
        [
         "33",
         "180000.0",
         "17700.0",
         "4.0",
         "390.0"
        ],
        [
         "34",
         "40000.0",
         "30000.0",
         "8.0",
         "150.0"
        ],
        [
         "35",
         "70000.0",
         "100000.0",
         "8.0",
         "200.0"
        ],
        [
         "36",
         "98800.0",
         "39000.0",
         "5.0",
         "350.0"
        ],
        [
         "37",
         "65000.0",
         "43000.0",
         "6.0",
         "150.0"
        ],
        [
         "38",
         "190500.0",
         "4550.0",
         "2.0",
         "500.0"
        ],
        [
         "39",
         "179000.0",
         "3400.0",
         "2.0",
         "200.0"
        ],
        [
         "40",
         "70000.0",
         "45000.0",
         "8.0",
         "350.0"
        ],
        [
         "41",
         "45000.0",
         "36100.0",
         "6.0",
         "220.0"
        ],
        [
         "42",
         "78000.0",
         "8500.0",
         "13.0",
         "350.0"
        ],
        [
         "43",
         "110000.0",
         "2550.0",
         "2.0",
         "220.0"
        ],
        [
         "44",
         "85000.0",
         "18000.0",
         "6.0",
         "350.0"
        ],
        [
         "45",
         "38000.0",
         "35000.0",
         "9.0",
         "200.0"
        ],
        [
         "46",
         "55346.0",
         "38000.0",
         "10.0",
         "350.0"
        ],
        [
         "47",
         "28000.0",
         "45000.0",
         "2.0",
         "110.0"
        ],
        [
         "48",
         "37000.0",
         "10800.0",
         "8.0",
         "150.0"
        ],
        [
         "49",
         "97000.0",
         "4400.0",
         "3.0",
         "150.0"
        ],
        [
         "50",
         "40000.0",
         "357000.0",
         "8.0",
         "150.0"
        ],
        [
         "51",
         "90000.0",
         "15300.0",
         "7.0",
         "350.0"
        ],
        [
         "52",
         "60000.0",
         "30000.0",
         "5.0",
         "160.0"
        ],
        [
         "53",
         "21900.0",
         "30000.0",
         "7.0",
         "125.0"
        ]
       ],
       "shape": {
        "columns": 4,
        "rows": 7324
       }
      },
      "text/html": [
       "<div>\n",
       "<style scoped>\n",
       "    .dataframe tbody tr th:only-of-type {\n",
       "        vertical-align: middle;\n",
       "    }\n",
       "\n",
       "    .dataframe tbody tr th {\n",
       "        vertical-align: top;\n",
       "    }\n",
       "\n",
       "    .dataframe thead th {\n",
       "        text-align: right;\n",
       "    }\n",
       "</style>\n",
       "<table border=\"1\" class=\"dataframe\">\n",
       "  <thead>\n",
       "    <tr style=\"text-align: right;\">\n",
       "      <th></th>\n",
       "      <th>price</th>\n",
       "      <th>kilometer</th>\n",
       "      <th>age</th>\n",
       "      <th>power</th>\n",
       "    </tr>\n",
       "  </thead>\n",
       "  <tbody>\n",
       "    <tr>\n",
       "      <th>0</th>\n",
       "      <td>35000.0</td>\n",
       "      <td>17654.0</td>\n",
       "      <td>3.0</td>\n",
       "      <td>110.0</td>\n",
       "    </tr>\n",
       "    <tr>\n",
       "      <th>1</th>\n",
       "      <td>119900.0</td>\n",
       "      <td>11000.0</td>\n",
       "      <td>4.0</td>\n",
       "      <td>350.0</td>\n",
       "    </tr>\n",
       "    <tr>\n",
       "      <th>2</th>\n",
       "      <td>600000.0</td>\n",
       "      <td>110.0</td>\n",
       "      <td>8.0</td>\n",
       "      <td>675.0</td>\n",
       "    </tr>\n",
       "    <tr>\n",
       "      <th>3</th>\n",
       "      <td>65000.0</td>\n",
       "      <td>16329.0</td>\n",
       "      <td>4.0</td>\n",
       "      <td>180.0</td>\n",
       "    </tr>\n",
       "    <tr>\n",
       "      <th>4</th>\n",
       "      <td>80000.0</td>\n",
       "      <td>10000.0</td>\n",
       "      <td>3.0</td>\n",
       "      <td>150.0</td>\n",
       "    </tr>\n",
       "    <tr>\n",
       "      <th>...</th>\n",
       "      <td>...</td>\n",
       "      <td>...</td>\n",
       "      <td>...</td>\n",
       "      <td>...</td>\n",
       "    </tr>\n",
       "    <tr>\n",
       "      <th>9362</th>\n",
       "      <td>25000.0</td>\n",
       "      <td>48587.0</td>\n",
       "      <td>8.0</td>\n",
       "      <td>150.0</td>\n",
       "    </tr>\n",
       "    <tr>\n",
       "      <th>9369</th>\n",
       "      <td>35000.0</td>\n",
       "      <td>60000.0</td>\n",
       "      <td>9.0</td>\n",
       "      <td>220.0</td>\n",
       "    </tr>\n",
       "    <tr>\n",
       "      <th>9370</th>\n",
       "      <td>450000.0</td>\n",
       "      <td>3430.0</td>\n",
       "      <td>4.0</td>\n",
       "      <td>750.0</td>\n",
       "    </tr>\n",
       "    <tr>\n",
       "      <th>9371</th>\n",
       "      <td>139000.0</td>\n",
       "      <td>21300.0</td>\n",
       "      <td>4.0</td>\n",
       "      <td>400.0</td>\n",
       "    </tr>\n",
       "    <tr>\n",
       "      <th>9372</th>\n",
       "      <td>80000.0</td>\n",
       "      <td>7127.0</td>\n",
       "      <td>5.0</td>\n",
       "      <td>220.0</td>\n",
       "    </tr>\n",
       "  </tbody>\n",
       "</table>\n",
       "<p>7324 rows × 4 columns</p>\n",
       "</div>"
      ],
      "text/plain": [
       "         price  kilometer  age  power\n",
       "0      35000.0    17654.0  3.0  110.0\n",
       "1     119900.0    11000.0  4.0  350.0\n",
       "2     600000.0      110.0  8.0  675.0\n",
       "3      65000.0    16329.0  4.0  180.0\n",
       "4      80000.0    10000.0  3.0  150.0\n",
       "...        ...        ...  ...    ...\n",
       "9362   25000.0    48587.0  8.0  150.0\n",
       "9369   35000.0    60000.0  9.0  220.0\n",
       "9370  450000.0     3430.0  4.0  750.0\n",
       "9371  139000.0    21300.0  4.0  400.0\n",
       "9372   80000.0     7127.0  5.0  220.0\n",
       "\n",
       "[7324 rows x 4 columns]"
      ]
     },
     "execution_count": 21,
     "metadata": {},
     "output_type": "execute_result"
    }
   ],
   "source": [
    "char"
   ]
  },
  {
   "cell_type": "code",
   "execution_count": null,
   "id": "5aa5c690",
   "metadata": {},
   "outputs": [
    {
     "name": "stdout",
     "output_type": "stream",
     "text": [
      "Index(['price', 'kilometer', 'age', 'power'], dtype='object')\n"
     ]
    }
   ],
   "source": [
    "print(char.columns)"
   ]
  },
  {
   "cell_type": "code",
   "execution_count": null,
   "id": "a0625e26",
   "metadata": {},
   "outputs": [
    {
     "data": {
      "application/vnd.microsoft.datawrangler.viewer.v0+json": {
       "columns": [
        {
         "name": "index",
         "rawType": "int64",
         "type": "integer"
        },
        {
         "name": "price",
         "rawType": "float64",
         "type": "float"
        },
        {
         "name": "kilometer",
         "rawType": "float64",
         "type": "float"
        },
        {
         "name": "age",
         "rawType": "float64",
         "type": "float"
        },
        {
         "name": "power",
         "rawType": "float64",
         "type": "float"
        }
       ],
       "ref": "925524cc-bcf6-4526-a3b8-7a9eab165606",
       "rows": [
        [
         "0",
         "35000.0",
         "17654.0",
         "3.0",
         "110.0"
        ],
        [
         "1",
         "119900.0",
         "11000.0",
         "4.0",
         "350.0"
        ],
        [
         "2",
         "600000.0",
         "110.0",
         "8.0",
         "675.0"
        ],
        [
         "3",
         "65000.0",
         "16329.0",
         "4.0",
         "180.0"
        ],
        [
         "4",
         "80000.0",
         "10000.0",
         "3.0",
         "150.0"
        ]
       ],
       "shape": {
        "columns": 4,
        "rows": 5
       }
      },
      "text/html": [
       "<div>\n",
       "<style scoped>\n",
       "    .dataframe tbody tr th:only-of-type {\n",
       "        vertical-align: middle;\n",
       "    }\n",
       "\n",
       "    .dataframe tbody tr th {\n",
       "        vertical-align: top;\n",
       "    }\n",
       "\n",
       "    .dataframe thead th {\n",
       "        text-align: right;\n",
       "    }\n",
       "</style>\n",
       "<table border=\"1\" class=\"dataframe\">\n",
       "  <thead>\n",
       "    <tr style=\"text-align: right;\">\n",
       "      <th></th>\n",
       "      <th>price</th>\n",
       "      <th>kilometer</th>\n",
       "      <th>age</th>\n",
       "      <th>power</th>\n",
       "    </tr>\n",
       "  </thead>\n",
       "  <tbody>\n",
       "    <tr>\n",
       "      <th>0</th>\n",
       "      <td>35000.0</td>\n",
       "      <td>17654.0</td>\n",
       "      <td>3.0</td>\n",
       "      <td>110.0</td>\n",
       "    </tr>\n",
       "    <tr>\n",
       "      <th>1</th>\n",
       "      <td>119900.0</td>\n",
       "      <td>11000.0</td>\n",
       "      <td>4.0</td>\n",
       "      <td>350.0</td>\n",
       "    </tr>\n",
       "    <tr>\n",
       "      <th>2</th>\n",
       "      <td>600000.0</td>\n",
       "      <td>110.0</td>\n",
       "      <td>8.0</td>\n",
       "      <td>675.0</td>\n",
       "    </tr>\n",
       "    <tr>\n",
       "      <th>3</th>\n",
       "      <td>65000.0</td>\n",
       "      <td>16329.0</td>\n",
       "      <td>4.0</td>\n",
       "      <td>180.0</td>\n",
       "    </tr>\n",
       "    <tr>\n",
       "      <th>4</th>\n",
       "      <td>80000.0</td>\n",
       "      <td>10000.0</td>\n",
       "      <td>3.0</td>\n",
       "      <td>150.0</td>\n",
       "    </tr>\n",
       "  </tbody>\n",
       "</table>\n",
       "</div>"
      ],
      "text/plain": [
       "      price  kilometer  age  power\n",
       "0   35000.0    17654.0  3.0  110.0\n",
       "1  119900.0    11000.0  4.0  350.0\n",
       "2  600000.0      110.0  8.0  675.0\n",
       "3   65000.0    16329.0  4.0  180.0\n",
       "4   80000.0    10000.0  3.0  150.0"
      ]
     },
     "execution_count": 23,
     "metadata": {},
     "output_type": "execute_result"
    }
   ],
   "source": [
    "char.head()"
   ]
  },
  {
   "cell_type": "code",
   "execution_count": null,
   "id": "8eb961e9",
   "metadata": {},
   "outputs": [],
   "source": [
    "char['owner'].unique()"
   ]
  },
  {
   "cell_type": "code",
   "execution_count": null,
   "id": "5eaedc25",
   "metadata": {},
   "outputs": [],
   "source": [
    "owner_dict = {\n",
    "    'first owner': 1,\n",
    "    'second owner': 2\n",
    "}"
   ]
  },
  {
   "cell_type": "code",
   "execution_count": null,
   "id": "3d065e39",
   "metadata": {},
   "outputs": [
    {
     "data": {
      "application/vnd.microsoft.datawrangler.viewer.v0+json": {
       "columns": [
        {
         "name": "index",
         "rawType": "int64",
         "type": "integer"
        },
        {
         "name": "bike_name",
         "rawType": "object",
         "type": "string"
        },
        {
         "name": "price",
         "rawType": "float64",
         "type": "float"
        },
        {
         "name": "city",
         "rawType": "object",
         "type": "string"
        },
        {
         "name": "kms_driven",
         "rawType": "float64",
         "type": "float"
        },
        {
         "name": "owner",
         "rawType": "object",
         "type": "string"
        },
        {
         "name": "age",
         "rawType": "float64",
         "type": "float"
        },
        {
         "name": "power",
         "rawType": "float64",
         "type": "float"
        },
        {
         "name": "brand",
         "rawType": "object",
         "type": "string"
        }
       ],
       "ref": "bab01b9b-0f64-4cb8-898c-cab6f19f0835",
       "rows": [
        [
         "0",
         "TVS Star City Plus Dual Tone 110cc",
         "35000.0",
         "Ahmedabad",
         "17654.0",
         "First Owner",
         "3.0",
         "110.0",
         "TVS"
        ],
        [
         "1",
         "Royal Enfield Classic 350cc",
         "119900.0",
         "Delhi",
         "11000.0",
         "First Owner",
         "4.0",
         "350.0",
         "Royal Enfield"
        ],
        [
         "2",
         "Triumph Daytona 675R",
         "600000.0",
         "Delhi",
         "110.0",
         "First Owner",
         "8.0",
         "675.0",
         "Triumph"
        ],
        [
         "3",
         "TVS Apache RTR 180cc",
         "65000.0",
         "Bangalore",
         "16329.0",
         "First Owner",
         "4.0",
         "180.0",
         "TVS"
        ],
        [
         "4",
         "Yamaha FZ S V 2.0 150cc-Ltd. Edition",
         "80000.0",
         "Bangalore",
         "10000.0",
         "First Owner",
         "3.0",
         "150.0",
         "Yamaha"
        ],
        [
         "5",
         "Yamaha FZs 150cc",
         "53499.0",
         "Delhi",
         "25000.0",
         "First Owner",
         "6.0",
         "150.0",
         "Yamaha"
        ],
        [
         "6",
         "Honda CB Hornet 160R  ABS DLX",
         "85000.0",
         "Delhi",
         "8200.0",
         "First Owner",
         "3.0",
         "160.0",
         "Honda"
        ],
        [
         "7",
         "Hero Splendor Plus Self Alloy 100cc",
         "45000.0",
         "Delhi",
         "12645.0",
         "First Owner",
         "3.0",
         "100.0",
         "Hero"
        ],
        [
         "8",
         "Royal Enfield Thunderbird X 350cc",
         "145000.0",
         "Bangalore",
         "9190.0",
         "First Owner",
         "3.0",
         "350.0",
         "Royal Enfield"
        ],
        [
         "9",
         "Royal Enfield Classic Desert Storm 500cc",
         "88000.0",
         "Delhi",
         "19000.0",
         "Second Owner",
         "7.0",
         "500.0",
         "Royal Enfield"
        ],
        [
         "10",
         "Yamaha YZF-R15 2.0 150cc",
         "72000.0",
         "Bangalore",
         "20000.0",
         "First Owner",
         "7.0",
         "150.0",
         "Yamaha"
        ],
        [
         "11",
         "Yamaha FZ25 250cc",
         "95000.0",
         "Bangalore",
         "9665.0",
         "First Owner",
         "4.0",
         "250.0",
         "Yamaha"
        ],
        [
         "12",
         "Bajaj Pulsar NS200",
         "78000.0",
         "Bangalore",
         "9900.0",
         "First Owner",
         "4.0",
         "200.0",
         "Bajaj"
        ],
        [
         "13",
         "Bajaj Discover 100M",
         "29499.0",
         "Delhi",
         "20000.0",
         "First Owner",
         "8.0",
         "100.0",
         "Bajaj"
        ],
        [
         "14",
         "Bajaj Discover 125M",
         "29900.0",
         "Delhi",
         "20000.0",
         "First Owner",
         "7.0",
         "125.0",
         "Bajaj"
        ],
        [
         "15",
         "Bajaj Pulsar NS200 ABS",
         "90000.0",
         "Bangalore",
         "11574.0",
         "First Owner",
         "3.0",
         "200.0",
         "Bajaj"
        ],
        [
         "16",
         "Bajaj Pulsar RS200 ABS",
         "120000.0",
         "Bangalore",
         "23000.0",
         "First Owner",
         "3.0",
         "200.0",
         "Bajaj"
        ],
        [
         "17",
         "Suzuki Gixxer SF 150cc",
         "48000.0",
         "Mumbai",
         "24725.0",
         "First Owner",
         "5.0",
         "150.0",
         "Suzuki"
        ],
        [
         "18",
         "Benelli 302R 300CC",
         "240000.0",
         "Mumbai",
         "15025.0",
         "Second Owner",
         "3.0",
         "302.0",
         "Benelli"
        ],
        [
         "22",
         "Hero Splendor iSmart Plus IBS 110cc",
         "46500.0",
         "Delhi",
         "3500.0",
         "First Owner",
         "2.0",
         "110.0",
         "Hero"
        ],
        [
         "23",
         "Royal Enfield Classic Chrome 500cc",
         "121700.0",
         "Kalyan",
         "24520.0",
         "First Owner",
         "5.0",
         "500.0",
         "Royal Enfield"
        ],
        [
         "24",
         "Yamaha FZ V 2.0 150cc",
         "45000.0",
         "Delhi",
         "23000.0",
         "First Owner",
         "6.0",
         "150.0",
         "Yamaha"
        ],
        [
         "26",
         "Hero Super Splendor 125cc",
         "20000.0",
         "Ahmedabad",
         "29305.0",
         "First Owner",
         "16.0",
         "125.0",
         "Hero"
        ],
        [
         "27",
         "Honda CBF Stunner 125cc",
         "20800.0",
         "Faridabad",
         "30500.0",
         "Second Owner",
         "7.0",
         "125.0",
         "Honda"
        ],
        [
         "28",
         "Bajaj Pulsar 150cc",
         "50000.0",
         "Bangalore",
         "19000.0",
         "First Owner",
         "8.0",
         "150.0",
         "Bajaj"
        ],
        [
         "29",
         "Honda X-Blade 160CC ABS",
         "81200.0",
         "Mettur",
         "9100.0",
         "First Owner",
         "2.0",
         "160.0",
         "Honda"
        ],
        [
         "30",
         "Bajaj Pulsar NS200",
         "88000.0",
         "Hyderabad",
         "21914.0",
         "First Owner",
         "3.0",
         "200.0",
         "Bajaj"
        ],
        [
         "31",
         "Yamaha YZF-R15 2.0 150cc",
         "80000.0",
         "Kaithal",
         "20000.0",
         "Second Owner",
         "4.0",
         "150.0",
         "Yamaha"
        ],
        [
         "32",
         "Bajaj Avenger 220cc",
         "40900.0",
         "Gurgaon",
         "15000.0",
         "First Owner",
         "6.0",
         "220.0",
         "Bajaj"
        ],
        [
         "33",
         "KTM RC 390cc",
         "180000.0",
         "Pune",
         "17700.0",
         "First Owner",
         "4.0",
         "390.0",
         "KTM"
        ],
        [
         "34",
         "Honda CB Unicorn 150cc",
         "40000.0",
         "Noida",
         "30000.0",
         "First Owner",
         "8.0",
         "150.0",
         "Honda"
        ],
        [
         "35",
         "KTM Duke 200cc",
         "70000.0",
         "Nashik",
         "100000.0",
         "Second Owner",
         "8.0",
         "200.0",
         "KTM"
        ],
        [
         "36",
         "Royal Enfield Classic 350cc",
         "98800.0",
         "Kochi",
         "39000.0",
         "First Owner",
         "5.0",
         "350.0",
         "Royal Enfield"
        ],
        [
         "37",
         "Honda CBR 150R 150cc",
         "65000.0",
         "Allahabad",
         "43000.0",
         "First Owner",
         "6.0",
         "150.0",
         "Honda"
        ],
        [
         "38",
         "Royal Enfield Thunderbird X 500cc",
         "190500.0",
         "Samastipur",
         "4550.0",
         "First Owner",
         "2.0",
         "500.0",
         "Royal Enfield"
        ],
        [
         "39",
         "KTM RC 200cc ABS",
         "179000.0",
         "Bangalore",
         "3400.0",
         "First Owner",
         "2.0",
         "200.0",
         "KTM"
        ],
        [
         "40",
         "Royal Enfield Thunderbird 350cc",
         "70000.0",
         "Nadiad",
         "45000.0",
         "First Owner",
         "8.0",
         "350.0",
         "Royal Enfield"
        ],
        [
         "41",
         "Bajaj Avenger 220cc",
         "45000.0",
         "Hyderabad",
         "36100.0",
         "First Owner",
         "6.0",
         "220.0",
         "Bajaj"
        ],
        [
         "42",
         "Royal Enfield Bullet Electra 350cc",
         "78000.0",
         "Lucknow",
         "8500.0",
         "First Owner",
         "13.0",
         "350.0",
         "Royal Enfield"
        ],
        [
         "43",
         "Bajaj Avenger Street 220 ABS",
         "110000.0",
         "Bangalore",
         "2550.0",
         "First Owner",
         "2.0",
         "220.0",
         "Bajaj"
        ],
        [
         "44",
         "Royal Enfield Classic 350cc",
         "85000.0",
         "Delhi",
         "18000.0",
         "First Owner",
         "6.0",
         "350.0",
         "Royal Enfield"
        ],
        [
         "45",
         "Bajaj Pulsar NS200",
         "38000.0",
         "Delhi",
         "35000.0",
         "First Owner",
         "9.0",
         "200.0",
         "Bajaj"
        ],
        [
         "46",
         "Royal Enfield Thunderbird 350cc",
         "55346.0",
         "Noida",
         "38000.0",
         "First Owner",
         "10.0",
         "350.0",
         "Royal Enfield"
        ],
        [
         "47",
         "Mahindra Centuro NXT 110cc",
         "28000.0",
         "Jaipur",
         "45000.0",
         "First Owner",
         "2.0",
         "110.0",
         "Mahindra"
        ],
        [
         "48",
         "Hero Hunk 150cc",
         "37000.0",
         "Mumbai",
         "10800.0",
         "First Owner",
         "8.0",
         "150.0",
         "Hero"
        ],
        [
         "49",
         "Suzuki Gixxer SF Fi 150cc SP ABS",
         "97000.0",
         "Delhi",
         "4400.0",
         "First Owner",
         "3.0",
         "150.0",
         "Suzuki"
        ],
        [
         "50",
         "Yamaha FZ 150cc",
         "40000.0",
         "Karnal",
         "357000.0",
         "First Owner",
         "8.0",
         "150.0",
         "Yamaha"
        ],
        [
         "51",
         "Royal Enfield‎ Bullet 350cc",
         "90000.0",
         "Delhi",
         "15300.0",
         "First Owner",
         "7.0",
         "350.0",
         "Royal Enfield"
        ],
        [
         "52",
         "TVS Apache RTR 160cc",
         "60000.0",
         "Mumbai",
         "30000.0",
         "First Owner",
         "5.0",
         "160.0",
         "TVS"
        ],
        [
         "53",
         "Honda CB Shine 125cc",
         "21900.0",
         "Gorakhpur",
         "30000.0",
         "Second Owner",
         "7.0",
         "125.0",
         "Honda"
        ]
       ],
       "shape": {
        "columns": 8,
        "rows": 7324
       }
      },
      "text/html": [
       "<div>\n",
       "<style scoped>\n",
       "    .dataframe tbody tr th:only-of-type {\n",
       "        vertical-align: middle;\n",
       "    }\n",
       "\n",
       "    .dataframe tbody tr th {\n",
       "        vertical-align: top;\n",
       "    }\n",
       "\n",
       "    .dataframe thead th {\n",
       "        text-align: right;\n",
       "    }\n",
       "</style>\n",
       "<table border=\"1\" class=\"dataframe\">\n",
       "  <thead>\n",
       "    <tr style=\"text-align: right;\">\n",
       "      <th></th>\n",
       "      <th>bike_name</th>\n",
       "      <th>price</th>\n",
       "      <th>city</th>\n",
       "      <th>kms_driven</th>\n",
       "      <th>owner</th>\n",
       "      <th>age</th>\n",
       "      <th>power</th>\n",
       "      <th>brand</th>\n",
       "    </tr>\n",
       "  </thead>\n",
       "  <tbody>\n",
       "    <tr>\n",
       "      <th>0</th>\n",
       "      <td>TVS Star City Plus Dual Tone 110cc</td>\n",
       "      <td>35000.0</td>\n",
       "      <td>Ahmedabad</td>\n",
       "      <td>17654.0</td>\n",
       "      <td>First Owner</td>\n",
       "      <td>3.0</td>\n",
       "      <td>110.0</td>\n",
       "      <td>TVS</td>\n",
       "    </tr>\n",
       "    <tr>\n",
       "      <th>1</th>\n",
       "      <td>Royal Enfield Classic 350cc</td>\n",
       "      <td>119900.0</td>\n",
       "      <td>Delhi</td>\n",
       "      <td>11000.0</td>\n",
       "      <td>First Owner</td>\n",
       "      <td>4.0</td>\n",
       "      <td>350.0</td>\n",
       "      <td>Royal Enfield</td>\n",
       "    </tr>\n",
       "    <tr>\n",
       "      <th>2</th>\n",
       "      <td>Triumph Daytona 675R</td>\n",
       "      <td>600000.0</td>\n",
       "      <td>Delhi</td>\n",
       "      <td>110.0</td>\n",
       "      <td>First Owner</td>\n",
       "      <td>8.0</td>\n",
       "      <td>675.0</td>\n",
       "      <td>Triumph</td>\n",
       "    </tr>\n",
       "    <tr>\n",
       "      <th>3</th>\n",
       "      <td>TVS Apache RTR 180cc</td>\n",
       "      <td>65000.0</td>\n",
       "      <td>Bangalore</td>\n",
       "      <td>16329.0</td>\n",
       "      <td>First Owner</td>\n",
       "      <td>4.0</td>\n",
       "      <td>180.0</td>\n",
       "      <td>TVS</td>\n",
       "    </tr>\n",
       "    <tr>\n",
       "      <th>4</th>\n",
       "      <td>Yamaha FZ S V 2.0 150cc-Ltd. Edition</td>\n",
       "      <td>80000.0</td>\n",
       "      <td>Bangalore</td>\n",
       "      <td>10000.0</td>\n",
       "      <td>First Owner</td>\n",
       "      <td>3.0</td>\n",
       "      <td>150.0</td>\n",
       "      <td>Yamaha</td>\n",
       "    </tr>\n",
       "    <tr>\n",
       "      <th>...</th>\n",
       "      <td>...</td>\n",
       "      <td>...</td>\n",
       "      <td>...</td>\n",
       "      <td>...</td>\n",
       "      <td>...</td>\n",
       "      <td>...</td>\n",
       "      <td>...</td>\n",
       "      <td>...</td>\n",
       "    </tr>\n",
       "    <tr>\n",
       "      <th>9362</th>\n",
       "      <td>Hero Hunk Rear Disc 150cc</td>\n",
       "      <td>25000.0</td>\n",
       "      <td>Delhi</td>\n",
       "      <td>48587.0</td>\n",
       "      <td>First Owner</td>\n",
       "      <td>8.0</td>\n",
       "      <td>150.0</td>\n",
       "      <td>Hero</td>\n",
       "    </tr>\n",
       "    <tr>\n",
       "      <th>9369</th>\n",
       "      <td>Bajaj Avenger 220cc</td>\n",
       "      <td>35000.0</td>\n",
       "      <td>Bangalore</td>\n",
       "      <td>60000.0</td>\n",
       "      <td>First Owner</td>\n",
       "      <td>9.0</td>\n",
       "      <td>220.0</td>\n",
       "      <td>Bajaj</td>\n",
       "    </tr>\n",
       "    <tr>\n",
       "      <th>9370</th>\n",
       "      <td>Harley-Davidson Street 750 ABS</td>\n",
       "      <td>450000.0</td>\n",
       "      <td>Jodhpur</td>\n",
       "      <td>3430.0</td>\n",
       "      <td>First Owner</td>\n",
       "      <td>4.0</td>\n",
       "      <td>750.0</td>\n",
       "      <td>Harley-Davidson</td>\n",
       "    </tr>\n",
       "    <tr>\n",
       "      <th>9371</th>\n",
       "      <td>Bajaj Dominar 400 ABS</td>\n",
       "      <td>139000.0</td>\n",
       "      <td>Hyderabad</td>\n",
       "      <td>21300.0</td>\n",
       "      <td>First Owner</td>\n",
       "      <td>4.0</td>\n",
       "      <td>400.0</td>\n",
       "      <td>Bajaj</td>\n",
       "    </tr>\n",
       "    <tr>\n",
       "      <th>9372</th>\n",
       "      <td>Bajaj Avenger Street 220</td>\n",
       "      <td>80000.0</td>\n",
       "      <td>Hyderabad</td>\n",
       "      <td>7127.0</td>\n",
       "      <td>First Owner</td>\n",
       "      <td>5.0</td>\n",
       "      <td>220.0</td>\n",
       "      <td>Bajaj</td>\n",
       "    </tr>\n",
       "  </tbody>\n",
       "</table>\n",
       "<p>7324 rows × 8 columns</p>\n",
       "</div>"
      ],
      "text/plain": [
       "                                 bike_name     price       city  kms_driven  \\\n",
       "0       TVS Star City Plus Dual Tone 110cc   35000.0  Ahmedabad     17654.0   \n",
       "1              Royal Enfield Classic 350cc  119900.0      Delhi     11000.0   \n",
       "2                     Triumph Daytona 675R  600000.0      Delhi       110.0   \n",
       "3                     TVS Apache RTR 180cc   65000.0  Bangalore     16329.0   \n",
       "4     Yamaha FZ S V 2.0 150cc-Ltd. Edition   80000.0  Bangalore     10000.0   \n",
       "...                                    ...       ...        ...         ...   \n",
       "9362             Hero Hunk Rear Disc 150cc   25000.0      Delhi     48587.0   \n",
       "9369                   Bajaj Avenger 220cc   35000.0  Bangalore     60000.0   \n",
       "9370        Harley-Davidson Street 750 ABS  450000.0    Jodhpur      3430.0   \n",
       "9371                 Bajaj Dominar 400 ABS  139000.0  Hyderabad     21300.0   \n",
       "9372              Bajaj Avenger Street 220   80000.0  Hyderabad      7127.0   \n",
       "\n",
       "            owner  age  power            brand  \n",
       "0     First Owner  3.0  110.0              TVS  \n",
       "1     First Owner  4.0  350.0    Royal Enfield  \n",
       "2     First Owner  8.0  675.0          Triumph  \n",
       "3     First Owner  4.0  180.0              TVS  \n",
       "4     First Owner  3.0  150.0           Yamaha  \n",
       "...           ...  ...    ...              ...  \n",
       "9362  First Owner  8.0  150.0             Hero  \n",
       "9369  First Owner  9.0  220.0            Bajaj  \n",
       "9370  First Owner  4.0  750.0  Harley-Davidson  \n",
       "9371  First Owner  4.0  400.0            Bajaj  \n",
       "9372  First Owner  5.0  220.0            Bajaj  \n",
       "\n",
       "[7324 rows x 8 columns]"
      ]
     },
     "execution_count": 37,
     "metadata": {},
     "output_type": "execute_result"
    }
   ],
   "source": [
    "df"
   ]
  },
  {
   "cell_type": "code",
   "execution_count": null,
   "id": "a3d26045",
   "metadata": {},
   "outputs": [],
   "source": [
    "from sklearn.preprocessing import LabelEncoder\n",
    "le =LabelEncoder()\n",
    "\n",
    "df['brand'] =le.fit_transform(df['brand'])"
   ]
  },
  {
   "cell_type": "code",
   "execution_count": null,
   "id": "afe81e9a",
   "metadata": {},
   "outputs": [
    {
     "data": {
      "application/vnd.microsoft.datawrangler.viewer.v0+json": {
       "columns": [
        {
         "name": "index",
         "rawType": "int64",
         "type": "integer"
        },
        {
         "name": "price",
         "rawType": "float64",
         "type": "float"
        },
        {
         "name": "kilometer",
         "rawType": "float64",
         "type": "float"
        },
        {
         "name": "age",
         "rawType": "float64",
         "type": "float"
        },
        {
         "name": "power",
         "rawType": "float64",
         "type": "float"
        }
       ],
       "ref": "375c4334-b8c2-41c3-bdbb-64db5d5b4af6",
       "rows": [
        [
         "0",
         "35000.0",
         "17654.0",
         "3.0",
         "110.0"
        ],
        [
         "1",
         "119900.0",
         "11000.0",
         "4.0",
         "350.0"
        ],
        [
         "2",
         "600000.0",
         "110.0",
         "8.0",
         "675.0"
        ],
        [
         "3",
         "65000.0",
         "16329.0",
         "4.0",
         "180.0"
        ],
        [
         "4",
         "80000.0",
         "10000.0",
         "3.0",
         "150.0"
        ],
        [
         "5",
         "53499.0",
         "25000.0",
         "6.0",
         "150.0"
        ],
        [
         "6",
         "85000.0",
         "8200.0",
         "3.0",
         "160.0"
        ],
        [
         "7",
         "45000.0",
         "12645.0",
         "3.0",
         "100.0"
        ],
        [
         "8",
         "145000.0",
         "9190.0",
         "3.0",
         "350.0"
        ],
        [
         "9",
         "88000.0",
         "19000.0",
         "7.0",
         "500.0"
        ],
        [
         "10",
         "72000.0",
         "20000.0",
         "7.0",
         "150.0"
        ],
        [
         "11",
         "95000.0",
         "9665.0",
         "4.0",
         "250.0"
        ],
        [
         "12",
         "78000.0",
         "9900.0",
         "4.0",
         "200.0"
        ],
        [
         "13",
         "29499.0",
         "20000.0",
         "8.0",
         "100.0"
        ],
        [
         "14",
         "29900.0",
         "20000.0",
         "7.0",
         "125.0"
        ],
        [
         "15",
         "90000.0",
         "11574.0",
         "3.0",
         "200.0"
        ],
        [
         "16",
         "120000.0",
         "23000.0",
         "3.0",
         "200.0"
        ],
        [
         "17",
         "48000.0",
         "24725.0",
         "5.0",
         "150.0"
        ],
        [
         "18",
         "240000.0",
         "15025.0",
         "3.0",
         "302.0"
        ],
        [
         "22",
         "46500.0",
         "3500.0",
         "2.0",
         "110.0"
        ],
        [
         "23",
         "121700.0",
         "24520.0",
         "5.0",
         "500.0"
        ],
        [
         "24",
         "45000.0",
         "23000.0",
         "6.0",
         "150.0"
        ],
        [
         "26",
         "20000.0",
         "29305.0",
         "16.0",
         "125.0"
        ],
        [
         "27",
         "20800.0",
         "30500.0",
         "7.0",
         "125.0"
        ],
        [
         "28",
         "50000.0",
         "19000.0",
         "8.0",
         "150.0"
        ],
        [
         "29",
         "81200.0",
         "9100.0",
         "2.0",
         "160.0"
        ],
        [
         "30",
         "88000.0",
         "21914.0",
         "3.0",
         "200.0"
        ],
        [
         "31",
         "80000.0",
         "20000.0",
         "4.0",
         "150.0"
        ],
        [
         "32",
         "40900.0",
         "15000.0",
         "6.0",
         "220.0"
        ],
        [
         "33",
         "180000.0",
         "17700.0",
         "4.0",
         "390.0"
        ],
        [
         "34",
         "40000.0",
         "30000.0",
         "8.0",
         "150.0"
        ],
        [
         "35",
         "70000.0",
         "100000.0",
         "8.0",
         "200.0"
        ],
        [
         "36",
         "98800.0",
         "39000.0",
         "5.0",
         "350.0"
        ],
        [
         "37",
         "65000.0",
         "43000.0",
         "6.0",
         "150.0"
        ],
        [
         "38",
         "190500.0",
         "4550.0",
         "2.0",
         "500.0"
        ],
        [
         "39",
         "179000.0",
         "3400.0",
         "2.0",
         "200.0"
        ],
        [
         "40",
         "70000.0",
         "45000.0",
         "8.0",
         "350.0"
        ],
        [
         "41",
         "45000.0",
         "36100.0",
         "6.0",
         "220.0"
        ],
        [
         "42",
         "78000.0",
         "8500.0",
         "13.0",
         "350.0"
        ],
        [
         "43",
         "110000.0",
         "2550.0",
         "2.0",
         "220.0"
        ],
        [
         "44",
         "85000.0",
         "18000.0",
         "6.0",
         "350.0"
        ],
        [
         "45",
         "38000.0",
         "35000.0",
         "9.0",
         "200.0"
        ],
        [
         "46",
         "55346.0",
         "38000.0",
         "10.0",
         "350.0"
        ],
        [
         "47",
         "28000.0",
         "45000.0",
         "2.0",
         "110.0"
        ],
        [
         "48",
         "37000.0",
         "10800.0",
         "8.0",
         "150.0"
        ],
        [
         "49",
         "97000.0",
         "4400.0",
         "3.0",
         "150.0"
        ],
        [
         "50",
         "40000.0",
         "357000.0",
         "8.0",
         "150.0"
        ],
        [
         "51",
         "90000.0",
         "15300.0",
         "7.0",
         "350.0"
        ],
        [
         "52",
         "60000.0",
         "30000.0",
         "5.0",
         "160.0"
        ],
        [
         "53",
         "21900.0",
         "30000.0",
         "7.0",
         "125.0"
        ]
       ],
       "shape": {
        "columns": 4,
        "rows": 7324
       }
      },
      "text/html": [
       "<div>\n",
       "<style scoped>\n",
       "    .dataframe tbody tr th:only-of-type {\n",
       "        vertical-align: middle;\n",
       "    }\n",
       "\n",
       "    .dataframe tbody tr th {\n",
       "        vertical-align: top;\n",
       "    }\n",
       "\n",
       "    .dataframe thead th {\n",
       "        text-align: right;\n",
       "    }\n",
       "</style>\n",
       "<table border=\"1\" class=\"dataframe\">\n",
       "  <thead>\n",
       "    <tr style=\"text-align: right;\">\n",
       "      <th></th>\n",
       "      <th>price</th>\n",
       "      <th>kilometer</th>\n",
       "      <th>age</th>\n",
       "      <th>power</th>\n",
       "    </tr>\n",
       "  </thead>\n",
       "  <tbody>\n",
       "    <tr>\n",
       "      <th>0</th>\n",
       "      <td>35000.0</td>\n",
       "      <td>17654.0</td>\n",
       "      <td>3.0</td>\n",
       "      <td>110.0</td>\n",
       "    </tr>\n",
       "    <tr>\n",
       "      <th>1</th>\n",
       "      <td>119900.0</td>\n",
       "      <td>11000.0</td>\n",
       "      <td>4.0</td>\n",
       "      <td>350.0</td>\n",
       "    </tr>\n",
       "    <tr>\n",
       "      <th>2</th>\n",
       "      <td>600000.0</td>\n",
       "      <td>110.0</td>\n",
       "      <td>8.0</td>\n",
       "      <td>675.0</td>\n",
       "    </tr>\n",
       "    <tr>\n",
       "      <th>3</th>\n",
       "      <td>65000.0</td>\n",
       "      <td>16329.0</td>\n",
       "      <td>4.0</td>\n",
       "      <td>180.0</td>\n",
       "    </tr>\n",
       "    <tr>\n",
       "      <th>4</th>\n",
       "      <td>80000.0</td>\n",
       "      <td>10000.0</td>\n",
       "      <td>3.0</td>\n",
       "      <td>150.0</td>\n",
       "    </tr>\n",
       "    <tr>\n",
       "      <th>...</th>\n",
       "      <td>...</td>\n",
       "      <td>...</td>\n",
       "      <td>...</td>\n",
       "      <td>...</td>\n",
       "    </tr>\n",
       "    <tr>\n",
       "      <th>9362</th>\n",
       "      <td>25000.0</td>\n",
       "      <td>48587.0</td>\n",
       "      <td>8.0</td>\n",
       "      <td>150.0</td>\n",
       "    </tr>\n",
       "    <tr>\n",
       "      <th>9369</th>\n",
       "      <td>35000.0</td>\n",
       "      <td>60000.0</td>\n",
       "      <td>9.0</td>\n",
       "      <td>220.0</td>\n",
       "    </tr>\n",
       "    <tr>\n",
       "      <th>9370</th>\n",
       "      <td>450000.0</td>\n",
       "      <td>3430.0</td>\n",
       "      <td>4.0</td>\n",
       "      <td>750.0</td>\n",
       "    </tr>\n",
       "    <tr>\n",
       "      <th>9371</th>\n",
       "      <td>139000.0</td>\n",
       "      <td>21300.0</td>\n",
       "      <td>4.0</td>\n",
       "      <td>400.0</td>\n",
       "    </tr>\n",
       "    <tr>\n",
       "      <th>9372</th>\n",
       "      <td>80000.0</td>\n",
       "      <td>7127.0</td>\n",
       "      <td>5.0</td>\n",
       "      <td>220.0</td>\n",
       "    </tr>\n",
       "  </tbody>\n",
       "</table>\n",
       "<p>7324 rows × 4 columns</p>\n",
       "</div>"
      ],
      "text/plain": [
       "         price  kilometer  age  power\n",
       "0      35000.0    17654.0  3.0  110.0\n",
       "1     119900.0    11000.0  4.0  350.0\n",
       "2     600000.0      110.0  8.0  675.0\n",
       "3      65000.0    16329.0  4.0  180.0\n",
       "4      80000.0    10000.0  3.0  150.0\n",
       "...        ...        ...  ...    ...\n",
       "9362   25000.0    48587.0  8.0  150.0\n",
       "9369   35000.0    60000.0  9.0  220.0\n",
       "9370  450000.0     3430.0  4.0  750.0\n",
       "9371  139000.0    21300.0  4.0  400.0\n",
       "9372   80000.0     7127.0  5.0  220.0\n",
       "\n",
       "[7324 rows x 4 columns]"
      ]
     },
     "execution_count": 39,
     "metadata": {},
     "output_type": "execute_result"
    }
   ],
   "source": [
    "char"
   ]
  },
  {
   "cell_type": "code",
   "execution_count": null,
   "id": "400ff7f0",
   "metadata": {},
   "outputs": [
    {
     "data": {
      "application/vnd.microsoft.datawrangler.viewer.v0+json": {
       "columns": [
        {
         "name": "index",
         "rawType": "int64",
         "type": "integer"
        },
        {
         "name": "bike_name",
         "rawType": "object",
         "type": "string"
        },
        {
         "name": "price",
         "rawType": "float64",
         "type": "float"
        },
        {
         "name": "city",
         "rawType": "object",
         "type": "string"
        },
        {
         "name": "kms_driven",
         "rawType": "float64",
         "type": "float"
        },
        {
         "name": "owner",
         "rawType": "object",
         "type": "string"
        },
        {
         "name": "age",
         "rawType": "float64",
         "type": "float"
        },
        {
         "name": "power",
         "rawType": "float64",
         "type": "float"
        },
        {
         "name": "brand",
         "rawType": "int64",
         "type": "integer"
        }
       ],
       "ref": "369a21f5-b814-43c9-b098-76668a7ecca5",
       "rows": [
        [
         "0",
         "TVS Star City Plus Dual Tone 110cc",
         "35000.0",
         "Ahmedabad",
         "17654.0",
         "First Owner",
         "3.0",
         "110.0",
         "19"
        ],
        [
         "1",
         "Royal Enfield Classic 350cc",
         "119900.0",
         "Delhi",
         "11000.0",
         "First Owner",
         "4.0",
         "350.0",
         "17"
        ],
        [
         "2",
         "Triumph Daytona 675R",
         "600000.0",
         "Delhi",
         "110.0",
         "First Owner",
         "8.0",
         "675.0",
         "20"
        ],
        [
         "3",
         "TVS Apache RTR 180cc",
         "65000.0",
         "Bangalore",
         "16329.0",
         "First Owner",
         "4.0",
         "180.0",
         "19"
        ],
        [
         "4",
         "Yamaha FZ S V 2.0 150cc-Ltd. Edition",
         "80000.0",
         "Bangalore",
         "10000.0",
         "First Owner",
         "3.0",
         "150.0",
         "21"
        ],
        [
         "5",
         "Yamaha FZs 150cc",
         "53499.0",
         "Delhi",
         "25000.0",
         "First Owner",
         "6.0",
         "150.0",
         "21"
        ],
        [
         "6",
         "Honda CB Hornet 160R  ABS DLX",
         "85000.0",
         "Delhi",
         "8200.0",
         "First Owner",
         "3.0",
         "160.0",
         "6"
        ],
        [
         "7",
         "Hero Splendor Plus Self Alloy 100cc",
         "45000.0",
         "Delhi",
         "12645.0",
         "First Owner",
         "3.0",
         "100.0",
         "5"
        ],
        [
         "8",
         "Royal Enfield Thunderbird X 350cc",
         "145000.0",
         "Bangalore",
         "9190.0",
         "First Owner",
         "3.0",
         "350.0",
         "17"
        ],
        [
         "9",
         "Royal Enfield Classic Desert Storm 500cc",
         "88000.0",
         "Delhi",
         "19000.0",
         "Second Owner",
         "7.0",
         "500.0",
         "17"
        ],
        [
         "10",
         "Yamaha YZF-R15 2.0 150cc",
         "72000.0",
         "Bangalore",
         "20000.0",
         "First Owner",
         "7.0",
         "150.0",
         "21"
        ],
        [
         "11",
         "Yamaha FZ25 250cc",
         "95000.0",
         "Bangalore",
         "9665.0",
         "First Owner",
         "4.0",
         "250.0",
         "21"
        ],
        [
         "12",
         "Bajaj Pulsar NS200",
         "78000.0",
         "Bangalore",
         "9900.0",
         "First Owner",
         "4.0",
         "200.0",
         "1"
        ],
        [
         "13",
         "Bajaj Discover 100M",
         "29499.0",
         "Delhi",
         "20000.0",
         "First Owner",
         "8.0",
         "100.0",
         "1"
        ],
        [
         "14",
         "Bajaj Discover 125M",
         "29900.0",
         "Delhi",
         "20000.0",
         "First Owner",
         "7.0",
         "125.0",
         "1"
        ],
        [
         "15",
         "Bajaj Pulsar NS200 ABS",
         "90000.0",
         "Bangalore",
         "11574.0",
         "First Owner",
         "3.0",
         "200.0",
         "1"
        ],
        [
         "16",
         "Bajaj Pulsar RS200 ABS",
         "120000.0",
         "Bangalore",
         "23000.0",
         "First Owner",
         "3.0",
         "200.0",
         "1"
        ],
        [
         "17",
         "Suzuki Gixxer SF 150cc",
         "48000.0",
         "Mumbai",
         "24725.0",
         "First Owner",
         "5.0",
         "150.0",
         "18"
        ],
        [
         "18",
         "Benelli 302R 300CC",
         "240000.0",
         "Mumbai",
         "15025.0",
         "Second Owner",
         "3.0",
         "302.0",
         "2"
        ],
        [
         "22",
         "Hero Splendor iSmart Plus IBS 110cc",
         "46500.0",
         "Delhi",
         "3500.0",
         "First Owner",
         "2.0",
         "110.0",
         "5"
        ],
        [
         "23",
         "Royal Enfield Classic Chrome 500cc",
         "121700.0",
         "Kalyan",
         "24520.0",
         "First Owner",
         "5.0",
         "500.0",
         "17"
        ],
        [
         "24",
         "Yamaha FZ V 2.0 150cc",
         "45000.0",
         "Delhi",
         "23000.0",
         "First Owner",
         "6.0",
         "150.0",
         "21"
        ],
        [
         "26",
         "Hero Super Splendor 125cc",
         "20000.0",
         "Ahmedabad",
         "29305.0",
         "First Owner",
         "16.0",
         "125.0",
         "5"
        ],
        [
         "27",
         "Honda CBF Stunner 125cc",
         "20800.0",
         "Faridabad",
         "30500.0",
         "Second Owner",
         "7.0",
         "125.0",
         "6"
        ],
        [
         "28",
         "Bajaj Pulsar 150cc",
         "50000.0",
         "Bangalore",
         "19000.0",
         "First Owner",
         "8.0",
         "150.0",
         "1"
        ],
        [
         "29",
         "Honda X-Blade 160CC ABS",
         "81200.0",
         "Mettur",
         "9100.0",
         "First Owner",
         "2.0",
         "160.0",
         "6"
        ],
        [
         "30",
         "Bajaj Pulsar NS200",
         "88000.0",
         "Hyderabad",
         "21914.0",
         "First Owner",
         "3.0",
         "200.0",
         "1"
        ],
        [
         "31",
         "Yamaha YZF-R15 2.0 150cc",
         "80000.0",
         "Kaithal",
         "20000.0",
         "Second Owner",
         "4.0",
         "150.0",
         "21"
        ],
        [
         "32",
         "Bajaj Avenger 220cc",
         "40900.0",
         "Gurgaon",
         "15000.0",
         "First Owner",
         "6.0",
         "220.0",
         "1"
        ],
        [
         "33",
         "KTM RC 390cc",
         "180000.0",
         "Pune",
         "17700.0",
         "First Owner",
         "4.0",
         "390.0",
         "11"
        ],
        [
         "34",
         "Honda CB Unicorn 150cc",
         "40000.0",
         "Noida",
         "30000.0",
         "First Owner",
         "8.0",
         "150.0",
         "6"
        ],
        [
         "35",
         "KTM Duke 200cc",
         "70000.0",
         "Nashik",
         "100000.0",
         "Second Owner",
         "8.0",
         "200.0",
         "11"
        ],
        [
         "36",
         "Royal Enfield Classic 350cc",
         "98800.0",
         "Kochi",
         "39000.0",
         "First Owner",
         "5.0",
         "350.0",
         "17"
        ],
        [
         "37",
         "Honda CBR 150R 150cc",
         "65000.0",
         "Allahabad",
         "43000.0",
         "First Owner",
         "6.0",
         "150.0",
         "6"
        ],
        [
         "38",
         "Royal Enfield Thunderbird X 500cc",
         "190500.0",
         "Samastipur",
         "4550.0",
         "First Owner",
         "2.0",
         "500.0",
         "17"
        ],
        [
         "39",
         "KTM RC 200cc ABS",
         "179000.0",
         "Bangalore",
         "3400.0",
         "First Owner",
         "2.0",
         "200.0",
         "11"
        ],
        [
         "40",
         "Royal Enfield Thunderbird 350cc",
         "70000.0",
         "Nadiad",
         "45000.0",
         "First Owner",
         "8.0",
         "350.0",
         "17"
        ],
        [
         "41",
         "Bajaj Avenger 220cc",
         "45000.0",
         "Hyderabad",
         "36100.0",
         "First Owner",
         "6.0",
         "220.0",
         "1"
        ],
        [
         "42",
         "Royal Enfield Bullet Electra 350cc",
         "78000.0",
         "Lucknow",
         "8500.0",
         "First Owner",
         "13.0",
         "350.0",
         "17"
        ],
        [
         "43",
         "Bajaj Avenger Street 220 ABS",
         "110000.0",
         "Bangalore",
         "2550.0",
         "First Owner",
         "2.0",
         "220.0",
         "1"
        ],
        [
         "44",
         "Royal Enfield Classic 350cc",
         "85000.0",
         "Delhi",
         "18000.0",
         "First Owner",
         "6.0",
         "350.0",
         "17"
        ],
        [
         "45",
         "Bajaj Pulsar NS200",
         "38000.0",
         "Delhi",
         "35000.0",
         "First Owner",
         "9.0",
         "200.0",
         "1"
        ],
        [
         "46",
         "Royal Enfield Thunderbird 350cc",
         "55346.0",
         "Noida",
         "38000.0",
         "First Owner",
         "10.0",
         "350.0",
         "17"
        ],
        [
         "47",
         "Mahindra Centuro NXT 110cc",
         "28000.0",
         "Jaipur",
         "45000.0",
         "First Owner",
         "2.0",
         "110.0",
         "15"
        ],
        [
         "48",
         "Hero Hunk 150cc",
         "37000.0",
         "Mumbai",
         "10800.0",
         "First Owner",
         "8.0",
         "150.0",
         "5"
        ],
        [
         "49",
         "Suzuki Gixxer SF Fi 150cc SP ABS",
         "97000.0",
         "Delhi",
         "4400.0",
         "First Owner",
         "3.0",
         "150.0",
         "18"
        ],
        [
         "50",
         "Yamaha FZ 150cc",
         "40000.0",
         "Karnal",
         "357000.0",
         "First Owner",
         "8.0",
         "150.0",
         "21"
        ],
        [
         "51",
         "Royal Enfield‎ Bullet 350cc",
         "90000.0",
         "Delhi",
         "15300.0",
         "First Owner",
         "7.0",
         "350.0",
         "17"
        ],
        [
         "52",
         "TVS Apache RTR 160cc",
         "60000.0",
         "Mumbai",
         "30000.0",
         "First Owner",
         "5.0",
         "160.0",
         "19"
        ],
        [
         "53",
         "Honda CB Shine 125cc",
         "21900.0",
         "Gorakhpur",
         "30000.0",
         "Second Owner",
         "7.0",
         "125.0",
         "6"
        ]
       ],
       "shape": {
        "columns": 8,
        "rows": 7324
       }
      },
      "text/html": [
       "<div>\n",
       "<style scoped>\n",
       "    .dataframe tbody tr th:only-of-type {\n",
       "        vertical-align: middle;\n",
       "    }\n",
       "\n",
       "    .dataframe tbody tr th {\n",
       "        vertical-align: top;\n",
       "    }\n",
       "\n",
       "    .dataframe thead th {\n",
       "        text-align: right;\n",
       "    }\n",
       "</style>\n",
       "<table border=\"1\" class=\"dataframe\">\n",
       "  <thead>\n",
       "    <tr style=\"text-align: right;\">\n",
       "      <th></th>\n",
       "      <th>bike_name</th>\n",
       "      <th>price</th>\n",
       "      <th>city</th>\n",
       "      <th>kms_driven</th>\n",
       "      <th>owner</th>\n",
       "      <th>age</th>\n",
       "      <th>power</th>\n",
       "      <th>brand</th>\n",
       "    </tr>\n",
       "  </thead>\n",
       "  <tbody>\n",
       "    <tr>\n",
       "      <th>0</th>\n",
       "      <td>TVS Star City Plus Dual Tone 110cc</td>\n",
       "      <td>35000.0</td>\n",
       "      <td>Ahmedabad</td>\n",
       "      <td>17654.0</td>\n",
       "      <td>First Owner</td>\n",
       "      <td>3.0</td>\n",
       "      <td>110.0</td>\n",
       "      <td>19</td>\n",
       "    </tr>\n",
       "    <tr>\n",
       "      <th>1</th>\n",
       "      <td>Royal Enfield Classic 350cc</td>\n",
       "      <td>119900.0</td>\n",
       "      <td>Delhi</td>\n",
       "      <td>11000.0</td>\n",
       "      <td>First Owner</td>\n",
       "      <td>4.0</td>\n",
       "      <td>350.0</td>\n",
       "      <td>17</td>\n",
       "    </tr>\n",
       "    <tr>\n",
       "      <th>2</th>\n",
       "      <td>Triumph Daytona 675R</td>\n",
       "      <td>600000.0</td>\n",
       "      <td>Delhi</td>\n",
       "      <td>110.0</td>\n",
       "      <td>First Owner</td>\n",
       "      <td>8.0</td>\n",
       "      <td>675.0</td>\n",
       "      <td>20</td>\n",
       "    </tr>\n",
       "    <tr>\n",
       "      <th>3</th>\n",
       "      <td>TVS Apache RTR 180cc</td>\n",
       "      <td>65000.0</td>\n",
       "      <td>Bangalore</td>\n",
       "      <td>16329.0</td>\n",
       "      <td>First Owner</td>\n",
       "      <td>4.0</td>\n",
       "      <td>180.0</td>\n",
       "      <td>19</td>\n",
       "    </tr>\n",
       "    <tr>\n",
       "      <th>4</th>\n",
       "      <td>Yamaha FZ S V 2.0 150cc-Ltd. Edition</td>\n",
       "      <td>80000.0</td>\n",
       "      <td>Bangalore</td>\n",
       "      <td>10000.0</td>\n",
       "      <td>First Owner</td>\n",
       "      <td>3.0</td>\n",
       "      <td>150.0</td>\n",
       "      <td>21</td>\n",
       "    </tr>\n",
       "    <tr>\n",
       "      <th>...</th>\n",
       "      <td>...</td>\n",
       "      <td>...</td>\n",
       "      <td>...</td>\n",
       "      <td>...</td>\n",
       "      <td>...</td>\n",
       "      <td>...</td>\n",
       "      <td>...</td>\n",
       "      <td>...</td>\n",
       "    </tr>\n",
       "    <tr>\n",
       "      <th>9362</th>\n",
       "      <td>Hero Hunk Rear Disc 150cc</td>\n",
       "      <td>25000.0</td>\n",
       "      <td>Delhi</td>\n",
       "      <td>48587.0</td>\n",
       "      <td>First Owner</td>\n",
       "      <td>8.0</td>\n",
       "      <td>150.0</td>\n",
       "      <td>5</td>\n",
       "    </tr>\n",
       "    <tr>\n",
       "      <th>9369</th>\n",
       "      <td>Bajaj Avenger 220cc</td>\n",
       "      <td>35000.0</td>\n",
       "      <td>Bangalore</td>\n",
       "      <td>60000.0</td>\n",
       "      <td>First Owner</td>\n",
       "      <td>9.0</td>\n",
       "      <td>220.0</td>\n",
       "      <td>1</td>\n",
       "    </tr>\n",
       "    <tr>\n",
       "      <th>9370</th>\n",
       "      <td>Harley-Davidson Street 750 ABS</td>\n",
       "      <td>450000.0</td>\n",
       "      <td>Jodhpur</td>\n",
       "      <td>3430.0</td>\n",
       "      <td>First Owner</td>\n",
       "      <td>4.0</td>\n",
       "      <td>750.0</td>\n",
       "      <td>4</td>\n",
       "    </tr>\n",
       "    <tr>\n",
       "      <th>9371</th>\n",
       "      <td>Bajaj Dominar 400 ABS</td>\n",
       "      <td>139000.0</td>\n",
       "      <td>Hyderabad</td>\n",
       "      <td>21300.0</td>\n",
       "      <td>First Owner</td>\n",
       "      <td>4.0</td>\n",
       "      <td>400.0</td>\n",
       "      <td>1</td>\n",
       "    </tr>\n",
       "    <tr>\n",
       "      <th>9372</th>\n",
       "      <td>Bajaj Avenger Street 220</td>\n",
       "      <td>80000.0</td>\n",
       "      <td>Hyderabad</td>\n",
       "      <td>7127.0</td>\n",
       "      <td>First Owner</td>\n",
       "      <td>5.0</td>\n",
       "      <td>220.0</td>\n",
       "      <td>1</td>\n",
       "    </tr>\n",
       "  </tbody>\n",
       "</table>\n",
       "<p>7324 rows × 8 columns</p>\n",
       "</div>"
      ],
      "text/plain": [
       "                                 bike_name     price       city  kms_driven  \\\n",
       "0       TVS Star City Plus Dual Tone 110cc   35000.0  Ahmedabad     17654.0   \n",
       "1              Royal Enfield Classic 350cc  119900.0      Delhi     11000.0   \n",
       "2                     Triumph Daytona 675R  600000.0      Delhi       110.0   \n",
       "3                     TVS Apache RTR 180cc   65000.0  Bangalore     16329.0   \n",
       "4     Yamaha FZ S V 2.0 150cc-Ltd. Edition   80000.0  Bangalore     10000.0   \n",
       "...                                    ...       ...        ...         ...   \n",
       "9362             Hero Hunk Rear Disc 150cc   25000.0      Delhi     48587.0   \n",
       "9369                   Bajaj Avenger 220cc   35000.0  Bangalore     60000.0   \n",
       "9370        Harley-Davidson Street 750 ABS  450000.0    Jodhpur      3430.0   \n",
       "9371                 Bajaj Dominar 400 ABS  139000.0  Hyderabad     21300.0   \n",
       "9372              Bajaj Avenger Street 220   80000.0  Hyderabad      7127.0   \n",
       "\n",
       "            owner  age  power  brand  \n",
       "0     First Owner  3.0  110.0     19  \n",
       "1     First Owner  4.0  350.0     17  \n",
       "2     First Owner  8.0  675.0     20  \n",
       "3     First Owner  4.0  180.0     19  \n",
       "4     First Owner  3.0  150.0     21  \n",
       "...           ...  ...    ...    ...  \n",
       "9362  First Owner  8.0  150.0      5  \n",
       "9369  First Owner  9.0  220.0      1  \n",
       "9370  First Owner  4.0  750.0      4  \n",
       "9371  First Owner  4.0  400.0      1  \n",
       "9372  First Owner  5.0  220.0      1  \n",
       "\n",
       "[7324 rows x 8 columns]"
      ]
     },
     "execution_count": 40,
     "metadata": {},
     "output_type": "execute_result"
    }
   ],
   "source": [
    "df\n"
   ]
  },
  {
   "cell_type": "code",
   "execution_count": null,
   "id": "f3c5fb5b",
   "metadata": {},
   "outputs": [],
   "source": [
    "clean_data =pd.concat([num],axis =1)"
   ]
  },
  {
   "cell_type": "code",
   "execution_count": null,
   "id": "376b4bc2",
   "metadata": {},
   "outputs": [
    {
     "data": {
      "application/vnd.microsoft.datawrangler.viewer.v0+json": {
       "columns": [
        {
         "name": "index",
         "rawType": "int64",
         "type": "integer"
        },
        {
         "name": "price",
         "rawType": "float64",
         "type": "float"
        },
        {
         "name": "kilometer",
         "rawType": "float64",
         "type": "float"
        },
        {
         "name": "age",
         "rawType": "float64",
         "type": "float"
        },
        {
         "name": "power",
         "rawType": "float64",
         "type": "float"
        }
       ],
       "ref": "7099ec07-7e02-407e-b464-0048a97e0591",
       "rows": [
        [
         "0",
         "35000.0",
         "17654.0",
         "3.0",
         "110.0"
        ],
        [
         "1",
         "119900.0",
         "11000.0",
         "4.0",
         "350.0"
        ],
        [
         "2",
         "600000.0",
         "110.0",
         "8.0",
         "675.0"
        ],
        [
         "3",
         "65000.0",
         "16329.0",
         "4.0",
         "180.0"
        ],
        [
         "4",
         "80000.0",
         "10000.0",
         "3.0",
         "150.0"
        ],
        [
         "5",
         "53499.0",
         "25000.0",
         "6.0",
         "150.0"
        ],
        [
         "6",
         "85000.0",
         "8200.0",
         "3.0",
         "160.0"
        ],
        [
         "7",
         "45000.0",
         "12645.0",
         "3.0",
         "100.0"
        ],
        [
         "8",
         "145000.0",
         "9190.0",
         "3.0",
         "350.0"
        ],
        [
         "9",
         "88000.0",
         "19000.0",
         "7.0",
         "500.0"
        ],
        [
         "10",
         "72000.0",
         "20000.0",
         "7.0",
         "150.0"
        ],
        [
         "11",
         "95000.0",
         "9665.0",
         "4.0",
         "250.0"
        ],
        [
         "12",
         "78000.0",
         "9900.0",
         "4.0",
         "200.0"
        ],
        [
         "13",
         "29499.0",
         "20000.0",
         "8.0",
         "100.0"
        ],
        [
         "14",
         "29900.0",
         "20000.0",
         "7.0",
         "125.0"
        ],
        [
         "15",
         "90000.0",
         "11574.0",
         "3.0",
         "200.0"
        ],
        [
         "16",
         "120000.0",
         "23000.0",
         "3.0",
         "200.0"
        ],
        [
         "17",
         "48000.0",
         "24725.0",
         "5.0",
         "150.0"
        ],
        [
         "18",
         "240000.0",
         "15025.0",
         "3.0",
         "302.0"
        ],
        [
         "22",
         "46500.0",
         "3500.0",
         "2.0",
         "110.0"
        ],
        [
         "23",
         "121700.0",
         "24520.0",
         "5.0",
         "500.0"
        ],
        [
         "24",
         "45000.0",
         "23000.0",
         "6.0",
         "150.0"
        ],
        [
         "26",
         "20000.0",
         "29305.0",
         "16.0",
         "125.0"
        ],
        [
         "27",
         "20800.0",
         "30500.0",
         "7.0",
         "125.0"
        ],
        [
         "28",
         "50000.0",
         "19000.0",
         "8.0",
         "150.0"
        ],
        [
         "29",
         "81200.0",
         "9100.0",
         "2.0",
         "160.0"
        ],
        [
         "30",
         "88000.0",
         "21914.0",
         "3.0",
         "200.0"
        ],
        [
         "31",
         "80000.0",
         "20000.0",
         "4.0",
         "150.0"
        ],
        [
         "32",
         "40900.0",
         "15000.0",
         "6.0",
         "220.0"
        ],
        [
         "33",
         "180000.0",
         "17700.0",
         "4.0",
         "390.0"
        ],
        [
         "34",
         "40000.0",
         "30000.0",
         "8.0",
         "150.0"
        ],
        [
         "35",
         "70000.0",
         "100000.0",
         "8.0",
         "200.0"
        ],
        [
         "36",
         "98800.0",
         "39000.0",
         "5.0",
         "350.0"
        ],
        [
         "37",
         "65000.0",
         "43000.0",
         "6.0",
         "150.0"
        ],
        [
         "38",
         "190500.0",
         "4550.0",
         "2.0",
         "500.0"
        ],
        [
         "39",
         "179000.0",
         "3400.0",
         "2.0",
         "200.0"
        ],
        [
         "40",
         "70000.0",
         "45000.0",
         "8.0",
         "350.0"
        ],
        [
         "41",
         "45000.0",
         "36100.0",
         "6.0",
         "220.0"
        ],
        [
         "42",
         "78000.0",
         "8500.0",
         "13.0",
         "350.0"
        ],
        [
         "43",
         "110000.0",
         "2550.0",
         "2.0",
         "220.0"
        ],
        [
         "44",
         "85000.0",
         "18000.0",
         "6.0",
         "350.0"
        ],
        [
         "45",
         "38000.0",
         "35000.0",
         "9.0",
         "200.0"
        ],
        [
         "46",
         "55346.0",
         "38000.0",
         "10.0",
         "350.0"
        ],
        [
         "47",
         "28000.0",
         "45000.0",
         "2.0",
         "110.0"
        ],
        [
         "48",
         "37000.0",
         "10800.0",
         "8.0",
         "150.0"
        ],
        [
         "49",
         "97000.0",
         "4400.0",
         "3.0",
         "150.0"
        ],
        [
         "50",
         "40000.0",
         "357000.0",
         "8.0",
         "150.0"
        ],
        [
         "51",
         "90000.0",
         "15300.0",
         "7.0",
         "350.0"
        ],
        [
         "52",
         "60000.0",
         "30000.0",
         "5.0",
         "160.0"
        ],
        [
         "53",
         "21900.0",
         "30000.0",
         "7.0",
         "125.0"
        ]
       ],
       "shape": {
        "columns": 4,
        "rows": 7324
       }
      },
      "text/html": [
       "<div>\n",
       "<style scoped>\n",
       "    .dataframe tbody tr th:only-of-type {\n",
       "        vertical-align: middle;\n",
       "    }\n",
       "\n",
       "    .dataframe tbody tr th {\n",
       "        vertical-align: top;\n",
       "    }\n",
       "\n",
       "    .dataframe thead th {\n",
       "        text-align: right;\n",
       "    }\n",
       "</style>\n",
       "<table border=\"1\" class=\"dataframe\">\n",
       "  <thead>\n",
       "    <tr style=\"text-align: right;\">\n",
       "      <th></th>\n",
       "      <th>price</th>\n",
       "      <th>kilometer</th>\n",
       "      <th>age</th>\n",
       "      <th>power</th>\n",
       "    </tr>\n",
       "  </thead>\n",
       "  <tbody>\n",
       "    <tr>\n",
       "      <th>0</th>\n",
       "      <td>35000.0</td>\n",
       "      <td>17654.0</td>\n",
       "      <td>3.0</td>\n",
       "      <td>110.0</td>\n",
       "    </tr>\n",
       "    <tr>\n",
       "      <th>1</th>\n",
       "      <td>119900.0</td>\n",
       "      <td>11000.0</td>\n",
       "      <td>4.0</td>\n",
       "      <td>350.0</td>\n",
       "    </tr>\n",
       "    <tr>\n",
       "      <th>2</th>\n",
       "      <td>600000.0</td>\n",
       "      <td>110.0</td>\n",
       "      <td>8.0</td>\n",
       "      <td>675.0</td>\n",
       "    </tr>\n",
       "    <tr>\n",
       "      <th>3</th>\n",
       "      <td>65000.0</td>\n",
       "      <td>16329.0</td>\n",
       "      <td>4.0</td>\n",
       "      <td>180.0</td>\n",
       "    </tr>\n",
       "    <tr>\n",
       "      <th>4</th>\n",
       "      <td>80000.0</td>\n",
       "      <td>10000.0</td>\n",
       "      <td>3.0</td>\n",
       "      <td>150.0</td>\n",
       "    </tr>\n",
       "    <tr>\n",
       "      <th>...</th>\n",
       "      <td>...</td>\n",
       "      <td>...</td>\n",
       "      <td>...</td>\n",
       "      <td>...</td>\n",
       "    </tr>\n",
       "    <tr>\n",
       "      <th>9362</th>\n",
       "      <td>25000.0</td>\n",
       "      <td>48587.0</td>\n",
       "      <td>8.0</td>\n",
       "      <td>150.0</td>\n",
       "    </tr>\n",
       "    <tr>\n",
       "      <th>9369</th>\n",
       "      <td>35000.0</td>\n",
       "      <td>60000.0</td>\n",
       "      <td>9.0</td>\n",
       "      <td>220.0</td>\n",
       "    </tr>\n",
       "    <tr>\n",
       "      <th>9370</th>\n",
       "      <td>450000.0</td>\n",
       "      <td>3430.0</td>\n",
       "      <td>4.0</td>\n",
       "      <td>750.0</td>\n",
       "    </tr>\n",
       "    <tr>\n",
       "      <th>9371</th>\n",
       "      <td>139000.0</td>\n",
       "      <td>21300.0</td>\n",
       "      <td>4.0</td>\n",
       "      <td>400.0</td>\n",
       "    </tr>\n",
       "    <tr>\n",
       "      <th>9372</th>\n",
       "      <td>80000.0</td>\n",
       "      <td>7127.0</td>\n",
       "      <td>5.0</td>\n",
       "      <td>220.0</td>\n",
       "    </tr>\n",
       "  </tbody>\n",
       "</table>\n",
       "<p>7324 rows × 4 columns</p>\n",
       "</div>"
      ],
      "text/plain": [
       "         price  kilometer  age  power\n",
       "0      35000.0    17654.0  3.0  110.0\n",
       "1     119900.0    11000.0  4.0  350.0\n",
       "2     600000.0      110.0  8.0  675.0\n",
       "3      65000.0    16329.0  4.0  180.0\n",
       "4      80000.0    10000.0  3.0  150.0\n",
       "...        ...        ...  ...    ...\n",
       "9362   25000.0    48587.0  8.0  150.0\n",
       "9369   35000.0    60000.0  9.0  220.0\n",
       "9370  450000.0     3430.0  4.0  750.0\n",
       "9371  139000.0    21300.0  4.0  400.0\n",
       "9372   80000.0     7127.0  5.0  220.0\n",
       "\n",
       "[7324 rows x 4 columns]"
      ]
     },
     "execution_count": 42,
     "metadata": {},
     "output_type": "execute_result"
    }
   ],
   "source": [
    "clean_data\n"
   ]
  }
 ],
 "metadata": {
  "kernelspec": {
   "display_name": "Python 3",
   "language": "python",
   "name": "python3"
  },
  "language_info": {
   "codemirror_mode": {
    "name": "ipython",
    "version": 3
   },
   "file_extension": ".py",
   "mimetype": "text/x-python",
   "name": "python",
   "nbconvert_exporter": "python",
   "pygments_lexer": "ipython3",
   "version": "3.11.9"
  }
 },
 "nbformat": 4,
 "nbformat_minor": 5
}
