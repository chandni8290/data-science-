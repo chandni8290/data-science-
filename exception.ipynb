{
 "cells": [
  {
   "cell_type": "code",
   "execution_count": null,
   "id": "15a2b766",
   "metadata": {},
   "outputs": [],
   "source": [
    "try:\n",
    "    pass ##main code\n",
    "except:\n",
    "    pass ## error\n",
    "else :\n",
    "    pass ## multiple\n",
    "finally:\n",
    "    pass # all"
   ]
  },
  {
   "cell_type": "code",
   "execution_count": 1,
   "id": "becf9545",
   "metadata": {},
   "outputs": [
    {
     "name": "stdout",
     "output_type": "stream",
     "text": [
      "24\n"
     ]
    }
   ],
   "source": [
    "try:\n",
    "    a = int(input(\"enter a number\"))\n",
    "    b = int(input(\"enter  second number\"))\n",
    "    print(a*b)\n",
    "except ValueError as e:\n",
    "    print(\"Invalid input\",e)"
   ]
  },
  {
   "cell_type": "code",
   "execution_count": 2,
   "id": "f9f23317",
   "metadata": {},
   "outputs": [
    {
     "ename": "SyntaxError",
     "evalue": "invalid syntax (3272909587.py, line 1)",
     "output_type": "error",
     "traceback": [
      "  \u001b[36mCell\u001b[39m\u001b[36m \u001b[39m\u001b[32mIn[2]\u001b[39m\u001b[32m, line 1\u001b[39m\n\u001b[31m    \u001b[39m\u001b[31mpython error handlig task\u001b[39m\n           ^\n\u001b[31mSyntaxError\u001b[39m\u001b[31m:\u001b[39m invalid syntax\n"
     ]
    }
   ],
   "source": [
    "python error handlig task"
   ]
  },
  {
   "cell_type": "code",
   "execution_count": 1,
   "id": "c2c61144",
   "metadata": {},
   "outputs": [
    {
     "name": "stdout",
     "output_type": "stream",
     "text": [
      "0.5\n"
     ]
    }
   ],
   "source": [
    "try:\n",
    "    a = int(input(\"enter a number\"))\n",
    "    b = int(input(\"enter  second number\"))\n",
    "    print(a/b)\n",
    "except ZeroDivisionError as e:\n",
    "    print(e)\n"
   ]
  },
  {
   "cell_type": "code",
   "execution_count": 2,
   "id": "6a83c9a2",
   "metadata": {},
   "outputs": [
    {
     "name": "stdout",
     "output_type": "stream",
     "text": [
      "no error\n",
      "30\n",
      "koi chale na chale me to chalunga\n"
     ]
    }
   ],
   "source": [
    "try:\n",
    "    a = int(input(\"enter a number\"))\n",
    "    b = int(input(\"enter second number\"))\n",
    "except ZeroDivisionError as e:\n",
    "    print(e)\n",
    "else :\n",
    "    print(\"no error\")\n",
    "    print(a*b)\n",
    "finally:\n",
    "    print(\"koi chale na chale me to chalunga\")"
   ]
  },
  {
   "cell_type": "code",
   "execution_count": 4,
   "id": "4f8fde40",
   "metadata": {},
   "outputs": [
    {
     "name": "stdout",
     "output_type": "stream",
     "text": [
      "final_result:- 0.625\n",
      "Thanks for using our service\n"
     ]
    }
   ],
   "source": [
    "try:\n",
    "    num1 = int(input(\"enter a number\"))\n",
    "    num2 = int(input(\"enter a second number\"))\n",
    "    result = num1/num2\n",
    "except ZeroDivisionError as e:\n",
    "    print(e)\n",
    "except ValueError as e:\n",
    "    print(e)\n",
    "except Exception as e:\n",
    "    print(e)\n",
    "else :\n",
    "    print(\"final_result:-\",result)\n",
    "finally:\n",
    "    print(\"Thanks for using our service\")"
   ]
  },
  {
   "cell_type": "markdown",
   "id": "3b707b26",
   "metadata": {},
   "source": []
  },
  {
   "cell_type": "code",
   "execution_count": null,
   "id": "365751c2",
   "metadata": {},
   "outputs": [
    {
     "ename": "SyntaxError",
     "evalue": "expected ':' (1494996697.py, line 3)",
     "output_type": "error",
     "traceback": [
      "  \u001b[36mCell\u001b[39m\u001b[36m \u001b[39m\u001b[32mIn[4]\u001b[39m\u001b[32m, line 3\u001b[39m\n\u001b[31m    \u001b[39m\u001b[31mif True\u001b[39m\n           ^\n\u001b[31mSyntaxError\u001b[39m\u001b[31m:\u001b[39m expected ':'\n"
     ]
    }
   ],
   "source": [
    "## Syntax error\n",
    "\n",
    "if True\n",
    "    print(\"Hello\")# missing colon\n"
   ]
  },
  {
   "cell_type": "code",
   "execution_count": 5,
   "id": "8fd98d44",
   "metadata": {},
   "outputs": [
    {
     "name": "stdout",
     "output_type": "stream",
     "text": [
      "Hello\n"
     ]
    }
   ],
   "source": [
    "if True:\n",
    "    print(\"Hello\")\n",
    "\n",
    "\n"
   ]
  },
  {
   "cell_type": "code",
   "execution_count": null,
   "id": "f83313df",
   "metadata": {},
   "outputs": [
    {
     "ename": "IndentationError",
     "evalue": "expected an indented block after function definition on line 3 (974528679.py, line 4)",
     "output_type": "error",
     "traceback": [
      "  \u001b[36mCell\u001b[39m\u001b[36m \u001b[39m\u001b[32mIn[8]\u001b[39m\u001b[32m, line 4\u001b[39m\n\u001b[31m    \u001b[39m\u001b[31mprint(\"Hello\")\u001b[39m\n    ^\n\u001b[31mIndentationError\u001b[39m\u001b[31m:\u001b[39m expected an indented block after function definition on line 3\n"
     ]
    }
   ],
   "source": [
    "IndentationError\n",
    "\n",
    "def greet():\n",
    "print(\"Hello\")## not properly idented"
   ]
  },
  {
   "cell_type": "code",
   "execution_count": 12,
   "id": "2c26cd4e",
   "metadata": {},
   "outputs": [],
   "source": [
    "def greet():\n",
    "    print(\"Hello\")"
   ]
  },
  {
   "cell_type": "code",
   "execution_count": 11,
   "id": "8b6494ba",
   "metadata": {},
   "outputs": [
    {
     "ename": "NameError",
     "evalue": "name 'x' is not defined",
     "output_type": "error",
     "traceback": [
      "\u001b[31m---------------------------------------------------------------------------\u001b[39m",
      "\u001b[31mNameError\u001b[39m                                 Traceback (most recent call last)",
      "\u001b[36mCell\u001b[39m\u001b[36m \u001b[39m\u001b[32mIn[11]\u001b[39m\u001b[32m, line 3\u001b[39m\n\u001b[32m      1\u001b[39m \u001b[38;5;66;03m## NameError\u001b[39;00m\n\u001b[32m----> \u001b[39m\u001b[32m3\u001b[39m \u001b[38;5;28mprint\u001b[39m(\u001b[43mx\u001b[49m)\u001b[38;5;66;03m###\u001b[39;00m\n",
      "\u001b[31mNameError\u001b[39m: name 'x' is not defined"
     ]
    }
   ],
   "source": [
    "## NameError\n",
    "\n",
    "print(x)###"
   ]
  },
  {
   "cell_type": "code",
   "execution_count": null,
   "id": "1fae182d",
   "metadata": {},
   "outputs": [
    {
     "name": "stdout",
     "output_type": "stream",
     "text": [
      "hello\n"
     ]
    }
   ],
   "source": [
    "print(\"hello\")"
   ]
  },
  {
   "cell_type": "code",
   "execution_count": null,
   "id": "ed7b3741",
   "metadata": {},
   "outputs": [
    {
     "ename": "TypeError",
     "evalue": "can only concatenate str (not \"int\") to str",
     "output_type": "error",
     "traceback": [
      "\u001b[31m---------------------------------------------------------------------------\u001b[39m",
      "\u001b[31mTypeError\u001b[39m                                 Traceback (most recent call last)",
      "\u001b[36mCell\u001b[39m\u001b[36m \u001b[39m\u001b[32mIn[11]\u001b[39m\u001b[32m, line 3\u001b[39m\n\u001b[32m      1\u001b[39m \u001b[38;5;66;03m### TypeError\u001b[39;00m\n\u001b[32m----> \u001b[39m\u001b[32m3\u001b[39m \u001b[38;5;28mprint\u001b[39m(\u001b[33;43m\"\u001b[39;49m\u001b[33;43mAge:\u001b[39;49m\u001b[33;43m\"\u001b[39;49m\u001b[43m \u001b[49m\u001b[43m+\u001b[49m\u001b[43m \u001b[49m\u001b[32;43m25\u001b[39;49m)\n",
      "\u001b[31mTypeError\u001b[39m: can only concatenate str (not \"int\") to str"
     ]
    }
   ],
   "source": [
    "### TypeError\n",
    "\n",
    "print(\"Age:\" + 25)## cannot add str and int"
   ]
  },
  {
   "cell_type": "code",
   "execution_count": null,
   "id": "6dc5a9ee",
   "metadata": {},
   "outputs": [
    {
     "name": "stdout",
     "output_type": "stream",
     "text": [
      "Age: 23\n"
     ]
    }
   ],
   "source": [
    "print(\"Age: \"+ str(23))"
   ]
  },
  {
   "cell_type": "code",
   "execution_count": null,
   "id": "37723d22",
   "metadata": {},
   "outputs": [
    {
     "ename": "ValueError",
     "evalue": "invalid literal for int() with base 10: 'abc'",
     "output_type": "error",
     "traceback": [
      "\u001b[31m---------------------------------------------------------------------------\u001b[39m",
      "\u001b[31mValueError\u001b[39m                                Traceback (most recent call last)",
      "\u001b[36mCell\u001b[39m\u001b[36m \u001b[39m\u001b[32mIn[14]\u001b[39m\u001b[32m, line 2\u001b[39m\n\u001b[32m      1\u001b[39m \u001b[38;5;66;03m##ValuError\u001b[39;00m\n\u001b[32m----> \u001b[39m\u001b[32m2\u001b[39m \u001b[38;5;28;43mint\u001b[39;49m\u001b[43m(\u001b[49m\u001b[33;43m\"\u001b[39;49m\u001b[33;43mabc\u001b[39;49m\u001b[33;43m\"\u001b[39;49m\u001b[43m)\u001b[49m\n",
      "\u001b[31mValueError\u001b[39m: invalid literal for int() with base 10: 'abc'"
     ]
    }
   ],
   "source": [
    "##ValuError\n",
    "int(\"abc\")##cannot convert letter to int"
   ]
  },
  {
   "cell_type": "code",
   "execution_count": null,
   "id": "b42fb9bd",
   "metadata": {},
   "outputs": [
    {
     "data": {
      "text/plain": [
       "123"
      ]
     },
     "execution_count": 1,
     "metadata": {},
     "output_type": "execute_result"
    }
   ],
   "source": [
    "int(\"123\")"
   ]
  },
  {
   "cell_type": "code",
   "execution_count": null,
   "id": "facfe567",
   "metadata": {},
   "outputs": [
    {
     "ename": "ZeroDivisionError",
     "evalue": "division by zero",
     "output_type": "error",
     "traceback": [
      "\u001b[31m---------------------------------------------------------------------------\u001b[39m",
      "\u001b[31mZeroDivisionError\u001b[39m                         Traceback (most recent call last)",
      "\u001b[36mCell\u001b[39m\u001b[36m \u001b[39m\u001b[32mIn[2]\u001b[39m\u001b[32m, line 3\u001b[39m\n\u001b[32m      1\u001b[39m \u001b[38;5;66;03m##ZeroDivisionError\u001b[39;00m\n\u001b[32m----> \u001b[39m\u001b[32m3\u001b[39m \u001b[38;5;28mprint\u001b[39m(\u001b[32;43m10\u001b[39;49m\u001b[43m/\u001b[49m\u001b[32;43m0\u001b[39;49m)\u001b[38;5;66;03m##division ny zero\u001b[39;00m\n",
      "\u001b[31mZeroDivisionError\u001b[39m: division by zero"
     ]
    }
   ],
   "source": [
    "##ZeroDivisionError\n",
    "\n",
    "print(10/0)##division ny zero"
   ]
  },
  {
   "cell_type": "code",
   "execution_count": null,
   "id": "cb7377f1",
   "metadata": {},
   "outputs": [
    {
     "name": "stdout",
     "output_type": "stream",
     "text": [
      "5.0\n"
     ]
    }
   ],
   "source": [
    "print(10/2)"
   ]
  },
  {
   "cell_type": "code",
   "execution_count": null,
   "id": "6f26bcd5",
   "metadata": {},
   "outputs": [
    {
     "ename": "IndexError",
     "evalue": "list index out of range",
     "output_type": "error",
     "traceback": [
      "\u001b[31m---------------------------------------------------------------------------\u001b[39m",
      "\u001b[31mIndexError\u001b[39m                                Traceback (most recent call last)",
      "\u001b[36mCell\u001b[39m\u001b[36m \u001b[39m\u001b[32mIn[4]\u001b[39m\u001b[32m, line 3\u001b[39m\n\u001b[32m      1\u001b[39m \u001b[38;5;66;03m###IndexError\u001b[39;00m\n\u001b[32m      2\u001b[39m lst =[\u001b[32m1\u001b[39m, \u001b[32m2\u001b[39m, \u001b[32m3\u001b[39m]\n\u001b[32m----> \u001b[39m\u001b[32m3\u001b[39m \u001b[38;5;28mprint\u001b[39m(\u001b[43mlst\u001b[49m\u001b[43m[\u001b[49m\u001b[32;43m5\u001b[39;49m\u001b[43m]\u001b[49m)\u001b[38;5;66;03m## index out of range\u001b[39;00m\n",
      "\u001b[31mIndexError\u001b[39m: list index out of range"
     ]
    }
   ],
   "source": [
    "###IndexError\n",
    "lst =[1, 2, 3]\n",
    "print(lst[5])## index out of range"
   ]
  },
  {
   "cell_type": "code",
   "execution_count": null,
   "id": "0e403f97",
   "metadata": {},
   "outputs": [
    {
     "name": "stdout",
     "output_type": "stream",
     "text": [
      "2\n"
     ]
    }
   ],
   "source": [
    "lst = [1, 2, 3]\n",
    "print(lst[1])"
   ]
  },
  {
   "cell_type": "code",
   "execution_count": null,
   "id": "0b41ba50",
   "metadata": {},
   "outputs": [
    {
     "ename": "KeyError",
     "evalue": "'age'",
     "output_type": "error",
     "traceback": [
      "\u001b[31m---------------------------------------------------------------------------\u001b[39m",
      "\u001b[31mKeyError\u001b[39m                                  Traceback (most recent call last)",
      "\u001b[36mCell\u001b[39m\u001b[36m \u001b[39m\u001b[32mIn[6]\u001b[39m\u001b[32m, line 4\u001b[39m\n\u001b[32m      1\u001b[39m \u001b[38;5;66;03m##KeyError\u001b[39;00m\n\u001b[32m      3\u001b[39m data = {\u001b[33m\"\u001b[39m\u001b[33mname\u001b[39m\u001b[33m\"\u001b[39m:\u001b[33m\"\u001b[39m\u001b[33mchandni\u001b[39m\u001b[33m\"\u001b[39m}\n\u001b[32m----> \u001b[39m\u001b[32m4\u001b[39m \u001b[38;5;28mprint\u001b[39m(\u001b[43mdata\u001b[49m\u001b[43m[\u001b[49m\u001b[33;43m\"\u001b[39;49m\u001b[33;43mage\u001b[39;49m\u001b[33;43m\"\u001b[39;49m\u001b[43m]\u001b[49m)\u001b[38;5;66;03m## key 'age' not found\u001b[39;00m\n",
      "\u001b[31mKeyError\u001b[39m: 'age'"
     ]
    }
   ],
   "source": [
    "##KeyError\n",
    "\n",
    "data = {\"name\":\"chandni\"}\n",
    "print(data[\"age\"])## key 'age' not found"
   ]
  },
  {
   "cell_type": "code",
   "execution_count": null,
   "id": "98f6d868",
   "metadata": {},
   "outputs": [
    {
     "name": "stdout",
     "output_type": "stream",
     "text": [
      "chandni\n"
     ]
    }
   ],
   "source": [
    "data = {\"name\":\"chandni\"}\n",
    "print(data[\"name\"])"
   ]
  }
 ],
 "metadata": {
  "kernelspec": {
   "display_name": "Python 3",
   "language": "python",
   "name": "python3"
  },
  "language_info": {
   "codemirror_mode": {
    "name": "ipython",
    "version": 3
   },
   "file_extension": ".py",
   "mimetype": "text/x-python",
   "name": "python",
   "nbconvert_exporter": "python",
   "pygments_lexer": "ipython3",
   "version": "3.11.9"
  }
 },
 "nbformat": 4,
 "nbformat_minor": 5
}
