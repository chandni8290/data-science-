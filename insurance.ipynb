{
 "cells": [
  {
   "cell_type": "code",
   "execution_count": 1,
   "id": "ce0e46c6",
   "metadata": {},
   "outputs": [],
   "source": [
    "import pandas as pd"
   ]
  },
  {
   "cell_type": "code",
   "execution_count": 2,
   "id": "71eb1039",
   "metadata": {},
   "outputs": [],
   "source": [
    "df =pd.read_csv('insurance.csv')"
   ]
  },
  {
   "cell_type": "code",
   "execution_count": 3,
   "id": "6fa85c8a",
   "metadata": {},
   "outputs": [],
   "source": [
    "df =pd.read_csv(r'C:\\Users\\chand\\OneDrive\\Desktop\\Data science\\data-science-ai-and-ml\\projects\\insurance\\insurance.csv')"
   ]
  },
  {
   "cell_type": "code",
   "execution_count": 4,
   "id": "daee54bb",
   "metadata": {},
   "outputs": [
    {
     "name": "stdout",
     "output_type": "stream",
     "text": [
      "<class 'pandas.core.frame.DataFrame'>\n",
      "RangeIndex: 1338 entries, 0 to 1337\n",
      "Data columns (total 7 columns):\n",
      " #   Column    Non-Null Count  Dtype  \n",
      "---  ------    --------------  -----  \n",
      " 0   age       1338 non-null   int64  \n",
      " 1   sex       1338 non-null   object \n",
      " 2   bmi       1338 non-null   float64\n",
      " 3   children  1338 non-null   int64  \n",
      " 4   smoker    1338 non-null   object \n",
      " 5   region    1338 non-null   object \n",
      " 6   charges   1338 non-null   float64\n",
      "dtypes: float64(2), int64(2), object(3)\n",
      "memory usage: 73.3+ KB\n"
     ]
    }
   ],
   "source": [
    "df.info()"
   ]
  },
  {
   "cell_type": "code",
   "execution_count": 5,
   "id": "c5ff362e",
   "metadata": {},
   "outputs": [
    {
     "data": {
      "application/vnd.microsoft.datawrangler.viewer.v0+json": {
       "columns": [
        {
         "name": "index",
         "rawType": "int64",
         "type": "integer"
        },
        {
         "name": "0",
         "rawType": "bool",
         "type": "boolean"
        }
       ],
       "ref": "97e80027-8713-4439-99f2-8270aeec6e11",
       "rows": [
        [
         "0",
         "False"
        ],
        [
         "1",
         "False"
        ],
        [
         "2",
         "False"
        ],
        [
         "3",
         "False"
        ],
        [
         "4",
         "False"
        ],
        [
         "5",
         "False"
        ],
        [
         "6",
         "False"
        ],
        [
         "7",
         "False"
        ],
        [
         "8",
         "False"
        ],
        [
         "9",
         "False"
        ],
        [
         "10",
         "False"
        ],
        [
         "11",
         "False"
        ],
        [
         "12",
         "False"
        ],
        [
         "13",
         "False"
        ],
        [
         "14",
         "False"
        ],
        [
         "15",
         "False"
        ],
        [
         "16",
         "False"
        ],
        [
         "17",
         "False"
        ],
        [
         "18",
         "False"
        ],
        [
         "19",
         "False"
        ],
        [
         "20",
         "False"
        ],
        [
         "21",
         "False"
        ],
        [
         "22",
         "False"
        ],
        [
         "23",
         "False"
        ],
        [
         "24",
         "False"
        ],
        [
         "25",
         "False"
        ],
        [
         "26",
         "False"
        ],
        [
         "27",
         "False"
        ],
        [
         "28",
         "False"
        ],
        [
         "29",
         "False"
        ],
        [
         "30",
         "False"
        ],
        [
         "31",
         "False"
        ],
        [
         "32",
         "False"
        ],
        [
         "33",
         "False"
        ],
        [
         "34",
         "False"
        ],
        [
         "35",
         "False"
        ],
        [
         "36",
         "False"
        ],
        [
         "37",
         "False"
        ],
        [
         "38",
         "False"
        ],
        [
         "39",
         "False"
        ],
        [
         "40",
         "False"
        ],
        [
         "41",
         "False"
        ],
        [
         "42",
         "False"
        ],
        [
         "43",
         "False"
        ],
        [
         "44",
         "False"
        ],
        [
         "45",
         "False"
        ],
        [
         "46",
         "False"
        ],
        [
         "47",
         "False"
        ],
        [
         "48",
         "False"
        ],
        [
         "49",
         "False"
        ]
       ],
       "shape": {
        "columns": 1,
        "rows": 1338
       }
      },
      "text/plain": [
       "0       False\n",
       "1       False\n",
       "2       False\n",
       "3       False\n",
       "4       False\n",
       "        ...  \n",
       "1333    False\n",
       "1334    False\n",
       "1335    False\n",
       "1336    False\n",
       "1337    False\n",
       "Length: 1338, dtype: bool"
      ]
     },
     "execution_count": 5,
     "metadata": {},
     "output_type": "execute_result"
    }
   ],
   "source": [
    "df.duplicated()"
   ]
  },
  {
   "cell_type": "code",
   "execution_count": 6,
   "id": "c23d22c0",
   "metadata": {},
   "outputs": [
    {
     "data": {
      "text/plain": [
       "np.int64(1)"
      ]
     },
     "execution_count": 6,
     "metadata": {},
     "output_type": "execute_result"
    }
   ],
   "source": [
    "df.duplicated().sum()"
   ]
  },
  {
   "cell_type": "code",
   "execution_count": 7,
   "id": "5e2225d5",
   "metadata": {},
   "outputs": [],
   "source": [
    "df.drop_duplicates(inplace=True)"
   ]
  },
  {
   "cell_type": "code",
   "execution_count": 8,
   "id": "580f838d",
   "metadata": {},
   "outputs": [
    {
     "data": {
      "text/plain": [
       "array([False])"
      ]
     },
     "execution_count": 8,
     "metadata": {},
     "output_type": "execute_result"
    }
   ],
   "source": [
    "df.duplicated().unique()"
   ]
  },
  {
   "cell_type": "code",
   "execution_count": 9,
   "id": "388c422d",
   "metadata": {},
   "outputs": [
    {
     "data": {
      "text/plain": [
       "np.int64(0)"
      ]
     },
     "execution_count": 9,
     "metadata": {},
     "output_type": "execute_result"
    }
   ],
   "source": [
    "df.duplicated().sum()"
   ]
  },
  {
   "cell_type": "code",
   "execution_count": 10,
   "id": "36589736",
   "metadata": {},
   "outputs": [
    {
     "data": {
      "application/vnd.microsoft.datawrangler.viewer.v0+json": {
       "columns": [
        {
         "name": "index",
         "rawType": "object",
         "type": "string"
        },
        {
         "name": "age",
         "rawType": "float64",
         "type": "float"
        },
        {
         "name": "bmi",
         "rawType": "float64",
         "type": "float"
        },
        {
         "name": "children",
         "rawType": "float64",
         "type": "float"
        },
        {
         "name": "charges",
         "rawType": "float64",
         "type": "float"
        }
       ],
       "ref": "3efbf92d-fb52-4e3a-9dfc-e2ecb616c1d8",
       "rows": [
        [
         "count",
         "1337.0",
         "1337.0",
         "1337.0",
         "1337.0"
        ],
        [
         "mean",
         "39.222139117427076",
         "30.66345175766642",
         "1.0957367240089753",
         "13279.121486655948"
        ],
        [
         "std",
         "14.044332734156425",
         "6.100468409615801",
         "1.2055714286412176",
         "12110.359656344175"
        ],
        [
         "min",
         "18.0",
         "15.96",
         "0.0",
         "1121.8739"
        ],
        [
         "25%",
         "27.0",
         "26.29",
         "0.0",
         "4746.344"
        ],
        [
         "50%",
         "39.0",
         "30.4",
         "1.0",
         "9386.1613"
        ],
        [
         "75%",
         "51.0",
         "34.7",
         "2.0",
         "16657.71745"
        ],
        [
         "max",
         "64.0",
         "53.13",
         "5.0",
         "63770.42801"
        ]
       ],
       "shape": {
        "columns": 4,
        "rows": 8
       }
      },
      "text/html": [
       "<div>\n",
       "<style scoped>\n",
       "    .dataframe tbody tr th:only-of-type {\n",
       "        vertical-align: middle;\n",
       "    }\n",
       "\n",
       "    .dataframe tbody tr th {\n",
       "        vertical-align: top;\n",
       "    }\n",
       "\n",
       "    .dataframe thead th {\n",
       "        text-align: right;\n",
       "    }\n",
       "</style>\n",
       "<table border=\"1\" class=\"dataframe\">\n",
       "  <thead>\n",
       "    <tr style=\"text-align: right;\">\n",
       "      <th></th>\n",
       "      <th>age</th>\n",
       "      <th>bmi</th>\n",
       "      <th>children</th>\n",
       "      <th>charges</th>\n",
       "    </tr>\n",
       "  </thead>\n",
       "  <tbody>\n",
       "    <tr>\n",
       "      <th>count</th>\n",
       "      <td>1337.000000</td>\n",
       "      <td>1337.000000</td>\n",
       "      <td>1337.000000</td>\n",
       "      <td>1337.000000</td>\n",
       "    </tr>\n",
       "    <tr>\n",
       "      <th>mean</th>\n",
       "      <td>39.222139</td>\n",
       "      <td>30.663452</td>\n",
       "      <td>1.095737</td>\n",
       "      <td>13279.121487</td>\n",
       "    </tr>\n",
       "    <tr>\n",
       "      <th>std</th>\n",
       "      <td>14.044333</td>\n",
       "      <td>6.100468</td>\n",
       "      <td>1.205571</td>\n",
       "      <td>12110.359656</td>\n",
       "    </tr>\n",
       "    <tr>\n",
       "      <th>min</th>\n",
       "      <td>18.000000</td>\n",
       "      <td>15.960000</td>\n",
       "      <td>0.000000</td>\n",
       "      <td>1121.873900</td>\n",
       "    </tr>\n",
       "    <tr>\n",
       "      <th>25%</th>\n",
       "      <td>27.000000</td>\n",
       "      <td>26.290000</td>\n",
       "      <td>0.000000</td>\n",
       "      <td>4746.344000</td>\n",
       "    </tr>\n",
       "    <tr>\n",
       "      <th>50%</th>\n",
       "      <td>39.000000</td>\n",
       "      <td>30.400000</td>\n",
       "      <td>1.000000</td>\n",
       "      <td>9386.161300</td>\n",
       "    </tr>\n",
       "    <tr>\n",
       "      <th>75%</th>\n",
       "      <td>51.000000</td>\n",
       "      <td>34.700000</td>\n",
       "      <td>2.000000</td>\n",
       "      <td>16657.717450</td>\n",
       "    </tr>\n",
       "    <tr>\n",
       "      <th>max</th>\n",
       "      <td>64.000000</td>\n",
       "      <td>53.130000</td>\n",
       "      <td>5.000000</td>\n",
       "      <td>63770.428010</td>\n",
       "    </tr>\n",
       "  </tbody>\n",
       "</table>\n",
       "</div>"
      ],
      "text/plain": [
       "               age          bmi     children       charges\n",
       "count  1337.000000  1337.000000  1337.000000   1337.000000\n",
       "mean     39.222139    30.663452     1.095737  13279.121487\n",
       "std      14.044333     6.100468     1.205571  12110.359656\n",
       "min      18.000000    15.960000     0.000000   1121.873900\n",
       "25%      27.000000    26.290000     0.000000   4746.344000\n",
       "50%      39.000000    30.400000     1.000000   9386.161300\n",
       "75%      51.000000    34.700000     2.000000  16657.717450\n",
       "max      64.000000    53.130000     5.000000  63770.428010"
      ]
     },
     "execution_count": 10,
     "metadata": {},
     "output_type": "execute_result"
    }
   ],
   "source": [
    "df.describe()"
   ]
  },
  {
   "cell_type": "code",
   "execution_count": 11,
   "id": "e39ebea7",
   "metadata": {},
   "outputs": [
    {
     "data": {
      "application/vnd.microsoft.datawrangler.viewer.v0+json": {
       "columns": [
        {
         "name": "index",
         "rawType": "int64",
         "type": "integer"
        },
        {
         "name": "age",
         "rawType": "int64",
         "type": "integer"
        },
        {
         "name": "sex",
         "rawType": "object",
         "type": "string"
        },
        {
         "name": "bmi",
         "rawType": "float64",
         "type": "float"
        },
        {
         "name": "children",
         "rawType": "int64",
         "type": "integer"
        },
        {
         "name": "smoker",
         "rawType": "object",
         "type": "string"
        },
        {
         "name": "region",
         "rawType": "object",
         "type": "string"
        },
        {
         "name": "charges",
         "rawType": "float64",
         "type": "float"
        }
       ],
       "ref": "4c4bc574-5242-49b3-b4ab-92491a90251d",
       "rows": [
        [
         "0",
         "19",
         "female",
         "27.9",
         "0",
         "yes",
         "southwest",
         "16884.924"
        ],
        [
         "1",
         "18",
         "male",
         "33.77",
         "1",
         "no",
         "southeast",
         "1725.5523"
        ],
        [
         "2",
         "28",
         "male",
         "33.0",
         "3",
         "no",
         "southeast",
         "4449.462"
        ],
        [
         "3",
         "33",
         "male",
         "22.705",
         "0",
         "no",
         "northwest",
         "21984.47061"
        ],
        [
         "4",
         "32",
         "male",
         "28.88",
         "0",
         "no",
         "northwest",
         "3866.8552"
        ],
        [
         "5",
         "31",
         "female",
         "25.74",
         "0",
         "no",
         "southeast",
         "3756.6216"
        ],
        [
         "6",
         "46",
         "female",
         "33.44",
         "1",
         "no",
         "southeast",
         "8240.5896"
        ],
        [
         "7",
         "37",
         "female",
         "27.74",
         "3",
         "no",
         "northwest",
         "7281.5056"
        ],
        [
         "8",
         "37",
         "male",
         "29.83",
         "2",
         "no",
         "northeast",
         "6406.4107"
        ],
        [
         "9",
         "60",
         "female",
         "25.84",
         "0",
         "no",
         "northwest",
         "28923.13692"
        ],
        [
         "10",
         "25",
         "male",
         "26.22",
         "0",
         "no",
         "northeast",
         "2721.3208"
        ],
        [
         "11",
         "62",
         "female",
         "26.29",
         "0",
         "yes",
         "southeast",
         "27808.7251"
        ],
        [
         "12",
         "23",
         "male",
         "34.4",
         "0",
         "no",
         "southwest",
         "1826.843"
        ],
        [
         "13",
         "56",
         "female",
         "39.82",
         "0",
         "no",
         "southeast",
         "11090.7178"
        ],
        [
         "14",
         "27",
         "male",
         "42.13",
         "0",
         "yes",
         "southeast",
         "39611.7577"
        ],
        [
         "15",
         "19",
         "male",
         "24.6",
         "1",
         "no",
         "southwest",
         "1837.237"
        ],
        [
         "16",
         "52",
         "female",
         "30.78",
         "1",
         "no",
         "northeast",
         "10797.3362"
        ],
        [
         "17",
         "23",
         "male",
         "23.845",
         "0",
         "no",
         "northeast",
         "2395.17155"
        ],
        [
         "18",
         "56",
         "male",
         "40.3",
         "0",
         "no",
         "southwest",
         "10602.385"
        ],
        [
         "19",
         "30",
         "male",
         "35.3",
         "0",
         "yes",
         "southwest",
         "36837.467"
        ],
        [
         "20",
         "60",
         "female",
         "36.005",
         "0",
         "no",
         "northeast",
         "13228.84695"
        ],
        [
         "21",
         "30",
         "female",
         "32.4",
         "1",
         "no",
         "southwest",
         "4149.736"
        ],
        [
         "22",
         "18",
         "male",
         "34.1",
         "0",
         "no",
         "southeast",
         "1137.011"
        ],
        [
         "23",
         "34",
         "female",
         "31.92",
         "1",
         "yes",
         "northeast",
         "37701.8768"
        ],
        [
         "24",
         "37",
         "male",
         "28.025",
         "2",
         "no",
         "northwest",
         "6203.90175"
        ],
        [
         "25",
         "59",
         "female",
         "27.72",
         "3",
         "no",
         "southeast",
         "14001.1338"
        ],
        [
         "26",
         "63",
         "female",
         "23.085",
         "0",
         "no",
         "northeast",
         "14451.83515"
        ],
        [
         "27",
         "55",
         "female",
         "32.775",
         "2",
         "no",
         "northwest",
         "12268.63225"
        ],
        [
         "28",
         "23",
         "male",
         "17.385",
         "1",
         "no",
         "northwest",
         "2775.19215"
        ],
        [
         "29",
         "31",
         "male",
         "36.3",
         "2",
         "yes",
         "southwest",
         "38711.0"
        ],
        [
         "30",
         "22",
         "male",
         "35.6",
         "0",
         "yes",
         "southwest",
         "35585.576"
        ],
        [
         "31",
         "18",
         "female",
         "26.315",
         "0",
         "no",
         "northeast",
         "2198.18985"
        ],
        [
         "32",
         "19",
         "female",
         "28.6",
         "5",
         "no",
         "southwest",
         "4687.797"
        ],
        [
         "33",
         "63",
         "male",
         "28.31",
         "0",
         "no",
         "northwest",
         "13770.0979"
        ],
        [
         "34",
         "28",
         "male",
         "36.4",
         "1",
         "yes",
         "southwest",
         "51194.55914"
        ],
        [
         "35",
         "19",
         "male",
         "20.425",
         "0",
         "no",
         "northwest",
         "1625.43375"
        ],
        [
         "36",
         "62",
         "female",
         "32.965",
         "3",
         "no",
         "northwest",
         "15612.19335"
        ],
        [
         "37",
         "26",
         "male",
         "20.8",
         "0",
         "no",
         "southwest",
         "2302.3"
        ],
        [
         "38",
         "35",
         "male",
         "36.67",
         "1",
         "yes",
         "northeast",
         "39774.2763"
        ],
        [
         "39",
         "60",
         "male",
         "39.9",
         "0",
         "yes",
         "southwest",
         "48173.361"
        ],
        [
         "40",
         "24",
         "female",
         "26.6",
         "0",
         "no",
         "northeast",
         "3046.062"
        ],
        [
         "41",
         "31",
         "female",
         "36.63",
         "2",
         "no",
         "southeast",
         "4949.7587"
        ],
        [
         "42",
         "41",
         "male",
         "21.78",
         "1",
         "no",
         "southeast",
         "6272.4772"
        ],
        [
         "43",
         "37",
         "female",
         "30.8",
         "2",
         "no",
         "southeast",
         "6313.759"
        ],
        [
         "44",
         "38",
         "male",
         "37.05",
         "1",
         "no",
         "northeast",
         "6079.6715"
        ],
        [
         "45",
         "55",
         "male",
         "37.3",
         "0",
         "no",
         "southwest",
         "20630.28351"
        ],
        [
         "46",
         "18",
         "female",
         "38.665",
         "2",
         "no",
         "northeast",
         "3393.35635"
        ],
        [
         "47",
         "28",
         "female",
         "34.77",
         "0",
         "no",
         "northwest",
         "3556.9223"
        ],
        [
         "48",
         "60",
         "female",
         "24.53",
         "0",
         "no",
         "southeast",
         "12629.8967"
        ],
        [
         "49",
         "36",
         "male",
         "35.2",
         "1",
         "yes",
         "southeast",
         "38709.176"
        ]
       ],
       "shape": {
        "columns": 7,
        "rows": 1337
       }
      },
      "text/html": [
       "<div>\n",
       "<style scoped>\n",
       "    .dataframe tbody tr th:only-of-type {\n",
       "        vertical-align: middle;\n",
       "    }\n",
       "\n",
       "    .dataframe tbody tr th {\n",
       "        vertical-align: top;\n",
       "    }\n",
       "\n",
       "    .dataframe thead th {\n",
       "        text-align: right;\n",
       "    }\n",
       "</style>\n",
       "<table border=\"1\" class=\"dataframe\">\n",
       "  <thead>\n",
       "    <tr style=\"text-align: right;\">\n",
       "      <th></th>\n",
       "      <th>age</th>\n",
       "      <th>sex</th>\n",
       "      <th>bmi</th>\n",
       "      <th>children</th>\n",
       "      <th>smoker</th>\n",
       "      <th>region</th>\n",
       "      <th>charges</th>\n",
       "    </tr>\n",
       "  </thead>\n",
       "  <tbody>\n",
       "    <tr>\n",
       "      <th>0</th>\n",
       "      <td>19</td>\n",
       "      <td>female</td>\n",
       "      <td>27.900</td>\n",
       "      <td>0</td>\n",
       "      <td>yes</td>\n",
       "      <td>southwest</td>\n",
       "      <td>16884.92400</td>\n",
       "    </tr>\n",
       "    <tr>\n",
       "      <th>1</th>\n",
       "      <td>18</td>\n",
       "      <td>male</td>\n",
       "      <td>33.770</td>\n",
       "      <td>1</td>\n",
       "      <td>no</td>\n",
       "      <td>southeast</td>\n",
       "      <td>1725.55230</td>\n",
       "    </tr>\n",
       "    <tr>\n",
       "      <th>2</th>\n",
       "      <td>28</td>\n",
       "      <td>male</td>\n",
       "      <td>33.000</td>\n",
       "      <td>3</td>\n",
       "      <td>no</td>\n",
       "      <td>southeast</td>\n",
       "      <td>4449.46200</td>\n",
       "    </tr>\n",
       "    <tr>\n",
       "      <th>3</th>\n",
       "      <td>33</td>\n",
       "      <td>male</td>\n",
       "      <td>22.705</td>\n",
       "      <td>0</td>\n",
       "      <td>no</td>\n",
       "      <td>northwest</td>\n",
       "      <td>21984.47061</td>\n",
       "    </tr>\n",
       "    <tr>\n",
       "      <th>4</th>\n",
       "      <td>32</td>\n",
       "      <td>male</td>\n",
       "      <td>28.880</td>\n",
       "      <td>0</td>\n",
       "      <td>no</td>\n",
       "      <td>northwest</td>\n",
       "      <td>3866.85520</td>\n",
       "    </tr>\n",
       "    <tr>\n",
       "      <th>...</th>\n",
       "      <td>...</td>\n",
       "      <td>...</td>\n",
       "      <td>...</td>\n",
       "      <td>...</td>\n",
       "      <td>...</td>\n",
       "      <td>...</td>\n",
       "      <td>...</td>\n",
       "    </tr>\n",
       "    <tr>\n",
       "      <th>1333</th>\n",
       "      <td>50</td>\n",
       "      <td>male</td>\n",
       "      <td>30.970</td>\n",
       "      <td>3</td>\n",
       "      <td>no</td>\n",
       "      <td>northwest</td>\n",
       "      <td>10600.54830</td>\n",
       "    </tr>\n",
       "    <tr>\n",
       "      <th>1334</th>\n",
       "      <td>18</td>\n",
       "      <td>female</td>\n",
       "      <td>31.920</td>\n",
       "      <td>0</td>\n",
       "      <td>no</td>\n",
       "      <td>northeast</td>\n",
       "      <td>2205.98080</td>\n",
       "    </tr>\n",
       "    <tr>\n",
       "      <th>1335</th>\n",
       "      <td>18</td>\n",
       "      <td>female</td>\n",
       "      <td>36.850</td>\n",
       "      <td>0</td>\n",
       "      <td>no</td>\n",
       "      <td>southeast</td>\n",
       "      <td>1629.83350</td>\n",
       "    </tr>\n",
       "    <tr>\n",
       "      <th>1336</th>\n",
       "      <td>21</td>\n",
       "      <td>female</td>\n",
       "      <td>25.800</td>\n",
       "      <td>0</td>\n",
       "      <td>no</td>\n",
       "      <td>southwest</td>\n",
       "      <td>2007.94500</td>\n",
       "    </tr>\n",
       "    <tr>\n",
       "      <th>1337</th>\n",
       "      <td>61</td>\n",
       "      <td>female</td>\n",
       "      <td>29.070</td>\n",
       "      <td>0</td>\n",
       "      <td>yes</td>\n",
       "      <td>northwest</td>\n",
       "      <td>29141.36030</td>\n",
       "    </tr>\n",
       "  </tbody>\n",
       "</table>\n",
       "<p>1337 rows × 7 columns</p>\n",
       "</div>"
      ],
      "text/plain": [
       "      age     sex     bmi  children smoker     region      charges\n",
       "0      19  female  27.900         0    yes  southwest  16884.92400\n",
       "1      18    male  33.770         1     no  southeast   1725.55230\n",
       "2      28    male  33.000         3     no  southeast   4449.46200\n",
       "3      33    male  22.705         0     no  northwest  21984.47061\n",
       "4      32    male  28.880         0     no  northwest   3866.85520\n",
       "...   ...     ...     ...       ...    ...        ...          ...\n",
       "1333   50    male  30.970         3     no  northwest  10600.54830\n",
       "1334   18  female  31.920         0     no  northeast   2205.98080\n",
       "1335   18  female  36.850         0     no  southeast   1629.83350\n",
       "1336   21  female  25.800         0     no  southwest   2007.94500\n",
       "1337   61  female  29.070         0    yes  northwest  29141.36030\n",
       "\n",
       "[1337 rows x 7 columns]"
      ]
     },
     "execution_count": 11,
     "metadata": {},
     "output_type": "execute_result"
    }
   ],
   "source": [
    "df\n"
   ]
  },
  {
   "cell_type": "code",
   "execution_count": 12,
   "id": "14437039",
   "metadata": {},
   "outputs": [
    {
     "data": {
      "application/vnd.microsoft.datawrangler.viewer.v0+json": {
       "columns": [
        {
         "name": "index",
         "rawType": "int64",
         "type": "integer"
        },
        {
         "name": "age",
         "rawType": "int64",
         "type": "integer"
        },
        {
         "name": "sex",
         "rawType": "object",
         "type": "string"
        },
        {
         "name": "bmi",
         "rawType": "float64",
         "type": "float"
        },
        {
         "name": "children",
         "rawType": "int64",
         "type": "integer"
        },
        {
         "name": "smoker",
         "rawType": "object",
         "type": "string"
        },
        {
         "name": "region",
         "rawType": "object",
         "type": "string"
        },
        {
         "name": "charges",
         "rawType": "float64",
         "type": "float"
        }
       ],
       "ref": "5728388e-d6bd-4ac6-97f2-c6e9bb058f01",
       "rows": [
        [
         "0",
         "19",
         "female",
         "27.9",
         "0",
         "yes",
         "southwest",
         "16884.924"
        ],
        [
         "1",
         "18",
         "male",
         "33.77",
         "1",
         "no",
         "southeast",
         "1725.5523"
        ],
        [
         "2",
         "28",
         "male",
         "33.0",
         "3",
         "no",
         "southeast",
         "4449.462"
        ],
        [
         "3",
         "33",
         "male",
         "22.705",
         "0",
         "no",
         "northwest",
         "21984.47061"
        ],
        [
         "4",
         "32",
         "male",
         "28.88",
         "0",
         "no",
         "northwest",
         "3866.8552"
        ]
       ],
       "shape": {
        "columns": 7,
        "rows": 5
       }
      },
      "text/html": [
       "<div>\n",
       "<style scoped>\n",
       "    .dataframe tbody tr th:only-of-type {\n",
       "        vertical-align: middle;\n",
       "    }\n",
       "\n",
       "    .dataframe tbody tr th {\n",
       "        vertical-align: top;\n",
       "    }\n",
       "\n",
       "    .dataframe thead th {\n",
       "        text-align: right;\n",
       "    }\n",
       "</style>\n",
       "<table border=\"1\" class=\"dataframe\">\n",
       "  <thead>\n",
       "    <tr style=\"text-align: right;\">\n",
       "      <th></th>\n",
       "      <th>age</th>\n",
       "      <th>sex</th>\n",
       "      <th>bmi</th>\n",
       "      <th>children</th>\n",
       "      <th>smoker</th>\n",
       "      <th>region</th>\n",
       "      <th>charges</th>\n",
       "    </tr>\n",
       "  </thead>\n",
       "  <tbody>\n",
       "    <tr>\n",
       "      <th>0</th>\n",
       "      <td>19</td>\n",
       "      <td>female</td>\n",
       "      <td>27.900</td>\n",
       "      <td>0</td>\n",
       "      <td>yes</td>\n",
       "      <td>southwest</td>\n",
       "      <td>16884.92400</td>\n",
       "    </tr>\n",
       "    <tr>\n",
       "      <th>1</th>\n",
       "      <td>18</td>\n",
       "      <td>male</td>\n",
       "      <td>33.770</td>\n",
       "      <td>1</td>\n",
       "      <td>no</td>\n",
       "      <td>southeast</td>\n",
       "      <td>1725.55230</td>\n",
       "    </tr>\n",
       "    <tr>\n",
       "      <th>2</th>\n",
       "      <td>28</td>\n",
       "      <td>male</td>\n",
       "      <td>33.000</td>\n",
       "      <td>3</td>\n",
       "      <td>no</td>\n",
       "      <td>southeast</td>\n",
       "      <td>4449.46200</td>\n",
       "    </tr>\n",
       "    <tr>\n",
       "      <th>3</th>\n",
       "      <td>33</td>\n",
       "      <td>male</td>\n",
       "      <td>22.705</td>\n",
       "      <td>0</td>\n",
       "      <td>no</td>\n",
       "      <td>northwest</td>\n",
       "      <td>21984.47061</td>\n",
       "    </tr>\n",
       "    <tr>\n",
       "      <th>4</th>\n",
       "      <td>32</td>\n",
       "      <td>male</td>\n",
       "      <td>28.880</td>\n",
       "      <td>0</td>\n",
       "      <td>no</td>\n",
       "      <td>northwest</td>\n",
       "      <td>3866.85520</td>\n",
       "    </tr>\n",
       "  </tbody>\n",
       "</table>\n",
       "</div>"
      ],
      "text/plain": [
       "   age     sex     bmi  children smoker     region      charges\n",
       "0   19  female  27.900         0    yes  southwest  16884.92400\n",
       "1   18    male  33.770         1     no  southeast   1725.55230\n",
       "2   28    male  33.000         3     no  southeast   4449.46200\n",
       "3   33    male  22.705         0     no  northwest  21984.47061\n",
       "4   32    male  28.880         0     no  northwest   3866.85520"
      ]
     },
     "execution_count": 12,
     "metadata": {},
     "output_type": "execute_result"
    }
   ],
   "source": [
    "df.head()"
   ]
  },
  {
   "cell_type": "code",
   "execution_count": 13,
   "id": "39adbe09",
   "metadata": {},
   "outputs": [
    {
     "data": {
      "application/vnd.microsoft.datawrangler.viewer.v0+json": {
       "columns": [
        {
         "name": "index",
         "rawType": "int64",
         "type": "integer"
        },
        {
         "name": "age",
         "rawType": "int64",
         "type": "integer"
        },
        {
         "name": "sex",
         "rawType": "object",
         "type": "string"
        },
        {
         "name": "bmi",
         "rawType": "float64",
         "type": "float"
        },
        {
         "name": "children",
         "rawType": "int64",
         "type": "integer"
        },
        {
         "name": "smoker",
         "rawType": "object",
         "type": "string"
        },
        {
         "name": "region",
         "rawType": "object",
         "type": "string"
        },
        {
         "name": "charges",
         "rawType": "float64",
         "type": "float"
        }
       ],
       "ref": "dacb2535-201b-42e6-8fe4-5931a1d2ec89",
       "rows": [
        [
         "1333",
         "50",
         "male",
         "30.97",
         "3",
         "no",
         "northwest",
         "10600.5483"
        ],
        [
         "1334",
         "18",
         "female",
         "31.92",
         "0",
         "no",
         "northeast",
         "2205.9808"
        ],
        [
         "1335",
         "18",
         "female",
         "36.85",
         "0",
         "no",
         "southeast",
         "1629.8335"
        ],
        [
         "1336",
         "21",
         "female",
         "25.8",
         "0",
         "no",
         "southwest",
         "2007.945"
        ],
        [
         "1337",
         "61",
         "female",
         "29.07",
         "0",
         "yes",
         "northwest",
         "29141.3603"
        ]
       ],
       "shape": {
        "columns": 7,
        "rows": 5
       }
      },
      "text/html": [
       "<div>\n",
       "<style scoped>\n",
       "    .dataframe tbody tr th:only-of-type {\n",
       "        vertical-align: middle;\n",
       "    }\n",
       "\n",
       "    .dataframe tbody tr th {\n",
       "        vertical-align: top;\n",
       "    }\n",
       "\n",
       "    .dataframe thead th {\n",
       "        text-align: right;\n",
       "    }\n",
       "</style>\n",
       "<table border=\"1\" class=\"dataframe\">\n",
       "  <thead>\n",
       "    <tr style=\"text-align: right;\">\n",
       "      <th></th>\n",
       "      <th>age</th>\n",
       "      <th>sex</th>\n",
       "      <th>bmi</th>\n",
       "      <th>children</th>\n",
       "      <th>smoker</th>\n",
       "      <th>region</th>\n",
       "      <th>charges</th>\n",
       "    </tr>\n",
       "  </thead>\n",
       "  <tbody>\n",
       "    <tr>\n",
       "      <th>1333</th>\n",
       "      <td>50</td>\n",
       "      <td>male</td>\n",
       "      <td>30.97</td>\n",
       "      <td>3</td>\n",
       "      <td>no</td>\n",
       "      <td>northwest</td>\n",
       "      <td>10600.5483</td>\n",
       "    </tr>\n",
       "    <tr>\n",
       "      <th>1334</th>\n",
       "      <td>18</td>\n",
       "      <td>female</td>\n",
       "      <td>31.92</td>\n",
       "      <td>0</td>\n",
       "      <td>no</td>\n",
       "      <td>northeast</td>\n",
       "      <td>2205.9808</td>\n",
       "    </tr>\n",
       "    <tr>\n",
       "      <th>1335</th>\n",
       "      <td>18</td>\n",
       "      <td>female</td>\n",
       "      <td>36.85</td>\n",
       "      <td>0</td>\n",
       "      <td>no</td>\n",
       "      <td>southeast</td>\n",
       "      <td>1629.8335</td>\n",
       "    </tr>\n",
       "    <tr>\n",
       "      <th>1336</th>\n",
       "      <td>21</td>\n",
       "      <td>female</td>\n",
       "      <td>25.80</td>\n",
       "      <td>0</td>\n",
       "      <td>no</td>\n",
       "      <td>southwest</td>\n",
       "      <td>2007.9450</td>\n",
       "    </tr>\n",
       "    <tr>\n",
       "      <th>1337</th>\n",
       "      <td>61</td>\n",
       "      <td>female</td>\n",
       "      <td>29.07</td>\n",
       "      <td>0</td>\n",
       "      <td>yes</td>\n",
       "      <td>northwest</td>\n",
       "      <td>29141.3603</td>\n",
       "    </tr>\n",
       "  </tbody>\n",
       "</table>\n",
       "</div>"
      ],
      "text/plain": [
       "      age     sex    bmi  children smoker     region     charges\n",
       "1333   50    male  30.97         3     no  northwest  10600.5483\n",
       "1334   18  female  31.92         0     no  northeast   2205.9808\n",
       "1335   18  female  36.85         0     no  southeast   1629.8335\n",
       "1336   21  female  25.80         0     no  southwest   2007.9450\n",
       "1337   61  female  29.07         0    yes  northwest  29141.3603"
      ]
     },
     "execution_count": 13,
     "metadata": {},
     "output_type": "execute_result"
    }
   ],
   "source": [
    "df.tail()"
   ]
  },
  {
   "cell_type": "code",
   "execution_count": 14,
   "id": "14a7bb34",
   "metadata": {},
   "outputs": [
    {
     "data": {
      "application/vnd.microsoft.datawrangler.viewer.v0+json": {
       "columns": [
        {
         "name": "index",
         "rawType": "int64",
         "type": "integer"
        },
        {
         "name": "region",
         "rawType": "object",
         "type": "string"
        }
       ],
       "ref": "dad115d4-aa61-4c0d-9f3b-5e4e947df3fb",
       "rows": [
        [
         "0",
         "southwest"
        ],
        [
         "1",
         "southeast"
        ],
        [
         "2",
         "southeast"
        ],
        [
         "3",
         "northwest"
        ],
        [
         "4",
         "northwest"
        ],
        [
         "5",
         "southeast"
        ],
        [
         "6",
         "southeast"
        ],
        [
         "7",
         "northwest"
        ],
        [
         "8",
         "northeast"
        ],
        [
         "9",
         "northwest"
        ],
        [
         "10",
         "northeast"
        ],
        [
         "11",
         "southeast"
        ],
        [
         "12",
         "southwest"
        ],
        [
         "13",
         "southeast"
        ],
        [
         "14",
         "southeast"
        ],
        [
         "15",
         "southwest"
        ],
        [
         "16",
         "northeast"
        ],
        [
         "17",
         "northeast"
        ],
        [
         "18",
         "southwest"
        ],
        [
         "19",
         "southwest"
        ],
        [
         "20",
         "northeast"
        ],
        [
         "21",
         "southwest"
        ],
        [
         "22",
         "southeast"
        ],
        [
         "23",
         "northeast"
        ],
        [
         "24",
         "northwest"
        ],
        [
         "25",
         "southeast"
        ],
        [
         "26",
         "northeast"
        ],
        [
         "27",
         "northwest"
        ],
        [
         "28",
         "northwest"
        ],
        [
         "29",
         "southwest"
        ],
        [
         "30",
         "southwest"
        ],
        [
         "31",
         "northeast"
        ],
        [
         "32",
         "southwest"
        ],
        [
         "33",
         "northwest"
        ],
        [
         "34",
         "southwest"
        ],
        [
         "35",
         "northwest"
        ],
        [
         "36",
         "northwest"
        ],
        [
         "37",
         "southwest"
        ],
        [
         "38",
         "northeast"
        ],
        [
         "39",
         "southwest"
        ],
        [
         "40",
         "northeast"
        ],
        [
         "41",
         "southeast"
        ],
        [
         "42",
         "southeast"
        ],
        [
         "43",
         "southeast"
        ],
        [
         "44",
         "northeast"
        ],
        [
         "45",
         "southwest"
        ],
        [
         "46",
         "northeast"
        ],
        [
         "47",
         "northwest"
        ],
        [
         "48",
         "southeast"
        ],
        [
         "49",
         "southeast"
        ]
       ],
       "shape": {
        "columns": 1,
        "rows": 1337
       }
      },
      "text/plain": [
       "0       southwest\n",
       "1       southeast\n",
       "2       southeast\n",
       "3       northwest\n",
       "4       northwest\n",
       "          ...    \n",
       "1333    northwest\n",
       "1334    northeast\n",
       "1335    southeast\n",
       "1336    southwest\n",
       "1337    northwest\n",
       "Name: region, Length: 1337, dtype: object"
      ]
     },
     "execution_count": 14,
     "metadata": {},
     "output_type": "execute_result"
    }
   ],
   "source": [
    "df.region"
   ]
  },
  {
   "cell_type": "code",
   "execution_count": 15,
   "id": "f1105186",
   "metadata": {},
   "outputs": [
    {
     "data": {
      "text/plain": [
       "Index(['age', 'sex', 'bmi', 'children', 'smoker', 'region', 'charges'], dtype='object')"
      ]
     },
     "execution_count": 15,
     "metadata": {},
     "output_type": "execute_result"
    }
   ],
   "source": [
    "df.columns"
   ]
  },
  {
   "cell_type": "code",
   "execution_count": 16,
   "id": "cd75f9de",
   "metadata": {},
   "outputs": [
    {
     "data": {
      "application/vnd.microsoft.datawrangler.viewer.v0+json": {
       "columns": [
        {
         "name": "index",
         "rawType": "int64",
         "type": "integer"
        },
        {
         "name": "age",
         "rawType": "int64",
         "type": "integer"
        }
       ],
       "ref": "01cbc634-ef14-49ff-85c3-c1f447735ed7",
       "rows": [
        [
         "0",
         "19"
        ],
        [
         "1",
         "18"
        ],
        [
         "2",
         "28"
        ],
        [
         "3",
         "33"
        ],
        [
         "4",
         "32"
        ],
        [
         "5",
         "31"
        ],
        [
         "6",
         "46"
        ],
        [
         "7",
         "37"
        ],
        [
         "8",
         "37"
        ],
        [
         "9",
         "60"
        ],
        [
         "10",
         "25"
        ],
        [
         "11",
         "62"
        ],
        [
         "12",
         "23"
        ],
        [
         "13",
         "56"
        ],
        [
         "14",
         "27"
        ],
        [
         "15",
         "19"
        ],
        [
         "16",
         "52"
        ],
        [
         "17",
         "23"
        ],
        [
         "18",
         "56"
        ],
        [
         "19",
         "30"
        ],
        [
         "20",
         "60"
        ],
        [
         "21",
         "30"
        ],
        [
         "22",
         "18"
        ],
        [
         "23",
         "34"
        ],
        [
         "24",
         "37"
        ],
        [
         "25",
         "59"
        ],
        [
         "26",
         "63"
        ],
        [
         "27",
         "55"
        ],
        [
         "28",
         "23"
        ],
        [
         "29",
         "31"
        ],
        [
         "30",
         "22"
        ],
        [
         "31",
         "18"
        ],
        [
         "32",
         "19"
        ],
        [
         "33",
         "63"
        ],
        [
         "34",
         "28"
        ],
        [
         "35",
         "19"
        ],
        [
         "36",
         "62"
        ],
        [
         "37",
         "26"
        ],
        [
         "38",
         "35"
        ],
        [
         "39",
         "60"
        ],
        [
         "40",
         "24"
        ],
        [
         "41",
         "31"
        ],
        [
         "42",
         "41"
        ],
        [
         "43",
         "37"
        ],
        [
         "44",
         "38"
        ],
        [
         "45",
         "55"
        ],
        [
         "46",
         "18"
        ],
        [
         "47",
         "28"
        ],
        [
         "48",
         "60"
        ],
        [
         "49",
         "36"
        ]
       ],
       "shape": {
        "columns": 1,
        "rows": 1337
       }
      },
      "text/plain": [
       "0       19\n",
       "1       18\n",
       "2       28\n",
       "3       33\n",
       "4       32\n",
       "        ..\n",
       "1333    50\n",
       "1334    18\n",
       "1335    18\n",
       "1336    21\n",
       "1337    61\n",
       "Name: age, Length: 1337, dtype: int64"
      ]
     },
     "execution_count": 16,
     "metadata": {},
     "output_type": "execute_result"
    }
   ],
   "source": [
    "df.age"
   ]
  },
  {
   "cell_type": "code",
   "execution_count": 17,
   "id": "849cd824",
   "metadata": {},
   "outputs": [
    {
     "data": {
      "application/vnd.microsoft.datawrangler.viewer.v0+json": {
       "columns": [
        {
         "name": "index",
         "rawType": "int64",
         "type": "integer"
        },
        {
         "name": "region",
         "rawType": "object",
         "type": "string"
        }
       ],
       "ref": "a5040b79-e57e-4641-b5eb-9c604dc4d919",
       "rows": [
        [
         "0",
         "southwest"
        ],
        [
         "1",
         "southeast"
        ],
        [
         "2",
         "southeast"
        ],
        [
         "3",
         "northwest"
        ],
        [
         "4",
         "northwest"
        ],
        [
         "5",
         "southeast"
        ],
        [
         "6",
         "southeast"
        ],
        [
         "7",
         "northwest"
        ],
        [
         "8",
         "northeast"
        ],
        [
         "9",
         "northwest"
        ],
        [
         "10",
         "northeast"
        ],
        [
         "11",
         "southeast"
        ],
        [
         "12",
         "southwest"
        ],
        [
         "13",
         "southeast"
        ],
        [
         "14",
         "southeast"
        ],
        [
         "15",
         "southwest"
        ],
        [
         "16",
         "northeast"
        ],
        [
         "17",
         "northeast"
        ],
        [
         "18",
         "southwest"
        ],
        [
         "19",
         "southwest"
        ],
        [
         "20",
         "northeast"
        ],
        [
         "21",
         "southwest"
        ],
        [
         "22",
         "southeast"
        ],
        [
         "23",
         "northeast"
        ],
        [
         "24",
         "northwest"
        ],
        [
         "25",
         "southeast"
        ],
        [
         "26",
         "northeast"
        ],
        [
         "27",
         "northwest"
        ],
        [
         "28",
         "northwest"
        ],
        [
         "29",
         "southwest"
        ],
        [
         "30",
         "southwest"
        ],
        [
         "31",
         "northeast"
        ],
        [
         "32",
         "southwest"
        ],
        [
         "33",
         "northwest"
        ],
        [
         "34",
         "southwest"
        ],
        [
         "35",
         "northwest"
        ],
        [
         "36",
         "northwest"
        ],
        [
         "37",
         "southwest"
        ],
        [
         "38",
         "northeast"
        ],
        [
         "39",
         "southwest"
        ],
        [
         "40",
         "northeast"
        ],
        [
         "41",
         "southeast"
        ],
        [
         "42",
         "southeast"
        ],
        [
         "43",
         "southeast"
        ],
        [
         "44",
         "northeast"
        ],
        [
         "45",
         "southwest"
        ],
        [
         "46",
         "northeast"
        ],
        [
         "47",
         "northwest"
        ],
        [
         "48",
         "southeast"
        ],
        [
         "49",
         "southeast"
        ]
       ],
       "shape": {
        "columns": 1,
        "rows": 1337
       }
      },
      "text/plain": [
       "0       southwest\n",
       "1       southeast\n",
       "2       southeast\n",
       "3       northwest\n",
       "4       northwest\n",
       "          ...    \n",
       "1333    northwest\n",
       "1334    northeast\n",
       "1335    southeast\n",
       "1336    southwest\n",
       "1337    northwest\n",
       "Name: region, Length: 1337, dtype: object"
      ]
     },
     "execution_count": 17,
     "metadata": {},
     "output_type": "execute_result"
    }
   ],
   "source": [
    "df['region']"
   ]
  },
  {
   "cell_type": "code",
   "execution_count": 18,
   "id": "7e9b886b",
   "metadata": {},
   "outputs": [
    {
     "data": {
      "application/vnd.microsoft.datawrangler.viewer.v0+json": {
       "columns": [
        {
         "name": "index",
         "rawType": "int64",
         "type": "integer"
        },
        {
         "name": "children",
         "rawType": "int64",
         "type": "integer"
        }
       ],
       "ref": "61482a02-6a21-410c-9932-d5efe0c031e8",
       "rows": [
        [
         "0",
         "0"
        ],
        [
         "1",
         "1"
        ],
        [
         "2",
         "3"
        ],
        [
         "3",
         "0"
        ],
        [
         "4",
         "0"
        ],
        [
         "5",
         "0"
        ],
        [
         "6",
         "1"
        ],
        [
         "7",
         "3"
        ],
        [
         "8",
         "2"
        ],
        [
         "9",
         "0"
        ],
        [
         "10",
         "0"
        ],
        [
         "11",
         "0"
        ],
        [
         "12",
         "0"
        ],
        [
         "13",
         "0"
        ],
        [
         "14",
         "0"
        ],
        [
         "15",
         "1"
        ],
        [
         "16",
         "1"
        ],
        [
         "17",
         "0"
        ],
        [
         "18",
         "0"
        ],
        [
         "19",
         "0"
        ],
        [
         "20",
         "0"
        ],
        [
         "21",
         "1"
        ],
        [
         "22",
         "0"
        ],
        [
         "23",
         "1"
        ],
        [
         "24",
         "2"
        ],
        [
         "25",
         "3"
        ],
        [
         "26",
         "0"
        ],
        [
         "27",
         "2"
        ],
        [
         "28",
         "1"
        ],
        [
         "29",
         "2"
        ],
        [
         "30",
         "0"
        ],
        [
         "31",
         "0"
        ],
        [
         "32",
         "5"
        ],
        [
         "33",
         "0"
        ],
        [
         "34",
         "1"
        ],
        [
         "35",
         "0"
        ],
        [
         "36",
         "3"
        ],
        [
         "37",
         "0"
        ],
        [
         "38",
         "1"
        ],
        [
         "39",
         "0"
        ],
        [
         "40",
         "0"
        ],
        [
         "41",
         "2"
        ],
        [
         "42",
         "1"
        ],
        [
         "43",
         "2"
        ],
        [
         "44",
         "1"
        ],
        [
         "45",
         "0"
        ],
        [
         "46",
         "2"
        ],
        [
         "47",
         "0"
        ],
        [
         "48",
         "0"
        ],
        [
         "49",
         "1"
        ]
       ],
       "shape": {
        "columns": 1,
        "rows": 1337
       }
      },
      "text/plain": [
       "0       0\n",
       "1       1\n",
       "2       3\n",
       "3       0\n",
       "4       0\n",
       "       ..\n",
       "1333    3\n",
       "1334    0\n",
       "1335    0\n",
       "1336    0\n",
       "1337    0\n",
       "Name: children, Length: 1337, dtype: int64"
      ]
     },
     "execution_count": 18,
     "metadata": {},
     "output_type": "execute_result"
    }
   ],
   "source": [
    "df['children']"
   ]
  },
  {
   "cell_type": "code",
   "execution_count": 19,
   "id": "d88300c0",
   "metadata": {},
   "outputs": [
    {
     "data": {
      "application/vnd.microsoft.datawrangler.viewer.v0+json": {
       "columns": [
        {
         "name": "index",
         "rawType": "int64",
         "type": "integer"
        },
        {
         "name": "age",
         "rawType": "int64",
         "type": "integer"
        }
       ],
       "ref": "957bad1a-2891-492c-ae7d-608626e07e04",
       "rows": [
        [
         "0",
         "19"
        ],
        [
         "1",
         "18"
        ],
        [
         "2",
         "28"
        ],
        [
         "3",
         "33"
        ],
        [
         "4",
         "32"
        ],
        [
         "5",
         "31"
        ],
        [
         "6",
         "46"
        ],
        [
         "7",
         "37"
        ],
        [
         "8",
         "37"
        ],
        [
         "9",
         "60"
        ],
        [
         "10",
         "25"
        ],
        [
         "11",
         "62"
        ],
        [
         "12",
         "23"
        ],
        [
         "13",
         "56"
        ],
        [
         "14",
         "27"
        ],
        [
         "15",
         "19"
        ],
        [
         "16",
         "52"
        ],
        [
         "17",
         "23"
        ],
        [
         "18",
         "56"
        ],
        [
         "19",
         "30"
        ],
        [
         "20",
         "60"
        ],
        [
         "21",
         "30"
        ],
        [
         "22",
         "18"
        ],
        [
         "23",
         "34"
        ],
        [
         "24",
         "37"
        ],
        [
         "25",
         "59"
        ],
        [
         "26",
         "63"
        ],
        [
         "27",
         "55"
        ],
        [
         "28",
         "23"
        ],
        [
         "29",
         "31"
        ],
        [
         "30",
         "22"
        ],
        [
         "31",
         "18"
        ],
        [
         "32",
         "19"
        ],
        [
         "33",
         "63"
        ],
        [
         "34",
         "28"
        ],
        [
         "35",
         "19"
        ],
        [
         "36",
         "62"
        ],
        [
         "37",
         "26"
        ],
        [
         "38",
         "35"
        ],
        [
         "39",
         "60"
        ],
        [
         "40",
         "24"
        ],
        [
         "41",
         "31"
        ],
        [
         "42",
         "41"
        ],
        [
         "43",
         "37"
        ],
        [
         "44",
         "38"
        ],
        [
         "45",
         "55"
        ],
        [
         "46",
         "18"
        ],
        [
         "47",
         "28"
        ],
        [
         "48",
         "60"
        ],
        [
         "49",
         "36"
        ]
       ],
       "shape": {
        "columns": 1,
        "rows": 1337
       }
      },
      "text/plain": [
       "0       19\n",
       "1       18\n",
       "2       28\n",
       "3       33\n",
       "4       32\n",
       "        ..\n",
       "1333    50\n",
       "1334    18\n",
       "1335    18\n",
       "1336    21\n",
       "1337    61\n",
       "Name: age, Length: 1337, dtype: int64"
      ]
     },
     "execution_count": 19,
     "metadata": {},
     "output_type": "execute_result"
    }
   ],
   "source": [
    "df['age']"
   ]
  },
  {
   "cell_type": "code",
   "execution_count": 20,
   "id": "0eadfdad",
   "metadata": {},
   "outputs": [
    {
     "data": {
      "application/vnd.microsoft.datawrangler.viewer.v0+json": {
       "columns": [
        {
         "name": "region",
         "rawType": "object",
         "type": "string"
        },
        {
         "name": "count",
         "rawType": "int64",
         "type": "integer"
        }
       ],
       "ref": "0bbdb822-6e89-4104-a520-e7c01b867c00",
       "rows": [
        [
         "southeast",
         "364"
        ],
        [
         "southwest",
         "325"
        ],
        [
         "northwest",
         "324"
        ],
        [
         "northeast",
         "324"
        ]
       ],
       "shape": {
        "columns": 1,
        "rows": 4
       }
      },
      "text/plain": [
       "region\n",
       "southeast    364\n",
       "southwest    325\n",
       "northwest    324\n",
       "northeast    324\n",
       "Name: count, dtype: int64"
      ]
     },
     "execution_count": 20,
     "metadata": {},
     "output_type": "execute_result"
    }
   ],
   "source": [
    "df['region'].value_counts()"
   ]
  },
  {
   "cell_type": "code",
   "execution_count": 21,
   "id": "2f0f51a0",
   "metadata": {},
   "outputs": [
    {
     "data": {
      "application/vnd.microsoft.datawrangler.viewer.v0+json": {
       "columns": [
        {
         "name": "age",
         "rawType": "int64",
         "type": "integer"
        },
        {
         "name": "count",
         "rawType": "int64",
         "type": "integer"
        }
       ],
       "ref": "c9faf89b-bfb1-4f7a-9147-d9d17579626b",
       "rows": [
        [
         "18",
         "69"
        ],
        [
         "19",
         "67"
        ],
        [
         "46",
         "29"
        ],
        [
         "52",
         "29"
        ],
        [
         "50",
         "29"
        ],
        [
         "47",
         "29"
        ],
        [
         "48",
         "29"
        ],
        [
         "51",
         "29"
        ],
        [
         "45",
         "29"
        ],
        [
         "20",
         "29"
        ],
        [
         "24",
         "28"
        ],
        [
         "27",
         "28"
        ],
        [
         "28",
         "28"
        ],
        [
         "25",
         "28"
        ],
        [
         "23",
         "28"
        ],
        [
         "49",
         "28"
        ],
        [
         "54",
         "28"
        ],
        [
         "53",
         "28"
        ],
        [
         "22",
         "28"
        ],
        [
         "21",
         "28"
        ],
        [
         "26",
         "28"
        ],
        [
         "31",
         "27"
        ],
        [
         "41",
         "27"
        ],
        [
         "44",
         "27"
        ],
        [
         "43",
         "27"
        ],
        [
         "42",
         "27"
        ],
        [
         "29",
         "27"
        ],
        [
         "30",
         "27"
        ],
        [
         "40",
         "27"
        ],
        [
         "32",
         "26"
        ],
        [
         "33",
         "26"
        ],
        [
         "57",
         "26"
        ],
        [
         "34",
         "26"
        ],
        [
         "55",
         "26"
        ],
        [
         "56",
         "26"
        ],
        [
         "35",
         "25"
        ],
        [
         "58",
         "25"
        ],
        [
         "37",
         "25"
        ],
        [
         "59",
         "25"
        ],
        [
         "39",
         "25"
        ],
        [
         "36",
         "25"
        ],
        [
         "38",
         "25"
        ],
        [
         "62",
         "23"
        ],
        [
         "60",
         "23"
        ],
        [
         "63",
         "23"
        ],
        [
         "61",
         "23"
        ],
        [
         "64",
         "22"
        ]
       ],
       "shape": {
        "columns": 1,
        "rows": 47
       }
      },
      "text/plain": [
       "age\n",
       "18    69\n",
       "19    67\n",
       "46    29\n",
       "52    29\n",
       "50    29\n",
       "47    29\n",
       "48    29\n",
       "51    29\n",
       "45    29\n",
       "20    29\n",
       "24    28\n",
       "27    28\n",
       "28    28\n",
       "25    28\n",
       "23    28\n",
       "49    28\n",
       "54    28\n",
       "53    28\n",
       "22    28\n",
       "21    28\n",
       "26    28\n",
       "31    27\n",
       "41    27\n",
       "44    27\n",
       "43    27\n",
       "42    27\n",
       "29    27\n",
       "30    27\n",
       "40    27\n",
       "32    26\n",
       "33    26\n",
       "57    26\n",
       "34    26\n",
       "55    26\n",
       "56    26\n",
       "35    25\n",
       "58    25\n",
       "37    25\n",
       "59    25\n",
       "39    25\n",
       "36    25\n",
       "38    25\n",
       "62    23\n",
       "60    23\n",
       "63    23\n",
       "61    23\n",
       "64    22\n",
       "Name: count, dtype: int64"
      ]
     },
     "execution_count": 21,
     "metadata": {},
     "output_type": "execute_result"
    }
   ],
   "source": [
    "df['age'].value_counts()"
   ]
  },
  {
   "cell_type": "code",
   "execution_count": 22,
   "id": "884017ab",
   "metadata": {},
   "outputs": [
    {
     "data": {
      "text/plain": [
       "array(['southwest', 'southeast', 'northwest', 'northeast'], dtype=object)"
      ]
     },
     "execution_count": 22,
     "metadata": {},
     "output_type": "execute_result"
    }
   ],
   "source": [
    "df['region'].unique()"
   ]
  },
  {
   "cell_type": "code",
   "execution_count": 23,
   "id": "7f1dad6d",
   "metadata": {},
   "outputs": [
    {
     "data": {
      "text/plain": [
       "4"
      ]
     },
     "execution_count": 23,
     "metadata": {},
     "output_type": "execute_result"
    }
   ],
   "source": [
    "df['region'].nunique()"
   ]
  },
  {
   "cell_type": "code",
   "execution_count": 24,
   "id": "61e70a1c",
   "metadata": {},
   "outputs": [
    {
     "data": {
      "application/vnd.microsoft.datawrangler.viewer.v0+json": {
       "columns": [
        {
         "name": "index",
         "rawType": "object",
         "type": "string"
        },
        {
         "name": "0",
         "rawType": "object",
         "type": "unknown"
        }
       ],
       "ref": "951a52d8-d6fe-4cfb-8d38-aaa7046133bd",
       "rows": [
        [
         "age",
         "int64"
        ],
        [
         "sex",
         "object"
        ],
        [
         "bmi",
         "float64"
        ],
        [
         "children",
         "int64"
        ],
        [
         "smoker",
         "object"
        ],
        [
         "region",
         "object"
        ],
        [
         "charges",
         "float64"
        ]
       ],
       "shape": {
        "columns": 1,
        "rows": 7
       }
      },
      "text/plain": [
       "age           int64\n",
       "sex          object\n",
       "bmi         float64\n",
       "children      int64\n",
       "smoker       object\n",
       "region       object\n",
       "charges     float64\n",
       "dtype: object"
      ]
     },
     "execution_count": 24,
     "metadata": {},
     "output_type": "execute_result"
    }
   ],
   "source": [
    "df.dtypes"
   ]
  },
  {
   "cell_type": "code",
   "execution_count": 25,
   "id": "d17b7e2b",
   "metadata": {},
   "outputs": [
    {
     "data": {
      "text/plain": [
       "(1337, 7)"
      ]
     },
     "execution_count": 25,
     "metadata": {},
     "output_type": "execute_result"
    }
   ],
   "source": [
    "df.shape"
   ]
  },
  {
   "cell_type": "code",
   "execution_count": 26,
   "id": "dc2fd9b1",
   "metadata": {},
   "outputs": [
    {
     "data": {
      "application/vnd.microsoft.datawrangler.viewer.v0+json": {
       "columns": [
        {
         "name": "index",
         "rawType": "int64",
         "type": "integer"
        },
        {
         "name": "age",
         "rawType": "int64",
         "type": "integer"
        },
        {
         "name": "sex",
         "rawType": "object",
         "type": "string"
        },
        {
         "name": "bmi",
         "rawType": "float64",
         "type": "float"
        },
        {
         "name": "children",
         "rawType": "int64",
         "type": "integer"
        },
        {
         "name": "smoker",
         "rawType": "object",
         "type": "string"
        },
        {
         "name": "region",
         "rawType": "object",
         "type": "string"
        },
        {
         "name": "charges",
         "rawType": "float64",
         "type": "float"
        }
       ],
       "ref": "34b131f5-f51d-4886-8211-e2921aa5d481",
       "rows": [
        [
         "0",
         "19",
         "female",
         "27.9",
         "0",
         "yes",
         "southwest",
         "16884.924"
        ],
        [
         "12",
         "23",
         "male",
         "34.4",
         "0",
         "no",
         "southwest",
         "1826.843"
        ],
        [
         "15",
         "19",
         "male",
         "24.6",
         "1",
         "no",
         "southwest",
         "1837.237"
        ],
        [
         "18",
         "56",
         "male",
         "40.3",
         "0",
         "no",
         "southwest",
         "10602.385"
        ],
        [
         "19",
         "30",
         "male",
         "35.3",
         "0",
         "yes",
         "southwest",
         "36837.467"
        ],
        [
         "21",
         "30",
         "female",
         "32.4",
         "1",
         "no",
         "southwest",
         "4149.736"
        ],
        [
         "29",
         "31",
         "male",
         "36.3",
         "2",
         "yes",
         "southwest",
         "38711.0"
        ],
        [
         "30",
         "22",
         "male",
         "35.6",
         "0",
         "yes",
         "southwest",
         "35585.576"
        ],
        [
         "32",
         "19",
         "female",
         "28.6",
         "5",
         "no",
         "southwest",
         "4687.797"
        ],
        [
         "34",
         "28",
         "male",
         "36.4",
         "1",
         "yes",
         "southwest",
         "51194.55914"
        ],
        [
         "37",
         "26",
         "male",
         "20.8",
         "0",
         "no",
         "southwest",
         "2302.3"
        ],
        [
         "39",
         "60",
         "male",
         "39.9",
         "0",
         "yes",
         "southwest",
         "48173.361"
        ],
        [
         "45",
         "55",
         "male",
         "37.3",
         "0",
         "no",
         "southwest",
         "20630.28351"
        ],
        [
         "52",
         "48",
         "male",
         "28.0",
         "1",
         "yes",
         "southwest",
         "23568.272"
        ],
        [
         "65",
         "19",
         "female",
         "28.9",
         "0",
         "no",
         "southwest",
         "1743.214"
        ],
        [
         "66",
         "61",
         "female",
         "39.1",
         "2",
         "no",
         "southwest",
         "14235.072"
        ],
        [
         "72",
         "53",
         "female",
         "28.1",
         "3",
         "no",
         "southwest",
         "11741.726"
        ],
        [
         "74",
         "44",
         "male",
         "27.4",
         "2",
         "no",
         "southwest",
         "7726.854"
        ],
        [
         "84",
         "37",
         "female",
         "34.8",
         "2",
         "yes",
         "southwest",
         "39836.519"
        ],
        [
         "87",
         "56",
         "female",
         "27.2",
         "0",
         "no",
         "southwest",
         "11073.176"
        ],
        [
         "94",
         "64",
         "female",
         "31.3",
         "2",
         "yes",
         "southwest",
         "47291.055"
        ],
        [
         "96",
         "54",
         "female",
         "30.8",
         "3",
         "no",
         "southwest",
         "12105.32"
        ],
        [
         "99",
         "38",
         "male",
         "19.3",
         "0",
         "yes",
         "southwest",
         "15820.699"
        ],
        [
         "100",
         "41",
         "female",
         "31.6",
         "0",
         "no",
         "southwest",
         "6186.127"
        ],
        [
         "104",
         "34",
         "female",
         "27.5",
         "1",
         "no",
         "southwest",
         "5003.853"
        ],
        [
         "106",
         "19",
         "female",
         "28.4",
         "1",
         "no",
         "southwest",
         "2331.519"
        ],
        [
         "111",
         "55",
         "female",
         "29.7",
         "2",
         "no",
         "southwest",
         "11881.358"
        ],
        [
         "112",
         "37",
         "male",
         "30.8",
         "0",
         "no",
         "southwest",
         "4646.759"
        ],
        [
         "120",
         "44",
         "male",
         "37.1",
         "2",
         "no",
         "southwest",
         "7740.337"
        ],
        [
         "126",
         "19",
         "female",
         "28.3",
         "0",
         "yes",
         "southwest",
         "17081.08"
        ],
        [
         "127",
         "52",
         "female",
         "37.4",
         "0",
         "no",
         "southwest",
         "9634.538"
        ],
        [
         "129",
         "38",
         "male",
         "34.7",
         "2",
         "no",
         "southwest",
         "6082.405"
        ],
        [
         "132",
         "53",
         "female",
         "35.9",
         "2",
         "no",
         "southwest",
         "11163.568"
        ],
        [
         "136",
         "19",
         "male",
         "34.1",
         "0",
         "no",
         "southwest",
         "1261.442"
        ],
        [
         "139",
         "22",
         "female",
         "36.0",
         "0",
         "no",
         "southwest",
         "2166.732"
        ],
        [
         "149",
         "19",
         "male",
         "28.4",
         "1",
         "no",
         "southwest",
         "1842.519"
        ],
        [
         "162",
         "54",
         "male",
         "39.6",
         "1",
         "no",
         "southwest",
         "10450.552"
        ],
        [
         "163",
         "32",
         "female",
         "29.8",
         "2",
         "no",
         "southwest",
         "5152.134"
        ],
        [
         "166",
         "20",
         "female",
         "37.0",
         "5",
         "no",
         "southwest",
         "4830.63"
        ],
        [
         "171",
         "49",
         "male",
         "30.3",
         "0",
         "no",
         "southwest",
         "8116.68"
        ],
        [
         "173",
         "35",
         "female",
         "34.8",
         "1",
         "no",
         "southwest",
         "5246.047"
        ],
        [
         "175",
         "63",
         "female",
         "37.7",
         "0",
         "yes",
         "southwest",
         "48824.45"
        ],
        [
         "177",
         "54",
         "male",
         "29.2",
         "1",
         "no",
         "southwest",
         "10436.096"
        ],
        [
         "178",
         "46",
         "female",
         "28.9",
         "2",
         "no",
         "southwest",
         "8823.279"
        ],
        [
         "187",
         "30",
         "female",
         "30.9",
         "3",
         "no",
         "southwest",
         "5325.651"
        ],
        [
         "188",
         "41",
         "female",
         "32.2",
         "1",
         "no",
         "southwest",
         "6775.961"
        ],
        [
         "191",
         "36",
         "female",
         "26.2",
         "0",
         "no",
         "southwest",
         "4883.866"
        ],
        [
         "196",
         "39",
         "female",
         "32.8",
         "0",
         "no",
         "southwest",
         "5649.715"
        ],
        [
         "204",
         "46",
         "male",
         "22.3",
         "0",
         "no",
         "southwest",
         "7147.105"
        ],
        [
         "208",
         "63",
         "female",
         "31.8",
         "0",
         "no",
         "southwest",
         "13880.949"
        ]
       ],
       "shape": {
        "columns": 7,
        "rows": 325
       }
      },
      "text/html": [
       "<div>\n",
       "<style scoped>\n",
       "    .dataframe tbody tr th:only-of-type {\n",
       "        vertical-align: middle;\n",
       "    }\n",
       "\n",
       "    .dataframe tbody tr th {\n",
       "        vertical-align: top;\n",
       "    }\n",
       "\n",
       "    .dataframe thead th {\n",
       "        text-align: right;\n",
       "    }\n",
       "</style>\n",
       "<table border=\"1\" class=\"dataframe\">\n",
       "  <thead>\n",
       "    <tr style=\"text-align: right;\">\n",
       "      <th></th>\n",
       "      <th>age</th>\n",
       "      <th>sex</th>\n",
       "      <th>bmi</th>\n",
       "      <th>children</th>\n",
       "      <th>smoker</th>\n",
       "      <th>region</th>\n",
       "      <th>charges</th>\n",
       "    </tr>\n",
       "  </thead>\n",
       "  <tbody>\n",
       "    <tr>\n",
       "      <th>0</th>\n",
       "      <td>19</td>\n",
       "      <td>female</td>\n",
       "      <td>27.9</td>\n",
       "      <td>0</td>\n",
       "      <td>yes</td>\n",
       "      <td>southwest</td>\n",
       "      <td>16884.92400</td>\n",
       "    </tr>\n",
       "    <tr>\n",
       "      <th>12</th>\n",
       "      <td>23</td>\n",
       "      <td>male</td>\n",
       "      <td>34.4</td>\n",
       "      <td>0</td>\n",
       "      <td>no</td>\n",
       "      <td>southwest</td>\n",
       "      <td>1826.84300</td>\n",
       "    </tr>\n",
       "    <tr>\n",
       "      <th>15</th>\n",
       "      <td>19</td>\n",
       "      <td>male</td>\n",
       "      <td>24.6</td>\n",
       "      <td>1</td>\n",
       "      <td>no</td>\n",
       "      <td>southwest</td>\n",
       "      <td>1837.23700</td>\n",
       "    </tr>\n",
       "    <tr>\n",
       "      <th>18</th>\n",
       "      <td>56</td>\n",
       "      <td>male</td>\n",
       "      <td>40.3</td>\n",
       "      <td>0</td>\n",
       "      <td>no</td>\n",
       "      <td>southwest</td>\n",
       "      <td>10602.38500</td>\n",
       "    </tr>\n",
       "    <tr>\n",
       "      <th>19</th>\n",
       "      <td>30</td>\n",
       "      <td>male</td>\n",
       "      <td>35.3</td>\n",
       "      <td>0</td>\n",
       "      <td>yes</td>\n",
       "      <td>southwest</td>\n",
       "      <td>36837.46700</td>\n",
       "    </tr>\n",
       "    <tr>\n",
       "      <th>...</th>\n",
       "      <td>...</td>\n",
       "      <td>...</td>\n",
       "      <td>...</td>\n",
       "      <td>...</td>\n",
       "      <td>...</td>\n",
       "      <td>...</td>\n",
       "      <td>...</td>\n",
       "    </tr>\n",
       "    <tr>\n",
       "      <th>1316</th>\n",
       "      <td>19</td>\n",
       "      <td>female</td>\n",
       "      <td>20.6</td>\n",
       "      <td>0</td>\n",
       "      <td>no</td>\n",
       "      <td>southwest</td>\n",
       "      <td>1731.67700</td>\n",
       "    </tr>\n",
       "    <tr>\n",
       "      <th>1329</th>\n",
       "      <td>52</td>\n",
       "      <td>male</td>\n",
       "      <td>38.6</td>\n",
       "      <td>2</td>\n",
       "      <td>no</td>\n",
       "      <td>southwest</td>\n",
       "      <td>10325.20600</td>\n",
       "    </tr>\n",
       "    <tr>\n",
       "      <th>1331</th>\n",
       "      <td>23</td>\n",
       "      <td>female</td>\n",
       "      <td>33.4</td>\n",
       "      <td>0</td>\n",
       "      <td>no</td>\n",
       "      <td>southwest</td>\n",
       "      <td>10795.93733</td>\n",
       "    </tr>\n",
       "    <tr>\n",
       "      <th>1332</th>\n",
       "      <td>52</td>\n",
       "      <td>female</td>\n",
       "      <td>44.7</td>\n",
       "      <td>3</td>\n",
       "      <td>no</td>\n",
       "      <td>southwest</td>\n",
       "      <td>11411.68500</td>\n",
       "    </tr>\n",
       "    <tr>\n",
       "      <th>1336</th>\n",
       "      <td>21</td>\n",
       "      <td>female</td>\n",
       "      <td>25.8</td>\n",
       "      <td>0</td>\n",
       "      <td>no</td>\n",
       "      <td>southwest</td>\n",
       "      <td>2007.94500</td>\n",
       "    </tr>\n",
       "  </tbody>\n",
       "</table>\n",
       "<p>325 rows × 7 columns</p>\n",
       "</div>"
      ],
      "text/plain": [
       "      age     sex   bmi  children smoker     region      charges\n",
       "0      19  female  27.9         0    yes  southwest  16884.92400\n",
       "12     23    male  34.4         0     no  southwest   1826.84300\n",
       "15     19    male  24.6         1     no  southwest   1837.23700\n",
       "18     56    male  40.3         0     no  southwest  10602.38500\n",
       "19     30    male  35.3         0    yes  southwest  36837.46700\n",
       "...   ...     ...   ...       ...    ...        ...          ...\n",
       "1316   19  female  20.6         0     no  southwest   1731.67700\n",
       "1329   52    male  38.6         2     no  southwest  10325.20600\n",
       "1331   23  female  33.4         0     no  southwest  10795.93733\n",
       "1332   52  female  44.7         3     no  southwest  11411.68500\n",
       "1336   21  female  25.8         0     no  southwest   2007.94500\n",
       "\n",
       "[325 rows x 7 columns]"
      ]
     },
     "execution_count": 26,
     "metadata": {},
     "output_type": "execute_result"
    }
   ],
   "source": [
    "df[df['region'] == 'southwest']"
   ]
  },
  {
   "cell_type": "code",
   "execution_count": 27,
   "id": "b84309ac",
   "metadata": {},
   "outputs": [],
   "source": [
    "southwest_df =df[df['region'] == 'southwest']"
   ]
  },
  {
   "cell_type": "code",
   "execution_count": 28,
   "id": "1b687843",
   "metadata": {},
   "outputs": [
    {
     "data": {
      "application/vnd.microsoft.datawrangler.viewer.v0+json": {
       "columns": [
        {
         "name": "index",
         "rawType": "int64",
         "type": "integer"
        },
        {
         "name": "age",
         "rawType": "int64",
         "type": "integer"
        },
        {
         "name": "sex",
         "rawType": "object",
         "type": "string"
        },
        {
         "name": "bmi",
         "rawType": "float64",
         "type": "float"
        },
        {
         "name": "children",
         "rawType": "int64",
         "type": "integer"
        },
        {
         "name": "smoker",
         "rawType": "object",
         "type": "string"
        },
        {
         "name": "region",
         "rawType": "object",
         "type": "string"
        },
        {
         "name": "charges",
         "rawType": "float64",
         "type": "float"
        }
       ],
       "ref": "6a57abe4-e8c1-4904-a53a-09b6e5400255",
       "rows": [
        [
         "0",
         "19",
         "female",
         "27.9",
         "0",
         "yes",
         "southwest",
         "16884.924"
        ],
        [
         "12",
         "23",
         "male",
         "34.4",
         "0",
         "no",
         "southwest",
         "1826.843"
        ],
        [
         "15",
         "19",
         "male",
         "24.6",
         "1",
         "no",
         "southwest",
         "1837.237"
        ],
        [
         "18",
         "56",
         "male",
         "40.3",
         "0",
         "no",
         "southwest",
         "10602.385"
        ],
        [
         "19",
         "30",
         "male",
         "35.3",
         "0",
         "yes",
         "southwest",
         "36837.467"
        ],
        [
         "21",
         "30",
         "female",
         "32.4",
         "1",
         "no",
         "southwest",
         "4149.736"
        ],
        [
         "29",
         "31",
         "male",
         "36.3",
         "2",
         "yes",
         "southwest",
         "38711.0"
        ],
        [
         "30",
         "22",
         "male",
         "35.6",
         "0",
         "yes",
         "southwest",
         "35585.576"
        ],
        [
         "32",
         "19",
         "female",
         "28.6",
         "5",
         "no",
         "southwest",
         "4687.797"
        ],
        [
         "34",
         "28",
         "male",
         "36.4",
         "1",
         "yes",
         "southwest",
         "51194.55914"
        ],
        [
         "37",
         "26",
         "male",
         "20.8",
         "0",
         "no",
         "southwest",
         "2302.3"
        ],
        [
         "39",
         "60",
         "male",
         "39.9",
         "0",
         "yes",
         "southwest",
         "48173.361"
        ],
        [
         "45",
         "55",
         "male",
         "37.3",
         "0",
         "no",
         "southwest",
         "20630.28351"
        ],
        [
         "52",
         "48",
         "male",
         "28.0",
         "1",
         "yes",
         "southwest",
         "23568.272"
        ],
        [
         "65",
         "19",
         "female",
         "28.9",
         "0",
         "no",
         "southwest",
         "1743.214"
        ],
        [
         "66",
         "61",
         "female",
         "39.1",
         "2",
         "no",
         "southwest",
         "14235.072"
        ],
        [
         "72",
         "53",
         "female",
         "28.1",
         "3",
         "no",
         "southwest",
         "11741.726"
        ],
        [
         "74",
         "44",
         "male",
         "27.4",
         "2",
         "no",
         "southwest",
         "7726.854"
        ],
        [
         "84",
         "37",
         "female",
         "34.8",
         "2",
         "yes",
         "southwest",
         "39836.519"
        ],
        [
         "87",
         "56",
         "female",
         "27.2",
         "0",
         "no",
         "southwest",
         "11073.176"
        ],
        [
         "94",
         "64",
         "female",
         "31.3",
         "2",
         "yes",
         "southwest",
         "47291.055"
        ],
        [
         "96",
         "54",
         "female",
         "30.8",
         "3",
         "no",
         "southwest",
         "12105.32"
        ],
        [
         "99",
         "38",
         "male",
         "19.3",
         "0",
         "yes",
         "southwest",
         "15820.699"
        ],
        [
         "100",
         "41",
         "female",
         "31.6",
         "0",
         "no",
         "southwest",
         "6186.127"
        ],
        [
         "104",
         "34",
         "female",
         "27.5",
         "1",
         "no",
         "southwest",
         "5003.853"
        ],
        [
         "106",
         "19",
         "female",
         "28.4",
         "1",
         "no",
         "southwest",
         "2331.519"
        ],
        [
         "111",
         "55",
         "female",
         "29.7",
         "2",
         "no",
         "southwest",
         "11881.358"
        ],
        [
         "112",
         "37",
         "male",
         "30.8",
         "0",
         "no",
         "southwest",
         "4646.759"
        ],
        [
         "120",
         "44",
         "male",
         "37.1",
         "2",
         "no",
         "southwest",
         "7740.337"
        ],
        [
         "126",
         "19",
         "female",
         "28.3",
         "0",
         "yes",
         "southwest",
         "17081.08"
        ],
        [
         "127",
         "52",
         "female",
         "37.4",
         "0",
         "no",
         "southwest",
         "9634.538"
        ],
        [
         "129",
         "38",
         "male",
         "34.7",
         "2",
         "no",
         "southwest",
         "6082.405"
        ],
        [
         "132",
         "53",
         "female",
         "35.9",
         "2",
         "no",
         "southwest",
         "11163.568"
        ],
        [
         "136",
         "19",
         "male",
         "34.1",
         "0",
         "no",
         "southwest",
         "1261.442"
        ],
        [
         "139",
         "22",
         "female",
         "36.0",
         "0",
         "no",
         "southwest",
         "2166.732"
        ],
        [
         "149",
         "19",
         "male",
         "28.4",
         "1",
         "no",
         "southwest",
         "1842.519"
        ],
        [
         "162",
         "54",
         "male",
         "39.6",
         "1",
         "no",
         "southwest",
         "10450.552"
        ],
        [
         "163",
         "32",
         "female",
         "29.8",
         "2",
         "no",
         "southwest",
         "5152.134"
        ],
        [
         "166",
         "20",
         "female",
         "37.0",
         "5",
         "no",
         "southwest",
         "4830.63"
        ],
        [
         "171",
         "49",
         "male",
         "30.3",
         "0",
         "no",
         "southwest",
         "8116.68"
        ],
        [
         "173",
         "35",
         "female",
         "34.8",
         "1",
         "no",
         "southwest",
         "5246.047"
        ],
        [
         "175",
         "63",
         "female",
         "37.7",
         "0",
         "yes",
         "southwest",
         "48824.45"
        ],
        [
         "177",
         "54",
         "male",
         "29.2",
         "1",
         "no",
         "southwest",
         "10436.096"
        ],
        [
         "178",
         "46",
         "female",
         "28.9",
         "2",
         "no",
         "southwest",
         "8823.279"
        ],
        [
         "187",
         "30",
         "female",
         "30.9",
         "3",
         "no",
         "southwest",
         "5325.651"
        ],
        [
         "188",
         "41",
         "female",
         "32.2",
         "1",
         "no",
         "southwest",
         "6775.961"
        ],
        [
         "191",
         "36",
         "female",
         "26.2",
         "0",
         "no",
         "southwest",
         "4883.866"
        ],
        [
         "196",
         "39",
         "female",
         "32.8",
         "0",
         "no",
         "southwest",
         "5649.715"
        ],
        [
         "204",
         "46",
         "male",
         "22.3",
         "0",
         "no",
         "southwest",
         "7147.105"
        ],
        [
         "208",
         "63",
         "female",
         "31.8",
         "0",
         "no",
         "southwest",
         "13880.949"
        ]
       ],
       "shape": {
        "columns": 7,
        "rows": 325
       }
      },
      "text/html": [
       "<div>\n",
       "<style scoped>\n",
       "    .dataframe tbody tr th:only-of-type {\n",
       "        vertical-align: middle;\n",
       "    }\n",
       "\n",
       "    .dataframe tbody tr th {\n",
       "        vertical-align: top;\n",
       "    }\n",
       "\n",
       "    .dataframe thead th {\n",
       "        text-align: right;\n",
       "    }\n",
       "</style>\n",
       "<table border=\"1\" class=\"dataframe\">\n",
       "  <thead>\n",
       "    <tr style=\"text-align: right;\">\n",
       "      <th></th>\n",
       "      <th>age</th>\n",
       "      <th>sex</th>\n",
       "      <th>bmi</th>\n",
       "      <th>children</th>\n",
       "      <th>smoker</th>\n",
       "      <th>region</th>\n",
       "      <th>charges</th>\n",
       "    </tr>\n",
       "  </thead>\n",
       "  <tbody>\n",
       "    <tr>\n",
       "      <th>0</th>\n",
       "      <td>19</td>\n",
       "      <td>female</td>\n",
       "      <td>27.9</td>\n",
       "      <td>0</td>\n",
       "      <td>yes</td>\n",
       "      <td>southwest</td>\n",
       "      <td>16884.92400</td>\n",
       "    </tr>\n",
       "    <tr>\n",
       "      <th>12</th>\n",
       "      <td>23</td>\n",
       "      <td>male</td>\n",
       "      <td>34.4</td>\n",
       "      <td>0</td>\n",
       "      <td>no</td>\n",
       "      <td>southwest</td>\n",
       "      <td>1826.84300</td>\n",
       "    </tr>\n",
       "    <tr>\n",
       "      <th>15</th>\n",
       "      <td>19</td>\n",
       "      <td>male</td>\n",
       "      <td>24.6</td>\n",
       "      <td>1</td>\n",
       "      <td>no</td>\n",
       "      <td>southwest</td>\n",
       "      <td>1837.23700</td>\n",
       "    </tr>\n",
       "    <tr>\n",
       "      <th>18</th>\n",
       "      <td>56</td>\n",
       "      <td>male</td>\n",
       "      <td>40.3</td>\n",
       "      <td>0</td>\n",
       "      <td>no</td>\n",
       "      <td>southwest</td>\n",
       "      <td>10602.38500</td>\n",
       "    </tr>\n",
       "    <tr>\n",
       "      <th>19</th>\n",
       "      <td>30</td>\n",
       "      <td>male</td>\n",
       "      <td>35.3</td>\n",
       "      <td>0</td>\n",
       "      <td>yes</td>\n",
       "      <td>southwest</td>\n",
       "      <td>36837.46700</td>\n",
       "    </tr>\n",
       "    <tr>\n",
       "      <th>...</th>\n",
       "      <td>...</td>\n",
       "      <td>...</td>\n",
       "      <td>...</td>\n",
       "      <td>...</td>\n",
       "      <td>...</td>\n",
       "      <td>...</td>\n",
       "      <td>...</td>\n",
       "    </tr>\n",
       "    <tr>\n",
       "      <th>1316</th>\n",
       "      <td>19</td>\n",
       "      <td>female</td>\n",
       "      <td>20.6</td>\n",
       "      <td>0</td>\n",
       "      <td>no</td>\n",
       "      <td>southwest</td>\n",
       "      <td>1731.67700</td>\n",
       "    </tr>\n",
       "    <tr>\n",
       "      <th>1329</th>\n",
       "      <td>52</td>\n",
       "      <td>male</td>\n",
       "      <td>38.6</td>\n",
       "      <td>2</td>\n",
       "      <td>no</td>\n",
       "      <td>southwest</td>\n",
       "      <td>10325.20600</td>\n",
       "    </tr>\n",
       "    <tr>\n",
       "      <th>1331</th>\n",
       "      <td>23</td>\n",
       "      <td>female</td>\n",
       "      <td>33.4</td>\n",
       "      <td>0</td>\n",
       "      <td>no</td>\n",
       "      <td>southwest</td>\n",
       "      <td>10795.93733</td>\n",
       "    </tr>\n",
       "    <tr>\n",
       "      <th>1332</th>\n",
       "      <td>52</td>\n",
       "      <td>female</td>\n",
       "      <td>44.7</td>\n",
       "      <td>3</td>\n",
       "      <td>no</td>\n",
       "      <td>southwest</td>\n",
       "      <td>11411.68500</td>\n",
       "    </tr>\n",
       "    <tr>\n",
       "      <th>1336</th>\n",
       "      <td>21</td>\n",
       "      <td>female</td>\n",
       "      <td>25.8</td>\n",
       "      <td>0</td>\n",
       "      <td>no</td>\n",
       "      <td>southwest</td>\n",
       "      <td>2007.94500</td>\n",
       "    </tr>\n",
       "  </tbody>\n",
       "</table>\n",
       "<p>325 rows × 7 columns</p>\n",
       "</div>"
      ],
      "text/plain": [
       "      age     sex   bmi  children smoker     region      charges\n",
       "0      19  female  27.9         0    yes  southwest  16884.92400\n",
       "12     23    male  34.4         0     no  southwest   1826.84300\n",
       "15     19    male  24.6         1     no  southwest   1837.23700\n",
       "18     56    male  40.3         0     no  southwest  10602.38500\n",
       "19     30    male  35.3         0    yes  southwest  36837.46700\n",
       "...   ...     ...   ...       ...    ...        ...          ...\n",
       "1316   19  female  20.6         0     no  southwest   1731.67700\n",
       "1329   52    male  38.6         2     no  southwest  10325.20600\n",
       "1331   23  female  33.4         0     no  southwest  10795.93733\n",
       "1332   52  female  44.7         3     no  southwest  11411.68500\n",
       "1336   21  female  25.8         0     no  southwest   2007.94500\n",
       "\n",
       "[325 rows x 7 columns]"
      ]
     },
     "execution_count": 28,
     "metadata": {},
     "output_type": "execute_result"
    }
   ],
   "source": [
    "southwest_df\n"
   ]
  },
  {
   "cell_type": "code",
   "execution_count": 29,
   "id": "27408374",
   "metadata": {},
   "outputs": [],
   "source": [
    "southwest_df =df[df['charges'] <= 16884]"
   ]
  },
  {
   "cell_type": "code",
   "execution_count": 30,
   "id": "484d438d",
   "metadata": {},
   "outputs": [],
   "source": [
    "southwest_df =df[df['bmi'] <= 27]"
   ]
  },
  {
   "cell_type": "code",
   "execution_count": 31,
   "id": "52d00984",
   "metadata": {},
   "outputs": [],
   "source": [
    "southwest_df =df[(df['region']== 'southwest')&\n",
    "                 (df['bmi'] <= 27)&\n",
    "                 (df['charges'] <= 16884)]"
   ]
  },
  {
   "cell_type": "code",
   "execution_count": 32,
   "id": "9e044780",
   "metadata": {},
   "outputs": [
    {
     "data": {
      "application/vnd.microsoft.datawrangler.viewer.v0+json": {
       "columns": [
        {
         "name": "index",
         "rawType": "int64",
         "type": "integer"
        },
        {
         "name": "age",
         "rawType": "int64",
         "type": "integer"
        },
        {
         "name": "sex",
         "rawType": "object",
         "type": "string"
        },
        {
         "name": "bmi",
         "rawType": "float64",
         "type": "float"
        },
        {
         "name": "children",
         "rawType": "int64",
         "type": "integer"
        },
        {
         "name": "smoker",
         "rawType": "object",
         "type": "string"
        },
        {
         "name": "region",
         "rawType": "object",
         "type": "string"
        },
        {
         "name": "charges",
         "rawType": "float64",
         "type": "float"
        }
       ],
       "ref": "617ea7e4-5117-4fe1-85ff-ccbd3aea6f8c",
       "rows": [
        [
         "15",
         "19",
         "male",
         "24.6",
         "1",
         "no",
         "southwest",
         "1837.237"
        ],
        [
         "37",
         "26",
         "male",
         "20.8",
         "0",
         "no",
         "southwest",
         "2302.3"
        ],
        [
         "99",
         "38",
         "male",
         "19.3",
         "0",
         "yes",
         "southwest",
         "15820.699"
        ],
        [
         "191",
         "36",
         "female",
         "26.2",
         "0",
         "no",
         "southwest",
         "4883.866"
        ],
        [
         "204",
         "46",
         "male",
         "22.3",
         "0",
         "no",
         "southwest",
         "7147.105"
        ],
        [
         "232",
         "19",
         "female",
         "17.8",
         "0",
         "no",
         "southwest",
         "1727.785"
        ],
        [
         "248",
         "19",
         "male",
         "20.9",
         "1",
         "no",
         "southwest",
         "1832.094"
        ],
        [
         "260",
         "58",
         "female",
         "25.2",
         "0",
         "no",
         "southwest",
         "11837.16"
        ],
        [
         "277",
         "22",
         "female",
         "24.3",
         "0",
         "no",
         "southwest",
         "2150.469"
        ],
        [
         "294",
         "25",
         "male",
         "26.8",
         "3",
         "no",
         "southwest",
         "3906.127"
        ],
        [
         "310",
         "50",
         "male",
         "26.6",
         "0",
         "no",
         "southwest",
         "8444.474"
        ],
        [
         "311",
         "19",
         "female",
         "24.7",
         "0",
         "no",
         "southwest",
         "1737.376"
        ],
        [
         "351",
         "50",
         "female",
         "25.6",
         "0",
         "no",
         "southwest",
         "8932.084"
        ],
        [
         "362",
         "19",
         "female",
         "21.7",
         "0",
         "yes",
         "southwest",
         "13844.506"
        ],
        [
         "363",
         "21",
         "female",
         "26.4",
         "1",
         "no",
         "southwest",
         "2597.779"
        ],
        [
         "398",
         "64",
         "male",
         "25.6",
         "2",
         "no",
         "southwest",
         "14988.432"
        ],
        [
         "400",
         "51",
         "female",
         "20.6",
         "0",
         "no",
         "southwest",
         "9264.797"
        ],
        [
         "404",
         "31",
         "male",
         "20.4",
         "0",
         "no",
         "southwest",
         "3260.199"
        ],
        [
         "407",
         "47",
         "female",
         "23.6",
         "1",
         "no",
         "southwest",
         "8539.671"
        ],
        [
         "413",
         "25",
         "male",
         "23.9",
         "5",
         "no",
         "southwest",
         "5080.096"
        ],
        [
         "432",
         "42",
         "male",
         "26.9",
         "0",
         "no",
         "southwest",
         "5969.723"
        ],
        [
         "452",
         "24",
         "male",
         "23.4",
         "0",
         "no",
         "southwest",
         "1969.614"
        ],
        [
         "496",
         "31",
         "female",
         "23.6",
         "2",
         "no",
         "southwest",
         "4931.647"
        ],
        [
         "527",
         "51",
         "female",
         "25.8",
         "1",
         "no",
         "southwest",
         "9861.025"
        ],
        [
         "552",
         "62",
         "male",
         "21.4",
         "0",
         "no",
         "southwest",
         "12957.118"
        ],
        [
         "555",
         "28",
         "male",
         "23.8",
         "2",
         "no",
         "southwest",
         "3847.674"
        ],
        [
         "584",
         "19",
         "male",
         "20.7",
         "0",
         "no",
         "southwest",
         "1242.816"
        ],
        [
         "602",
         "56",
         "female",
         "25.3",
         "0",
         "no",
         "southwest",
         "11070.535"
        ],
        [
         "622",
         "49",
         "female",
         "21.3",
         "1",
         "no",
         "southwest",
         "9182.17"
        ],
        [
         "680",
         "21",
         "female",
         "17.4",
         "1",
         "no",
         "southwest",
         "2585.269"
        ],
        [
         "681",
         "19",
         "male",
         "20.3",
         "0",
         "no",
         "southwest",
         "1242.26"
        ],
        [
         "684",
         "33",
         "female",
         "18.5",
         "1",
         "no",
         "southwest",
         "4766.022"
        ],
        [
         "714",
         "24",
         "female",
         "22.6",
         "0",
         "no",
         "southwest",
         "2457.502"
        ],
        [
         "731",
         "53",
         "male",
         "21.4",
         "1",
         "no",
         "southwest",
         "10065.413"
        ],
        [
         "737",
         "26",
         "male",
         "23.7",
         "2",
         "no",
         "southwest",
         "3484.331"
        ],
        [
         "746",
         "34",
         "male",
         "27.0",
         "2",
         "no",
         "southwest",
         "11737.84884"
        ],
        [
         "771",
         "53",
         "female",
         "26.7",
         "2",
         "no",
         "southwest",
         "11150.78"
        ],
        [
         "802",
         "21",
         "male",
         "22.3",
         "1",
         "no",
         "southwest",
         "2103.08"
        ],
        [
         "848",
         "27",
         "female",
         "24.1",
         "0",
         "no",
         "southwest",
         "2974.126"
        ],
        [
         "864",
         "51",
         "male",
         "25.4",
         "0",
         "no",
         "southwest",
         "8782.469"
        ],
        [
         "869",
         "25",
         "female",
         "24.3",
         "3",
         "no",
         "southwest",
         "4391.652"
        ],
        [
         "920",
         "62",
         "female",
         "25.0",
         "0",
         "no",
         "southwest",
         "13451.122"
        ],
        [
         "924",
         "43",
         "male",
         "23.2",
         "0",
         "no",
         "southwest",
         "6250.435"
        ],
        [
         "926",
         "19",
         "female",
         "23.4",
         "2",
         "no",
         "southwest",
         "2913.569"
        ],
        [
         "927",
         "57",
         "female",
         "20.1",
         "1",
         "no",
         "southwest",
         "12032.326"
        ],
        [
         "932",
         "46",
         "male",
         "25.8",
         "5",
         "no",
         "southwest",
         "10096.97"
        ],
        [
         "961",
         "29",
         "female",
         "25.9",
         "0",
         "no",
         "southwest",
         "3353.284"
        ],
        [
         "985",
         "44",
         "female",
         "25.8",
         "1",
         "no",
         "southwest",
         "7624.63"
        ],
        [
         "990",
         "26",
         "female",
         "19.8",
         "1",
         "no",
         "southwest",
         "3378.91"
        ],
        [
         "1002",
         "24",
         "male",
         "25.8",
         "0",
         "no",
         "southwest",
         "1972.95"
        ]
       ],
       "shape": {
        "columns": 7,
        "rows": 71
       }
      },
      "text/html": [
       "<div>\n",
       "<style scoped>\n",
       "    .dataframe tbody tr th:only-of-type {\n",
       "        vertical-align: middle;\n",
       "    }\n",
       "\n",
       "    .dataframe tbody tr th {\n",
       "        vertical-align: top;\n",
       "    }\n",
       "\n",
       "    .dataframe thead th {\n",
       "        text-align: right;\n",
       "    }\n",
       "</style>\n",
       "<table border=\"1\" class=\"dataframe\">\n",
       "  <thead>\n",
       "    <tr style=\"text-align: right;\">\n",
       "      <th></th>\n",
       "      <th>age</th>\n",
       "      <th>sex</th>\n",
       "      <th>bmi</th>\n",
       "      <th>children</th>\n",
       "      <th>smoker</th>\n",
       "      <th>region</th>\n",
       "      <th>charges</th>\n",
       "    </tr>\n",
       "  </thead>\n",
       "  <tbody>\n",
       "    <tr>\n",
       "      <th>15</th>\n",
       "      <td>19</td>\n",
       "      <td>male</td>\n",
       "      <td>24.6</td>\n",
       "      <td>1</td>\n",
       "      <td>no</td>\n",
       "      <td>southwest</td>\n",
       "      <td>1837.237</td>\n",
       "    </tr>\n",
       "    <tr>\n",
       "      <th>37</th>\n",
       "      <td>26</td>\n",
       "      <td>male</td>\n",
       "      <td>20.8</td>\n",
       "      <td>0</td>\n",
       "      <td>no</td>\n",
       "      <td>southwest</td>\n",
       "      <td>2302.300</td>\n",
       "    </tr>\n",
       "    <tr>\n",
       "      <th>99</th>\n",
       "      <td>38</td>\n",
       "      <td>male</td>\n",
       "      <td>19.3</td>\n",
       "      <td>0</td>\n",
       "      <td>yes</td>\n",
       "      <td>southwest</td>\n",
       "      <td>15820.699</td>\n",
       "    </tr>\n",
       "    <tr>\n",
       "      <th>191</th>\n",
       "      <td>36</td>\n",
       "      <td>female</td>\n",
       "      <td>26.2</td>\n",
       "      <td>0</td>\n",
       "      <td>no</td>\n",
       "      <td>southwest</td>\n",
       "      <td>4883.866</td>\n",
       "    </tr>\n",
       "    <tr>\n",
       "      <th>204</th>\n",
       "      <td>46</td>\n",
       "      <td>male</td>\n",
       "      <td>22.3</td>\n",
       "      <td>0</td>\n",
       "      <td>no</td>\n",
       "      <td>southwest</td>\n",
       "      <td>7147.105</td>\n",
       "    </tr>\n",
       "    <tr>\n",
       "      <th>...</th>\n",
       "      <td>...</td>\n",
       "      <td>...</td>\n",
       "      <td>...</td>\n",
       "      <td>...</td>\n",
       "      <td>...</td>\n",
       "      <td>...</td>\n",
       "      <td>...</td>\n",
       "    </tr>\n",
       "    <tr>\n",
       "      <th>1287</th>\n",
       "      <td>36</td>\n",
       "      <td>female</td>\n",
       "      <td>25.9</td>\n",
       "      <td>1</td>\n",
       "      <td>no</td>\n",
       "      <td>southwest</td>\n",
       "      <td>5472.449</td>\n",
       "    </tr>\n",
       "    <tr>\n",
       "      <th>1295</th>\n",
       "      <td>20</td>\n",
       "      <td>male</td>\n",
       "      <td>22.0</td>\n",
       "      <td>1</td>\n",
       "      <td>no</td>\n",
       "      <td>southwest</td>\n",
       "      <td>1964.780</td>\n",
       "    </tr>\n",
       "    <tr>\n",
       "      <th>1302</th>\n",
       "      <td>25</td>\n",
       "      <td>female</td>\n",
       "      <td>20.8</td>\n",
       "      <td>1</td>\n",
       "      <td>no</td>\n",
       "      <td>southwest</td>\n",
       "      <td>3208.787</td>\n",
       "    </tr>\n",
       "    <tr>\n",
       "      <th>1316</th>\n",
       "      <td>19</td>\n",
       "      <td>female</td>\n",
       "      <td>20.6</td>\n",
       "      <td>0</td>\n",
       "      <td>no</td>\n",
       "      <td>southwest</td>\n",
       "      <td>1731.677</td>\n",
       "    </tr>\n",
       "    <tr>\n",
       "      <th>1336</th>\n",
       "      <td>21</td>\n",
       "      <td>female</td>\n",
       "      <td>25.8</td>\n",
       "      <td>0</td>\n",
       "      <td>no</td>\n",
       "      <td>southwest</td>\n",
       "      <td>2007.945</td>\n",
       "    </tr>\n",
       "  </tbody>\n",
       "</table>\n",
       "<p>71 rows × 7 columns</p>\n",
       "</div>"
      ],
      "text/plain": [
       "      age     sex   bmi  children smoker     region    charges\n",
       "15     19    male  24.6         1     no  southwest   1837.237\n",
       "37     26    male  20.8         0     no  southwest   2302.300\n",
       "99     38    male  19.3         0    yes  southwest  15820.699\n",
       "191    36  female  26.2         0     no  southwest   4883.866\n",
       "204    46    male  22.3         0     no  southwest   7147.105\n",
       "...   ...     ...   ...       ...    ...        ...        ...\n",
       "1287   36  female  25.9         1     no  southwest   5472.449\n",
       "1295   20    male  22.0         1     no  southwest   1964.780\n",
       "1302   25  female  20.8         1     no  southwest   3208.787\n",
       "1316   19  female  20.6         0     no  southwest   1731.677\n",
       "1336   21  female  25.8         0     no  southwest   2007.945\n",
       "\n",
       "[71 rows x 7 columns]"
      ]
     },
     "execution_count": 32,
     "metadata": {},
     "output_type": "execute_result"
    }
   ],
   "source": [
    "southwest_df\n"
   ]
  },
  {
   "cell_type": "code",
   "execution_count": 33,
   "id": "015cc5a5",
   "metadata": {},
   "outputs": [],
   "source": [
    "df.rename(columns= {'age': 'a'},inplace= True)"
   ]
  },
  {
   "cell_type": "code",
   "execution_count": 34,
   "id": "a516a3eb",
   "metadata": {},
   "outputs": [
    {
     "data": {
      "application/vnd.microsoft.datawrangler.viewer.v0+json": {
       "columns": [
        {
         "name": "index",
         "rawType": "int64",
         "type": "integer"
        },
        {
         "name": "a",
         "rawType": "int64",
         "type": "integer"
        },
        {
         "name": "sex",
         "rawType": "object",
         "type": "string"
        },
        {
         "name": "bmi",
         "rawType": "float64",
         "type": "float"
        },
        {
         "name": "children",
         "rawType": "int64",
         "type": "integer"
        },
        {
         "name": "smoker",
         "rawType": "object",
         "type": "string"
        },
        {
         "name": "region",
         "rawType": "object",
         "type": "string"
        },
        {
         "name": "charges",
         "rawType": "float64",
         "type": "float"
        }
       ],
       "ref": "b91f1c53-2dfe-4491-8c69-ed6d7755551d",
       "rows": [
        [
         "0",
         "19",
         "female",
         "27.9",
         "0",
         "yes",
         "southwest",
         "16884.924"
        ],
        [
         "1",
         "18",
         "male",
         "33.77",
         "1",
         "no",
         "southeast",
         "1725.5523"
        ],
        [
         "2",
         "28",
         "male",
         "33.0",
         "3",
         "no",
         "southeast",
         "4449.462"
        ],
        [
         "3",
         "33",
         "male",
         "22.705",
         "0",
         "no",
         "northwest",
         "21984.47061"
        ],
        [
         "4",
         "32",
         "male",
         "28.88",
         "0",
         "no",
         "northwest",
         "3866.8552"
        ],
        [
         "5",
         "31",
         "female",
         "25.74",
         "0",
         "no",
         "southeast",
         "3756.6216"
        ],
        [
         "6",
         "46",
         "female",
         "33.44",
         "1",
         "no",
         "southeast",
         "8240.5896"
        ],
        [
         "7",
         "37",
         "female",
         "27.74",
         "3",
         "no",
         "northwest",
         "7281.5056"
        ],
        [
         "8",
         "37",
         "male",
         "29.83",
         "2",
         "no",
         "northeast",
         "6406.4107"
        ],
        [
         "9",
         "60",
         "female",
         "25.84",
         "0",
         "no",
         "northwest",
         "28923.13692"
        ],
        [
         "10",
         "25",
         "male",
         "26.22",
         "0",
         "no",
         "northeast",
         "2721.3208"
        ],
        [
         "11",
         "62",
         "female",
         "26.29",
         "0",
         "yes",
         "southeast",
         "27808.7251"
        ],
        [
         "12",
         "23",
         "male",
         "34.4",
         "0",
         "no",
         "southwest",
         "1826.843"
        ],
        [
         "13",
         "56",
         "female",
         "39.82",
         "0",
         "no",
         "southeast",
         "11090.7178"
        ],
        [
         "14",
         "27",
         "male",
         "42.13",
         "0",
         "yes",
         "southeast",
         "39611.7577"
        ],
        [
         "15",
         "19",
         "male",
         "24.6",
         "1",
         "no",
         "southwest",
         "1837.237"
        ],
        [
         "16",
         "52",
         "female",
         "30.78",
         "1",
         "no",
         "northeast",
         "10797.3362"
        ],
        [
         "17",
         "23",
         "male",
         "23.845",
         "0",
         "no",
         "northeast",
         "2395.17155"
        ],
        [
         "18",
         "56",
         "male",
         "40.3",
         "0",
         "no",
         "southwest",
         "10602.385"
        ],
        [
         "19",
         "30",
         "male",
         "35.3",
         "0",
         "yes",
         "southwest",
         "36837.467"
        ],
        [
         "20",
         "60",
         "female",
         "36.005",
         "0",
         "no",
         "northeast",
         "13228.84695"
        ],
        [
         "21",
         "30",
         "female",
         "32.4",
         "1",
         "no",
         "southwest",
         "4149.736"
        ],
        [
         "22",
         "18",
         "male",
         "34.1",
         "0",
         "no",
         "southeast",
         "1137.011"
        ],
        [
         "23",
         "34",
         "female",
         "31.92",
         "1",
         "yes",
         "northeast",
         "37701.8768"
        ],
        [
         "24",
         "37",
         "male",
         "28.025",
         "2",
         "no",
         "northwest",
         "6203.90175"
        ],
        [
         "25",
         "59",
         "female",
         "27.72",
         "3",
         "no",
         "southeast",
         "14001.1338"
        ],
        [
         "26",
         "63",
         "female",
         "23.085",
         "0",
         "no",
         "northeast",
         "14451.83515"
        ],
        [
         "27",
         "55",
         "female",
         "32.775",
         "2",
         "no",
         "northwest",
         "12268.63225"
        ],
        [
         "28",
         "23",
         "male",
         "17.385",
         "1",
         "no",
         "northwest",
         "2775.19215"
        ],
        [
         "29",
         "31",
         "male",
         "36.3",
         "2",
         "yes",
         "southwest",
         "38711.0"
        ],
        [
         "30",
         "22",
         "male",
         "35.6",
         "0",
         "yes",
         "southwest",
         "35585.576"
        ],
        [
         "31",
         "18",
         "female",
         "26.315",
         "0",
         "no",
         "northeast",
         "2198.18985"
        ],
        [
         "32",
         "19",
         "female",
         "28.6",
         "5",
         "no",
         "southwest",
         "4687.797"
        ],
        [
         "33",
         "63",
         "male",
         "28.31",
         "0",
         "no",
         "northwest",
         "13770.0979"
        ],
        [
         "34",
         "28",
         "male",
         "36.4",
         "1",
         "yes",
         "southwest",
         "51194.55914"
        ],
        [
         "35",
         "19",
         "male",
         "20.425",
         "0",
         "no",
         "northwest",
         "1625.43375"
        ],
        [
         "36",
         "62",
         "female",
         "32.965",
         "3",
         "no",
         "northwest",
         "15612.19335"
        ],
        [
         "37",
         "26",
         "male",
         "20.8",
         "0",
         "no",
         "southwest",
         "2302.3"
        ],
        [
         "38",
         "35",
         "male",
         "36.67",
         "1",
         "yes",
         "northeast",
         "39774.2763"
        ],
        [
         "39",
         "60",
         "male",
         "39.9",
         "0",
         "yes",
         "southwest",
         "48173.361"
        ],
        [
         "40",
         "24",
         "female",
         "26.6",
         "0",
         "no",
         "northeast",
         "3046.062"
        ],
        [
         "41",
         "31",
         "female",
         "36.63",
         "2",
         "no",
         "southeast",
         "4949.7587"
        ],
        [
         "42",
         "41",
         "male",
         "21.78",
         "1",
         "no",
         "southeast",
         "6272.4772"
        ],
        [
         "43",
         "37",
         "female",
         "30.8",
         "2",
         "no",
         "southeast",
         "6313.759"
        ],
        [
         "44",
         "38",
         "male",
         "37.05",
         "1",
         "no",
         "northeast",
         "6079.6715"
        ],
        [
         "45",
         "55",
         "male",
         "37.3",
         "0",
         "no",
         "southwest",
         "20630.28351"
        ],
        [
         "46",
         "18",
         "female",
         "38.665",
         "2",
         "no",
         "northeast",
         "3393.35635"
        ],
        [
         "47",
         "28",
         "female",
         "34.77",
         "0",
         "no",
         "northwest",
         "3556.9223"
        ],
        [
         "48",
         "60",
         "female",
         "24.53",
         "0",
         "no",
         "southeast",
         "12629.8967"
        ],
        [
         "49",
         "36",
         "male",
         "35.2",
         "1",
         "yes",
         "southeast",
         "38709.176"
        ]
       ],
       "shape": {
        "columns": 7,
        "rows": 1337
       }
      },
      "text/html": [
       "<div>\n",
       "<style scoped>\n",
       "    .dataframe tbody tr th:only-of-type {\n",
       "        vertical-align: middle;\n",
       "    }\n",
       "\n",
       "    .dataframe tbody tr th {\n",
       "        vertical-align: top;\n",
       "    }\n",
       "\n",
       "    .dataframe thead th {\n",
       "        text-align: right;\n",
       "    }\n",
       "</style>\n",
       "<table border=\"1\" class=\"dataframe\">\n",
       "  <thead>\n",
       "    <tr style=\"text-align: right;\">\n",
       "      <th></th>\n",
       "      <th>a</th>\n",
       "      <th>sex</th>\n",
       "      <th>bmi</th>\n",
       "      <th>children</th>\n",
       "      <th>smoker</th>\n",
       "      <th>region</th>\n",
       "      <th>charges</th>\n",
       "    </tr>\n",
       "  </thead>\n",
       "  <tbody>\n",
       "    <tr>\n",
       "      <th>0</th>\n",
       "      <td>19</td>\n",
       "      <td>female</td>\n",
       "      <td>27.900</td>\n",
       "      <td>0</td>\n",
       "      <td>yes</td>\n",
       "      <td>southwest</td>\n",
       "      <td>16884.92400</td>\n",
       "    </tr>\n",
       "    <tr>\n",
       "      <th>1</th>\n",
       "      <td>18</td>\n",
       "      <td>male</td>\n",
       "      <td>33.770</td>\n",
       "      <td>1</td>\n",
       "      <td>no</td>\n",
       "      <td>southeast</td>\n",
       "      <td>1725.55230</td>\n",
       "    </tr>\n",
       "    <tr>\n",
       "      <th>2</th>\n",
       "      <td>28</td>\n",
       "      <td>male</td>\n",
       "      <td>33.000</td>\n",
       "      <td>3</td>\n",
       "      <td>no</td>\n",
       "      <td>southeast</td>\n",
       "      <td>4449.46200</td>\n",
       "    </tr>\n",
       "    <tr>\n",
       "      <th>3</th>\n",
       "      <td>33</td>\n",
       "      <td>male</td>\n",
       "      <td>22.705</td>\n",
       "      <td>0</td>\n",
       "      <td>no</td>\n",
       "      <td>northwest</td>\n",
       "      <td>21984.47061</td>\n",
       "    </tr>\n",
       "    <tr>\n",
       "      <th>4</th>\n",
       "      <td>32</td>\n",
       "      <td>male</td>\n",
       "      <td>28.880</td>\n",
       "      <td>0</td>\n",
       "      <td>no</td>\n",
       "      <td>northwest</td>\n",
       "      <td>3866.85520</td>\n",
       "    </tr>\n",
       "    <tr>\n",
       "      <th>...</th>\n",
       "      <td>...</td>\n",
       "      <td>...</td>\n",
       "      <td>...</td>\n",
       "      <td>...</td>\n",
       "      <td>...</td>\n",
       "      <td>...</td>\n",
       "      <td>...</td>\n",
       "    </tr>\n",
       "    <tr>\n",
       "      <th>1333</th>\n",
       "      <td>50</td>\n",
       "      <td>male</td>\n",
       "      <td>30.970</td>\n",
       "      <td>3</td>\n",
       "      <td>no</td>\n",
       "      <td>northwest</td>\n",
       "      <td>10600.54830</td>\n",
       "    </tr>\n",
       "    <tr>\n",
       "      <th>1334</th>\n",
       "      <td>18</td>\n",
       "      <td>female</td>\n",
       "      <td>31.920</td>\n",
       "      <td>0</td>\n",
       "      <td>no</td>\n",
       "      <td>northeast</td>\n",
       "      <td>2205.98080</td>\n",
       "    </tr>\n",
       "    <tr>\n",
       "      <th>1335</th>\n",
       "      <td>18</td>\n",
       "      <td>female</td>\n",
       "      <td>36.850</td>\n",
       "      <td>0</td>\n",
       "      <td>no</td>\n",
       "      <td>southeast</td>\n",
       "      <td>1629.83350</td>\n",
       "    </tr>\n",
       "    <tr>\n",
       "      <th>1336</th>\n",
       "      <td>21</td>\n",
       "      <td>female</td>\n",
       "      <td>25.800</td>\n",
       "      <td>0</td>\n",
       "      <td>no</td>\n",
       "      <td>southwest</td>\n",
       "      <td>2007.94500</td>\n",
       "    </tr>\n",
       "    <tr>\n",
       "      <th>1337</th>\n",
       "      <td>61</td>\n",
       "      <td>female</td>\n",
       "      <td>29.070</td>\n",
       "      <td>0</td>\n",
       "      <td>yes</td>\n",
       "      <td>northwest</td>\n",
       "      <td>29141.36030</td>\n",
       "    </tr>\n",
       "  </tbody>\n",
       "</table>\n",
       "<p>1337 rows × 7 columns</p>\n",
       "</div>"
      ],
      "text/plain": [
       "       a     sex     bmi  children smoker     region      charges\n",
       "0     19  female  27.900         0    yes  southwest  16884.92400\n",
       "1     18    male  33.770         1     no  southeast   1725.55230\n",
       "2     28    male  33.000         3     no  southeast   4449.46200\n",
       "3     33    male  22.705         0     no  northwest  21984.47061\n",
       "4     32    male  28.880         0     no  northwest   3866.85520\n",
       "...   ..     ...     ...       ...    ...        ...          ...\n",
       "1333  50    male  30.970         3     no  northwest  10600.54830\n",
       "1334  18  female  31.920         0     no  northeast   2205.98080\n",
       "1335  18  female  36.850         0     no  southeast   1629.83350\n",
       "1336  21  female  25.800         0     no  southwest   2007.94500\n",
       "1337  61  female  29.070         0    yes  northwest  29141.36030\n",
       "\n",
       "[1337 rows x 7 columns]"
      ]
     },
     "execution_count": 34,
     "metadata": {},
     "output_type": "execute_result"
    }
   ],
   "source": [
    "df\n"
   ]
  },
  {
   "cell_type": "code",
   "execution_count": 35,
   "id": "b03203c7",
   "metadata": {},
   "outputs": [
    {
     "data": {
      "application/vnd.microsoft.datawrangler.viewer.v0+json": {
       "columns": [
        {
         "name": "index",
         "rawType": "int64",
         "type": "integer"
        },
        {
         "name": "sex",
         "rawType": "object",
         "type": "string"
        },
        {
         "name": "smoker",
         "rawType": "object",
         "type": "string"
        },
        {
         "name": "region",
         "rawType": "object",
         "type": "string"
        }
       ],
       "ref": "5fc3f2a3-e9ad-47f4-8fc0-f1d1ebf5346b",
       "rows": [
        [
         "0",
         "female",
         "yes",
         "southwest"
        ],
        [
         "1",
         "male",
         "no",
         "southeast"
        ],
        [
         "2",
         "male",
         "no",
         "southeast"
        ],
        [
         "3",
         "male",
         "no",
         "northwest"
        ],
        [
         "4",
         "male",
         "no",
         "northwest"
        ],
        [
         "5",
         "female",
         "no",
         "southeast"
        ],
        [
         "6",
         "female",
         "no",
         "southeast"
        ],
        [
         "7",
         "female",
         "no",
         "northwest"
        ],
        [
         "8",
         "male",
         "no",
         "northeast"
        ],
        [
         "9",
         "female",
         "no",
         "northwest"
        ],
        [
         "10",
         "male",
         "no",
         "northeast"
        ],
        [
         "11",
         "female",
         "yes",
         "southeast"
        ],
        [
         "12",
         "male",
         "no",
         "southwest"
        ],
        [
         "13",
         "female",
         "no",
         "southeast"
        ],
        [
         "14",
         "male",
         "yes",
         "southeast"
        ],
        [
         "15",
         "male",
         "no",
         "southwest"
        ],
        [
         "16",
         "female",
         "no",
         "northeast"
        ],
        [
         "17",
         "male",
         "no",
         "northeast"
        ],
        [
         "18",
         "male",
         "no",
         "southwest"
        ],
        [
         "19",
         "male",
         "yes",
         "southwest"
        ],
        [
         "20",
         "female",
         "no",
         "northeast"
        ],
        [
         "21",
         "female",
         "no",
         "southwest"
        ],
        [
         "22",
         "male",
         "no",
         "southeast"
        ],
        [
         "23",
         "female",
         "yes",
         "northeast"
        ],
        [
         "24",
         "male",
         "no",
         "northwest"
        ],
        [
         "25",
         "female",
         "no",
         "southeast"
        ],
        [
         "26",
         "female",
         "no",
         "northeast"
        ],
        [
         "27",
         "female",
         "no",
         "northwest"
        ],
        [
         "28",
         "male",
         "no",
         "northwest"
        ],
        [
         "29",
         "male",
         "yes",
         "southwest"
        ],
        [
         "30",
         "male",
         "yes",
         "southwest"
        ],
        [
         "31",
         "female",
         "no",
         "northeast"
        ],
        [
         "32",
         "female",
         "no",
         "southwest"
        ],
        [
         "33",
         "male",
         "no",
         "northwest"
        ],
        [
         "34",
         "male",
         "yes",
         "southwest"
        ],
        [
         "35",
         "male",
         "no",
         "northwest"
        ],
        [
         "36",
         "female",
         "no",
         "northwest"
        ],
        [
         "37",
         "male",
         "no",
         "southwest"
        ],
        [
         "38",
         "male",
         "yes",
         "northeast"
        ],
        [
         "39",
         "male",
         "yes",
         "southwest"
        ],
        [
         "40",
         "female",
         "no",
         "northeast"
        ],
        [
         "41",
         "female",
         "no",
         "southeast"
        ],
        [
         "42",
         "male",
         "no",
         "southeast"
        ],
        [
         "43",
         "female",
         "no",
         "southeast"
        ],
        [
         "44",
         "male",
         "no",
         "northeast"
        ],
        [
         "45",
         "male",
         "no",
         "southwest"
        ],
        [
         "46",
         "female",
         "no",
         "northeast"
        ],
        [
         "47",
         "female",
         "no",
         "northwest"
        ],
        [
         "48",
         "female",
         "no",
         "southeast"
        ],
        [
         "49",
         "male",
         "yes",
         "southeast"
        ]
       ],
       "shape": {
        "columns": 3,
        "rows": 1337
       }
      },
      "text/html": [
       "<div>\n",
       "<style scoped>\n",
       "    .dataframe tbody tr th:only-of-type {\n",
       "        vertical-align: middle;\n",
       "    }\n",
       "\n",
       "    .dataframe tbody tr th {\n",
       "        vertical-align: top;\n",
       "    }\n",
       "\n",
       "    .dataframe thead th {\n",
       "        text-align: right;\n",
       "    }\n",
       "</style>\n",
       "<table border=\"1\" class=\"dataframe\">\n",
       "  <thead>\n",
       "    <tr style=\"text-align: right;\">\n",
       "      <th></th>\n",
       "      <th>sex</th>\n",
       "      <th>smoker</th>\n",
       "      <th>region</th>\n",
       "    </tr>\n",
       "  </thead>\n",
       "  <tbody>\n",
       "    <tr>\n",
       "      <th>0</th>\n",
       "      <td>female</td>\n",
       "      <td>yes</td>\n",
       "      <td>southwest</td>\n",
       "    </tr>\n",
       "    <tr>\n",
       "      <th>1</th>\n",
       "      <td>male</td>\n",
       "      <td>no</td>\n",
       "      <td>southeast</td>\n",
       "    </tr>\n",
       "    <tr>\n",
       "      <th>2</th>\n",
       "      <td>male</td>\n",
       "      <td>no</td>\n",
       "      <td>southeast</td>\n",
       "    </tr>\n",
       "    <tr>\n",
       "      <th>3</th>\n",
       "      <td>male</td>\n",
       "      <td>no</td>\n",
       "      <td>northwest</td>\n",
       "    </tr>\n",
       "    <tr>\n",
       "      <th>4</th>\n",
       "      <td>male</td>\n",
       "      <td>no</td>\n",
       "      <td>northwest</td>\n",
       "    </tr>\n",
       "    <tr>\n",
       "      <th>...</th>\n",
       "      <td>...</td>\n",
       "      <td>...</td>\n",
       "      <td>...</td>\n",
       "    </tr>\n",
       "    <tr>\n",
       "      <th>1333</th>\n",
       "      <td>male</td>\n",
       "      <td>no</td>\n",
       "      <td>northwest</td>\n",
       "    </tr>\n",
       "    <tr>\n",
       "      <th>1334</th>\n",
       "      <td>female</td>\n",
       "      <td>no</td>\n",
       "      <td>northeast</td>\n",
       "    </tr>\n",
       "    <tr>\n",
       "      <th>1335</th>\n",
       "      <td>female</td>\n",
       "      <td>no</td>\n",
       "      <td>southeast</td>\n",
       "    </tr>\n",
       "    <tr>\n",
       "      <th>1336</th>\n",
       "      <td>female</td>\n",
       "      <td>no</td>\n",
       "      <td>southwest</td>\n",
       "    </tr>\n",
       "    <tr>\n",
       "      <th>1337</th>\n",
       "      <td>female</td>\n",
       "      <td>yes</td>\n",
       "      <td>northwest</td>\n",
       "    </tr>\n",
       "  </tbody>\n",
       "</table>\n",
       "<p>1337 rows × 3 columns</p>\n",
       "</div>"
      ],
      "text/plain": [
       "         sex smoker     region\n",
       "0     female    yes  southwest\n",
       "1       male     no  southeast\n",
       "2       male     no  southeast\n",
       "3       male     no  northwest\n",
       "4       male     no  northwest\n",
       "...      ...    ...        ...\n",
       "1333    male     no  northwest\n",
       "1334  female     no  northeast\n",
       "1335  female     no  southeast\n",
       "1336  female     no  southwest\n",
       "1337  female    yes  northwest\n",
       "\n",
       "[1337 rows x 3 columns]"
      ]
     },
     "execution_count": 35,
     "metadata": {},
     "output_type": "execute_result"
    }
   ],
   "source": [
    "df.select_dtypes(include='object')"
   ]
  },
  {
   "cell_type": "code",
   "execution_count": 36,
   "id": "5e53fd15",
   "metadata": {},
   "outputs": [],
   "source": [
    "num =df.select_dtypes(include='object')"
   ]
  },
  {
   "cell_type": "code",
   "execution_count": 37,
   "id": "fef3d06d",
   "metadata": {},
   "outputs": [
    {
     "data": {
      "application/vnd.microsoft.datawrangler.viewer.v0+json": {
       "columns": [
        {
         "name": "index",
         "rawType": "int64",
         "type": "integer"
        },
        {
         "name": "sex",
         "rawType": "object",
         "type": "string"
        },
        {
         "name": "smoker",
         "rawType": "object",
         "type": "string"
        },
        {
         "name": "region",
         "rawType": "object",
         "type": "string"
        }
       ],
       "ref": "128f90dc-3b24-460f-bcbb-72deb5b8ad2e",
       "rows": [
        [
         "0",
         "female",
         "yes",
         "southwest"
        ],
        [
         "1",
         "male",
         "no",
         "southeast"
        ],
        [
         "2",
         "male",
         "no",
         "southeast"
        ],
        [
         "3",
         "male",
         "no",
         "northwest"
        ],
        [
         "4",
         "male",
         "no",
         "northwest"
        ],
        [
         "5",
         "female",
         "no",
         "southeast"
        ],
        [
         "6",
         "female",
         "no",
         "southeast"
        ],
        [
         "7",
         "female",
         "no",
         "northwest"
        ],
        [
         "8",
         "male",
         "no",
         "northeast"
        ],
        [
         "9",
         "female",
         "no",
         "northwest"
        ],
        [
         "10",
         "male",
         "no",
         "northeast"
        ],
        [
         "11",
         "female",
         "yes",
         "southeast"
        ],
        [
         "12",
         "male",
         "no",
         "southwest"
        ],
        [
         "13",
         "female",
         "no",
         "southeast"
        ],
        [
         "14",
         "male",
         "yes",
         "southeast"
        ],
        [
         "15",
         "male",
         "no",
         "southwest"
        ],
        [
         "16",
         "female",
         "no",
         "northeast"
        ],
        [
         "17",
         "male",
         "no",
         "northeast"
        ],
        [
         "18",
         "male",
         "no",
         "southwest"
        ],
        [
         "19",
         "male",
         "yes",
         "southwest"
        ],
        [
         "20",
         "female",
         "no",
         "northeast"
        ],
        [
         "21",
         "female",
         "no",
         "southwest"
        ],
        [
         "22",
         "male",
         "no",
         "southeast"
        ],
        [
         "23",
         "female",
         "yes",
         "northeast"
        ],
        [
         "24",
         "male",
         "no",
         "northwest"
        ],
        [
         "25",
         "female",
         "no",
         "southeast"
        ],
        [
         "26",
         "female",
         "no",
         "northeast"
        ],
        [
         "27",
         "female",
         "no",
         "northwest"
        ],
        [
         "28",
         "male",
         "no",
         "northwest"
        ],
        [
         "29",
         "male",
         "yes",
         "southwest"
        ],
        [
         "30",
         "male",
         "yes",
         "southwest"
        ],
        [
         "31",
         "female",
         "no",
         "northeast"
        ],
        [
         "32",
         "female",
         "no",
         "southwest"
        ],
        [
         "33",
         "male",
         "no",
         "northwest"
        ],
        [
         "34",
         "male",
         "yes",
         "southwest"
        ],
        [
         "35",
         "male",
         "no",
         "northwest"
        ],
        [
         "36",
         "female",
         "no",
         "northwest"
        ],
        [
         "37",
         "male",
         "no",
         "southwest"
        ],
        [
         "38",
         "male",
         "yes",
         "northeast"
        ],
        [
         "39",
         "male",
         "yes",
         "southwest"
        ],
        [
         "40",
         "female",
         "no",
         "northeast"
        ],
        [
         "41",
         "female",
         "no",
         "southeast"
        ],
        [
         "42",
         "male",
         "no",
         "southeast"
        ],
        [
         "43",
         "female",
         "no",
         "southeast"
        ],
        [
         "44",
         "male",
         "no",
         "northeast"
        ],
        [
         "45",
         "male",
         "no",
         "southwest"
        ],
        [
         "46",
         "female",
         "no",
         "northeast"
        ],
        [
         "47",
         "female",
         "no",
         "northwest"
        ],
        [
         "48",
         "female",
         "no",
         "southeast"
        ],
        [
         "49",
         "male",
         "yes",
         "southeast"
        ]
       ],
       "shape": {
        "columns": 3,
        "rows": 1337
       }
      },
      "text/html": [
       "<div>\n",
       "<style scoped>\n",
       "    .dataframe tbody tr th:only-of-type {\n",
       "        vertical-align: middle;\n",
       "    }\n",
       "\n",
       "    .dataframe tbody tr th {\n",
       "        vertical-align: top;\n",
       "    }\n",
       "\n",
       "    .dataframe thead th {\n",
       "        text-align: right;\n",
       "    }\n",
       "</style>\n",
       "<table border=\"1\" class=\"dataframe\">\n",
       "  <thead>\n",
       "    <tr style=\"text-align: right;\">\n",
       "      <th></th>\n",
       "      <th>sex</th>\n",
       "      <th>smoker</th>\n",
       "      <th>region</th>\n",
       "    </tr>\n",
       "  </thead>\n",
       "  <tbody>\n",
       "    <tr>\n",
       "      <th>0</th>\n",
       "      <td>female</td>\n",
       "      <td>yes</td>\n",
       "      <td>southwest</td>\n",
       "    </tr>\n",
       "    <tr>\n",
       "      <th>1</th>\n",
       "      <td>male</td>\n",
       "      <td>no</td>\n",
       "      <td>southeast</td>\n",
       "    </tr>\n",
       "    <tr>\n",
       "      <th>2</th>\n",
       "      <td>male</td>\n",
       "      <td>no</td>\n",
       "      <td>southeast</td>\n",
       "    </tr>\n",
       "    <tr>\n",
       "      <th>3</th>\n",
       "      <td>male</td>\n",
       "      <td>no</td>\n",
       "      <td>northwest</td>\n",
       "    </tr>\n",
       "    <tr>\n",
       "      <th>4</th>\n",
       "      <td>male</td>\n",
       "      <td>no</td>\n",
       "      <td>northwest</td>\n",
       "    </tr>\n",
       "    <tr>\n",
       "      <th>...</th>\n",
       "      <td>...</td>\n",
       "      <td>...</td>\n",
       "      <td>...</td>\n",
       "    </tr>\n",
       "    <tr>\n",
       "      <th>1333</th>\n",
       "      <td>male</td>\n",
       "      <td>no</td>\n",
       "      <td>northwest</td>\n",
       "    </tr>\n",
       "    <tr>\n",
       "      <th>1334</th>\n",
       "      <td>female</td>\n",
       "      <td>no</td>\n",
       "      <td>northeast</td>\n",
       "    </tr>\n",
       "    <tr>\n",
       "      <th>1335</th>\n",
       "      <td>female</td>\n",
       "      <td>no</td>\n",
       "      <td>southeast</td>\n",
       "    </tr>\n",
       "    <tr>\n",
       "      <th>1336</th>\n",
       "      <td>female</td>\n",
       "      <td>no</td>\n",
       "      <td>southwest</td>\n",
       "    </tr>\n",
       "    <tr>\n",
       "      <th>1337</th>\n",
       "      <td>female</td>\n",
       "      <td>yes</td>\n",
       "      <td>northwest</td>\n",
       "    </tr>\n",
       "  </tbody>\n",
       "</table>\n",
       "<p>1337 rows × 3 columns</p>\n",
       "</div>"
      ],
      "text/plain": [
       "         sex smoker     region\n",
       "0     female    yes  southwest\n",
       "1       male     no  southeast\n",
       "2       male     no  southeast\n",
       "3       male     no  northwest\n",
       "4       male     no  northwest\n",
       "...      ...    ...        ...\n",
       "1333    male     no  northwest\n",
       "1334  female     no  northeast\n",
       "1335  female     no  southeast\n",
       "1336  female     no  southwest\n",
       "1337  female    yes  northwest\n",
       "\n",
       "[1337 rows x 3 columns]"
      ]
     },
     "execution_count": 37,
     "metadata": {},
     "output_type": "execute_result"
    }
   ],
   "source": [
    "num\n"
   ]
  },
  {
   "cell_type": "code",
   "execution_count": 38,
   "id": "ab658dea",
   "metadata": {},
   "outputs": [
    {
     "name": "stdout",
     "output_type": "stream",
     "text": [
      "Index(['sex', 'smoker', 'region'], dtype='object')\n"
     ]
    }
   ],
   "source": [
    "print(num.columns)"
   ]
  },
  {
   "cell_type": "code",
   "execution_count": 39,
   "id": "aa15c3c6",
   "metadata": {},
   "outputs": [
    {
     "data": {
      "application/vnd.microsoft.datawrangler.viewer.v0+json": {
       "columns": [
        {
         "name": "index",
         "rawType": "int64",
         "type": "integer"
        },
        {
         "name": "sex",
         "rawType": "object",
         "type": "string"
        },
        {
         "name": "smoker",
         "rawType": "object",
         "type": "string"
        },
        {
         "name": "region",
         "rawType": "object",
         "type": "string"
        }
       ],
       "ref": "bab1c0d4-0541-4fe5-bb06-178a603d9e86",
       "rows": [
        [
         "0",
         "female",
         "yes",
         "southwest"
        ],
        [
         "1",
         "male",
         "no",
         "southeast"
        ],
        [
         "2",
         "male",
         "no",
         "southeast"
        ],
        [
         "3",
         "male",
         "no",
         "northwest"
        ],
        [
         "4",
         "male",
         "no",
         "northwest"
        ]
       ],
       "shape": {
        "columns": 3,
        "rows": 5
       }
      },
      "text/html": [
       "<div>\n",
       "<style scoped>\n",
       "    .dataframe tbody tr th:only-of-type {\n",
       "        vertical-align: middle;\n",
       "    }\n",
       "\n",
       "    .dataframe tbody tr th {\n",
       "        vertical-align: top;\n",
       "    }\n",
       "\n",
       "    .dataframe thead th {\n",
       "        text-align: right;\n",
       "    }\n",
       "</style>\n",
       "<table border=\"1\" class=\"dataframe\">\n",
       "  <thead>\n",
       "    <tr style=\"text-align: right;\">\n",
       "      <th></th>\n",
       "      <th>sex</th>\n",
       "      <th>smoker</th>\n",
       "      <th>region</th>\n",
       "    </tr>\n",
       "  </thead>\n",
       "  <tbody>\n",
       "    <tr>\n",
       "      <th>0</th>\n",
       "      <td>female</td>\n",
       "      <td>yes</td>\n",
       "      <td>southwest</td>\n",
       "    </tr>\n",
       "    <tr>\n",
       "      <th>1</th>\n",
       "      <td>male</td>\n",
       "      <td>no</td>\n",
       "      <td>southeast</td>\n",
       "    </tr>\n",
       "    <tr>\n",
       "      <th>2</th>\n",
       "      <td>male</td>\n",
       "      <td>no</td>\n",
       "      <td>southeast</td>\n",
       "    </tr>\n",
       "    <tr>\n",
       "      <th>3</th>\n",
       "      <td>male</td>\n",
       "      <td>no</td>\n",
       "      <td>northwest</td>\n",
       "    </tr>\n",
       "    <tr>\n",
       "      <th>4</th>\n",
       "      <td>male</td>\n",
       "      <td>no</td>\n",
       "      <td>northwest</td>\n",
       "    </tr>\n",
       "  </tbody>\n",
       "</table>\n",
       "</div>"
      ],
      "text/plain": [
       "      sex smoker     region\n",
       "0  female    yes  southwest\n",
       "1    male     no  southeast\n",
       "2    male     no  southeast\n",
       "3    male     no  northwest\n",
       "4    male     no  northwest"
      ]
     },
     "execution_count": 39,
     "metadata": {},
     "output_type": "execute_result"
    }
   ],
   "source": [
    "num.head()"
   ]
  },
  {
   "cell_type": "code",
   "execution_count": 41,
   "id": "c109e9d3",
   "metadata": {},
   "outputs": [
    {
     "data": {
      "text/plain": [
       "array(['female', 'male'], dtype=object)"
      ]
     },
     "execution_count": 41,
     "metadata": {},
     "output_type": "execute_result"
    }
   ],
   "source": [
    "num['sex'].unique()"
   ]
  },
  {
   "cell_type": "code",
   "execution_count": 43,
   "id": "7966b31e",
   "metadata": {},
   "outputs": [],
   "source": [
    "from sklearn.preprocessing import LabelEncoder\n",
    "le =LabelEncoder()\n",
    "\n",
    "df['region'] =le.fit_transform(df['region'])"
   ]
  },
  {
   "cell_type": "code",
   "execution_count": 44,
   "id": "17e8878f",
   "metadata": {},
   "outputs": [
    {
     "data": {
      "application/vnd.microsoft.datawrangler.viewer.v0+json": {
       "columns": [
        {
         "name": "index",
         "rawType": "int64",
         "type": "integer"
        },
        {
         "name": "sex",
         "rawType": "object",
         "type": "string"
        },
        {
         "name": "smoker",
         "rawType": "object",
         "type": "string"
        },
        {
         "name": "region",
         "rawType": "object",
         "type": "string"
        }
       ],
       "ref": "254c95e9-febe-4497-8c67-cf75940bde2b",
       "rows": [
        [
         "0",
         "female",
         "yes",
         "southwest"
        ],
        [
         "1",
         "male",
         "no",
         "southeast"
        ],
        [
         "2",
         "male",
         "no",
         "southeast"
        ],
        [
         "3",
         "male",
         "no",
         "northwest"
        ],
        [
         "4",
         "male",
         "no",
         "northwest"
        ],
        [
         "5",
         "female",
         "no",
         "southeast"
        ],
        [
         "6",
         "female",
         "no",
         "southeast"
        ],
        [
         "7",
         "female",
         "no",
         "northwest"
        ],
        [
         "8",
         "male",
         "no",
         "northeast"
        ],
        [
         "9",
         "female",
         "no",
         "northwest"
        ],
        [
         "10",
         "male",
         "no",
         "northeast"
        ],
        [
         "11",
         "female",
         "yes",
         "southeast"
        ],
        [
         "12",
         "male",
         "no",
         "southwest"
        ],
        [
         "13",
         "female",
         "no",
         "southeast"
        ],
        [
         "14",
         "male",
         "yes",
         "southeast"
        ],
        [
         "15",
         "male",
         "no",
         "southwest"
        ],
        [
         "16",
         "female",
         "no",
         "northeast"
        ],
        [
         "17",
         "male",
         "no",
         "northeast"
        ],
        [
         "18",
         "male",
         "no",
         "southwest"
        ],
        [
         "19",
         "male",
         "yes",
         "southwest"
        ],
        [
         "20",
         "female",
         "no",
         "northeast"
        ],
        [
         "21",
         "female",
         "no",
         "southwest"
        ],
        [
         "22",
         "male",
         "no",
         "southeast"
        ],
        [
         "23",
         "female",
         "yes",
         "northeast"
        ],
        [
         "24",
         "male",
         "no",
         "northwest"
        ],
        [
         "25",
         "female",
         "no",
         "southeast"
        ],
        [
         "26",
         "female",
         "no",
         "northeast"
        ],
        [
         "27",
         "female",
         "no",
         "northwest"
        ],
        [
         "28",
         "male",
         "no",
         "northwest"
        ],
        [
         "29",
         "male",
         "yes",
         "southwest"
        ],
        [
         "30",
         "male",
         "yes",
         "southwest"
        ],
        [
         "31",
         "female",
         "no",
         "northeast"
        ],
        [
         "32",
         "female",
         "no",
         "southwest"
        ],
        [
         "33",
         "male",
         "no",
         "northwest"
        ],
        [
         "34",
         "male",
         "yes",
         "southwest"
        ],
        [
         "35",
         "male",
         "no",
         "northwest"
        ],
        [
         "36",
         "female",
         "no",
         "northwest"
        ],
        [
         "37",
         "male",
         "no",
         "southwest"
        ],
        [
         "38",
         "male",
         "yes",
         "northeast"
        ],
        [
         "39",
         "male",
         "yes",
         "southwest"
        ],
        [
         "40",
         "female",
         "no",
         "northeast"
        ],
        [
         "41",
         "female",
         "no",
         "southeast"
        ],
        [
         "42",
         "male",
         "no",
         "southeast"
        ],
        [
         "43",
         "female",
         "no",
         "southeast"
        ],
        [
         "44",
         "male",
         "no",
         "northeast"
        ],
        [
         "45",
         "male",
         "no",
         "southwest"
        ],
        [
         "46",
         "female",
         "no",
         "northeast"
        ],
        [
         "47",
         "female",
         "no",
         "northwest"
        ],
        [
         "48",
         "female",
         "no",
         "southeast"
        ],
        [
         "49",
         "male",
         "yes",
         "southeast"
        ]
       ],
       "shape": {
        "columns": 3,
        "rows": 1337
       }
      },
      "text/html": [
       "<div>\n",
       "<style scoped>\n",
       "    .dataframe tbody tr th:only-of-type {\n",
       "        vertical-align: middle;\n",
       "    }\n",
       "\n",
       "    .dataframe tbody tr th {\n",
       "        vertical-align: top;\n",
       "    }\n",
       "\n",
       "    .dataframe thead th {\n",
       "        text-align: right;\n",
       "    }\n",
       "</style>\n",
       "<table border=\"1\" class=\"dataframe\">\n",
       "  <thead>\n",
       "    <tr style=\"text-align: right;\">\n",
       "      <th></th>\n",
       "      <th>sex</th>\n",
       "      <th>smoker</th>\n",
       "      <th>region</th>\n",
       "    </tr>\n",
       "  </thead>\n",
       "  <tbody>\n",
       "    <tr>\n",
       "      <th>0</th>\n",
       "      <td>female</td>\n",
       "      <td>yes</td>\n",
       "      <td>southwest</td>\n",
       "    </tr>\n",
       "    <tr>\n",
       "      <th>1</th>\n",
       "      <td>male</td>\n",
       "      <td>no</td>\n",
       "      <td>southeast</td>\n",
       "    </tr>\n",
       "    <tr>\n",
       "      <th>2</th>\n",
       "      <td>male</td>\n",
       "      <td>no</td>\n",
       "      <td>southeast</td>\n",
       "    </tr>\n",
       "    <tr>\n",
       "      <th>3</th>\n",
       "      <td>male</td>\n",
       "      <td>no</td>\n",
       "      <td>northwest</td>\n",
       "    </tr>\n",
       "    <tr>\n",
       "      <th>4</th>\n",
       "      <td>male</td>\n",
       "      <td>no</td>\n",
       "      <td>northwest</td>\n",
       "    </tr>\n",
       "    <tr>\n",
       "      <th>...</th>\n",
       "      <td>...</td>\n",
       "      <td>...</td>\n",
       "      <td>...</td>\n",
       "    </tr>\n",
       "    <tr>\n",
       "      <th>1333</th>\n",
       "      <td>male</td>\n",
       "      <td>no</td>\n",
       "      <td>northwest</td>\n",
       "    </tr>\n",
       "    <tr>\n",
       "      <th>1334</th>\n",
       "      <td>female</td>\n",
       "      <td>no</td>\n",
       "      <td>northeast</td>\n",
       "    </tr>\n",
       "    <tr>\n",
       "      <th>1335</th>\n",
       "      <td>female</td>\n",
       "      <td>no</td>\n",
       "      <td>southeast</td>\n",
       "    </tr>\n",
       "    <tr>\n",
       "      <th>1336</th>\n",
       "      <td>female</td>\n",
       "      <td>no</td>\n",
       "      <td>southwest</td>\n",
       "    </tr>\n",
       "    <tr>\n",
       "      <th>1337</th>\n",
       "      <td>female</td>\n",
       "      <td>yes</td>\n",
       "      <td>northwest</td>\n",
       "    </tr>\n",
       "  </tbody>\n",
       "</table>\n",
       "<p>1337 rows × 3 columns</p>\n",
       "</div>"
      ],
      "text/plain": [
       "         sex smoker     region\n",
       "0     female    yes  southwest\n",
       "1       male     no  southeast\n",
       "2       male     no  southeast\n",
       "3       male     no  northwest\n",
       "4       male     no  northwest\n",
       "...      ...    ...        ...\n",
       "1333    male     no  northwest\n",
       "1334  female     no  northeast\n",
       "1335  female     no  southeast\n",
       "1336  female     no  southwest\n",
       "1337  female    yes  northwest\n",
       "\n",
       "[1337 rows x 3 columns]"
      ]
     },
     "execution_count": 44,
     "metadata": {},
     "output_type": "execute_result"
    }
   ],
   "source": [
    "num\n"
   ]
  },
  {
   "cell_type": "code",
   "execution_count": 45,
   "id": "ef51cf19",
   "metadata": {},
   "outputs": [
    {
     "data": {
      "application/vnd.microsoft.datawrangler.viewer.v0+json": {
       "columns": [
        {
         "name": "index",
         "rawType": "int64",
         "type": "integer"
        },
        {
         "name": "a",
         "rawType": "int64",
         "type": "integer"
        },
        {
         "name": "sex",
         "rawType": "object",
         "type": "string"
        },
        {
         "name": "bmi",
         "rawType": "float64",
         "type": "float"
        },
        {
         "name": "children",
         "rawType": "int64",
         "type": "integer"
        },
        {
         "name": "smoker",
         "rawType": "object",
         "type": "string"
        },
        {
         "name": "region",
         "rawType": "int64",
         "type": "integer"
        },
        {
         "name": "charges",
         "rawType": "float64",
         "type": "float"
        }
       ],
       "ref": "5db01602-3032-4033-b81b-8123d1a0b923",
       "rows": [
        [
         "0",
         "19",
         "female",
         "27.9",
         "0",
         "yes",
         "3",
         "16884.924"
        ],
        [
         "1",
         "18",
         "male",
         "33.77",
         "1",
         "no",
         "2",
         "1725.5523"
        ],
        [
         "2",
         "28",
         "male",
         "33.0",
         "3",
         "no",
         "2",
         "4449.462"
        ],
        [
         "3",
         "33",
         "male",
         "22.705",
         "0",
         "no",
         "1",
         "21984.47061"
        ],
        [
         "4",
         "32",
         "male",
         "28.88",
         "0",
         "no",
         "1",
         "3866.8552"
        ],
        [
         "5",
         "31",
         "female",
         "25.74",
         "0",
         "no",
         "2",
         "3756.6216"
        ],
        [
         "6",
         "46",
         "female",
         "33.44",
         "1",
         "no",
         "2",
         "8240.5896"
        ],
        [
         "7",
         "37",
         "female",
         "27.74",
         "3",
         "no",
         "1",
         "7281.5056"
        ],
        [
         "8",
         "37",
         "male",
         "29.83",
         "2",
         "no",
         "0",
         "6406.4107"
        ],
        [
         "9",
         "60",
         "female",
         "25.84",
         "0",
         "no",
         "1",
         "28923.13692"
        ],
        [
         "10",
         "25",
         "male",
         "26.22",
         "0",
         "no",
         "0",
         "2721.3208"
        ],
        [
         "11",
         "62",
         "female",
         "26.29",
         "0",
         "yes",
         "2",
         "27808.7251"
        ],
        [
         "12",
         "23",
         "male",
         "34.4",
         "0",
         "no",
         "3",
         "1826.843"
        ],
        [
         "13",
         "56",
         "female",
         "39.82",
         "0",
         "no",
         "2",
         "11090.7178"
        ],
        [
         "14",
         "27",
         "male",
         "42.13",
         "0",
         "yes",
         "2",
         "39611.7577"
        ],
        [
         "15",
         "19",
         "male",
         "24.6",
         "1",
         "no",
         "3",
         "1837.237"
        ],
        [
         "16",
         "52",
         "female",
         "30.78",
         "1",
         "no",
         "0",
         "10797.3362"
        ],
        [
         "17",
         "23",
         "male",
         "23.845",
         "0",
         "no",
         "0",
         "2395.17155"
        ],
        [
         "18",
         "56",
         "male",
         "40.3",
         "0",
         "no",
         "3",
         "10602.385"
        ],
        [
         "19",
         "30",
         "male",
         "35.3",
         "0",
         "yes",
         "3",
         "36837.467"
        ],
        [
         "20",
         "60",
         "female",
         "36.005",
         "0",
         "no",
         "0",
         "13228.84695"
        ],
        [
         "21",
         "30",
         "female",
         "32.4",
         "1",
         "no",
         "3",
         "4149.736"
        ],
        [
         "22",
         "18",
         "male",
         "34.1",
         "0",
         "no",
         "2",
         "1137.011"
        ],
        [
         "23",
         "34",
         "female",
         "31.92",
         "1",
         "yes",
         "0",
         "37701.8768"
        ],
        [
         "24",
         "37",
         "male",
         "28.025",
         "2",
         "no",
         "1",
         "6203.90175"
        ],
        [
         "25",
         "59",
         "female",
         "27.72",
         "3",
         "no",
         "2",
         "14001.1338"
        ],
        [
         "26",
         "63",
         "female",
         "23.085",
         "0",
         "no",
         "0",
         "14451.83515"
        ],
        [
         "27",
         "55",
         "female",
         "32.775",
         "2",
         "no",
         "1",
         "12268.63225"
        ],
        [
         "28",
         "23",
         "male",
         "17.385",
         "1",
         "no",
         "1",
         "2775.19215"
        ],
        [
         "29",
         "31",
         "male",
         "36.3",
         "2",
         "yes",
         "3",
         "38711.0"
        ],
        [
         "30",
         "22",
         "male",
         "35.6",
         "0",
         "yes",
         "3",
         "35585.576"
        ],
        [
         "31",
         "18",
         "female",
         "26.315",
         "0",
         "no",
         "0",
         "2198.18985"
        ],
        [
         "32",
         "19",
         "female",
         "28.6",
         "5",
         "no",
         "3",
         "4687.797"
        ],
        [
         "33",
         "63",
         "male",
         "28.31",
         "0",
         "no",
         "1",
         "13770.0979"
        ],
        [
         "34",
         "28",
         "male",
         "36.4",
         "1",
         "yes",
         "3",
         "51194.55914"
        ],
        [
         "35",
         "19",
         "male",
         "20.425",
         "0",
         "no",
         "1",
         "1625.43375"
        ],
        [
         "36",
         "62",
         "female",
         "32.965",
         "3",
         "no",
         "1",
         "15612.19335"
        ],
        [
         "37",
         "26",
         "male",
         "20.8",
         "0",
         "no",
         "3",
         "2302.3"
        ],
        [
         "38",
         "35",
         "male",
         "36.67",
         "1",
         "yes",
         "0",
         "39774.2763"
        ],
        [
         "39",
         "60",
         "male",
         "39.9",
         "0",
         "yes",
         "3",
         "48173.361"
        ],
        [
         "40",
         "24",
         "female",
         "26.6",
         "0",
         "no",
         "0",
         "3046.062"
        ],
        [
         "41",
         "31",
         "female",
         "36.63",
         "2",
         "no",
         "2",
         "4949.7587"
        ],
        [
         "42",
         "41",
         "male",
         "21.78",
         "1",
         "no",
         "2",
         "6272.4772"
        ],
        [
         "43",
         "37",
         "female",
         "30.8",
         "2",
         "no",
         "2",
         "6313.759"
        ],
        [
         "44",
         "38",
         "male",
         "37.05",
         "1",
         "no",
         "0",
         "6079.6715"
        ],
        [
         "45",
         "55",
         "male",
         "37.3",
         "0",
         "no",
         "3",
         "20630.28351"
        ],
        [
         "46",
         "18",
         "female",
         "38.665",
         "2",
         "no",
         "0",
         "3393.35635"
        ],
        [
         "47",
         "28",
         "female",
         "34.77",
         "0",
         "no",
         "1",
         "3556.9223"
        ],
        [
         "48",
         "60",
         "female",
         "24.53",
         "0",
         "no",
         "2",
         "12629.8967"
        ],
        [
         "49",
         "36",
         "male",
         "35.2",
         "1",
         "yes",
         "2",
         "38709.176"
        ]
       ],
       "shape": {
        "columns": 7,
        "rows": 1337
       }
      },
      "text/html": [
       "<div>\n",
       "<style scoped>\n",
       "    .dataframe tbody tr th:only-of-type {\n",
       "        vertical-align: middle;\n",
       "    }\n",
       "\n",
       "    .dataframe tbody tr th {\n",
       "        vertical-align: top;\n",
       "    }\n",
       "\n",
       "    .dataframe thead th {\n",
       "        text-align: right;\n",
       "    }\n",
       "</style>\n",
       "<table border=\"1\" class=\"dataframe\">\n",
       "  <thead>\n",
       "    <tr style=\"text-align: right;\">\n",
       "      <th></th>\n",
       "      <th>a</th>\n",
       "      <th>sex</th>\n",
       "      <th>bmi</th>\n",
       "      <th>children</th>\n",
       "      <th>smoker</th>\n",
       "      <th>region</th>\n",
       "      <th>charges</th>\n",
       "    </tr>\n",
       "  </thead>\n",
       "  <tbody>\n",
       "    <tr>\n",
       "      <th>0</th>\n",
       "      <td>19</td>\n",
       "      <td>female</td>\n",
       "      <td>27.900</td>\n",
       "      <td>0</td>\n",
       "      <td>yes</td>\n",
       "      <td>3</td>\n",
       "      <td>16884.92400</td>\n",
       "    </tr>\n",
       "    <tr>\n",
       "      <th>1</th>\n",
       "      <td>18</td>\n",
       "      <td>male</td>\n",
       "      <td>33.770</td>\n",
       "      <td>1</td>\n",
       "      <td>no</td>\n",
       "      <td>2</td>\n",
       "      <td>1725.55230</td>\n",
       "    </tr>\n",
       "    <tr>\n",
       "      <th>2</th>\n",
       "      <td>28</td>\n",
       "      <td>male</td>\n",
       "      <td>33.000</td>\n",
       "      <td>3</td>\n",
       "      <td>no</td>\n",
       "      <td>2</td>\n",
       "      <td>4449.46200</td>\n",
       "    </tr>\n",
       "    <tr>\n",
       "      <th>3</th>\n",
       "      <td>33</td>\n",
       "      <td>male</td>\n",
       "      <td>22.705</td>\n",
       "      <td>0</td>\n",
       "      <td>no</td>\n",
       "      <td>1</td>\n",
       "      <td>21984.47061</td>\n",
       "    </tr>\n",
       "    <tr>\n",
       "      <th>4</th>\n",
       "      <td>32</td>\n",
       "      <td>male</td>\n",
       "      <td>28.880</td>\n",
       "      <td>0</td>\n",
       "      <td>no</td>\n",
       "      <td>1</td>\n",
       "      <td>3866.85520</td>\n",
       "    </tr>\n",
       "    <tr>\n",
       "      <th>...</th>\n",
       "      <td>...</td>\n",
       "      <td>...</td>\n",
       "      <td>...</td>\n",
       "      <td>...</td>\n",
       "      <td>...</td>\n",
       "      <td>...</td>\n",
       "      <td>...</td>\n",
       "    </tr>\n",
       "    <tr>\n",
       "      <th>1333</th>\n",
       "      <td>50</td>\n",
       "      <td>male</td>\n",
       "      <td>30.970</td>\n",
       "      <td>3</td>\n",
       "      <td>no</td>\n",
       "      <td>1</td>\n",
       "      <td>10600.54830</td>\n",
       "    </tr>\n",
       "    <tr>\n",
       "      <th>1334</th>\n",
       "      <td>18</td>\n",
       "      <td>female</td>\n",
       "      <td>31.920</td>\n",
       "      <td>0</td>\n",
       "      <td>no</td>\n",
       "      <td>0</td>\n",
       "      <td>2205.98080</td>\n",
       "    </tr>\n",
       "    <tr>\n",
       "      <th>1335</th>\n",
       "      <td>18</td>\n",
       "      <td>female</td>\n",
       "      <td>36.850</td>\n",
       "      <td>0</td>\n",
       "      <td>no</td>\n",
       "      <td>2</td>\n",
       "      <td>1629.83350</td>\n",
       "    </tr>\n",
       "    <tr>\n",
       "      <th>1336</th>\n",
       "      <td>21</td>\n",
       "      <td>female</td>\n",
       "      <td>25.800</td>\n",
       "      <td>0</td>\n",
       "      <td>no</td>\n",
       "      <td>3</td>\n",
       "      <td>2007.94500</td>\n",
       "    </tr>\n",
       "    <tr>\n",
       "      <th>1337</th>\n",
       "      <td>61</td>\n",
       "      <td>female</td>\n",
       "      <td>29.070</td>\n",
       "      <td>0</td>\n",
       "      <td>yes</td>\n",
       "      <td>1</td>\n",
       "      <td>29141.36030</td>\n",
       "    </tr>\n",
       "  </tbody>\n",
       "</table>\n",
       "<p>1337 rows × 7 columns</p>\n",
       "</div>"
      ],
      "text/plain": [
       "       a     sex     bmi  children smoker  region      charges\n",
       "0     19  female  27.900         0    yes       3  16884.92400\n",
       "1     18    male  33.770         1     no       2   1725.55230\n",
       "2     28    male  33.000         3     no       2   4449.46200\n",
       "3     33    male  22.705         0     no       1  21984.47061\n",
       "4     32    male  28.880         0     no       1   3866.85520\n",
       "...   ..     ...     ...       ...    ...     ...          ...\n",
       "1333  50    male  30.970         3     no       1  10600.54830\n",
       "1334  18  female  31.920         0     no       0   2205.98080\n",
       "1335  18  female  36.850         0     no       2   1629.83350\n",
       "1336  21  female  25.800         0     no       3   2007.94500\n",
       "1337  61  female  29.070         0    yes       1  29141.36030\n",
       "\n",
       "[1337 rows x 7 columns]"
      ]
     },
     "execution_count": 45,
     "metadata": {},
     "output_type": "execute_result"
    }
   ],
   "source": [
    "df\n"
   ]
  },
  {
   "cell_type": "code",
   "execution_count": 46,
   "id": "7b52c709",
   "metadata": {},
   "outputs": [],
   "source": [
    "clean_data =pd.concat([num],axis =1)"
   ]
  },
  {
   "cell_type": "code",
   "execution_count": 47,
   "id": "d135a0b9",
   "metadata": {},
   "outputs": [
    {
     "data": {
      "application/vnd.microsoft.datawrangler.viewer.v0+json": {
       "columns": [
        {
         "name": "index",
         "rawType": "int64",
         "type": "integer"
        },
        {
         "name": "sex",
         "rawType": "object",
         "type": "string"
        },
        {
         "name": "smoker",
         "rawType": "object",
         "type": "string"
        },
        {
         "name": "region",
         "rawType": "object",
         "type": "string"
        }
       ],
       "ref": "8fe7e21a-c469-411a-aae3-9660fe5ed8a7",
       "rows": [
        [
         "0",
         "female",
         "yes",
         "southwest"
        ],
        [
         "1",
         "male",
         "no",
         "southeast"
        ],
        [
         "2",
         "male",
         "no",
         "southeast"
        ],
        [
         "3",
         "male",
         "no",
         "northwest"
        ],
        [
         "4",
         "male",
         "no",
         "northwest"
        ],
        [
         "5",
         "female",
         "no",
         "southeast"
        ],
        [
         "6",
         "female",
         "no",
         "southeast"
        ],
        [
         "7",
         "female",
         "no",
         "northwest"
        ],
        [
         "8",
         "male",
         "no",
         "northeast"
        ],
        [
         "9",
         "female",
         "no",
         "northwest"
        ],
        [
         "10",
         "male",
         "no",
         "northeast"
        ],
        [
         "11",
         "female",
         "yes",
         "southeast"
        ],
        [
         "12",
         "male",
         "no",
         "southwest"
        ],
        [
         "13",
         "female",
         "no",
         "southeast"
        ],
        [
         "14",
         "male",
         "yes",
         "southeast"
        ],
        [
         "15",
         "male",
         "no",
         "southwest"
        ],
        [
         "16",
         "female",
         "no",
         "northeast"
        ],
        [
         "17",
         "male",
         "no",
         "northeast"
        ],
        [
         "18",
         "male",
         "no",
         "southwest"
        ],
        [
         "19",
         "male",
         "yes",
         "southwest"
        ],
        [
         "20",
         "female",
         "no",
         "northeast"
        ],
        [
         "21",
         "female",
         "no",
         "southwest"
        ],
        [
         "22",
         "male",
         "no",
         "southeast"
        ],
        [
         "23",
         "female",
         "yes",
         "northeast"
        ],
        [
         "24",
         "male",
         "no",
         "northwest"
        ],
        [
         "25",
         "female",
         "no",
         "southeast"
        ],
        [
         "26",
         "female",
         "no",
         "northeast"
        ],
        [
         "27",
         "female",
         "no",
         "northwest"
        ],
        [
         "28",
         "male",
         "no",
         "northwest"
        ],
        [
         "29",
         "male",
         "yes",
         "southwest"
        ],
        [
         "30",
         "male",
         "yes",
         "southwest"
        ],
        [
         "31",
         "female",
         "no",
         "northeast"
        ],
        [
         "32",
         "female",
         "no",
         "southwest"
        ],
        [
         "33",
         "male",
         "no",
         "northwest"
        ],
        [
         "34",
         "male",
         "yes",
         "southwest"
        ],
        [
         "35",
         "male",
         "no",
         "northwest"
        ],
        [
         "36",
         "female",
         "no",
         "northwest"
        ],
        [
         "37",
         "male",
         "no",
         "southwest"
        ],
        [
         "38",
         "male",
         "yes",
         "northeast"
        ],
        [
         "39",
         "male",
         "yes",
         "southwest"
        ],
        [
         "40",
         "female",
         "no",
         "northeast"
        ],
        [
         "41",
         "female",
         "no",
         "southeast"
        ],
        [
         "42",
         "male",
         "no",
         "southeast"
        ],
        [
         "43",
         "female",
         "no",
         "southeast"
        ],
        [
         "44",
         "male",
         "no",
         "northeast"
        ],
        [
         "45",
         "male",
         "no",
         "southwest"
        ],
        [
         "46",
         "female",
         "no",
         "northeast"
        ],
        [
         "47",
         "female",
         "no",
         "northwest"
        ],
        [
         "48",
         "female",
         "no",
         "southeast"
        ],
        [
         "49",
         "male",
         "yes",
         "southeast"
        ]
       ],
       "shape": {
        "columns": 3,
        "rows": 1337
       }
      },
      "text/html": [
       "<div>\n",
       "<style scoped>\n",
       "    .dataframe tbody tr th:only-of-type {\n",
       "        vertical-align: middle;\n",
       "    }\n",
       "\n",
       "    .dataframe tbody tr th {\n",
       "        vertical-align: top;\n",
       "    }\n",
       "\n",
       "    .dataframe thead th {\n",
       "        text-align: right;\n",
       "    }\n",
       "</style>\n",
       "<table border=\"1\" class=\"dataframe\">\n",
       "  <thead>\n",
       "    <tr style=\"text-align: right;\">\n",
       "      <th></th>\n",
       "      <th>sex</th>\n",
       "      <th>smoker</th>\n",
       "      <th>region</th>\n",
       "    </tr>\n",
       "  </thead>\n",
       "  <tbody>\n",
       "    <tr>\n",
       "      <th>0</th>\n",
       "      <td>female</td>\n",
       "      <td>yes</td>\n",
       "      <td>southwest</td>\n",
       "    </tr>\n",
       "    <tr>\n",
       "      <th>1</th>\n",
       "      <td>male</td>\n",
       "      <td>no</td>\n",
       "      <td>southeast</td>\n",
       "    </tr>\n",
       "    <tr>\n",
       "      <th>2</th>\n",
       "      <td>male</td>\n",
       "      <td>no</td>\n",
       "      <td>southeast</td>\n",
       "    </tr>\n",
       "    <tr>\n",
       "      <th>3</th>\n",
       "      <td>male</td>\n",
       "      <td>no</td>\n",
       "      <td>northwest</td>\n",
       "    </tr>\n",
       "    <tr>\n",
       "      <th>4</th>\n",
       "      <td>male</td>\n",
       "      <td>no</td>\n",
       "      <td>northwest</td>\n",
       "    </tr>\n",
       "    <tr>\n",
       "      <th>...</th>\n",
       "      <td>...</td>\n",
       "      <td>...</td>\n",
       "      <td>...</td>\n",
       "    </tr>\n",
       "    <tr>\n",
       "      <th>1333</th>\n",
       "      <td>male</td>\n",
       "      <td>no</td>\n",
       "      <td>northwest</td>\n",
       "    </tr>\n",
       "    <tr>\n",
       "      <th>1334</th>\n",
       "      <td>female</td>\n",
       "      <td>no</td>\n",
       "      <td>northeast</td>\n",
       "    </tr>\n",
       "    <tr>\n",
       "      <th>1335</th>\n",
       "      <td>female</td>\n",
       "      <td>no</td>\n",
       "      <td>southeast</td>\n",
       "    </tr>\n",
       "    <tr>\n",
       "      <th>1336</th>\n",
       "      <td>female</td>\n",
       "      <td>no</td>\n",
       "      <td>southwest</td>\n",
       "    </tr>\n",
       "    <tr>\n",
       "      <th>1337</th>\n",
       "      <td>female</td>\n",
       "      <td>yes</td>\n",
       "      <td>northwest</td>\n",
       "    </tr>\n",
       "  </tbody>\n",
       "</table>\n",
       "<p>1337 rows × 3 columns</p>\n",
       "</div>"
      ],
      "text/plain": [
       "         sex smoker     region\n",
       "0     female    yes  southwest\n",
       "1       male     no  southeast\n",
       "2       male     no  southeast\n",
       "3       male     no  northwest\n",
       "4       male     no  northwest\n",
       "...      ...    ...        ...\n",
       "1333    male     no  northwest\n",
       "1334  female     no  northeast\n",
       "1335  female     no  southeast\n",
       "1336  female     no  southwest\n",
       "1337  female    yes  northwest\n",
       "\n",
       "[1337 rows x 3 columns]"
      ]
     },
     "execution_count": 47,
     "metadata": {},
     "output_type": "execute_result"
    }
   ],
   "source": [
    "clean_data"
   ]
  }
 ],
 "metadata": {
  "kernelspec": {
   "display_name": "Python 3",
   "language": "python",
   "name": "python3"
  },
  "language_info": {
   "codemirror_mode": {
    "name": "ipython",
    "version": 3
   },
   "file_extension": ".py",
   "mimetype": "text/x-python",
   "name": "python",
   "nbconvert_exporter": "python",
   "pygments_lexer": "ipython3",
   "version": "3.11.9"
  }
 },
 "nbformat": 4,
 "nbformat_minor": 5
}
