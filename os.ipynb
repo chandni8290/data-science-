{
 "cells": [
  {
   "cell_type": "markdown",
   "id": "cbe5a347",
   "metadata": {},
   "source": [
    "OS"
   ]
  }
 ],
 "metadata": {
  "language_info": {
   "name": "python"
  }
 },
 "nbformat": 4,
 "nbformat_minor": 5
}
